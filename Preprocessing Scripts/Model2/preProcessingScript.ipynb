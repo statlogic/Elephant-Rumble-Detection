{
 "cells": [
  {
   "cell_type": "code",
   "execution_count": 1,
   "metadata": {},
   "outputs": [],
   "source": [
    "import pandas as pd\n",
    "import numpy as np\n",
    "import os\n",
    "import pafy\n",
    "from tqdm import tqdm"
   ]
  },
  {
   "cell_type": "code",
   "execution_count": 5,
   "metadata": {},
   "outputs": [],
   "source": [
    "import warnings\n",
    "warnings.simplefilter(\"ignore\")"
   ]
  },
  {
   "cell_type": "code",
   "execution_count": 3,
   "metadata": {},
   "outputs": [],
   "source": [
    "data = './audioSetCSVs/unbalanced_train_segments.csv'"
   ]
  },
  {
   "cell_type": "code",
   "execution_count": 4,
   "metadata": {},
   "outputs": [],
   "source": [
    "df = pd.read_csv(data,sep=', ',engine='python')"
   ]
  },
  {
   "cell_type": "code",
   "execution_count": 5,
   "metadata": {},
   "outputs": [],
   "source": [
    "df['positive_labels'] = df['positive_labels'].apply(lambda x: x[1:-1].split(','))"
   ]
  },
  {
   "cell_type": "code",
   "execution_count": 10,
   "metadata": {},
   "outputs": [
    {
     "data": {
      "text/plain": [
       "2041789"
      ]
     },
     "execution_count": 10,
     "metadata": {},
     "output_type": "execute_result"
    }
   ],
   "source": [
    "len(df)"
   ]
  },
  {
   "cell_type": "code",
   "execution_count": 7,
   "metadata": {},
   "outputs": [],
   "source": [
    "speech = '/m/09x0r'"
   ]
  },
  {
   "cell_type": "code",
   "execution_count": 13,
   "metadata": {},
   "outputs": [],
   "source": [
    "# x = df['positive_labels'].apply(lambda x: True if chainSaw in x else False)\n",
    "speechDF = df[df['positive_labels'].apply(lambda x: True if (speech in x and len(x)==1) else False)]\n",
    "speechDF.reset_index(inplace = True)\n",
    "speechDF = speechDF.drop(['index'],axis=1)\n",
    "speechDF['videoURL'] = 'https://www.youtube.com/watch?start='+ speechDF['start_seconds'].astype(str) +'&end='+ speechDF['end_seconds'].astype(str) +'&v='+ speechDF['YTID'].astype(str) +'&feature=youtu.be'\n",
    "speechDF = speechDF.drop(['positive_labels'],axis=1)\n"
   ]
  },
  {
   "cell_type": "code",
   "execution_count": 14,
   "metadata": {},
   "outputs": [
    {
     "data": {
      "text/html": [
       "<div>\n",
       "<style scoped>\n",
       "    .dataframe tbody tr th:only-of-type {\n",
       "        vertical-align: middle;\n",
       "    }\n",
       "\n",
       "    .dataframe tbody tr th {\n",
       "        vertical-align: top;\n",
       "    }\n",
       "\n",
       "    .dataframe thead th {\n",
       "        text-align: right;\n",
       "    }\n",
       "</style>\n",
       "<table border=\"1\" class=\"dataframe\">\n",
       "  <thead>\n",
       "    <tr style=\"text-align: right;\">\n",
       "      <th></th>\n",
       "      <th>YTID</th>\n",
       "      <th>start_seconds</th>\n",
       "      <th>end_seconds</th>\n",
       "      <th>videoURL</th>\n",
       "    </tr>\n",
       "  </thead>\n",
       "  <tbody>\n",
       "    <tr>\n",
       "      <th>0</th>\n",
       "      <td>---2_BBVHAA</td>\n",
       "      <td>30.0</td>\n",
       "      <td>40.0</td>\n",
       "      <td>https://www.youtube.com/watch?start=30.0&amp;end=4...</td>\n",
       "    </tr>\n",
       "    <tr>\n",
       "      <th>1</th>\n",
       "      <td>---qub7uxgs</td>\n",
       "      <td>30.0</td>\n",
       "      <td>40.0</td>\n",
       "      <td>https://www.youtube.com/watch?start=30.0&amp;end=4...</td>\n",
       "    </tr>\n",
       "    <tr>\n",
       "      <th>2</th>\n",
       "      <td>--0B3G_C3qc</td>\n",
       "      <td>10.0</td>\n",
       "      <td>20.0</td>\n",
       "      <td>https://www.youtube.com/watch?start=10.0&amp;end=2...</td>\n",
       "    </tr>\n",
       "    <tr>\n",
       "      <th>3</th>\n",
       "      <td>--0CNhurbZE</td>\n",
       "      <td>30.0</td>\n",
       "      <td>40.0</td>\n",
       "      <td>https://www.youtube.com/watch?start=30.0&amp;end=4...</td>\n",
       "    </tr>\n",
       "    <tr>\n",
       "      <th>4</th>\n",
       "      <td>--0F7kbzAMA</td>\n",
       "      <td>30.0</td>\n",
       "      <td>40.0</td>\n",
       "      <td>https://www.youtube.com/watch?start=30.0&amp;end=4...</td>\n",
       "    </tr>\n",
       "    <tr>\n",
       "      <th>...</th>\n",
       "      <td>...</td>\n",
       "      <td>...</td>\n",
       "      <td>...</td>\n",
       "      <td>...</td>\n",
       "    </tr>\n",
       "    <tr>\n",
       "      <th>440187</th>\n",
       "      <td>zzvOEksj2V0</td>\n",
       "      <td>30.0</td>\n",
       "      <td>40.0</td>\n",
       "      <td>https://www.youtube.com/watch?start=30.0&amp;end=4...</td>\n",
       "    </tr>\n",
       "    <tr>\n",
       "      <th>440188</th>\n",
       "      <td>zzvcpIB9amA</td>\n",
       "      <td>13.0</td>\n",
       "      <td>23.0</td>\n",
       "      <td>https://www.youtube.com/watch?start=13.0&amp;end=2...</td>\n",
       "    </tr>\n",
       "    <tr>\n",
       "      <th>440189</th>\n",
       "      <td>zzxK96M3XVY</td>\n",
       "      <td>110.0</td>\n",
       "      <td>120.0</td>\n",
       "      <td>https://www.youtube.com/watch?start=110.0&amp;end=...</td>\n",
       "    </tr>\n",
       "    <tr>\n",
       "      <th>440190</th>\n",
       "      <td>zzxUh44r4Wg</td>\n",
       "      <td>30.0</td>\n",
       "      <td>40.0</td>\n",
       "      <td>https://www.youtube.com/watch?start=30.0&amp;end=4...</td>\n",
       "    </tr>\n",
       "    <tr>\n",
       "      <th>440191</th>\n",
       "      <td>zzxXdFWb-LM</td>\n",
       "      <td>50.0</td>\n",
       "      <td>60.0</td>\n",
       "      <td>https://www.youtube.com/watch?start=50.0&amp;end=6...</td>\n",
       "    </tr>\n",
       "  </tbody>\n",
       "</table>\n",
       "<p>440192 rows × 4 columns</p>\n",
       "</div>"
      ],
      "text/plain": [
       "               YTID  start_seconds  end_seconds  \\\n",
       "0       ---2_BBVHAA           30.0         40.0   \n",
       "1       ---qub7uxgs           30.0         40.0   \n",
       "2       --0B3G_C3qc           10.0         20.0   \n",
       "3       --0CNhurbZE           30.0         40.0   \n",
       "4       --0F7kbzAMA           30.0         40.0   \n",
       "...             ...            ...          ...   \n",
       "440187  zzvOEksj2V0           30.0         40.0   \n",
       "440188  zzvcpIB9amA           13.0         23.0   \n",
       "440189  zzxK96M3XVY          110.0        120.0   \n",
       "440190  zzxUh44r4Wg           30.0         40.0   \n",
       "440191  zzxXdFWb-LM           50.0         60.0   \n",
       "\n",
       "                                                 videoURL  \n",
       "0       https://www.youtube.com/watch?start=30.0&end=4...  \n",
       "1       https://www.youtube.com/watch?start=30.0&end=4...  \n",
       "2       https://www.youtube.com/watch?start=10.0&end=2...  \n",
       "3       https://www.youtube.com/watch?start=30.0&end=4...  \n",
       "4       https://www.youtube.com/watch?start=30.0&end=4...  \n",
       "...                                                   ...  \n",
       "440187  https://www.youtube.com/watch?start=30.0&end=4...  \n",
       "440188  https://www.youtube.com/watch?start=13.0&end=2...  \n",
       "440189  https://www.youtube.com/watch?start=110.0&end=...  \n",
       "440190  https://www.youtube.com/watch?start=30.0&end=4...  \n",
       "440191  https://www.youtube.com/watch?start=50.0&end=6...  \n",
       "\n",
       "[440192 rows x 4 columns]"
      ]
     },
     "execution_count": 14,
     "metadata": {},
     "output_type": "execute_result"
    }
   ],
   "source": [
    "speechDF"
   ]
  },
  {
   "cell_type": "code",
   "execution_count": 16,
   "metadata": {},
   "outputs": [],
   "source": [
    "speechDF = speechDF[:2000]"
   ]
  },
  {
   "cell_type": "code",
   "execution_count": 17,
   "metadata": {},
   "outputs": [
    {
     "data": {
      "text/html": [
       "<div>\n",
       "<style scoped>\n",
       "    .dataframe tbody tr th:only-of-type {\n",
       "        vertical-align: middle;\n",
       "    }\n",
       "\n",
       "    .dataframe tbody tr th {\n",
       "        vertical-align: top;\n",
       "    }\n",
       "\n",
       "    .dataframe thead th {\n",
       "        text-align: right;\n",
       "    }\n",
       "</style>\n",
       "<table border=\"1\" class=\"dataframe\">\n",
       "  <thead>\n",
       "    <tr style=\"text-align: right;\">\n",
       "      <th></th>\n",
       "      <th>YTID</th>\n",
       "      <th>start_seconds</th>\n",
       "      <th>end_seconds</th>\n",
       "      <th>videoURL</th>\n",
       "    </tr>\n",
       "  </thead>\n",
       "  <tbody>\n",
       "    <tr>\n",
       "      <th>0</th>\n",
       "      <td>---2_BBVHAA</td>\n",
       "      <td>30.0</td>\n",
       "      <td>40.0</td>\n",
       "      <td>https://www.youtube.com/watch?start=30.0&amp;end=4...</td>\n",
       "    </tr>\n",
       "    <tr>\n",
       "      <th>1</th>\n",
       "      <td>---qub7uxgs</td>\n",
       "      <td>30.0</td>\n",
       "      <td>40.0</td>\n",
       "      <td>https://www.youtube.com/watch?start=30.0&amp;end=4...</td>\n",
       "    </tr>\n",
       "    <tr>\n",
       "      <th>2</th>\n",
       "      <td>--0B3G_C3qc</td>\n",
       "      <td>10.0</td>\n",
       "      <td>20.0</td>\n",
       "      <td>https://www.youtube.com/watch?start=10.0&amp;end=2...</td>\n",
       "    </tr>\n",
       "    <tr>\n",
       "      <th>3</th>\n",
       "      <td>--0CNhurbZE</td>\n",
       "      <td>30.0</td>\n",
       "      <td>40.0</td>\n",
       "      <td>https://www.youtube.com/watch?start=30.0&amp;end=4...</td>\n",
       "    </tr>\n",
       "    <tr>\n",
       "      <th>4</th>\n",
       "      <td>--0F7kbzAMA</td>\n",
       "      <td>30.0</td>\n",
       "      <td>40.0</td>\n",
       "      <td>https://www.youtube.com/watch?start=30.0&amp;end=4...</td>\n",
       "    </tr>\n",
       "    <tr>\n",
       "      <th>...</th>\n",
       "      <td>...</td>\n",
       "      <td>...</td>\n",
       "      <td>...</td>\n",
       "      <td>...</td>\n",
       "    </tr>\n",
       "    <tr>\n",
       "      <th>1995</th>\n",
       "      <td>-7XIMWccluU</td>\n",
       "      <td>20.0</td>\n",
       "      <td>30.0</td>\n",
       "      <td>https://www.youtube.com/watch?start=20.0&amp;end=3...</td>\n",
       "    </tr>\n",
       "    <tr>\n",
       "      <th>1996</th>\n",
       "      <td>-7XmisQJQzM</td>\n",
       "      <td>30.0</td>\n",
       "      <td>40.0</td>\n",
       "      <td>https://www.youtube.com/watch?start=30.0&amp;end=4...</td>\n",
       "    </tr>\n",
       "    <tr>\n",
       "      <th>1997</th>\n",
       "      <td>-7ZXgDaoksk</td>\n",
       "      <td>4.0</td>\n",
       "      <td>14.0</td>\n",
       "      <td>https://www.youtube.com/watch?start=4.0&amp;end=14...</td>\n",
       "    </tr>\n",
       "    <tr>\n",
       "      <th>1998</th>\n",
       "      <td>-7Zf4g6LaFE</td>\n",
       "      <td>10.0</td>\n",
       "      <td>20.0</td>\n",
       "      <td>https://www.youtube.com/watch?start=10.0&amp;end=2...</td>\n",
       "    </tr>\n",
       "    <tr>\n",
       "      <th>1999</th>\n",
       "      <td>-7ZpO5sRQGw</td>\n",
       "      <td>30.0</td>\n",
       "      <td>40.0</td>\n",
       "      <td>https://www.youtube.com/watch?start=30.0&amp;end=4...</td>\n",
       "    </tr>\n",
       "  </tbody>\n",
       "</table>\n",
       "<p>2000 rows × 4 columns</p>\n",
       "</div>"
      ],
      "text/plain": [
       "             YTID  start_seconds  end_seconds  \\\n",
       "0     ---2_BBVHAA           30.0         40.0   \n",
       "1     ---qub7uxgs           30.0         40.0   \n",
       "2     --0B3G_C3qc           10.0         20.0   \n",
       "3     --0CNhurbZE           30.0         40.0   \n",
       "4     --0F7kbzAMA           30.0         40.0   \n",
       "...           ...            ...          ...   \n",
       "1995  -7XIMWccluU           20.0         30.0   \n",
       "1996  -7XmisQJQzM           30.0         40.0   \n",
       "1997  -7ZXgDaoksk            4.0         14.0   \n",
       "1998  -7Zf4g6LaFE           10.0         20.0   \n",
       "1999  -7ZpO5sRQGw           30.0         40.0   \n",
       "\n",
       "                                               videoURL  \n",
       "0     https://www.youtube.com/watch?start=30.0&end=4...  \n",
       "1     https://www.youtube.com/watch?start=30.0&end=4...  \n",
       "2     https://www.youtube.com/watch?start=10.0&end=2...  \n",
       "3     https://www.youtube.com/watch?start=30.0&end=4...  \n",
       "4     https://www.youtube.com/watch?start=30.0&end=4...  \n",
       "...                                                 ...  \n",
       "1995  https://www.youtube.com/watch?start=20.0&end=3...  \n",
       "1996  https://www.youtube.com/watch?start=30.0&end=4...  \n",
       "1997  https://www.youtube.com/watch?start=4.0&end=14...  \n",
       "1998  https://www.youtube.com/watch?start=10.0&end=2...  \n",
       "1999  https://www.youtube.com/watch?start=30.0&end=4...  \n",
       "\n",
       "[2000 rows x 4 columns]"
      ]
     },
     "execution_count": 17,
     "metadata": {},
     "output_type": "execute_result"
    }
   ],
   "source": [
    "speechDF"
   ]
  },
  {
   "cell_type": "code",
   "execution_count": 18,
   "metadata": {},
   "outputs": [
    {
     "data": {
      "text/plain": [
       "'/mnt/batch/tasks/shared/LS_root/mounts/clusters/elephant-rumble-yash/code/Users/yash/Model2'"
      ]
     },
     "execution_count": 18,
     "metadata": {},
     "output_type": "execute_result"
    }
   ],
   "source": [
    "os.getcwd()"
   ]
  },
  {
   "cell_type": "code",
   "execution_count": 19,
   "metadata": {},
   "outputs": [],
   "source": [
    "os.chdir(os.getcwd()+'/Data/HumanSpeech')"
   ]
  },
  {
   "cell_type": "code",
   "execution_count": 20,
   "metadata": {},
   "outputs": [
    {
     "data": {
      "text/plain": [
       "'/mnt/batch/tasks/shared/LS_root/mounts/clusters/elephant-rumble-yash/code/Users/yash/Model2/Data/HumanSpeech'"
      ]
     },
     "execution_count": 20,
     "metadata": {},
     "output_type": "execute_result"
    }
   ],
   "source": [
    "os.getcwd()"
   ]
  },
  {
   "cell_type": "code",
   "execution_count": 21,
   "metadata": {
    "scrolled": true
   },
   "outputs": [
    {
     "name": "stderr",
     "output_type": "stream",
     "text": [
      "\r",
      "0it [00:00, ?it/s]"
     ]
    },
    {
     "name": "stdout",
     "output_type": "stream",
     "text": [
      "  6,934,222.0 Bytes [100.00%] received. Rate: [15936 KB/s].  ETA: [0 secs]    \r"
     ]
    },
    {
     "name": "stderr",
     "output_type": "stream",
     "text": [
      "\r",
      "1it [00:01,  1.89s/it]"
     ]
    },
    {
     "name": "stdout",
     "output_type": "stream",
     "text": [
      "\n",
      "  4,300,863.0 Bytes [100.00%] received. Rate: [23140 KB/s].  ETA: [0 secs]    \r"
     ]
    },
    {
     "name": "stderr",
     "output_type": "stream",
     "text": [
      "\r",
      "2it [00:02,  1.30s/it]"
     ]
    },
    {
     "name": "stdout",
     "output_type": "stream",
     "text": [
      "\n",
      "  4,963,371.0 Bytes [100.00%] received. Rate: [23084 KB/s].  ETA: [0 secs]    \r"
     ]
    },
    {
     "name": "stderr",
     "output_type": "stream",
     "text": [
      "\r",
      "3it [00:03,  1.19s/it]"
     ]
    },
    {
     "name": "stdout",
     "output_type": "stream",
     "text": [
      "\n",
      "  2,630,144.0 Bytes [100.00%] received. Rate: [10910 KB/s].  ETA: [0 secs]    \r"
     ]
    },
    {
     "name": "stderr",
     "output_type": "stream",
     "text": [
      "\r",
      "4it [00:04,  1.15s/it]"
     ]
    },
    {
     "name": "stdout",
     "output_type": "stream",
     "text": [
      "\n",
      "  1,422,248.0 Bytes [100.00%] received. Rate: [7764 KB/s].  ETA: [0 secs]    \r"
     ]
    },
    {
     "name": "stderr",
     "output_type": "stream",
     "text": [
      "\r",
      "5it [00:06,  1.33s/it]"
     ]
    },
    {
     "name": "stdout",
     "output_type": "stream",
     "text": [
      "\n",
      "  1,276,116.0 Bytes [100.00%] received. Rate: [1278 KB/s].  ETA: [0 secs]    \r"
     ]
    },
    {
     "name": "stderr",
     "output_type": "stream",
     "text": [
      "\r",
      "6it [00:08,  1.42s/it]"
     ]
    },
    {
     "name": "stdout",
     "output_type": "stream",
     "text": [
      "\n",
      "  6,205,386.0 Bytes [100.00%] received. Rate: [11932 KB/s].  ETA: [0 secs]    \r"
     ]
    },
    {
     "name": "stderr",
     "output_type": "stream",
     "text": [
      "\r",
      "7it [00:10,  1.67s/it]"
     ]
    },
    {
     "name": "stdout",
     "output_type": "stream",
     "text": [
      "\n",
      "  11,676,637.0 Bytes [100.00%] received. Rate: [13438 KB/s].  ETA: [0 secs]    \r"
     ]
    },
    {
     "name": "stderr",
     "output_type": "stream",
     "text": [
      "\r",
      "8it [00:11,  1.66s/it]"
     ]
    },
    {
     "name": "stdout",
     "output_type": "stream",
     "text": [
      "\n",
      "  5,455,475.0 Bytes [100.00%] received. Rate: [21554 KB/s].  ETA: [0 secs]    \r"
     ]
    },
    {
     "name": "stderr",
     "output_type": "stream",
     "text": [
      "\r",
      "9it [00:13,  1.48s/it]"
     ]
    },
    {
     "name": "stdout",
     "output_type": "stream",
     "text": [
      "\n",
      "  5,515,861.0 Bytes [100.00%] received. Rate: [16017 KB/s].  ETA: [0 secs]    \r"
     ]
    },
    {
     "name": "stderr",
     "output_type": "stream",
     "text": [
      "\r",
      "10it [00:14,  1.38s/it]"
     ]
    },
    {
     "name": "stdout",
     "output_type": "stream",
     "text": [
      "\n",
      "  1,384,022.0 Bytes [100.00%] received. Rate: [9039 KB/s].  ETA: [0 secs]    \r"
     ]
    },
    {
     "name": "stderr",
     "output_type": "stream",
     "text": [
      "\r",
      "11it [00:15,  1.30s/it]"
     ]
    },
    {
     "name": "stdout",
     "output_type": "stream",
     "text": [
      "\n",
      "  3,418,524.0 Bytes [100.00%] received. Rate: [14778 KB/s].  ETA: [0 secs]    \r"
     ]
    },
    {
     "name": "stderr",
     "output_type": "stream",
     "text": [
      "\r",
      "12it [00:16,  1.22s/it]"
     ]
    },
    {
     "name": "stdout",
     "output_type": "stream",
     "text": [
      "\n",
      "  2,948,912.0 Bytes [100.00%] received. Rate: [20222 KB/s].  ETA: [0 secs]    \n"
     ]
    },
    {
     "name": "stderr",
     "output_type": "stream",
     "text": [
      "13it [00:17,  1.26s/it]ERROR: Private video\n",
      "Sign in if you've been granted access to this video\n",
      "14it [00:17,  1.09it/s]"
     ]
    },
    {
     "name": "stdout",
     "output_type": "stream",
     "text": [
      "  3,078,294.0 Bytes [100.00%] received. Rate: [16173 KB/s].  ETA: [0 secs]    \r"
     ]
    },
    {
     "name": "stderr",
     "output_type": "stream",
     "text": [
      "\r",
      "15it [00:18,  1.05it/s]"
     ]
    },
    {
     "name": "stdout",
     "output_type": "stream",
     "text": [
      "\n"
     ]
    },
    {
     "name": "stderr",
     "output_type": "stream",
     "text": [
      "ERROR: Video unavailable\n",
      "This video is no longer available because the YouTube account associated with this video has been terminated.\n",
      "16it [00:19,  1.39it/s]"
     ]
    },
    {
     "name": "stdout",
     "output_type": "stream",
     "text": [
      "  717,585.0 Bytes [100.00%] received. Rate: [4500 KB/s].  ETA: [0 secs]    \r"
     ]
    },
    {
     "name": "stderr",
     "output_type": "stream",
     "text": [
      "\r",
      "17it [00:20,  1.15it/s]"
     ]
    },
    {
     "name": "stdout",
     "output_type": "stream",
     "text": [
      "\n",
      "  1,450,761.0 Bytes [100.00%] received. Rate: [2474 KB/s].  ETA: [0 secs]    \r"
     ]
    },
    {
     "name": "stderr",
     "output_type": "stream",
     "text": [
      "\r",
      "18it [00:21,  1.02s/it]"
     ]
    },
    {
     "name": "stdout",
     "output_type": "stream",
     "text": [
      "\n",
      "  18,616,133.0 Bytes [100.00%] received. Rate: [5550 KB/s].  ETA: [0 secs]    \r"
     ]
    },
    {
     "name": "stderr",
     "output_type": "stream",
     "text": [
      "\r",
      "19it [00:26,  2.20s/it]"
     ]
    },
    {
     "name": "stdout",
     "output_type": "stream",
     "text": [
      "\n",
      "  4,216,560.0 Bytes [100.00%] received. Rate: [13912 KB/s].  ETA: [0 secs]    \r"
     ]
    },
    {
     "name": "stderr",
     "output_type": "stream",
     "text": [
      "\r",
      "20it [00:27,  1.82s/it]"
     ]
    },
    {
     "name": "stdout",
     "output_type": "stream",
     "text": [
      "\n",
      "  4,455,700.0 Bytes [100.00%] received. Rate: [21071 KB/s].  ETA: [0 secs]    \r"
     ]
    },
    {
     "name": "stderr",
     "output_type": "stream",
     "text": [
      "\r",
      "21it [00:28,  1.55s/it]"
     ]
    },
    {
     "name": "stdout",
     "output_type": "stream",
     "text": [
      "\n",
      "  3,358,062.0 Bytes [100.00%] received. Rate: [10962 KB/s].  ETA: [0 secs]    \r"
     ]
    },
    {
     "name": "stderr",
     "output_type": "stream",
     "text": [
      "\r",
      "22it [00:29,  1.45s/it]"
     ]
    },
    {
     "name": "stdout",
     "output_type": "stream",
     "text": [
      "\n",
      "  8,932,126.0 Bytes [100.00%] received. Rate: [11872 KB/s].  ETA: [0 secs]    \r"
     ]
    },
    {
     "name": "stderr",
     "output_type": "stream",
     "text": [
      "\r",
      "23it [00:31,  1.46s/it]"
     ]
    },
    {
     "name": "stdout",
     "output_type": "stream",
     "text": [
      "\n",
      "  2,114,912.0 Bytes [100.00%] received. Rate: [15279 KB/s].  ETA: [0 secs]    \r"
     ]
    },
    {
     "name": "stderr",
     "output_type": "stream",
     "text": [
      "\r",
      "24it [00:32,  1.45s/it]"
     ]
    },
    {
     "name": "stdout",
     "output_type": "stream",
     "text": [
      "\n",
      "  378,610.0 Bytes [100.00%] received. Rate: [4605 KB/s].  ETA: [0 secs]    \r"
     ]
    },
    {
     "name": "stderr",
     "output_type": "stream",
     "text": [
      "\r",
      "25it [00:33,  1.23s/it]"
     ]
    },
    {
     "name": "stdout",
     "output_type": "stream",
     "text": [
      "\n",
      "  1,081,573.0 Bytes [100.00%] received. Rate: [13519 KB/s].  ETA: [0 secs]    \r"
     ]
    },
    {
     "name": "stderr",
     "output_type": "stream",
     "text": [
      "\r",
      "26it [00:34,  1.11s/it]"
     ]
    },
    {
     "name": "stdout",
     "output_type": "stream",
     "text": [
      "\n",
      "  357,137.0 Bytes [100.00%] received. Rate: [4155 KB/s].  ETA: [0 secs]    \r"
     ]
    },
    {
     "name": "stderr",
     "output_type": "stream",
     "text": [
      "\r",
      "27it [00:34,  1.03it/s]"
     ]
    },
    {
     "name": "stdout",
     "output_type": "stream",
     "text": [
      "\n",
      "  8,782,076.0 Bytes [100.00%] received. Rate: [16319 KB/s].  ETA: [0 secs]    \r"
     ]
    },
    {
     "name": "stderr",
     "output_type": "stream",
     "text": [
      "\r",
      "28it [00:36,  1.11s/it]"
     ]
    },
    {
     "name": "stdout",
     "output_type": "stream",
     "text": [
      "\n",
      "  9,684,244.0 Bytes [100.00%] received. Rate: [19101 KB/s].  ETA: [0 secs]    \r"
     ]
    },
    {
     "name": "stderr",
     "output_type": "stream",
     "text": [
      "\r",
      "29it [00:37,  1.20s/it]"
     ]
    },
    {
     "name": "stdout",
     "output_type": "stream",
     "text": [
      "\n",
      "  664,764.0 Bytes [100.00%] received. Rate: [3128 KB/s].  ETA: [0 secs]    \r"
     ]
    },
    {
     "name": "stderr",
     "output_type": "stream",
     "text": [
      "\r",
      "30it [00:38,  1.17s/it]"
     ]
    },
    {
     "name": "stdout",
     "output_type": "stream",
     "text": [
      "\n"
     ]
    },
    {
     "name": "stderr",
     "output_type": "stream",
     "text": [
      "ERROR: Video unavailable\n",
      "This video is no longer available because the YouTube account associated with this video has been terminated.\n"
     ]
    },
    {
     "name": "stdout",
     "output_type": "stream",
     "text": [
      "  178,101.0 Bytes [100.00%] received. Rate: [1784 KB/s].  ETA: [0 secs]    \r"
     ]
    },
    {
     "name": "stderr",
     "output_type": "stream",
     "text": [
      "\r",
      "32it [00:39,  1.24it/s]"
     ]
    },
    {
     "name": "stdout",
     "output_type": "stream",
     "text": [
      "\n",
      "  5,897,382.0 Bytes [100.00%] received. Rate: [16520 KB/s].  ETA: [0 secs]    \r"
     ]
    },
    {
     "name": "stderr",
     "output_type": "stream",
     "text": [
      "\r",
      "33it [00:40,  1.07it/s]"
     ]
    },
    {
     "name": "stdout",
     "output_type": "stream",
     "text": [
      "\n",
      "  1,352,971.0 Bytes [100.00%] received. Rate: [1604 KB/s].  ETA: [0 secs]    \r"
     ]
    },
    {
     "name": "stderr",
     "output_type": "stream",
     "text": [
      "\r",
      "34it [00:42,  1.15s/it]"
     ]
    },
    {
     "name": "stdout",
     "output_type": "stream",
     "text": [
      "\n",
      "  9,887,681.0 Bytes [100.00%] received. Rate: [46664 KB/s].  ETA: [0 secs]    \r"
     ]
    },
    {
     "name": "stderr",
     "output_type": "stream",
     "text": [
      "\r",
      "35it [00:43,  1.14s/it]"
     ]
    },
    {
     "name": "stdout",
     "output_type": "stream",
     "text": [
      "\n",
      "  3,913,721.0 Bytes [100.00%] received. Rate: [24121 KB/s].  ETA: [0 secs]    \r"
     ]
    },
    {
     "name": "stderr",
     "output_type": "stream",
     "text": [
      "\r",
      "36it [00:44,  1.17s/it]"
     ]
    },
    {
     "name": "stdout",
     "output_type": "stream",
     "text": [
      "\n",
      "  4,325,017.0 Bytes [100.00%] received. Rate: [26341 KB/s].  ETA: [0 secs]    \r"
     ]
    },
    {
     "name": "stderr",
     "output_type": "stream",
     "text": [
      "\r",
      "37it [00:46,  1.14s/it]"
     ]
    },
    {
     "name": "stdout",
     "output_type": "stream",
     "text": [
      "\n",
      "  3,846,661.0 Bytes [100.00%] received. Rate: [14438 KB/s].  ETA: [0 secs]    \r"
     ]
    },
    {
     "name": "stderr",
     "output_type": "stream",
     "text": [
      "\r",
      "38it [00:46,  1.09s/it]"
     ]
    },
    {
     "name": "stdout",
     "output_type": "stream",
     "text": [
      "\n",
      "  7,409,838.0 Bytes [100.00%] received. Rate: [4164 KB/s].  ETA: [0 secs]    \r"
     ]
    },
    {
     "name": "stderr",
     "output_type": "stream",
     "text": [
      "\r",
      "39it [00:49,  1.49s/it]"
     ]
    },
    {
     "name": "stdout",
     "output_type": "stream",
     "text": [
      "\n",
      "  4,400,865.0 Bytes [100.00%] received. Rate: [22353 KB/s].  ETA: [0 secs]    \r"
     ]
    },
    {
     "name": "stderr",
     "output_type": "stream",
     "text": [
      "\r",
      "40it [00:50,  1.27s/it]"
     ]
    },
    {
     "name": "stdout",
     "output_type": "stream",
     "text": [
      "\n",
      "  4,503,664.0 Bytes [100.00%] received. Rate: [4970 KB/s].  ETA: [0 secs]    \r"
     ]
    },
    {
     "name": "stderr",
     "output_type": "stream",
     "text": [
      "\r",
      "41it [00:51,  1.42s/it]"
     ]
    },
    {
     "name": "stdout",
     "output_type": "stream",
     "text": [
      "\n"
     ]
    },
    {
     "name": "stderr",
     "output_type": "stream",
     "text": [
      "ERROR: Video unavailable\n",
      "42it [00:52,  1.03s/it]"
     ]
    },
    {
     "name": "stdout",
     "output_type": "stream",
     "text": [
      "  563,347.0 Bytes [100.00%] received. Rate: [3974 KB/s].  ETA: [0 secs]    \r"
     ]
    },
    {
     "name": "stderr",
     "output_type": "stream",
     "text": [
      "\r",
      "43it [00:52,  1.04it/s]"
     ]
    },
    {
     "name": "stdout",
     "output_type": "stream",
     "text": [
      "\n",
      "  1,807,578.0 Bytes [100.00%] received. Rate: [24098 KB/s].  ETA: [0 secs]    \r"
     ]
    },
    {
     "name": "stderr",
     "output_type": "stream",
     "text": [
      "\r",
      "44it [00:53,  1.05it/s]"
     ]
    },
    {
     "name": "stdout",
     "output_type": "stream",
     "text": [
      "\n",
      "  1,009,294.0 Bytes [100.00%] received. Rate: [12277 KB/s].  ETA: [0 secs]    \r"
     ]
    },
    {
     "name": "stderr",
     "output_type": "stream",
     "text": [
      "\r",
      "45it [00:54,  1.14it/s]"
     ]
    },
    {
     "name": "stdout",
     "output_type": "stream",
     "text": [
      "\n",
      "  2,871,306.0 Bytes [100.00%] received. Rate: [26555 KB/s].  ETA: [0 secs]    \r"
     ]
    },
    {
     "name": "stderr",
     "output_type": "stream",
     "text": [
      "\r",
      "46it [00:55,  1.10it/s]"
     ]
    },
    {
     "name": "stdout",
     "output_type": "stream",
     "text": [
      "\n"
     ]
    },
    {
     "name": "stderr",
     "output_type": "stream",
     "text": [
      "ERROR: Video unavailable\n",
      "47it [00:55,  1.49it/s]"
     ]
    },
    {
     "name": "stdout",
     "output_type": "stream",
     "text": [
      "  11,776,579.0 Bytes [100.00%] received. Rate: [13620 KB/s].  ETA: [0 secs]    \r"
     ]
    },
    {
     "name": "stderr",
     "output_type": "stream",
     "text": [
      "\r",
      "48it [00:56,  1.15it/s]"
     ]
    },
    {
     "name": "stdout",
     "output_type": "stream",
     "text": [
      "\n",
      "  3,293,116.0 Bytes [100.00%] received. Rate: [15526 KB/s].  ETA: [0 secs]    \r"
     ]
    },
    {
     "name": "stderr",
     "output_type": "stream",
     "text": [
      "\r",
      "49it [00:58,  1.03it/s]"
     ]
    },
    {
     "name": "stdout",
     "output_type": "stream",
     "text": [
      "\n",
      "  139,616.0 Bytes [100.00%] received. Rate: [ 968 KB/s].  ETA: [0 secs]    \r"
     ]
    },
    {
     "name": "stderr",
     "output_type": "stream",
     "text": [
      "\r",
      "50it [00:58,  1.10it/s]"
     ]
    },
    {
     "name": "stdout",
     "output_type": "stream",
     "text": [
      "\n"
     ]
    },
    {
     "name": "stderr",
     "output_type": "stream",
     "text": [
      "\r",
      "51it [00:59,  1.10it/s]"
     ]
    },
    {
     "name": "stdout",
     "output_type": "stream",
     "text": [
      "  1,625,601.0 Bytes [100.00%] received. Rate: [9221 KB/s].  ETA: [0 secs]    \r"
     ]
    },
    {
     "name": "stderr",
     "output_type": "stream",
     "text": [
      "\r",
      "52it [01:00,  1.05it/s]"
     ]
    },
    {
     "name": "stdout",
     "output_type": "stream",
     "text": [
      "\n",
      "  7,268,051.0 Bytes [100.00%] received. Rate: [28323 KB/s].  ETA: [0 secs]    \r"
     ]
    },
    {
     "name": "stderr",
     "output_type": "stream",
     "text": [
      "\r",
      "53it [01:01,  1.03it/s]"
     ]
    },
    {
     "name": "stdout",
     "output_type": "stream",
     "text": [
      "\n",
      "  22,004,213.0 Bytes [100.00%] received. Rate: [36529 KB/s].  ETA: [0 secs]    \r"
     ]
    },
    {
     "name": "stderr",
     "output_type": "stream",
     "text": [
      "\r",
      "54it [01:03,  1.21s/it]"
     ]
    },
    {
     "name": "stdout",
     "output_type": "stream",
     "text": [
      "\n",
      "  2,199,451.0 Bytes [100.00%] received. Rate: [9920 KB/s].  ETA: [0 secs]    \r"
     ]
    },
    {
     "name": "stderr",
     "output_type": "stream",
     "text": [
      "\r",
      "55it [01:05,  1.33s/it]"
     ]
    },
    {
     "name": "stdout",
     "output_type": "stream",
     "text": [
      "\n",
      "  9,652,272.0 Bytes [100.00%] received. Rate: [10074 KB/s].  ETA: [0 secs]    \r"
     ]
    },
    {
     "name": "stderr",
     "output_type": "stream",
     "text": [
      "\r",
      "56it [01:06,  1.44s/it]"
     ]
    },
    {
     "name": "stdout",
     "output_type": "stream",
     "text": [
      "\n",
      "  7,594,985.0 Bytes [100.00%] received. Rate: [23120 KB/s].  ETA: [0 secs]    \r"
     ]
    },
    {
     "name": "stderr",
     "output_type": "stream",
     "text": [
      "\r",
      "57it [01:08,  1.40s/it]"
     ]
    },
    {
     "name": "stdout",
     "output_type": "stream",
     "text": [
      "\n",
      "  458,394.0 Bytes [100.00%] received. Rate: [2959 KB/s].  ETA: [0 secs]    \r"
     ]
    },
    {
     "name": "stderr",
     "output_type": "stream",
     "text": [
      "\r",
      "58it [01:08,  1.19s/it]"
     ]
    },
    {
     "name": "stdout",
     "output_type": "stream",
     "text": [
      "\n",
      "  2,380,923.0 Bytes [100.00%] received. Rate: [16932 KB/s].  ETA: [0 secs]    \r"
     ]
    },
    {
     "name": "stderr",
     "output_type": "stream",
     "text": [
      "\r",
      "59it [01:10,  1.15s/it]"
     ]
    },
    {
     "name": "stdout",
     "output_type": "stream",
     "text": [
      "\n",
      "  5,597,430.0 Bytes [100.00%] received. Rate: [35949 KB/s].  ETA: [0 secs]    \r"
     ]
    },
    {
     "name": "stderr",
     "output_type": "stream",
     "text": [
      "\r",
      "60it [01:10,  1.10s/it]"
     ]
    },
    {
     "name": "stdout",
     "output_type": "stream",
     "text": [
      "\n",
      "  1,423,010.0 Bytes [100.00%] received. Rate: [14203 KB/s].  ETA: [0 secs]    \r"
     ]
    },
    {
     "name": "stderr",
     "output_type": "stream",
     "text": [
      "\r",
      "61it [01:11,  1.01it/s]"
     ]
    },
    {
     "name": "stdout",
     "output_type": "stream",
     "text": [
      "\n"
     ]
    },
    {
     "name": "stderr",
     "output_type": "stream",
     "text": [
      "ERROR: Video unavailable\n",
      "62it [01:11,  1.37it/s]"
     ]
    },
    {
     "name": "stdout",
     "output_type": "stream",
     "text": [
      "  7,346,423.0 Bytes [100.00%] received. Rate: [30502 KB/s].  ETA: [0 secs]    \r"
     ]
    },
    {
     "name": "stderr",
     "output_type": "stream",
     "text": [
      "\r",
      "63it [01:12,  1.27it/s]"
     ]
    },
    {
     "name": "stdout",
     "output_type": "stream",
     "text": [
      "\n"
     ]
    },
    {
     "name": "stderr",
     "output_type": "stream",
     "text": [
      "ERROR: Video unavailable\n",
      "64it [01:12,  1.71it/s]"
     ]
    },
    {
     "name": "stdout",
     "output_type": "stream",
     "text": [
      "  4,372,281.0 Bytes [100.00%] received. Rate: [19624 KB/s].  ETA: [0 secs]    \r"
     ]
    },
    {
     "name": "stderr",
     "output_type": "stream",
     "text": [
      "\r",
      "65it [01:14,  1.32it/s]"
     ]
    },
    {
     "name": "stdout",
     "output_type": "stream",
     "text": [
      "\n",
      "  3,004,650.0 Bytes [100.00%] received. Rate: [18155 KB/s].  ETA: [0 secs]    \n"
     ]
    },
    {
     "name": "stderr",
     "output_type": "stream",
     "text": [
      "\r",
      "66it [01:15,  1.13it/s]"
     ]
    },
    {
     "name": "stdout",
     "output_type": "stream",
     "text": [
      "  782,380.0 Bytes [100.00%] received. Rate: [8539 KB/s].  ETA: [0 secs]    \r"
     ]
    },
    {
     "name": "stderr",
     "output_type": "stream",
     "text": [
      "\r",
      "67it [01:16,  1.10it/s]"
     ]
    },
    {
     "name": "stdout",
     "output_type": "stream",
     "text": [
      "\n",
      "  6,946,712.0 Bytes [100.00%] received. Rate: [18874 KB/s].  ETA: [0 secs]    \r"
     ]
    },
    {
     "name": "stderr",
     "output_type": "stream",
     "text": [
      "\r",
      "68it [01:17,  1.04s/it]"
     ]
    },
    {
     "name": "stdout",
     "output_type": "stream",
     "text": [
      "\n",
      "  375,796.0 Bytes [100.00%] received. Rate: [2310 KB/s].  ETA: [0 secs]    \r"
     ]
    },
    {
     "name": "stderr",
     "output_type": "stream",
     "text": [
      "\r",
      "69it [01:19,  1.31s/it]"
     ]
    },
    {
     "name": "stdout",
     "output_type": "stream",
     "text": [
      "\n"
     ]
    },
    {
     "name": "stderr",
     "output_type": "stream",
     "text": [
      "ERROR: Video unavailable\n",
      "This video is no longer available because the YouTube account associated with this video has been terminated.\n",
      "70it [01:19,  1.04it/s]ERROR: Video unavailable\n",
      "71it [01:19,  1.42it/s]"
     ]
    },
    {
     "name": "stdout",
     "output_type": "stream",
     "text": [
      "  958,821.0 Bytes [100.00%] received. Rate: [5742 KB/s].  ETA: [0 secs]    \r"
     ]
    },
    {
     "name": "stderr",
     "output_type": "stream",
     "text": [
      "\r",
      "72it [01:20,  1.34it/s]"
     ]
    },
    {
     "name": "stdout",
     "output_type": "stream",
     "text": [
      "\n",
      "  1,624,881.0 Bytes [100.00%] received. Rate: [15572 KB/s].  ETA: [0 secs]    \r"
     ]
    },
    {
     "name": "stderr",
     "output_type": "stream",
     "text": [
      "\r",
      "73it [01:21,  1.29it/s]"
     ]
    },
    {
     "name": "stdout",
     "output_type": "stream",
     "text": [
      "\n",
      "  3,496,260.0 Bytes [100.00%] received. Rate: [22282 KB/s].  ETA: [0 secs]    \r"
     ]
    },
    {
     "name": "stderr",
     "output_type": "stream",
     "text": [
      "\r",
      "74it [01:22,  1.22it/s]"
     ]
    },
    {
     "name": "stdout",
     "output_type": "stream",
     "text": [
      "\n",
      "  2,938,008.0 Bytes [100.00%] received. Rate: [23275 KB/s].  ETA: [0 secs]    \r"
     ]
    },
    {
     "name": "stderr",
     "output_type": "stream",
     "text": [
      "\r",
      "75it [01:23,  1.25it/s]"
     ]
    },
    {
     "name": "stdout",
     "output_type": "stream",
     "text": [
      "\n",
      "  952,812.0 Bytes [100.00%] received. Rate: [2454 KB/s].  ETA: [0 secs]    \r"
     ]
    },
    {
     "name": "stderr",
     "output_type": "stream",
     "text": [
      "\r",
      "76it [01:24,  1.08it/s]"
     ]
    },
    {
     "name": "stdout",
     "output_type": "stream",
     "text": [
      "\n",
      "  4,092,883.0 Bytes [100.00%] received. Rate: [  46 KB/s].  ETA: [0 secs]    \r"
     ]
    },
    {
     "name": "stderr",
     "output_type": "stream",
     "text": [
      "\r",
      "77it [02:51, 26.82s/it]"
     ]
    },
    {
     "name": "stdout",
     "output_type": "stream",
     "text": [
      "\n",
      "  596,313.0 Bytes [100.00%] received. Rate: [4024 KB/s].  ETA: [0 secs]    \r"
     ]
    },
    {
     "name": "stderr",
     "output_type": "stream",
     "text": [
      "\r",
      "78it [02:52, 19.03s/it]"
     ]
    },
    {
     "name": "stdout",
     "output_type": "stream",
     "text": [
      "\n",
      "  8,094,654.0 Bytes [100.00%] received. Rate: [17638 KB/s].  ETA: [0 secs]    \r"
     ]
    },
    {
     "name": "stderr",
     "output_type": "stream",
     "text": [
      "\r",
      "79it [02:53, 13.75s/it]"
     ]
    },
    {
     "name": "stdout",
     "output_type": "stream",
     "text": [
      "\n"
     ]
    },
    {
     "name": "stderr",
     "output_type": "stream",
     "text": [
      "\r",
      "80it [02:54,  9.76s/it]"
     ]
    },
    {
     "name": "stdout",
     "output_type": "stream",
     "text": [
      "  5,075,388.0 Bytes [100.00%] received. Rate: [36652 KB/s].  ETA: [0 secs]    \r"
     ]
    },
    {
     "name": "stderr",
     "output_type": "stream",
     "text": [
      "\r",
      "81it [02:55,  7.15s/it]"
     ]
    },
    {
     "name": "stdout",
     "output_type": "stream",
     "text": [
      "\n"
     ]
    },
    {
     "name": "stderr",
     "output_type": "stream",
     "text": [
      "ERROR: Private video\n",
      "Sign in if you've been granted access to this video\n"
     ]
    },
    {
     "name": "stdout",
     "output_type": "stream",
     "text": [
      "  3,092,161.0 Bytes [100.00%] received. Rate: [21797 KB/s].  ETA: [0 secs]    \r"
     ]
    },
    {
     "name": "stderr",
     "output_type": "stream",
     "text": [
      "83it [02:57,  4.26s/it]ERROR: Video unavailable\n",
      "84it [02:57,  3.23s/it]"
     ]
    },
    {
     "name": "stdout",
     "output_type": "stream",
     "text": [
      "\n",
      "  4,551,651.0 Bytes [100.00%] received. Rate: [24323 KB/s].  ETA: [0 secs]    \r"
     ]
    },
    {
     "name": "stderr",
     "output_type": "stream",
     "text": [
      "\r",
      "85it [02:58,  2.77s/it]"
     ]
    },
    {
     "name": "stdout",
     "output_type": "stream",
     "text": [
      "\n",
      "  4,322,786.0 Bytes [100.00%] received. Rate: [15855 KB/s].  ETA: [0 secs]    \r"
     ]
    },
    {
     "name": "stderr",
     "output_type": "stream",
     "text": [
      "\r",
      "86it [03:00,  2.41s/it]"
     ]
    },
    {
     "name": "stdout",
     "output_type": "stream",
     "text": [
      "\n",
      "  14,212,331.0 Bytes [100.00%] received. Rate: [15746 KB/s].  ETA: [0 secs]    \r"
     ]
    },
    {
     "name": "stderr",
     "output_type": "stream",
     "text": [
      "\r",
      "87it [03:02,  2.53s/it]"
     ]
    },
    {
     "name": "stdout",
     "output_type": "stream",
     "text": [
      "\n",
      "  4,662,310.0 Bytes [100.00%] received. Rate: [13833 KB/s].  ETA: [0 secs]    \r"
     ]
    },
    {
     "name": "stderr",
     "output_type": "stream",
     "text": [
      "\r",
      "88it [03:04,  2.18s/it]"
     ]
    },
    {
     "name": "stdout",
     "output_type": "stream",
     "text": [
      "\n",
      "  3,138,722.0 Bytes [100.00%] received. Rate: [14289 KB/s].  ETA: [0 secs]    \r"
     ]
    },
    {
     "name": "stderr",
     "output_type": "stream",
     "text": [
      "\r",
      "89it [03:05,  1.93s/it]"
     ]
    },
    {
     "name": "stdout",
     "output_type": "stream",
     "text": [
      "\n",
      "  5,346,118.0 Bytes [100.00%] received. Rate: [15651 KB/s].  ETA: [0 secs]    \r"
     ]
    },
    {
     "name": "stderr",
     "output_type": "stream",
     "text": [
      "\r",
      "90it [03:07,  1.79s/it]"
     ]
    },
    {
     "name": "stdout",
     "output_type": "stream",
     "text": [
      "\n",
      "  3,425,062.0 Bytes [100.00%] received. Rate: [16738 KB/s].  ETA: [0 secs]    \r"
     ]
    },
    {
     "name": "stderr",
     "output_type": "stream",
     "text": [
      "\r",
      "91it [03:08,  1.63s/it]"
     ]
    },
    {
     "name": "stdout",
     "output_type": "stream",
     "text": [
      "\n",
      "  5,532,777.0 Bytes [100.00%] received. Rate: [19626 KB/s].  ETA: [0 secs]    \r"
     ]
    },
    {
     "name": "stderr",
     "output_type": "stream",
     "text": [
      "\r",
      "92it [03:09,  1.44s/it]"
     ]
    },
    {
     "name": "stdout",
     "output_type": "stream",
     "text": [
      "\n",
      "  116,067.0 Bytes [100.00%] received. Rate: [ 665 KB/s].  ETA: [0 secs]    \r"
     ]
    },
    {
     "name": "stderr",
     "output_type": "stream",
     "text": [
      "\r",
      "93it [03:10,  1.35s/it]"
     ]
    },
    {
     "name": "stdout",
     "output_type": "stream",
     "text": [
      "\n",
      "  2,127,355.0 Bytes [100.00%] received. Rate: [9216 KB/s].  ETA: [0 secs]    \r"
     ]
    },
    {
     "name": "stderr",
     "output_type": "stream",
     "text": [
      "\r",
      "94it [03:11,  1.29s/it]"
     ]
    },
    {
     "name": "stdout",
     "output_type": "stream",
     "text": [
      "\n",
      "  148,541.0 Bytes [100.00%] received. Rate: [ 660 KB/s].  ETA: [0 secs]    \r"
     ]
    },
    {
     "name": "stderr",
     "output_type": "stream",
     "text": [
      "\r",
      "95it [03:12,  1.15s/it]"
     ]
    },
    {
     "name": "stdout",
     "output_type": "stream",
     "text": [
      "\n",
      "  654,647.0 Bytes [100.00%] received. Rate: [5718 KB/s].  ETA: [0 secs]    \r"
     ]
    },
    {
     "name": "stderr",
     "output_type": "stream",
     "text": [
      "\r",
      "96it [03:13,  1.10s/it]"
     ]
    },
    {
     "name": "stdout",
     "output_type": "stream",
     "text": [
      "\n",
      "  509,997.0 Bytes [100.00%] received. Rate: [  59 KB/s].  ETA: [0 secs]    \r"
     ]
    },
    {
     "name": "stderr",
     "output_type": "stream",
     "text": [
      "\r",
      "97it [03:22,  3.63s/it]"
     ]
    },
    {
     "name": "stdout",
     "output_type": "stream",
     "text": [
      "\n",
      "  10,893,732.0 Bytes [100.00%] received. Rate: [9969 KB/s].  ETA: [0 secs]    \r"
     ]
    },
    {
     "name": "stderr",
     "output_type": "stream",
     "text": [
      "\r",
      "98it [03:25,  3.18s/it]"
     ]
    },
    {
     "name": "stdout",
     "output_type": "stream",
     "text": [
      "\n",
      "  7,062,808.0 Bytes [100.00%] received. Rate: [21273 KB/s].  ETA: [0 secs]    \r"
     ]
    },
    {
     "name": "stderr",
     "output_type": "stream",
     "text": [
      "\r",
      "99it [03:26,  2.56s/it]"
     ]
    },
    {
     "name": "stdout",
     "output_type": "stream",
     "text": [
      "\n",
      "  745,224.0 Bytes [100.00%] received. Rate: [4234 KB/s].  ETA: [0 secs]    \r"
     ]
    },
    {
     "name": "stderr",
     "output_type": "stream",
     "text": [
      "\r",
      "100it [03:27,  2.12s/it]"
     ]
    },
    {
     "name": "stdout",
     "output_type": "stream",
     "text": [
      "\n",
      "  4,027,029.0 Bytes [100.00%] received. Rate: [16815 KB/s].  ETA: [0 secs]    \r"
     ]
    },
    {
     "name": "stderr",
     "output_type": "stream",
     "text": [
      "\r",
      "101it [03:28,  1.83s/it]"
     ]
    },
    {
     "name": "stdout",
     "output_type": "stream",
     "text": [
      "\n",
      "  6,440,668.0 Bytes [100.00%] received. Rate: [15038 KB/s].  ETA: [0 secs]    \r"
     ]
    },
    {
     "name": "stderr",
     "output_type": "stream",
     "text": [
      "\r",
      "102it [03:29,  1.74s/it]"
     ]
    },
    {
     "name": "stdout",
     "output_type": "stream",
     "text": [
      "\n",
      "  7,155,314.0 Bytes [100.00%] received. Rate: [  48 KB/s].  ETA: [0 secs]     \r"
     ]
    },
    {
     "name": "stderr",
     "output_type": "stream",
     "text": [
      "\r",
      "103it [05:55, 44.75s/it]"
     ]
    },
    {
     "name": "stdout",
     "output_type": "stream",
     "text": [
      "\n"
     ]
    },
    {
     "name": "stderr",
     "output_type": "stream",
     "text": [
      "ERROR: Private video\n",
      "Sign in if you've been granted access to this video\n",
      "104it [05:55, 31.37s/it]"
     ]
    },
    {
     "name": "stdout",
     "output_type": "stream",
     "text": [
      "  11,719,768.0 Bytes [100.00%] received. Rate: [  56 KB/s].  ETA: [0 secs]     \r"
     ]
    },
    {
     "name": "stderr",
     "output_type": "stream",
     "text": [
      "\r",
      "105it [09:22, 84.19s/it]"
     ]
    },
    {
     "name": "stdout",
     "output_type": "stream",
     "text": [
      "\n",
      "  5,033,249.0 Bytes [100.00%] received. Rate: [23248 KB/s].  ETA: [0 secs]    \r"
     ]
    },
    {
     "name": "stderr",
     "output_type": "stream",
     "text": [
      "\r",
      "106it [09:23, 59.23s/it]"
     ]
    },
    {
     "name": "stdout",
     "output_type": "stream",
     "text": [
      "\n",
      "  2,174,668.0 Bytes [100.00%] received. Rate: [11993 KB/s].  ETA: [0 secs]    \r"
     ]
    },
    {
     "name": "stderr",
     "output_type": "stream",
     "text": [
      "\r",
      "107it [09:24, 41.82s/it]"
     ]
    },
    {
     "name": "stdout",
     "output_type": "stream",
     "text": [
      "\n",
      "  11,520,236.0 Bytes [100.00%] received. Rate: [10800 KB/s].  ETA: [0 secs]    \r"
     ]
    },
    {
     "name": "stderr",
     "output_type": "stream",
     "text": [
      "\r",
      "108it [09:26, 29.84s/it]"
     ]
    },
    {
     "name": "stdout",
     "output_type": "stream",
     "text": [
      "\n",
      "  1,928,698.0 Bytes [100.00%] received. Rate: [9811 KB/s].  ETA: [0 secs]    \r"
     ]
    },
    {
     "name": "stderr",
     "output_type": "stream",
     "text": [
      "\r",
      "109it [09:27, 21.20s/it]"
     ]
    },
    {
     "name": "stdout",
     "output_type": "stream",
     "text": [
      "\n",
      "  1,117,428.0 Bytes [100.00%] received. Rate: [10723 KB/s].  ETA: [0 secs]    \r"
     ]
    },
    {
     "name": "stderr",
     "output_type": "stream",
     "text": [
      "\r",
      "110it [09:28, 15.11s/it]"
     ]
    },
    {
     "name": "stdout",
     "output_type": "stream",
     "text": [
      "\n",
      "  343,218.0 Bytes [100.00%] received. Rate: [ 705 KB/s].  ETA: [0 secs]    \r"
     ]
    },
    {
     "name": "stderr",
     "output_type": "stream",
     "text": [
      "\r",
      "111it [09:30, 11.01s/it]"
     ]
    },
    {
     "name": "stdout",
     "output_type": "stream",
     "text": [
      "\n",
      "  1,061,566.0 Bytes [100.00%] received. Rate: [5712 KB/s].  ETA: [0 secs]    \r"
     ]
    },
    {
     "name": "stderr",
     "output_type": "stream",
     "text": [
      "\r",
      "112it [09:31,  8.05s/it]"
     ]
    },
    {
     "name": "stdout",
     "output_type": "stream",
     "text": [
      "\n",
      "  780,265.0 Bytes [100.00%] received. Rate: [3919 KB/s].  ETA: [0 secs]    \r"
     ]
    },
    {
     "name": "stderr",
     "output_type": "stream",
     "text": [
      "\r",
      "113it [09:32,  5.91s/it]"
     ]
    },
    {
     "name": "stdout",
     "output_type": "stream",
     "text": [
      "\n",
      "  11,822,646.0 Bytes [100.00%] received. Rate: [12598 KB/s].  ETA: [0 secs]    \r"
     ]
    },
    {
     "name": "stderr",
     "output_type": "stream",
     "text": [
      "\r",
      "114it [09:34,  4.75s/it]"
     ]
    },
    {
     "name": "stdout",
     "output_type": "stream",
     "text": [
      "\n",
      "  22,712,748.0 Bytes [100.00%] received. Rate: [25607 KB/s].  ETA: [0 secs]    \r"
     ]
    },
    {
     "name": "stderr",
     "output_type": "stream",
     "text": [
      "\r",
      "115it [09:35,  3.81s/it]"
     ]
    },
    {
     "name": "stdout",
     "output_type": "stream",
     "text": [
      "\n",
      "  3,235,569.0 Bytes [100.00%] received. Rate: [19444 KB/s].  ETA: [0 secs]    \r"
     ]
    },
    {
     "name": "stderr",
     "output_type": "stream",
     "text": [
      "\r",
      "116it [09:37,  3.02s/it]"
     ]
    },
    {
     "name": "stdout",
     "output_type": "stream",
     "text": [
      "\n",
      "  867,006.0 Bytes [100.00%] received. Rate: [3142 KB/s].  ETA: [0 secs]    \r"
     ]
    },
    {
     "name": "stderr",
     "output_type": "stream",
     "text": [
      "\r",
      "117it [09:37,  2.36s/it]"
     ]
    },
    {
     "name": "stdout",
     "output_type": "stream",
     "text": [
      "\n",
      "  333,656.0 Bytes [100.00%] received. Rate: [3154 KB/s].  ETA: [0 secs]    \r"
     ]
    },
    {
     "name": "stderr",
     "output_type": "stream",
     "text": [
      "\r",
      "118it [09:38,  1.90s/it]"
     ]
    },
    {
     "name": "stdout",
     "output_type": "stream",
     "text": [
      "\n",
      "  5,923,059.0 Bytes [100.00%] received. Rate: [20690 KB/s].  ETA: [0 secs]    \r"
     ]
    },
    {
     "name": "stderr",
     "output_type": "stream",
     "text": [
      "\r",
      "119it [09:40,  1.73s/it]"
     ]
    },
    {
     "name": "stdout",
     "output_type": "stream",
     "text": [
      "\n",
      "  5,077,648.0 Bytes [100.00%] received. Rate: [14868 KB/s].  ETA: [0 secs]    \r"
     ]
    },
    {
     "name": "stderr",
     "output_type": "stream",
     "text": [
      "\r",
      "120it [09:41,  1.66s/it]"
     ]
    },
    {
     "name": "stdout",
     "output_type": "stream",
     "text": [
      "\n",
      "  765,355.0 Bytes [100.00%] received. Rate: [3869 KB/s].  ETA: [0 secs]    \r"
     ]
    },
    {
     "name": "stderr",
     "output_type": "stream",
     "text": [
      "\r",
      "121it [09:43,  1.66s/it]"
     ]
    },
    {
     "name": "stdout",
     "output_type": "stream",
     "text": [
      "\n",
      "  5,618,795.0 Bytes [100.00%] received. Rate: [18052 KB/s].  ETA: [0 secs]    \r"
     ]
    },
    {
     "name": "stderr",
     "output_type": "stream",
     "text": [
      "\r",
      "122it [09:44,  1.62s/it]"
     ]
    },
    {
     "name": "stdout",
     "output_type": "stream",
     "text": [
      "\n",
      "  21,253,564.0 Bytes [100.00%] received. Rate: [4417 KB/s].  ETA: [0 secs]    \r"
     ]
    },
    {
     "name": "stderr",
     "output_type": "stream",
     "text": [
      "\r",
      "123it [09:48,  2.21s/it]"
     ]
    },
    {
     "name": "stdout",
     "output_type": "stream",
     "text": [
      "\n",
      "  1,345,710.0 Bytes [100.00%] received. Rate: [8000 KB/s].  ETA: [0 secs]    \r"
     ]
    },
    {
     "name": "stderr",
     "output_type": "stream",
     "text": [
      "\r",
      "124it [09:49,  1.85s/it]"
     ]
    },
    {
     "name": "stdout",
     "output_type": "stream",
     "text": [
      "\n",
      "  5,179,616.0 Bytes [100.00%] received. Rate: [ 138 KB/s].  ETA: [0 secs]    \r"
     ]
    },
    {
     "name": "stderr",
     "output_type": "stream",
     "text": [
      "\r",
      "125it [10:27, 12.65s/it]"
     ]
    },
    {
     "name": "stdout",
     "output_type": "stream",
     "text": [
      "\n",
      "  330,784.0 Bytes [100.00%] received. Rate: [  55 KB/s].  ETA: [0 secs]    \r"
     ]
    },
    {
     "name": "stderr",
     "output_type": "stream",
     "text": [
      "\r",
      "126it [10:33, 10.82s/it]"
     ]
    },
    {
     "name": "stdout",
     "output_type": "stream",
     "text": [
      "\n",
      "  9,939,165.0 Bytes [100.00%] received. Rate: [7191 KB/s].  ETA: [0 secs]    \r"
     ]
    },
    {
     "name": "stderr",
     "output_type": "stream",
     "text": [
      "\r",
      "127it [10:35,  8.24s/it]"
     ]
    },
    {
     "name": "stdout",
     "output_type": "stream",
     "text": [
      "\n",
      "  653,959.0 Bytes [100.00%] received. Rate: [1313 KB/s].  ETA: [0 secs]    \r"
     ]
    },
    {
     "name": "stderr",
     "output_type": "stream",
     "text": [
      "\r",
      "128it [10:37,  6.18s/it]"
     ]
    },
    {
     "name": "stdout",
     "output_type": "stream",
     "text": [
      "\n",
      "  487,800.0 Bytes [100.00%] received. Rate: [3430 KB/s].  ETA: [0 secs]    \r"
     ]
    },
    {
     "name": "stderr",
     "output_type": "stream",
     "text": [
      "\r",
      "129it [10:38,  4.63s/it]"
     ]
    },
    {
     "name": "stdout",
     "output_type": "stream",
     "text": [
      "\n",
      "  1,677,507.0 Bytes [100.00%] received. Rate: [14188 KB/s].  ETA: [0 secs]    \r"
     ]
    },
    {
     "name": "stderr",
     "output_type": "stream",
     "text": [
      "\r",
      "130it [10:39,  3.64s/it]"
     ]
    },
    {
     "name": "stdout",
     "output_type": "stream",
     "text": [
      "\n",
      "  2,461,096.0 Bytes [100.00%] received. Rate: [11929 KB/s].  ETA: [0 secs]    \r"
     ]
    },
    {
     "name": "stderr",
     "output_type": "stream",
     "text": [
      "\r",
      "131it [10:40,  2.79s/it]"
     ]
    },
    {
     "name": "stdout",
     "output_type": "stream",
     "text": [
      "\n",
      "  4,965,620.0 Bytes [100.00%] received. Rate: [21519 KB/s].  ETA: [0 secs]    \r"
     ]
    },
    {
     "name": "stderr",
     "output_type": "stream",
     "text": [
      "\r",
      "132it [10:41,  2.32s/it]"
     ]
    },
    {
     "name": "stdout",
     "output_type": "stream",
     "text": [
      "\n",
      "  949,151.0 Bytes [100.00%] received. Rate: [11497 KB/s].  ETA: [0 secs]    \r"
     ]
    },
    {
     "name": "stderr",
     "output_type": "stream",
     "text": [
      "\r",
      "133it [10:42,  1.89s/it]"
     ]
    },
    {
     "name": "stdout",
     "output_type": "stream",
     "text": [
      "\n",
      "  28,610,345.0 Bytes [100.00%] received. Rate: [16440 KB/s].  ETA: [0 secs]    \r"
     ]
    },
    {
     "name": "stderr",
     "output_type": "stream",
     "text": [
      "\r",
      "134it [10:45,  2.32s/it]"
     ]
    },
    {
     "name": "stdout",
     "output_type": "stream",
     "text": [
      "\n",
      "  578,910.0 Bytes [100.00%] received. Rate: [2934 KB/s].  ETA: [0 secs]    \r"
     ]
    },
    {
     "name": "stderr",
     "output_type": "stream",
     "text": [
      "\r",
      "135it [10:46,  1.83s/it]"
     ]
    },
    {
     "name": "stdout",
     "output_type": "stream",
     "text": [
      "\n"
     ]
    },
    {
     "name": "stderr",
     "output_type": "stream",
     "text": [
      "ERROR: Video unavailable\n",
      "This video is no longer available because the YouTube account associated with this video has been terminated.\n",
      "136it [10:46,  1.32s/it]"
     ]
    },
    {
     "name": "stdout",
     "output_type": "stream",
     "text": [
      "  2,688,664.0 Bytes [100.00%] received. Rate: [12571 KB/s].  ETA: [0 secs]    \r"
     ]
    },
    {
     "name": "stderr",
     "output_type": "stream",
     "text": [
      "\r",
      "137it [10:47,  1.25s/it]"
     ]
    },
    {
     "name": "stdout",
     "output_type": "stream",
     "text": [
      "\n",
      "  1,362,942.0 Bytes [100.00%] received. Rate: [12003 KB/s].  ETA: [0 secs]    \r"
     ]
    },
    {
     "name": "stderr",
     "output_type": "stream",
     "text": [
      "\r",
      "138it [10:48,  1.07s/it]"
     ]
    },
    {
     "name": "stdout",
     "output_type": "stream",
     "text": [
      "\n",
      "  9,522,253.0 Bytes [100.00%] received. Rate: [7494 KB/s].  ETA: [0 secs]    \r"
     ]
    },
    {
     "name": "stderr",
     "output_type": "stream",
     "text": [
      "\r",
      "139it [10:50,  1.44s/it]"
     ]
    },
    {
     "name": "stdout",
     "output_type": "stream",
     "text": [
      "\n",
      "  21,132,435.0 Bytes [100.00%] received. Rate: [16381 KB/s].  ETA: [0 secs]    \r"
     ]
    },
    {
     "name": "stderr",
     "output_type": "stream",
     "text": [
      "140it [10:53,  1.75s/it]ERROR: Video unavailable\n"
     ]
    },
    {
     "name": "stdout",
     "output_type": "stream",
     "text": [
      "\n",
      "  161,270.0 Bytes [100.00%] received. Rate: [ 572 KB/s].  ETA: [0 secs]    \r"
     ]
    },
    {
     "name": "stderr",
     "output_type": "stream",
     "text": [
      "\r",
      "142it [10:54,  1.27s/it]"
     ]
    },
    {
     "name": "stdout",
     "output_type": "stream",
     "text": [
      "\n",
      "  8,511,074.0 Bytes [100.00%] received. Rate: [21577 KB/s].  ETA: [0 secs]    \r"
     ]
    },
    {
     "name": "stderr",
     "output_type": "stream",
     "text": [
      "\r",
      "143it [10:56,  1.33s/it]"
     ]
    },
    {
     "name": "stdout",
     "output_type": "stream",
     "text": [
      "\n",
      "  1,867,116.0 Bytes [100.00%] received. Rate: [9713 KB/s].  ETA: [0 secs]    \r"
     ]
    },
    {
     "name": "stderr",
     "output_type": "stream",
     "text": [
      "\r",
      "144it [10:57,  1.28s/it]"
     ]
    },
    {
     "name": "stdout",
     "output_type": "stream",
     "text": [
      "\n",
      "  2,051,756.0 Bytes [100.00%] received. Rate: [14949 KB/s].  ETA: [0 secs]    \r"
     ]
    },
    {
     "name": "stderr",
     "output_type": "stream",
     "text": [
      "\r",
      "145it [10:58,  1.25s/it]"
     ]
    },
    {
     "name": "stdout",
     "output_type": "stream",
     "text": [
      "\n",
      "  3,018,674.0 Bytes [100.00%] received. Rate: [21603 KB/s].  ETA: [0 secs]    \r"
     ]
    },
    {
     "name": "stderr",
     "output_type": "stream",
     "text": [
      "\r",
      "146it [10:59,  1.19s/it]"
     ]
    },
    {
     "name": "stdout",
     "output_type": "stream",
     "text": [
      "\n",
      "  2,757,690.0 Bytes [100.00%] received. Rate: [10658 KB/s].  ETA: [0 secs]    \r"
     ]
    },
    {
     "name": "stderr",
     "output_type": "stream",
     "text": [
      "\r",
      "147it [11:00,  1.08s/it]"
     ]
    },
    {
     "name": "stdout",
     "output_type": "stream",
     "text": [
      "\n",
      "  11,678,443.0 Bytes [100.00%] received. Rate: [31839 KB/s].  ETA: [0 secs]    \r"
     ]
    },
    {
     "name": "stderr",
     "output_type": "stream",
     "text": [
      "148it [11:01,  1.15s/it]ERROR: Video unavailable\n",
      "149it [11:01,  1.19it/s]"
     ]
    },
    {
     "name": "stdout",
     "output_type": "stream",
     "text": [
      "\n",
      "  2,023,091.0 Bytes [100.00%] received. Rate: [21270 KB/s].  ETA: [0 secs]    \r"
     ]
    },
    {
     "name": "stderr",
     "output_type": "stream",
     "text": [
      "\r",
      "150it [11:02,  1.24it/s]"
     ]
    },
    {
     "name": "stdout",
     "output_type": "stream",
     "text": [
      "\n",
      "  2,368,934.0 Bytes [100.00%] received. Rate: [12565 KB/s].  ETA: [0 secs]    \r"
     ]
    },
    {
     "name": "stderr",
     "output_type": "stream",
     "text": [
      "\r",
      "151it [11:03,  1.28it/s]"
     ]
    },
    {
     "name": "stdout",
     "output_type": "stream",
     "text": [
      "\n",
      "  1,137,296.0 Bytes [100.00%] received. Rate: [5572 KB/s].  ETA: [0 secs]    \r"
     ]
    },
    {
     "name": "stderr",
     "output_type": "stream",
     "text": [
      "\r",
      "152it [11:04,  1.15it/s]"
     ]
    },
    {
     "name": "stdout",
     "output_type": "stream",
     "text": [
      "\n",
      "  3,347,121.0 Bytes [100.00%] received. Rate: [14811 KB/s].  ETA: [0 secs]    \r"
     ]
    },
    {
     "name": "stderr",
     "output_type": "stream",
     "text": [
      "\r",
      "153it [11:05,  1.06s/it]"
     ]
    },
    {
     "name": "stdout",
     "output_type": "stream",
     "text": [
      "\n",
      "  14,858,753.0 Bytes [100.00%] received. Rate: [61008 KB/s].  ETA: [0 secs]    \r"
     ]
    },
    {
     "name": "stderr",
     "output_type": "stream",
     "text": [
      "\r",
      "154it [11:07,  1.13s/it]"
     ]
    },
    {
     "name": "stdout",
     "output_type": "stream",
     "text": [
      "\n",
      "  1,102,874.0 Bytes [100.00%] received. Rate: [13718 KB/s].  ETA: [0 secs]    \r"
     ]
    },
    {
     "name": "stderr",
     "output_type": "stream",
     "text": [
      "\r",
      "155it [11:07,  1.05s/it]"
     ]
    },
    {
     "name": "stdout",
     "output_type": "stream",
     "text": [
      "\n",
      "  10,138,197.0 Bytes [100.00%] received. Rate: [7772 KB/s].  ETA: [0 secs]    \r"
     ]
    },
    {
     "name": "stderr",
     "output_type": "stream",
     "text": [
      "156it [11:10,  1.44s/it]ERROR: Private video\n",
      "Sign in if you've been granted access to this video\n",
      "157it [11:10,  1.04s/it]"
     ]
    },
    {
     "name": "stdout",
     "output_type": "stream",
     "text": [
      "\n",
      "  215,762.0 Bytes [100.00%] received. Rate: [2846 KB/s].  ETA: [0 secs]    \r"
     ]
    },
    {
     "name": "stderr",
     "output_type": "stream",
     "text": [
      "\r",
      "158it [11:11,  1.04s/it]"
     ]
    },
    {
     "name": "stdout",
     "output_type": "stream",
     "text": [
      "\n",
      "  4,266,492.0 Bytes [100.00%] received. Rate: [3229 KB/s].  ETA: [0 secs]    \r"
     ]
    },
    {
     "name": "stderr",
     "output_type": "stream",
     "text": [
      "\r",
      "159it [11:13,  1.35s/it]"
     ]
    },
    {
     "name": "stdout",
     "output_type": "stream",
     "text": [
      "\n",
      "  3,482,512.0 Bytes [100.00%] received. Rate: [25142 KB/s].  ETA: [0 secs]    \r"
     ]
    },
    {
     "name": "stderr",
     "output_type": "stream",
     "text": [
      "\r",
      "160it [11:14,  1.27s/it]"
     ]
    },
    {
     "name": "stdout",
     "output_type": "stream",
     "text": [
      "\n"
     ]
    },
    {
     "name": "stderr",
     "output_type": "stream",
     "text": [
      "ERROR: Private video\n",
      "Sign in if you've been granted access to this video\n",
      "161it [11:14,  1.08it/s]"
     ]
    },
    {
     "name": "stdout",
     "output_type": "stream",
     "text": [
      "  10,736,021.0 Bytes [100.00%] received. Rate: [4608 KB/s].  ETA: [0 secs]    \r"
     ]
    },
    {
     "name": "stderr",
     "output_type": "stream",
     "text": [
      "\r",
      "162it [11:15,  1.01s/it]"
     ]
    },
    {
     "name": "stdout",
     "output_type": "stream",
     "text": [
      "\n",
      "  2,748,548.0 Bytes [100.00%] received. Rate: [13034 KB/s].  ETA: [0 secs]    \r"
     ]
    },
    {
     "name": "stderr",
     "output_type": "stream",
     "text": [
      "\r",
      "163it [11:17,  1.04s/it]"
     ]
    },
    {
     "name": "stdout",
     "output_type": "stream",
     "text": [
      "\n",
      "  1,018,465.0 Bytes [100.00%] received. Rate: [7483 KB/s].  ETA: [0 secs]    \r"
     ]
    },
    {
     "name": "stderr",
     "output_type": "stream",
     "text": [
      "\r",
      "164it [11:17,  1.02s/it]"
     ]
    },
    {
     "name": "stdout",
     "output_type": "stream",
     "text": [
      "\n",
      "  25,017,193.0 Bytes [100.00%] received. Rate: [20966 KB/s].  ETA: [0 secs]    \r"
     ]
    },
    {
     "name": "stderr",
     "output_type": "stream",
     "text": [
      "\r",
      "165it [11:20,  1.46s/it]"
     ]
    },
    {
     "name": "stdout",
     "output_type": "stream",
     "text": [
      "\n",
      "  3,471,512.0 Bytes [100.00%] received. Rate: [24076 KB/s].  ETA: [0 secs]    \r"
     ]
    },
    {
     "name": "stderr",
     "output_type": "stream",
     "text": [
      "\r",
      "166it [11:21,  1.36s/it]"
     ]
    },
    {
     "name": "stdout",
     "output_type": "stream",
     "text": [
      "\n",
      "  175,515.0 Bytes [100.00%] received. Rate: [ 600 KB/s].  ETA: [0 secs]    \r"
     ]
    },
    {
     "name": "stderr",
     "output_type": "stream",
     "text": [
      "\r",
      "167it [11:22,  1.33s/it]"
     ]
    },
    {
     "name": "stdout",
     "output_type": "stream",
     "text": [
      "\n",
      "  5,639,684.0 Bytes [100.00%] received. Rate: [19131 KB/s].  ETA: [0 secs]    \r"
     ]
    },
    {
     "name": "stderr",
     "output_type": "stream",
     "text": [
      "\r",
      "168it [11:24,  1.39s/it]"
     ]
    },
    {
     "name": "stdout",
     "output_type": "stream",
     "text": [
      "\n",
      "  184,611.0 Bytes [100.00%] received. Rate: [  50 KB/s].  ETA: [0 secs]    \r"
     ]
    },
    {
     "name": "stderr",
     "output_type": "stream",
     "text": [
      "\r",
      "169it [11:28,  2.31s/it]"
     ]
    },
    {
     "name": "stdout",
     "output_type": "stream",
     "text": [
      "\n",
      "  1,846,441.0 Bytes [100.00%] received. Rate: [7325 KB/s].  ETA: [0 secs]    \r"
     ]
    },
    {
     "name": "stderr",
     "output_type": "stream",
     "text": [
      "\r",
      "170it [11:29,  1.94s/it]"
     ]
    },
    {
     "name": "stdout",
     "output_type": "stream",
     "text": [
      "\n",
      "  547,797.0 Bytes [100.00%] received. Rate: [4106 KB/s].  ETA: [0 secs]    \r"
     ]
    },
    {
     "name": "stderr",
     "output_type": "stream",
     "text": [
      "\r",
      "171it [11:30,  1.66s/it]"
     ]
    },
    {
     "name": "stdout",
     "output_type": "stream",
     "text": [
      "\n",
      "  3,496,538.0 Bytes [100.00%] received. Rate: [  66 KB/s].  ETA: [0 secs]    \r"
     ]
    },
    {
     "name": "stderr",
     "output_type": "stream",
     "text": [
      "\r",
      "172it [12:23, 16.87s/it]"
     ]
    },
    {
     "name": "stdout",
     "output_type": "stream",
     "text": [
      "\n"
     ]
    },
    {
     "name": "stderr",
     "output_type": "stream",
     "text": [
      "ERROR: Video unavailable\n",
      "173it [12:23, 11.84s/it]"
     ]
    },
    {
     "name": "stdout",
     "output_type": "stream",
     "text": [
      "  10,718,787.0 Bytes [100.00%] received. Rate: [28705 KB/s].  ETA: [0 secs]    \r"
     ]
    },
    {
     "name": "stderr",
     "output_type": "stream",
     "text": [
      "\r",
      "174it [12:25,  8.88s/it]"
     ]
    },
    {
     "name": "stdout",
     "output_type": "stream",
     "text": [
      "\n",
      "  142,615.0 Bytes [100.00%] received. Rate: [ 721 KB/s].  ETA: [0 secs]    \r"
     ]
    },
    {
     "name": "stderr",
     "output_type": "stream",
     "text": [
      "\r",
      "175it [12:26,  6.52s/it]"
     ]
    },
    {
     "name": "stdout",
     "output_type": "stream",
     "text": [
      "\n",
      "  8,483,720.0 Bytes [100.00%] received. Rate: [25967 KB/s].  ETA: [0 secs]    \r"
     ]
    },
    {
     "name": "stderr",
     "output_type": "stream",
     "text": [
      "176it [12:27,  4.97s/it]ERROR: Video unavailable\n",
      "This video is no longer available because the YouTube account associated with this video has been terminated.\n",
      "177it [12:27,  3.52s/it]"
     ]
    },
    {
     "name": "stdout",
     "output_type": "stream",
     "text": [
      "\n",
      "  2,684,219.0 Bytes [100.00%] received. Rate: [7449 KB/s].  ETA: [0 secs]    \r"
     ]
    },
    {
     "name": "stderr",
     "output_type": "stream",
     "text": [
      "\r",
      "178it [12:29,  2.88s/it]"
     ]
    },
    {
     "name": "stdout",
     "output_type": "stream",
     "text": [
      "\n",
      "  2,974,859.0 Bytes [100.00%] received. Rate: [17776 KB/s].  ETA: [0 secs]    \r"
     ]
    },
    {
     "name": "stderr",
     "output_type": "stream",
     "text": [
      "\r",
      "179it [12:30,  2.39s/it]"
     ]
    },
    {
     "name": "stdout",
     "output_type": "stream",
     "text": [
      "\n"
     ]
    },
    {
     "name": "stderr",
     "output_type": "stream",
     "text": [
      "ERROR: Video unavailable\n",
      "180it [12:30,  1.71s/it]"
     ]
    },
    {
     "name": "stdout",
     "output_type": "stream",
     "text": [
      "  5,446,255.0 Bytes [100.00%] received. Rate: [18411 KB/s].  ETA: [0 secs]    \r"
     ]
    },
    {
     "name": "stderr",
     "output_type": "stream",
     "text": [
      "\r",
      "181it [12:31,  1.56s/it]"
     ]
    },
    {
     "name": "stdout",
     "output_type": "stream",
     "text": [
      "\n",
      "  5,593,201.0 Bytes [100.00%] received. Rate: [12196 KB/s].  ETA: [0 secs]    \r"
     ]
    },
    {
     "name": "stderr",
     "output_type": "stream",
     "text": [
      "\r",
      "182it [12:32,  1.44s/it]"
     ]
    },
    {
     "name": "stdout",
     "output_type": "stream",
     "text": [
      "\n",
      "  65,825.0 Bytes [100.00%] received. Rate: [ 575 KB/s].  ETA: [0 secs]    \r"
     ]
    },
    {
     "name": "stderr",
     "output_type": "stream",
     "text": [
      "183it [12:33,  1.21s/it]ERROR: This video has been removed for violating YouTube's Terms of Service.\n"
     ]
    },
    {
     "name": "stdout",
     "output_type": "stream",
     "text": [
      "\n",
      "  9,418,220.0 Bytes [100.00%] received. Rate: [20715 KB/s].  ETA: [0 secs]    \r"
     ]
    },
    {
     "name": "stderr",
     "output_type": "stream",
     "text": [
      "\r",
      "185it [12:35,  1.03it/s]"
     ]
    },
    {
     "name": "stdout",
     "output_type": "stream",
     "text": [
      "\n",
      "  1,164,239.0 Bytes [100.00%] received. Rate: [3894 KB/s].  ETA: [0 secs]    \r"
     ]
    },
    {
     "name": "stderr",
     "output_type": "stream",
     "text": [
      "\r",
      "186it [12:36,  1.08s/it]"
     ]
    },
    {
     "name": "stdout",
     "output_type": "stream",
     "text": [
      "\n",
      "  321,769.0 Bytes [100.00%] received. Rate: [2658 KB/s].  ETA: [0 secs]    \r"
     ]
    },
    {
     "name": "stderr",
     "output_type": "stream",
     "text": [
      "\r",
      "187it [12:37,  1.14s/it]"
     ]
    },
    {
     "name": "stdout",
     "output_type": "stream",
     "text": [
      "\n",
      "  13,172,877.0 Bytes [100.00%] received. Rate: [12308 KB/s].  ETA: [0 secs]    \r"
     ]
    },
    {
     "name": "stderr",
     "output_type": "stream",
     "text": [
      "\r",
      "188it [12:39,  1.29s/it]"
     ]
    },
    {
     "name": "stdout",
     "output_type": "stream",
     "text": [
      "\n",
      "  229,962.0 Bytes [100.00%] received. Rate: [1827 KB/s].  ETA: [0 secs]    \r"
     ]
    },
    {
     "name": "stderr",
     "output_type": "stream",
     "text": [
      "\r",
      "189it [12:40,  1.21s/it]"
     ]
    },
    {
     "name": "stdout",
     "output_type": "stream",
     "text": [
      "\n",
      "  9,157,356.0 Bytes [100.00%] received. Rate: [24693 KB/s].  ETA: [0 secs]    \r"
     ]
    },
    {
     "name": "stderr",
     "output_type": "stream",
     "text": [
      "\r",
      "190it [12:41,  1.24s/it]"
     ]
    },
    {
     "name": "stdout",
     "output_type": "stream",
     "text": [
      "\n",
      "  7,466,304.0 Bytes [100.00%] received. Rate: [21759 KB/s].  ETA: [0 secs]    \r"
     ]
    },
    {
     "name": "stderr",
     "output_type": "stream",
     "text": [
      "191it [12:43,  1.25s/it]ERROR: Video unavailable\n",
      "This video is no longer available because the YouTube account associated with this video has been terminated.\n",
      "192it [12:43,  1.09it/s]"
     ]
    },
    {
     "name": "stdout",
     "output_type": "stream",
     "text": [
      "\n",
      "  1,895,051.0 Bytes [100.00%] received. Rate: [9018 KB/s].  ETA: [0 secs]    \r"
     ]
    },
    {
     "name": "stderr",
     "output_type": "stream",
     "text": [
      "\r",
      "193it [12:44,  1.01s/it]"
     ]
    },
    {
     "name": "stdout",
     "output_type": "stream",
     "text": [
      "\n",
      "  8,088,982.0 Bytes [100.00%] received. Rate: [23627 KB/s].  ETA: [0 secs]    \r"
     ]
    },
    {
     "name": "stderr",
     "output_type": "stream",
     "text": [
      "\r",
      "194it [12:46,  1.22s/it]"
     ]
    },
    {
     "name": "stdout",
     "output_type": "stream",
     "text": [
      "\n",
      "  10,798,115.0 Bytes [100.00%] received. Rate: [50844 KB/s].  ETA: [0 secs]    \r"
     ]
    },
    {
     "name": "stderr",
     "output_type": "stream",
     "text": [
      "\r",
      "195it [12:47,  1.29s/it]"
     ]
    },
    {
     "name": "stdout",
     "output_type": "stream",
     "text": [
      "\n",
      "  3,393,833.0 Bytes [100.00%] received. Rate: [10011 KB/s].  ETA: [0 secs]    \r"
     ]
    },
    {
     "name": "stderr",
     "output_type": "stream",
     "text": [
      "\r",
      "196it [12:48,  1.20s/it]"
     ]
    },
    {
     "name": "stdout",
     "output_type": "stream",
     "text": [
      "\n",
      "  243,379.0 Bytes [100.00%] received. Rate: [2115 KB/s].  ETA: [0 secs]    \r"
     ]
    },
    {
     "name": "stderr",
     "output_type": "stream",
     "text": [
      "\r",
      "197it [12:49,  1.13s/it]"
     ]
    },
    {
     "name": "stdout",
     "output_type": "stream",
     "text": [
      "\n",
      "  9,437,623.0 Bytes [100.00%] received. Rate: [20913 KB/s].  ETA: [0 secs]    \r"
     ]
    },
    {
     "name": "stderr",
     "output_type": "stream",
     "text": [
      "\r",
      "198it [12:51,  1.25s/it]"
     ]
    },
    {
     "name": "stdout",
     "output_type": "stream",
     "text": [
      "\n"
     ]
    },
    {
     "name": "stderr",
     "output_type": "stream",
     "text": [
      "ERROR: Video unavailable\n",
      "This video contains content from BNNVARA, who has blocked it on copyright grounds.\n",
      "199it [12:51,  1.03it/s]"
     ]
    },
    {
     "name": "stdout",
     "output_type": "stream",
     "text": [
      "  6,811,211.0 Bytes [100.00%] received. Rate: [28506 KB/s].  ETA: [0 secs]    \r"
     ]
    },
    {
     "name": "stderr",
     "output_type": "stream",
     "text": [
      "\r",
      "200it [12:52,  1.02s/it]"
     ]
    },
    {
     "name": "stdout",
     "output_type": "stream",
     "text": [
      "\n",
      "  14,227,440.0 Bytes [100.00%] received. Rate: [19238 KB/s].  ETA: [0 secs]    \r"
     ]
    },
    {
     "name": "stderr",
     "output_type": "stream",
     "text": [
      "\r",
      "201it [12:54,  1.23s/it]"
     ]
    },
    {
     "name": "stdout",
     "output_type": "stream",
     "text": [
      "\n",
      "  7,579,713.0 Bytes [100.00%] received. Rate: [16800 KB/s].  ETA: [0 secs]    \r"
     ]
    },
    {
     "name": "stderr",
     "output_type": "stream",
     "text": [
      "\r",
      "202it [12:55,  1.36s/it]"
     ]
    },
    {
     "name": "stdout",
     "output_type": "stream",
     "text": [
      "\n",
      "  720,067.0 Bytes [100.00%] received. Rate: [3048 KB/s].  ETA: [0 secs]    \r"
     ]
    },
    {
     "name": "stderr",
     "output_type": "stream",
     "text": [
      "\r",
      "203it [12:56,  1.27s/it]"
     ]
    },
    {
     "name": "stdout",
     "output_type": "stream",
     "text": [
      "\n",
      "  6,280,780.0 Bytes [100.00%] received. Rate: [2570 KB/s].  ETA: [0 secs]    \r"
     ]
    },
    {
     "name": "stderr",
     "output_type": "stream",
     "text": [
      "\r",
      "204it [13:00,  1.91s/it]"
     ]
    },
    {
     "name": "stdout",
     "output_type": "stream",
     "text": [
      "\n",
      "  335,790.0 Bytes [100.00%] received. Rate: [1717 KB/s].  ETA: [0 secs]    \r"
     ]
    },
    {
     "name": "stderr",
     "output_type": "stream",
     "text": [
      "\r",
      "205it [13:01,  1.61s/it]"
     ]
    },
    {
     "name": "stdout",
     "output_type": "stream",
     "text": [
      "\n",
      "  3,362,804.0 Bytes [100.00%] received. Rate: [17095 KB/s].  ETA: [0 secs]    \r"
     ]
    },
    {
     "name": "stderr",
     "output_type": "stream",
     "text": [
      "\r",
      "206it [13:02,  1.47s/it]"
     ]
    },
    {
     "name": "stdout",
     "output_type": "stream",
     "text": [
      "\n"
     ]
    },
    {
     "name": "stderr",
     "output_type": "stream",
     "text": [
      "ERROR: Private video\n",
      "Sign in if you've been granted access to this video\n",
      "207it [13:02,  1.07s/it]"
     ]
    },
    {
     "name": "stdout",
     "output_type": "stream",
     "text": [
      "  9,675,278.0 Bytes [100.00%] received. Rate: [20762 KB/s].  ETA: [0 secs]    \r"
     ]
    },
    {
     "name": "stderr",
     "output_type": "stream",
     "text": [
      "\r",
      "208it [13:04,  1.20s/it]"
     ]
    },
    {
     "name": "stdout",
     "output_type": "stream",
     "text": [
      "\n",
      "  3,666,233.0 Bytes [100.00%] received. Rate: [16808 KB/s].  ETA: [0 secs]    \r"
     ]
    },
    {
     "name": "stderr",
     "output_type": "stream",
     "text": [
      "\r",
      "209it [13:05,  1.14s/it]"
     ]
    },
    {
     "name": "stdout",
     "output_type": "stream",
     "text": [
      "\n",
      "  110,342.0 Bytes [100.00%] received. Rate: [1198 KB/s].  ETA: [0 secs]    \r"
     ]
    },
    {
     "name": "stderr",
     "output_type": "stream",
     "text": [
      "\r",
      "210it [13:05,  1.03s/it]"
     ]
    },
    {
     "name": "stdout",
     "output_type": "stream",
     "text": [
      "\n",
      "  851,058.0 Bytes [100.00%] received. Rate: [5218 KB/s].  ETA: [0 secs]    \r"
     ]
    },
    {
     "name": "stderr",
     "output_type": "stream",
     "text": [
      "\r",
      "211it [13:06,  1.04s/it]"
     ]
    },
    {
     "name": "stdout",
     "output_type": "stream",
     "text": [
      "\n",
      "  14,298,324.0 Bytes [100.00%] received. Rate: [24798 KB/s].  ETA: [0 secs]    \r"
     ]
    },
    {
     "name": "stderr",
     "output_type": "stream",
     "text": [
      "\r",
      "212it [13:08,  1.23s/it]"
     ]
    },
    {
     "name": "stdout",
     "output_type": "stream",
     "text": [
      "\n",
      "  6,308,217.0 Bytes [100.00%] received. Rate: [18187 KB/s].  ETA: [0 secs]    \r"
     ]
    },
    {
     "name": "stderr",
     "output_type": "stream",
     "text": [
      "\r",
      "213it [13:09,  1.26s/it]"
     ]
    },
    {
     "name": "stdout",
     "output_type": "stream",
     "text": [
      "\n",
      "  5,521,731.0 Bytes [100.00%] received. Rate: [14089 KB/s].  ETA: [0 secs]    \r"
     ]
    },
    {
     "name": "stderr",
     "output_type": "stream",
     "text": [
      "\r",
      "214it [13:11,  1.24s/it]"
     ]
    },
    {
     "name": "stdout",
     "output_type": "stream",
     "text": [
      "\n",
      "  498,587.0 Bytes [100.00%] received. Rate: [2449 KB/s].  ETA: [0 secs]    \r"
     ]
    },
    {
     "name": "stderr",
     "output_type": "stream",
     "text": [
      "\r",
      "215it [13:11,  1.12s/it]"
     ]
    },
    {
     "name": "stdout",
     "output_type": "stream",
     "text": [
      "\n",
      "  170,365.0 Bytes [100.00%] received. Rate: [1499 KB/s].  ETA: [0 secs]    \r"
     ]
    },
    {
     "name": "stderr",
     "output_type": "stream",
     "text": [
      "\r",
      "216it [13:13,  1.12s/it]"
     ]
    },
    {
     "name": "stdout",
     "output_type": "stream",
     "text": [
      "\n",
      "  2,110,228.0 Bytes [100.00%] received. Rate: [2113 KB/s].  ETA: [0 secs]    \r"
     ]
    },
    {
     "name": "stderr",
     "output_type": "stream",
     "text": [
      "\r",
      "217it [13:14,  1.38s/it]"
     ]
    },
    {
     "name": "stdout",
     "output_type": "stream",
     "text": [
      "\n",
      "  1,203,253.0 Bytes [100.00%] received. Rate: [2763 KB/s].  ETA: [0 secs]    \r"
     ]
    },
    {
     "name": "stderr",
     "output_type": "stream",
     "text": [
      "\r",
      "218it [13:16,  1.39s/it]"
     ]
    },
    {
     "name": "stdout",
     "output_type": "stream",
     "text": [
      "\n",
      "  31,397,777.0 Bytes [100.00%] received. Rate: [6870 KB/s].  ETA: [0 secs]    \r"
     ]
    },
    {
     "name": "stderr",
     "output_type": "stream",
     "text": [
      "\r",
      "219it [13:19,  1.77s/it]"
     ]
    },
    {
     "name": "stdout",
     "output_type": "stream",
     "text": [
      "\n",
      "  1,957,416.0 Bytes [100.00%] received. Rate: [3217 KB/s].  ETA: [0 secs]    \r"
     ]
    },
    {
     "name": "stderr",
     "output_type": "stream",
     "text": [
      "\r",
      "220it [13:20,  1.66s/it]"
     ]
    },
    {
     "name": "stdout",
     "output_type": "stream",
     "text": [
      "\n",
      "  1,107,762.0 Bytes [100.00%] received. Rate: [14568 KB/s].  ETA: [0 secs]    \r"
     ]
    },
    {
     "name": "stderr",
     "output_type": "stream",
     "text": [
      "\r",
      "221it [13:21,  1.49s/it]"
     ]
    },
    {
     "name": "stdout",
     "output_type": "stream",
     "text": [
      "\n",
      "  6,939,990.0 Bytes [100.00%] received. Rate: [5587 KB/s].  ETA: [0 secs]    \r"
     ]
    },
    {
     "name": "stderr",
     "output_type": "stream",
     "text": [
      "\r",
      "222it [13:24,  1.86s/it]"
     ]
    },
    {
     "name": "stdout",
     "output_type": "stream",
     "text": [
      "\n",
      "  3,602,527.0 Bytes [100.00%] received. Rate: [25046 KB/s].  ETA: [0 secs]    \r"
     ]
    },
    {
     "name": "stderr",
     "output_type": "stream",
     "text": [
      "\r",
      "223it [13:25,  1.64s/it]"
     ]
    },
    {
     "name": "stdout",
     "output_type": "stream",
     "text": [
      "\n",
      "  1,452,654.0 Bytes [100.00%] received. Rate: [8090 KB/s].  ETA: [0 secs]    \r"
     ]
    },
    {
     "name": "stderr",
     "output_type": "stream",
     "text": [
      "\r",
      "224it [13:26,  1.55s/it]"
     ]
    },
    {
     "name": "stdout",
     "output_type": "stream",
     "text": [
      "\n",
      "  4,190,134.0 Bytes [100.00%] received. Rate: [  76 KB/s].  ETA: [0 secs]    \r"
     ]
    },
    {
     "name": "stderr",
     "output_type": "stream",
     "text": [
      "\r",
      "225it [14:20, 17.34s/it]"
     ]
    },
    {
     "name": "stdout",
     "output_type": "stream",
     "text": [
      "\n"
     ]
    },
    {
     "name": "stderr",
     "output_type": "stream",
     "text": [
      "ERROR: Video unavailable\n",
      "This video is no longer available because the YouTube account associated with this video has been terminated.\n",
      "226it [14:21, 12.18s/it]"
     ]
    },
    {
     "name": "stdout",
     "output_type": "stream",
     "text": [
      "  368,499.0 Bytes [100.00%] received. Rate: [2712 KB/s].  ETA: [0 secs]    \r"
     ]
    },
    {
     "name": "stderr",
     "output_type": "stream",
     "text": [
      "\r",
      "227it [14:21,  8.75s/it]"
     ]
    },
    {
     "name": "stdout",
     "output_type": "stream",
     "text": [
      "\n",
      "  6,886,816.0 Bytes [100.00%] received. Rate: [4920 KB/s].  ETA: [0 secs]    \r"
     ]
    },
    {
     "name": "stderr",
     "output_type": "stream",
     "text": [
      "\r",
      "228it [14:24,  6.82s/it]"
     ]
    },
    {
     "name": "stdout",
     "output_type": "stream",
     "text": [
      "\n",
      "  13,268,327.0 Bytes [100.00%] received. Rate: [29692 KB/s].  ETA: [0 secs]    \r"
     ]
    },
    {
     "name": "stderr",
     "output_type": "stream",
     "text": [
      "\r",
      "229it [14:25,  5.23s/it]"
     ]
    },
    {
     "name": "stdout",
     "output_type": "stream",
     "text": [
      "\n",
      "  3,153,966.0 Bytes [100.00%] received. Rate: [  96 KB/s].  ETA: [0 secs]    \r"
     ]
    },
    {
     "name": "stderr",
     "output_type": "stream",
     "text": [
      "\r",
      "230it [14:58, 13.55s/it]"
     ]
    },
    {
     "name": "stdout",
     "output_type": "stream",
     "text": [
      "\n",
      "  11,086,521.0 Bytes [100.00%] received. Rate: [53853 KB/s].  ETA: [0 secs]    \r"
     ]
    },
    {
     "name": "stderr",
     "output_type": "stream",
     "text": [
      "\r",
      "231it [15:00,  9.95s/it]"
     ]
    },
    {
     "name": "stdout",
     "output_type": "stream",
     "text": [
      "\n",
      "  6,104,354.0 Bytes [100.00%] received. Rate: [5817 KB/s].  ETA: [0 secs]    \r"
     ]
    },
    {
     "name": "stderr",
     "output_type": "stream",
     "text": [
      "\r",
      "232it [15:02,  7.60s/it]"
     ]
    },
    {
     "name": "stdout",
     "output_type": "stream",
     "text": [
      "\n",
      "  572,047.0 Bytes [100.00%] received. Rate: [2355 KB/s].  ETA: [0 secs]    \r"
     ]
    },
    {
     "name": "stderr",
     "output_type": "stream",
     "text": [
      "\r",
      "233it [15:03,  5.63s/it]"
     ]
    },
    {
     "name": "stdout",
     "output_type": "stream",
     "text": [
      "\n",
      "  5,719,027.0 Bytes [100.00%] received. Rate: [32893 KB/s].  ETA: [0 secs]    \r"
     ]
    },
    {
     "name": "stderr",
     "output_type": "stream",
     "text": [
      "\r",
      "234it [15:04,  4.24s/it]"
     ]
    },
    {
     "name": "stdout",
     "output_type": "stream",
     "text": [
      "\n",
      "  862,425.0 Bytes [100.00%] received. Rate: [1346 KB/s].  ETA: [0 secs]    \r"
     ]
    },
    {
     "name": "stderr",
     "output_type": "stream",
     "text": [
      "\r",
      "235it [15:06,  3.49s/it]"
     ]
    },
    {
     "name": "stdout",
     "output_type": "stream",
     "text": [
      "\n",
      "  4,382,458.0 Bytes [100.00%] received. Rate: [37265 KB/s].  ETA: [0 secs]    \r"
     ]
    },
    {
     "name": "stderr",
     "output_type": "stream",
     "text": [
      "\r",
      "236it [15:07,  2.78s/it]"
     ]
    },
    {
     "name": "stdout",
     "output_type": "stream",
     "text": [
      "\n",
      "  4,306,158.0 Bytes [100.00%] received. Rate: [27432 KB/s].  ETA: [0 secs]    \r"
     ]
    },
    {
     "name": "stderr",
     "output_type": "stream",
     "text": [
      "\r",
      "237it [15:07,  2.17s/it]"
     ]
    },
    {
     "name": "stdout",
     "output_type": "stream",
     "text": [
      "\n",
      "  7,331,251.0 Bytes [100.00%] received. Rate: [26918 KB/s].  ETA: [0 secs]    \r"
     ]
    },
    {
     "name": "stderr",
     "output_type": "stream",
     "text": [
      "\r",
      "238it [15:09,  1.87s/it]"
     ]
    },
    {
     "name": "stdout",
     "output_type": "stream",
     "text": [
      "\n",
      "  1,163,286.0 Bytes [100.00%] received. Rate: [6452 KB/s].  ETA: [0 secs]    \r"
     ]
    },
    {
     "name": "stderr",
     "output_type": "stream",
     "text": [
      "\r",
      "239it [15:10,  1.65s/it]"
     ]
    },
    {
     "name": "stdout",
     "output_type": "stream",
     "text": [
      "\n",
      "  7,631,369.0 Bytes [100.00%] received. Rate: [30629 KB/s].  ETA: [0 secs]    \r"
     ]
    },
    {
     "name": "stderr",
     "output_type": "stream",
     "text": [
      "\r",
      "240it [15:11,  1.46s/it]"
     ]
    },
    {
     "name": "stdout",
     "output_type": "stream",
     "text": [
      "\n"
     ]
    },
    {
     "name": "stderr",
     "output_type": "stream",
     "text": [
      "ERROR: Video unavailable\n",
      "241it [15:11,  1.06s/it]ERROR: Video unavailable\n",
      "This video contains content from BBC Studios, who has blocked it on copyright grounds.\n",
      "242it [15:11,  1.21it/s]"
     ]
    },
    {
     "name": "stdout",
     "output_type": "stream",
     "text": [
      "  24,932,845.0 Bytes [100.00%] received. Rate: [27513 KB/s].  ETA: [0 secs]    \r"
     ]
    },
    {
     "name": "stderr",
     "output_type": "stream",
     "text": [
      "\r",
      "243it [15:14,  1.49s/it]"
     ]
    },
    {
     "name": "stdout",
     "output_type": "stream",
     "text": [
      "\n",
      "  1,435,283.0 Bytes [100.00%] received. Rate: [15677 KB/s].  ETA: [0 secs]    \r"
     ]
    },
    {
     "name": "stderr",
     "output_type": "stream",
     "text": [
      "\r",
      "244it [15:15,  1.32s/it]"
     ]
    },
    {
     "name": "stdout",
     "output_type": "stream",
     "text": [
      "\n"
     ]
    },
    {
     "name": "stderr",
     "output_type": "stream",
     "text": [
      "ERROR: Private video\n",
      "Sign in if you've been granted access to this video\n",
      "245it [15:15,  1.05it/s]"
     ]
    },
    {
     "name": "stdout",
     "output_type": "stream",
     "text": [
      "  4,100,962.0 Bytes [100.00%] received. Rate: [28078 KB/s].  ETA: [0 secs]    \r"
     ]
    },
    {
     "name": "stderr",
     "output_type": "stream",
     "text": [
      "\r",
      "246it [15:16,  1.02it/s]"
     ]
    },
    {
     "name": "stdout",
     "output_type": "stream",
     "text": [
      "\n",
      "  2,638,617.0 Bytes [100.00%] received. Rate: [18730 KB/s].  ETA: [0 secs]    \r"
     ]
    },
    {
     "name": "stderr",
     "output_type": "stream",
     "text": [
      "\r",
      "247it [15:17,  1.04it/s]"
     ]
    },
    {
     "name": "stdout",
     "output_type": "stream",
     "text": [
      "\n",
      "  2,368,878.0 Bytes [100.00%] received. Rate: [16905 KB/s].  ETA: [0 secs]    \r"
     ]
    },
    {
     "name": "stderr",
     "output_type": "stream",
     "text": [
      "\r",
      "248it [15:18,  1.02it/s]"
     ]
    },
    {
     "name": "stdout",
     "output_type": "stream",
     "text": [
      "\n",
      "  896,796.0 Bytes [100.00%] received. Rate: [10340 KB/s].  ETA: [0 secs]    \r"
     ]
    },
    {
     "name": "stderr",
     "output_type": "stream",
     "text": [
      "\r",
      "249it [15:19,  1.05it/s]"
     ]
    },
    {
     "name": "stdout",
     "output_type": "stream",
     "text": [
      "\n",
      "  6,223,315.0 Bytes [100.00%] received. Rate: [22359 KB/s].  ETA: [0 secs]    \r"
     ]
    },
    {
     "name": "stderr",
     "output_type": "stream",
     "text": [
      "\r",
      "250it [15:20,  1.04it/s]"
     ]
    },
    {
     "name": "stdout",
     "output_type": "stream",
     "text": [
      "\n",
      "  10,068,170.0 Bytes [100.00%] received. Rate: [18021 KB/s].  ETA: [0 secs]    \r"
     ]
    },
    {
     "name": "stderr",
     "output_type": "stream",
     "text": [
      "\r",
      "251it [15:22,  1.12s/it]"
     ]
    },
    {
     "name": "stdout",
     "output_type": "stream",
     "text": [
      "\n",
      "  4,837,356.0 Bytes [100.00%] received. Rate: [24846 KB/s].  ETA: [0 secs]    \r"
     ]
    },
    {
     "name": "stderr",
     "output_type": "stream",
     "text": [
      "\r",
      "252it [15:23,  1.13s/it]"
     ]
    },
    {
     "name": "stdout",
     "output_type": "stream",
     "text": [
      "\n",
      "  4,333,492.0 Bytes [100.00%] received. Rate: [  49 KB/s].  ETA: [0 secs]    \r"
     ]
    },
    {
     "name": "stderr",
     "output_type": "stream",
     "text": [
      "\r",
      "253it [16:49, 26.82s/it]"
     ]
    },
    {
     "name": "stdout",
     "output_type": "stream",
     "text": [
      "\n",
      "  11,570,016.0 Bytes [100.00%] received. Rate: [37028 KB/s].  ETA: [0 secs]    \r"
     ]
    },
    {
     "name": "stderr",
     "output_type": "stream",
     "text": [
      "\r",
      "254it [16:51, 19.13s/it]"
     ]
    },
    {
     "name": "stdout",
     "output_type": "stream",
     "text": [
      "\n",
      "  7,168,269.0 Bytes [100.00%] received. Rate: [20734 KB/s].  ETA: [0 secs]    \r"
     ]
    },
    {
     "name": "stderr",
     "output_type": "stream",
     "text": [
      "\r",
      "255it [16:52, 13.70s/it]"
     ]
    },
    {
     "name": "stdout",
     "output_type": "stream",
     "text": [
      "\n",
      "  1,813,977.0 Bytes [100.00%] received. Rate: [15346 KB/s].  ETA: [0 secs]    \r"
     ]
    },
    {
     "name": "stderr",
     "output_type": "stream",
     "text": [
      "\r",
      "256it [16:53,  9.87s/it]"
     ]
    },
    {
     "name": "stdout",
     "output_type": "stream",
     "text": [
      "\n",
      "  5,350,320.0 Bytes [100.00%] received. Rate: [20219 KB/s].  ETA: [0 secs]    \r"
     ]
    },
    {
     "name": "stderr",
     "output_type": "stream",
     "text": [
      "\r",
      "257it [16:54,  7.26s/it]"
     ]
    },
    {
     "name": "stdout",
     "output_type": "stream",
     "text": [
      "\n",
      "  836,822.0 Bytes [100.00%] received. Rate: [10605 KB/s].  ETA: [0 secs]    \r"
     ]
    },
    {
     "name": "stderr",
     "output_type": "stream",
     "text": [
      "\r",
      "258it [16:55,  5.43s/it]"
     ]
    },
    {
     "name": "stdout",
     "output_type": "stream",
     "text": [
      "\n",
      "  75,434.0 Bytes [100.00%] received. Rate: [ 796 KB/s].  ETA: [0 secs]    \r"
     ]
    },
    {
     "name": "stderr",
     "output_type": "stream",
     "text": [
      "\r",
      "259it [16:56,  4.08s/it]"
     ]
    },
    {
     "name": "stdout",
     "output_type": "stream",
     "text": [
      "\n",
      "  9,652,022.0 Bytes [100.00%] received. Rate: [7607 KB/s].  ETA: [0 secs]    \r"
     ]
    },
    {
     "name": "stderr",
     "output_type": "stream",
     "text": [
      "\r",
      "260it [16:58,  3.62s/it]"
     ]
    },
    {
     "name": "stdout",
     "output_type": "stream",
     "text": [
      "\n",
      "  481,301.0 Bytes [100.00%] received. Rate: [3472 KB/s].  ETA: [0 secs]    \r"
     ]
    },
    {
     "name": "stderr",
     "output_type": "stream",
     "text": [
      "\r",
      "261it [16:59,  2.75s/it]"
     ]
    },
    {
     "name": "stdout",
     "output_type": "stream",
     "text": [
      "\n",
      "  10,726,526.0 Bytes [100.00%] received. Rate: [3565 KB/s].  ETA: [0 secs]    \r"
     ]
    },
    {
     "name": "stderr",
     "output_type": "stream",
     "text": [
      "\r",
      "262it [17:02,  2.74s/it]"
     ]
    },
    {
     "name": "stdout",
     "output_type": "stream",
     "text": [
      "\n",
      "  4,468,223.0 Bytes [100.00%] received. Rate: [11345 KB/s].  ETA: [0 secs]    \r"
     ]
    },
    {
     "name": "stderr",
     "output_type": "stream",
     "text": [
      "\r",
      "263it [17:03,  2.24s/it]"
     ]
    },
    {
     "name": "stdout",
     "output_type": "stream",
     "text": [
      "\n",
      "  2,239,584.0 Bytes [100.00%] received. Rate: [9628 KB/s].  ETA: [0 secs]    \r"
     ]
    },
    {
     "name": "stderr",
     "output_type": "stream",
     "text": [
      "\r",
      "264it [17:04,  1.89s/it]"
     ]
    },
    {
     "name": "stdout",
     "output_type": "stream",
     "text": [
      "\n",
      "  4,283,262.0 Bytes [100.00%] received. Rate: [18530 KB/s].  ETA: [0 secs]    \r"
     ]
    },
    {
     "name": "stderr",
     "output_type": "stream",
     "text": [
      "\r",
      "265it [17:05,  1.60s/it]"
     ]
    },
    {
     "name": "stdout",
     "output_type": "stream",
     "text": [
      "\n",
      "  8,694,083.0 Bytes [100.00%] received. Rate: [34247 KB/s].  ETA: [0 secs]    \r"
     ]
    },
    {
     "name": "stderr",
     "output_type": "stream",
     "text": [
      "\r",
      "266it [17:06,  1.50s/it]"
     ]
    },
    {
     "name": "stdout",
     "output_type": "stream",
     "text": [
      "\n",
      "  455,344.0 Bytes [100.00%] received. Rate: [2468 KB/s].  ETA: [0 secs]    \r"
     ]
    },
    {
     "name": "stderr",
     "output_type": "stream",
     "text": [
      "\r",
      "267it [17:07,  1.36s/it]"
     ]
    },
    {
     "name": "stdout",
     "output_type": "stream",
     "text": [
      "\n",
      "  3,792,223.0 Bytes [100.00%] received. Rate: [14063 KB/s].  ETA: [0 secs]    \r"
     ]
    },
    {
     "name": "stderr",
     "output_type": "stream",
     "text": [
      "\r",
      "268it [17:09,  1.37s/it]"
     ]
    },
    {
     "name": "stdout",
     "output_type": "stream",
     "text": [
      "\n",
      "  8,299,181.0 Bytes [100.00%] received. Rate: [22926 KB/s].  ETA: [0 secs]    \r"
     ]
    },
    {
     "name": "stderr",
     "output_type": "stream",
     "text": [
      "\r",
      "269it [17:10,  1.44s/it]"
     ]
    },
    {
     "name": "stdout",
     "output_type": "stream",
     "text": [
      "\n",
      "  3,660,128.0 Bytes [100.00%] received. Rate: [17422 KB/s].  ETA: [0 secs]    \r"
     ]
    },
    {
     "name": "stderr",
     "output_type": "stream",
     "text": [
      "\r",
      "270it [17:11,  1.27s/it]"
     ]
    },
    {
     "name": "stdout",
     "output_type": "stream",
     "text": [
      "\n",
      "  10,916,312.0 Bytes [100.00%] received. Rate: [32131 KB/s].  ETA: [0 secs]    \r"
     ]
    },
    {
     "name": "stderr",
     "output_type": "stream",
     "text": [
      "\r",
      "271it [17:12,  1.30s/it]"
     ]
    },
    {
     "name": "stdout",
     "output_type": "stream",
     "text": [
      "\n",
      "  454,238.0 Bytes [100.00%] received. Rate: [4668 KB/s].  ETA: [0 secs]    \r"
     ]
    },
    {
     "name": "stderr",
     "output_type": "stream",
     "text": [
      "\r",
      "272it [17:13,  1.19s/it]"
     ]
    },
    {
     "name": "stdout",
     "output_type": "stream",
     "text": [
      "\n",
      "  1,671,300.0 Bytes [100.00%] received. Rate: [11111 KB/s].  ETA: [0 secs]    \r"
     ]
    },
    {
     "name": "stderr",
     "output_type": "stream",
     "text": [
      "\r",
      "273it [17:15,  1.18s/it]"
     ]
    },
    {
     "name": "stdout",
     "output_type": "stream",
     "text": [
      "\n",
      "  3,022,525.0 Bytes [100.00%] received. Rate: [11956 KB/s].  ETA: [0 secs]    \r"
     ]
    },
    {
     "name": "stderr",
     "output_type": "stream",
     "text": [
      "\r",
      "274it [17:16,  1.17s/it]"
     ]
    },
    {
     "name": "stdout",
     "output_type": "stream",
     "text": [
      "\n",
      "  194,739.0 Bytes [100.00%] received. Rate: [ 490 KB/s].  ETA: [0 secs]    \r"
     ]
    },
    {
     "name": "stderr",
     "output_type": "stream",
     "text": [
      "\r",
      "275it [17:17,  1.22s/it]"
     ]
    },
    {
     "name": "stdout",
     "output_type": "stream",
     "text": [
      "\n",
      "  11,080,537.0 Bytes [100.00%] received. Rate: [7303 KB/s].  ETA: [0 secs]    \r"
     ]
    },
    {
     "name": "stderr",
     "output_type": "stream",
     "text": [
      "\r",
      "276it [17:19,  1.36s/it]"
     ]
    },
    {
     "name": "stdout",
     "output_type": "stream",
     "text": [
      "\n",
      "  23,123,503.0 Bytes [100.00%] received. Rate: [12215 KB/s].  ETA: [0 secs]    \r"
     ]
    },
    {
     "name": "stderr",
     "output_type": "stream",
     "text": [
      "277it [17:21,  1.63s/it]ERROR: Video unavailable\n",
      "278it [17:21,  1.18s/it]"
     ]
    },
    {
     "name": "stdout",
     "output_type": "stream",
     "text": [
      "\n",
      "  879,291.0 Bytes [100.00%] received. Rate: [5649 KB/s].  ETA: [0 secs]    \r"
     ]
    },
    {
     "name": "stderr",
     "output_type": "stream",
     "text": [
      "\r",
      "279it [17:22,  1.10s/it]"
     ]
    },
    {
     "name": "stdout",
     "output_type": "stream",
     "text": [
      "\n",
      "  6,921,184.0 Bytes [100.00%] received. Rate: [24676 KB/s].  ETA: [0 secs]    \r"
     ]
    },
    {
     "name": "stderr",
     "output_type": "stream",
     "text": [
      "\r",
      "280it [17:23,  1.02s/it]"
     ]
    },
    {
     "name": "stdout",
     "output_type": "stream",
     "text": [
      "\n",
      "  687,064.0 Bytes [100.00%] received. Rate: [4483 KB/s].  ETA: [0 secs]    \r"
     ]
    },
    {
     "name": "stderr",
     "output_type": "stream",
     "text": [
      "\r",
      "281it [17:24,  1.01it/s]"
     ]
    },
    {
     "name": "stdout",
     "output_type": "stream",
     "text": [
      "\n",
      "  38,718,468.0 Bytes [100.00%] received. Rate: [34176 KB/s].  ETA: [0 secs]    \r"
     ]
    },
    {
     "name": "stderr",
     "output_type": "stream",
     "text": [
      "\r",
      "282it [17:27,  1.66s/it]"
     ]
    },
    {
     "name": "stdout",
     "output_type": "stream",
     "text": [
      "\n",
      "  1,433,187.0 Bytes [100.00%] received. Rate: [19917 KB/s].  ETA: [0 secs]    \r"
     ]
    },
    {
     "name": "stderr",
     "output_type": "stream",
     "text": [
      "\r",
      "283it [17:28,  1.54s/it]"
     ]
    },
    {
     "name": "stdout",
     "output_type": "stream",
     "text": [
      "\n",
      "  1,417,541.0 Bytes [100.00%] received. Rate: [15091 KB/s].  ETA: [0 secs]    \r"
     ]
    },
    {
     "name": "stderr",
     "output_type": "stream",
     "text": [
      "\r",
      "284it [17:29,  1.37s/it]"
     ]
    },
    {
     "name": "stdout",
     "output_type": "stream",
     "text": [
      "\n",
      "  471,157.0 Bytes [100.00%] received. Rate: [3895 KB/s].  ETA: [0 secs]    \r"
     ]
    },
    {
     "name": "stderr",
     "output_type": "stream",
     "text": [
      "\r",
      "285it [17:30,  1.22s/it]"
     ]
    },
    {
     "name": "stdout",
     "output_type": "stream",
     "text": [
      "\n",
      "  1,203,368.0 Bytes [100.00%] received. Rate: [6641 KB/s].  ETA: [0 secs]    \r"
     ]
    },
    {
     "name": "stderr",
     "output_type": "stream",
     "text": [
      "\r",
      "286it [17:32,  1.31s/it]"
     ]
    },
    {
     "name": "stdout",
     "output_type": "stream",
     "text": [
      "\n",
      "  1,190,499.0 Bytes [100.00%] received. Rate: [7091 KB/s].  ETA: [0 secs]    \r"
     ]
    },
    {
     "name": "stderr",
     "output_type": "stream",
     "text": [
      "\r",
      "287it [17:33,  1.17s/it]"
     ]
    },
    {
     "name": "stdout",
     "output_type": "stream",
     "text": [
      "\n",
      "  662,469.0 Bytes [100.00%] received. Rate: [2362 KB/s].  ETA: [0 secs]    \r"
     ]
    },
    {
     "name": "stderr",
     "output_type": "stream",
     "text": [
      "\r",
      "288it [17:34,  1.18s/it]"
     ]
    },
    {
     "name": "stdout",
     "output_type": "stream",
     "text": [
      "\n",
      "  8,195,683.0 Bytes [100.00%] received. Rate: [15441 KB/s].  ETA: [0 secs]    \r"
     ]
    },
    {
     "name": "stderr",
     "output_type": "stream",
     "text": [
      "\r",
      "289it [17:35,  1.28s/it]"
     ]
    },
    {
     "name": "stdout",
     "output_type": "stream",
     "text": [
      "\n",
      "  2,660,818.0 Bytes [100.00%] received. Rate: [13623 KB/s].  ETA: [0 secs]    \r"
     ]
    },
    {
     "name": "stderr",
     "output_type": "stream",
     "text": [
      "\r",
      "290it [17:36,  1.14s/it]"
     ]
    },
    {
     "name": "stdout",
     "output_type": "stream",
     "text": [
      "\n",
      "  89,135.0 Bytes [100.00%] received. Rate: [  79 KB/s].  ETA: [0 secs]    \r"
     ]
    },
    {
     "name": "stderr",
     "output_type": "stream",
     "text": [
      "\r",
      "291it [17:38,  1.30s/it]"
     ]
    },
    {
     "name": "stdout",
     "output_type": "stream",
     "text": [
      "\n",
      "  337,291.0 Bytes [100.00%] received. Rate: [2578 KB/s].  ETA: [0 secs]    \r"
     ]
    },
    {
     "name": "stderr",
     "output_type": "stream",
     "text": [
      "\r",
      "292it [17:39,  1.40s/it]"
     ]
    },
    {
     "name": "stdout",
     "output_type": "stream",
     "text": [
      "\n",
      "  9,709,943.0 Bytes [100.00%] received. Rate: [35150 KB/s].  ETA: [0 secs]    \r"
     ]
    },
    {
     "name": "stderr",
     "output_type": "stream",
     "text": [
      "\r",
      "293it [17:41,  1.51s/it]"
     ]
    },
    {
     "name": "stdout",
     "output_type": "stream",
     "text": [
      "\n"
     ]
    },
    {
     "name": "stderr",
     "output_type": "stream",
     "text": [
      "ERROR: Private video\n",
      "Sign in if you've been granted access to this video\n",
      "294it [17:42,  1.18s/it]ERROR: Video unavailable\n"
     ]
    },
    {
     "name": "stdout",
     "output_type": "stream",
     "text": [
      "  985,876.0 Bytes [100.00%] received. Rate: [6457 KB/s].  ETA: [0 secs]    \r"
     ]
    },
    {
     "name": "stderr",
     "output_type": "stream",
     "text": [
      "\r",
      "296it [17:43,  1.14it/s]"
     ]
    },
    {
     "name": "stdout",
     "output_type": "stream",
     "text": [
      "\n",
      "  1,494,016.0 Bytes [100.00%] received. Rate: [15822 KB/s].  ETA: [0 secs]    \r"
     ]
    },
    {
     "name": "stderr",
     "output_type": "stream",
     "text": [
      "\r",
      "297it [17:44,  1.00s/it]"
     ]
    },
    {
     "name": "stdout",
     "output_type": "stream",
     "text": [
      "\n",
      "  13,484,224.0 Bytes [100.00%] received. Rate: [53058 KB/s].  ETA: [0 secs]    \r"
     ]
    },
    {
     "name": "stderr",
     "output_type": "stream",
     "text": [
      "\r",
      "298it [17:46,  1.28s/it]"
     ]
    },
    {
     "name": "stdout",
     "output_type": "stream",
     "text": [
      "\n",
      "  1,706,840.0 Bytes [100.00%] received. Rate: [9265 KB/s].  ETA: [0 secs]    \r"
     ]
    },
    {
     "name": "stderr",
     "output_type": "stream",
     "text": [
      "\r",
      "299it [17:48,  1.39s/it]"
     ]
    },
    {
     "name": "stdout",
     "output_type": "stream",
     "text": [
      "\n",
      "  10,001,230.0 Bytes [100.00%] received. Rate: [35028 KB/s].  ETA: [0 secs]    \r"
     ]
    },
    {
     "name": "stderr",
     "output_type": "stream",
     "text": [
      "\r",
      "300it [17:50,  1.59s/it]"
     ]
    },
    {
     "name": "stdout",
     "output_type": "stream",
     "text": [
      "\n",
      "  4,044,642.0 Bytes [100.00%] received. Rate: [26975 KB/s].  ETA: [0 secs]    \r"
     ]
    },
    {
     "name": "stderr",
     "output_type": "stream",
     "text": [
      "\r",
      "301it [17:51,  1.60s/it]"
     ]
    },
    {
     "name": "stdout",
     "output_type": "stream",
     "text": [
      "\n",
      "  32,536,161.0 Bytes [100.00%] received. Rate: [14094 KB/s].  ETA: [0 secs]    \r"
     ]
    },
    {
     "name": "stderr",
     "output_type": "stream",
     "text": [
      "\r",
      "302it [17:55,  2.08s/it]"
     ]
    },
    {
     "name": "stdout",
     "output_type": "stream",
     "text": [
      "\n",
      "  1,052,920.0 Bytes [100.00%] received. Rate: [14985 KB/s].  ETA: [0 secs]    \r"
     ]
    },
    {
     "name": "stderr",
     "output_type": "stream",
     "text": [
      "\r",
      "303it [17:56,  1.88s/it]"
     ]
    },
    {
     "name": "stdout",
     "output_type": "stream",
     "text": [
      "\n",
      "  1,345,568.0 Bytes [100.00%] received. Rate: [8460 KB/s].  ETA: [0 secs]    \r"
     ]
    },
    {
     "name": "stderr",
     "output_type": "stream",
     "text": [
      "\r",
      "304it [17:58,  1.87s/it]"
     ]
    },
    {
     "name": "stdout",
     "output_type": "stream",
     "text": [
      "\n",
      "  9,663,910.0 Bytes [100.00%] received. Rate: [19830 KB/s].  ETA: [0 secs]    \r"
     ]
    },
    {
     "name": "stderr",
     "output_type": "stream",
     "text": [
      "\r",
      "305it [17:59,  1.78s/it]"
     ]
    },
    {
     "name": "stdout",
     "output_type": "stream",
     "text": [
      "\n",
      "  824,638.0 Bytes [100.00%] received. Rate: [5933 KB/s].  ETA: [0 secs]    \r"
     ]
    },
    {
     "name": "stderr",
     "output_type": "stream",
     "text": [
      "\r",
      "306it [18:01,  1.62s/it]"
     ]
    },
    {
     "name": "stdout",
     "output_type": "stream",
     "text": [
      "\n",
      "  527,230.0 Bytes [100.00%] received. Rate: [3643 KB/s].  ETA: [0 secs]    \r"
     ]
    },
    {
     "name": "stderr",
     "output_type": "stream",
     "text": [
      "\r",
      "307it [18:02,  1.53s/it]"
     ]
    },
    {
     "name": "stdout",
     "output_type": "stream",
     "text": [
      "\n",
      "  1,076,868.0 Bytes [100.00%] received. Rate: [3154 KB/s].  ETA: [0 secs]    \n"
     ]
    },
    {
     "name": "stderr",
     "output_type": "stream",
     "text": [
      "\r",
      "308it [18:04,  1.53s/it]"
     ]
    },
    {
     "name": "stdout",
     "output_type": "stream",
     "text": [
      "  313,777.0 Bytes [100.00%] received. Rate: [1195 KB/s].  ETA: [0 secs]    \r"
     ]
    },
    {
     "name": "stderr",
     "output_type": "stream",
     "text": [
      "\r",
      "309it [18:05,  1.61s/it]"
     ]
    },
    {
     "name": "stdout",
     "output_type": "stream",
     "text": [
      "\n",
      "  737,090.0 Bytes [100.00%] received. Rate: [4595 KB/s].  ETA: [0 secs]    \r"
     ]
    },
    {
     "name": "stderr",
     "output_type": "stream",
     "text": [
      "\r",
      "310it [18:07,  1.52s/it]"
     ]
    },
    {
     "name": "stdout",
     "output_type": "stream",
     "text": [
      "\n",
      "  6,316,183.0 Bytes [100.00%] received. Rate: [  74 KB/s].  ETA: [0 secs]    \r"
     ]
    },
    {
     "name": "stderr",
     "output_type": "stream",
     "text": [
      "\r",
      "311it [19:31, 26.23s/it]"
     ]
    },
    {
     "name": "stdout",
     "output_type": "stream",
     "text": [
      "\n",
      "  8,587,386.0 Bytes [100.00%] received. Rate: [20772 KB/s].  ETA: [0 secs]    \r"
     ]
    },
    {
     "name": "stderr",
     "output_type": "stream",
     "text": [
      "\r",
      "312it [19:33, 19.03s/it]"
     ]
    },
    {
     "name": "stdout",
     "output_type": "stream",
     "text": [
      "\n",
      "  819,240.0 Bytes [100.00%] received. Rate: [2846 KB/s].  ETA: [0 secs]    \r"
     ]
    },
    {
     "name": "stderr",
     "output_type": "stream",
     "text": [
      "\r",
      "313it [19:35, 13.87s/it]"
     ]
    },
    {
     "name": "stdout",
     "output_type": "stream",
     "text": [
      "\n",
      "  7,761,968.0 Bytes [100.00%] received. Rate: [19620 KB/s].  ETA: [0 secs]    \r"
     ]
    },
    {
     "name": "stderr",
     "output_type": "stream",
     "text": [
      "\r",
      "314it [19:37, 10.26s/it]"
     ]
    },
    {
     "name": "stdout",
     "output_type": "stream",
     "text": [
      "\n",
      "  456,061.0 Bytes [100.00%] received. Rate: [6164 KB/s].  ETA: [0 secs]    \r"
     ]
    },
    {
     "name": "stderr",
     "output_type": "stream",
     "text": [
      "\r",
      "315it [19:37,  7.43s/it]"
     ]
    },
    {
     "name": "stdout",
     "output_type": "stream",
     "text": [
      "\n"
     ]
    },
    {
     "name": "stderr",
     "output_type": "stream",
     "text": [
      "ERROR: Video unavailable\n",
      "316it [19:38,  5.31s/it]"
     ]
    },
    {
     "name": "stdout",
     "output_type": "stream",
     "text": [
      "  62,760,786.0 Bytes [100.00%] received. Rate: [10973 KB/s].  ETA: [0 secs]    \r"
     ]
    },
    {
     "name": "stderr",
     "output_type": "stream",
     "text": [
      "\r",
      "317it [19:46,  6.05s/it]"
     ]
    },
    {
     "name": "stdout",
     "output_type": "stream",
     "text": [
      "\n"
     ]
    },
    {
     "name": "stderr",
     "output_type": "stream",
     "text": [
      "\r",
      "318it [19:47,  4.64s/it]"
     ]
    },
    {
     "name": "stdout",
     "output_type": "stream",
     "text": [
      "  4,238,591.0 Bytes [100.00%] received. Rate: [22111 KB/s].  ETA: [0 secs]    \r"
     ]
    },
    {
     "name": "stderr",
     "output_type": "stream",
     "text": [
      "\r",
      "319it [19:48,  3.66s/it]"
     ]
    },
    {
     "name": "stdout",
     "output_type": "stream",
     "text": [
      "\n",
      "  4,433,912.0 Bytes [100.00%] received. Rate: [20562 KB/s].  ETA: [0 secs]    \r"
     ]
    },
    {
     "name": "stderr",
     "output_type": "stream",
     "text": [
      "\r",
      "320it [19:50,  3.04s/it]"
     ]
    },
    {
     "name": "stdout",
     "output_type": "stream",
     "text": [
      "\n",
      "  903,045.0 Bytes [100.00%] received. Rate: [9782 KB/s].  ETA: [0 secs]    \r"
     ]
    },
    {
     "name": "stderr",
     "output_type": "stream",
     "text": [
      "\r",
      "321it [19:52,  2.63s/it]"
     ]
    },
    {
     "name": "stdout",
     "output_type": "stream",
     "text": [
      "\n",
      "  144,458.0 Bytes [100.00%] received. Rate: [1321 KB/s].  ETA: [0 secs]    \r"
     ]
    },
    {
     "name": "stderr",
     "output_type": "stream",
     "text": [
      "\r",
      "322it [19:53,  2.25s/it]"
     ]
    },
    {
     "name": "stdout",
     "output_type": "stream",
     "text": [
      "\n",
      "  13,413,233.0 Bytes [100.00%] received. Rate: [27606 KB/s].  ETA: [0 secs]    \r"
     ]
    },
    {
     "name": "stderr",
     "output_type": "stream",
     "text": [
      "\r",
      "323it [19:55,  2.27s/it]"
     ]
    },
    {
     "name": "stdout",
     "output_type": "stream",
     "text": [
      "\n",
      "  17,190,454.0 Bytes [100.00%] received. Rate: [  79 KB/s].  ETA: [0 secs]     \r"
     ]
    },
    {
     "name": "stderr",
     "output_type": "stream",
     "text": [
      "\r",
      "324it [23:29, 65.62s/it]"
     ]
    },
    {
     "name": "stdout",
     "output_type": "stream",
     "text": [
      "\n",
      "  135,102.0 Bytes [100.00%] received. Rate: [ 930 KB/s].  ETA: [0 secs]    \r"
     ]
    },
    {
     "name": "stderr",
     "output_type": "stream",
     "text": [
      "\r",
      "325it [23:30, 46.36s/it]"
     ]
    },
    {
     "name": "stdout",
     "output_type": "stream",
     "text": [
      "\n"
     ]
    },
    {
     "name": "stderr",
     "output_type": "stream",
     "text": [
      "ERROR: Private video\n",
      "Sign in if you've been granted access to this video\n",
      "326it [23:31, 32.63s/it]"
     ]
    },
    {
     "name": "stdout",
     "output_type": "stream",
     "text": [
      "  10,824,315.0 Bytes [100.00%] received. Rate: [43559 KB/s].  ETA: [0 secs]    \r"
     ]
    },
    {
     "name": "stderr",
     "output_type": "stream",
     "text": [
      "\r",
      "327it [23:32, 23.35s/it]"
     ]
    },
    {
     "name": "stdout",
     "output_type": "stream",
     "text": [
      "\n",
      "  11,320,755.0 Bytes [100.00%] received. Rate: [40453 KB/s].  ETA: [0 secs]    \r"
     ]
    },
    {
     "name": "stderr",
     "output_type": "stream",
     "text": [
      "\r",
      "328it [23:34, 16.79s/it]"
     ]
    },
    {
     "name": "stdout",
     "output_type": "stream",
     "text": [
      "\n",
      "  532,401.0 Bytes [100.00%] received. Rate: [7432 KB/s].  ETA: [0 secs]    \r"
     ]
    },
    {
     "name": "stderr",
     "output_type": "stream",
     "text": [
      "\r",
      "329it [23:35, 12.19s/it]"
     ]
    },
    {
     "name": "stdout",
     "output_type": "stream",
     "text": [
      "\n",
      "  2,262,064.0 Bytes [100.00%] received. Rate: [16449 KB/s].  ETA: [0 secs]    \r"
     ]
    },
    {
     "name": "stderr",
     "output_type": "stream",
     "text": [
      "\r",
      "330it [23:37,  8.98s/it]"
     ]
    },
    {
     "name": "stdout",
     "output_type": "stream",
     "text": [
      "\n",
      "  2,335,496.0 Bytes [100.00%] received. Rate: [12848 KB/s].  ETA: [0 secs]    \r"
     ]
    },
    {
     "name": "stderr",
     "output_type": "stream",
     "text": [
      "\r",
      "331it [23:38,  6.74s/it]"
     ]
    },
    {
     "name": "stdout",
     "output_type": "stream",
     "text": [
      "\n"
     ]
    },
    {
     "name": "stderr",
     "output_type": "stream",
     "text": [
      "ERROR: Private video\n",
      "Sign in if you've been granted access to this video\n",
      "332it [23:39,  4.91s/it]"
     ]
    },
    {
     "name": "stdout",
     "output_type": "stream",
     "text": [
      "  7,692,470.0 Bytes [100.00%] received. Rate: [21854 KB/s].  ETA: [0 secs]    \r"
     ]
    },
    {
     "name": "stderr",
     "output_type": "stream",
     "text": [
      "\r",
      "333it [23:41,  4.00s/it]"
     ]
    },
    {
     "name": "stdout",
     "output_type": "stream",
     "text": [
      "\n",
      "  13,884,428.0 Bytes [100.00%] received. Rate: [19456 KB/s].  ETA: [0 secs]    \r"
     ]
    },
    {
     "name": "stderr",
     "output_type": "stream",
     "text": [
      "\r",
      "334it [23:43,  3.45s/it]"
     ]
    },
    {
     "name": "stdout",
     "output_type": "stream",
     "text": [
      "\n",
      "  2,596,545.0 Bytes [100.00%] received. Rate: [10437 KB/s].  ETA: [0 secs]    \r"
     ]
    },
    {
     "name": "stderr",
     "output_type": "stream",
     "text": [
      "\r",
      "335it [23:44,  2.82s/it]"
     ]
    },
    {
     "name": "stdout",
     "output_type": "stream",
     "text": [
      "\n",
      "  1,095,199.0 Bytes [100.00%] received. Rate: [7227 KB/s].  ETA: [0 secs]    \r"
     ]
    },
    {
     "name": "stderr",
     "output_type": "stream",
     "text": [
      "\r",
      "336it [23:46,  2.35s/it]"
     ]
    },
    {
     "name": "stdout",
     "output_type": "stream",
     "text": [
      "\n",
      "  2,465,814.0 Bytes [100.00%] received. Rate: [17598 KB/s].  ETA: [0 secs]    \r"
     ]
    },
    {
     "name": "stderr",
     "output_type": "stream",
     "text": [
      "\r",
      "337it [23:47,  2.10s/it]"
     ]
    },
    {
     "name": "stdout",
     "output_type": "stream",
     "text": [
      "\n",
      "  2,491,760.0 Bytes [100.00%] received. Rate: [  79 KB/s].  ETA: [0 secs]    \r"
     ]
    },
    {
     "name": "stderr",
     "output_type": "stream",
     "text": [
      "\r",
      "338it [24:19, 11.19s/it]"
     ]
    },
    {
     "name": "stdout",
     "output_type": "stream",
     "text": [
      "\n",
      "  2,897,720.0 Bytes [100.00%] received. Rate: [19535 KB/s].  ETA: [0 secs]    \r"
     ]
    },
    {
     "name": "stderr",
     "output_type": "stream",
     "text": [
      "\r",
      "339it [24:21,  8.40s/it]"
     ]
    },
    {
     "name": "stdout",
     "output_type": "stream",
     "text": [
      "\n",
      "  2,220,365.0 Bytes [100.00%] received. Rate: [  68 KB/s].  ETA: [0 secs]    \r"
     ]
    },
    {
     "name": "stderr",
     "output_type": "stream",
     "text": [
      "\r",
      "340it [24:55, 16.08s/it]"
     ]
    },
    {
     "name": "stdout",
     "output_type": "stream",
     "text": [
      "\n",
      "  2,026,069.0 Bytes [100.00%] received. Rate: [8269 KB/s].  ETA: [0 secs]    \r"
     ]
    },
    {
     "name": "stderr",
     "output_type": "stream",
     "text": [
      "\r",
      "341it [24:57, 11.65s/it]"
     ]
    },
    {
     "name": "stdout",
     "output_type": "stream",
     "text": [
      "\n",
      "  1,510,461.0 Bytes [100.00%] received. Rate: [5955 KB/s].  ETA: [0 secs]    \r"
     ]
    },
    {
     "name": "stderr",
     "output_type": "stream",
     "text": [
      "\r",
      "342it [24:58,  8.62s/it]"
     ]
    },
    {
     "name": "stdout",
     "output_type": "stream",
     "text": [
      "\n"
     ]
    },
    {
     "name": "stderr",
     "output_type": "stream",
     "text": [
      "ERROR: Video unavailable\n",
      "343it [24:59,  6.14s/it]"
     ]
    },
    {
     "name": "stdout",
     "output_type": "stream",
     "text": [
      "  2,758,427.0 Bytes [100.00%] received. Rate: [14751 KB/s].  ETA: [0 secs]    \r"
     ]
    },
    {
     "name": "stderr",
     "output_type": "stream",
     "text": [
      "\r",
      "344it [25:00,  4.81s/it]"
     ]
    },
    {
     "name": "stdout",
     "output_type": "stream",
     "text": [
      "\n",
      "  206,092.0 Bytes [100.00%] received. Rate: [1229 KB/s].  ETA: [0 secs]    \r"
     ]
    },
    {
     "name": "stderr",
     "output_type": "stream",
     "text": [
      "\r",
      "345it [25:02,  3.77s/it]"
     ]
    },
    {
     "name": "stdout",
     "output_type": "stream",
     "text": [
      "\n",
      "  1,875,370.0 Bytes [100.00%] received. Rate: [15440 KB/s].  ETA: [0 secs]    \r"
     ]
    },
    {
     "name": "stderr",
     "output_type": "stream",
     "text": [
      "\r",
      "346it [25:03,  3.08s/it]"
     ]
    },
    {
     "name": "stdout",
     "output_type": "stream",
     "text": [
      "\n",
      "  1,849,723.0 Bytes [100.00%] received. Rate: [22401 KB/s].  ETA: [0 secs]    \r"
     ]
    },
    {
     "name": "stderr",
     "output_type": "stream",
     "text": [
      "\r",
      "347it [25:04,  2.47s/it]"
     ]
    },
    {
     "name": "stdout",
     "output_type": "stream",
     "text": [
      "\n",
      "  17,873,612.0 Bytes [100.00%] received. Rate: [40423 KB/s].  ETA: [0 secs]    \r"
     ]
    },
    {
     "name": "stderr",
     "output_type": "stream",
     "text": [
      "\r",
      "348it [25:06,  2.26s/it]"
     ]
    },
    {
     "name": "stdout",
     "output_type": "stream",
     "text": [
      "\n",
      "  39,131,528.0 Bytes [100.00%] received. Rate: [23681 KB/s].  ETA: [0 secs]    \r"
     ]
    },
    {
     "name": "stderr",
     "output_type": "stream",
     "text": [
      "\r",
      "349it [25:10,  2.70s/it]"
     ]
    },
    {
     "name": "stdout",
     "output_type": "stream",
     "text": [
      "\n"
     ]
    },
    {
     "name": "stderr",
     "output_type": "stream",
     "text": [
      "ERROR: No video formats found; please report this issue on https://yt-dl.org/bug . Make sure you are using the latest version; see  https://yt-dl.org/update  on how to update. Be sure to call youtube-dl with the --verbose flag and include its complete output.\n",
      "350it [25:10,  2.03s/it]"
     ]
    },
    {
     "name": "stdout",
     "output_type": "stream",
     "text": [
      "  125,988.0 Bytes [100.00%] received. Rate: [1388 KB/s].  ETA: [0 secs]    \r"
     ]
    },
    {
     "name": "stderr",
     "output_type": "stream",
     "text": [
      "\r",
      "351it [25:12,  1.93s/it]"
     ]
    },
    {
     "name": "stdout",
     "output_type": "stream",
     "text": [
      "\n",
      "  8,026,789.0 Bytes [100.00%] received. Rate: [20614 KB/s].  ETA: [0 secs]    \r"
     ]
    },
    {
     "name": "stderr",
     "output_type": "stream",
     "text": [
      "\r",
      "352it [25:14,  1.90s/it]"
     ]
    },
    {
     "name": "stdout",
     "output_type": "stream",
     "text": [
      "\n",
      "  6,513,546.0 Bytes [100.00%] received. Rate: [18761 KB/s].  ETA: [0 secs]    \r"
     ]
    },
    {
     "name": "stderr",
     "output_type": "stream",
     "text": [
      "\r",
      "353it [25:15,  1.82s/it]"
     ]
    },
    {
     "name": "stdout",
     "output_type": "stream",
     "text": [
      "\n",
      "  6,143,185.0 Bytes [100.00%] received. Rate: [18098 KB/s].  ETA: [0 secs]    \r"
     ]
    },
    {
     "name": "stderr",
     "output_type": "stream",
     "text": [
      "\r",
      "354it [25:18,  1.99s/it]"
     ]
    },
    {
     "name": "stdout",
     "output_type": "stream",
     "text": [
      "\n",
      "  2,448,646.0 Bytes [100.00%] received. Rate: [12622 KB/s].  ETA: [0 secs]    \n"
     ]
    },
    {
     "name": "stderr",
     "output_type": "stream",
     "text": [
      "\r",
      "355it [25:19,  1.86s/it]"
     ]
    },
    {
     "name": "stdout",
     "output_type": "stream",
     "text": [
      "  264,171.0 Bytes [100.00%] received. Rate: [2412 KB/s].  ETA: [0 secs]    \r"
     ]
    },
    {
     "name": "stderr",
     "output_type": "stream",
     "text": [
      "\r",
      "356it [25:21,  1.76s/it]"
     ]
    },
    {
     "name": "stdout",
     "output_type": "stream",
     "text": [
      "\n",
      "  1,143,072.0 Bytes [100.00%] received. Rate: [15369 KB/s].  ETA: [0 secs]    \r"
     ]
    },
    {
     "name": "stderr",
     "output_type": "stream",
     "text": [
      "\r",
      "357it [25:22,  1.56s/it]"
     ]
    },
    {
     "name": "stdout",
     "output_type": "stream",
     "text": [
      "\n"
     ]
    },
    {
     "name": "stderr",
     "output_type": "stream",
     "text": [
      "ERROR: Video unavailable\n",
      "This video is no longer available due to a copyright claim by Studio Furukawa LLC.\n",
      "358it [25:22,  1.21s/it]"
     ]
    },
    {
     "name": "stdout",
     "output_type": "stream",
     "text": [
      "  5,037,085.0 Bytes [100.00%] received. Rate: [16874 KB/s].  ETA: [0 secs]    \r"
     ]
    },
    {
     "name": "stderr",
     "output_type": "stream",
     "text": [
      "\r",
      "359it [25:24,  1.41s/it]"
     ]
    },
    {
     "name": "stdout",
     "output_type": "stream",
     "text": [
      "\n"
     ]
    },
    {
     "name": "stderr",
     "output_type": "stream",
     "text": [
      "\r",
      "360it [25:25,  1.33s/it]"
     ]
    },
    {
     "name": "stdout",
     "output_type": "stream",
     "text": [
      "  1,985,149.0 Bytes [100.00%] received. Rate: [8102 KB/s].  ETA: [0 secs]    \r"
     ]
    },
    {
     "name": "stderr",
     "output_type": "stream",
     "text": [
      "\r",
      "361it [25:27,  1.46s/it]"
     ]
    },
    {
     "name": "stdout",
     "output_type": "stream",
     "text": [
      "\n",
      "  894,344.0 Bytes [100.00%] received. Rate: [2643 KB/s].  ETA: [0 secs]    \r"
     ]
    },
    {
     "name": "stderr",
     "output_type": "stream",
     "text": [
      "\r",
      "362it [25:29,  1.52s/it]"
     ]
    },
    {
     "name": "stdout",
     "output_type": "stream",
     "text": [
      "\n",
      "  1,159,957.0 Bytes [100.00%] received. Rate: [8485 KB/s].  ETA: [0 secs]    \r"
     ]
    },
    {
     "name": "stderr",
     "output_type": "stream",
     "text": [
      "\r",
      "363it [25:30,  1.43s/it]"
     ]
    },
    {
     "name": "stdout",
     "output_type": "stream",
     "text": [
      "\n",
      "  47,899,205.0 Bytes [100.00%] received. Rate: [36571 KB/s].  ETA: [0 secs]    \r"
     ]
    },
    {
     "name": "stderr",
     "output_type": "stream",
     "text": [
      "\r",
      "364it [25:34,  2.13s/it]"
     ]
    },
    {
     "name": "stdout",
     "output_type": "stream",
     "text": [
      "\n",
      "  1,907,766.0 Bytes [100.00%] received. Rate: [22239 KB/s].  ETA: [0 secs]    \r"
     ]
    },
    {
     "name": "stderr",
     "output_type": "stream",
     "text": [
      "\r",
      "365it [25:35,  1.85s/it]"
     ]
    },
    {
     "name": "stdout",
     "output_type": "stream",
     "text": [
      "\n",
      "  1,060,452.0 Bytes [100.00%] received. Rate: [6680 KB/s].  ETA: [0 secs]    \r"
     ]
    },
    {
     "name": "stderr",
     "output_type": "stream",
     "text": [
      "\r",
      "366it [25:37,  1.86s/it]"
     ]
    },
    {
     "name": "stdout",
     "output_type": "stream",
     "text": [
      "\n"
     ]
    },
    {
     "name": "stderr",
     "output_type": "stream",
     "text": [
      "ERROR: Private video\n",
      "Sign in if you've been granted access to this video\n",
      "367it [25:37,  1.44s/it]ERROR: Video unavailable\n",
      "This video contains content from Southfields. It is not available in your country.\n",
      "368it [25:38,  1.11s/it]"
     ]
    },
    {
     "name": "stdout",
     "output_type": "stream",
     "text": [
      "  808,480.0 Bytes [100.00%] received. Rate: [11207 KB/s].  ETA: [0 secs]    \r"
     ]
    },
    {
     "name": "stderr",
     "output_type": "stream",
     "text": [
      "\r",
      "369it [25:39,  1.12s/it]"
     ]
    },
    {
     "name": "stdout",
     "output_type": "stream",
     "text": [
      "\n",
      "  6,396,545.0 Bytes [100.00%] received. Rate: [18736 KB/s].  ETA: [0 secs]    \r"
     ]
    },
    {
     "name": "stderr",
     "output_type": "stream",
     "text": [
      "\r",
      "370it [25:41,  1.37s/it]"
     ]
    },
    {
     "name": "stdout",
     "output_type": "stream",
     "text": [
      "\n",
      "  1,841,960.0 Bytes [100.00%] received. Rate: [15585 KB/s].  ETA: [0 secs]    \r"
     ]
    },
    {
     "name": "stderr",
     "output_type": "stream",
     "text": [
      "\r",
      "371it [25:42,  1.30s/it]"
     ]
    },
    {
     "name": "stdout",
     "output_type": "stream",
     "text": [
      "\n"
     ]
    },
    {
     "name": "stderr",
     "output_type": "stream",
     "text": [
      "ERROR: Video unavailable\n",
      "372it [25:42,  1.08s/it]"
     ]
    },
    {
     "name": "stdout",
     "output_type": "stream",
     "text": [
      "  2,630,597.0 Bytes [100.00%] received. Rate: [  65 KB/s].  ETA: [0 secs]    \r"
     ]
    },
    {
     "name": "stderr",
     "output_type": "stream",
     "text": [
      "\r",
      "373it [26:23, 13.01s/it]"
     ]
    },
    {
     "name": "stdout",
     "output_type": "stream",
     "text": [
      "\n",
      "  431,589.0 Bytes [100.00%] received. Rate: [3252 KB/s].  ETA: [0 secs]    \r"
     ]
    },
    {
     "name": "stderr",
     "output_type": "stream",
     "text": [
      "\r",
      "374it [26:24,  9.48s/it]"
     ]
    },
    {
     "name": "stdout",
     "output_type": "stream",
     "text": [
      "\n",
      "  2,971,682.0 Bytes [100.00%] received. Rate: [20308 KB/s].  ETA: [0 secs]    \r"
     ]
    },
    {
     "name": "stderr",
     "output_type": "stream",
     "text": [
      "\r",
      "375it [26:26,  7.10s/it]"
     ]
    },
    {
     "name": "stdout",
     "output_type": "stream",
     "text": [
      "\n",
      "  7,528,952.0 Bytes [100.00%] received. Rate: [33049 KB/s].  ETA: [0 secs]    \r"
     ]
    },
    {
     "name": "stderr",
     "output_type": "stream",
     "text": [
      "\r",
      "376it [26:28,  5.58s/it]"
     ]
    },
    {
     "name": "stdout",
     "output_type": "stream",
     "text": [
      "\n",
      "  5,550,076.0 Bytes [100.00%] received. Rate: [21379 KB/s].  ETA: [0 secs]    \r"
     ]
    },
    {
     "name": "stderr",
     "output_type": "stream",
     "text": [
      "\r",
      "377it [26:30,  4.38s/it]"
     ]
    },
    {
     "name": "stdout",
     "output_type": "stream",
     "text": [
      "\n",
      "  13,660,731.0 Bytes [100.00%] received. Rate: [21541 KB/s].  ETA: [0 secs]    \r"
     ]
    },
    {
     "name": "stderr",
     "output_type": "stream",
     "text": [
      "\r",
      "378it [26:32,  3.77s/it]"
     ]
    },
    {
     "name": "stdout",
     "output_type": "stream",
     "text": [
      "\n",
      "  1,041,453.0 Bytes [100.00%] received. Rate: [3633 KB/s].  ETA: [0 secs]    \r"
     ]
    },
    {
     "name": "stderr",
     "output_type": "stream",
     "text": [
      "\r",
      "379it [26:33,  3.02s/it]"
     ]
    },
    {
     "name": "stdout",
     "output_type": "stream",
     "text": [
      "\n",
      "  9,452,576.0 Bytes [100.00%] received. Rate: [15558 KB/s].  ETA: [0 secs]    \r"
     ]
    },
    {
     "name": "stderr",
     "output_type": "stream",
     "text": [
      "\r",
      "380it [26:35,  2.79s/it]"
     ]
    },
    {
     "name": "stdout",
     "output_type": "stream",
     "text": [
      "\n",
      "  241,198.0 Bytes [100.00%] received. Rate: [ 512 KB/s].  ETA: [0 secs]    \r"
     ]
    },
    {
     "name": "stderr",
     "output_type": "stream",
     "text": [
      "\r",
      "381it [26:37,  2.47s/it]"
     ]
    },
    {
     "name": "stdout",
     "output_type": "stream",
     "text": [
      "\n"
     ]
    },
    {
     "name": "stderr",
     "output_type": "stream",
     "text": [
      "\r",
      "382it [26:38,  2.07s/it]"
     ]
    },
    {
     "name": "stdout",
     "output_type": "stream",
     "text": [
      "  2,758,646.0 Bytes [100.00%] received. Rate: [19803 KB/s].  ETA: [0 secs]    \r"
     ]
    },
    {
     "name": "stderr",
     "output_type": "stream",
     "text": [
      "\r",
      "383it [26:40,  1.97s/it]"
     ]
    },
    {
     "name": "stdout",
     "output_type": "stream",
     "text": [
      "\n"
     ]
    },
    {
     "name": "stderr",
     "output_type": "stream",
     "text": [
      "\r",
      "384it [26:42,  1.85s/it]"
     ]
    },
    {
     "name": "stdout",
     "output_type": "stream",
     "text": [
      "  5,825,129.0 Bytes [100.00%] received. Rate: [19690 KB/s].  ETA: [0 secs]    \r"
     ]
    },
    {
     "name": "stderr",
     "output_type": "stream",
     "text": [
      "\r",
      "385it [26:43,  1.78s/it]"
     ]
    },
    {
     "name": "stdout",
     "output_type": "stream",
     "text": [
      "\n",
      "  15,824,649.0 Bytes [100.00%] received. Rate: [17540 KB/s].  ETA: [0 secs]    \r"
     ]
    },
    {
     "name": "stderr",
     "output_type": "stream",
     "text": [
      "\r",
      "386it [26:46,  2.01s/it]"
     ]
    },
    {
     "name": "stdout",
     "output_type": "stream",
     "text": [
      "\n",
      "  3,546,922.0 Bytes [100.00%] received. Rate: [23195 KB/s].  ETA: [0 secs]    \r"
     ]
    },
    {
     "name": "stderr",
     "output_type": "stream",
     "text": [
      "\r",
      "387it [26:47,  1.88s/it]"
     ]
    },
    {
     "name": "stdout",
     "output_type": "stream",
     "text": [
      "\n",
      "  2,358,787.0 Bytes [100.00%] received. Rate: [12928 KB/s].  ETA: [0 secs]    \r"
     ]
    },
    {
     "name": "stderr",
     "output_type": "stream",
     "text": [
      "\r",
      "388it [26:49,  1.72s/it]"
     ]
    },
    {
     "name": "stdout",
     "output_type": "stream",
     "text": [
      "\n",
      "  12,767,464.0 Bytes [100.00%] received. Rate: [42151 KB/s].  ETA: [0 secs]    \r"
     ]
    },
    {
     "name": "stderr",
     "output_type": "stream",
     "text": [
      "\r",
      "389it [26:51,  1.81s/it]"
     ]
    },
    {
     "name": "stdout",
     "output_type": "stream",
     "text": [
      "\n",
      "  8,581,593.0 Bytes [100.00%] received. Rate: [  44 KB/s].  ETA: [0 secs]     \r"
     ]
    },
    {
     "name": "stderr",
     "output_type": "stream",
     "text": [
      "\r",
      "390it [30:02, 58.70s/it]"
     ]
    },
    {
     "name": "stdout",
     "output_type": "stream",
     "text": [
      "\n",
      "  3,607,410.0 Bytes [100.00%] received. Rate: [24903 KB/s].  ETA: [0 secs]    \r"
     ]
    },
    {
     "name": "stderr",
     "output_type": "stream",
     "text": [
      "\r",
      "391it [30:04, 41.62s/it]"
     ]
    },
    {
     "name": "stdout",
     "output_type": "stream",
     "text": [
      "\n"
     ]
    },
    {
     "name": "stderr",
     "output_type": "stream",
     "text": [
      "ERROR: Video unavailable\n",
      "392it [30:04, 29.23s/it]ERROR: Video unavailable\n",
      "393it [30:05, 20.63s/it]"
     ]
    },
    {
     "name": "stdout",
     "output_type": "stream",
     "text": [
      "  2,775,379.0 Bytes [100.00%] received. Rate: [3871 KB/s].  ETA: [0 secs]    \r"
     ]
    },
    {
     "name": "stderr",
     "output_type": "stream",
     "text": [
      "\r",
      "394it [30:07, 15.03s/it]"
     ]
    },
    {
     "name": "stdout",
     "output_type": "stream",
     "text": [
      "\n",
      "  653,463.0 Bytes [100.00%] received. Rate: [8584 KB/s].  ETA: [0 secs]    \r"
     ]
    },
    {
     "name": "stderr",
     "output_type": "stream",
     "text": [
      "\r",
      "395it [30:08, 10.92s/it]"
     ]
    },
    {
     "name": "stdout",
     "output_type": "stream",
     "text": [
      "\n",
      "  5,187,033.0 Bytes [100.00%] received. Rate: [18855 KB/s].  ETA: [0 secs]    \r"
     ]
    },
    {
     "name": "stderr",
     "output_type": "stream",
     "text": [
      "\r",
      "396it [30:10,  8.20s/it]"
     ]
    },
    {
     "name": "stdout",
     "output_type": "stream",
     "text": [
      "\n",
      "  2,794,596.0 Bytes [100.00%] received. Rate: [13232 KB/s].  ETA: [0 secs]    \r"
     ]
    },
    {
     "name": "stderr",
     "output_type": "stream",
     "text": [
      "\r",
      "397it [30:12,  6.30s/it]"
     ]
    },
    {
     "name": "stdout",
     "output_type": "stream",
     "text": [
      "\n",
      "  10,121,856.0 Bytes [100.00%] received. Rate: [36238 KB/s].  ETA: [0 secs]    \r"
     ]
    },
    {
     "name": "stderr",
     "output_type": "stream",
     "text": [
      "\r",
      "398it [30:13,  4.89s/it]"
     ]
    },
    {
     "name": "stdout",
     "output_type": "stream",
     "text": [
      "\n",
      "  4,186,341.0 Bytes [100.00%] received. Rate: [27873 KB/s].  ETA: [0 secs]    \r"
     ]
    },
    {
     "name": "stderr",
     "output_type": "stream",
     "text": [
      "\r",
      "399it [30:15,  3.84s/it]"
     ]
    },
    {
     "name": "stdout",
     "output_type": "stream",
     "text": [
      "\n",
      "  2,631,175.0 Bytes [100.00%] received. Rate: [7708 KB/s].  ETA: [0 secs]    \r"
     ]
    },
    {
     "name": "stderr",
     "output_type": "stream",
     "text": [
      "\r",
      "400it [30:17,  3.34s/it]"
     ]
    },
    {
     "name": "stdout",
     "output_type": "stream",
     "text": [
      "\n"
     ]
    },
    {
     "name": "stderr",
     "output_type": "stream",
     "text": [
      "\r",
      "401it [30:18,  2.62s/it]"
     ]
    },
    {
     "name": "stdout",
     "output_type": "stream",
     "text": [
      "  4,995,433.0 Bytes [100.00%] received. Rate: [19905 KB/s].  ETA: [0 secs]    \r"
     ]
    },
    {
     "name": "stderr",
     "output_type": "stream",
     "text": [
      "\r",
      "402it [30:20,  2.40s/it]"
     ]
    },
    {
     "name": "stdout",
     "output_type": "stream",
     "text": [
      "\n",
      "  1,727,806.0 Bytes [100.00%] received. Rate: [15537 KB/s].  ETA: [0 secs]    \r"
     ]
    },
    {
     "name": "stderr",
     "output_type": "stream",
     "text": [
      "\r",
      "403it [30:21,  2.03s/it]"
     ]
    },
    {
     "name": "stdout",
     "output_type": "stream",
     "text": [
      "\n",
      "  7,987,994.0 Bytes [100.00%] received. Rate: [36394 KB/s].  ETA: [0 secs]    \r"
     ]
    },
    {
     "name": "stderr",
     "output_type": "stream",
     "text": [
      "\r",
      "404it [30:23,  1.93s/it]"
     ]
    },
    {
     "name": "stdout",
     "output_type": "stream",
     "text": [
      "\n",
      "  267,655.0 Bytes [100.00%] received. Rate: [  54 KB/s].  ETA: [0 secs]    \r"
     ]
    },
    {
     "name": "stderr",
     "output_type": "stream",
     "text": [
      "\r",
      "405it [30:28,  3.04s/it]"
     ]
    },
    {
     "name": "stdout",
     "output_type": "stream",
     "text": [
      "\n",
      "  4,076,186.0 Bytes [100.00%] received. Rate: [26825 KB/s].  ETA: [0 secs]    \r"
     ]
    },
    {
     "name": "stderr",
     "output_type": "stream",
     "text": [
      "\r",
      "406it [30:30,  2.62s/it]"
     ]
    },
    {
     "name": "stdout",
     "output_type": "stream",
     "text": [
      "\n",
      "  1,201,178.0 Bytes [100.00%] received. Rate: [  82 KB/s].  ETA: [0 secs]    \r"
     ]
    },
    {
     "name": "stderr",
     "output_type": "stream",
     "text": [
      "\r",
      "407it [30:46,  6.60s/it]"
     ]
    },
    {
     "name": "stdout",
     "output_type": "stream",
     "text": [
      "\n",
      "  1,232,742.0 Bytes [100.00%] received. Rate: [6209 KB/s].  ETA: [0 secs]    \r"
     ]
    },
    {
     "name": "stderr",
     "output_type": "stream",
     "text": [
      "\r",
      "408it [30:48,  5.30s/it]"
     ]
    },
    {
     "name": "stdout",
     "output_type": "stream",
     "text": [
      "\n",
      "  4,028,504.0 Bytes [100.00%] received. Rate: [37104 KB/s].  ETA: [0 secs]    \r"
     ]
    },
    {
     "name": "stderr",
     "output_type": "stream",
     "text": [
      "\r",
      "409it [30:50,  4.20s/it]"
     ]
    },
    {
     "name": "stdout",
     "output_type": "stream",
     "text": [
      "\n"
     ]
    },
    {
     "name": "stderr",
     "output_type": "stream",
     "text": [
      "ERROR: Private video\n",
      "Sign in if you've been granted access to this video\n",
      "411it [30:51,  2.43s/it]"
     ]
    },
    {
     "name": "stdout",
     "output_type": "stream",
     "text": [
      "  4,904,665.0 Bytes [100.00%] received. Rate: [27175 KB/s].  ETA: [0 secs]    \r"
     ]
    },
    {
     "name": "stderr",
     "output_type": "stream",
     "text": [
      "\r",
      "412it [30:53,  2.12s/it]"
     ]
    },
    {
     "name": "stdout",
     "output_type": "stream",
     "text": [
      "\n",
      "  1,621,129.0 Bytes [100.00%] received. Rate: [13228 KB/s].  ETA: [0 secs]    \r"
     ]
    },
    {
     "name": "stderr",
     "output_type": "stream",
     "text": [
      "\r",
      "413it [30:54,  1.87s/it]"
     ]
    },
    {
     "name": "stdout",
     "output_type": "stream",
     "text": [
      "\n",
      "  1,048,875.0 Bytes [100.00%] received. Rate: [6102 KB/s].  ETA: [0 secs]    \r"
     ]
    },
    {
     "name": "stderr",
     "output_type": "stream",
     "text": [
      "\r",
      "414it [30:56,  1.85s/it]"
     ]
    },
    {
     "name": "stdout",
     "output_type": "stream",
     "text": [
      "\n",
      "  1,058,433.0 Bytes [100.00%] received. Rate: [1940 KB/s].  ETA: [0 secs]    \r"
     ]
    },
    {
     "name": "stderr",
     "output_type": "stream",
     "text": [
      "\r",
      "415it [30:57,  1.83s/it]"
     ]
    },
    {
     "name": "stdout",
     "output_type": "stream",
     "text": [
      "\n",
      "  8,027,180.0 Bytes [100.00%] received. Rate: [25679 KB/s].  ETA: [0 secs]    \r"
     ]
    },
    {
     "name": "stderr",
     "output_type": "stream",
     "text": [
      "\r",
      "416it [30:59,  1.83s/it]"
     ]
    },
    {
     "name": "stdout",
     "output_type": "stream",
     "text": [
      "\n",
      "  1,375,103.0 Bytes [100.00%] received. Rate: [2138 KB/s].  ETA: [0 secs]    \r"
     ]
    },
    {
     "name": "stderr",
     "output_type": "stream",
     "text": [
      "\r",
      "417it [31:01,  1.81s/it]"
     ]
    },
    {
     "name": "stdout",
     "output_type": "stream",
     "text": [
      "\n",
      "  313,931.0 Bytes [100.00%] received. Rate: [4255 KB/s].  ETA: [0 secs]    \r"
     ]
    },
    {
     "name": "stderr",
     "output_type": "stream",
     "text": [
      "\r",
      "418it [31:03,  1.75s/it]"
     ]
    },
    {
     "name": "stdout",
     "output_type": "stream",
     "text": [
      "\n",
      "  13,118,240.0 Bytes [100.00%] received. Rate: [18534 KB/s].  ETA: [0 secs]    \r"
     ]
    },
    {
     "name": "stderr",
     "output_type": "stream",
     "text": [
      "\r",
      "419it [31:05,  1.89s/it]"
     ]
    },
    {
     "name": "stdout",
     "output_type": "stream",
     "text": [
      "\n",
      "  39,978,334.0 Bytes [100.00%] received. Rate: [16869 KB/s].  ETA: [0 secs]    \r"
     ]
    },
    {
     "name": "stderr",
     "output_type": "stream",
     "text": [
      "\r",
      "420it [31:08,  2.34s/it]"
     ]
    },
    {
     "name": "stdout",
     "output_type": "stream",
     "text": [
      "\n",
      "  383,574.0 Bytes [100.00%] received. Rate: [2919 KB/s].  ETA: [0 secs]    \r"
     ]
    },
    {
     "name": "stderr",
     "output_type": "stream",
     "text": [
      "\r",
      "421it [31:10,  2.04s/it]"
     ]
    },
    {
     "name": "stdout",
     "output_type": "stream",
     "text": [
      "\n",
      "  1,368,104.0 Bytes [100.00%] received. Rate: [5676 KB/s].  ETA: [0 secs]    \n"
     ]
    },
    {
     "name": "stderr",
     "output_type": "stream",
     "text": [
      "\r",
      "422it [31:11,  1.92s/it]"
     ]
    },
    {
     "name": "stdout",
     "output_type": "stream",
     "text": [
      "  3,311,049.0 Bytes [100.00%] received. Rate: [  76 KB/s].  ETA: [0 secs]    \r"
     ]
    },
    {
     "name": "stderr",
     "output_type": "stream",
     "text": [
      "\r",
      "423it [31:55, 14.62s/it]"
     ]
    },
    {
     "name": "stdout",
     "output_type": "stream",
     "text": [
      "\n",
      "  2,208,088.0 Bytes [100.00%] received. Rate: [11560 KB/s].  ETA: [0 secs]    \r"
     ]
    },
    {
     "name": "stderr",
     "output_type": "stream",
     "text": [
      "\r",
      "424it [31:57, 10.72s/it]"
     ]
    },
    {
     "name": "stdout",
     "output_type": "stream",
     "text": [
      "\n"
     ]
    },
    {
     "name": "stderr",
     "output_type": "stream",
     "text": [
      "ERROR: Video unavailable\n",
      "This video is no longer available because the YouTube account associated with this video has been terminated.\n",
      "425it [31:58,  7.68s/it]ERROR: Video unavailable\n",
      "426it [31:58,  5.56s/it]"
     ]
    },
    {
     "name": "stdout",
     "output_type": "stream",
     "text": [
      "  1,687,341.0 Bytes [100.00%] received. Rate: [5604 KB/s].  ETA: [0 secs]    \r"
     ]
    },
    {
     "name": "stderr",
     "output_type": "stream",
     "text": [
      "\r",
      "427it [32:01,  4.70s/it]"
     ]
    },
    {
     "name": "stdout",
     "output_type": "stream",
     "text": [
      "\n",
      "  298,755.0 Bytes [100.00%] received. Rate: [ 618 KB/s].  ETA: [0 secs]    \r"
     ]
    },
    {
     "name": "stderr",
     "output_type": "stream",
     "text": [
      "\r",
      "428it [32:02,  3.69s/it]"
     ]
    },
    {
     "name": "stdout",
     "output_type": "stream",
     "text": [
      "\n",
      "  558,191.0 Bytes [100.00%] received. Rate: [ 969 KB/s].  ETA: [0 secs]    \r"
     ]
    },
    {
     "name": "stderr",
     "output_type": "stream",
     "text": [
      "\r",
      "429it [32:04,  3.14s/it]"
     ]
    },
    {
     "name": "stdout",
     "output_type": "stream",
     "text": [
      "\n"
     ]
    },
    {
     "name": "stderr",
     "output_type": "stream",
     "text": [
      "ERROR: Private video\n",
      "Sign in if you've been granted access to this video\n",
      "430it [32:05,  2.34s/it]"
     ]
    },
    {
     "name": "stdout",
     "output_type": "stream",
     "text": [
      "  2,137,761.0 Bytes [100.00%] received. Rate: [5154 KB/s].  ETA: [0 secs]    \r"
     ]
    },
    {
     "name": "stderr",
     "output_type": "stream",
     "text": [
      "\r",
      "431it [32:07,  2.28s/it]"
     ]
    },
    {
     "name": "stdout",
     "output_type": "stream",
     "text": [
      "\n",
      "  9,329,075.0 Bytes [100.00%] received. Rate: [46355 KB/s].  ETA: [0 secs]    \r"
     ]
    },
    {
     "name": "stderr",
     "output_type": "stream",
     "text": [
      "\r",
      "432it [32:08,  2.08s/it]"
     ]
    },
    {
     "name": "stdout",
     "output_type": "stream",
     "text": [
      "\n",
      "  2,397,855.0 Bytes [100.00%] received. Rate: [21744 KB/s].  ETA: [0 secs]    \r"
     ]
    },
    {
     "name": "stderr",
     "output_type": "stream",
     "text": [
      "\r",
      "433it [32:10,  1.81s/it]"
     ]
    },
    {
     "name": "stdout",
     "output_type": "stream",
     "text": [
      "\n",
      "  2,331,015.0 Bytes [100.00%] received. Rate: [10433 KB/s].  ETA: [0 secs]    \r"
     ]
    },
    {
     "name": "stderr",
     "output_type": "stream",
     "text": [
      "\r",
      "434it [32:11,  1.82s/it]"
     ]
    },
    {
     "name": "stdout",
     "output_type": "stream",
     "text": [
      "\n",
      "  6,693,446.0 Bytes [100.00%] received. Rate: [  83 KB/s].  ETA: [0 secs]    \r"
     ]
    },
    {
     "name": "stderr",
     "output_type": "stream",
     "text": [
      "\r",
      "435it [33:32, 25.35s/it]"
     ]
    },
    {
     "name": "stdout",
     "output_type": "stream",
     "text": [
      "\n"
     ]
    },
    {
     "name": "stderr",
     "output_type": "stream",
     "text": [
      "ERROR: Video unavailable\n",
      "436it [33:32, 17.92s/it]"
     ]
    },
    {
     "name": "stdout",
     "output_type": "stream",
     "text": [
      "  1,109,545.0 Bytes [100.00%] received. Rate: [6456 KB/s].  ETA: [0 secs]    \r"
     ]
    },
    {
     "name": "stderr",
     "output_type": "stream",
     "text": [
      "\r",
      "437it [33:34, 12.99s/it]"
     ]
    },
    {
     "name": "stdout",
     "output_type": "stream",
     "text": [
      "\n",
      "  6,565,741.0 Bytes [100.00%] received. Rate: [19092 KB/s].  ETA: [0 secs]    \r"
     ]
    },
    {
     "name": "stderr",
     "output_type": "stream",
     "text": [
      "\r",
      "438it [33:35,  9.58s/it]"
     ]
    },
    {
     "name": "stdout",
     "output_type": "stream",
     "text": [
      "\n",
      "  22,058,895.0 Bytes [100.00%] received. Rate: [13082 KB/s].  ETA: [0 secs]    \r"
     ]
    },
    {
     "name": "stderr",
     "output_type": "stream",
     "text": [
      "\r",
      "439it [33:38,  7.49s/it]"
     ]
    },
    {
     "name": "stdout",
     "output_type": "stream",
     "text": [
      "\n",
      "  1,468,626.0 Bytes [100.00%] received. Rate: [6658 KB/s].  ETA: [0 secs]    \r"
     ]
    },
    {
     "name": "stderr",
     "output_type": "stream",
     "text": [
      "\r",
      "440it [33:39,  5.61s/it]"
     ]
    },
    {
     "name": "stdout",
     "output_type": "stream",
     "text": [
      "\n",
      "  13,733,833.0 Bytes [100.00%] received. Rate: [21698 KB/s].  ETA: [0 secs]    \r"
     ]
    },
    {
     "name": "stderr",
     "output_type": "stream",
     "text": [
      "\r",
      "441it [33:41,  4.49s/it]"
     ]
    },
    {
     "name": "stdout",
     "output_type": "stream",
     "text": [
      "\n"
     ]
    },
    {
     "name": "stderr",
     "output_type": "stream",
     "text": [
      "ERROR: Video unavailable\n",
      "This video is unavailable.\n",
      "442it [33:42,  3.28s/it]"
     ]
    },
    {
     "name": "stdout",
     "output_type": "stream",
     "text": [
      "  6,825,626.0 Bytes [100.00%] received. Rate: [18528 KB/s].  ETA: [0 secs]    \r"
     ]
    },
    {
     "name": "stderr",
     "output_type": "stream",
     "text": [
      "\r",
      "443it [33:43,  2.77s/it]"
     ]
    },
    {
     "name": "stdout",
     "output_type": "stream",
     "text": [
      "\n",
      "  11,985,591.0 Bytes [100.00%] received. Rate: [41883 KB/s].  ETA: [0 secs]    \r"
     ]
    },
    {
     "name": "stderr",
     "output_type": "stream",
     "text": [
      "\r",
      "444it [33:45,  2.48s/it]"
     ]
    },
    {
     "name": "stdout",
     "output_type": "stream",
     "text": [
      "\n",
      "  6,427,032.0 Bytes [100.00%] received. Rate: [16091 KB/s].  ETA: [0 secs]    \r"
     ]
    },
    {
     "name": "stderr",
     "output_type": "stream",
     "text": [
      "\r",
      "445it [33:47,  2.31s/it]"
     ]
    },
    {
     "name": "stdout",
     "output_type": "stream",
     "text": [
      "\n"
     ]
    },
    {
     "name": "stderr",
     "output_type": "stream",
     "text": [
      "ERROR: Video unavailable\n",
      "446it [33:47,  1.79s/it]"
     ]
    },
    {
     "name": "stdout",
     "output_type": "stream",
     "text": [
      "  3,338,868.0 Bytes [100.00%] received. Rate: [18100 KB/s].  ETA: [0 secs]    \r"
     ]
    },
    {
     "name": "stderr",
     "output_type": "stream",
     "text": [
      "\r",
      "447it [33:49,  1.74s/it]"
     ]
    },
    {
     "name": "stdout",
     "output_type": "stream",
     "text": [
      "\n",
      "  1,122,776.0 Bytes [100.00%] received. Rate: [13632 KB/s].  ETA: [0 secs]    \r"
     ]
    },
    {
     "name": "stderr",
     "output_type": "stream",
     "text": [
      "\r",
      "448it [33:50,  1.62s/it]"
     ]
    },
    {
     "name": "stdout",
     "output_type": "stream",
     "text": [
      "\n",
      "  3,156,283.0 Bytes [100.00%] received. Rate: [15745 KB/s].  ETA: [0 secs]    \r"
     ]
    },
    {
     "name": "stderr",
     "output_type": "stream",
     "text": [
      "\r",
      "449it [33:52,  1.56s/it]"
     ]
    },
    {
     "name": "stdout",
     "output_type": "stream",
     "text": [
      "\n",
      "  1,427,210.0 Bytes [100.00%] received. Rate: [3077 KB/s].  ETA: [0 secs]    \r"
     ]
    },
    {
     "name": "stderr",
     "output_type": "stream",
     "text": [
      "\r",
      "450it [33:53,  1.58s/it]"
     ]
    },
    {
     "name": "stdout",
     "output_type": "stream",
     "text": [
      "\n"
     ]
    },
    {
     "name": "stderr",
     "output_type": "stream",
     "text": [
      "ERROR: Video unavailable\n",
      "451it [33:54,  1.20s/it]"
     ]
    },
    {
     "name": "stdout",
     "output_type": "stream",
     "text": [
      "  13,031,977.0 Bytes [100.00%] received. Rate: [38019 KB/s].  ETA: [0 secs]    \r"
     ]
    },
    {
     "name": "stderr",
     "output_type": "stream",
     "text": [
      "\r",
      "452it [33:56,  1.41s/it]"
     ]
    },
    {
     "name": "stdout",
     "output_type": "stream",
     "text": [
      "\n",
      "  4,025,360.0 Bytes [100.00%] received. Rate: [27147 KB/s].  ETA: [0 secs]    \r"
     ]
    },
    {
     "name": "stderr",
     "output_type": "stream",
     "text": [
      "\r",
      "453it [33:57,  1.46s/it]"
     ]
    },
    {
     "name": "stdout",
     "output_type": "stream",
     "text": [
      "\n",
      "  140,595.0 Bytes [100.00%] received. Rate: [1435 KB/s].  ETA: [0 secs]    \r"
     ]
    },
    {
     "name": "stderr",
     "output_type": "stream",
     "text": [
      "\r",
      "454it [33:59,  1.44s/it]"
     ]
    },
    {
     "name": "stdout",
     "output_type": "stream",
     "text": [
      "\n",
      "  4,163,322.0 Bytes [100.00%] received. Rate: [21190 KB/s].  ETA: [0 secs]    \r"
     ]
    },
    {
     "name": "stderr",
     "output_type": "stream",
     "text": [
      "\r",
      "455it [34:00,  1.54s/it]"
     ]
    },
    {
     "name": "stdout",
     "output_type": "stream",
     "text": [
      "\n",
      "  10,612,202.0 Bytes [100.00%] received. Rate: [  70 KB/s].  ETA: [0 secs]    \r"
     ]
    },
    {
     "name": "stderr",
     "output_type": "stream",
     "text": [
      "\r",
      "456it [36:35, 47.55s/it]"
     ]
    },
    {
     "name": "stdout",
     "output_type": "stream",
     "text": [
      "\n",
      "  2,181,182.0 Bytes [100.00%] received. Rate: [11356 KB/s].  ETA: [0 secs]    \r"
     ]
    },
    {
     "name": "stderr",
     "output_type": "stream",
     "text": [
      "\r",
      "457it [36:37, 33.78s/it]"
     ]
    },
    {
     "name": "stdout",
     "output_type": "stream",
     "text": [
      "\n",
      "  1,476,488.0 Bytes [100.00%] received. Rate: [18073 KB/s].  ETA: [0 secs]    \r"
     ]
    },
    {
     "name": "stderr",
     "output_type": "stream",
     "text": [
      "\r",
      "458it [36:38, 23.99s/it]"
     ]
    },
    {
     "name": "stdout",
     "output_type": "stream",
     "text": [
      "\n"
     ]
    },
    {
     "name": "stderr",
     "output_type": "stream",
     "text": [
      "ERROR: Video unavailable\n",
      "This video is no longer available because the YouTube account associated with this video has been terminated.\n",
      "459it [36:38, 16.89s/it]"
     ]
    },
    {
     "name": "stdout",
     "output_type": "stream",
     "text": [
      "  4,525,972.0 Bytes [100.00%] received. Rate: [22152 KB/s].  ETA: [0 secs]    \r"
     ]
    },
    {
     "name": "stderr",
     "output_type": "stream",
     "text": [
      "\r",
      "460it [36:40, 12.29s/it]"
     ]
    },
    {
     "name": "stdout",
     "output_type": "stream",
     "text": [
      "\n",
      "  3,587,967.0 Bytes [100.00%] received. Rate: [6549 KB/s].  ETA: [0 secs]    \r"
     ]
    },
    {
     "name": "stderr",
     "output_type": "stream",
     "text": [
      "\r",
      "461it [36:42,  9.09s/it]"
     ]
    },
    {
     "name": "stdout",
     "output_type": "stream",
     "text": [
      "\n",
      "  1,586,159.0 Bytes [100.00%] received. Rate: [3042 KB/s].  ETA: [0 secs]    \r"
     ]
    },
    {
     "name": "stderr",
     "output_type": "stream",
     "text": [
      "\r",
      "462it [36:43,  6.88s/it]"
     ]
    },
    {
     "name": "stdout",
     "output_type": "stream",
     "text": [
      "\n",
      "  7,505,202.0 Bytes [100.00%] received. Rate: [17142 KB/s].  ETA: [0 secs]    \r"
     ]
    },
    {
     "name": "stderr",
     "output_type": "stream",
     "text": [
      "\r",
      "463it [36:45,  5.39s/it]"
     ]
    },
    {
     "name": "stdout",
     "output_type": "stream",
     "text": [
      "\n",
      "  3,618,915.0 Bytes [100.00%] received. Rate: [10942 KB/s].  ETA: [0 secs]    \r"
     ]
    },
    {
     "name": "stderr",
     "output_type": "stream",
     "text": [
      "\r",
      "464it [36:46,  4.15s/it]"
     ]
    },
    {
     "name": "stdout",
     "output_type": "stream",
     "text": [
      "\n"
     ]
    },
    {
     "name": "stderr",
     "output_type": "stream",
     "text": [
      "ERROR: Private video\n",
      "Sign in if you've been granted access to this video\n",
      "465it [36:47,  3.04s/it]"
     ]
    },
    {
     "name": "stdout",
     "output_type": "stream",
     "text": [
      "  3,612,447.0 Bytes [100.00%] received. Rate: [22222 KB/s].  ETA: [0 secs]    \r"
     ]
    },
    {
     "name": "stderr",
     "output_type": "stream",
     "text": [
      "\r",
      "466it [36:49,  2.62s/it]"
     ]
    },
    {
     "name": "stdout",
     "output_type": "stream",
     "text": [
      "\n",
      "  2,496,185.0 Bytes [100.00%] received. Rate: [  57 KB/s].  ETA: [0 secs]    \r"
     ]
    },
    {
     "name": "stderr",
     "output_type": "stream",
     "text": [
      "\r",
      "467it [37:33, 15.06s/it]"
     ]
    },
    {
     "name": "stdout",
     "output_type": "stream",
     "text": [
      "\n",
      "  2,989,969.0 Bytes [100.00%] received. Rate: [20685 KB/s].  ETA: [0 secs]    \r"
     ]
    },
    {
     "name": "stderr",
     "output_type": "stream",
     "text": [
      "\r",
      "468it [37:34, 11.00s/it]"
     ]
    },
    {
     "name": "stdout",
     "output_type": "stream",
     "text": [
      "\n",
      "  511,076.0 Bytes [100.00%] received. Rate: [1581 KB/s].  ETA: [0 secs]    \r"
     ]
    },
    {
     "name": "stderr",
     "output_type": "stream",
     "text": [
      "\r",
      "469it [37:36,  8.12s/it]"
     ]
    },
    {
     "name": "stdout",
     "output_type": "stream",
     "text": [
      "\n"
     ]
    },
    {
     "name": "stderr",
     "output_type": "stream",
     "text": [
      "ERROR: Video unavailable\n",
      "470it [37:36,  5.80s/it]"
     ]
    },
    {
     "name": "stdout",
     "output_type": "stream",
     "text": [
      "  2,584,090.0 Bytes [100.00%] received. Rate: [13563 KB/s].  ETA: [0 secs]    \r"
     ]
    },
    {
     "name": "stderr",
     "output_type": "stream",
     "text": [
      "\r",
      "471it [37:38,  4.61s/it]"
     ]
    },
    {
     "name": "stdout",
     "output_type": "stream",
     "text": [
      "\n"
     ]
    },
    {
     "name": "stderr",
     "output_type": "stream",
     "text": [
      "\r",
      "472it [37:39,  3.51s/it]"
     ]
    },
    {
     "name": "stdout",
     "output_type": "stream",
     "text": [
      "  1,313,560.0 Bytes [100.00%] received. Rate: [8981 KB/s].  ETA: [0 secs]    \r"
     ]
    },
    {
     "name": "stderr",
     "output_type": "stream",
     "text": [
      "\r",
      "473it [37:40,  2.88s/it]"
     ]
    },
    {
     "name": "stdout",
     "output_type": "stream",
     "text": [
      "\n"
     ]
    },
    {
     "name": "stderr",
     "output_type": "stream",
     "text": [
      "ERROR: This video has been removed for violating YouTube's Community Guidelines.\n",
      "474it [37:40,  2.12s/it]"
     ]
    },
    {
     "name": "stdout",
     "output_type": "stream",
     "text": [
      "  246,763.0 Bytes [100.00%] received. Rate: [  80 KB/s].  ETA: [0 secs]    \r"
     ]
    },
    {
     "name": "stderr",
     "output_type": "stream",
     "text": [
      "\r",
      "475it [37:45,  2.86s/it]"
     ]
    },
    {
     "name": "stdout",
     "output_type": "stream",
     "text": [
      "\n"
     ]
    },
    {
     "name": "stderr",
     "output_type": "stream",
     "text": [
      "\r",
      "476it [37:46,  2.29s/it]"
     ]
    },
    {
     "name": "stdout",
     "output_type": "stream",
     "text": [
      "  463,620.0 Bytes [100.00%] received. Rate: [3513 KB/s].  ETA: [0 secs]    \r"
     ]
    },
    {
     "name": "stderr",
     "output_type": "stream",
     "text": [
      "\r",
      "477it [37:47,  1.98s/it]"
     ]
    },
    {
     "name": "stdout",
     "output_type": "stream",
     "text": [
      "\n",
      "  3,805,945.0 Bytes [100.00%] received. Rate: [21602 KB/s].  ETA: [0 secs]    \r"
     ]
    },
    {
     "name": "stderr",
     "output_type": "stream",
     "text": [
      "\r",
      "478it [37:49,  1.82s/it]"
     ]
    },
    {
     "name": "stdout",
     "output_type": "stream",
     "text": [
      "\n",
      "  1,569,753.0 Bytes [100.00%] received. Rate: [13051 KB/s].  ETA: [0 secs]    \r"
     ]
    },
    {
     "name": "stderr",
     "output_type": "stream",
     "text": [
      "\r",
      "479it [37:50,  1.72s/it]"
     ]
    },
    {
     "name": "stdout",
     "output_type": "stream",
     "text": [
      "\n",
      "  619,479.0 Bytes [100.00%] received. Rate: [4216 KB/s].  ETA: [0 secs]    \r"
     ]
    },
    {
     "name": "stderr",
     "output_type": "stream",
     "text": [
      "\r",
      "480it [37:52,  1.73s/it]"
     ]
    },
    {
     "name": "stdout",
     "output_type": "stream",
     "text": [
      "\n",
      "  5,531,241.0 Bytes [100.00%] received. Rate: [8120 KB/s].  ETA: [0 secs]    \r"
     ]
    },
    {
     "name": "stderr",
     "output_type": "stream",
     "text": [
      "\r",
      "481it [37:54,  1.84s/it]"
     ]
    },
    {
     "name": "stdout",
     "output_type": "stream",
     "text": [
      "\n",
      "  3,481,738.0 Bytes [100.00%] received. Rate: [24341 KB/s].  ETA: [0 secs]    \r"
     ]
    },
    {
     "name": "stderr",
     "output_type": "stream",
     "text": [
      "\r",
      "482it [37:56,  1.81s/it]"
     ]
    },
    {
     "name": "stdout",
     "output_type": "stream",
     "text": [
      "\n",
      "  8,221,815.0 Bytes [100.00%] received. Rate: [12158 KB/s].  ETA: [0 secs]    \r"
     ]
    },
    {
     "name": "stderr",
     "output_type": "stream",
     "text": [
      "\r",
      "483it [37:58,  1.96s/it]"
     ]
    },
    {
     "name": "stdout",
     "output_type": "stream",
     "text": [
      "\n",
      "  6,481,942.0 Bytes [100.00%] received. Rate: [17805 KB/s].  ETA: [0 secs]    \r"
     ]
    },
    {
     "name": "stderr",
     "output_type": "stream",
     "text": [
      "\r",
      "484it [38:00,  2.01s/it]"
     ]
    },
    {
     "name": "stdout",
     "output_type": "stream",
     "text": [
      "\n",
      "  4,715,585.0 Bytes [100.00%] received. Rate: [20489 KB/s].  ETA: [0 secs]    \r"
     ]
    },
    {
     "name": "stderr",
     "output_type": "stream",
     "text": [
      "\r",
      "485it [38:02,  1.97s/it]"
     ]
    },
    {
     "name": "stdout",
     "output_type": "stream",
     "text": [
      "\n",
      "  24,404.0 Bytes [100.00%] received. Rate: [ 303 KB/s].  ETA: [0 secs]    \r"
     ]
    },
    {
     "name": "stderr",
     "output_type": "stream",
     "text": [
      "\r",
      "486it [38:04,  1.84s/it]"
     ]
    },
    {
     "name": "stdout",
     "output_type": "stream",
     "text": [
      "\n",
      "  1,862,253.0 Bytes [100.00%] received. Rate: [15528 KB/s].  ETA: [0 secs]    \r"
     ]
    },
    {
     "name": "stderr",
     "output_type": "stream",
     "text": [
      "\r",
      "487it [38:05,  1.78s/it]"
     ]
    },
    {
     "name": "stdout",
     "output_type": "stream",
     "text": [
      "\n",
      "  1,752,848.0 Bytes [100.00%] received. Rate: [17749 KB/s].  ETA: [0 secs]    \r"
     ]
    },
    {
     "name": "stderr",
     "output_type": "stream",
     "text": [
      "\r",
      "488it [38:06,  1.54s/it]"
     ]
    },
    {
     "name": "stdout",
     "output_type": "stream",
     "text": [
      "\n",
      "  384,762.0 Bytes [100.00%] received. Rate: [4756 KB/s].  ETA: [0 secs]    \r"
     ]
    },
    {
     "name": "stderr",
     "output_type": "stream",
     "text": [
      "\r",
      "489it [38:07,  1.43s/it]"
     ]
    },
    {
     "name": "stdout",
     "output_type": "stream",
     "text": [
      "\n"
     ]
    },
    {
     "name": "stderr",
     "output_type": "stream",
     "text": [
      "ERROR: Video unavailable\n",
      "490it [38:08,  1.12s/it]ERROR: Video unavailable\n",
      "491it [38:08,  1.08it/s]"
     ]
    },
    {
     "name": "stdout",
     "output_type": "stream",
     "text": [
      "  1,708,468.0 Bytes [100.00%] received. Rate: [8780 KB/s].  ETA: [0 secs]    \r"
     ]
    },
    {
     "name": "stderr",
     "output_type": "stream",
     "text": [
      "\r",
      "492it [38:10,  1.16s/it]"
     ]
    },
    {
     "name": "stdout",
     "output_type": "stream",
     "text": [
      "\n",
      "  12,397,615.0 Bytes [100.00%] received. Rate: [14979 KB/s].  ETA: [0 secs]    \r"
     ]
    },
    {
     "name": "stderr",
     "output_type": "stream",
     "text": [
      "\r",
      "493it [38:12,  1.47s/it]"
     ]
    },
    {
     "name": "stdout",
     "output_type": "stream",
     "text": [
      "\n",
      "  5,783,447.0 Bytes [100.00%] received. Rate: [25495 KB/s].  ETA: [0 secs]    \r"
     ]
    },
    {
     "name": "stderr",
     "output_type": "stream",
     "text": [
      "\r",
      "494it [38:14,  1.56s/it]"
     ]
    },
    {
     "name": "stdout",
     "output_type": "stream",
     "text": [
      "\n",
      "  3,972,857.0 Bytes [100.00%] received. Rate: [23164 KB/s].  ETA: [0 secs]    \r"
     ]
    },
    {
     "name": "stderr",
     "output_type": "stream",
     "text": [
      "\r",
      "495it [38:15,  1.52s/it]"
     ]
    },
    {
     "name": "stdout",
     "output_type": "stream",
     "text": [
      "\n",
      "  14,232,620.0 Bytes [100.00%] received. Rate: [19849 KB/s].  ETA: [0 secs]    \r"
     ]
    },
    {
     "name": "stderr",
     "output_type": "stream",
     "text": [
      "\r",
      "496it [38:17,  1.64s/it]"
     ]
    },
    {
     "name": "stdout",
     "output_type": "stream",
     "text": [
      "\n",
      "  1,704,977.0 Bytes [100.00%] received. Rate: [9966 KB/s].  ETA: [0 secs]    \r"
     ]
    },
    {
     "name": "stderr",
     "output_type": "stream",
     "text": [
      "\r",
      "497it [38:19,  1.52s/it]"
     ]
    },
    {
     "name": "stdout",
     "output_type": "stream",
     "text": [
      "\n",
      "  477,935.0 Bytes [100.00%] received. Rate: [1669 KB/s].  ETA: [0 secs]    \r"
     ]
    },
    {
     "name": "stderr",
     "output_type": "stream",
     "text": [
      "\r",
      "498it [38:20,  1.61s/it]"
     ]
    },
    {
     "name": "stdout",
     "output_type": "stream",
     "text": [
      "\n",
      "  3,380,935.0 Bytes [100.00%] received. Rate: [3845 KB/s].  ETA: [0 secs]    \r"
     ]
    },
    {
     "name": "stderr",
     "output_type": "stream",
     "text": [
      "\r",
      "499it [38:23,  1.85s/it]"
     ]
    },
    {
     "name": "stdout",
     "output_type": "stream",
     "text": [
      "\n",
      "  5,537,860.0 Bytes [100.00%] received. Rate: [  43 KB/s].  ETA: [0 secs]     \r"
     ]
    },
    {
     "name": "stderr",
     "output_type": "stream",
     "text": [
      "\r",
      "500it [40:29, 39.18s/it]"
     ]
    },
    {
     "name": "stdout",
     "output_type": "stream",
     "text": [
      "\n",
      "  868,496.0 Bytes [100.00%] received. Rate: [7723 KB/s].  ETA: [0 secs]    \r"
     ]
    },
    {
     "name": "stderr",
     "output_type": "stream",
     "text": [
      "\r",
      "501it [40:30, 27.81s/it]"
     ]
    },
    {
     "name": "stdout",
     "output_type": "stream",
     "text": [
      "\n"
     ]
    },
    {
     "name": "stderr",
     "output_type": "stream",
     "text": [
      "ERROR: Private video\n",
      "Sign in if you've been granted access to this video\n",
      "502it [40:31, 19.60s/it]"
     ]
    },
    {
     "name": "stdout",
     "output_type": "stream",
     "text": [
      "  1,455,184.0 Bytes [100.00%] received. Rate: [8108 KB/s].  ETA: [0 secs]    \r"
     ]
    },
    {
     "name": "stderr",
     "output_type": "stream",
     "text": [
      "\r",
      "503it [40:32, 14.14s/it]"
     ]
    },
    {
     "name": "stdout",
     "output_type": "stream",
     "text": [
      "\n",
      "  30,113,837.0 Bytes [100.00%] received. Rate: [2208 KB/s].  ETA: [0 secs]     \r"
     ]
    },
    {
     "name": "stderr",
     "output_type": "stream",
     "text": [
      "\r",
      "504it [40:35, 10.74s/it]"
     ]
    },
    {
     "name": "stdout",
     "output_type": "stream",
     "text": [
      "\n",
      "  9,513,522.0 Bytes [100.00%] received. Rate: [22828 KB/s].  ETA: [0 secs]    \r"
     ]
    },
    {
     "name": "stderr",
     "output_type": "stream",
     "text": [
      "\r",
      "505it [40:37,  7.98s/it]"
     ]
    },
    {
     "name": "stdout",
     "output_type": "stream",
     "text": [
      "\n",
      "  11,649,127.0 Bytes [100.00%] received. Rate: [11175 KB/s].  ETA: [0 secs]    \r"
     ]
    },
    {
     "name": "stderr",
     "output_type": "stream",
     "text": [
      "\r",
      "506it [40:39,  6.17s/it]"
     ]
    },
    {
     "name": "stdout",
     "output_type": "stream",
     "text": [
      "\n",
      "  33,841,084.0 Bytes [100.00%] received. Rate: [14179 KB/s].  ETA: [0 secs]    \r"
     ]
    },
    {
     "name": "stderr",
     "output_type": "stream",
     "text": [
      "\r",
      "507it [40:42,  5.51s/it]"
     ]
    },
    {
     "name": "stdout",
     "output_type": "stream",
     "text": [
      "\n",
      "  4,452,268.0 Bytes [100.00%] received. Rate: [21831 KB/s].  ETA: [0 secs]    \r"
     ]
    },
    {
     "name": "stderr",
     "output_type": "stream",
     "text": [
      "\r",
      "508it [40:44,  4.29s/it]"
     ]
    },
    {
     "name": "stdout",
     "output_type": "stream",
     "text": [
      "\n",
      "  3,588,530.0 Bytes [100.00%] received. Rate: [18140 KB/s].  ETA: [0 secs]    \r"
     ]
    },
    {
     "name": "stderr",
     "output_type": "stream",
     "text": [
      "\r",
      "509it [40:45,  3.37s/it]"
     ]
    },
    {
     "name": "stdout",
     "output_type": "stream",
     "text": [
      "\n",
      "  222,696.0 Bytes [100.00%] received. Rate: [2883 KB/s].  ETA: [0 secs]    \r"
     ]
    },
    {
     "name": "stderr",
     "output_type": "stream",
     "text": [
      "\r",
      "510it [40:47,  2.81s/it]"
     ]
    },
    {
     "name": "stdout",
     "output_type": "stream",
     "text": [
      "\n",
      "  1,282,288.0 Bytes [100.00%] received. Rate: [2411 KB/s].  ETA: [0 secs]    \r"
     ]
    },
    {
     "name": "stderr",
     "output_type": "stream",
     "text": [
      "\r",
      "511it [40:49,  2.53s/it]"
     ]
    },
    {
     "name": "stdout",
     "output_type": "stream",
     "text": [
      "\n"
     ]
    },
    {
     "name": "stderr",
     "output_type": "stream",
     "text": [
      "ERROR: Video unavailable\n",
      "512it [40:49,  1.89s/it]"
     ]
    },
    {
     "name": "stdout",
     "output_type": "stream",
     "text": [
      "  9,980,586.0 Bytes [100.00%] received. Rate: [18548 KB/s].  ETA: [0 secs]    \r"
     ]
    },
    {
     "name": "stderr",
     "output_type": "stream",
     "text": [
      "\r",
      "513it [40:51,  1.96s/it]"
     ]
    },
    {
     "name": "stdout",
     "output_type": "stream",
     "text": [
      "\n",
      "  8,936,632.0 Bytes [100.00%] received. Rate: [35434 KB/s].  ETA: [0 secs]    \r"
     ]
    },
    {
     "name": "stderr",
     "output_type": "stream",
     "text": [
      "\r",
      "514it [40:54,  2.30s/it]"
     ]
    },
    {
     "name": "stdout",
     "output_type": "stream",
     "text": [
      "\n",
      "  1,669,945.0 Bytes [100.00%] received. Rate: [6925 KB/s].  ETA: [0 secs]    \r"
     ]
    },
    {
     "name": "stderr",
     "output_type": "stream",
     "text": [
      "\r",
      "515it [40:55,  2.01s/it]"
     ]
    },
    {
     "name": "stdout",
     "output_type": "stream",
     "text": [
      "\n"
     ]
    },
    {
     "name": "stderr",
     "output_type": "stream",
     "text": [
      "ERROR: Video unavailable\n",
      "This video is no longer available because the YouTube account associated with this video has been terminated.\n",
      "516it [40:56,  1.52s/it]"
     ]
    },
    {
     "name": "stdout",
     "output_type": "stream",
     "text": [
      "  3,138,594.0 Bytes [100.00%] received. Rate: [3980 KB/s].  ETA: [0 secs]    \r"
     ]
    },
    {
     "name": "stderr",
     "output_type": "stream",
     "text": [
      "\r",
      "517it [40:58,  1.76s/it]"
     ]
    },
    {
     "name": "stdout",
     "output_type": "stream",
     "text": [
      "\n",
      "  9,738,850.0 Bytes [100.00%] received. Rate: [5073 KB/s].  ETA: [0 secs]    \r"
     ]
    },
    {
     "name": "stderr",
     "output_type": "stream",
     "text": [
      "\r",
      "518it [41:02,  2.27s/it]"
     ]
    },
    {
     "name": "stdout",
     "output_type": "stream",
     "text": [
      "\n",
      "  6,965,750.0 Bytes [100.00%] received. Rate: [24739 KB/s].  ETA: [0 secs]    \r"
     ]
    },
    {
     "name": "stderr",
     "output_type": "stream",
     "text": [
      "\r",
      "519it [41:03,  2.11s/it]"
     ]
    },
    {
     "name": "stdout",
     "output_type": "stream",
     "text": [
      "\n",
      "  1,867,260.0 Bytes [100.00%] received. Rate: [1490 KB/s].  ETA: [0 secs]    \r"
     ]
    },
    {
     "name": "stderr",
     "output_type": "stream",
     "text": [
      "\r",
      "520it [41:06,  2.17s/it]"
     ]
    },
    {
     "name": "stdout",
     "output_type": "stream",
     "text": [
      "\n",
      "  831,633.0 Bytes [100.00%] received. Rate: [4937 KB/s].  ETA: [0 secs]    \r"
     ]
    },
    {
     "name": "stderr",
     "output_type": "stream",
     "text": [
      "\r",
      "521it [41:07,  1.92s/it]"
     ]
    },
    {
     "name": "stdout",
     "output_type": "stream",
     "text": [
      "\n",
      "  9,728,339.0 Bytes [100.00%] received. Rate: [15940 KB/s].  ETA: [0 secs]    \r"
     ]
    },
    {
     "name": "stderr",
     "output_type": "stream",
     "text": [
      "\r",
      "522it [41:09,  1.96s/it]"
     ]
    },
    {
     "name": "stdout",
     "output_type": "stream",
     "text": [
      "\n"
     ]
    },
    {
     "name": "stderr",
     "output_type": "stream",
     "text": [
      "ERROR: Video unavailable\n",
      "This video contains content from KBS Media, who has blocked it on copyright grounds.\n",
      "523it [41:09,  1.49s/it]"
     ]
    },
    {
     "name": "stdout",
     "output_type": "stream",
     "text": [
      "  1,902,987.0 Bytes [100.00%] received. Rate: [7813 KB/s].  ETA: [0 secs]    \r"
     ]
    },
    {
     "name": "stderr",
     "output_type": "stream",
     "text": [
      "\r",
      "524it [41:11,  1.61s/it]"
     ]
    },
    {
     "name": "stdout",
     "output_type": "stream",
     "text": [
      "\n",
      "  4,448,582.0 Bytes [100.00%] received. Rate: [26500 KB/s].  ETA: [0 secs]    \r"
     ]
    },
    {
     "name": "stderr",
     "output_type": "stream",
     "text": [
      "\r",
      "525it [41:13,  1.50s/it]"
     ]
    },
    {
     "name": "stdout",
     "output_type": "stream",
     "text": [
      "\n",
      "  7,346,829.0 Bytes [100.00%] received. Rate: [9605 KB/s].  ETA: [0 secs]    \r"
     ]
    },
    {
     "name": "stderr",
     "output_type": "stream",
     "text": [
      "\r",
      "526it [41:15,  1.68s/it]"
     ]
    },
    {
     "name": "stdout",
     "output_type": "stream",
     "text": [
      "\n",
      "  8,057,739.0 Bytes [100.00%] received. Rate: [12659 KB/s].  ETA: [0 secs]    \r"
     ]
    },
    {
     "name": "stderr",
     "output_type": "stream",
     "text": [
      "\r",
      "527it [41:17,  1.79s/it]"
     ]
    },
    {
     "name": "stdout",
     "output_type": "stream",
     "text": [
      "\n",
      "  1,787,075.0 Bytes [100.00%] received. Rate: [17416 KB/s].  ETA: [0 secs]    \r"
     ]
    },
    {
     "name": "stderr",
     "output_type": "stream",
     "text": [
      "\r",
      "528it [41:18,  1.63s/it]"
     ]
    },
    {
     "name": "stdout",
     "output_type": "stream",
     "text": [
      "\n",
      "  4,895,872.0 Bytes [100.00%] received. Rate: [4660 KB/s].  ETA: [0 secs]    \r"
     ]
    },
    {
     "name": "stderr",
     "output_type": "stream",
     "text": [
      "\r",
      "529it [41:20,  1.88s/it]"
     ]
    },
    {
     "name": "stdout",
     "output_type": "stream",
     "text": [
      "\n",
      "  6,743,911.0 Bytes [100.00%] received. Rate: [20412 KB/s].  ETA: [0 secs]    \r"
     ]
    },
    {
     "name": "stderr",
     "output_type": "stream",
     "text": [
      "\r",
      "530it [41:22,  1.88s/it]"
     ]
    },
    {
     "name": "stdout",
     "output_type": "stream",
     "text": [
      "\n",
      "  9,567,846.0 Bytes [100.00%] received. Rate: [52058 KB/s].  ETA: [0 secs]    \r"
     ]
    },
    {
     "name": "stderr",
     "output_type": "stream",
     "text": [
      "\r",
      "531it [41:24,  1.74s/it]"
     ]
    },
    {
     "name": "stdout",
     "output_type": "stream",
     "text": [
      "\n",
      "  2,707,872.0 Bytes [100.00%] received. Rate: [12058 KB/s].  ETA: [0 secs]    \r"
     ]
    },
    {
     "name": "stderr",
     "output_type": "stream",
     "text": [
      "\r",
      "532it [41:25,  1.65s/it]"
     ]
    },
    {
     "name": "stdout",
     "output_type": "stream",
     "text": [
      "\n",
      "  10,269,551.0 Bytes [100.00%] received. Rate: [3608 KB/s].  ETA: [0 secs]    \r"
     ]
    },
    {
     "name": "stderr",
     "output_type": "stream",
     "text": [
      "\r",
      "533it [41:27,  1.85s/it]"
     ]
    },
    {
     "name": "stdout",
     "output_type": "stream",
     "text": [
      "\n",
      "  3,810,900.0 Bytes [100.00%] received. Rate: [23035 KB/s].  ETA: [0 secs]    \r"
     ]
    },
    {
     "name": "stderr",
     "output_type": "stream",
     "text": [
      "\r",
      "534it [41:29,  1.68s/it]"
     ]
    },
    {
     "name": "stdout",
     "output_type": "stream",
     "text": [
      "\n",
      "  11,114,591.0 Bytes [100.00%] received. Rate: [38902 KB/s].  ETA: [0 secs]    \r"
     ]
    },
    {
     "name": "stderr",
     "output_type": "stream",
     "text": [
      "\r",
      "535it [41:30,  1.61s/it]"
     ]
    },
    {
     "name": "stdout",
     "output_type": "stream",
     "text": [
      "\n",
      "  5,629,147.0 Bytes [100.00%] received. Rate: [18768 KB/s].  ETA: [0 secs]    \r"
     ]
    },
    {
     "name": "stderr",
     "output_type": "stream",
     "text": [
      "\r",
      "536it [41:32,  1.61s/it]"
     ]
    },
    {
     "name": "stdout",
     "output_type": "stream",
     "text": [
      "\n",
      "  20,533,532.0 Bytes [100.00%] received. Rate: [3461 KB/s].  ETA: [0 secs]    \r"
     ]
    },
    {
     "name": "stderr",
     "output_type": "stream",
     "text": [
      "\r",
      "537it [41:35,  1.96s/it]"
     ]
    },
    {
     "name": "stdout",
     "output_type": "stream",
     "text": [
      "\n",
      "  2,572,581.0 Bytes [100.00%] received. Rate: [17998 KB/s].  ETA: [0 secs]    \r"
     ]
    },
    {
     "name": "stderr",
     "output_type": "stream",
     "text": [
      "\r",
      "538it [41:36,  1.80s/it]"
     ]
    },
    {
     "name": "stdout",
     "output_type": "stream",
     "text": [
      "\n",
      "  5,242,727.0 Bytes [100.00%] received. Rate: [15362 KB/s].  ETA: [0 secs]    \r"
     ]
    },
    {
     "name": "stderr",
     "output_type": "stream",
     "text": [
      "\r",
      "539it [41:38,  1.72s/it]"
     ]
    },
    {
     "name": "stdout",
     "output_type": "stream",
     "text": [
      "\n",
      "  3,102,732.0 Bytes [100.00%] received. Rate: [20891 KB/s].  ETA: [0 secs]    \r"
     ]
    },
    {
     "name": "stderr",
     "output_type": "stream",
     "text": [
      "\r",
      "540it [41:40,  1.81s/it]"
     ]
    },
    {
     "name": "stdout",
     "output_type": "stream",
     "text": [
      "\n",
      "  3,695,815.0 Bytes [100.00%] received. Rate: [25617 KB/s].  ETA: [0 secs]    \r"
     ]
    },
    {
     "name": "stderr",
     "output_type": "stream",
     "text": [
      "\r",
      "541it [41:41,  1.80s/it]"
     ]
    },
    {
     "name": "stdout",
     "output_type": "stream",
     "text": [
      "\n",
      "  2,225,331.0 Bytes [100.00%] received. Rate: [7350 KB/s].  ETA: [0 secs]    \r"
     ]
    },
    {
     "name": "stderr",
     "output_type": "stream",
     "text": [
      "\r",
      "542it [41:43,  1.72s/it]"
     ]
    },
    {
     "name": "stdout",
     "output_type": "stream",
     "text": [
      "\n"
     ]
    },
    {
     "name": "stderr",
     "output_type": "stream",
     "text": [
      "ERROR: Video unavailable\n",
      "This video is no longer available because the YouTube account associated with this video has been terminated.\n",
      "543it [41:43,  1.37s/it]"
     ]
    },
    {
     "name": "stdout",
     "output_type": "stream",
     "text": [
      "  946,819.0 Bytes [100.00%] received. Rate: [2740 KB/s].  ETA: [0 secs]    \r"
     ]
    },
    {
     "name": "stderr",
     "output_type": "stream",
     "text": [
      "\r",
      "544it [41:45,  1.52s/it]"
     ]
    },
    {
     "name": "stdout",
     "output_type": "stream",
     "text": [
      "\n",
      "  955,157.0 Bytes [100.00%] received. Rate: [13342 KB/s].  ETA: [0 secs]    \r"
     ]
    },
    {
     "name": "stderr",
     "output_type": "stream",
     "text": [
      "\r",
      "545it [41:47,  1.64s/it]"
     ]
    },
    {
     "name": "stdout",
     "output_type": "stream",
     "text": [
      "\n",
      "  2,844,660.0 Bytes [100.00%] received. Rate: [3653 KB/s].  ETA: [0 secs]    \r"
     ]
    },
    {
     "name": "stderr",
     "output_type": "stream",
     "text": [
      "\r",
      "546it [41:50,  1.89s/it]"
     ]
    },
    {
     "name": "stdout",
     "output_type": "stream",
     "text": [
      "\n"
     ]
    },
    {
     "name": "stderr",
     "output_type": "stream",
     "text": [
      "ERROR: Private video\n",
      "Sign in if you've been granted access to this video\n",
      "547it [41:50,  1.44s/it]"
     ]
    },
    {
     "name": "stdout",
     "output_type": "stream",
     "text": [
      "  342,257.0 Bytes [100.00%] received. Rate: [2390 KB/s].  ETA: [0 secs]    \r"
     ]
    },
    {
     "name": "stderr",
     "output_type": "stream",
     "text": [
      "\r",
      "548it [41:52,  1.55s/it]"
     ]
    },
    {
     "name": "stdout",
     "output_type": "stream",
     "text": [
      "\n",
      "  19,805,354.0 Bytes [100.00%] received. Rate: [18543 KB/s].  ETA: [0 secs]    \r"
     ]
    },
    {
     "name": "stderr",
     "output_type": "stream",
     "text": [
      "\r",
      "549it [41:55,  1.89s/it]"
     ]
    },
    {
     "name": "stdout",
     "output_type": "stream",
     "text": [
      "\n",
      "  531,938.0 Bytes [100.00%] received. Rate: [5813 KB/s].  ETA: [0 secs]    \r"
     ]
    },
    {
     "name": "stderr",
     "output_type": "stream",
     "text": [
      "\r",
      "550it [41:56,  1.71s/it]"
     ]
    },
    {
     "name": "stdout",
     "output_type": "stream",
     "text": [
      "\n",
      "  1,803,797.0 Bytes [100.00%] received. Rate: [7875 KB/s].  ETA: [0 secs]    \r"
     ]
    },
    {
     "name": "stderr",
     "output_type": "stream",
     "text": [
      "\r",
      "551it [41:57,  1.68s/it]"
     ]
    },
    {
     "name": "stdout",
     "output_type": "stream",
     "text": [
      "\n",
      "  5,488,847.0 Bytes [100.00%] received. Rate: [19564 KB/s].  ETA: [0 secs]    \r"
     ]
    },
    {
     "name": "stderr",
     "output_type": "stream",
     "text": [
      "\r",
      "552it [41:59,  1.69s/it]"
     ]
    },
    {
     "name": "stdout",
     "output_type": "stream",
     "text": [
      "\n",
      "  2,690,390.0 Bytes [100.00%] received. Rate: [12216 KB/s].  ETA: [0 secs]    \r"
     ]
    },
    {
     "name": "stderr",
     "output_type": "stream",
     "text": [
      "\r",
      "553it [42:01,  1.78s/it]"
     ]
    },
    {
     "name": "stdout",
     "output_type": "stream",
     "text": [
      "\n"
     ]
    },
    {
     "name": "stderr",
     "output_type": "stream",
     "text": [
      "ERROR: Private video\n",
      "Sign in if you've been granted access to this video\n",
      "554it [42:02,  1.36s/it]"
     ]
    },
    {
     "name": "stdout",
     "output_type": "stream",
     "text": [
      "  9,390,691.0 Bytes [100.00%] received. Rate: [18364 KB/s].  ETA: [0 secs]    \r"
     ]
    },
    {
     "name": "stderr",
     "output_type": "stream",
     "text": [
      "\r",
      "555it [42:04,  1.59s/it]"
     ]
    },
    {
     "name": "stdout",
     "output_type": "stream",
     "text": [
      "\n",
      "  15,269,364.0 Bytes [100.00%] received. Rate: [30489 KB/s].  ETA: [0 secs]    \r"
     ]
    },
    {
     "name": "stderr",
     "output_type": "stream",
     "text": [
      "\r",
      "556it [42:06,  1.66s/it]"
     ]
    },
    {
     "name": "stdout",
     "output_type": "stream",
     "text": [
      "\n",
      "  1,101,738.0 Bytes [100.00%] received. Rate: [11991 KB/s].  ETA: [0 secs]    \r"
     ]
    },
    {
     "name": "stderr",
     "output_type": "stream",
     "text": [
      "\r",
      "557it [42:07,  1.48s/it]"
     ]
    },
    {
     "name": "stdout",
     "output_type": "stream",
     "text": [
      "\n",
      "  889,079.0 Bytes [100.00%] received. Rate: [5415 KB/s].  ETA: [0 secs]    \r"
     ]
    },
    {
     "name": "stderr",
     "output_type": "stream",
     "text": [
      "\r",
      "558it [42:08,  1.51s/it]"
     ]
    },
    {
     "name": "stdout",
     "output_type": "stream",
     "text": [
      "\n",
      "  2,090,969.0 Bytes [100.00%] received. Rate: [15091 KB/s].  ETA: [0 secs]    \r"
     ]
    },
    {
     "name": "stderr",
     "output_type": "stream",
     "text": [
      "\r",
      "559it [42:10,  1.49s/it]"
     ]
    },
    {
     "name": "stdout",
     "output_type": "stream",
     "text": [
      "\n",
      "  2,595,658.0 Bytes [100.00%] received. Rate: [18382 KB/s].  ETA: [0 secs]    \r"
     ]
    },
    {
     "name": "stderr",
     "output_type": "stream",
     "text": [
      "\r",
      "560it [42:11,  1.46s/it]"
     ]
    },
    {
     "name": "stdout",
     "output_type": "stream",
     "text": [
      "\n",
      "  2,014,181.0 Bytes [100.00%] received. Rate: [15563 KB/s].  ETA: [0 secs]    \r"
     ]
    },
    {
     "name": "stderr",
     "output_type": "stream",
     "text": [
      "\r",
      "561it [42:12,  1.38s/it]"
     ]
    },
    {
     "name": "stdout",
     "output_type": "stream",
     "text": [
      "\n",
      "  553,154.0 Bytes [100.00%] received. Rate: [1543 KB/s].  ETA: [0 secs]    \r"
     ]
    },
    {
     "name": "stderr",
     "output_type": "stream",
     "text": [
      "\r",
      "562it [42:14,  1.48s/it]"
     ]
    },
    {
     "name": "stdout",
     "output_type": "stream",
     "text": [
      "\n",
      "  12,951,099.0 Bytes [100.00%] received. Rate: [42042 KB/s].  ETA: [0 secs]    \r"
     ]
    },
    {
     "name": "stderr",
     "output_type": "stream",
     "text": [
      "\r",
      "563it [42:15,  1.46s/it]"
     ]
    },
    {
     "name": "stdout",
     "output_type": "stream",
     "text": [
      "\n",
      "  1,995,032.0 Bytes [100.00%] received. Rate: [15594 KB/s].  ETA: [0 secs]    \r"
     ]
    },
    {
     "name": "stderr",
     "output_type": "stream",
     "text": [
      "\r",
      "564it [42:17,  1.46s/it]"
     ]
    },
    {
     "name": "stdout",
     "output_type": "stream",
     "text": [
      "\n",
      "  2,457,384.0 Bytes [100.00%] received. Rate: [6036 KB/s].  ETA: [0 secs]    \r"
     ]
    },
    {
     "name": "stderr",
     "output_type": "stream",
     "text": [
      "\r",
      "565it [42:19,  1.61s/it]"
     ]
    },
    {
     "name": "stdout",
     "output_type": "stream",
     "text": [
      "\n",
      "  3,808,528.0 Bytes [100.00%] received. Rate: [17838 KB/s].  ETA: [0 secs]    \r"
     ]
    },
    {
     "name": "stderr",
     "output_type": "stream",
     "text": [
      "\r",
      "566it [42:21,  1.94s/it]"
     ]
    },
    {
     "name": "stdout",
     "output_type": "stream",
     "text": [
      "\n",
      "  4,030,915.0 Bytes [100.00%] received. Rate: [23945 KB/s].  ETA: [0 secs]    \r"
     ]
    },
    {
     "name": "stderr",
     "output_type": "stream",
     "text": [
      "\r",
      "567it [42:23,  1.88s/it]"
     ]
    },
    {
     "name": "stdout",
     "output_type": "stream",
     "text": [
      "\n",
      "  2,241,214.0 Bytes [100.00%] received. Rate: [10978 KB/s].  ETA: [0 secs]    \r"
     ]
    },
    {
     "name": "stderr",
     "output_type": "stream",
     "text": [
      "\r",
      "568it [42:25,  1.76s/it]"
     ]
    },
    {
     "name": "stdout",
     "output_type": "stream",
     "text": [
      "\n",
      "  6,174,231.0 Bytes [100.00%] received. Rate: [23532 KB/s].  ETA: [0 secs]    \r"
     ]
    },
    {
     "name": "stderr",
     "output_type": "stream",
     "text": [
      "\r",
      "569it [42:26,  1.62s/it]"
     ]
    },
    {
     "name": "stdout",
     "output_type": "stream",
     "text": [
      "\n",
      "  4,817,198.0 Bytes [100.00%] received. Rate: [21332 KB/s].  ETA: [0 secs]    \r"
     ]
    },
    {
     "name": "stderr",
     "output_type": "stream",
     "text": [
      "\r",
      "570it [42:27,  1.53s/it]"
     ]
    },
    {
     "name": "stdout",
     "output_type": "stream",
     "text": [
      "\n"
     ]
    },
    {
     "name": "stderr",
     "output_type": "stream",
     "text": [
      "ERROR: Video unavailable\n",
      "This video is no longer available because the YouTube account associated with this video has been terminated.\n",
      "571it [42:28,  1.21s/it]"
     ]
    },
    {
     "name": "stdout",
     "output_type": "stream",
     "text": [
      "  325,298.0 Bytes [100.00%] received. Rate: [2549 KB/s].  ETA: [0 secs]    \r"
     ]
    },
    {
     "name": "stderr",
     "output_type": "stream",
     "text": [
      "\r",
      "572it [42:29,  1.22s/it]"
     ]
    },
    {
     "name": "stdout",
     "output_type": "stream",
     "text": [
      "\n",
      "  5,031,828.0 Bytes [100.00%] received. Rate: [22971 KB/s].  ETA: [0 secs]    \r"
     ]
    },
    {
     "name": "stderr",
     "output_type": "stream",
     "text": [
      "\r",
      "573it [42:31,  1.37s/it]"
     ]
    },
    {
     "name": "stdout",
     "output_type": "stream",
     "text": [
      "\n",
      "  940,208.0 Bytes [100.00%] received. Rate: [8451 KB/s].  ETA: [0 secs]    \r"
     ]
    },
    {
     "name": "stderr",
     "output_type": "stream",
     "text": [
      "\r",
      "574it [42:33,  1.52s/it]"
     ]
    },
    {
     "name": "stdout",
     "output_type": "stream",
     "text": [
      "\n",
      "  10,849,820.0 Bytes [100.00%] received. Rate: [65852 KB/s].  ETA: [0 secs]    \r"
     ]
    },
    {
     "name": "stderr",
     "output_type": "stream",
     "text": [
      "\r",
      "575it [42:35,  1.79s/it]"
     ]
    },
    {
     "name": "stdout",
     "output_type": "stream",
     "text": [
      "\n"
     ]
    },
    {
     "name": "stderr",
     "output_type": "stream",
     "text": [
      "576it [42:36,  1.58s/it]ERROR: Video unavailable\n",
      "This video is no longer available because the YouTube account associated with this video has been terminated.\n",
      "577it [42:37,  1.26s/it]"
     ]
    },
    {
     "name": "stdout",
     "output_type": "stream",
     "text": [
      "  2,269,218.0 Bytes [100.00%] received. Rate: [12330 KB/s].  ETA: [0 secs]    \r"
     ]
    },
    {
     "name": "stderr",
     "output_type": "stream",
     "text": [
      "\r",
      "578it [42:38,  1.34s/it]"
     ]
    },
    {
     "name": "stdout",
     "output_type": "stream",
     "text": [
      "\n"
     ]
    },
    {
     "name": "stderr",
     "output_type": "stream",
     "text": [
      "ERROR: Private video\n",
      "Sign in if you've been granted access to this video\n",
      "579it [42:38,  1.04s/it]ERROR: Video unavailable\n",
      "580it [42:39,  1.12it/s]"
     ]
    },
    {
     "name": "stdout",
     "output_type": "stream",
     "text": [
      "  196,119.0 Bytes [100.00%] received. Rate: [1178 KB/s].  ETA: [0 secs]    \r"
     ]
    },
    {
     "name": "stderr",
     "output_type": "stream",
     "text": [
      "\r",
      "581it [42:40,  1.06it/s]"
     ]
    },
    {
     "name": "stdout",
     "output_type": "stream",
     "text": [
      "\n",
      "  11,605,426.0 Bytes [100.00%] received. Rate: [12875 KB/s].  ETA: [0 secs]    \r"
     ]
    },
    {
     "name": "stderr",
     "output_type": "stream",
     "text": [
      "\r",
      "582it [42:42,  1.30s/it]"
     ]
    },
    {
     "name": "stdout",
     "output_type": "stream",
     "text": [
      "\n",
      "  7,285,065.0 Bytes [100.00%] received. Rate: [21119 KB/s].  ETA: [0 secs]    \r"
     ]
    },
    {
     "name": "stderr",
     "output_type": "stream",
     "text": [
      "\r",
      "583it [42:44,  1.41s/it]"
     ]
    },
    {
     "name": "stdout",
     "output_type": "stream",
     "text": [
      "\n",
      "  10,759,320.0 Bytes [100.00%] received. Rate: [9405 KB/s].  ETA: [0 secs]    \r"
     ]
    },
    {
     "name": "stderr",
     "output_type": "stream",
     "text": [
      "\r",
      "584it [42:46,  1.63s/it]"
     ]
    },
    {
     "name": "stdout",
     "output_type": "stream",
     "text": [
      "\n",
      "  1,219,638.0 Bytes [100.00%] received. Rate: [7913 KB/s].  ETA: [0 secs]    \r"
     ]
    },
    {
     "name": "stderr",
     "output_type": "stream",
     "text": [
      "\r",
      "585it [42:48,  1.63s/it]"
     ]
    },
    {
     "name": "stdout",
     "output_type": "stream",
     "text": [
      "\n",
      "  27,900,993.0 Bytes [100.00%] received. Rate: [18003 KB/s].  ETA: [0 secs]    \r"
     ]
    },
    {
     "name": "stderr",
     "output_type": "stream",
     "text": [
      "\r",
      "586it [42:51,  2.22s/it]"
     ]
    },
    {
     "name": "stdout",
     "output_type": "stream",
     "text": [
      "\n"
     ]
    },
    {
     "name": "stderr",
     "output_type": "stream",
     "text": [
      "ERROR: Video unavailable\n",
      "587it [42:52,  1.71s/it]"
     ]
    },
    {
     "name": "stdout",
     "output_type": "stream",
     "text": [
      "  2,875,809.0 Bytes [100.00%] received. Rate: [21309 KB/s].  ETA: [0 secs]    \r"
     ]
    },
    {
     "name": "stderr",
     "output_type": "stream",
     "text": [
      "\r",
      "588it [42:53,  1.67s/it]"
     ]
    },
    {
     "name": "stdout",
     "output_type": "stream",
     "text": [
      "\n",
      "  2,425,199.0 Bytes [100.00%] received. Rate: [12568 KB/s].  ETA: [0 secs]    \r"
     ]
    },
    {
     "name": "stderr",
     "output_type": "stream",
     "text": [
      "\r",
      "589it [42:55,  1.68s/it]"
     ]
    },
    {
     "name": "stdout",
     "output_type": "stream",
     "text": [
      "\n",
      "  9,468,339.0 Bytes [100.00%] received. Rate: [19872 KB/s].  ETA: [0 secs]    \r"
     ]
    },
    {
     "name": "stderr",
     "output_type": "stream",
     "text": [
      "\r",
      "590it [42:57,  1.76s/it]"
     ]
    },
    {
     "name": "stdout",
     "output_type": "stream",
     "text": [
      "\n",
      "  49,439.0 Bytes [100.00%] received. Rate: [ 812 KB/s].  ETA: [0 secs]    \r"
     ]
    },
    {
     "name": "stderr",
     "output_type": "stream",
     "text": [
      "\r",
      "591it [42:58,  1.66s/it]"
     ]
    },
    {
     "name": "stdout",
     "output_type": "stream",
     "text": [
      "\n",
      "  393,583.0 Bytes [100.00%] received. Rate: [1406 KB/s].  ETA: [0 secs]    \r"
     ]
    },
    {
     "name": "stderr",
     "output_type": "stream",
     "text": [
      "\r",
      "592it [43:00,  1.52s/it]"
     ]
    },
    {
     "name": "stdout",
     "output_type": "stream",
     "text": [
      "\n",
      "  16,238,207.0 Bytes [100.00%] received. Rate: [24583 KB/s].  ETA: [0 secs]    \r"
     ]
    },
    {
     "name": "stderr",
     "output_type": "stream",
     "text": [
      "\r",
      "593it [43:02,  1.65s/it]"
     ]
    },
    {
     "name": "stdout",
     "output_type": "stream",
     "text": [
      "\n"
     ]
    },
    {
     "name": "stderr",
     "output_type": "stream",
     "text": [
      "\r",
      "594it [43:03,  1.46s/it]"
     ]
    },
    {
     "name": "stdout",
     "output_type": "stream",
     "text": [
      "  13,703,070.0 Bytes [100.00%] received. Rate: [  60 KB/s].  ETA: [0 secs]     \r"
     ]
    },
    {
     "name": "stderr",
     "output_type": "stream",
     "text": [
      "\r",
      "595it [46:49, 68.94s/it]"
     ]
    },
    {
     "name": "stdout",
     "output_type": "stream",
     "text": [
      "\n",
      "  2,126,985.0 Bytes [100.00%] received. Rate: [15294 KB/s].  ETA: [0 secs]    \r"
     ]
    },
    {
     "name": "stderr",
     "output_type": "stream",
     "text": [
      "\r",
      "596it [46:51, 48.78s/it]"
     ]
    },
    {
     "name": "stdout",
     "output_type": "stream",
     "text": [
      "\n",
      "  4,596,359.0 Bytes [100.00%] received. Rate: [19943 KB/s].  ETA: [0 secs]    \r"
     ]
    },
    {
     "name": "stderr",
     "output_type": "stream",
     "text": [
      "\r",
      "597it [46:52, 34.59s/it]"
     ]
    },
    {
     "name": "stdout",
     "output_type": "stream",
     "text": [
      "\n",
      "  8,018,948.0 Bytes [100.00%] received. Rate: [31437 KB/s].  ETA: [0 secs]    \r"
     ]
    },
    {
     "name": "stderr",
     "output_type": "stream",
     "text": [
      "\r",
      "598it [46:54, 24.77s/it]"
     ]
    },
    {
     "name": "stdout",
     "output_type": "stream",
     "text": [
      "\n"
     ]
    },
    {
     "name": "stderr",
     "output_type": "stream",
     "text": [
      "ERROR: Private video\n",
      "Sign in if you've been granted access to this video\n",
      "599it [46:55, 17.50s/it]"
     ]
    },
    {
     "name": "stdout",
     "output_type": "stream",
     "text": [
      "  3,629,608.0 Bytes [100.00%] received. Rate: [32662 KB/s].  ETA: [0 secs]    \r"
     ]
    },
    {
     "name": "stderr",
     "output_type": "stream",
     "text": [
      "\r",
      "600it [46:56, 12.70s/it]"
     ]
    },
    {
     "name": "stdout",
     "output_type": "stream",
     "text": [
      "\n",
      "  2,046,874.0 Bytes [100.00%] received. Rate: [15483 KB/s].  ETA: [0 secs]    \r"
     ]
    },
    {
     "name": "stderr",
     "output_type": "stream",
     "text": [
      "\r",
      "601it [46:58,  9.34s/it]"
     ]
    },
    {
     "name": "stdout",
     "output_type": "stream",
     "text": [
      "\n",
      "  123,871.0 Bytes [100.00%] received. Rate: [2093 KB/s].  ETA: [0 secs]    \r"
     ]
    },
    {
     "name": "stderr",
     "output_type": "stream",
     "text": [
      "\r",
      "602it [46:59,  6.86s/it]"
     ]
    },
    {
     "name": "stdout",
     "output_type": "stream",
     "text": [
      "\n",
      "  1,314,275.0 Bytes [100.00%] received. Rate: [7046 KB/s].  ETA: [0 secs]    \r"
     ]
    },
    {
     "name": "stderr",
     "output_type": "stream",
     "text": [
      "\r",
      "603it [47:00,  5.23s/it]"
     ]
    },
    {
     "name": "stdout",
     "output_type": "stream",
     "text": [
      "\n"
     ]
    },
    {
     "name": "stderr",
     "output_type": "stream",
     "text": [
      "ERROR: Video unavailable\n",
      "604it [47:00,  3.77s/it]"
     ]
    },
    {
     "name": "stdout",
     "output_type": "stream",
     "text": [
      "  1,719,438.0 Bytes [100.00%] received. Rate: [9494 KB/s].  ETA: [0 secs]    \r"
     ]
    },
    {
     "name": "stderr",
     "output_type": "stream",
     "text": [
      "\r",
      "605it [47:02,  3.11s/it]"
     ]
    },
    {
     "name": "stdout",
     "output_type": "stream",
     "text": [
      "\n",
      "  5,855,748.0 Bytes [100.00%] received. Rate: [18587 KB/s].  ETA: [0 secs]    \r"
     ]
    },
    {
     "name": "stderr",
     "output_type": "stream",
     "text": [
      "\r",
      "606it [47:04,  2.79s/it]"
     ]
    },
    {
     "name": "stdout",
     "output_type": "stream",
     "text": [
      "\n",
      "  11,290,410.0 Bytes [100.00%] received. Rate: [43557 KB/s].  ETA: [0 secs]    \r"
     ]
    },
    {
     "name": "stderr",
     "output_type": "stream",
     "text": [
      "\r",
      "607it [47:06,  2.56s/it]"
     ]
    },
    {
     "name": "stdout",
     "output_type": "stream",
     "text": [
      "\n",
      "  3,193,895.0 Bytes [100.00%] received. Rate: [16458 KB/s].  ETA: [0 secs]    \r"
     ]
    },
    {
     "name": "stderr",
     "output_type": "stream",
     "text": [
      "\r",
      "608it [47:07,  2.14s/it]"
     ]
    },
    {
     "name": "stdout",
     "output_type": "stream",
     "text": [
      "\n",
      "  10,447,527.0 Bytes [100.00%] received. Rate: [22927 KB/s].  ETA: [0 secs]    \n"
     ]
    },
    {
     "name": "stderr",
     "output_type": "stream",
     "text": [
      "\r",
      "609it [47:09,  2.03s/it]"
     ]
    },
    {
     "name": "stdout",
     "output_type": "stream",
     "text": [
      "  1,078,901.0 Bytes [100.00%] received. Rate: [6286 KB/s].  ETA: [0 secs]    \r"
     ]
    },
    {
     "name": "stderr",
     "output_type": "stream",
     "text": [
      "\r",
      "610it [47:11,  1.93s/it]"
     ]
    },
    {
     "name": "stdout",
     "output_type": "stream",
     "text": [
      "\n",
      "  750,461.0 Bytes [100.00%] received. Rate: [5467 KB/s].  ETA: [0 secs]    \n"
     ]
    },
    {
     "name": "stderr",
     "output_type": "stream",
     "text": [
      "\r",
      "611it [47:12,  1.70s/it]"
     ]
    },
    {
     "name": "stdout",
     "output_type": "stream",
     "text": [
      "  7,721,996.0 Bytes [100.00%] received. Rate: [46047 KB/s].  ETA: [0 secs]    \r"
     ]
    },
    {
     "name": "stderr",
     "output_type": "stream",
     "text": [
      "\r",
      "612it [47:13,  1.58s/it]"
     ]
    },
    {
     "name": "stdout",
     "output_type": "stream",
     "text": [
      "\n"
     ]
    },
    {
     "name": "stderr",
     "output_type": "stream",
     "text": [
      "ERROR: Private video\n",
      "Sign in if you've been granted access to this video\n",
      "613it [47:14,  1.21s/it]"
     ]
    },
    {
     "name": "stdout",
     "output_type": "stream",
     "text": [
      "  465,649.0 Bytes [100.00%] received. Rate: [6742 KB/s].  ETA: [0 secs]    \r"
     ]
    },
    {
     "name": "stderr",
     "output_type": "stream",
     "text": [
      "\r",
      "614it [47:15,  1.15s/it]"
     ]
    },
    {
     "name": "stdout",
     "output_type": "stream",
     "text": [
      "\n",
      "  2,826,807.0 Bytes [100.00%] received. Rate: [29681 KB/s].  ETA: [0 secs]    \r"
     ]
    },
    {
     "name": "stderr",
     "output_type": "stream",
     "text": [
      "\r",
      "615it [47:16,  1.15s/it]"
     ]
    },
    {
     "name": "stdout",
     "output_type": "stream",
     "text": [
      "\n",
      "  11,972,576.0 Bytes [100.00%] received. Rate: [16147 KB/s].  ETA: [0 secs]    \r"
     ]
    },
    {
     "name": "stderr",
     "output_type": "stream",
     "text": [
      "\r",
      "616it [47:18,  1.42s/it]"
     ]
    },
    {
     "name": "stdout",
     "output_type": "stream",
     "text": [
      "\n",
      "  1,628,030.0 Bytes [100.00%] received. Rate: [15660 KB/s].  ETA: [0 secs]    \r"
     ]
    },
    {
     "name": "stderr",
     "output_type": "stream",
     "text": [
      "\r",
      "617it [47:19,  1.43s/it]"
     ]
    },
    {
     "name": "stdout",
     "output_type": "stream",
     "text": [
      "\n",
      "  6,344,372.0 Bytes [100.00%] received. Rate: [19252 KB/s].  ETA: [0 secs]    \r"
     ]
    },
    {
     "name": "stderr",
     "output_type": "stream",
     "text": [
      "\r",
      "618it [47:21,  1.43s/it]"
     ]
    },
    {
     "name": "stdout",
     "output_type": "stream",
     "text": [
      "\n",
      "  1,194,416.0 Bytes [100.00%] received. Rate: [11216 KB/s].  ETA: [0 secs]    \r"
     ]
    },
    {
     "name": "stderr",
     "output_type": "stream",
     "text": [
      "\r",
      "619it [47:22,  1.34s/it]"
     ]
    },
    {
     "name": "stdout",
     "output_type": "stream",
     "text": [
      "\n",
      "  9,512,801.0 Bytes [100.00%] received. Rate: [30482 KB/s].  ETA: [0 secs]    \r"
     ]
    },
    {
     "name": "stderr",
     "output_type": "stream",
     "text": [
      "\r",
      "620it [47:23,  1.38s/it]"
     ]
    },
    {
     "name": "stdout",
     "output_type": "stream",
     "text": [
      "\n",
      "  4,034,815.0 Bytes [100.00%] received. Rate: [14033 KB/s].  ETA: [0 secs]    \r"
     ]
    },
    {
     "name": "stderr",
     "output_type": "stream",
     "text": [
      "\r",
      "621it [47:25,  1.49s/it]"
     ]
    },
    {
     "name": "stdout",
     "output_type": "stream",
     "text": [
      "\n",
      "  256,968.0 Bytes [100.00%] received. Rate: [4110 KB/s].  ETA: [0 secs]    \r"
     ]
    },
    {
     "name": "stderr",
     "output_type": "stream",
     "text": [
      "\r",
      "622it [47:27,  1.55s/it]"
     ]
    },
    {
     "name": "stdout",
     "output_type": "stream",
     "text": [
      "\n",
      "  454,547.0 Bytes [100.00%] received. Rate: [3175 KB/s].  ETA: [0 secs]    \r"
     ]
    },
    {
     "name": "stderr",
     "output_type": "stream",
     "text": [
      "\r",
      "623it [47:28,  1.54s/it]"
     ]
    },
    {
     "name": "stdout",
     "output_type": "stream",
     "text": [
      "\n",
      "  716,546.0 Bytes [100.00%] received. Rate: [10268 KB/s].  ETA: [0 secs]    \r"
     ]
    },
    {
     "name": "stderr",
     "output_type": "stream",
     "text": [
      "\r",
      "624it [47:30,  1.64s/it]"
     ]
    },
    {
     "name": "stdout",
     "output_type": "stream",
     "text": [
      "\n"
     ]
    },
    {
     "name": "stderr",
     "output_type": "stream",
     "text": [
      "ERROR: Private video\n",
      "Sign in if you've been granted access to this video\n",
      "626it [47:32,  1.23s/it]"
     ]
    },
    {
     "name": "stdout",
     "output_type": "stream",
     "text": [
      "  417,440.0 Bytes [100.00%] received. Rate: [4614 KB/s].  ETA: [0 secs]    \r"
     ]
    },
    {
     "name": "stderr",
     "output_type": "stream",
     "text": [
      "\r",
      "627it [47:33,  1.25s/it]"
     ]
    },
    {
     "name": "stdout",
     "output_type": "stream",
     "text": [
      "\n",
      "  338,239.0 Bytes [100.00%] received. Rate: [2043 KB/s].  ETA: [0 secs]    \r"
     ]
    },
    {
     "name": "stderr",
     "output_type": "stream",
     "text": [
      "\r",
      "628it [47:35,  1.47s/it]"
     ]
    },
    {
     "name": "stdout",
     "output_type": "stream",
     "text": [
      "\n"
     ]
    },
    {
     "name": "stderr",
     "output_type": "stream",
     "text": [
      "ERROR: Private video\n",
      "Sign in if you've been granted access to this video\n",
      "629it [47:35,  1.14s/it]"
     ]
    },
    {
     "name": "stdout",
     "output_type": "stream",
     "text": [
      "  129,778.0 Bytes [100.00%] received. Rate: [ 196 KB/s].  ETA: [0 secs]    \r"
     ]
    },
    {
     "name": "stderr",
     "output_type": "stream",
     "text": [
      "\r",
      "630it [47:37,  1.35s/it]"
     ]
    },
    {
     "name": "stdout",
     "output_type": "stream",
     "text": [
      "\n",
      "  2,169,085.0 Bytes [100.00%] received. Rate: [6034 KB/s].  ETA: [0 secs]    \r"
     ]
    },
    {
     "name": "stderr",
     "output_type": "stream",
     "text": [
      "\r",
      "631it [47:39,  1.60s/it]"
     ]
    },
    {
     "name": "stdout",
     "output_type": "stream",
     "text": [
      "\n",
      "  9,855,504.0 Bytes [100.00%] received. Rate: [19669 KB/s].  ETA: [0 secs]    \r"
     ]
    },
    {
     "name": "stderr",
     "output_type": "stream",
     "text": [
      "\r",
      "632it [47:41,  1.58s/it]"
     ]
    },
    {
     "name": "stdout",
     "output_type": "stream",
     "text": [
      "\n",
      "  5,300,735.0 Bytes [100.00%] received. Rate: [10063 KB/s].  ETA: [0 secs]    \r"
     ]
    },
    {
     "name": "stderr",
     "output_type": "stream",
     "text": [
      "\r",
      "633it [47:43,  1.70s/it]"
     ]
    },
    {
     "name": "stdout",
     "output_type": "stream",
     "text": [
      "\n",
      "  6,681,166.0 Bytes [100.00%] received. Rate: [20145 KB/s].  ETA: [0 secs]    \r"
     ]
    },
    {
     "name": "stderr",
     "output_type": "stream",
     "text": [
      "\r",
      "634it [47:44,  1.68s/it]"
     ]
    },
    {
     "name": "stdout",
     "output_type": "stream",
     "text": [
      "\n",
      "  1,672,534.0 Bytes [100.00%] received. Rate: [13705 KB/s].  ETA: [0 secs]    \r"
     ]
    },
    {
     "name": "stderr",
     "output_type": "stream",
     "text": [
      "\r",
      "635it [47:46,  1.56s/it]"
     ]
    },
    {
     "name": "stdout",
     "output_type": "stream",
     "text": [
      "\n",
      "  5,082,328.0 Bytes [100.00%] received. Rate: [20073 KB/s].  ETA: [0 secs]    \r"
     ]
    },
    {
     "name": "stderr",
     "output_type": "stream",
     "text": [
      "\r",
      "636it [47:48,  1.68s/it]"
     ]
    },
    {
     "name": "stdout",
     "output_type": "stream",
     "text": [
      "\n"
     ]
    },
    {
     "name": "stderr",
     "output_type": "stream",
     "text": [
      "ERROR: Private video\n",
      "Sign in if you've been granted access to this video\n",
      "637it [47:48,  1.33s/it]"
     ]
    },
    {
     "name": "stdout",
     "output_type": "stream",
     "text": [
      "  2,950,906.0 Bytes [100.00%] received. Rate: [  77 KB/s].  ETA: [0 secs]    \r"
     ]
    },
    {
     "name": "stderr",
     "output_type": "stream",
     "text": [
      "\r",
      "638it [48:27, 12.54s/it]"
     ]
    },
    {
     "name": "stdout",
     "output_type": "stream",
     "text": [
      "\n",
      "  1,003,136.0 Bytes [100.00%] received. Rate: [5578 KB/s].  ETA: [0 secs]    \r"
     ]
    },
    {
     "name": "stderr",
     "output_type": "stream",
     "text": [
      "\r",
      "639it [48:28,  9.19s/it]"
     ]
    },
    {
     "name": "stdout",
     "output_type": "stream",
     "text": [
      "\n",
      "  2,323,147.0 Bytes [100.00%] received. Rate: [12341 KB/s].  ETA: [0 secs]    \r"
     ]
    },
    {
     "name": "stderr",
     "output_type": "stream",
     "text": [
      "\r",
      "640it [48:30,  6.85s/it]"
     ]
    },
    {
     "name": "stdout",
     "output_type": "stream",
     "text": [
      "\n"
     ]
    },
    {
     "name": "stderr",
     "output_type": "stream",
     "text": [
      "641it [48:31,  5.11s/it]ERROR: Video unavailable\n",
      "This video is no longer available because the YouTube account associated with this video has been terminated.\n",
      "642it [48:31,  3.71s/it]"
     ]
    },
    {
     "name": "stdout",
     "output_type": "stream",
     "text": [
      "  447,220.0 Bytes [100.00%] received. Rate: [3187 KB/s].  ETA: [0 secs]    \r"
     ]
    },
    {
     "name": "stderr",
     "output_type": "stream",
     "text": [
      "\r",
      "643it [48:32,  3.00s/it]"
     ]
    },
    {
     "name": "stdout",
     "output_type": "stream",
     "text": [
      "\n",
      "  244,237.0 Bytes [100.00%] received. Rate: [1368 KB/s].  ETA: [0 secs]    \r"
     ]
    },
    {
     "name": "stderr",
     "output_type": "stream",
     "text": [
      "\r",
      "644it [48:34,  2.64s/it]"
     ]
    },
    {
     "name": "stdout",
     "output_type": "stream",
     "text": [
      "\n",
      "  1,198,871.0 Bytes [100.00%] received. Rate: [7327 KB/s].  ETA: [0 secs]    \r"
     ]
    },
    {
     "name": "stderr",
     "output_type": "stream",
     "text": [
      "\r",
      "645it [48:35,  2.20s/it]"
     ]
    },
    {
     "name": "stdout",
     "output_type": "stream",
     "text": [
      "\n",
      "  14,383,636.0 Bytes [100.00%] received. Rate: [25788 KB/s].  ETA: [0 secs]    \r"
     ]
    },
    {
     "name": "stderr",
     "output_type": "stream",
     "text": [
      "\r",
      "646it [48:37,  2.07s/it]"
     ]
    },
    {
     "name": "stdout",
     "output_type": "stream",
     "text": [
      "\n",
      "  9,145,660.0 Bytes [100.00%] received. Rate: [20034 KB/s].  ETA: [0 secs]    \r"
     ]
    },
    {
     "name": "stderr",
     "output_type": "stream",
     "text": [
      "\r",
      "647it [48:39,  2.02s/it]"
     ]
    },
    {
     "name": "stdout",
     "output_type": "stream",
     "text": [
      "\n"
     ]
    },
    {
     "name": "stderr",
     "output_type": "stream",
     "text": [
      "ERROR: Video unavailable\n",
      "648it [48:40,  1.56s/it]"
     ]
    },
    {
     "name": "stdout",
     "output_type": "stream",
     "text": [
      "  5,315,800.0 Bytes [100.00%] received. Rate: [21827 KB/s].  ETA: [0 secs]    \r"
     ]
    },
    {
     "name": "stderr",
     "output_type": "stream",
     "text": [
      "\r",
      "649it [48:41,  1.63s/it]"
     ]
    },
    {
     "name": "stdout",
     "output_type": "stream",
     "text": [
      "\n"
     ]
    },
    {
     "name": "stderr",
     "output_type": "stream",
     "text": [
      "ERROR: Video unavailable\n",
      "This video is no longer available because the YouTube account associated with this video has been terminated.\n",
      "650it [48:42,  1.27s/it]"
     ]
    },
    {
     "name": "stdout",
     "output_type": "stream",
     "text": [
      "  2,462,650.0 Bytes [100.00%] received. Rate: [12974 KB/s].  ETA: [0 secs]    \r"
     ]
    },
    {
     "name": "stderr",
     "output_type": "stream",
     "text": [
      "\r",
      "651it [48:43,  1.40s/it]"
     ]
    },
    {
     "name": "stdout",
     "output_type": "stream",
     "text": [
      "\n",
      "  2,333,188.0 Bytes [100.00%] received. Rate: [16959 KB/s].  ETA: [0 secs]    \r"
     ]
    },
    {
     "name": "stderr",
     "output_type": "stream",
     "text": [
      "\r",
      "652it [48:45,  1.42s/it]"
     ]
    },
    {
     "name": "stdout",
     "output_type": "stream",
     "text": [
      "\n",
      "  11,210,687.0 Bytes [100.00%] received. Rate: [36433 KB/s].  ETA: [0 secs]    \r"
     ]
    },
    {
     "name": "stderr",
     "output_type": "stream",
     "text": [
      "\r",
      "653it [48:46,  1.40s/it]"
     ]
    },
    {
     "name": "stdout",
     "output_type": "stream",
     "text": [
      "\n",
      "  2,140,715.0 Bytes [100.00%] received. Rate: [11696 KB/s].  ETA: [0 secs]    \r"
     ]
    },
    {
     "name": "stderr",
     "output_type": "stream",
     "text": [
      "\r",
      "654it [48:48,  1.35s/it]"
     ]
    },
    {
     "name": "stdout",
     "output_type": "stream",
     "text": [
      "\n"
     ]
    },
    {
     "name": "stderr",
     "output_type": "stream",
     "text": [
      "ERROR: Video unavailable\n",
      "655it [48:48,  1.08s/it]"
     ]
    },
    {
     "name": "stdout",
     "output_type": "stream",
     "text": [
      "  2,969,792.0 Bytes [100.00%] received. Rate: [13124 KB/s].  ETA: [0 secs]    \r"
     ]
    },
    {
     "name": "stderr",
     "output_type": "stream",
     "text": [
      "\r",
      "656it [48:50,  1.27s/it]"
     ]
    },
    {
     "name": "stdout",
     "output_type": "stream",
     "text": [
      "\n",
      "  8,793,662.0 Bytes [100.00%] received. Rate: [19034 KB/s].  ETA: [0 secs]    \r"
     ]
    },
    {
     "name": "stderr",
     "output_type": "stream",
     "text": [
      "\r",
      "657it [48:52,  1.48s/it]"
     ]
    },
    {
     "name": "stdout",
     "output_type": "stream",
     "text": [
      "\n"
     ]
    },
    {
     "name": "stderr",
     "output_type": "stream",
     "text": [
      "ERROR: Sign in to confirm your age\n",
      "This video may be inappropriate for some users.\n",
      "658it [48:53,  1.30s/it]"
     ]
    },
    {
     "name": "stdout",
     "output_type": "stream",
     "text": [
      "  4,966,057.0 Bytes [100.00%] received. Rate: [20299 KB/s].  ETA: [0 secs]    \r"
     ]
    },
    {
     "name": "stderr",
     "output_type": "stream",
     "text": [
      "\r",
      "659it [48:54,  1.34s/it]"
     ]
    },
    {
     "name": "stdout",
     "output_type": "stream",
     "text": [
      "\n",
      "  5,926,616.0 Bytes [100.00%] received. Rate: [26444 KB/s].  ETA: [0 secs]    \r"
     ]
    },
    {
     "name": "stderr",
     "output_type": "stream",
     "text": [
      "\r",
      "660it [48:56,  1.46s/it]"
     ]
    },
    {
     "name": "stdout",
     "output_type": "stream",
     "text": [
      "\n",
      "  1,503,933.0 Bytes [100.00%] received. Rate: [9102 KB/s].  ETA: [0 secs]    \n"
     ]
    },
    {
     "name": "stderr",
     "output_type": "stream",
     "text": [
      "\r",
      "661it [48:57,  1.41s/it]"
     ]
    },
    {
     "name": "stdout",
     "output_type": "stream",
     "text": [
      "  6,792,411.0 Bytes [100.00%] received. Rate: [30631 KB/s].  ETA: [0 secs]    \r"
     ]
    },
    {
     "name": "stderr",
     "output_type": "stream",
     "text": [
      "\r",
      "662it [48:58,  1.41s/it]"
     ]
    },
    {
     "name": "stdout",
     "output_type": "stream",
     "text": [
      "\n",
      "  380,903.0 Bytes [100.00%] received. Rate: [5154 KB/s].  ETA: [0 secs]    \r"
     ]
    },
    {
     "name": "stderr",
     "output_type": "stream",
     "text": [
      "\r",
      "663it [49:00,  1.48s/it]"
     ]
    },
    {
     "name": "stdout",
     "output_type": "stream",
     "text": [
      "\n",
      "  4,152,035.0 Bytes [100.00%] received. Rate: [40888 KB/s].  ETA: [0 secs]    \r"
     ]
    },
    {
     "name": "stderr",
     "output_type": "stream",
     "text": [
      "\r",
      "664it [49:02,  1.57s/it]"
     ]
    },
    {
     "name": "stdout",
     "output_type": "stream",
     "text": [
      "\n",
      "  757,762.0 Bytes [100.00%] received. Rate: [5029 KB/s].  ETA: [0 secs]    \r"
     ]
    },
    {
     "name": "stderr",
     "output_type": "stream",
     "text": [
      "\r",
      "665it [49:03,  1.53s/it]"
     ]
    },
    {
     "name": "stdout",
     "output_type": "stream",
     "text": [
      "\n",
      "  3,494,794.0 Bytes [100.00%] received. Rate: [18037 KB/s].  ETA: [0 secs]    \r"
     ]
    },
    {
     "name": "stderr",
     "output_type": "stream",
     "text": [
      "\r",
      "666it [49:05,  1.58s/it]"
     ]
    },
    {
     "name": "stdout",
     "output_type": "stream",
     "text": [
      "\n",
      "  1,732,903.0 Bytes [100.00%] received. Rate: [10625 KB/s].  ETA: [0 secs]    \r"
     ]
    },
    {
     "name": "stderr",
     "output_type": "stream",
     "text": [
      "\r",
      "667it [49:06,  1.49s/it]"
     ]
    },
    {
     "name": "stdout",
     "output_type": "stream",
     "text": [
      "\n"
     ]
    },
    {
     "name": "stderr",
     "output_type": "stream",
     "text": [
      "ERROR: No video formats found; please report this issue on https://yt-dl.org/bug . Make sure you are using the latest version; see  https://yt-dl.org/update  on how to update. Be sure to call youtube-dl with the --verbose flag and include its complete output.\n",
      "668it [49:07,  1.16s/it]ERROR: Video unavailable\n",
      "This video is no longer available due to a copyright claim by Частный экзотариум.\n",
      "669it [49:07,  1.07it/s]"
     ]
    },
    {
     "name": "stdout",
     "output_type": "stream",
     "text": [
      "  2,151,384.0 Bytes [100.00%] received. Rate: [  62 KB/s].  ETA: [0 secs]    \r"
     ]
    },
    {
     "name": "stderr",
     "output_type": "stream",
     "text": [
      "\r",
      "670it [49:42, 11.15s/it]"
     ]
    },
    {
     "name": "stdout",
     "output_type": "stream",
     "text": [
      "\n",
      "  8,606,918.0 Bytes [100.00%] received. Rate: [30054 KB/s].  ETA: [0 secs]    \r"
     ]
    },
    {
     "name": "stderr",
     "output_type": "stream",
     "text": [
      "\r",
      "671it [49:44,  8.28s/it]"
     ]
    },
    {
     "name": "stdout",
     "output_type": "stream",
     "text": [
      "\n",
      "  1,925,613.0 Bytes [100.00%] received. Rate: [9686 KB/s].  ETA: [0 secs]    \r"
     ]
    },
    {
     "name": "stderr",
     "output_type": "stream",
     "text": [
      "\r",
      "672it [49:45,  6.21s/it]"
     ]
    },
    {
     "name": "stdout",
     "output_type": "stream",
     "text": [
      "\n",
      "  5,297,842.0 Bytes [100.00%] received. Rate: [20364 KB/s].  ETA: [0 secs]    \r"
     ]
    },
    {
     "name": "stderr",
     "output_type": "stream",
     "text": [
      "\r",
      "673it [49:47,  4.85s/it]"
     ]
    },
    {
     "name": "stdout",
     "output_type": "stream",
     "text": [
      "\n",
      "  1,037,926.0 Bytes [100.00%] received. Rate: [2428 KB/s].  ETA: [0 secs]    \r"
     ]
    },
    {
     "name": "stderr",
     "output_type": "stream",
     "text": [
      "\r",
      "674it [49:48,  3.91s/it]"
     ]
    },
    {
     "name": "stdout",
     "output_type": "stream",
     "text": [
      "\n",
      "  1,612,583.0 Bytes [100.00%] received. Rate: [8970 KB/s].  ETA: [0 secs]    \r"
     ]
    },
    {
     "name": "stderr",
     "output_type": "stream",
     "text": [
      "\r",
      "675it [49:50,  3.15s/it]"
     ]
    },
    {
     "name": "stdout",
     "output_type": "stream",
     "text": [
      "\n",
      "  1,374,734.0 Bytes [100.00%] received. Rate: [12902 KB/s].  ETA: [0 secs]    \r"
     ]
    },
    {
     "name": "stderr",
     "output_type": "stream",
     "text": [
      "\r",
      "676it [49:51,  2.63s/it]"
     ]
    },
    {
     "name": "stdout",
     "output_type": "stream",
     "text": [
      "\n"
     ]
    },
    {
     "name": "stderr",
     "output_type": "stream",
     "text": [
      "ERROR: Private video\n",
      "Sign in if you've been granted access to this video\n",
      "677it [49:52,  2.02s/it]"
     ]
    },
    {
     "name": "stdout",
     "output_type": "stream",
     "text": [
      "  5,273,269.0 Bytes [100.00%] received. Rate: [20160 KB/s].  ETA: [0 secs]    \r"
     ]
    },
    {
     "name": "stderr",
     "output_type": "stream",
     "text": [
      "\r",
      "678it [49:53,  1.81s/it]"
     ]
    },
    {
     "name": "stdout",
     "output_type": "stream",
     "text": [
      "\n",
      "  10,637,884.0 Bytes [100.00%] received. Rate: [3117 KB/s].  ETA: [0 secs]    \r"
     ]
    },
    {
     "name": "stderr",
     "output_type": "stream",
     "text": [
      "\r",
      "679it [49:56,  1.99s/it]"
     ]
    },
    {
     "name": "stdout",
     "output_type": "stream",
     "text": [
      "\n",
      "  1,870,360.0 Bytes [100.00%] received. Rate: [23430 KB/s].  ETA: [0 secs]    \r"
     ]
    },
    {
     "name": "stderr",
     "output_type": "stream",
     "text": [
      "\r",
      "680it [49:57,  1.86s/it]"
     ]
    },
    {
     "name": "stdout",
     "output_type": "stream",
     "text": [
      "\n",
      "  25,441,359.0 Bytes [100.00%] received. Rate: [19695 KB/s].  ETA: [0 secs]    \r"
     ]
    },
    {
     "name": "stderr",
     "output_type": "stream",
     "text": [
      "\r",
      "681it [50:00,  2.25s/it]"
     ]
    },
    {
     "name": "stdout",
     "output_type": "stream",
     "text": [
      "\n",
      "  6,443,581.0 Bytes [100.00%] received. Rate: [33932 KB/s].  ETA: [0 secs]    \r"
     ]
    },
    {
     "name": "stderr",
     "output_type": "stream",
     "text": [
      "\r",
      "682it [50:02,  2.14s/it]"
     ]
    },
    {
     "name": "stdout",
     "output_type": "stream",
     "text": [
      "\n",
      "  3,024,353.0 Bytes [100.00%] received. Rate: [21251 KB/s].  ETA: [0 secs]    \r"
     ]
    },
    {
     "name": "stderr",
     "output_type": "stream",
     "text": [
      "\r",
      "683it [50:04,  2.03s/it]"
     ]
    },
    {
     "name": "stdout",
     "output_type": "stream",
     "text": [
      "\n",
      "  2,772,873.0 Bytes [100.00%] received. Rate: [23230 KB/s].  ETA: [0 secs]    \r"
     ]
    },
    {
     "name": "stderr",
     "output_type": "stream",
     "text": [
      "\r",
      "684it [50:05,  1.85s/it]"
     ]
    },
    {
     "name": "stdout",
     "output_type": "stream",
     "text": [
      "\n",
      "  31,205,106.0 Bytes [100.00%] received. Rate: [7429 KB/s].  ETA: [0 secs]    \r"
     ]
    },
    {
     "name": "stderr",
     "output_type": "stream",
     "text": [
      "\r",
      "685it [50:10,  2.66s/it]"
     ]
    },
    {
     "name": "stdout",
     "output_type": "stream",
     "text": [
      "\n"
     ]
    },
    {
     "name": "stderr",
     "output_type": "stream",
     "text": [
      "\r",
      "686it [50:11,  2.12s/it]"
     ]
    },
    {
     "name": "stdout",
     "output_type": "stream",
     "text": [
      "  8,312,398.0 Bytes [100.00%] received. Rate: [18638 KB/s].  ETA: [0 secs]    \r"
     ]
    },
    {
     "name": "stderr",
     "output_type": "stream",
     "text": [
      "\r",
      "687it [50:13,  2.09s/it]"
     ]
    },
    {
     "name": "stdout",
     "output_type": "stream",
     "text": [
      "\n",
      "  917,972.0 Bytes [100.00%] received. Rate: [2613 KB/s].  ETA: [0 secs]    \r"
     ]
    },
    {
     "name": "stderr",
     "output_type": "stream",
     "text": [
      "\r",
      "688it [50:14,  1.89s/it]"
     ]
    },
    {
     "name": "stdout",
     "output_type": "stream",
     "text": [
      "\n",
      "  1,946,474.0 Bytes [100.00%] received. Rate: [15652 KB/s].  ETA: [0 secs]    \r"
     ]
    },
    {
     "name": "stderr",
     "output_type": "stream",
     "text": [
      "\r",
      "689it [50:16,  1.73s/it]"
     ]
    },
    {
     "name": "stdout",
     "output_type": "stream",
     "text": [
      "\n",
      "  9,181,881.0 Bytes [100.00%] received. Rate: [15378 KB/s].  ETA: [0 secs]    \r"
     ]
    },
    {
     "name": "stderr",
     "output_type": "stream",
     "text": [
      "\r",
      "690it [50:17,  1.71s/it]"
     ]
    },
    {
     "name": "stdout",
     "output_type": "stream",
     "text": [
      "\n",
      "  2,277,573.0 Bytes [100.00%] received. Rate: [10060 KB/s].  ETA: [0 secs]    \r"
     ]
    },
    {
     "name": "stderr",
     "output_type": "stream",
     "text": [
      "\r",
      "691it [50:19,  1.66s/it]"
     ]
    },
    {
     "name": "stdout",
     "output_type": "stream",
     "text": [
      "\n"
     ]
    },
    {
     "name": "stderr",
     "output_type": "stream",
     "text": [
      "ERROR: Video unavailable\n",
      "692it [50:19,  1.27s/it]"
     ]
    },
    {
     "name": "stdout",
     "output_type": "stream",
     "text": [
      "  1,316,865.0 Bytes [100.00%] received. Rate: [15588 KB/s].  ETA: [0 secs]    \r"
     ]
    },
    {
     "name": "stderr",
     "output_type": "stream",
     "text": [
      "\r",
      "693it [50:21,  1.32s/it]"
     ]
    },
    {
     "name": "stdout",
     "output_type": "stream",
     "text": [
      "\n"
     ]
    },
    {
     "name": "stderr",
     "output_type": "stream",
     "text": [
      "ERROR: Private video\n",
      "Sign in if you've been granted access to this video\n",
      "694it [50:21,  1.06s/it]"
     ]
    },
    {
     "name": "stdout",
     "output_type": "stream",
     "text": [
      "  1,025,154.0 Bytes [100.00%] received. Rate: [9201 KB/s].  ETA: [0 secs]    \r"
     ]
    },
    {
     "name": "stderr",
     "output_type": "stream",
     "text": [
      "\r",
      "695it [50:23,  1.21s/it]"
     ]
    },
    {
     "name": "stdout",
     "output_type": "stream",
     "text": [
      "\n",
      "  980,563.0 Bytes [100.00%] received. Rate: [13704 KB/s].  ETA: [0 secs]    \r"
     ]
    },
    {
     "name": "stderr",
     "output_type": "stream",
     "text": [
      "\r",
      "696it [50:24,  1.30s/it]"
     ]
    },
    {
     "name": "stdout",
     "output_type": "stream",
     "text": [
      "\n",
      "  2,758,795.0 Bytes [100.00%] received. Rate: [33615 KB/s].  ETA: [0 secs]    \r"
     ]
    },
    {
     "name": "stderr",
     "output_type": "stream",
     "text": [
      "\r",
      "697it [50:26,  1.44s/it]"
     ]
    },
    {
     "name": "stdout",
     "output_type": "stream",
     "text": [
      "\n"
     ]
    },
    {
     "name": "stderr",
     "output_type": "stream",
     "text": [
      "ERROR: Video unavailable\n",
      "698it [50:26,  1.17s/it]"
     ]
    },
    {
     "name": "stdout",
     "output_type": "stream",
     "text": [
      "  6,908,447.0 Bytes [100.00%] received. Rate: [20612 KB/s].  ETA: [0 secs]    \r"
     ]
    },
    {
     "name": "stderr",
     "output_type": "stream",
     "text": [
      "\r",
      "699it [50:28,  1.33s/it]"
     ]
    },
    {
     "name": "stdout",
     "output_type": "stream",
     "text": [
      "\n",
      "  1,045,257.0 Bytes [100.00%] received. Rate: [5291 KB/s].  ETA: [0 secs]    \r"
     ]
    },
    {
     "name": "stderr",
     "output_type": "stream",
     "text": [
      "\r",
      "700it [50:29,  1.33s/it]"
     ]
    },
    {
     "name": "stdout",
     "output_type": "stream",
     "text": [
      "\n",
      "  269,767.0 Bytes [100.00%] received. Rate: [2198 KB/s].  ETA: [0 secs]    \r"
     ]
    },
    {
     "name": "stderr",
     "output_type": "stream",
     "text": [
      "\r",
      "701it [50:31,  1.29s/it]"
     ]
    },
    {
     "name": "stdout",
     "output_type": "stream",
     "text": [
      "\n",
      "  5,951,253.0 Bytes [100.00%] received. Rate: [22499 KB/s].  ETA: [0 secs]    \r"
     ]
    },
    {
     "name": "stderr",
     "output_type": "stream",
     "text": [
      "\r",
      "702it [50:32,  1.38s/it]"
     ]
    },
    {
     "name": "stdout",
     "output_type": "stream",
     "text": [
      "\n",
      "  13,582,879.0 Bytes [100.00%] received. Rate: [21005 KB/s].  ETA: [0 secs]    \r"
     ]
    },
    {
     "name": "stderr",
     "output_type": "stream",
     "text": [
      "\r",
      "703it [50:34,  1.52s/it]"
     ]
    },
    {
     "name": "stdout",
     "output_type": "stream",
     "text": [
      "\n",
      "  1,011,293.0 Bytes [100.00%] received. Rate: [6398 KB/s].  ETA: [0 secs]    \r"
     ]
    },
    {
     "name": "stderr",
     "output_type": "stream",
     "text": [
      "\r",
      "704it [50:35,  1.43s/it]"
     ]
    },
    {
     "name": "stdout",
     "output_type": "stream",
     "text": [
      "\n",
      "  2,084,903.0 Bytes [100.00%] received. Rate: [  58 KB/s].  ETA: [0 secs]    \r"
     ]
    },
    {
     "name": "stderr",
     "output_type": "stream",
     "text": [
      "\r",
      "705it [51:12, 11.93s/it]"
     ]
    },
    {
     "name": "stdout",
     "output_type": "stream",
     "text": [
      "\n",
      "  354,955.0 Bytes [100.00%] received. Rate: [1680 KB/s].  ETA: [0 secs]    \r"
     ]
    },
    {
     "name": "stderr",
     "output_type": "stream",
     "text": [
      "\r",
      "706it [51:13,  8.79s/it]"
     ]
    },
    {
     "name": "stdout",
     "output_type": "stream",
     "text": [
      "\n",
      "  906,831.0 Bytes [100.00%] received. Rate: [3599 KB/s].  ETA: [0 secs]    \r"
     ]
    },
    {
     "name": "stderr",
     "output_type": "stream",
     "text": [
      "\r",
      "707it [51:15,  6.63s/it]"
     ]
    },
    {
     "name": "stdout",
     "output_type": "stream",
     "text": [
      "\n",
      "  5,079,366.0 Bytes [100.00%] received. Rate: [22935 KB/s].  ETA: [0 secs]    \r"
     ]
    },
    {
     "name": "stderr",
     "output_type": "stream",
     "text": [
      "\r",
      "708it [51:16,  5.15s/it]"
     ]
    },
    {
     "name": "stdout",
     "output_type": "stream",
     "text": [
      "\n",
      "  4,455,910.0 Bytes [100.00%] received. Rate: [17013 KB/s].  ETA: [0 secs]    \r"
     ]
    },
    {
     "name": "stderr",
     "output_type": "stream",
     "text": [
      "\r",
      "709it [51:18,  4.10s/it]"
     ]
    },
    {
     "name": "stdout",
     "output_type": "stream",
     "text": [
      "\n",
      "  5,311,699.0 Bytes [100.00%] received. Rate: [9292 KB/s].  ETA: [0 secs]    \r"
     ]
    },
    {
     "name": "stderr",
     "output_type": "stream",
     "text": [
      "\r",
      "710it [51:20,  3.44s/it]"
     ]
    },
    {
     "name": "stdout",
     "output_type": "stream",
     "text": [
      "\n",
      "  304,845.0 Bytes [100.00%] received. Rate: [4790 KB/s].  ETA: [0 secs]    \r"
     ]
    },
    {
     "name": "stderr",
     "output_type": "stream",
     "text": [
      "\r",
      "711it [51:21,  2.82s/it]"
     ]
    },
    {
     "name": "stdout",
     "output_type": "stream",
     "text": [
      "\n",
      "  965,168.0 Bytes [100.00%] received. Rate: [2746 KB/s].  ETA: [0 secs]    \r"
     ]
    },
    {
     "name": "stderr",
     "output_type": "stream",
     "text": [
      "\r",
      "712it [51:23,  2.57s/it]"
     ]
    },
    {
     "name": "stdout",
     "output_type": "stream",
     "text": [
      "\n",
      "  2,722,312.0 Bytes [100.00%] received. Rate: [19067 KB/s].  ETA: [0 secs]    \r"
     ]
    },
    {
     "name": "stderr",
     "output_type": "stream",
     "text": [
      "\r",
      "713it [51:25,  2.24s/it]"
     ]
    },
    {
     "name": "stdout",
     "output_type": "stream",
     "text": [
      "\n",
      "  930,196.0 Bytes [100.00%] received. Rate: [6996 KB/s].  ETA: [0 secs]    \r"
     ]
    },
    {
     "name": "stderr",
     "output_type": "stream",
     "text": [
      "\r",
      "714it [51:26,  2.03s/it]"
     ]
    },
    {
     "name": "stdout",
     "output_type": "stream",
     "text": [
      "\n",
      "  265,699.0 Bytes [100.00%] received. Rate: [1790 KB/s].  ETA: [0 secs]    \r"
     ]
    },
    {
     "name": "stderr",
     "output_type": "stream",
     "text": [
      "\r",
      "715it [51:28,  1.83s/it]"
     ]
    },
    {
     "name": "stdout",
     "output_type": "stream",
     "text": [
      "\n",
      "  10,209,005.0 Bytes [100.00%] received. Rate: [9682 KB/s].  ETA: [0 secs]    \r"
     ]
    },
    {
     "name": "stderr",
     "output_type": "stream",
     "text": [
      "\r",
      "716it [51:30,  2.02s/it]"
     ]
    },
    {
     "name": "stdout",
     "output_type": "stream",
     "text": [
      "\n",
      "  5,374,863.0 Bytes [100.00%] received. Rate: [15361 KB/s].  ETA: [0 secs]    \r"
     ]
    },
    {
     "name": "stderr",
     "output_type": "stream",
     "text": [
      "\r",
      "717it [51:32,  1.98s/it]"
     ]
    },
    {
     "name": "stdout",
     "output_type": "stream",
     "text": [
      "\n",
      "  3,485,832.0 Bytes [100.00%] received. Rate: [7339 KB/s].  ETA: [0 secs]    \r"
     ]
    },
    {
     "name": "stderr",
     "output_type": "stream",
     "text": [
      "\r",
      "718it [51:33,  1.81s/it]"
     ]
    },
    {
     "name": "stdout",
     "output_type": "stream",
     "text": [
      "\n",
      "  9,094,244.0 Bytes [100.00%] received. Rate: [7078 KB/s].  ETA: [0 secs]    \r"
     ]
    },
    {
     "name": "stderr",
     "output_type": "stream",
     "text": [
      "\r",
      "719it [51:36,  2.06s/it]"
     ]
    },
    {
     "name": "stdout",
     "output_type": "stream",
     "text": [
      "\n",
      "  1,433,506.0 Bytes [100.00%] received. Rate: [8443 KB/s].  ETA: [0 secs]    \r"
     ]
    },
    {
     "name": "stderr",
     "output_type": "stream",
     "text": [
      "\r",
      "720it [51:38,  1.87s/it]"
     ]
    },
    {
     "name": "stdout",
     "output_type": "stream",
     "text": [
      "\n",
      "  22,061,014.0 Bytes [100.00%] received. Rate: [14453 KB/s].  ETA: [0 secs]    \r"
     ]
    },
    {
     "name": "stderr",
     "output_type": "stream",
     "text": [
      "\r",
      "721it [51:41,  2.23s/it]"
     ]
    },
    {
     "name": "stdout",
     "output_type": "stream",
     "text": [
      "\n",
      "  3,299,032.0 Bytes [100.00%] received. Rate: [22520 KB/s].  ETA: [0 secs]    \n"
     ]
    },
    {
     "name": "stderr",
     "output_type": "stream",
     "text": [
      "\r",
      "722it [51:42,  2.04s/it]"
     ]
    },
    {
     "name": "stdout",
     "output_type": "stream",
     "text": [
      "  54,269,709.0 Bytes [100.00%] received. Rate: [21439 KB/s].  ETA: [0 secs]    \r"
     ]
    },
    {
     "name": "stderr",
     "output_type": "stream",
     "text": [
      "\r",
      "723it [51:46,  2.56s/it]"
     ]
    },
    {
     "name": "stdout",
     "output_type": "stream",
     "text": [
      "\n"
     ]
    },
    {
     "name": "stderr",
     "output_type": "stream",
     "text": [
      "ERROR: Video unavailable\n",
      "724it [51:46,  1.92s/it]"
     ]
    },
    {
     "name": "stdout",
     "output_type": "stream",
     "text": [
      "  47,546,034.0 Bytes [100.00%] received. Rate: [19592 KB/s].  ETA: [0 secs]    \r"
     ]
    },
    {
     "name": "stderr",
     "output_type": "stream",
     "text": [
      "\r",
      "725it [51:51,  2.70s/it]"
     ]
    },
    {
     "name": "stdout",
     "output_type": "stream",
     "text": [
      "\n",
      "  63,606.0 Bytes [100.00%] received. Rate: [ 865 KB/s].  ETA: [0 secs]    \r"
     ]
    },
    {
     "name": "stderr",
     "output_type": "stream",
     "text": [
      "\r",
      "726it [51:52,  2.21s/it]"
     ]
    },
    {
     "name": "stdout",
     "output_type": "stream",
     "text": [
      "\n",
      "  18,098,288.0 Bytes [100.00%] received. Rate: [73103 KB/s].  ETA: [0 secs]    \r"
     ]
    },
    {
     "name": "stderr",
     "output_type": "stream",
     "text": [
      "\r",
      "727it [51:54,  2.18s/it]"
     ]
    },
    {
     "name": "stdout",
     "output_type": "stream",
     "text": [
      "\n",
      "  4,662,590.0 Bytes [100.00%] received. Rate: [41537 KB/s].  ETA: [0 secs]    \r"
     ]
    },
    {
     "name": "stderr",
     "output_type": "stream",
     "text": [
      "\r",
      "728it [51:55,  1.90s/it]"
     ]
    },
    {
     "name": "stdout",
     "output_type": "stream",
     "text": [
      "\n"
     ]
    },
    {
     "name": "stderr",
     "output_type": "stream",
     "text": [
      "ERROR: Private video\n",
      "Sign in if you've been granted access to this video\n",
      "729it [51:56,  1.48s/it]"
     ]
    },
    {
     "name": "stdout",
     "output_type": "stream",
     "text": [
      "  3,274,321.0 Bytes [100.00%] received. Rate: [  69 KB/s].  ETA: [0 secs]    \r"
     ]
    },
    {
     "name": "stderr",
     "output_type": "stream",
     "text": [
      "\r",
      "730it [52:43, 15.27s/it]"
     ]
    },
    {
     "name": "stdout",
     "output_type": "stream",
     "text": [
      "\n",
      "  2,310,026.0 Bytes [100.00%] received. Rate: [11905 KB/s].  ETA: [0 secs]    \r"
     ]
    },
    {
     "name": "stderr",
     "output_type": "stream",
     "text": [
      "\r",
      "731it [52:45, 11.27s/it]"
     ]
    },
    {
     "name": "stdout",
     "output_type": "stream",
     "text": [
      "\n",
      "  3,916,850.0 Bytes [100.00%] received. Rate: [  83 KB/s].  ETA: [0 secs]    \r"
     ]
    },
    {
     "name": "stderr",
     "output_type": "stream",
     "text": [
      "\r",
      "732it [53:33, 22.25s/it]"
     ]
    },
    {
     "name": "stdout",
     "output_type": "stream",
     "text": [
      "\n",
      "  656,879.0 Bytes [100.00%] received. Rate: [  79 KB/s].  ETA: [0 secs]    \r"
     ]
    },
    {
     "name": "stderr",
     "output_type": "stream",
     "text": [
      "\r",
      "733it [53:42, 18.38s/it]"
     ]
    },
    {
     "name": "stdout",
     "output_type": "stream",
     "text": [
      "\n",
      "  1,512,673.0 Bytes [100.00%] received. Rate: [14620 KB/s].  ETA: [0 secs]    \r"
     ]
    },
    {
     "name": "stderr",
     "output_type": "stream",
     "text": [
      "\r",
      "734it [53:44, 13.21s/it]"
     ]
    },
    {
     "name": "stdout",
     "output_type": "stream",
     "text": [
      "\n",
      "  3,599,720.0 Bytes [100.00%] received. Rate: [16220 KB/s].  ETA: [0 secs]    \r"
     ]
    },
    {
     "name": "stderr",
     "output_type": "stream",
     "text": [
      "\r",
      "735it [53:45,  9.79s/it]"
     ]
    },
    {
     "name": "stdout",
     "output_type": "stream",
     "text": [
      "\n",
      "  1,735,002.0 Bytes [100.00%] received. Rate: [7717 KB/s].  ETA: [0 secs]    \r"
     ]
    },
    {
     "name": "stderr",
     "output_type": "stream",
     "text": [
      "\r",
      "736it [53:47,  7.23s/it]"
     ]
    },
    {
     "name": "stdout",
     "output_type": "stream",
     "text": [
      "\n",
      "  1,172,461.0 Bytes [100.00%] received. Rate: [11038 KB/s].  ETA: [0 secs]    \r"
     ]
    },
    {
     "name": "stderr",
     "output_type": "stream",
     "text": [
      "\r",
      "737it [53:48,  5.52s/it]"
     ]
    },
    {
     "name": "stdout",
     "output_type": "stream",
     "text": [
      "\n",
      "  501,662.0 Bytes [100.00%] received. Rate: [7656 KB/s].  ETA: [0 secs]    \r"
     ]
    },
    {
     "name": "stderr",
     "output_type": "stream",
     "text": [
      "\r",
      "738it [53:49,  4.19s/it]"
     ]
    },
    {
     "name": "stdout",
     "output_type": "stream",
     "text": [
      "\n",
      "  7,453,504.0 Bytes [100.00%] received. Rate: [6168 KB/s].  ETA: [0 secs]    \r"
     ]
    },
    {
     "name": "stderr",
     "output_type": "stream",
     "text": [
      "\r",
      "739it [53:52,  3.69s/it]"
     ]
    },
    {
     "name": "stdout",
     "output_type": "stream",
     "text": [
      "\n"
     ]
    },
    {
     "name": "stderr",
     "output_type": "stream",
     "text": [
      "ERROR: Private video\n",
      "Sign in if you've been granted access to this video\n",
      "740it [53:52,  2.71s/it]ERROR: Video unavailable\n",
      "741it [53:53,  2.02s/it]ERROR: Video unavailable\n",
      "742it [53:53,  1.58s/it]"
     ]
    },
    {
     "name": "stdout",
     "output_type": "stream",
     "text": [
      "  8,686,686.0 Bytes [100.00%] received. Rate: [20405 KB/s].  ETA: [0 secs]    \r"
     ]
    },
    {
     "name": "stderr",
     "output_type": "stream",
     "text": [
      "\r",
      "743it [53:55,  1.63s/it]"
     ]
    },
    {
     "name": "stdout",
     "output_type": "stream",
     "text": [
      "\n",
      "  10,469,044.0 Bytes [100.00%] received. Rate: [3907 KB/s].  ETA: [0 secs]    \r"
     ]
    },
    {
     "name": "stderr",
     "output_type": "stream",
     "text": [
      "\r",
      "744it [53:57,  1.89s/it]"
     ]
    },
    {
     "name": "stdout",
     "output_type": "stream",
     "text": [
      "\n",
      "  1,517,588.0 Bytes [100.00%] received. Rate: [15539 KB/s].  ETA: [0 secs]    \r"
     ]
    },
    {
     "name": "stderr",
     "output_type": "stream",
     "text": [
      "\r",
      "745it [53:59,  1.90s/it]"
     ]
    },
    {
     "name": "stdout",
     "output_type": "stream",
     "text": [
      "\n",
      "  7,868,214.0 Bytes [100.00%] received. Rate: [30668 KB/s].  ETA: [0 secs]    \r"
     ]
    },
    {
     "name": "stderr",
     "output_type": "stream",
     "text": [
      "\r",
      "746it [54:01,  1.80s/it]"
     ]
    },
    {
     "name": "stdout",
     "output_type": "stream",
     "text": [
      "\n",
      "  243,268.0 Bytes [100.00%] received. Rate: [1396 KB/s].  ETA: [0 secs]    \r"
     ]
    },
    {
     "name": "stderr",
     "output_type": "stream",
     "text": [
      "\r",
      "747it [54:02,  1.58s/it]"
     ]
    },
    {
     "name": "stdout",
     "output_type": "stream",
     "text": [
      "\n",
      "  5,418,030.0 Bytes [100.00%] received. Rate: [26592 KB/s].  ETA: [0 secs]    \r"
     ]
    },
    {
     "name": "stderr",
     "output_type": "stream",
     "text": [
      "\r",
      "748it [54:04,  1.56s/it]"
     ]
    },
    {
     "name": "stdout",
     "output_type": "stream",
     "text": [
      "\n",
      "  33,407,963.0 Bytes [100.00%] received. Rate: [17123 KB/s].  ETA: [0 secs]    \r"
     ]
    },
    {
     "name": "stderr",
     "output_type": "stream",
     "text": [
      "\r",
      "749it [54:07,  2.10s/it]"
     ]
    },
    {
     "name": "stdout",
     "output_type": "stream",
     "text": [
      "\n",
      "  649,765.0 Bytes [100.00%] received. Rate: [2207 KB/s].  ETA: [0 secs]    \r"
     ]
    },
    {
     "name": "stderr",
     "output_type": "stream",
     "text": [
      "\r",
      "750it [54:09,  2.01s/it]"
     ]
    },
    {
     "name": "stdout",
     "output_type": "stream",
     "text": [
      "\n",
      "  2,847,240.0 Bytes [100.00%] received. Rate: [19839 KB/s].  ETA: [0 secs]    \n"
     ]
    },
    {
     "name": "stderr",
     "output_type": "stream",
     "text": [
      "\r",
      "751it [54:10,  1.82s/it]"
     ]
    },
    {
     "name": "stdout",
     "output_type": "stream",
     "text": [
      "  4,457,916.0 Bytes [100.00%] received. Rate: [10262 KB/s].  ETA: [0 secs]    \r"
     ]
    },
    {
     "name": "stderr",
     "output_type": "stream",
     "text": [
      "\r",
      "752it [54:12,  1.81s/it]"
     ]
    },
    {
     "name": "stdout",
     "output_type": "stream",
     "text": [
      "\n",
      "  8,356,222.0 Bytes [100.00%] received. Rate: [39711 KB/s].  ETA: [0 secs]    \r"
     ]
    },
    {
     "name": "stderr",
     "output_type": "stream",
     "text": [
      "\r",
      "753it [54:14,  1.80s/it]"
     ]
    },
    {
     "name": "stdout",
     "output_type": "stream",
     "text": [
      "\n",
      "  369,050.0 Bytes [100.00%] received. Rate: [2750 KB/s].  ETA: [0 secs]    \r"
     ]
    },
    {
     "name": "stderr",
     "output_type": "stream",
     "text": [
      "\r",
      "754it [54:15,  1.68s/it]"
     ]
    },
    {
     "name": "stdout",
     "output_type": "stream",
     "text": [
      "\n",
      "  7,820,675.0 Bytes [100.00%] received. Rate: [21724 KB/s].  ETA: [0 secs]    \r"
     ]
    },
    {
     "name": "stderr",
     "output_type": "stream",
     "text": [
      "\r",
      "755it [54:17,  1.66s/it]"
     ]
    },
    {
     "name": "stdout",
     "output_type": "stream",
     "text": [
      "\n",
      "  9,844,104.0 Bytes [100.00%] received. Rate: [18834 KB/s].  ETA: [0 secs]    \r"
     ]
    },
    {
     "name": "stderr",
     "output_type": "stream",
     "text": [
      "\r",
      "756it [54:18,  1.68s/it]"
     ]
    },
    {
     "name": "stdout",
     "output_type": "stream",
     "text": [
      "\n",
      "  7,087,536.0 Bytes [100.00%] received. Rate: [50723 KB/s].  ETA: [0 secs]    \r"
     ]
    },
    {
     "name": "stderr",
     "output_type": "stream",
     "text": [
      "\r",
      "757it [54:20,  1.61s/it]"
     ]
    },
    {
     "name": "stdout",
     "output_type": "stream",
     "text": [
      "\n",
      "  2,611,644.0 Bytes [100.00%] received. Rate: [24479 KB/s].  ETA: [0 secs]    \r"
     ]
    },
    {
     "name": "stderr",
     "output_type": "stream",
     "text": [
      "\r",
      "758it [54:22,  1.72s/it]"
     ]
    },
    {
     "name": "stdout",
     "output_type": "stream",
     "text": [
      "\n",
      "  1,909,961.0 Bytes [100.00%] received. Rate: [2868 KB/s].  ETA: [0 secs]    \r"
     ]
    },
    {
     "name": "stderr",
     "output_type": "stream",
     "text": [
      "\r",
      "759it [54:24,  1.78s/it]"
     ]
    },
    {
     "name": "stdout",
     "output_type": "stream",
     "text": [
      "\n",
      "  1,689,021.0 Bytes [100.00%] received. Rate: [9511 KB/s].  ETA: [0 secs]    \r"
     ]
    },
    {
     "name": "stderr",
     "output_type": "stream",
     "text": [
      "\r",
      "760it [54:25,  1.74s/it]"
     ]
    },
    {
     "name": "stdout",
     "output_type": "stream",
     "text": [
      "\n",
      "  3,902,977.0 Bytes [100.00%] received. Rate: [25640 KB/s].  ETA: [0 secs]    \r"
     ]
    },
    {
     "name": "stderr",
     "output_type": "stream",
     "text": [
      "\r",
      "761it [54:27,  1.77s/it]"
     ]
    },
    {
     "name": "stdout",
     "output_type": "stream",
     "text": [
      "\n",
      "  311,891.0 Bytes [100.00%] received. Rate: [2701 KB/s].  ETA: [0 secs]    \r"
     ]
    },
    {
     "name": "stderr",
     "output_type": "stream",
     "text": [
      "\r",
      "762it [54:29,  1.69s/it]"
     ]
    },
    {
     "name": "stdout",
     "output_type": "stream",
     "text": [
      "\n"
     ]
    },
    {
     "name": "stderr",
     "output_type": "stream",
     "text": [
      "ERROR: Video unavailable\n",
      "This video is no longer available because the YouTube account associated with this video has been terminated.\n",
      "763it [54:29,  1.32s/it]"
     ]
    },
    {
     "name": "stdout",
     "output_type": "stream",
     "text": [
      "  7,669,101.0 Bytes [100.00%] received. Rate: [26993 KB/s].  ETA: [0 secs]    \r"
     ]
    },
    {
     "name": "stderr",
     "output_type": "stream",
     "text": [
      "\r",
      "764it [54:31,  1.46s/it]"
     ]
    },
    {
     "name": "stdout",
     "output_type": "stream",
     "text": [
      "\n",
      "  21,123,566.0 Bytes [100.00%] received. Rate: [8705 KB/s].  ETA: [0 secs]    \r"
     ]
    },
    {
     "name": "stderr",
     "output_type": "stream",
     "text": [
      "\r",
      "765it [54:33,  1.73s/it]"
     ]
    },
    {
     "name": "stdout",
     "output_type": "stream",
     "text": [
      "\n",
      "  1,450,008.0 Bytes [100.00%] received. Rate: [7914 KB/s].  ETA: [0 secs]    \r"
     ]
    },
    {
     "name": "stderr",
     "output_type": "stream",
     "text": [
      "\r",
      "766it [54:35,  1.72s/it]"
     ]
    },
    {
     "name": "stdout",
     "output_type": "stream",
     "text": [
      "\n",
      "  6,457,851.0 Bytes [100.00%] received. Rate: [24353 KB/s].  ETA: [0 secs]    \r"
     ]
    },
    {
     "name": "stderr",
     "output_type": "stream",
     "text": [
      "\r",
      "767it [54:36,  1.62s/it]"
     ]
    },
    {
     "name": "stdout",
     "output_type": "stream",
     "text": [
      "\n",
      "  4,243,708.0 Bytes [100.00%] received. Rate: [20682 KB/s].  ETA: [0 secs]    \r"
     ]
    },
    {
     "name": "stderr",
     "output_type": "stream",
     "text": [
      "\r",
      "768it [54:38,  1.64s/it]"
     ]
    },
    {
     "name": "stdout",
     "output_type": "stream",
     "text": [
      "\n"
     ]
    },
    {
     "name": "stderr",
     "output_type": "stream",
     "text": [
      "ERROR: Video unavailable\n",
      "769it [54:39,  1.31s/it]"
     ]
    },
    {
     "name": "stdout",
     "output_type": "stream",
     "text": [
      "  6,936,293.0 Bytes [100.00%] received. Rate: [20883 KB/s].  ETA: [0 secs]    \r"
     ]
    },
    {
     "name": "stderr",
     "output_type": "stream",
     "text": [
      "\r",
      "770it [54:41,  1.52s/it]"
     ]
    },
    {
     "name": "stdout",
     "output_type": "stream",
     "text": [
      "\n",
      "  1,802,553.0 Bytes [100.00%] received. Rate: [10180 KB/s].  ETA: [0 secs]    \r"
     ]
    },
    {
     "name": "stderr",
     "output_type": "stream",
     "text": [
      "\r",
      "771it [54:42,  1.39s/it]"
     ]
    },
    {
     "name": "stdout",
     "output_type": "stream",
     "text": [
      "\n",
      "  3,674,132.0 Bytes [100.00%] received. Rate: [19356 KB/s].  ETA: [0 secs]    \r"
     ]
    },
    {
     "name": "stderr",
     "output_type": "stream",
     "text": [
      "\r",
      "772it [54:43,  1.36s/it]"
     ]
    },
    {
     "name": "stdout",
     "output_type": "stream",
     "text": [
      "\n",
      "  4,268,009.0 Bytes [100.00%] received. Rate: [8668 KB/s].  ETA: [0 secs]    \r"
     ]
    },
    {
     "name": "stderr",
     "output_type": "stream",
     "text": [
      "\r",
      "773it [54:45,  1.57s/it]"
     ]
    },
    {
     "name": "stdout",
     "output_type": "stream",
     "text": [
      "\n",
      "  4,700,412.0 Bytes [100.00%] received. Rate: [21668 KB/s].  ETA: [0 secs]    \r"
     ]
    },
    {
     "name": "stderr",
     "output_type": "stream",
     "text": [
      "\r",
      "774it [54:47,  1.61s/it]"
     ]
    },
    {
     "name": "stdout",
     "output_type": "stream",
     "text": [
      "\n",
      "  114,775.0 Bytes [100.00%] received. Rate: [1162 KB/s].  ETA: [0 secs]    \r"
     ]
    },
    {
     "name": "stderr",
     "output_type": "stream",
     "text": [
      "\r",
      "775it [54:48,  1.47s/it]"
     ]
    },
    {
     "name": "stdout",
     "output_type": "stream",
     "text": [
      "\n",
      "  5,018,305.0 Bytes [100.00%] received. Rate: [17927 KB/s].  ETA: [0 secs]    \r"
     ]
    },
    {
     "name": "stderr",
     "output_type": "stream",
     "text": [
      "\r",
      "776it [54:50,  1.54s/it]"
     ]
    },
    {
     "name": "stdout",
     "output_type": "stream",
     "text": [
      "\n",
      "  3,843,763.0 Bytes [100.00%] received. Rate: [24122 KB/s].  ETA: [0 secs]    \r"
     ]
    },
    {
     "name": "stderr",
     "output_type": "stream",
     "text": [
      "\r",
      "777it [54:51,  1.57s/it]"
     ]
    },
    {
     "name": "stdout",
     "output_type": "stream",
     "text": [
      "\n"
     ]
    },
    {
     "name": "stderr",
     "output_type": "stream",
     "text": [
      "\r",
      "778it [54:52,  1.45s/it]"
     ]
    },
    {
     "name": "stdout",
     "output_type": "stream",
     "text": [
      "  2,151,384.0 Bytes [100.00%] received. Rate: [13873 KB/s].  ETA: [0 secs]    \r"
     ]
    },
    {
     "name": "stderr",
     "output_type": "stream",
     "text": [
      "\r",
      "779it [54:54,  1.48s/it]"
     ]
    },
    {
     "name": "stdout",
     "output_type": "stream",
     "text": [
      "\n",
      "  3,429,900.0 Bytes [100.00%] received. Rate: [18336 KB/s].  ETA: [0 secs]    \r"
     ]
    },
    {
     "name": "stderr",
     "output_type": "stream",
     "text": [
      "\r",
      "780it [54:55,  1.47s/it]"
     ]
    },
    {
     "name": "stdout",
     "output_type": "stream",
     "text": [
      "\n",
      "  1,378,929.0 Bytes [100.00%] received. Rate: [9929 KB/s].  ETA: [0 secs]    \r"
     ]
    },
    {
     "name": "stderr",
     "output_type": "stream",
     "text": [
      "\r",
      "781it [54:57,  1.54s/it]"
     ]
    },
    {
     "name": "stdout",
     "output_type": "stream",
     "text": [
      "\n"
     ]
    },
    {
     "name": "stderr",
     "output_type": "stream",
     "text": [
      "ERROR: Video unavailable\n",
      "782it [54:58,  1.25s/it]"
     ]
    },
    {
     "name": "stdout",
     "output_type": "stream",
     "text": [
      "  36,781,568.0 Bytes [100.00%] received. Rate: [20579 KB/s].  ETA: [0 secs]    \r"
     ]
    },
    {
     "name": "stderr",
     "output_type": "stream",
     "text": [
      "\r",
      "783it [55:01,  2.00s/it]"
     ]
    },
    {
     "name": "stdout",
     "output_type": "stream",
     "text": [
      "\n",
      "  9,098,997.0 Bytes [100.00%] received. Rate: [21441 KB/s].  ETA: [0 secs]    \r"
     ]
    },
    {
     "name": "stderr",
     "output_type": "stream",
     "text": [
      "\r",
      "784it [55:03,  1.88s/it]"
     ]
    },
    {
     "name": "stdout",
     "output_type": "stream",
     "text": [
      "\n",
      "  2,994,103.0 Bytes [100.00%] received. Rate: [21337 KB/s].  ETA: [0 secs]    \r"
     ]
    },
    {
     "name": "stderr",
     "output_type": "stream",
     "text": [
      "\r",
      "785it [55:04,  1.74s/it]"
     ]
    },
    {
     "name": "stdout",
     "output_type": "stream",
     "text": [
      "\n",
      "  455,325.0 Bytes [100.00%] received. Rate: [5162 KB/s].  ETA: [0 secs]    \r"
     ]
    },
    {
     "name": "stderr",
     "output_type": "stream",
     "text": [
      "\r",
      "786it [55:06,  1.74s/it]"
     ]
    },
    {
     "name": "stdout",
     "output_type": "stream",
     "text": [
      "\n",
      "  2,101,277.0 Bytes [100.00%] received. Rate: [12978 KB/s].  ETA: [0 secs]    \r"
     ]
    },
    {
     "name": "stderr",
     "output_type": "stream",
     "text": [
      "\r",
      "787it [55:08,  1.70s/it]"
     ]
    },
    {
     "name": "stdout",
     "output_type": "stream",
     "text": [
      "\n",
      "  768,674.0 Bytes [100.00%] received. Rate: [8308 KB/s].  ETA: [0 secs]    \r"
     ]
    },
    {
     "name": "stderr",
     "output_type": "stream",
     "text": [
      "\r",
      "788it [55:09,  1.51s/it]"
     ]
    },
    {
     "name": "stdout",
     "output_type": "stream",
     "text": [
      "\n",
      "  8,678,529.0 Bytes [100.00%] received. Rate: [20048 KB/s].  ETA: [0 secs]    \r"
     ]
    },
    {
     "name": "stderr",
     "output_type": "stream",
     "text": [
      "\r",
      "789it [55:11,  1.68s/it]"
     ]
    },
    {
     "name": "stdout",
     "output_type": "stream",
     "text": [
      "\n",
      "  850,386.0 Bytes [100.00%] received. Rate: [2532 KB/s].  ETA: [0 secs]    \r"
     ]
    },
    {
     "name": "stderr",
     "output_type": "stream",
     "text": [
      "\r",
      "790it [55:13,  1.69s/it]"
     ]
    },
    {
     "name": "stdout",
     "output_type": "stream",
     "text": [
      "\n",
      "  9,729,207.0 Bytes [100.00%] received. Rate: [25050 KB/s].  ETA: [0 secs]    \r"
     ]
    },
    {
     "name": "stderr",
     "output_type": "stream",
     "text": [
      "\r",
      "791it [55:15,  1.76s/it]"
     ]
    },
    {
     "name": "stdout",
     "output_type": "stream",
     "text": [
      "\n",
      "  3,158,767.0 Bytes [100.00%] received. Rate: [16964 KB/s].  ETA: [0 secs]    \r"
     ]
    },
    {
     "name": "stderr",
     "output_type": "stream",
     "text": [
      "\r",
      "792it [55:16,  1.70s/it]"
     ]
    },
    {
     "name": "stdout",
     "output_type": "stream",
     "text": [
      "\n",
      "  967,771.0 Bytes [100.00%] received. Rate: [5363 KB/s].  ETA: [0 secs]    \r"
     ]
    },
    {
     "name": "stderr",
     "output_type": "stream",
     "text": [
      "\r",
      "793it [55:18,  1.68s/it]"
     ]
    },
    {
     "name": "stdout",
     "output_type": "stream",
     "text": [
      "\n"
     ]
    },
    {
     "name": "stderr",
     "output_type": "stream",
     "text": [
      "ERROR: Private video\n",
      "Sign in if you've been granted access to this video\n",
      "794it [55:18,  1.34s/it]"
     ]
    },
    {
     "name": "stdout",
     "output_type": "stream",
     "text": [
      "  1,603,105.0 Bytes [100.00%] received. Rate: [8955 KB/s].  ETA: [0 secs]    \r"
     ]
    },
    {
     "name": "stderr",
     "output_type": "stream",
     "text": [
      "\r",
      "795it [55:20,  1.50s/it]"
     ]
    },
    {
     "name": "stdout",
     "output_type": "stream",
     "text": [
      "\n",
      "  5,341,567.0 Bytes [100.00%] received. Rate: [20056 KB/s].  ETA: [0 secs]    \r"
     ]
    },
    {
     "name": "stderr",
     "output_type": "stream",
     "text": [
      "\r",
      "796it [55:22,  1.58s/it]"
     ]
    },
    {
     "name": "stdout",
     "output_type": "stream",
     "text": [
      "\n",
      "  784,876.0 Bytes [100.00%] received. Rate: [4407 KB/s].  ETA: [0 secs]    \r"
     ]
    },
    {
     "name": "stderr",
     "output_type": "stream",
     "text": [
      "\r",
      "797it [55:24,  1.65s/it]"
     ]
    },
    {
     "name": "stdout",
     "output_type": "stream",
     "text": [
      "\n",
      "  924,068.0 Bytes [100.00%] received. Rate: [5777 KB/s].  ETA: [0 secs]    \r"
     ]
    },
    {
     "name": "stderr",
     "output_type": "stream",
     "text": [
      "\r",
      "798it [55:25,  1.53s/it]"
     ]
    },
    {
     "name": "stdout",
     "output_type": "stream",
     "text": [
      "\n",
      "  1,855,779.0 Bytes [100.00%] received. Rate: [9634 KB/s].  ETA: [0 secs]    \r"
     ]
    },
    {
     "name": "stderr",
     "output_type": "stream",
     "text": [
      "\r",
      "799it [55:26,  1.51s/it]"
     ]
    },
    {
     "name": "stdout",
     "output_type": "stream",
     "text": [
      "\n",
      "  2,987,495.0 Bytes [100.00%] received. Rate: [21310 KB/s].  ETA: [0 secs]    \r"
     ]
    },
    {
     "name": "stderr",
     "output_type": "stream",
     "text": [
      "\r",
      "800it [55:28,  1.59s/it]"
     ]
    },
    {
     "name": "stdout",
     "output_type": "stream",
     "text": [
      "\n",
      "  12,433,042.0 Bytes [100.00%] received. Rate: [2681 KB/s].  ETA: [0 secs]    \r"
     ]
    },
    {
     "name": "stderr",
     "output_type": "stream",
     "text": [
      "\r",
      "801it [55:33,  2.53s/it]"
     ]
    },
    {
     "name": "stdout",
     "output_type": "stream",
     "text": [
      "\n",
      "  487,148.0 Bytes [100.00%] received. Rate: [3640 KB/s].  ETA: [0 secs]    \r"
     ]
    },
    {
     "name": "stderr",
     "output_type": "stream",
     "text": [
      "\r",
      "802it [55:34,  2.17s/it]"
     ]
    },
    {
     "name": "stdout",
     "output_type": "stream",
     "text": [
      "\n",
      "  13,582,452.0 Bytes [100.00%] received. Rate: [  58 KB/s].  ETA: [0 secs]     \r"
     ]
    },
    {
     "name": "stderr",
     "output_type": "stream",
     "text": [
      "\r",
      "803it [59:25, 70.75s/it]"
     ]
    },
    {
     "name": "stdout",
     "output_type": "stream",
     "text": [
      "\n",
      "  5,872,479.0 Bytes [100.00%] received. Rate: [31367 KB/s].  ETA: [0 secs]    \r"
     ]
    },
    {
     "name": "stderr",
     "output_type": "stream",
     "text": [
      "\r",
      "804it [59:27, 49.95s/it]"
     ]
    },
    {
     "name": "stdout",
     "output_type": "stream",
     "text": [
      "\n",
      "  649,014.0 Bytes [100.00%] received. Rate: [4210 KB/s].  ETA: [0 secs]    \r"
     ]
    },
    {
     "name": "stderr",
     "output_type": "stream",
     "text": [
      "\r",
      "805it [59:28, 35.42s/it]"
     ]
    },
    {
     "name": "stdout",
     "output_type": "stream",
     "text": [
      "\n",
      "  21,671,266.0 Bytes [100.00%] received. Rate: [62842 KB/s].  ETA: [0 secs]    \r"
     ]
    },
    {
     "name": "stderr",
     "output_type": "stream",
     "text": [
      "\r",
      "806it [59:30, 25.36s/it]"
     ]
    },
    {
     "name": "stdout",
     "output_type": "stream",
     "text": [
      "\n",
      "  5,658,478.0 Bytes [100.00%] received. Rate: [22360 KB/s].  ETA: [0 secs]    \r"
     ]
    },
    {
     "name": "stderr",
     "output_type": "stream",
     "text": [
      "\r",
      "807it [59:32, 18.31s/it]"
     ]
    },
    {
     "name": "stdout",
     "output_type": "stream",
     "text": [
      "\n",
      "  8,047,021.0 Bytes [100.00%] received. Rate: [17742 KB/s].  ETA: [0 secs]    \r"
     ]
    },
    {
     "name": "stderr",
     "output_type": "stream",
     "text": [
      "\r",
      "808it [59:34, 13.37s/it]"
     ]
    },
    {
     "name": "stdout",
     "output_type": "stream",
     "text": [
      "\n",
      "  8,447,453.0 Bytes [100.00%] received. Rate: [28939 KB/s].  ETA: [0 secs]    \r"
     ]
    },
    {
     "name": "stderr",
     "output_type": "stream",
     "text": [
      "\r",
      "809it [59:35,  9.87s/it]"
     ]
    },
    {
     "name": "stdout",
     "output_type": "stream",
     "text": [
      "\n",
      "  1,725,197.0 Bytes [100.00%] received. Rate: [15529 KB/s].  ETA: [0 secs]    \r"
     ]
    },
    {
     "name": "stderr",
     "output_type": "stream",
     "text": [
      "\r",
      "810it [59:37,  7.38s/it]"
     ]
    },
    {
     "name": "stdout",
     "output_type": "stream",
     "text": [
      "\n",
      "  6,574,439.0 Bytes [100.00%] received. Rate: [19421 KB/s].  ETA: [0 secs]    \r"
     ]
    },
    {
     "name": "stderr",
     "output_type": "stream",
     "text": [
      "\r",
      "811it [59:39,  5.82s/it]"
     ]
    },
    {
     "name": "stdout",
     "output_type": "stream",
     "text": [
      "\n",
      "  633,235.0 Bytes [100.00%] received. Rate: [8230 KB/s].  ETA: [0 secs]    \r"
     ]
    },
    {
     "name": "stderr",
     "output_type": "stream",
     "text": [
      "\r",
      "812it [59:40,  4.38s/it]"
     ]
    },
    {
     "name": "stdout",
     "output_type": "stream",
     "text": [
      "\n",
      "  6,355,567.0 Bytes [100.00%] received. Rate: [6318 KB/s].  ETA: [0 secs]    \r"
     ]
    },
    {
     "name": "stderr",
     "output_type": "stream",
     "text": [
      "\r",
      "813it [59:43,  3.83s/it]"
     ]
    },
    {
     "name": "stdout",
     "output_type": "stream",
     "text": [
      "\n",
      "  11,396,827.0 Bytes [100.00%] received. Rate: [8406 KB/s].  ETA: [0 secs]    \r"
     ]
    },
    {
     "name": "stderr",
     "output_type": "stream",
     "text": [
      "\r",
      "814it [59:45,  3.41s/it]"
     ]
    },
    {
     "name": "stdout",
     "output_type": "stream",
     "text": [
      "\n",
      "  4,084,355.0 Bytes [100.00%] received. Rate: [  71 KB/s].  ETA: [0 secs]    \r"
     ]
    },
    {
     "name": "stderr",
     "output_type": "stream",
     "text": [
      "\r",
      "815it [1:00:43, 19.68s/it]"
     ]
    },
    {
     "name": "stdout",
     "output_type": "stream",
     "text": [
      "\n",
      "  3,521,822.0 Bytes [100.00%] received. Rate: [15427 KB/s].  ETA: [0 secs]    \r"
     ]
    },
    {
     "name": "stderr",
     "output_type": "stream",
     "text": [
      "\r",
      "816it [1:00:44, 14.22s/it]"
     ]
    },
    {
     "name": "stdout",
     "output_type": "stream",
     "text": [
      "\n",
      "  3,577,057.0 Bytes [100.00%] received. Rate: [  53 KB/s].  ETA: [0 secs]    \r"
     ]
    },
    {
     "name": "stderr",
     "output_type": "stream",
     "text": [
      "\r",
      "817it [1:01:52, 30.19s/it]"
     ]
    },
    {
     "name": "stdout",
     "output_type": "stream",
     "text": [
      "\n",
      "  727,949.0 Bytes [100.00%] received. Rate: [8843 KB/s].  ETA: [0 secs]    \r"
     ]
    },
    {
     "name": "stderr",
     "output_type": "stream",
     "text": [
      "\r",
      "818it [1:01:53, 21.46s/it]"
     ]
    },
    {
     "name": "stdout",
     "output_type": "stream",
     "text": [
      "\n",
      "  1,500,443.0 Bytes [100.00%] received. Rate: [20454 KB/s].  ETA: [0 secs]    \r"
     ]
    },
    {
     "name": "stderr",
     "output_type": "stream",
     "text": [
      "\r",
      "819it [1:01:54, 15.38s/it]"
     ]
    },
    {
     "name": "stdout",
     "output_type": "stream",
     "text": [
      "\n",
      "  2,060,997.0 Bytes [100.00%] received. Rate: [3024 KB/s].  ETA: [0 secs]    \r"
     ]
    },
    {
     "name": "stderr",
     "output_type": "stream",
     "text": [
      "\r",
      "820it [1:01:57, 11.53s/it]"
     ]
    },
    {
     "name": "stdout",
     "output_type": "stream",
     "text": [
      "\n",
      "  1,129,603.0 Bytes [100.00%] received. Rate: [5016 KB/s].  ETA: [0 secs]    \r"
     ]
    },
    {
     "name": "stderr",
     "output_type": "stream",
     "text": [
      "\r",
      "821it [1:01:58,  8.51s/it]"
     ]
    },
    {
     "name": "stdout",
     "output_type": "stream",
     "text": [
      "\n",
      "  955,504.0 Bytes [100.00%] received. Rate: [  59 KB/s].  ETA: [0 secs]    \r"
     ]
    },
    {
     "name": "stderr",
     "output_type": "stream",
     "text": [
      "\r",
      "822it [1:02:15, 11.16s/it]"
     ]
    },
    {
     "name": "stdout",
     "output_type": "stream",
     "text": [
      "\n"
     ]
    },
    {
     "name": "stderr",
     "output_type": "stream",
     "text": [
      "ERROR: Video unavailable\n",
      "823it [1:02:16,  7.90s/it]"
     ]
    },
    {
     "name": "stdout",
     "output_type": "stream",
     "text": [
      "  826,779.0 Bytes [100.00%] received. Rate: [12839 KB/s].  ETA: [0 secs]    \r"
     ]
    },
    {
     "name": "stderr",
     "output_type": "stream",
     "text": [
      "\r",
      "824it [1:02:17,  5.90s/it]"
     ]
    },
    {
     "name": "stdout",
     "output_type": "stream",
     "text": [
      "\n",
      "  1,912,822.0 Bytes [100.00%] received. Rate: [20116 KB/s].  ETA: [0 secs]    \r"
     ]
    },
    {
     "name": "stderr",
     "output_type": "stream",
     "text": [
      "\r",
      "825it [1:02:19,  4.72s/it]"
     ]
    },
    {
     "name": "stdout",
     "output_type": "stream",
     "text": [
      "\n",
      "  12,633,900.0 Bytes [100.00%] received. Rate: [13130 KB/s].  ETA: [0 secs]    \r"
     ]
    },
    {
     "name": "stderr",
     "output_type": "stream",
     "text": [
      "\r",
      "826it [1:02:21,  3.83s/it]"
     ]
    },
    {
     "name": "stdout",
     "output_type": "stream",
     "text": [
      "\n",
      "  4,695,340.0 Bytes [100.00%] received. Rate: [  82 KB/s].  ETA: [0 secs]    \r"
     ]
    },
    {
     "name": "stderr",
     "output_type": "stream",
     "text": [
      "\r",
      "827it [1:03:18, 20.01s/it]"
     ]
    },
    {
     "name": "stdout",
     "output_type": "stream",
     "text": [
      "\n",
      "  2,479,234.0 Bytes [100.00%] received. Rate: [17910 KB/s].  ETA: [0 secs]    \r"
     ]
    },
    {
     "name": "stderr",
     "output_type": "stream",
     "text": [
      "\r",
      "828it [1:03:20, 14.53s/it]"
     ]
    },
    {
     "name": "stdout",
     "output_type": "stream",
     "text": [
      "\n",
      "  768,441.0 Bytes [100.00%] received. Rate: [5499 KB/s].  ETA: [0 secs]    \r"
     ]
    },
    {
     "name": "stderr",
     "output_type": "stream",
     "text": [
      "\r",
      "829it [1:03:22, 10.62s/it]"
     ]
    },
    {
     "name": "stdout",
     "output_type": "stream",
     "text": [
      "\n",
      "  47,639,980.0 Bytes [100.00%] received. Rate: [  65 KB/s].  ETA: [0 secs]      \r"
     ]
    },
    {
     "name": "stderr",
     "output_type": "stream",
     "text": [
      "\r",
      "830it [1:15:21, 223.26s/it]"
     ]
    },
    {
     "name": "stdout",
     "output_type": "stream",
     "text": [
      "\n",
      "  3,243,831.0 Bytes [100.00%] received. Rate: [13687 KB/s].  ETA: [0 secs]    \r"
     ]
    },
    {
     "name": "stderr",
     "output_type": "stream",
     "text": [
      "\r",
      "831it [1:15:23, 156.93s/it]"
     ]
    },
    {
     "name": "stdout",
     "output_type": "stream",
     "text": [
      "\n",
      "  2,384,681.0 Bytes [100.00%] received. Rate: [  27 KB/s].  ETA: [0 secs]    \r"
     ]
    },
    {
     "name": "stderr",
     "output_type": "stream",
     "text": [
      "\r",
      "832it [1:16:53, 136.81s/it]"
     ]
    },
    {
     "name": "stdout",
     "output_type": "stream",
     "text": [
      "\n",
      "  18,397,801.0 Bytes [100.00%] received. Rate: [39821 KB/s].  ETA: [0 secs]    \r"
     ]
    },
    {
     "name": "stderr",
     "output_type": "stream",
     "text": [
      "\r",
      "833it [1:16:55, 96.46s/it] "
     ]
    },
    {
     "name": "stdout",
     "output_type": "stream",
     "text": [
      "\n"
     ]
    },
    {
     "name": "stderr",
     "output_type": "stream",
     "text": [
      "\r",
      "834it [1:16:57, 67.91s/it]"
     ]
    },
    {
     "name": "stdout",
     "output_type": "stream",
     "text": [
      "  184,029.0 Bytes [100.00%] received. Rate: [1662 KB/s].  ETA: [0 secs]    \r"
     ]
    },
    {
     "name": "stderr",
     "output_type": "stream",
     "text": [
      "\r",
      "835it [1:16:58, 47.94s/it]"
     ]
    },
    {
     "name": "stdout",
     "output_type": "stream",
     "text": [
      "\n",
      "  9,013,179.0 Bytes [100.00%] received. Rate: [27677 KB/s].  ETA: [0 secs]    \r"
     ]
    },
    {
     "name": "stderr",
     "output_type": "stream",
     "text": [
      "\r",
      "836it [1:17:00, 34.20s/it]"
     ]
    },
    {
     "name": "stdout",
     "output_type": "stream",
     "text": [
      "\n",
      "  6,599,868.0 Bytes [100.00%] received. Rate: [14135 KB/s].  ETA: [0 secs]    \r"
     ]
    },
    {
     "name": "stderr",
     "output_type": "stream",
     "text": [
      "\r",
      "837it [1:17:02, 24.56s/it]"
     ]
    },
    {
     "name": "stdout",
     "output_type": "stream",
     "text": [
      "\n",
      "  450,133.0 Bytes [100.00%] received. Rate: [1702 KB/s].  ETA: [0 secs]    \r"
     ]
    },
    {
     "name": "stderr",
     "output_type": "stream",
     "text": [
      "\r",
      "838it [1:17:04, 17.60s/it]"
     ]
    },
    {
     "name": "stdout",
     "output_type": "stream",
     "text": [
      "\n",
      "  2,582,899.0 Bytes [100.00%] received. Rate: [13384 KB/s].  ETA: [0 secs]    \r"
     ]
    },
    {
     "name": "stderr",
     "output_type": "stream",
     "text": [
      "\r",
      "839it [1:17:05, 12.76s/it]"
     ]
    },
    {
     "name": "stdout",
     "output_type": "stream",
     "text": [
      "\n",
      "  4,435,039.0 Bytes [100.00%] received. Rate: [15794 KB/s].  ETA: [0 secs]    \r"
     ]
    },
    {
     "name": "stderr",
     "output_type": "stream",
     "text": [
      "\r",
      "840it [1:17:07,  9.44s/it]"
     ]
    },
    {
     "name": "stdout",
     "output_type": "stream",
     "text": [
      "\n",
      "  3,678,067.0 Bytes [100.00%] received. Rate: [9565 KB/s].  ETA: [0 secs]    \r"
     ]
    },
    {
     "name": "stderr",
     "output_type": "stream",
     "text": [
      "\r",
      "841it [1:17:08,  7.11s/it]"
     ]
    },
    {
     "name": "stdout",
     "output_type": "stream",
     "text": [
      "\n",
      "  3,621,799.0 Bytes [100.00%] received. Rate: [15071 KB/s].  ETA: [0 secs]    \r"
     ]
    },
    {
     "name": "stderr",
     "output_type": "stream",
     "text": [
      "\r",
      "842it [1:17:10,  5.56s/it]"
     ]
    },
    {
     "name": "stdout",
     "output_type": "stream",
     "text": [
      "\n",
      "  1,299,319.0 Bytes [100.00%] received. Rate: [6025 KB/s].  ETA: [0 secs]    \r"
     ]
    },
    {
     "name": "stderr",
     "output_type": "stream",
     "text": [
      "\r",
      "843it [1:17:12,  4.41s/it]"
     ]
    },
    {
     "name": "stdout",
     "output_type": "stream",
     "text": [
      "\n"
     ]
    },
    {
     "name": "stderr",
     "output_type": "stream",
     "text": [
      "\r",
      "844it [1:17:13,  3.38s/it]"
     ]
    },
    {
     "name": "stdout",
     "output_type": "stream",
     "text": [
      "  6,595,558.0 Bytes [100.00%] received. Rate: [13248 KB/s].  ETA: [0 secs]    \r"
     ]
    },
    {
     "name": "stderr",
     "output_type": "stream",
     "text": [
      "\r",
      "845it [1:17:15,  2.84s/it]"
     ]
    },
    {
     "name": "stdout",
     "output_type": "stream",
     "text": [
      "\n",
      "  2,896,269.0 Bytes [100.00%] received. Rate: [20454 KB/s].  ETA: [0 secs]    \r"
     ]
    },
    {
     "name": "stderr",
     "output_type": "stream",
     "text": [
      "\r",
      "846it [1:17:16,  2.37s/it]"
     ]
    },
    {
     "name": "stdout",
     "output_type": "stream",
     "text": [
      "\n",
      "  3,514,271.0 Bytes [100.00%] received. Rate: [4278 KB/s].  ETA: [0 secs]    \r"
     ]
    },
    {
     "name": "stderr",
     "output_type": "stream",
     "text": [
      "\r",
      "847it [1:17:18,  2.35s/it]"
     ]
    },
    {
     "name": "stdout",
     "output_type": "stream",
     "text": [
      "\n",
      "  10,260,798.0 Bytes [100.00%] received. Rate: [19365 KB/s].  ETA: [0 secs]    \r"
     ]
    },
    {
     "name": "stderr",
     "output_type": "stream",
     "text": [
      "\r",
      "848it [1:17:20,  2.34s/it]"
     ]
    },
    {
     "name": "stdout",
     "output_type": "stream",
     "text": [
      "\n",
      "  5,330,641.0 Bytes [100.00%] received. Rate: [18467 KB/s].  ETA: [0 secs]    \r"
     ]
    },
    {
     "name": "stderr",
     "output_type": "stream",
     "text": [
      "\r",
      "849it [1:17:22,  2.17s/it]"
     ]
    },
    {
     "name": "stdout",
     "output_type": "stream",
     "text": [
      "\n",
      "  6,669,501.0 Bytes [100.00%] received. Rate: [19683 KB/s].  ETA: [0 secs]    \r"
     ]
    },
    {
     "name": "stderr",
     "output_type": "stream",
     "text": [
      "\r",
      "850it [1:17:24,  2.03s/it]"
     ]
    },
    {
     "name": "stdout",
     "output_type": "stream",
     "text": [
      "\n",
      "  24,860,564.0 Bytes [100.00%] received. Rate: [32814 KB/s].  ETA: [0 secs]    \r"
     ]
    },
    {
     "name": "stderr",
     "output_type": "stream",
     "text": [
      "\r",
      "851it [1:17:26,  2.10s/it]"
     ]
    },
    {
     "name": "stdout",
     "output_type": "stream",
     "text": [
      "\n",
      "  2,269,722.0 Bytes [100.00%] received. Rate: [  51 KB/s].  ETA: [0 secs]    \r"
     ]
    },
    {
     "name": "stderr",
     "output_type": "stream",
     "text": [
      "\r",
      "852it [1:18:11, 14.88s/it]"
     ]
    },
    {
     "name": "stdout",
     "output_type": "stream",
     "text": [
      "\n",
      "  8,502,383.0 Bytes [100.00%] received. Rate: [17449 KB/s].  ETA: [0 secs]    \r"
     ]
    },
    {
     "name": "stderr",
     "output_type": "stream",
     "text": [
      "\r",
      "853it [1:18:13, 10.96s/it]"
     ]
    },
    {
     "name": "stdout",
     "output_type": "stream",
     "text": [
      "\n",
      "  521,421.0 Bytes [100.00%] received. Rate: [5520 KB/s].  ETA: [0 secs]    \r"
     ]
    },
    {
     "name": "stderr",
     "output_type": "stream",
     "text": [
      "\r",
      "854it [1:18:14,  8.08s/it]"
     ]
    },
    {
     "name": "stdout",
     "output_type": "stream",
     "text": [
      "\n",
      "  2,163,879.0 Bytes [100.00%] received. Rate: [11266 KB/s].  ETA: [0 secs]    \r"
     ]
    },
    {
     "name": "stderr",
     "output_type": "stream",
     "text": [
      "\r",
      "855it [1:18:15,  6.02s/it]"
     ]
    },
    {
     "name": "stdout",
     "output_type": "stream",
     "text": [
      "\n",
      "  6,456,145.0 Bytes [100.00%] received. Rate: [5932 KB/s].  ETA: [0 secs]    \r"
     ]
    },
    {
     "name": "stderr",
     "output_type": "stream",
     "text": [
      "\r",
      "856it [1:18:18,  4.94s/it]"
     ]
    },
    {
     "name": "stdout",
     "output_type": "stream",
     "text": [
      "\n",
      "  27,711,867.0 Bytes [100.00%] received. Rate: [8469 KB/s].  ETA: [0 secs]    \r"
     ]
    },
    {
     "name": "stderr",
     "output_type": "stream",
     "text": [
      "\r",
      "857it [1:18:22,  4.70s/it]"
     ]
    },
    {
     "name": "stdout",
     "output_type": "stream",
     "text": [
      "\n",
      "  4,772,770.0 Bytes [100.00%] received. Rate: [20386 KB/s].  ETA: [0 secs]    \r"
     ]
    },
    {
     "name": "stderr",
     "output_type": "stream",
     "text": [
      "\r",
      "858it [1:18:23,  3.77s/it]"
     ]
    },
    {
     "name": "stdout",
     "output_type": "stream",
     "text": [
      "\n",
      "  418,941.0 Bytes [100.00%] received. Rate: [1232 KB/s].  ETA: [0 secs]    \r"
     ]
    },
    {
     "name": "stderr",
     "output_type": "stream",
     "text": [
      "\r",
      "859it [1:18:25,  3.08s/it]"
     ]
    },
    {
     "name": "stdout",
     "output_type": "stream",
     "text": [
      "\n",
      "  4,996,064.0 Bytes [100.00%] received. Rate: [12242 KB/s].  ETA: [0 secs]    \r"
     ]
    },
    {
     "name": "stderr",
     "output_type": "stream",
     "text": [
      "\r",
      "860it [1:18:27,  2.64s/it]"
     ]
    },
    {
     "name": "stdout",
     "output_type": "stream",
     "text": [
      "\n",
      "  6,765,926.0 Bytes [100.00%] received. Rate: [19637 KB/s].  ETA: [0 secs]    \r"
     ]
    },
    {
     "name": "stderr",
     "output_type": "stream",
     "text": [
      "\r",
      "861it [1:18:28,  2.27s/it]"
     ]
    },
    {
     "name": "stdout",
     "output_type": "stream",
     "text": [
      "\n",
      "  212,009.0 Bytes [100.00%] received. Rate: [ 691 KB/s].  ETA: [0 secs]    \r"
     ]
    },
    {
     "name": "stderr",
     "output_type": "stream",
     "text": [
      "\r",
      "862it [1:18:30,  2.07s/it]"
     ]
    },
    {
     "name": "stdout",
     "output_type": "stream",
     "text": [
      "\n",
      "  780,771.0 Bytes [100.00%] received. Rate: [ 782 KB/s].  ETA: [0 secs]    \r"
     ]
    },
    {
     "name": "stderr",
     "output_type": "stream",
     "text": [
      "\r",
      "863it [1:18:32,  2.21s/it]"
     ]
    },
    {
     "name": "stdout",
     "output_type": "stream",
     "text": [
      "\n",
      "  47,388,192.0 Bytes [100.00%] received. Rate: [27557 KB/s].  ETA: [0 secs]    \r"
     ]
    },
    {
     "name": "stderr",
     "output_type": "stream",
     "text": [
      "\r",
      "864it [1:18:38,  3.30s/it]"
     ]
    },
    {
     "name": "stdout",
     "output_type": "stream",
     "text": [
      "\n",
      "  1,326,827.0 Bytes [100.00%] received. Rate: [1775 KB/s].  ETA: [0 secs]    \r"
     ]
    },
    {
     "name": "stderr",
     "output_type": "stream",
     "text": [
      "\r",
      "865it [1:18:40,  2.82s/it]"
     ]
    },
    {
     "name": "stdout",
     "output_type": "stream",
     "text": [
      "\n",
      "  10,433,238.0 Bytes [100.00%] received. Rate: [  79 KB/s].  ETA: [0 secs]    \r"
     ]
    },
    {
     "name": "stderr",
     "output_type": "stream",
     "text": [
      "\r",
      "866it [1:20:52, 41.59s/it]"
     ]
    },
    {
     "name": "stdout",
     "output_type": "stream",
     "text": [
      "\n",
      "  1,184,205.0 Bytes [100.00%] received. Rate: [5474 KB/s].  ETA: [0 secs]    \r"
     ]
    },
    {
     "name": "stderr",
     "output_type": "stream",
     "text": [
      "\r",
      "867it [1:20:53, 29.56s/it]"
     ]
    },
    {
     "name": "stdout",
     "output_type": "stream",
     "text": [
      "\n",
      "  529,486.0 Bytes [100.00%] received. Rate: [3776 KB/s].  ETA: [0 secs]    \r"
     ]
    },
    {
     "name": "stderr",
     "output_type": "stream",
     "text": [
      "\r",
      "868it [1:20:55, 21.10s/it]"
     ]
    },
    {
     "name": "stdout",
     "output_type": "stream",
     "text": [
      "\n",
      "  453,133.0 Bytes [100.00%] received. Rate: [1431 KB/s].  ETA: [0 secs]    \r"
     ]
    },
    {
     "name": "stderr",
     "output_type": "stream",
     "text": [
      "\r",
      "869it [1:20:56, 15.25s/it]"
     ]
    },
    {
     "name": "stdout",
     "output_type": "stream",
     "text": [
      "\n",
      "  389,485.0 Bytes [100.00%] received. Rate: [5409 KB/s].  ETA: [0 secs]    \r"
     ]
    },
    {
     "name": "stderr",
     "output_type": "stream",
     "text": [
      "\r",
      "870it [1:20:57, 11.05s/it]"
     ]
    },
    {
     "name": "stdout",
     "output_type": "stream",
     "text": [
      "\n",
      "  2,039,254.0 Bytes [100.00%] received. Rate: [11920 KB/s].  ETA: [0 secs]    \r"
     ]
    },
    {
     "name": "stderr",
     "output_type": "stream",
     "text": [
      "\r",
      "871it [1:20:59,  8.10s/it]"
     ]
    },
    {
     "name": "stdout",
     "output_type": "stream",
     "text": [
      "\n",
      "  1,642,343.0 Bytes [100.00%] received. Rate: [9146 KB/s].  ETA: [0 secs]    \r"
     ]
    },
    {
     "name": "stderr",
     "output_type": "stream",
     "text": [
      "\r",
      "872it [1:21:00,  6.13s/it]"
     ]
    },
    {
     "name": "stdout",
     "output_type": "stream",
     "text": [
      "\n"
     ]
    },
    {
     "name": "stderr",
     "output_type": "stream",
     "text": [
      "ERROR: Video unavailable\n",
      "This video is no longer available because the YouTube account associated with this video has been terminated.\n",
      "873it [1:21:01,  4.45s/it]"
     ]
    },
    {
     "name": "stdout",
     "output_type": "stream",
     "text": [
      "  1,141,571.0 Bytes [100.00%] received. Rate: [7009 KB/s].  ETA: [0 secs]    \r"
     ]
    },
    {
     "name": "stderr",
     "output_type": "stream",
     "text": [
      "\r",
      "874it [1:21:02,  3.55s/it]"
     ]
    },
    {
     "name": "stdout",
     "output_type": "stream",
     "text": [
      "\n",
      "  551,360.0 Bytes [100.00%] received. Rate: [6320 KB/s].  ETA: [0 secs]    \r"
     ]
    },
    {
     "name": "stderr",
     "output_type": "stream",
     "text": [
      "\r",
      "875it [1:21:03,  2.77s/it]"
     ]
    },
    {
     "name": "stdout",
     "output_type": "stream",
     "text": [
      "\n",
      "  1,512,304.0 Bytes [100.00%] received. Rate: [6910 KB/s].  ETA: [0 secs]    \r"
     ]
    },
    {
     "name": "stderr",
     "output_type": "stream",
     "text": [
      "\r",
      "876it [1:21:05,  2.50s/it]"
     ]
    },
    {
     "name": "stdout",
     "output_type": "stream",
     "text": [
      "\n",
      "  890,901.0 Bytes [100.00%] received. Rate: [12542 KB/s].  ETA: [0 secs]    \r"
     ]
    },
    {
     "name": "stderr",
     "output_type": "stream",
     "text": [
      "\r",
      "877it [1:21:06,  2.18s/it]"
     ]
    },
    {
     "name": "stdout",
     "output_type": "stream",
     "text": [
      "\n",
      "  2,206,615.0 Bytes [100.00%] received. Rate: [13313 KB/s].  ETA: [0 secs]    \r"
     ]
    },
    {
     "name": "stderr",
     "output_type": "stream",
     "text": [
      "\r",
      "878it [1:21:08,  2.06s/it]"
     ]
    },
    {
     "name": "stdout",
     "output_type": "stream",
     "text": [
      "\n",
      "  4,061,301.0 Bytes [100.00%] received. Rate: [35603 KB/s].  ETA: [0 secs]    \r"
     ]
    },
    {
     "name": "stderr",
     "output_type": "stream",
     "text": [
      "\r",
      "879it [1:21:10,  1.91s/it]"
     ]
    },
    {
     "name": "stdout",
     "output_type": "stream",
     "text": [
      "\n",
      "  7,524,530.0 Bytes [100.00%] received. Rate: [20921 KB/s].  ETA: [0 secs]    \r"
     ]
    },
    {
     "name": "stderr",
     "output_type": "stream",
     "text": [
      "\r",
      "880it [1:21:12,  2.00s/it]"
     ]
    },
    {
     "name": "stdout",
     "output_type": "stream",
     "text": [
      "\n"
     ]
    },
    {
     "name": "stderr",
     "output_type": "stream",
     "text": [
      "ERROR: Video unavailable\n",
      "881it [1:21:12,  1.57s/it]"
     ]
    },
    {
     "name": "stdout",
     "output_type": "stream",
     "text": [
      "  512,576.0 Bytes [100.00%] received. Rate: [2888 KB/s].  ETA: [0 secs]    \r"
     ]
    },
    {
     "name": "stderr",
     "output_type": "stream",
     "text": [
      "\r",
      "882it [1:21:14,  1.54s/it]"
     ]
    },
    {
     "name": "stdout",
     "output_type": "stream",
     "text": [
      "\n",
      "  8,255,751.0 Bytes [100.00%] received. Rate: [22742 KB/s].  ETA: [0 secs]    \r"
     ]
    },
    {
     "name": "stderr",
     "output_type": "stream",
     "text": [
      "\r",
      "883it [1:21:16,  1.61s/it]"
     ]
    },
    {
     "name": "stdout",
     "output_type": "stream",
     "text": [
      "\n",
      "  1,905,563.0 Bytes [100.00%] received. Rate: [  56 KB/s].  ETA: [0 secs]    \r"
     ]
    },
    {
     "name": "stderr",
     "output_type": "stream",
     "text": [
      "\r",
      "884it [1:21:51, 11.61s/it]"
     ]
    },
    {
     "name": "stdout",
     "output_type": "stream",
     "text": [
      "\n",
      "  9,343,927.0 Bytes [100.00%] received. Rate: [19930 KB/s].  ETA: [0 secs]    \r"
     ]
    },
    {
     "name": "stderr",
     "output_type": "stream",
     "text": [
      "\r",
      "885it [1:21:52,  8.61s/it]"
     ]
    },
    {
     "name": "stdout",
     "output_type": "stream",
     "text": [
      "\n",
      "  4,545,049.0 Bytes [100.00%] received. Rate: [22097 KB/s].  ETA: [0 secs]    \r"
     ]
    },
    {
     "name": "stderr",
     "output_type": "stream",
     "text": [
      "\r",
      "886it [1:21:54,  6.45s/it]"
     ]
    },
    {
     "name": "stdout",
     "output_type": "stream",
     "text": [
      "\n",
      "  30,226,989.0 Bytes [100.00%] received. Rate: [74612 KB/s].  ETA: [0 secs]    \r"
     ]
    },
    {
     "name": "stderr",
     "output_type": "stream",
     "text": [
      "\r",
      "887it [1:21:56,  5.21s/it]"
     ]
    },
    {
     "name": "stdout",
     "output_type": "stream",
     "text": [
      "\n",
      "  98,040.0 Bytes [100.00%] received. Rate: [1124 KB/s].  ETA: [0 secs]    \r"
     ]
    },
    {
     "name": "stderr",
     "output_type": "stream",
     "text": [
      "\r",
      "888it [1:21:57,  4.01s/it]"
     ]
    },
    {
     "name": "stdout",
     "output_type": "stream",
     "text": [
      "\n",
      "  42,345,844.0 Bytes [100.00%] received. Rate: [13150 KB/s].  ETA: [0 secs]    \r"
     ]
    },
    {
     "name": "stderr",
     "output_type": "stream",
     "text": [
      "\r",
      "889it [1:22:01,  3.92s/it]"
     ]
    },
    {
     "name": "stdout",
     "output_type": "stream",
     "text": [
      "\n",
      "  899,560.0 Bytes [100.00%] received. Rate: [11115 KB/s].  ETA: [0 secs]    \r"
     ]
    },
    {
     "name": "stderr",
     "output_type": "stream",
     "text": [
      "\r",
      "890it [1:22:02,  3.18s/it]"
     ]
    },
    {
     "name": "stdout",
     "output_type": "stream",
     "text": [
      "\n",
      "  656,148.0 Bytes [100.00%] received. Rate: [  78 KB/s].  ETA: [0 secs]    \r"
     ]
    },
    {
     "name": "stderr",
     "output_type": "stream",
     "text": [
      "\r",
      "891it [1:22:12,  5.00s/it]"
     ]
    },
    {
     "name": "stdout",
     "output_type": "stream",
     "text": [
      "\n",
      "  11,703,538.0 Bytes [100.00%] received. Rate: [12813 KB/s].  ETA: [0 secs]    \r"
     ]
    },
    {
     "name": "stderr",
     "output_type": "stream",
     "text": [
      "\r",
      "892it [1:22:14,  4.25s/it]"
     ]
    },
    {
     "name": "stdout",
     "output_type": "stream",
     "text": [
      "\n",
      "  781,948.0 Bytes [100.00%] received. Rate: [ 720 KB/s].  ETA: [0 secs]    \r"
     ]
    },
    {
     "name": "stderr",
     "output_type": "stream",
     "text": [
      "\r",
      "893it [1:22:16,  3.65s/it]"
     ]
    },
    {
     "name": "stdout",
     "output_type": "stream",
     "text": [
      "\n",
      "  842,990.0 Bytes [100.00%] received. Rate: [7328 KB/s].  ETA: [0 secs]    \r"
     ]
    },
    {
     "name": "stderr",
     "output_type": "stream",
     "text": [
      "\r",
      "894it [1:22:18,  3.01s/it]"
     ]
    },
    {
     "name": "stdout",
     "output_type": "stream",
     "text": [
      "\n",
      "  1,710,062.0 Bytes [100.00%] received. Rate: [  31 KB/s].  ETA: [0 secs]    \r"
     ]
    },
    {
     "name": "stderr",
     "output_type": "stream",
     "text": [
      "\r",
      "895it [1:23:14, 18.93s/it]"
     ]
    },
    {
     "name": "stdout",
     "output_type": "stream",
     "text": [
      "\n",
      "  1,161,028.0 Bytes [100.00%] received. Rate: [10444 KB/s].  ETA: [0 secs]    \r"
     ]
    },
    {
     "name": "stderr",
     "output_type": "stream",
     "text": [
      "\r",
      "896it [1:23:16, 13.75s/it]"
     ]
    },
    {
     "name": "stdout",
     "output_type": "stream",
     "text": [
      "\n",
      "  2,830,545.0 Bytes [100.00%] received. Rate: [4449 KB/s].  ETA: [0 secs]    \r"
     ]
    },
    {
     "name": "stderr",
     "output_type": "stream",
     "text": [
      "\r",
      "897it [1:23:18, 10.23s/it]"
     ]
    },
    {
     "name": "stdout",
     "output_type": "stream",
     "text": [
      "\n",
      "  17,723,187.0 Bytes [100.00%] received. Rate: [43763 KB/s].  ETA: [0 secs]    \r"
     ]
    },
    {
     "name": "stderr",
     "output_type": "stream",
     "text": [
      "\r",
      "898it [1:23:21,  8.04s/it]"
     ]
    },
    {
     "name": "stdout",
     "output_type": "stream",
     "text": [
      "\n",
      "  2,434,296.0 Bytes [100.00%] received. Rate: [17625 KB/s].  ETA: [0 secs]    \r"
     ]
    },
    {
     "name": "stderr",
     "output_type": "stream",
     "text": [
      "\r",
      "899it [1:23:23,  6.21s/it]"
     ]
    },
    {
     "name": "stdout",
     "output_type": "stream",
     "text": [
      "\n",
      "  4,680,470.0 Bytes [100.00%] received. Rate: [14727 KB/s].  ETA: [0 secs]    \r"
     ]
    },
    {
     "name": "stderr",
     "output_type": "stream",
     "text": [
      "\r",
      "900it [1:23:25,  5.01s/it]"
     ]
    },
    {
     "name": "stdout",
     "output_type": "stream",
     "text": [
      "\n",
      "  424,389.0 Bytes [100.00%] received. Rate: [6863 KB/s].  ETA: [0 secs]    \r"
     ]
    },
    {
     "name": "stderr",
     "output_type": "stream",
     "text": [
      "\r",
      "901it [1:23:27,  4.11s/it]"
     ]
    },
    {
     "name": "stdout",
     "output_type": "stream",
     "text": [
      "\n",
      "  1,615,785.0 Bytes [100.00%] received. Rate: [  81 KB/s].  ETA: [0 secs]    \r"
     ]
    },
    {
     "name": "stderr",
     "output_type": "stream",
     "text": [
      "\r",
      "902it [1:23:48,  9.14s/it]"
     ]
    },
    {
     "name": "stdout",
     "output_type": "stream",
     "text": [
      "\n",
      "  484,214.0 Bytes [100.00%] received. Rate: [ 980 KB/s].  ETA: [0 secs]    \r"
     ]
    },
    {
     "name": "stderr",
     "output_type": "stream",
     "text": [
      "\r",
      "903it [1:23:50,  6.99s/it]"
     ]
    },
    {
     "name": "stdout",
     "output_type": "stream",
     "text": [
      "\n",
      "  1,750,223.0 Bytes [100.00%] received. Rate: [15611 KB/s].  ETA: [0 secs]    \r"
     ]
    },
    {
     "name": "stderr",
     "output_type": "stream",
     "text": [
      "\r",
      "904it [1:23:52,  5.54s/it]"
     ]
    },
    {
     "name": "stdout",
     "output_type": "stream",
     "text": [
      "\n",
      "  1,926,856.0 Bytes [100.00%] received. Rate: [12421 KB/s].  ETA: [0 secs]    \r"
     ]
    },
    {
     "name": "stderr",
     "output_type": "stream",
     "text": [
      "\r",
      "905it [1:23:53,  4.24s/it]"
     ]
    },
    {
     "name": "stdout",
     "output_type": "stream",
     "text": [
      "\n",
      "  6,318,207.0 Bytes [100.00%] received. Rate: [13596 KB/s].  ETA: [0 secs]    \r"
     ]
    },
    {
     "name": "stderr",
     "output_type": "stream",
     "text": [
      "\r",
      "906it [1:23:55,  3.52s/it]"
     ]
    },
    {
     "name": "stdout",
     "output_type": "stream",
     "text": [
      "\n",
      "  12,167,019.0 Bytes [100.00%] received. Rate: [  78 KB/s].  ETA: [0 secs]     \r"
     ]
    },
    {
     "name": "stderr",
     "output_type": "stream",
     "text": [
      "\r",
      "907it [1:26:30, 49.01s/it]"
     ]
    },
    {
     "name": "stdout",
     "output_type": "stream",
     "text": [
      "\n",
      "  4,046,560.0 Bytes [100.00%] received. Rate: [20405 KB/s].  ETA: [0 secs]    \r"
     ]
    },
    {
     "name": "stderr",
     "output_type": "stream",
     "text": [
      "\r",
      "908it [1:26:31, 34.75s/it]"
     ]
    },
    {
     "name": "stdout",
     "output_type": "stream",
     "text": [
      "\n",
      "  8,335,025.0 Bytes [100.00%] received. Rate: [22898 KB/s].  ETA: [0 secs]    \r"
     ]
    },
    {
     "name": "stderr",
     "output_type": "stream",
     "text": [
      "\r",
      "909it [1:26:33, 24.78s/it]"
     ]
    },
    {
     "name": "stdout",
     "output_type": "stream",
     "text": [
      "\n",
      "  23,755,531.0 Bytes [100.00%] received. Rate: [16022 KB/s].  ETA: [0 secs]    \r"
     ]
    },
    {
     "name": "stderr",
     "output_type": "stream",
     "text": [
      "\r",
      "910it [1:26:36, 18.16s/it]"
     ]
    },
    {
     "name": "stdout",
     "output_type": "stream",
     "text": [
      "\n",
      "  2,032,927.0 Bytes [100.00%] received. Rate: [10804 KB/s].  ETA: [0 secs]    \r"
     ]
    },
    {
     "name": "stderr",
     "output_type": "stream",
     "text": [
      "\r",
      "911it [1:26:37, 13.17s/it]"
     ]
    },
    {
     "name": "stdout",
     "output_type": "stream",
     "text": [
      "\n",
      "  96,384.0 Bytes [100.00%] received. Rate: [ 999 KB/s].  ETA: [0 secs]    \r"
     ]
    },
    {
     "name": "stderr",
     "output_type": "stream",
     "text": [
      "\r",
      "912it [1:26:39,  9.62s/it]"
     ]
    },
    {
     "name": "stdout",
     "output_type": "stream",
     "text": [
      "\n",
      "  2,759,847.0 Bytes [100.00%] received. Rate: [19703 KB/s].  ETA: [0 secs]    \r"
     ]
    },
    {
     "name": "stderr",
     "output_type": "stream",
     "text": [
      "\r",
      "913it [1:26:40,  7.29s/it]"
     ]
    },
    {
     "name": "stdout",
     "output_type": "stream",
     "text": [
      "\n",
      "  3,570,319.0 Bytes [100.00%] received. Rate: [22540 KB/s].  ETA: [0 secs]    \r"
     ]
    },
    {
     "name": "stderr",
     "output_type": "stream",
     "text": [
      "\r",
      "914it [1:26:42,  5.60s/it]"
     ]
    },
    {
     "name": "stdout",
     "output_type": "stream",
     "text": [
      "\n",
      "  5,721,276.0 Bytes [100.00%] received. Rate: [25619 KB/s].  ETA: [0 secs]    \r"
     ]
    },
    {
     "name": "stderr",
     "output_type": "stream",
     "text": [
      "\r",
      "915it [1:26:44,  4.43s/it]"
     ]
    },
    {
     "name": "stdout",
     "output_type": "stream",
     "text": [
      "\n",
      "  1,156,682.0 Bytes [100.00%] received. Rate: [6648 KB/s].  ETA: [0 secs]    \r"
     ]
    },
    {
     "name": "stderr",
     "output_type": "stream",
     "text": [
      "\r",
      "916it [1:26:45,  3.50s/it]"
     ]
    },
    {
     "name": "stdout",
     "output_type": "stream",
     "text": [
      "\n",
      "  1,057,936.0 Bytes [100.00%] received. Rate: [6495 KB/s].  ETA: [0 secs]    \r"
     ]
    },
    {
     "name": "stderr",
     "output_type": "stream",
     "text": [
      "\r",
      "917it [1:26:46,  2.85s/it]"
     ]
    },
    {
     "name": "stdout",
     "output_type": "stream",
     "text": [
      "\n"
     ]
    },
    {
     "name": "stderr",
     "output_type": "stream",
     "text": [
      "ERROR: Video unavailable\n",
      "918it [1:26:47,  2.11s/it]"
     ]
    },
    {
     "name": "stdout",
     "output_type": "stream",
     "text": [
      "  137,825.0 Bytes [100.00%] received. Rate: [1783 KB/s].  ETA: [0 secs]    \r"
     ]
    },
    {
     "name": "stderr",
     "output_type": "stream",
     "text": [
      "\r",
      "919it [1:26:48,  1.88s/it]"
     ]
    },
    {
     "name": "stdout",
     "output_type": "stream",
     "text": [
      "\n"
     ]
    },
    {
     "name": "stderr",
     "output_type": "stream",
     "text": [
      "ERROR: Video unavailable\n",
      "920it [1:26:49,  1.46s/it]ERROR: Private video\n",
      "Sign in if you've been granted access to this video\n",
      "921it [1:26:49,  1.19s/it]"
     ]
    },
    {
     "name": "stdout",
     "output_type": "stream",
     "text": [
      "  3,545,113.0 Bytes [100.00%] received. Rate: [18095 KB/s].  ETA: [0 secs]    \r"
     ]
    },
    {
     "name": "stderr",
     "output_type": "stream",
     "text": [
      "\r",
      "922it [1:26:51,  1.30s/it]"
     ]
    },
    {
     "name": "stdout",
     "output_type": "stream",
     "text": [
      "\n",
      "  4,580,468.0 Bytes [100.00%] received. Rate: [22155 KB/s].  ETA: [0 secs]    \r"
     ]
    },
    {
     "name": "stderr",
     "output_type": "stream",
     "text": [
      "\r",
      "923it [1:26:52,  1.25s/it]"
     ]
    },
    {
     "name": "stdout",
     "output_type": "stream",
     "text": [
      "\n",
      "  2,427,247.0 Bytes [100.00%] received. Rate: [17394 KB/s].  ETA: [0 secs]    \r"
     ]
    },
    {
     "name": "stderr",
     "output_type": "stream",
     "text": [
      "\r",
      "924it [1:26:53,  1.30s/it]"
     ]
    },
    {
     "name": "stdout",
     "output_type": "stream",
     "text": [
      "\n"
     ]
    },
    {
     "name": "stderr",
     "output_type": "stream",
     "text": [
      "ERROR: Video unavailable\n",
      "This video is no longer available because the YouTube account associated with this video has been terminated.\n",
      "925it [1:26:54,  1.06s/it]"
     ]
    },
    {
     "name": "stdout",
     "output_type": "stream",
     "text": [
      "  2,541,781.0 Bytes [100.00%] received. Rate: [11834 KB/s].  ETA: [0 secs]    \r"
     ]
    },
    {
     "name": "stderr",
     "output_type": "stream",
     "text": [
      "\r",
      "926it [1:26:56,  1.33s/it]"
     ]
    },
    {
     "name": "stdout",
     "output_type": "stream",
     "text": [
      "\n",
      "  274,681.0 Bytes [100.00%] received. Rate: [2126 KB/s].  ETA: [0 secs]    \r"
     ]
    },
    {
     "name": "stderr",
     "output_type": "stream",
     "text": [
      "\r",
      "927it [1:26:57,  1.38s/it]"
     ]
    },
    {
     "name": "stdout",
     "output_type": "stream",
     "text": [
      "\n",
      "  1,618,918.0 Bytes [100.00%] received. Rate: [14934 KB/s].  ETA: [0 secs]    \r"
     ]
    },
    {
     "name": "stderr",
     "output_type": "stream",
     "text": [
      "\r",
      "928it [1:26:58,  1.34s/it]"
     ]
    },
    {
     "name": "stdout",
     "output_type": "stream",
     "text": [
      "\n",
      "  2,232,642.0 Bytes [100.00%] received. Rate: [18384 KB/s].  ETA: [0 secs]    \r"
     ]
    },
    {
     "name": "stderr",
     "output_type": "stream",
     "text": [
      "\r",
      "929it [1:27:00,  1.39s/it]"
     ]
    },
    {
     "name": "stdout",
     "output_type": "stream",
     "text": [
      "\n"
     ]
    },
    {
     "name": "stderr",
     "output_type": "stream",
     "text": [
      "ERROR: No video formats found; please report this issue on https://yt-dl.org/bug . Make sure you are using the latest version; see  https://yt-dl.org/update  on how to update. Be sure to call youtube-dl with the --verbose flag and include its complete output.\n",
      "930it [1:27:01,  1.20s/it]"
     ]
    },
    {
     "name": "stdout",
     "output_type": "stream",
     "text": [
      "  985,575.0 Bytes [100.00%] received. Rate: [10182 KB/s].  ETA: [0 secs]    \r"
     ]
    },
    {
     "name": "stderr",
     "output_type": "stream",
     "text": [
      "\r",
      "931it [1:27:02,  1.18s/it]"
     ]
    },
    {
     "name": "stdout",
     "output_type": "stream",
     "text": [
      "\n",
      "  8,566,138.0 Bytes [100.00%] received. Rate: [21623 KB/s].  ETA: [0 secs]    \r"
     ]
    },
    {
     "name": "stderr",
     "output_type": "stream",
     "text": [
      "\r",
      "932it [1:27:04,  1.46s/it]"
     ]
    },
    {
     "name": "stdout",
     "output_type": "stream",
     "text": [
      "\n",
      "  2,144,344.0 Bytes [100.00%] received. Rate: [6908 KB/s].  ETA: [0 secs]    \r"
     ]
    },
    {
     "name": "stderr",
     "output_type": "stream",
     "text": [
      "\r",
      "933it [1:27:06,  1.64s/it]"
     ]
    },
    {
     "name": "stdout",
     "output_type": "stream",
     "text": [
      "\n",
      "  2,633,307.0 Bytes [100.00%] received. Rate: [13273 KB/s].  ETA: [0 secs]    \r"
     ]
    },
    {
     "name": "stderr",
     "output_type": "stream",
     "text": [
      "\r",
      "934it [1:27:08,  1.86s/it]"
     ]
    },
    {
     "name": "stdout",
     "output_type": "stream",
     "text": [
      "\n",
      "  2,663,605.0 Bytes [100.00%] received. Rate: [18809 KB/s].  ETA: [0 secs]    \r"
     ]
    },
    {
     "name": "stderr",
     "output_type": "stream",
     "text": [
      "\r",
      "935it [1:27:10,  1.81s/it]"
     ]
    },
    {
     "name": "stdout",
     "output_type": "stream",
     "text": [
      "\n"
     ]
    },
    {
     "name": "stderr",
     "output_type": "stream",
     "text": [
      "ERROR: Video unavailable\n",
      "936it [1:27:11,  1.41s/it]"
     ]
    },
    {
     "name": "stdout",
     "output_type": "stream",
     "text": [
      "  333,346.0 Bytes [100.00%] received. Rate: [2597 KB/s].  ETA: [0 secs]    \r"
     ]
    },
    {
     "name": "stderr",
     "output_type": "stream",
     "text": [
      "\r",
      "937it [1:27:12,  1.46s/it]"
     ]
    },
    {
     "name": "stdout",
     "output_type": "stream",
     "text": [
      "\n",
      "  2,620,488.0 Bytes [100.00%] received. Rate: [18197 KB/s].  ETA: [0 secs]    \r"
     ]
    },
    {
     "name": "stderr",
     "output_type": "stream",
     "text": [
      "\r",
      "938it [1:27:14,  1.51s/it]"
     ]
    },
    {
     "name": "stdout",
     "output_type": "stream",
     "text": [
      "\n"
     ]
    },
    {
     "name": "stderr",
     "output_type": "stream",
     "text": [
      "ERROR: Private video\n",
      "Sign in if you've been granted access to this video\n",
      "939it [1:27:14,  1.20s/it]"
     ]
    },
    {
     "name": "stdout",
     "output_type": "stream",
     "text": [
      "  4,632,678.0 Bytes [100.00%] received. Rate: [22015 KB/s].  ETA: [0 secs]    \r"
     ]
    },
    {
     "name": "stderr",
     "output_type": "stream",
     "text": [
      "\r",
      "940it [1:27:16,  1.28s/it]"
     ]
    },
    {
     "name": "stdout",
     "output_type": "stream",
     "text": [
      "\n",
      "  10,406,155.0 Bytes [100.00%] received. Rate: [25223 KB/s].  ETA: [0 secs]    \r"
     ]
    },
    {
     "name": "stderr",
     "output_type": "stream",
     "text": [
      "\r",
      "941it [1:27:18,  1.50s/it]"
     ]
    },
    {
     "name": "stdout",
     "output_type": "stream",
     "text": [
      "\n",
      "  429,691.0 Bytes [100.00%] received. Rate: [5969 KB/s].  ETA: [0 secs]    \r"
     ]
    },
    {
     "name": "stderr",
     "output_type": "stream",
     "text": [
      "\r",
      "942it [1:27:19,  1.40s/it]"
     ]
    },
    {
     "name": "stdout",
     "output_type": "stream",
     "text": [
      "\n",
      "  2,395,217.0 Bytes [100.00%] received. Rate: [18689 KB/s].  ETA: [0 secs]    \r"
     ]
    },
    {
     "name": "stderr",
     "output_type": "stream",
     "text": [
      "\r",
      "943it [1:27:20,  1.40s/it]"
     ]
    },
    {
     "name": "stdout",
     "output_type": "stream",
     "text": [
      "\n",
      "  449,813.0 Bytes [100.00%] received. Rate: [5179 KB/s].  ETA: [0 secs]    \r"
     ]
    },
    {
     "name": "stderr",
     "output_type": "stream",
     "text": [
      "\r",
      "944it [1:27:22,  1.50s/it]"
     ]
    },
    {
     "name": "stdout",
     "output_type": "stream",
     "text": [
      "\n"
     ]
    },
    {
     "name": "stderr",
     "output_type": "stream",
     "text": [
      "ERROR: Video unavailable\n",
      "945it [1:27:22,  1.17s/it]"
     ]
    },
    {
     "name": "stdout",
     "output_type": "stream",
     "text": [
      "  1,992,284.0 Bytes [100.00%] received. Rate: [6751 KB/s].  ETA: [0 secs]    \r"
     ]
    },
    {
     "name": "stderr",
     "output_type": "stream",
     "text": [
      "\r",
      "946it [1:27:24,  1.31s/it]"
     ]
    },
    {
     "name": "stdout",
     "output_type": "stream",
     "text": [
      "\n"
     ]
    },
    {
     "name": "stderr",
     "output_type": "stream",
     "text": [
      "ERROR: Video unavailable\n",
      "This video is no longer available because the YouTube account associated with this video has been terminated.\n",
      "948it [1:27:26,  1.21s/it]"
     ]
    },
    {
     "name": "stdout",
     "output_type": "stream",
     "text": [
      "  4,098,691.0 Bytes [100.00%] received. Rate: [24312 KB/s].  ETA: [0 secs]    \r"
     ]
    },
    {
     "name": "stderr",
     "output_type": "stream",
     "text": [
      "\r",
      "949it [1:27:28,  1.39s/it]"
     ]
    },
    {
     "name": "stdout",
     "output_type": "stream",
     "text": [
      "\n"
     ]
    },
    {
     "name": "stderr",
     "output_type": "stream",
     "text": [
      "ERROR: Video unavailable\n",
      "950it [1:27:28,  1.10s/it]"
     ]
    },
    {
     "name": "stdout",
     "output_type": "stream",
     "text": [
      "  1,194,816.0 Bytes [100.00%] received. Rate: [9522 KB/s].  ETA: [0 secs]    \r"
     ]
    },
    {
     "name": "stderr",
     "output_type": "stream",
     "text": [
      "\r",
      "951it [1:27:30,  1.15s/it]"
     ]
    },
    {
     "name": "stdout",
     "output_type": "stream",
     "text": [
      "\n",
      "  2,379,583.0 Bytes [100.00%] received. Rate: [8819 KB/s].  ETA: [0 secs]    \r"
     ]
    },
    {
     "name": "stderr",
     "output_type": "stream",
     "text": [
      "\r",
      "952it [1:27:31,  1.27s/it]"
     ]
    },
    {
     "name": "stdout",
     "output_type": "stream",
     "text": [
      "\n",
      "  29,231,341.0 Bytes [100.00%] received. Rate: [  49 KB/s].  ETA: [0 secs]      \r"
     ]
    },
    {
     "name": "stderr",
     "output_type": "stream",
     "text": [
      "\r",
      "953it [1:37:19, 177.21s/it]"
     ]
    },
    {
     "name": "stdout",
     "output_type": "stream",
     "text": [
      "\n",
      "  6,732,390.0 Bytes [100.00%] received. Rate: [17222 KB/s].  ETA: [0 secs]    \r"
     ]
    },
    {
     "name": "stderr",
     "output_type": "stream",
     "text": [
      "\r",
      "954it [1:37:21, 124.72s/it]"
     ]
    },
    {
     "name": "stdout",
     "output_type": "stream",
     "text": [
      "\n",
      "  2,421,874.0 Bytes [100.00%] received. Rate: [14565 KB/s].  ETA: [0 secs]    \r"
     ]
    },
    {
     "name": "stderr",
     "output_type": "stream",
     "text": [
      "\r",
      "955it [1:37:23, 87.84s/it] "
     ]
    },
    {
     "name": "stdout",
     "output_type": "stream",
     "text": [
      "\n",
      "  10,783,313.0 Bytes [100.00%] received. Rate: [8066 KB/s].  ETA: [0 secs]    \r"
     ]
    },
    {
     "name": "stderr",
     "output_type": "stream",
     "text": [
      "\r",
      "956it [1:37:25, 62.23s/it]"
     ]
    },
    {
     "name": "stdout",
     "output_type": "stream",
     "text": [
      "\n",
      "  771,024.0 Bytes [100.00%] received. Rate: [11302 KB/s].  ETA: [0 secs]    \r"
     ]
    },
    {
     "name": "stderr",
     "output_type": "stream",
     "text": [
      "\r",
      "957it [1:37:27, 44.10s/it]"
     ]
    },
    {
     "name": "stdout",
     "output_type": "stream",
     "text": [
      "\n",
      "  6,342,615.0 Bytes [100.00%] received. Rate: [24633 KB/s].  ETA: [0 secs]    \r"
     ]
    },
    {
     "name": "stderr",
     "output_type": "stream",
     "text": [
      "\r",
      "958it [1:37:29, 31.45s/it]"
     ]
    },
    {
     "name": "stdout",
     "output_type": "stream",
     "text": [
      "\n",
      "  665,783.0 Bytes [100.00%] received. Rate: [4508 KB/s].  ETA: [0 secs]    \r"
     ]
    },
    {
     "name": "stderr",
     "output_type": "stream",
     "text": [
      "\r",
      "959it [1:37:31, 22.57s/it]"
     ]
    },
    {
     "name": "stdout",
     "output_type": "stream",
     "text": [
      "\n",
      "  887,518.0 Bytes [100.00%] received. Rate: [3909 KB/s].  ETA: [0 secs]    \r"
     ]
    },
    {
     "name": "stderr",
     "output_type": "stream",
     "text": [
      "\r",
      "960it [1:37:33, 16.47s/it]"
     ]
    },
    {
     "name": "stdout",
     "output_type": "stream",
     "text": [
      "\n"
     ]
    },
    {
     "name": "stderr",
     "output_type": "stream",
     "text": [
      "ERROR: Video unavailable\n",
      "961it [1:37:34, 11.68s/it]"
     ]
    },
    {
     "name": "stdout",
     "output_type": "stream",
     "text": [
      "  1,330,988.0 Bytes [100.00%] received. Rate: [  85 KB/s].  ETA: [0 secs]    \r"
     ]
    },
    {
     "name": "stderr",
     "output_type": "stream",
     "text": [
      "\r",
      "962it [1:37:51, 13.28s/it]"
     ]
    },
    {
     "name": "stdout",
     "output_type": "stream",
     "text": [
      "\n",
      "  12,676,468.0 Bytes [100.00%] received. Rate: [39649 KB/s].  ETA: [0 secs]    \r"
     ]
    },
    {
     "name": "stderr",
     "output_type": "stream",
     "text": [
      "\r",
      "963it [1:37:54, 10.14s/it]"
     ]
    },
    {
     "name": "stdout",
     "output_type": "stream",
     "text": [
      "\n",
      "  1,565,894.0 Bytes [100.00%] received. Rate: [6200 KB/s].  ETA: [0 secs]    \r"
     ]
    },
    {
     "name": "stderr",
     "output_type": "stream",
     "text": [
      "\r",
      "964it [1:37:55,  7.56s/it]"
     ]
    },
    {
     "name": "stdout",
     "output_type": "stream",
     "text": [
      "\n",
      "  12,099,802.0 Bytes [100.00%] received. Rate: [13350 KB/s].  ETA: [0 secs]    \r"
     ]
    },
    {
     "name": "stderr",
     "output_type": "stream",
     "text": [
      "\r",
      "965it [1:37:58,  6.27s/it]"
     ]
    },
    {
     "name": "stdout",
     "output_type": "stream",
     "text": [
      "\n",
      "  3,397,910.0 Bytes [100.00%] received. Rate: [13090 KB/s].  ETA: [0 secs]    \r"
     ]
    },
    {
     "name": "stderr",
     "output_type": "stream",
     "text": [
      "\r",
      "966it [1:38:00,  4.93s/it]"
     ]
    },
    {
     "name": "stdout",
     "output_type": "stream",
     "text": [
      "\n",
      "  2,798,325.0 Bytes [100.00%] received. Rate: [12104 KB/s].  ETA: [0 secs]    \r"
     ]
    },
    {
     "name": "stderr",
     "output_type": "stream",
     "text": [
      "\r",
      "967it [1:38:02,  3.95s/it]"
     ]
    },
    {
     "name": "stdout",
     "output_type": "stream",
     "text": [
      "\n"
     ]
    },
    {
     "name": "stderr",
     "output_type": "stream",
     "text": [
      "ERROR: Private video\n",
      "Sign in if you've been granted access to this video\n",
      "968it [1:38:02,  2.94s/it]"
     ]
    },
    {
     "name": "stdout",
     "output_type": "stream",
     "text": [
      "  5,990,522.0 Bytes [100.00%] received. Rate: [10286 KB/s].  ETA: [0 secs]    \r"
     ]
    },
    {
     "name": "stderr",
     "output_type": "stream",
     "text": [
      "\r",
      "969it [1:38:04,  2.63s/it]"
     ]
    },
    {
     "name": "stdout",
     "output_type": "stream",
     "text": [
      "\n",
      "  15,023,265.0 Bytes [100.00%] received. Rate: [20330 KB/s].  ETA: [0 secs]    \r"
     ]
    },
    {
     "name": "stderr",
     "output_type": "stream",
     "text": [
      "\r",
      "970it [1:38:07,  2.57s/it]"
     ]
    },
    {
     "name": "stdout",
     "output_type": "stream",
     "text": [
      "\n",
      "  8,900,949.0 Bytes [100.00%] received. Rate: [6618 KB/s].  ETA: [0 secs]    \r"
     ]
    },
    {
     "name": "stderr",
     "output_type": "stream",
     "text": [
      "\r",
      "971it [1:38:09,  2.57s/it]"
     ]
    },
    {
     "name": "stdout",
     "output_type": "stream",
     "text": [
      "\n",
      "  23,071,173.0 Bytes [100.00%] received. Rate: [35005 KB/s].  ETA: [0 secs]    \r"
     ]
    },
    {
     "name": "stderr",
     "output_type": "stream",
     "text": [
      "\r",
      "972it [1:38:11,  2.44s/it]"
     ]
    },
    {
     "name": "stdout",
     "output_type": "stream",
     "text": [
      "\n",
      "  5,621,258.0 Bytes [100.00%] received. Rate: [27669 KB/s].  ETA: [0 secs]    \r"
     ]
    },
    {
     "name": "stderr",
     "output_type": "stream",
     "text": [
      "\r",
      "973it [1:38:13,  2.17s/it]"
     ]
    },
    {
     "name": "stdout",
     "output_type": "stream",
     "text": [
      "\n"
     ]
    },
    {
     "name": "stderr",
     "output_type": "stream",
     "text": [
      "ERROR: Private video\n",
      "Sign in if you've been granted access to this video\n",
      "974it [1:38:13,  1.68s/it]"
     ]
    },
    {
     "name": "stdout",
     "output_type": "stream",
     "text": [
      "  12,007,920.0 Bytes [100.00%] received. Rate: [13356 KB/s].  ETA: [0 secs]    \r"
     ]
    },
    {
     "name": "stderr",
     "output_type": "stream",
     "text": [
      "\r",
      "975it [1:38:17,  2.13s/it]"
     ]
    },
    {
     "name": "stdout",
     "output_type": "stream",
     "text": [
      "\n",
      "  4,554,038.0 Bytes [100.00%] received. Rate: [13147 KB/s].  ETA: [0 secs]    \r"
     ]
    },
    {
     "name": "stderr",
     "output_type": "stream",
     "text": [
      "\r",
      "976it [1:38:18,  1.93s/it]"
     ]
    },
    {
     "name": "stdout",
     "output_type": "stream",
     "text": [
      "\n",
      "  1,747,175.0 Bytes [100.00%] received. Rate: [9788 KB/s].  ETA: [0 secs]    \r"
     ]
    },
    {
     "name": "stderr",
     "output_type": "stream",
     "text": [
      "\r",
      "977it [1:38:20,  1.81s/it]"
     ]
    },
    {
     "name": "stdout",
     "output_type": "stream",
     "text": [
      "\n",
      "  2,833,040.0 Bytes [100.00%] received. Rate: [13926 KB/s].  ETA: [0 secs]    \r"
     ]
    },
    {
     "name": "stderr",
     "output_type": "stream",
     "text": [
      "\r",
      "978it [1:38:21,  1.64s/it]"
     ]
    },
    {
     "name": "stdout",
     "output_type": "stream",
     "text": [
      "\n",
      "  11,739,669.0 Bytes [100.00%] received. Rate: [92818 KB/s].  ETA: [0 secs]    \r"
     ]
    },
    {
     "name": "stderr",
     "output_type": "stream",
     "text": [
      "\r",
      "979it [1:38:23,  1.73s/it]"
     ]
    },
    {
     "name": "stdout",
     "output_type": "stream",
     "text": [
      "\n",
      "  7,364,385.0 Bytes [100.00%] received. Rate: [16815 KB/s].  ETA: [0 secs]    \r"
     ]
    },
    {
     "name": "stderr",
     "output_type": "stream",
     "text": [
      "\r",
      "980it [1:38:25,  1.87s/it]"
     ]
    },
    {
     "name": "stdout",
     "output_type": "stream",
     "text": [
      "\n",
      "  1,962,971.0 Bytes [100.00%] received. Rate: [9434 KB/s].  ETA: [0 secs]    \r"
     ]
    },
    {
     "name": "stderr",
     "output_type": "stream",
     "text": [
      "\r",
      "981it [1:38:26,  1.67s/it]"
     ]
    },
    {
     "name": "stdout",
     "output_type": "stream",
     "text": [
      "\n",
      "  9,469,839.0 Bytes [100.00%] received. Rate: [24037 KB/s].  ETA: [0 secs]    \r"
     ]
    },
    {
     "name": "stderr",
     "output_type": "stream",
     "text": [
      "\r",
      "982it [1:38:28,  1.62s/it]"
     ]
    },
    {
     "name": "stdout",
     "output_type": "stream",
     "text": [
      "\n",
      "  14,346,215.0 Bytes [100.00%] received. Rate: [9205 KB/s].  ETA: [0 secs]    \r"
     ]
    },
    {
     "name": "stderr",
     "output_type": "stream",
     "text": [
      "\r",
      "983it [1:38:32,  2.29s/it]"
     ]
    },
    {
     "name": "stdout",
     "output_type": "stream",
     "text": [
      "\n",
      "  4,764,515.0 Bytes [100.00%] received. Rate: [13999 KB/s].  ETA: [0 secs]    \r"
     ]
    },
    {
     "name": "stderr",
     "output_type": "stream",
     "text": [
      "\r",
      "984it [1:38:33,  2.09s/it]"
     ]
    },
    {
     "name": "stdout",
     "output_type": "stream",
     "text": [
      "\n",
      "  26,045,777.0 Bytes [100.00%] received. Rate: [14898 KB/s].  ETA: [0 secs]    \r"
     ]
    },
    {
     "name": "stderr",
     "output_type": "stream",
     "text": [
      "\r",
      "985it [1:38:38,  2.75s/it]"
     ]
    },
    {
     "name": "stdout",
     "output_type": "stream",
     "text": [
      "\n",
      "  319,478.0 Bytes [100.00%] received. Rate: [1812 KB/s].  ETA: [0 secs]    \r"
     ]
    },
    {
     "name": "stderr",
     "output_type": "stream",
     "text": [
      "\r",
      "986it [1:38:39,  2.45s/it]"
     ]
    },
    {
     "name": "stdout",
     "output_type": "stream",
     "text": [
      "\n",
      "  11,591,729.0 Bytes [100.00%] received. Rate: [49054 KB/s].  ETA: [0 secs]    \r"
     ]
    },
    {
     "name": "stderr",
     "output_type": "stream",
     "text": [
      "\r",
      "987it [1:38:41,  2.35s/it]"
     ]
    },
    {
     "name": "stdout",
     "output_type": "stream",
     "text": [
      "\n",
      "  1,648,031.0 Bytes [100.00%] received. Rate: [15638 KB/s].  ETA: [0 secs]    \r"
     ]
    },
    {
     "name": "stderr",
     "output_type": "stream",
     "text": [
      "\r",
      "988it [1:38:43,  2.07s/it]"
     ]
    },
    {
     "name": "stdout",
     "output_type": "stream",
     "text": [
      "\n",
      "  1,118,304.0 Bytes [100.00%] received. Rate: [10478 KB/s].  ETA: [0 secs]    \r"
     ]
    },
    {
     "name": "stderr",
     "output_type": "stream",
     "text": [
      "\r",
      "989it [1:38:45,  2.04s/it]"
     ]
    },
    {
     "name": "stdout",
     "output_type": "stream",
     "text": [
      "\n",
      "  2,268,329.0 Bytes [100.00%] received. Rate: [7934 KB/s].  ETA: [0 secs]    \r"
     ]
    },
    {
     "name": "stderr",
     "output_type": "stream",
     "text": [
      "\r",
      "990it [1:38:46,  1.94s/it]"
     ]
    },
    {
     "name": "stdout",
     "output_type": "stream",
     "text": [
      "\n",
      "  635,023.0 Bytes [100.00%] received. Rate: [5170 KB/s].  ETA: [0 secs]    \r"
     ]
    },
    {
     "name": "stderr",
     "output_type": "stream",
     "text": [
      "\r",
      "991it [1:38:48,  1.82s/it]"
     ]
    },
    {
     "name": "stdout",
     "output_type": "stream",
     "text": [
      "\n",
      "  20,924,982.0 Bytes [100.00%] received. Rate: [65323 KB/s].  ETA: [0 secs]    \r"
     ]
    },
    {
     "name": "stderr",
     "output_type": "stream",
     "text": [
      "\r",
      "992it [1:38:51,  2.17s/it]"
     ]
    },
    {
     "name": "stdout",
     "output_type": "stream",
     "text": [
      "\n",
      "  116,223.0 Bytes [100.00%] received. Rate: [1217 KB/s].  ETA: [0 secs]    \r"
     ]
    },
    {
     "name": "stderr",
     "output_type": "stream",
     "text": [
      "\r",
      "993it [1:38:52,  1.96s/it]"
     ]
    },
    {
     "name": "stdout",
     "output_type": "stream",
     "text": [
      "\n",
      "  3,036,883.0 Bytes [100.00%] received. Rate: [11022 KB/s].  ETA: [0 secs]    \r"
     ]
    },
    {
     "name": "stderr",
     "output_type": "stream",
     "text": [
      "\r",
      "994it [1:38:54,  1.75s/it]"
     ]
    },
    {
     "name": "stdout",
     "output_type": "stream",
     "text": [
      "\n"
     ]
    },
    {
     "name": "stderr",
     "output_type": "stream",
     "text": [
      "ERROR: Video unavailable\n",
      "This video is no longer available because the YouTube account associated with this video has been terminated.\n",
      "995it [1:38:54,  1.34s/it]"
     ]
    },
    {
     "name": "stdout",
     "output_type": "stream",
     "text": [
      "  1,070,177.0 Bytes [100.00%] received. Rate: [6797 KB/s].  ETA: [0 secs]    \r"
     ]
    },
    {
     "name": "stderr",
     "output_type": "stream",
     "text": [
      "\r",
      "996it [1:38:56,  1.45s/it]"
     ]
    },
    {
     "name": "stdout",
     "output_type": "stream",
     "text": [
      "\n"
     ]
    },
    {
     "name": "stderr",
     "output_type": "stream",
     "text": [
      "ERROR: Private video\n",
      "Sign in if you've been granted access to this video\n",
      "997it [1:38:56,  1.18s/it]ERROR: Video unavailable\n",
      "998it [1:38:57,  1.02it/s]"
     ]
    },
    {
     "name": "stdout",
     "output_type": "stream",
     "text": [
      "  2,317,899.0 Bytes [100.00%] received. Rate: [3144 KB/s].  ETA: [0 secs]    \r"
     ]
    },
    {
     "name": "stderr",
     "output_type": "stream",
     "text": [
      "\r",
      "999it [1:38:59,  1.42s/it]"
     ]
    },
    {
     "name": "stdout",
     "output_type": "stream",
     "text": [
      "\n",
      "  2,454,217.0 Bytes [100.00%] received. Rate: [4173 KB/s].  ETA: [0 secs]    \r"
     ]
    },
    {
     "name": "stderr",
     "output_type": "stream",
     "text": [
      "\r",
      "1000it [1:39:02,  1.80s/it]"
     ]
    },
    {
     "name": "stdout",
     "output_type": "stream",
     "text": [
      "\n",
      "  977,753.0 Bytes [100.00%] received. Rate: [2156 KB/s].  ETA: [0 secs]    \r"
     ]
    },
    {
     "name": "stderr",
     "output_type": "stream",
     "text": [
      "\r",
      "1001it [1:39:03,  1.68s/it]"
     ]
    },
    {
     "name": "stdout",
     "output_type": "stream",
     "text": [
      "\n",
      "  2,892,334.0 Bytes [100.00%] received. Rate: [4468 KB/s].  ETA: [0 secs]    \r"
     ]
    },
    {
     "name": "stderr",
     "output_type": "stream",
     "text": [
      "\r",
      "1002it [1:39:06,  1.87s/it]"
     ]
    },
    {
     "name": "stdout",
     "output_type": "stream",
     "text": [
      "\n",
      "  572,747.0 Bytes [100.00%] received. Rate: [ 935 KB/s].  ETA: [0 secs]    \r"
     ]
    },
    {
     "name": "stderr",
     "output_type": "stream",
     "text": [
      "\r",
      "1003it [1:39:07,  1.84s/it]"
     ]
    },
    {
     "name": "stdout",
     "output_type": "stream",
     "text": [
      "\n",
      "  621,658.0 Bytes [100.00%] received. Rate: [2592 KB/s].  ETA: [0 secs]    \r"
     ]
    },
    {
     "name": "stderr",
     "output_type": "stream",
     "text": [
      "\r",
      "1004it [1:39:09,  1.78s/it]"
     ]
    },
    {
     "name": "stdout",
     "output_type": "stream",
     "text": [
      "\n",
      "  1,715,839.0 Bytes [100.00%] received. Rate: [16795 KB/s].  ETA: [0 secs]    \r"
     ]
    },
    {
     "name": "stderr",
     "output_type": "stream",
     "text": [
      "\r",
      "1005it [1:39:10,  1.61s/it]"
     ]
    },
    {
     "name": "stdout",
     "output_type": "stream",
     "text": [
      "\n",
      "  3,623,164.0 Bytes [100.00%] received. Rate: [20853 KB/s].  ETA: [0 secs]    \r"
     ]
    },
    {
     "name": "stderr",
     "output_type": "stream",
     "text": [
      "\r",
      "1006it [1:39:12,  1.66s/it]"
     ]
    },
    {
     "name": "stdout",
     "output_type": "stream",
     "text": [
      "\n",
      "  4,814,287.0 Bytes [100.00%] received. Rate: [16119 KB/s].  ETA: [0 secs]    \r"
     ]
    },
    {
     "name": "stderr",
     "output_type": "stream",
     "text": [
      "\r",
      "1007it [1:39:14,  1.70s/it]"
     ]
    },
    {
     "name": "stdout",
     "output_type": "stream",
     "text": [
      "\n",
      "  494,578.0 Bytes [100.00%] received. Rate: [6883 KB/s].  ETA: [0 secs]    \r"
     ]
    },
    {
     "name": "stderr",
     "output_type": "stream",
     "text": [
      "\r",
      "1008it [1:39:16,  1.70s/it]"
     ]
    },
    {
     "name": "stdout",
     "output_type": "stream",
     "text": [
      "\n",
      "  79,710.0 Bytes [100.00%] received. Rate: [1008 KB/s].  ETA: [0 secs]    \r"
     ]
    },
    {
     "name": "stderr",
     "output_type": "stream",
     "text": [
      "\r",
      "1009it [1:39:17,  1.63s/it]"
     ]
    },
    {
     "name": "stdout",
     "output_type": "stream",
     "text": [
      "\n",
      "  2,495,954.0 Bytes [100.00%] received. Rate: [9912 KB/s].  ETA: [0 secs]    \r"
     ]
    },
    {
     "name": "stderr",
     "output_type": "stream",
     "text": [
      "\r",
      "1010it [1:39:19,  1.73s/it]"
     ]
    },
    {
     "name": "stdout",
     "output_type": "stream",
     "text": [
      "\n"
     ]
    },
    {
     "name": "stderr",
     "output_type": "stream",
     "text": [
      "ERROR: Video unavailable\n",
      "1011it [1:39:19,  1.32s/it]"
     ]
    },
    {
     "name": "stdout",
     "output_type": "stream",
     "text": [
      "  17,940,637.0 Bytes [100.00%] received. Rate: [22377 KB/s].  ETA: [0 secs]    \r"
     ]
    },
    {
     "name": "stderr",
     "output_type": "stream",
     "text": [
      "\r",
      "1012it [1:39:22,  1.64s/it]"
     ]
    },
    {
     "name": "stdout",
     "output_type": "stream",
     "text": [
      "\n"
     ]
    },
    {
     "name": "stderr",
     "output_type": "stream",
     "text": [
      "ERROR: Video unavailable\n",
      "1013it [1:39:22,  1.25s/it]"
     ]
    },
    {
     "name": "stdout",
     "output_type": "stream",
     "text": [
      "  175,894.0 Bytes [100.00%] received. Rate: [ 227 KB/s].  ETA: [0 secs]    \r"
     ]
    },
    {
     "name": "stderr",
     "output_type": "stream",
     "text": [
      "\r",
      "1014it [1:39:24,  1.41s/it]"
     ]
    },
    {
     "name": "stdout",
     "output_type": "stream",
     "text": [
      "\n",
      "  3,075,577.0 Bytes [100.00%] received. Rate: [9605 KB/s].  ETA: [0 secs]    \r"
     ]
    },
    {
     "name": "stderr",
     "output_type": "stream",
     "text": [
      "\r",
      "1015it [1:39:26,  1.53s/it]"
     ]
    },
    {
     "name": "stdout",
     "output_type": "stream",
     "text": [
      "\n",
      "  1,155,258.0 Bytes [100.00%] received. Rate: [1362 KB/s].  ETA: [0 secs]    \r"
     ]
    },
    {
     "name": "stderr",
     "output_type": "stream",
     "text": [
      "\r",
      "1016it [1:39:28,  1.69s/it]"
     ]
    },
    {
     "name": "stdout",
     "output_type": "stream",
     "text": [
      "\n",
      "  1,058,717.0 Bytes [100.00%] received. Rate: [6229 KB/s].  ETA: [0 secs]    \r"
     ]
    },
    {
     "name": "stderr",
     "output_type": "stream",
     "text": [
      "\r",
      "1017it [1:39:29,  1.63s/it]"
     ]
    },
    {
     "name": "stdout",
     "output_type": "stream",
     "text": [
      "\n",
      "  2,876,601.0 Bytes [100.00%] received. Rate: [20962 KB/s].  ETA: [0 secs]    \r"
     ]
    },
    {
     "name": "stderr",
     "output_type": "stream",
     "text": [
      "\r",
      "1018it [1:39:31,  1.65s/it]"
     ]
    },
    {
     "name": "stdout",
     "output_type": "stream",
     "text": [
      "\n"
     ]
    },
    {
     "name": "stderr",
     "output_type": "stream",
     "text": [
      "ERROR: Video unavailable\n",
      "This video is no longer available because the YouTube account associated with this video has been terminated.\n",
      "1019it [1:39:31,  1.29s/it]ERROR: Video unavailable\n",
      "This video is no longer available because the YouTube account associated with this video has been terminated.\n",
      "1020it [1:39:32,  1.05s/it]"
     ]
    },
    {
     "name": "stdout",
     "output_type": "stream",
     "text": [
      "  499,442.0 Bytes [100.00%] received. Rate: [6550 KB/s].  ETA: [0 secs]    \r"
     ]
    },
    {
     "name": "stderr",
     "output_type": "stream",
     "text": [
      "\r",
      "1021it [1:39:33,  1.14s/it]"
     ]
    },
    {
     "name": "stdout",
     "output_type": "stream",
     "text": [
      "\n"
     ]
    },
    {
     "name": "stderr",
     "output_type": "stream",
     "text": [
      "ERROR: Video unavailable\n",
      "1022it [1:39:34,  1.03it/s]"
     ]
    },
    {
     "name": "stdout",
     "output_type": "stream",
     "text": [
      "  2,235,761.0 Bytes [100.00%] received. Rate: [3260 KB/s].  ETA: [0 secs]    \r"
     ]
    },
    {
     "name": "stderr",
     "output_type": "stream",
     "text": [
      "\r",
      "1023it [1:39:36,  1.46s/it]"
     ]
    },
    {
     "name": "stdout",
     "output_type": "stream",
     "text": [
      "\n",
      "  496,587.0 Bytes [100.00%] received. Rate: [5309 KB/s].  ETA: [0 secs]    \r"
     ]
    },
    {
     "name": "stderr",
     "output_type": "stream",
     "text": [
      "\r",
      "1024it [1:39:38,  1.45s/it]"
     ]
    },
    {
     "name": "stdout",
     "output_type": "stream",
     "text": [
      "\n",
      "  1,154,060.0 Bytes [100.00%] received. Rate: [10229 KB/s].  ETA: [0 secs]    \r"
     ]
    },
    {
     "name": "stderr",
     "output_type": "stream",
     "text": [
      "\r",
      "1025it [1:39:39,  1.45s/it]"
     ]
    },
    {
     "name": "stdout",
     "output_type": "stream",
     "text": [
      "\n",
      "  1,348,320.0 Bytes [100.00%] received. Rate: [6612 KB/s].  ETA: [0 secs]    \r"
     ]
    },
    {
     "name": "stderr",
     "output_type": "stream",
     "text": [
      "\r",
      "1026it [1:39:41,  1.39s/it]"
     ]
    },
    {
     "name": "stdout",
     "output_type": "stream",
     "text": [
      "\n",
      "  2,673,887.0 Bytes [100.00%] received. Rate: [7960 KB/s].  ETA: [0 secs]    \r"
     ]
    },
    {
     "name": "stderr",
     "output_type": "stream",
     "text": [
      "\r",
      "1027it [1:39:42,  1.50s/it]"
     ]
    },
    {
     "name": "stdout",
     "output_type": "stream",
     "text": [
      "\n"
     ]
    },
    {
     "name": "stderr",
     "output_type": "stream",
     "text": [
      "ERROR: Video unavailable\n",
      "1028it [1:39:43,  1.19s/it]"
     ]
    },
    {
     "name": "stdout",
     "output_type": "stream",
     "text": [
      "  606,756.0 Bytes [100.00%] received. Rate: [1730 KB/s].  ETA: [0 secs]    \r"
     ]
    },
    {
     "name": "stderr",
     "output_type": "stream",
     "text": [
      "\r",
      "1029it [1:39:45,  1.39s/it]"
     ]
    },
    {
     "name": "stdout",
     "output_type": "stream",
     "text": [
      "\n"
     ]
    },
    {
     "name": "stderr",
     "output_type": "stream",
     "text": [
      "ERROR: This video has been removed for violating YouTube's Terms of Service.\n",
      "1030it [1:39:45,  1.07s/it]"
     ]
    },
    {
     "name": "stdout",
     "output_type": "stream",
     "text": [
      "  3,818,410.0 Bytes [100.00%] received. Rate: [18255 KB/s].  ETA: [0 secs]    \r"
     ]
    },
    {
     "name": "stderr",
     "output_type": "stream",
     "text": [
      "\r",
      "1031it [1:39:47,  1.32s/it]"
     ]
    },
    {
     "name": "stdout",
     "output_type": "stream",
     "text": [
      "\n",
      "  7,647,186.0 Bytes [100.00%] received. Rate: [25839 KB/s].  ETA: [0 secs]    \r"
     ]
    },
    {
     "name": "stderr",
     "output_type": "stream",
     "text": [
      "\r",
      "1032it [1:39:49,  1.42s/it]"
     ]
    },
    {
     "name": "stdout",
     "output_type": "stream",
     "text": [
      "\n",
      "  2,926,215.0 Bytes [100.00%] received. Rate: [21038 KB/s].  ETA: [0 secs]    \r"
     ]
    },
    {
     "name": "stderr",
     "output_type": "stream",
     "text": [
      "\r",
      "1033it [1:39:50,  1.46s/it]"
     ]
    },
    {
     "name": "stdout",
     "output_type": "stream",
     "text": [
      "\n",
      "  10,847,240.0 Bytes [100.00%] received. Rate: [45021 KB/s].  ETA: [0 secs]    \r"
     ]
    },
    {
     "name": "stderr",
     "output_type": "stream",
     "text": [
      "\r",
      "1034it [1:39:52,  1.68s/it]"
     ]
    },
    {
     "name": "stdout",
     "output_type": "stream",
     "text": [
      "\n",
      "  2,996,670.0 Bytes [100.00%] received. Rate: [21569 KB/s].  ETA: [0 secs]    \r"
     ]
    },
    {
     "name": "stderr",
     "output_type": "stream",
     "text": [
      "\r",
      "1035it [1:39:53,  1.53s/it]"
     ]
    },
    {
     "name": "stdout",
     "output_type": "stream",
     "text": [
      "\n",
      "  4,542,553.0 Bytes [100.00%] received. Rate: [13231 KB/s].  ETA: [0 secs]    \r"
     ]
    },
    {
     "name": "stderr",
     "output_type": "stream",
     "text": [
      "\r",
      "1036it [1:39:55,  1.62s/it]"
     ]
    },
    {
     "name": "stdout",
     "output_type": "stream",
     "text": [
      "\n",
      "  886,060.0 Bytes [100.00%] received. Rate: [3956 KB/s].  ETA: [0 secs]    \r"
     ]
    },
    {
     "name": "stderr",
     "output_type": "stream",
     "text": [
      "\r",
      "1037it [1:39:57,  1.57s/it]"
     ]
    },
    {
     "name": "stdout",
     "output_type": "stream",
     "text": [
      "\n",
      "  1,322,033.0 Bytes [100.00%] received. Rate: [15841 KB/s].  ETA: [0 secs]    \r"
     ]
    },
    {
     "name": "stderr",
     "output_type": "stream",
     "text": [
      "\r",
      "1038it [1:39:58,  1.51s/it]"
     ]
    },
    {
     "name": "stdout",
     "output_type": "stream",
     "text": [
      "\n",
      "  9,988,923.0 Bytes [100.00%] received. Rate: [33089 KB/s].  ETA: [0 secs]    \r"
     ]
    },
    {
     "name": "stderr",
     "output_type": "stream",
     "text": [
      "\r",
      "1039it [1:40:01,  1.77s/it]"
     ]
    },
    {
     "name": "stdout",
     "output_type": "stream",
     "text": [
      "\n",
      "  603,711.0 Bytes [100.00%] received. Rate: [3248 KB/s].  ETA: [0 secs]    \r"
     ]
    },
    {
     "name": "stderr",
     "output_type": "stream",
     "text": [
      "\r",
      "1040it [1:40:02,  1.62s/it]"
     ]
    },
    {
     "name": "stdout",
     "output_type": "stream",
     "text": [
      "\n"
     ]
    },
    {
     "name": "stderr",
     "output_type": "stream",
     "text": [
      "ERROR: Video unavailable\n",
      "1041it [1:40:02,  1.31s/it]"
     ]
    },
    {
     "name": "stdout",
     "output_type": "stream",
     "text": [
      "  3,003,989.0 Bytes [100.00%] received. Rate: [21325 KB/s].  ETA: [0 secs]    \r"
     ]
    },
    {
     "name": "stderr",
     "output_type": "stream",
     "text": [
      "\r",
      "1042it [1:40:04,  1.35s/it]"
     ]
    },
    {
     "name": "stdout",
     "output_type": "stream",
     "text": [
      "\n",
      "  5,453,774.0 Bytes [100.00%] received. Rate: [19943 KB/s].  ETA: [0 secs]    \r"
     ]
    },
    {
     "name": "stderr",
     "output_type": "stream",
     "text": [
      "\r",
      "1043it [1:40:05,  1.37s/it]"
     ]
    },
    {
     "name": "stdout",
     "output_type": "stream",
     "text": [
      "\n",
      "  1,699,247.0 Bytes [100.00%] received. Rate: [  52 KB/s].  ETA: [0 secs]    \r"
     ]
    },
    {
     "name": "stderr",
     "output_type": "stream",
     "text": [
      "\r",
      "1044it [1:40:38, 10.92s/it]"
     ]
    },
    {
     "name": "stdout",
     "output_type": "stream",
     "text": [
      "\n",
      "  98,403.0 Bytes [100.00%] received. Rate: [ 604 KB/s].  ETA: [0 secs]    \r"
     ]
    },
    {
     "name": "stderr",
     "output_type": "stream",
     "text": [
      "\r",
      "1045it [1:40:40,  8.02s/it]"
     ]
    },
    {
     "name": "stdout",
     "output_type": "stream",
     "text": [
      "\n"
     ]
    },
    {
     "name": "stderr",
     "output_type": "stream",
     "text": [
      "ERROR: Video unavailable\n",
      "1046it [1:40:40,  5.74s/it]"
     ]
    },
    {
     "name": "stdout",
     "output_type": "stream",
     "text": [
      "  5,043,709.0 Bytes [100.00%] received. Rate: [12444 KB/s].  ETA: [0 secs]    \r"
     ]
    },
    {
     "name": "stderr",
     "output_type": "stream",
     "text": [
      "\r",
      "1047it [1:40:42,  4.60s/it]"
     ]
    },
    {
     "name": "stdout",
     "output_type": "stream",
     "text": [
      "\n",
      "  4,575,823.0 Bytes [100.00%] received. Rate: [17751 KB/s].  ETA: [0 secs]    \r"
     ]
    },
    {
     "name": "stderr",
     "output_type": "stream",
     "text": [
      "\r",
      "1048it [1:40:44,  3.71s/it]"
     ]
    },
    {
     "name": "stdout",
     "output_type": "stream",
     "text": [
      "\n"
     ]
    },
    {
     "name": "stderr",
     "output_type": "stream",
     "text": [
      "ERROR: Private video\n",
      "Sign in if you've been granted access to this video\n",
      "1049it [1:40:44,  2.78s/it]"
     ]
    },
    {
     "name": "stdout",
     "output_type": "stream",
     "text": [
      "  354,468.0 Bytes [100.00%] received. Rate: [1334 KB/s].  ETA: [0 secs]    \r"
     ]
    },
    {
     "name": "stderr",
     "output_type": "stream",
     "text": [
      "\r",
      "1050it [1:40:46,  2.37s/it]"
     ]
    },
    {
     "name": "stdout",
     "output_type": "stream",
     "text": [
      "\n",
      "  3,230,258.0 Bytes [100.00%] received. Rate: [3415 KB/s].  ETA: [0 secs]    \r"
     ]
    },
    {
     "name": "stderr",
     "output_type": "stream",
     "text": [
      "\r",
      "1051it [1:40:48,  2.36s/it]"
     ]
    },
    {
     "name": "stdout",
     "output_type": "stream",
     "text": [
      "\n",
      "  3,877,792.0 Bytes [100.00%] received. Rate: [4597 KB/s].  ETA: [0 secs]    \r"
     ]
    },
    {
     "name": "stderr",
     "output_type": "stream",
     "text": [
      "\r",
      "1052it [1:40:51,  2.44s/it]"
     ]
    },
    {
     "name": "stdout",
     "output_type": "stream",
     "text": [
      "\n",
      "  7,876,635.0 Bytes [100.00%] received. Rate: [ 164 KB/s].  ETA: [0 secs]    \r"
     ]
    },
    {
     "name": "stderr",
     "output_type": "stream",
     "text": [
      "\r",
      "1053it [1:41:39, 16.30s/it]"
     ]
    },
    {
     "name": "stdout",
     "output_type": "stream",
     "text": [
      "\n",
      "  2,994,933.0 Bytes [100.00%] received. Rate: [12174 KB/s].  ETA: [0 secs]    \r"
     ]
    },
    {
     "name": "stderr",
     "output_type": "stream",
     "text": [
      "\r",
      "1054it [1:41:41, 11.88s/it]"
     ]
    },
    {
     "name": "stdout",
     "output_type": "stream",
     "text": [
      "\n",
      "  187,454.0 Bytes [100.00%] received. Rate: [1567 KB/s].  ETA: [0 secs]    \r"
     ]
    },
    {
     "name": "stderr",
     "output_type": "stream",
     "text": [
      "\r",
      "1055it [1:41:43,  8.82s/it]"
     ]
    },
    {
     "name": "stdout",
     "output_type": "stream",
     "text": [
      "\n"
     ]
    },
    {
     "name": "stderr",
     "output_type": "stream",
     "text": [
      "ERROR: Video unavailable\n",
      "1056it [1:41:43,  6.33s/it]"
     ]
    },
    {
     "name": "stdout",
     "output_type": "stream",
     "text": [
      "  1,670,747.0 Bytes [100.00%] received. Rate: [13618 KB/s].  ETA: [0 secs]    \r"
     ]
    },
    {
     "name": "stderr",
     "output_type": "stream",
     "text": [
      "\r",
      "1057it [1:41:44,  4.84s/it]"
     ]
    },
    {
     "name": "stdout",
     "output_type": "stream",
     "text": [
      "\n"
     ]
    },
    {
     "name": "stderr",
     "output_type": "stream",
     "text": [
      "ERROR: Private video\n",
      "Sign in if you've been granted access to this video\n",
      "1058it [1:41:45,  3.55s/it]"
     ]
    },
    {
     "name": "stdout",
     "output_type": "stream",
     "text": [
      "  2,687,190.0 Bytes [100.00%] received. Rate: [3630 KB/s].  ETA: [0 secs]    \r"
     ]
    },
    {
     "name": "stderr",
     "output_type": "stream",
     "text": [
      "\r",
      "1059it [1:41:47,  3.21s/it]"
     ]
    },
    {
     "name": "stdout",
     "output_type": "stream",
     "text": [
      "\n",
      "  7,915,340.0 Bytes [100.00%] received. Rate: [8301 KB/s].  ETA: [0 secs]    \r"
     ]
    },
    {
     "name": "stderr",
     "output_type": "stream",
     "text": [
      "\r",
      "1060it [1:41:51,  3.19s/it]"
     ]
    },
    {
     "name": "stdout",
     "output_type": "stream",
     "text": [
      "\n",
      "  4,510,494.0 Bytes [100.00%] received. Rate: [16268 KB/s].  ETA: [0 secs]    \r"
     ]
    },
    {
     "name": "stderr",
     "output_type": "stream",
     "text": [
      "\r",
      "1061it [1:41:52,  2.78s/it]"
     ]
    },
    {
     "name": "stdout",
     "output_type": "stream",
     "text": [
      "\n",
      "  992,814.0 Bytes [100.00%] received. Rate: [2443 KB/s].  ETA: [0 secs]    \r"
     ]
    },
    {
     "name": "stderr",
     "output_type": "stream",
     "text": [
      "\r",
      "1062it [1:41:55,  2.86s/it]"
     ]
    },
    {
     "name": "stdout",
     "output_type": "stream",
     "text": [
      "\n",
      "  1,576,504.0 Bytes [100.00%] received. Rate: [3930 KB/s].  ETA: [0 secs]    \r"
     ]
    },
    {
     "name": "stderr",
     "output_type": "stream",
     "text": [
      "\r",
      "1063it [1:41:57,  2.64s/it]"
     ]
    },
    {
     "name": "stdout",
     "output_type": "stream",
     "text": [
      "\n",
      "  248,084.0 Bytes [100.00%] received. Rate: [ 896 KB/s].  ETA: [0 secs]    \r"
     ]
    },
    {
     "name": "stderr",
     "output_type": "stream",
     "text": [
      "\r",
      "1064it [1:41:59,  2.42s/it]"
     ]
    },
    {
     "name": "stdout",
     "output_type": "stream",
     "text": [
      "\n",
      "  1,466,976.0 Bytes [100.00%] received. Rate: [16835 KB/s].  ETA: [0 secs]    \r"
     ]
    },
    {
     "name": "stderr",
     "output_type": "stream",
     "text": [
      "\r",
      "1065it [1:42:01,  2.13s/it]"
     ]
    },
    {
     "name": "stdout",
     "output_type": "stream",
     "text": [
      "\n",
      "  674,452.0 Bytes [100.00%] received. Rate: [ 397 KB/s].  ETA: [0 secs]    \r"
     ]
    },
    {
     "name": "stderr",
     "output_type": "stream",
     "text": [
      "\r",
      "1066it [1:42:04,  2.52s/it]"
     ]
    },
    {
     "name": "stdout",
     "output_type": "stream",
     "text": [
      "\n",
      "  10,094,164.0 Bytes [100.00%] received. Rate: [  29 KB/s].  ETA: [0 secs]    \r"
     ]
    },
    {
     "name": "stderr",
     "output_type": "stream",
     "text": [
      "\r",
      "1067it [1:47:45, 103.84s/it]"
     ]
    },
    {
     "name": "stdout",
     "output_type": "stream",
     "text": [
      "\n",
      "  33,423,762.0 Bytes [100.00%] received. Rate: [17989 KB/s].  ETA: [0 secs]    \r"
     ]
    },
    {
     "name": "stderr",
     "output_type": "stream",
     "text": [
      "\r",
      "1068it [1:47:58, 76.60s/it] "
     ]
    },
    {
     "name": "stdout",
     "output_type": "stream",
     "text": [
      "\n",
      "  6,014,248.0 Bytes [100.00%] received. Rate: [24865 KB/s].  ETA: [0 secs]    \r"
     ]
    },
    {
     "name": "stderr",
     "output_type": "stream",
     "text": [
      "\r",
      "1069it [1:48:00, 54.20s/it]"
     ]
    },
    {
     "name": "stdout",
     "output_type": "stream",
     "text": [
      "\n",
      "  2,120,365.0 Bytes [100.00%] received. Rate: [  52 KB/s].  ETA: [0 secs]    \r"
     ]
    },
    {
     "name": "stderr",
     "output_type": "stream",
     "text": [
      "\r",
      "1070it [1:48:41, 50.33s/it]"
     ]
    },
    {
     "name": "stdout",
     "output_type": "stream",
     "text": [
      "\n",
      "  8,850,476.0 Bytes [100.00%] received. Rate: [20569 KB/s].  ETA: [0 secs]    \r"
     ]
    },
    {
     "name": "stderr",
     "output_type": "stream",
     "text": [
      "\r",
      "1071it [1:48:43, 35.73s/it]"
     ]
    },
    {
     "name": "stdout",
     "output_type": "stream",
     "text": [
      "\n",
      "  5,965,242.0 Bytes [100.00%] received. Rate: [19592 KB/s].  ETA: [0 secs]    \r"
     ]
    },
    {
     "name": "stderr",
     "output_type": "stream",
     "text": [
      "\r",
      "1072it [1:48:44, 25.51s/it]"
     ]
    },
    {
     "name": "stdout",
     "output_type": "stream",
     "text": [
      "\n",
      "  3,141,764.0 Bytes [100.00%] received. Rate: [14456 KB/s].  ETA: [0 secs]    \r"
     ]
    },
    {
     "name": "stderr",
     "output_type": "stream",
     "text": [
      "\r",
      "1073it [1:48:46, 18.37s/it]"
     ]
    },
    {
     "name": "stdout",
     "output_type": "stream",
     "text": [
      "\n",
      "  4,510,700.0 Bytes [100.00%] received. Rate: [18990 KB/s].  ETA: [0 secs]    \r"
     ]
    },
    {
     "name": "stderr",
     "output_type": "stream",
     "text": [
      "\r",
      "1074it [1:48:48, 13.38s/it]"
     ]
    },
    {
     "name": "stdout",
     "output_type": "stream",
     "text": [
      "\n",
      "  1,184,836.0 Bytes [100.00%] received. Rate: [13593 KB/s].  ETA: [0 secs]    \r"
     ]
    },
    {
     "name": "stderr",
     "output_type": "stream",
     "text": [
      "\r",
      "1075it [1:48:49,  9.78s/it]"
     ]
    },
    {
     "name": "stdout",
     "output_type": "stream",
     "text": [
      "\n",
      "  14,211,043.0 Bytes [100.00%] received. Rate: [21078 KB/s].  ETA: [0 secs]    \r"
     ]
    },
    {
     "name": "stderr",
     "output_type": "stream",
     "text": [
      "\r",
      "1076it [1:48:51,  7.59s/it]"
     ]
    },
    {
     "name": "stdout",
     "output_type": "stream",
     "text": [
      "\n",
      "  35,376.0 Bytes [100.00%] received. Rate: [ 205 KB/s].  ETA: [0 secs]    \r"
     ]
    },
    {
     "name": "stderr",
     "output_type": "stream",
     "text": [
      "\r",
      "1077it [1:48:53,  5.71s/it]"
     ]
    },
    {
     "name": "stdout",
     "output_type": "stream",
     "text": [
      "\n",
      "  9,720,074.0 Bytes [100.00%] received. Rate: [36076 KB/s].  ETA: [0 secs]    \r"
     ]
    },
    {
     "name": "stderr",
     "output_type": "stream",
     "text": [
      "\r",
      "1078it [1:48:54,  4.40s/it]"
     ]
    },
    {
     "name": "stdout",
     "output_type": "stream",
     "text": [
      "\n",
      "  9,682,878.0 Bytes [100.00%] received. Rate: [19177 KB/s].  ETA: [0 secs]    \r"
     ]
    },
    {
     "name": "stderr",
     "output_type": "stream",
     "text": [
      "\r",
      "1079it [1:48:56,  3.66s/it]"
     ]
    },
    {
     "name": "stdout",
     "output_type": "stream",
     "text": [
      "\n",
      "  9,510,719.0 Bytes [100.00%] received. Rate: [33661 KB/s].  ETA: [0 secs]    \r"
     ]
    },
    {
     "name": "stderr",
     "output_type": "stream",
     "text": [
      "\r",
      "1080it [1:48:58,  3.13s/it]"
     ]
    },
    {
     "name": "stdout",
     "output_type": "stream",
     "text": [
      "\n",
      "  7,700,238.0 Bytes [100.00%] received. Rate: [26693 KB/s].  ETA: [0 secs]    \r"
     ]
    },
    {
     "name": "stderr",
     "output_type": "stream",
     "text": [
      "\r",
      "1081it [1:49:00,  2.80s/it]"
     ]
    },
    {
     "name": "stdout",
     "output_type": "stream",
     "text": [
      "\n",
      "  1,510,166.0 Bytes [100.00%] received. Rate: [10367 KB/s].  ETA: [0 secs]    \r"
     ]
    },
    {
     "name": "stderr",
     "output_type": "stream",
     "text": [
      "\r",
      "1082it [1:49:01,  2.40s/it]"
     ]
    },
    {
     "name": "stdout",
     "output_type": "stream",
     "text": [
      "\n",
      "  10,469,123.0 Bytes [100.00%] received. Rate: [35634 KB/s].  ETA: [0 secs]    \r"
     ]
    },
    {
     "name": "stderr",
     "output_type": "stream",
     "text": [
      "\r",
      "1083it [1:49:03,  2.20s/it]"
     ]
    },
    {
     "name": "stdout",
     "output_type": "stream",
     "text": [
      "\n",
      "  1,197,765.0 Bytes [100.00%] received. Rate: [14861 KB/s].  ETA: [0 secs]    \r"
     ]
    },
    {
     "name": "stderr",
     "output_type": "stream",
     "text": [
      "\r",
      "1084it [1:49:05,  2.02s/it]"
     ]
    },
    {
     "name": "stdout",
     "output_type": "stream",
     "text": [
      "\n",
      "  2,007,754.0 Bytes [100.00%] received. Rate: [11148 KB/s].  ETA: [0 secs]    \r"
     ]
    },
    {
     "name": "stderr",
     "output_type": "stream",
     "text": [
      "\r",
      "1085it [1:49:06,  1.86s/it]"
     ]
    },
    {
     "name": "stdout",
     "output_type": "stream",
     "text": [
      "\n",
      "  1,540,593.0 Bytes [100.00%] received. Rate: [8318 KB/s].  ETA: [0 secs]    \r"
     ]
    },
    {
     "name": "stderr",
     "output_type": "stream",
     "text": [
      "\r",
      "1086it [1:49:08,  1.69s/it]"
     ]
    },
    {
     "name": "stdout",
     "output_type": "stream",
     "text": [
      "\n",
      "  2,836,553.0 Bytes [100.00%] received. Rate: [  57 KB/s].  ETA: [0 secs]    \r"
     ]
    },
    {
     "name": "stderr",
     "output_type": "stream",
     "text": [
      "\r",
      "1087it [1:49:57, 15.99s/it]"
     ]
    },
    {
     "name": "stdout",
     "output_type": "stream",
     "text": [
      "\n",
      "  298,161.0 Bytes [100.00%] received. Rate: [ 800 KB/s].  ETA: [0 secs]    \r"
     ]
    },
    {
     "name": "stderr",
     "output_type": "stream",
     "text": [
      "\r",
      "1088it [1:49:58, 11.58s/it]"
     ]
    },
    {
     "name": "stdout",
     "output_type": "stream",
     "text": [
      "\n",
      "  1,485,026.0 Bytes [100.00%] received. Rate: [9980 KB/s].  ETA: [0 secs]    \r"
     ]
    },
    {
     "name": "stderr",
     "output_type": "stream",
     "text": [
      "\r",
      "1089it [1:50:00,  8.63s/it]"
     ]
    },
    {
     "name": "stdout",
     "output_type": "stream",
     "text": [
      "\n",
      "  4,015,614.0 Bytes [100.00%] received. Rate: [32511 KB/s].  ETA: [0 secs]    \r"
     ]
    },
    {
     "name": "stderr",
     "output_type": "stream",
     "text": [
      "\r",
      "1090it [1:50:01,  6.45s/it]"
     ]
    },
    {
     "name": "stdout",
     "output_type": "stream",
     "text": [
      "\n",
      "  4,194,360.0 Bytes [100.00%] received. Rate: [22791 KB/s].  ETA: [0 secs]    \r"
     ]
    },
    {
     "name": "stderr",
     "output_type": "stream",
     "text": [
      "\r",
      "1091it [1:50:03,  5.10s/it]"
     ]
    },
    {
     "name": "stdout",
     "output_type": "stream",
     "text": [
      "\n"
     ]
    },
    {
     "name": "stderr",
     "output_type": "stream",
     "text": [
      "ERROR: Private video\n",
      "Sign in if you've been granted access to this video\n",
      "1092it [1:50:04,  3.68s/it]"
     ]
    },
    {
     "name": "stdout",
     "output_type": "stream",
     "text": [
      "  266,676.0 Bytes [100.00%] received. Rate: [1662 KB/s].  ETA: [0 secs]    \r"
     ]
    },
    {
     "name": "stderr",
     "output_type": "stream",
     "text": [
      "\r",
      "1093it [1:50:05,  3.08s/it]"
     ]
    },
    {
     "name": "stdout",
     "output_type": "stream",
     "text": [
      "\n",
      "  3,432,528.0 Bytes [100.00%] received. Rate: [16709 KB/s].  ETA: [0 secs]    \r"
     ]
    },
    {
     "name": "stderr",
     "output_type": "stream",
     "text": [
      "\r",
      "1094it [1:50:07,  2.66s/it]"
     ]
    },
    {
     "name": "stdout",
     "output_type": "stream",
     "text": [
      "\n",
      "  1,776,388.0 Bytes [100.00%] received. Rate: [21336 KB/s].  ETA: [0 secs]    \r"
     ]
    },
    {
     "name": "stderr",
     "output_type": "stream",
     "text": [
      "\r",
      "1095it [1:50:09,  2.34s/it]"
     ]
    },
    {
     "name": "stdout",
     "output_type": "stream",
     "text": [
      "\n",
      "  2,242,839.0 Bytes [100.00%] received. Rate: [  61 KB/s].  ETA: [0 secs]    \r"
     ]
    },
    {
     "name": "stderr",
     "output_type": "stream",
     "text": [
      "\r",
      "1096it [1:50:46, 12.86s/it]"
     ]
    },
    {
     "name": "stdout",
     "output_type": "stream",
     "text": [
      "\n",
      "  607,286.0 Bytes [100.00%] received. Rate: [  69 KB/s].  ETA: [0 secs]    \r"
     ]
    },
    {
     "name": "stderr",
     "output_type": "stream",
     "text": [
      "\r",
      "1097it [1:50:56, 11.92s/it]"
     ]
    },
    {
     "name": "stdout",
     "output_type": "stream",
     "text": [
      "\n"
     ]
    },
    {
     "name": "stderr",
     "output_type": "stream",
     "text": [
      "ERROR: This video has been removed for violating YouTube's Community Guidelines.\n",
      "1098it [1:50:56,  8.43s/it]"
     ]
    },
    {
     "name": "stdout",
     "output_type": "stream",
     "text": [
      "  2,914,791.0 Bytes [100.00%] received. Rate: [18936 KB/s].  ETA: [0 secs]    \r"
     ]
    },
    {
     "name": "stderr",
     "output_type": "stream",
     "text": [
      "\r",
      "1099it [1:50:57,  6.31s/it]"
     ]
    },
    {
     "name": "stdout",
     "output_type": "stream",
     "text": [
      "\n",
      "  1,813,240.0 Bytes [100.00%] received. Rate: [12108 KB/s].  ETA: [0 secs]    \r"
     ]
    },
    {
     "name": "stderr",
     "output_type": "stream",
     "text": [
      "\r",
      "1100it [1:50:59,  4.91s/it]"
     ]
    },
    {
     "name": "stdout",
     "output_type": "stream",
     "text": [
      "\n",
      "  6,824,706.0 Bytes [100.00%] received. Rate: [24368 KB/s].  ETA: [0 secs]    \r"
     ]
    },
    {
     "name": "stderr",
     "output_type": "stream",
     "text": [
      "\r",
      "1101it [1:51:01,  3.92s/it]"
     ]
    },
    {
     "name": "stdout",
     "output_type": "stream",
     "text": [
      "\n",
      "  7,624,510.0 Bytes [100.00%] received. Rate: [25202 KB/s].  ETA: [0 secs]    \r"
     ]
    },
    {
     "name": "stderr",
     "output_type": "stream",
     "text": [
      "\r",
      "1102it [1:51:02,  3.27s/it]"
     ]
    },
    {
     "name": "stdout",
     "output_type": "stream",
     "text": [
      "\n",
      "  6,705,857.0 Bytes [100.00%] received. Rate: [36808 KB/s].  ETA: [0 secs]    \r"
     ]
    },
    {
     "name": "stderr",
     "output_type": "stream",
     "text": [
      "\r",
      "1103it [1:51:04,  2.71s/it]"
     ]
    },
    {
     "name": "stdout",
     "output_type": "stream",
     "text": [
      "\n",
      "  5,725,665.0 Bytes [100.00%] received. Rate: [18786 KB/s].  ETA: [0 secs]    \r"
     ]
    },
    {
     "name": "stderr",
     "output_type": "stream",
     "text": [
      "\r",
      "1104it [1:51:06,  2.47s/it]"
     ]
    },
    {
     "name": "stdout",
     "output_type": "stream",
     "text": [
      "\n",
      "  367,749.0 Bytes [100.00%] received. Rate: [4515 KB/s].  ETA: [0 secs]    \r"
     ]
    },
    {
     "name": "stderr",
     "output_type": "stream",
     "text": [
      "\r",
      "1105it [1:51:07,  2.14s/it]"
     ]
    },
    {
     "name": "stdout",
     "output_type": "stream",
     "text": [
      "\n",
      "  1,929,486.0 Bytes [100.00%] received. Rate: [9714 KB/s].  ETA: [0 secs]    \r"
     ]
    },
    {
     "name": "stderr",
     "output_type": "stream",
     "text": [
      "\r",
      "1106it [1:51:09,  1.98s/it]"
     ]
    },
    {
     "name": "stdout",
     "output_type": "stream",
     "text": [
      "\n"
     ]
    },
    {
     "name": "stderr",
     "output_type": "stream",
     "text": [
      "\r",
      "1107it [1:51:10,  1.77s/it]"
     ]
    },
    {
     "name": "stdout",
     "output_type": "stream",
     "text": [
      "  6,195,122.0 Bytes [100.00%] received. Rate: [18648 KB/s].  ETA: [0 secs]    \r"
     ]
    },
    {
     "name": "stderr",
     "output_type": "stream",
     "text": [
      "\r",
      "1108it [1:51:12,  1.80s/it]"
     ]
    },
    {
     "name": "stdout",
     "output_type": "stream",
     "text": [
      "\n",
      "  19,123,517.0 Bytes [100.00%] received. Rate: [20742 KB/s].  ETA: [0 secs]    \r"
     ]
    },
    {
     "name": "stderr",
     "output_type": "stream",
     "text": [
      "\r",
      "1109it [1:51:15,  2.18s/it]"
     ]
    },
    {
     "name": "stdout",
     "output_type": "stream",
     "text": [
      "\n",
      "  1,085,038.0 Bytes [100.00%] received. Rate: [9131 KB/s].  ETA: [0 secs]    \n"
     ]
    },
    {
     "name": "stderr",
     "output_type": "stream",
     "text": [
      "\r",
      "1110it [1:51:17,  2.08s/it]"
     ]
    },
    {
     "name": "stdout",
     "output_type": "stream",
     "text": [
      "  4,069,064.0 Bytes [100.00%] received. Rate: [15332 KB/s].  ETA: [0 secs]    \r"
     ]
    },
    {
     "name": "stderr",
     "output_type": "stream",
     "text": [
      "\r",
      "1111it [1:51:18,  1.98s/it]"
     ]
    },
    {
     "name": "stdout",
     "output_type": "stream",
     "text": [
      "\n",
      "  4,897,437.0 Bytes [100.00%] received. Rate: [27381 KB/s].  ETA: [0 secs]    \r"
     ]
    },
    {
     "name": "stderr",
     "output_type": "stream",
     "text": [
      "\r",
      "1112it [1:51:20,  1.79s/it]"
     ]
    },
    {
     "name": "stdout",
     "output_type": "stream",
     "text": [
      "\n",
      "  54,954,019.0 Bytes [100.00%] received. Rate: [19482 KB/s].  ETA: [0 secs]    \r"
     ]
    },
    {
     "name": "stderr",
     "output_type": "stream",
     "text": [
      "\r",
      "1113it [1:51:26,  3.24s/it]"
     ]
    },
    {
     "name": "stdout",
     "output_type": "stream",
     "text": [
      "\n",
      "  3,870,435.0 Bytes [100.00%] received. Rate: [35066 KB/s].  ETA: [0 secs]    \r"
     ]
    },
    {
     "name": "stderr",
     "output_type": "stream",
     "text": [
      "\r",
      "1114it [1:51:28,  2.60s/it]"
     ]
    },
    {
     "name": "stdout",
     "output_type": "stream",
     "text": [
      "\n",
      "  539,505.0 Bytes [100.00%] received. Rate: [3609 KB/s].  ETA: [0 secs]    \r"
     ]
    },
    {
     "name": "stderr",
     "output_type": "stream",
     "text": [
      "\r",
      "1115it [1:51:29,  2.30s/it]"
     ]
    },
    {
     "name": "stdout",
     "output_type": "stream",
     "text": [
      "\n",
      "  690,300.0 Bytes [100.00%] received. Rate: [9594 KB/s].  ETA: [0 secs]    \r"
     ]
    },
    {
     "name": "stderr",
     "output_type": "stream",
     "text": [
      "\r",
      "1116it [1:51:30,  1.98s/it]"
     ]
    },
    {
     "name": "stdout",
     "output_type": "stream",
     "text": [
      "\n",
      "  9,812,542.0 Bytes [100.00%] received. Rate: [44920 KB/s].  ETA: [0 secs]    \r"
     ]
    },
    {
     "name": "stderr",
     "output_type": "stream",
     "text": [
      "\r",
      "1117it [1:51:34,  2.34s/it]"
     ]
    },
    {
     "name": "stdout",
     "output_type": "stream",
     "text": [
      "\n",
      "  1,284,327.0 Bytes [100.00%] received. Rate: [8700 KB/s].  ETA: [0 secs]    \r"
     ]
    },
    {
     "name": "stderr",
     "output_type": "stream",
     "text": [
      "\r",
      "1118it [1:51:35,  2.01s/it]"
     ]
    },
    {
     "name": "stdout",
     "output_type": "stream",
     "text": [
      "\n",
      "  880,736.0 Bytes [100.00%] received. Rate: [  50 KB/s].  ETA: [0 secs]    \r"
     ]
    },
    {
     "name": "stderr",
     "output_type": "stream",
     "text": [
      "\r",
      "1119it [1:51:53,  6.96s/it]"
     ]
    },
    {
     "name": "stdout",
     "output_type": "stream",
     "text": [
      "\n",
      "  5,754,375.0 Bytes [100.00%] received. Rate: [5281 KB/s].  ETA: [0 secs]    \r"
     ]
    },
    {
     "name": "stderr",
     "output_type": "stream",
     "text": [
      "\r",
      "1120it [1:51:56,  5.76s/it]"
     ]
    },
    {
     "name": "stdout",
     "output_type": "stream",
     "text": [
      "\n",
      "  118,891.0 Bytes [100.00%] received. Rate: [  78 KB/s].  ETA: [0 secs]    \r"
     ]
    },
    {
     "name": "stderr",
     "output_type": "stream",
     "text": [
      "\r",
      "1121it [1:51:59,  4.85s/it]"
     ]
    },
    {
     "name": "stdout",
     "output_type": "stream",
     "text": [
      "\n",
      "  3,039,439.0 Bytes [100.00%] received. Rate: [6556 KB/s].  ETA: [0 secs]    \r"
     ]
    },
    {
     "name": "stderr",
     "output_type": "stream",
     "text": [
      "\r",
      "1122it [1:52:01,  4.11s/it]"
     ]
    },
    {
     "name": "stdout",
     "output_type": "stream",
     "text": [
      "\n",
      "  410,947.0 Bytes [100.00%] received. Rate: [ 684 KB/s].  ETA: [0 secs]    \r"
     ]
    },
    {
     "name": "stderr",
     "output_type": "stream",
     "text": [
      "\r",
      "1123it [1:52:03,  3.48s/it]"
     ]
    },
    {
     "name": "stdout",
     "output_type": "stream",
     "text": [
      "\n",
      "  12,957,364.0 Bytes [100.00%] received. Rate: [37850 KB/s].  ETA: [0 secs]    \r"
     ]
    },
    {
     "name": "stderr",
     "output_type": "stream",
     "text": [
      "\r",
      "1124it [1:52:05,  2.98s/it]"
     ]
    },
    {
     "name": "stdout",
     "output_type": "stream",
     "text": [
      "\n",
      "  3,112,884.0 Bytes [100.00%] received. Rate: [  85 KB/s].  ETA: [0 secs]    \r"
     ]
    },
    {
     "name": "stderr",
     "output_type": "stream",
     "text": [
      "\r",
      "1125it [1:52:43, 13.34s/it]"
     ]
    },
    {
     "name": "stdout",
     "output_type": "stream",
     "text": [
      "\n",
      "  2,993,036.0 Bytes [100.00%] received. Rate: [12790 KB/s].  ETA: [0 secs]    \r"
     ]
    },
    {
     "name": "stderr",
     "output_type": "stream",
     "text": [
      "\r",
      "1126it [1:52:44,  9.81s/it]"
     ]
    },
    {
     "name": "stdout",
     "output_type": "stream",
     "text": [
      "\n"
     ]
    },
    {
     "name": "stderr",
     "output_type": "stream",
     "text": [
      "ERROR: Private video\n",
      "Sign in if you've been granted access to this video\n",
      "1127it [1:52:45,  7.02s/it]"
     ]
    },
    {
     "name": "stdout",
     "output_type": "stream",
     "text": [
      "  128,042.0 Bytes [100.00%] received. Rate: [  55 KB/s].  ETA: [0 secs]    \r"
     ]
    },
    {
     "name": "stderr",
     "output_type": "stream",
     "text": [
      "\r",
      "1128it [1:52:48,  5.91s/it]"
     ]
    },
    {
     "name": "stdout",
     "output_type": "stream",
     "text": [
      "\n",
      "  10,469,541.0 Bytes [100.00%] received. Rate: [26847 KB/s].  ETA: [0 secs]    \r"
     ]
    },
    {
     "name": "stderr",
     "output_type": "stream",
     "text": [
      "\r",
      "1129it [1:52:50,  4.81s/it]"
     ]
    },
    {
     "name": "stdout",
     "output_type": "stream",
     "text": [
      "\n",
      "  4,246,593.0 Bytes [100.00%] received. Rate: [20302 KB/s].  ETA: [0 secs]    \r"
     ]
    },
    {
     "name": "stderr",
     "output_type": "stream",
     "text": [
      "\r",
      "1130it [1:52:52,  3.82s/it]"
     ]
    },
    {
     "name": "stdout",
     "output_type": "stream",
     "text": [
      "\n",
      "  12,812,085.0 Bytes [100.00%] received. Rate: [23616 KB/s].  ETA: [0 secs]    \r"
     ]
    },
    {
     "name": "stderr",
     "output_type": "stream",
     "text": [
      "\r",
      "1131it [1:52:54,  3.28s/it]"
     ]
    },
    {
     "name": "stdout",
     "output_type": "stream",
     "text": [
      "\n",
      "  886,404.0 Bytes [100.00%] received. Rate: [5363 KB/s].  ETA: [0 secs]    \r"
     ]
    },
    {
     "name": "stderr",
     "output_type": "stream",
     "text": [
      "\r",
      "1132it [1:52:56,  2.81s/it]"
     ]
    },
    {
     "name": "stdout",
     "output_type": "stream",
     "text": [
      "\n",
      "  1,943,808.0 Bytes [100.00%] received. Rate: [15508 KB/s].  ETA: [0 secs]    \r"
     ]
    },
    {
     "name": "stderr",
     "output_type": "stream",
     "text": [
      "\r",
      "1133it [1:52:58,  2.56s/it]"
     ]
    },
    {
     "name": "stdout",
     "output_type": "stream",
     "text": [
      "\n",
      "  710,599.0 Bytes [100.00%] received. Rate: [6013 KB/s].  ETA: [0 secs]    \r"
     ]
    },
    {
     "name": "stderr",
     "output_type": "stream",
     "text": [
      "\r",
      "1134it [1:52:59,  2.19s/it]"
     ]
    },
    {
     "name": "stdout",
     "output_type": "stream",
     "text": [
      "\n",
      "  3,442,474.0 Bytes [100.00%] received. Rate: [1399 KB/s].  ETA: [0 secs]    \r"
     ]
    },
    {
     "name": "stderr",
     "output_type": "stream",
     "text": [
      "\r",
      "1135it [1:53:03,  2.88s/it]"
     ]
    },
    {
     "name": "stdout",
     "output_type": "stream",
     "text": [
      "\n",
      "  474,917.0 Bytes [100.00%] received. Rate: [6724 KB/s].  ETA: [0 secs]    \r"
     ]
    },
    {
     "name": "stderr",
     "output_type": "stream",
     "text": [
      "\r",
      "1136it [1:53:05,  2.45s/it]"
     ]
    },
    {
     "name": "stdout",
     "output_type": "stream",
     "text": [
      "\n",
      "  2,358,036.0 Bytes [100.00%] received. Rate: [  43 KB/s].  ETA: [0 secs]    \r"
     ]
    },
    {
     "name": "stderr",
     "output_type": "stream",
     "text": [
      "\r",
      "1137it [1:54:00, 18.30s/it]"
     ]
    },
    {
     "name": "stdout",
     "output_type": "stream",
     "text": [
      "\n",
      "  5,955,058.0 Bytes [100.00%] received. Rate: [22104 KB/s].  ETA: [0 secs]    \r"
     ]
    },
    {
     "name": "stderr",
     "output_type": "stream",
     "text": [
      "\r",
      "1138it [1:54:02, 13.44s/it]"
     ]
    },
    {
     "name": "stdout",
     "output_type": "stream",
     "text": [
      "\n",
      "  3,668,530.0 Bytes [100.00%] received. Rate: [22816 KB/s].  ETA: [0 secs]    \n"
     ]
    },
    {
     "name": "stderr",
     "output_type": "stream",
     "text": [
      "\r",
      "1139it [1:54:04,  9.89s/it]"
     ]
    },
    {
     "name": "stdout",
     "output_type": "stream",
     "text": [
      "  5,905,242.0 Bytes [100.00%] received. Rate: [20489 KB/s].  ETA: [0 secs]    \r"
     ]
    },
    {
     "name": "stderr",
     "output_type": "stream",
     "text": [
      "\r",
      "1140it [1:54:05,  7.34s/it]"
     ]
    },
    {
     "name": "stdout",
     "output_type": "stream",
     "text": [
      "\n",
      "  2,543,146.0 Bytes [100.00%] received. Rate: [7694 KB/s].  ETA: [0 secs]    \r"
     ]
    },
    {
     "name": "stderr",
     "output_type": "stream",
     "text": [
      "\r",
      "1141it [1:54:07,  5.60s/it]"
     ]
    },
    {
     "name": "stdout",
     "output_type": "stream",
     "text": [
      "\n",
      "  1,362,573.0 Bytes [100.00%] received. Rate: [2047 KB/s].  ETA: [0 secs]    \r"
     ]
    },
    {
     "name": "stderr",
     "output_type": "stream",
     "text": [
      "\r",
      "1142it [1:54:09,  4.54s/it]"
     ]
    },
    {
     "name": "stdout",
     "output_type": "stream",
     "text": [
      "\n"
     ]
    },
    {
     "name": "stderr",
     "output_type": "stream",
     "text": [
      "ERROR: Video unavailable\n",
      "1143it [1:54:09,  3.35s/it]"
     ]
    },
    {
     "name": "stdout",
     "output_type": "stream",
     "text": [
      "  3,095,870.0 Bytes [100.00%] received. Rate: [18614 KB/s].  ETA: [0 secs]    \r"
     ]
    },
    {
     "name": "stderr",
     "output_type": "stream",
     "text": [
      "\r",
      "1144it [1:54:12,  3.01s/it]"
     ]
    },
    {
     "name": "stdout",
     "output_type": "stream",
     "text": [
      "\n",
      "  3,694,747.0 Bytes [100.00%] received. Rate: [14239 KB/s].  ETA: [0 secs]    \r"
     ]
    },
    {
     "name": "stderr",
     "output_type": "stream",
     "text": [
      "\r",
      "1145it [1:54:13,  2.67s/it]"
     ]
    },
    {
     "name": "stdout",
     "output_type": "stream",
     "text": [
      "\n",
      "  6,277,292.0 Bytes [100.00%] received. Rate: [16665 KB/s].  ETA: [0 secs]    \r"
     ]
    },
    {
     "name": "stderr",
     "output_type": "stream",
     "text": [
      "\r",
      "1146it [1:54:16,  2.51s/it]"
     ]
    },
    {
     "name": "stdout",
     "output_type": "stream",
     "text": [
      "\n",
      "  1,386,158.0 Bytes [100.00%] received. Rate: [2634 KB/s].  ETA: [0 secs]    \r"
     ]
    },
    {
     "name": "stderr",
     "output_type": "stream",
     "text": [
      "\r",
      "1147it [1:54:18,  2.47s/it]"
     ]
    },
    {
     "name": "stdout",
     "output_type": "stream",
     "text": [
      "\n",
      "  9,151,557.0 Bytes [100.00%] received. Rate: [17636 KB/s].  ETA: [0 secs]    \r"
     ]
    },
    {
     "name": "stderr",
     "output_type": "stream",
     "text": [
      "\r",
      "1148it [1:54:21,  2.49s/it]"
     ]
    },
    {
     "name": "stdout",
     "output_type": "stream",
     "text": [
      "\n"
     ]
    },
    {
     "name": "stderr",
     "output_type": "stream",
     "text": [
      "ERROR: Private video\n",
      "Sign in if you've been granted access to this video\n",
      "1149it [1:54:21,  1.83s/it]"
     ]
    },
    {
     "name": "stdout",
     "output_type": "stream",
     "text": [
      "  3,134,926.0 Bytes [100.00%] received. Rate: [13003 KB/s].  ETA: [0 secs]    \r"
     ]
    },
    {
     "name": "stderr",
     "output_type": "stream",
     "text": [
      "\r",
      "1150it [1:54:23,  1.89s/it]"
     ]
    },
    {
     "name": "stdout",
     "output_type": "stream",
     "text": [
      "\n",
      "  4,060,414.0 Bytes [100.00%] received. Rate: [28283 KB/s].  ETA: [0 secs]    \r"
     ]
    },
    {
     "name": "stderr",
     "output_type": "stream",
     "text": [
      "\r",
      "1151it [1:54:24,  1.82s/it]"
     ]
    },
    {
     "name": "stdout",
     "output_type": "stream",
     "text": [
      "\n"
     ]
    },
    {
     "name": "stderr",
     "output_type": "stream",
     "text": [
      "ERROR: Video unavailable\n",
      "1152it [1:54:25,  1.43s/it]"
     ]
    },
    {
     "name": "stdout",
     "output_type": "stream",
     "text": [
      "  468,300.0 Bytes [100.00%] received. Rate: [1798 KB/s].  ETA: [0 secs]    \r"
     ]
    },
    {
     "name": "stderr",
     "output_type": "stream",
     "text": [
      "\r",
      "1153it [1:54:27,  1.61s/it]"
     ]
    },
    {
     "name": "stdout",
     "output_type": "stream",
     "text": [
      "\n",
      "  4,075,673.0 Bytes [100.00%] received. Rate: [4100 KB/s].  ETA: [0 secs]    \r"
     ]
    },
    {
     "name": "stderr",
     "output_type": "stream",
     "text": [
      "\r",
      "1154it [1:54:30,  1.88s/it]"
     ]
    },
    {
     "name": "stdout",
     "output_type": "stream",
     "text": [
      "\n",
      "  2,310,720.0 Bytes [100.00%] received. Rate: [16785 KB/s].  ETA: [0 secs]    \r"
     ]
    },
    {
     "name": "stderr",
     "output_type": "stream",
     "text": [
      "\r",
      "1155it [1:54:31,  1.71s/it]"
     ]
    },
    {
     "name": "stdout",
     "output_type": "stream",
     "text": [
      "\n",
      "  6,280,542.0 Bytes [100.00%] received. Rate: [24684 KB/s].  ETA: [0 secs]    \r"
     ]
    },
    {
     "name": "stderr",
     "output_type": "stream",
     "text": [
      "\r",
      "1156it [1:54:32,  1.69s/it]"
     ]
    },
    {
     "name": "stdout",
     "output_type": "stream",
     "text": [
      "\n",
      "  5,857,423.0 Bytes [100.00%] received. Rate: [5621 KB/s].  ETA: [0 secs]    \r"
     ]
    },
    {
     "name": "stderr",
     "output_type": "stream",
     "text": [
      "\r",
      "1157it [1:54:35,  1.87s/it]"
     ]
    },
    {
     "name": "stdout",
     "output_type": "stream",
     "text": [
      "\n",
      "  3,220,068.0 Bytes [100.00%] received. Rate: [15719 KB/s].  ETA: [0 secs]    \r"
     ]
    },
    {
     "name": "stderr",
     "output_type": "stream",
     "text": [
      "\r",
      "1158it [1:54:36,  1.82s/it]"
     ]
    },
    {
     "name": "stdout",
     "output_type": "stream",
     "text": [
      "\n",
      "  7,328,625.0 Bytes [100.00%] received. Rate: [26278 KB/s].  ETA: [0 secs]    \r"
     ]
    },
    {
     "name": "stderr",
     "output_type": "stream",
     "text": [
      "\r",
      "1159it [1:54:39,  1.89s/it]"
     ]
    },
    {
     "name": "stdout",
     "output_type": "stream",
     "text": [
      "\n"
     ]
    },
    {
     "name": "stderr",
     "output_type": "stream",
     "text": [
      "ERROR: Video unavailable\n",
      "This video is no longer available because the YouTube account associated with this video has been terminated.\n",
      "1160it [1:54:39,  1.44s/it]"
     ]
    },
    {
     "name": "stdout",
     "output_type": "stream",
     "text": [
      "  2,390,031.0 Bytes [100.00%] received. Rate: [11813 KB/s].  ETA: [0 secs]    \r"
     ]
    },
    {
     "name": "stderr",
     "output_type": "stream",
     "text": [
      "\r",
      "1161it [1:54:41,  1.49s/it]"
     ]
    },
    {
     "name": "stdout",
     "output_type": "stream",
     "text": [
      "\n",
      "  443,927.0 Bytes [100.00%] received. Rate: [ 847 KB/s].  ETA: [0 secs]    \r"
     ]
    },
    {
     "name": "stderr",
     "output_type": "stream",
     "text": [
      "\r",
      "1162it [1:54:43,  1.71s/it]"
     ]
    },
    {
     "name": "stdout",
     "output_type": "stream",
     "text": [
      "\n",
      "  4,236,700.0 Bytes [100.00%] received. Rate: [21353 KB/s].  ETA: [0 secs]    \r"
     ]
    },
    {
     "name": "stderr",
     "output_type": "stream",
     "text": [
      "\r",
      "1163it [1:54:45,  1.89s/it]"
     ]
    },
    {
     "name": "stdout",
     "output_type": "stream",
     "text": [
      "\n"
     ]
    },
    {
     "name": "stderr",
     "output_type": "stream",
     "text": [
      "ERROR: Video unavailable\n",
      "This video is no longer available because the YouTube account associated with this video has been terminated.\n",
      "1164it [1:54:45,  1.41s/it]"
     ]
    },
    {
     "name": "stdout",
     "output_type": "stream",
     "text": [
      "  265,298.0 Bytes [100.00%] received. Rate: [ 827 KB/s].  ETA: [0 secs]    \r"
     ]
    },
    {
     "name": "stderr",
     "output_type": "stream",
     "text": [
      "\r",
      "1165it [1:54:47,  1.47s/it]"
     ]
    },
    {
     "name": "stdout",
     "output_type": "stream",
     "text": [
      "\n",
      "  1,917,603.0 Bytes [100.00%] received. Rate: [9924 KB/s].  ETA: [0 secs]    \r"
     ]
    },
    {
     "name": "stderr",
     "output_type": "stream",
     "text": [
      "\r",
      "1166it [1:54:48,  1.46s/it]"
     ]
    },
    {
     "name": "stdout",
     "output_type": "stream",
     "text": [
      "\n",
      "  1,487,837.0 Bytes [100.00%] received. Rate: [  51 KB/s].  ETA: [0 secs]    \r"
     ]
    },
    {
     "name": "stderr",
     "output_type": "stream",
     "text": [
      "\r",
      "1167it [1:55:18,  9.99s/it]"
     ]
    },
    {
     "name": "stdout",
     "output_type": "stream",
     "text": [
      "\n",
      "  6,084,628.0 Bytes [100.00%] received. Rate: [17932 KB/s].  ETA: [0 secs]    \r"
     ]
    },
    {
     "name": "stderr",
     "output_type": "stream",
     "text": [
      "\r",
      "1168it [1:55:20,  7.55s/it]"
     ]
    },
    {
     "name": "stdout",
     "output_type": "stream",
     "text": [
      "\n",
      "  2,050,246.0 Bytes [100.00%] received. Rate: [5811 KB/s].  ETA: [0 secs]    \r"
     ]
    },
    {
     "name": "stderr",
     "output_type": "stream",
     "text": [
      "\r",
      "1169it [1:55:22,  5.92s/it]"
     ]
    },
    {
     "name": "stdout",
     "output_type": "stream",
     "text": [
      "\n"
     ]
    },
    {
     "name": "stderr",
     "output_type": "stream",
     "text": [
      "1171it [1:55:24,  3.34s/it]"
     ]
    },
    {
     "name": "stdout",
     "output_type": "stream",
     "text": [
      "  639,526.0 Bytes [100.00%] received. Rate: [4149 KB/s].  ETA: [0 secs]    \r"
     ]
    },
    {
     "name": "stderr",
     "output_type": "stream",
     "text": [
      "\r",
      "1172it [1:55:26,  2.90s/it]"
     ]
    },
    {
     "name": "stdout",
     "output_type": "stream",
     "text": [
      "\n",
      "  3,154,341.0 Bytes [100.00%] received. Rate: [12189 KB/s].  ETA: [0 secs]    \r"
     ]
    },
    {
     "name": "stderr",
     "output_type": "stream",
     "text": [
      "\r",
      "1173it [1:55:27,  2.41s/it]"
     ]
    },
    {
     "name": "stdout",
     "output_type": "stream",
     "text": [
      "\n",
      "  2,359,721.0 Bytes [100.00%] received. Rate: [11421 KB/s].  ETA: [0 secs]    \r"
     ]
    },
    {
     "name": "stderr",
     "output_type": "stream",
     "text": [
      "\r",
      "1174it [1:55:29,  2.17s/it]"
     ]
    },
    {
     "name": "stdout",
     "output_type": "stream",
     "text": [
      "\n",
      "  14,600,237.0 Bytes [100.00%] received. Rate: [25387 KB/s].  ETA: [0 secs]    \r"
     ]
    },
    {
     "name": "stderr",
     "output_type": "stream",
     "text": [
      "\r",
      "1175it [1:55:31,  2.15s/it]"
     ]
    },
    {
     "name": "stdout",
     "output_type": "stream",
     "text": [
      "\n",
      "  2,758,795.0 Bytes [100.00%] received. Rate: [  75 KB/s].  ETA: [0 secs]    \r"
     ]
    },
    {
     "name": "stderr",
     "output_type": "stream",
     "text": [
      "\r",
      "1176it [1:56:08, 12.69s/it]"
     ]
    },
    {
     "name": "stdout",
     "output_type": "stream",
     "text": [
      "\n",
      "  508,154.0 Bytes [100.00%] received. Rate: [3396 KB/s].  ETA: [0 secs]    \r"
     ]
    },
    {
     "name": "stderr",
     "output_type": "stream",
     "text": [
      "\r",
      "1177it [1:56:10,  9.37s/it]"
     ]
    },
    {
     "name": "stdout",
     "output_type": "stream",
     "text": [
      "\n"
     ]
    },
    {
     "name": "stderr",
     "output_type": "stream",
     "text": [
      "ERROR: Private video\n",
      "Sign in if you've been granted access to this video\n",
      "1178it [1:56:10,  6.73s/it]"
     ]
    },
    {
     "name": "stdout",
     "output_type": "stream",
     "text": [
      "  1,102,568.0 Bytes [100.00%] received. Rate: [7314 KB/s].  ETA: [0 secs]    \r"
     ]
    },
    {
     "name": "stderr",
     "output_type": "stream",
     "text": [
      "\r",
      "1179it [1:56:12,  5.16s/it]"
     ]
    },
    {
     "name": "stdout",
     "output_type": "stream",
     "text": [
      "\n",
      "  2,099,066.0 Bytes [100.00%] received. Rate: [14820 KB/s].  ETA: [0 secs]    \r"
     ]
    },
    {
     "name": "stderr",
     "output_type": "stream",
     "text": [
      "\r",
      "1180it [1:56:13,  4.00s/it]"
     ]
    },
    {
     "name": "stdout",
     "output_type": "stream",
     "text": [
      "\n"
     ]
    },
    {
     "name": "stderr",
     "output_type": "stream",
     "text": [
      "ERROR: Video unavailable\n",
      "This video is no longer available because the YouTube account associated with this video has been terminated.\n",
      "1181it [1:56:14,  2.93s/it]"
     ]
    },
    {
     "name": "stdout",
     "output_type": "stream",
     "text": [
      "  14,487,701.0 Bytes [100.00%] received. Rate: [8960 KB/s].  ETA: [0 secs]    \r"
     ]
    },
    {
     "name": "stderr",
     "output_type": "stream",
     "text": [
      "\r",
      "1182it [1:56:16,  2.91s/it]"
     ]
    },
    {
     "name": "stdout",
     "output_type": "stream",
     "text": [
      "\n",
      "  9,769,275.0 Bytes [100.00%] received. Rate: [20544 KB/s].  ETA: [0 secs]    \r"
     ]
    },
    {
     "name": "stderr",
     "output_type": "stream",
     "text": [
      "\r",
      "1183it [1:56:18,  2.50s/it]"
     ]
    },
    {
     "name": "stdout",
     "output_type": "stream",
     "text": [
      "\n",
      "  15,725,117.0 Bytes [100.00%] received. Rate: [62490 KB/s].  ETA: [0 secs]    \r"
     ]
    },
    {
     "name": "stderr",
     "output_type": "stream",
     "text": [
      "\r",
      "1184it [1:56:20,  2.26s/it]"
     ]
    },
    {
     "name": "stdout",
     "output_type": "stream",
     "text": [
      "\n",
      "  3,615,198.0 Bytes [100.00%] received. Rate: [24907 KB/s].  ETA: [0 secs]    \r"
     ]
    },
    {
     "name": "stderr",
     "output_type": "stream",
     "text": [
      "\r",
      "1185it [1:56:21,  2.06s/it]"
     ]
    },
    {
     "name": "stdout",
     "output_type": "stream",
     "text": [
      "\n",
      "  10,325,915.0 Bytes [100.00%] received. Rate: [39443 KB/s].  ETA: [0 secs]    \r"
     ]
    },
    {
     "name": "stderr",
     "output_type": "stream",
     "text": [
      "\r",
      "1186it [1:56:23,  1.95s/it]"
     ]
    },
    {
     "name": "stdout",
     "output_type": "stream",
     "text": [
      "\n",
      "  814,618.0 Bytes [100.00%] received. Rate: [5630 KB/s].  ETA: [0 secs]    \r"
     ]
    },
    {
     "name": "stderr",
     "output_type": "stream",
     "text": [
      "\r",
      "1187it [1:56:25,  1.82s/it]"
     ]
    },
    {
     "name": "stdout",
     "output_type": "stream",
     "text": [
      "\n",
      "  1,765,754.0 Bytes [100.00%] received. Rate: [12408 KB/s].  ETA: [0 secs]    \r"
     ]
    },
    {
     "name": "stderr",
     "output_type": "stream",
     "text": [
      "\r",
      "1188it [1:56:26,  1.66s/it]"
     ]
    },
    {
     "name": "stdout",
     "output_type": "stream",
     "text": [
      "\n",
      "  227,147.0 Bytes [100.00%] received. Rate: [1783 KB/s].  ETA: [0 secs]    \r"
     ]
    },
    {
     "name": "stderr",
     "output_type": "stream",
     "text": [
      "\r",
      "1189it [1:56:28,  1.68s/it]"
     ]
    },
    {
     "name": "stdout",
     "output_type": "stream",
     "text": [
      "\n",
      "  388,180.0 Bytes [100.00%] received. Rate: [ 516 KB/s].  ETA: [0 secs]    \r"
     ]
    },
    {
     "name": "stderr",
     "output_type": "stream",
     "text": [
      "\r",
      "1190it [1:56:30,  1.83s/it]"
     ]
    },
    {
     "name": "stdout",
     "output_type": "stream",
     "text": [
      "\n",
      "  632,103.0 Bytes [100.00%] received. Rate: [4137 KB/s].  ETA: [0 secs]    \r"
     ]
    },
    {
     "name": "stderr",
     "output_type": "stream",
     "text": [
      "\r",
      "1191it [1:56:31,  1.77s/it]"
     ]
    },
    {
     "name": "stdout",
     "output_type": "stream",
     "text": [
      "\n"
     ]
    },
    {
     "name": "stderr",
     "output_type": "stream",
     "text": [
      "ERROR: Video unavailable\n",
      "1192it [1:56:32,  1.39s/it]"
     ]
    },
    {
     "name": "stdout",
     "output_type": "stream",
     "text": [
      "  809,531.0 Bytes [100.00%] received. Rate: [5208 KB/s].  ETA: [0 secs]    \r"
     ]
    },
    {
     "name": "stderr",
     "output_type": "stream",
     "text": [
      "\r",
      "1193it [1:56:33,  1.42s/it]"
     ]
    },
    {
     "name": "stdout",
     "output_type": "stream",
     "text": [
      "\n",
      "  183,747.0 Bytes [100.00%] received. Rate: [ 754 KB/s].  ETA: [0 secs]    \r"
     ]
    },
    {
     "name": "stderr",
     "output_type": "stream",
     "text": [
      "\r",
      "1194it [1:56:35,  1.41s/it]"
     ]
    },
    {
     "name": "stdout",
     "output_type": "stream",
     "text": [
      "\n",
      "  2,365,171.0 Bytes [100.00%] received. Rate: [6503 KB/s].  ETA: [0 secs]    \r"
     ]
    },
    {
     "name": "stderr",
     "output_type": "stream",
     "text": [
      "\r",
      "1195it [1:56:36,  1.45s/it]"
     ]
    },
    {
     "name": "stdout",
     "output_type": "stream",
     "text": [
      "\n",
      "  4,293,517.0 Bytes [100.00%] received. Rate: [22234 KB/s].  ETA: [0 secs]    \r"
     ]
    },
    {
     "name": "stderr",
     "output_type": "stream",
     "text": [
      "\r",
      "1196it [1:56:38,  1.43s/it]"
     ]
    },
    {
     "name": "stdout",
     "output_type": "stream",
     "text": [
      "\n",
      "  639,001.0 Bytes [100.00%] received. Rate: [2349 KB/s].  ETA: [0 secs]    \r"
     ]
    },
    {
     "name": "stderr",
     "output_type": "stream",
     "text": [
      "\r",
      "1197it [1:56:39,  1.36s/it]"
     ]
    },
    {
     "name": "stdout",
     "output_type": "stream",
     "text": [
      "\n",
      "  3,094,006.0 Bytes [100.00%] received. Rate: [20038 KB/s].  ETA: [0 secs]    \r"
     ]
    },
    {
     "name": "stderr",
     "output_type": "stream",
     "text": [
      "\r",
      "1198it [1:56:41,  1.58s/it]"
     ]
    },
    {
     "name": "stdout",
     "output_type": "stream",
     "text": [
      "\n"
     ]
    },
    {
     "name": "stderr",
     "output_type": "stream",
     "text": [
      "ERROR: Private video\n",
      "Sign in if you've been granted access to this video\n",
      "1199it [1:56:41,  1.27s/it]"
     ]
    },
    {
     "name": "stdout",
     "output_type": "stream",
     "text": [
      "  392,695.0 Bytes [100.00%] received. Rate: [5480 KB/s].  ETA: [0 secs]    \r"
     ]
    },
    {
     "name": "stderr",
     "output_type": "stream",
     "text": [
      "\r",
      "1200it [1:56:43,  1.31s/it]"
     ]
    },
    {
     "name": "stdout",
     "output_type": "stream",
     "text": [
      "\n",
      "  4,809,587.0 Bytes [100.00%] received. Rate: [21194 KB/s].  ETA: [0 secs]    \r"
     ]
    },
    {
     "name": "stderr",
     "output_type": "stream",
     "text": [
      "\r",
      "1201it [1:56:45,  1.47s/it]"
     ]
    },
    {
     "name": "stdout",
     "output_type": "stream",
     "text": [
      "\n",
      "  3,093,031.0 Bytes [100.00%] received. Rate: [11590 KB/s].  ETA: [0 secs]    \r"
     ]
    },
    {
     "name": "stderr",
     "output_type": "stream",
     "text": [
      "\r",
      "1202it [1:56:46,  1.55s/it]"
     ]
    },
    {
     "name": "stdout",
     "output_type": "stream",
     "text": [
      "\n",
      "  6,788,346.0 Bytes [100.00%] received. Rate: [25630 KB/s].  ETA: [0 secs]    \r"
     ]
    },
    {
     "name": "stderr",
     "output_type": "stream",
     "text": [
      "\r",
      "1203it [1:56:49,  1.70s/it]"
     ]
    },
    {
     "name": "stdout",
     "output_type": "stream",
     "text": [
      "\n",
      "  756,212.0 Bytes [100.00%] received. Rate: [2322 KB/s].  ETA: [0 secs]    \r"
     ]
    },
    {
     "name": "stderr",
     "output_type": "stream",
     "text": [
      "\r",
      "1204it [1:56:50,  1.73s/it]"
     ]
    },
    {
     "name": "stdout",
     "output_type": "stream",
     "text": [
      "\n"
     ]
    },
    {
     "name": "stderr",
     "output_type": "stream",
     "text": [
      "ERROR: Video unavailable\n",
      "1206it [1:56:52,  1.21s/it]"
     ]
    },
    {
     "name": "stdout",
     "output_type": "stream",
     "text": [
      "  396,012.0 Bytes [100.00%] received. Rate: [1444 KB/s].  ETA: [0 secs]    \r"
     ]
    },
    {
     "name": "stderr",
     "output_type": "stream",
     "text": [
      "\r",
      "1207it [1:56:53,  1.29s/it]"
     ]
    },
    {
     "name": "stdout",
     "output_type": "stream",
     "text": [
      "\n",
      "  145,907.0 Bytes [100.00%] received. Rate: [2000 KB/s].  ETA: [0 secs]    \r"
     ]
    },
    {
     "name": "stderr",
     "output_type": "stream",
     "text": [
      "\r",
      "1208it [1:56:54,  1.30s/it]"
     ]
    },
    {
     "name": "stdout",
     "output_type": "stream",
     "text": [
      "\n",
      "  5,690,069.0 Bytes [100.00%] received. Rate: [34839 KB/s].  ETA: [0 secs]    \r"
     ]
    },
    {
     "name": "stderr",
     "output_type": "stream",
     "text": [
      "\r",
      "1209it [1:56:56,  1.40s/it]"
     ]
    },
    {
     "name": "stdout",
     "output_type": "stream",
     "text": [
      "\n"
     ]
    },
    {
     "name": "stderr",
     "output_type": "stream",
     "text": [
      "ERROR: Video unavailable\n",
      "This video is no longer available due to a copyright claim by Ang Dating Daan.\n",
      "1210it [1:56:57,  1.13s/it]ERROR: Private video\n",
      "Sign in if you've been granted access to this video\n",
      "1211it [1:56:57,  1.12it/s]"
     ]
    },
    {
     "name": "stdout",
     "output_type": "stream",
     "text": [
      "  9,059,717.0 Bytes [100.00%] received. Rate: [29620 KB/s].  ETA: [0 secs]    \r"
     ]
    },
    {
     "name": "stderr",
     "output_type": "stream",
     "text": [
      "\r",
      "1212it [1:56:58,  1.02s/it]"
     ]
    },
    {
     "name": "stdout",
     "output_type": "stream",
     "text": [
      "\n",
      "  1,837,193.0 Bytes [100.00%] received. Rate: [7095 KB/s].  ETA: [0 secs]    \r"
     ]
    },
    {
     "name": "stderr",
     "output_type": "stream",
     "text": [
      "\r",
      "1213it [1:57:00,  1.19s/it]"
     ]
    },
    {
     "name": "stdout",
     "output_type": "stream",
     "text": [
      "\n",
      "  2,182,720.0 Bytes [100.00%] received. Rate: [14509 KB/s].  ETA: [0 secs]    \r"
     ]
    },
    {
     "name": "stderr",
     "output_type": "stream",
     "text": [
      "\r",
      "1214it [1:57:01,  1.34s/it]"
     ]
    },
    {
     "name": "stdout",
     "output_type": "stream",
     "text": [
      "\n",
      "  1,265,172.0 Bytes [100.00%] received. Rate: [2780 KB/s].  ETA: [0 secs]    \r"
     ]
    },
    {
     "name": "stderr",
     "output_type": "stream",
     "text": [
      "\r",
      "1215it [1:57:03,  1.47s/it]"
     ]
    },
    {
     "name": "stdout",
     "output_type": "stream",
     "text": [
      "\n",
      "  536,430.0 Bytes [100.00%] received. Rate: [2504 KB/s].  ETA: [0 secs]    \r"
     ]
    },
    {
     "name": "stderr",
     "output_type": "stream",
     "text": [
      "\r",
      "1216it [1:57:05,  1.49s/it]"
     ]
    },
    {
     "name": "stdout",
     "output_type": "stream",
     "text": [
      "\n",
      "  4,260,705.0 Bytes [100.00%] received. Rate: [26033 KB/s].  ETA: [0 secs]    \n"
     ]
    },
    {
     "name": "stderr",
     "output_type": "stream",
     "text": [
      "1217it [1:57:06,  1.47s/it]ERROR: This video has been removed for violating YouTube's policy on violent or graphic content.\n",
      "1218it [1:57:07,  1.14s/it]"
     ]
    },
    {
     "name": "stdout",
     "output_type": "stream",
     "text": [
      "  3,039,831.0 Bytes [100.00%] received. Rate: [14516 KB/s].  ETA: [0 secs]    \r"
     ]
    },
    {
     "name": "stderr",
     "output_type": "stream",
     "text": [
      "\r",
      "1219it [1:57:08,  1.29s/it]"
     ]
    },
    {
     "name": "stdout",
     "output_type": "stream",
     "text": [
      "\n",
      "  5,401,837.0 Bytes [100.00%] received. Rate: [31488 KB/s].  ETA: [0 secs]    \r"
     ]
    },
    {
     "name": "stderr",
     "output_type": "stream",
     "text": [
      "\r",
      "1220it [1:57:09,  1.27s/it]"
     ]
    },
    {
     "name": "stdout",
     "output_type": "stream",
     "text": [
      "\n"
     ]
    },
    {
     "name": "stderr",
     "output_type": "stream",
     "text": [
      "ERROR: Private video\n",
      "Sign in if you've been granted access to this video\n",
      "1221it [1:57:10,  1.06s/it]ERROR: Video unavailable\n",
      "1222it [1:57:10,  1.19it/s]"
     ]
    },
    {
     "name": "stdout",
     "output_type": "stream",
     "text": [
      "  8,919,556.0 Bytes [100.00%] received. Rate: [23614 KB/s].  ETA: [0 secs]    \r"
     ]
    },
    {
     "name": "stderr",
     "output_type": "stream",
     "text": [
      "\r",
      "1223it [1:57:12,  1.14s/it]"
     ]
    },
    {
     "name": "stdout",
     "output_type": "stream",
     "text": [
      "\n",
      "  1,589,437.0 Bytes [100.00%] received. Rate: [10907 KB/s].  ETA: [0 secs]    \r"
     ]
    },
    {
     "name": "stderr",
     "output_type": "stream",
     "text": [
      "\r",
      "1224it [1:57:14,  1.20s/it]"
     ]
    },
    {
     "name": "stdout",
     "output_type": "stream",
     "text": [
      "\n",
      "  8,153,846.0 Bytes [100.00%] received. Rate: [15594 KB/s].  ETA: [0 secs]    \r"
     ]
    },
    {
     "name": "stderr",
     "output_type": "stream",
     "text": [
      "\r",
      "1225it [1:57:16,  1.45s/it]"
     ]
    },
    {
     "name": "stdout",
     "output_type": "stream",
     "text": [
      "\n",
      "  1,936,806.0 Bytes [100.00%] received. Rate: [10278 KB/s].  ETA: [0 secs]    \r"
     ]
    },
    {
     "name": "stderr",
     "output_type": "stream",
     "text": [
      "\r",
      "1226it [1:57:17,  1.44s/it]"
     ]
    },
    {
     "name": "stdout",
     "output_type": "stream",
     "text": [
      "\n",
      "  303,153.0 Bytes [100.00%] received. Rate: [4416 KB/s].  ETA: [0 secs]    \r"
     ]
    },
    {
     "name": "stderr",
     "output_type": "stream",
     "text": [
      "\r",
      "1227it [1:57:18,  1.40s/it]"
     ]
    },
    {
     "name": "stdout",
     "output_type": "stream",
     "text": [
      "\n",
      "  382,281.0 Bytes [100.00%] received. Rate: [4188 KB/s].  ETA: [0 secs]    \r"
     ]
    },
    {
     "name": "stderr",
     "output_type": "stream",
     "text": [
      "\r",
      "1228it [1:57:20,  1.36s/it]"
     ]
    },
    {
     "name": "stdout",
     "output_type": "stream",
     "text": [
      "\n",
      "  1,203,637.0 Bytes [100.00%] received. Rate: [6963 KB/s].  ETA: [0 secs]    \r"
     ]
    },
    {
     "name": "stderr",
     "output_type": "stream",
     "text": [
      "\r",
      "1229it [1:57:21,  1.47s/it]"
     ]
    },
    {
     "name": "stdout",
     "output_type": "stream",
     "text": [
      "\n",
      "  7,409,071.0 Bytes [100.00%] received. Rate: [6604 KB/s].  ETA: [0 secs]    \r"
     ]
    },
    {
     "name": "stderr",
     "output_type": "stream",
     "text": [
      "\r",
      "1230it [1:57:24,  1.79s/it]"
     ]
    },
    {
     "name": "stdout",
     "output_type": "stream",
     "text": [
      "\n",
      "  4,557,950.0 Bytes [100.00%] received. Rate: [8552 KB/s].  ETA: [0 secs]    \r"
     ]
    },
    {
     "name": "stderr",
     "output_type": "stream",
     "text": [
      "\r",
      "1231it [1:57:26,  1.86s/it]"
     ]
    },
    {
     "name": "stdout",
     "output_type": "stream",
     "text": [
      "\n",
      "  7,190,304.0 Bytes [100.00%] received. Rate: [6609 KB/s].  ETA: [0 secs]    \r"
     ]
    },
    {
     "name": "stderr",
     "output_type": "stream",
     "text": [
      "\r",
      "1232it [1:57:29,  2.11s/it]"
     ]
    },
    {
     "name": "stdout",
     "output_type": "stream",
     "text": [
      "\n",
      "  4,426,136.0 Bytes [100.00%] received. Rate: [15167 KB/s].  ETA: [0 secs]    \r"
     ]
    },
    {
     "name": "stderr",
     "output_type": "stream",
     "text": [
      "\r",
      "1233it [1:57:30,  2.01s/it]"
     ]
    },
    {
     "name": "stdout",
     "output_type": "stream",
     "text": [
      "\n",
      "  2,590,070.0 Bytes [100.00%] received. Rate: [2065 KB/s].  ETA: [0 secs]    \r"
     ]
    },
    {
     "name": "stderr",
     "output_type": "stream",
     "text": [
      "\r",
      "1234it [1:57:33,  2.25s/it]"
     ]
    },
    {
     "name": "stdout",
     "output_type": "stream",
     "text": [
      "\n"
     ]
    },
    {
     "name": "stderr",
     "output_type": "stream",
     "text": [
      "ERROR: Private video\n",
      "Sign in if you've been granted access to this video\n",
      "1235it [1:57:33,  1.67s/it]"
     ]
    },
    {
     "name": "stdout",
     "output_type": "stream",
     "text": [
      "  153,991.0 Bytes [100.00%] received. Rate: [1770 KB/s].  ETA: [0 secs]    \r"
     ]
    },
    {
     "name": "stderr",
     "output_type": "stream",
     "text": [
      "\r",
      "1236it [1:57:35,  1.52s/it]"
     ]
    },
    {
     "name": "stdout",
     "output_type": "stream",
     "text": [
      "\n",
      "  1,973,289.0 Bytes [100.00%] received. Rate: [7917 KB/s].  ETA: [0 secs]    \r"
     ]
    },
    {
     "name": "stderr",
     "output_type": "stream",
     "text": [
      "\r",
      "1237it [1:57:37,  1.63s/it]"
     ]
    },
    {
     "name": "stdout",
     "output_type": "stream",
     "text": [
      "\n",
      "  13,774,910.0 Bytes [100.00%] received. Rate: [57226 KB/s].  ETA: [0 secs]    \r"
     ]
    },
    {
     "name": "stderr",
     "output_type": "stream",
     "text": [
      "\r",
      "1238it [1:57:39,  1.96s/it]"
     ]
    },
    {
     "name": "stdout",
     "output_type": "stream",
     "text": [
      "\n",
      "  1,085,252.0 Bytes [100.00%] received. Rate: [10852 KB/s].  ETA: [0 secs]    \r"
     ]
    },
    {
     "name": "stderr",
     "output_type": "stream",
     "text": [
      "\r",
      "1239it [1:57:41,  1.84s/it]"
     ]
    },
    {
     "name": "stdout",
     "output_type": "stream",
     "text": [
      "\n",
      "  2,429,048.0 Bytes [100.00%] received. Rate: [  78 KB/s].  ETA: [0 secs]    \r"
     ]
    },
    {
     "name": "stderr",
     "output_type": "stream",
     "text": [
      "\r",
      "1240it [1:58:13, 10.90s/it]"
     ]
    },
    {
     "name": "stdout",
     "output_type": "stream",
     "text": [
      "\n"
     ]
    },
    {
     "name": "stderr",
     "output_type": "stream",
     "text": [
      "ERROR: Private video\n",
      "Sign in if you've been granted access to this video\n",
      "1241it [1:58:13,  7.76s/it]"
     ]
    },
    {
     "name": "stdout",
     "output_type": "stream",
     "text": [
      "  2,687,402.0 Bytes [100.00%] received. Rate: [16211 KB/s].  ETA: [0 secs]    \r"
     ]
    },
    {
     "name": "stderr",
     "output_type": "stream",
     "text": [
      "\r",
      "1242it [1:58:15,  5.94s/it]"
     ]
    },
    {
     "name": "stdout",
     "output_type": "stream",
     "text": [
      "\n",
      "  4,714,544.0 Bytes [100.00%] received. Rate: [12278 KB/s].  ETA: [0 secs]    \r"
     ]
    },
    {
     "name": "stderr",
     "output_type": "stream",
     "text": [
      "\r",
      "1243it [1:58:17,  4.79s/it]"
     ]
    },
    {
     "name": "stdout",
     "output_type": "stream",
     "text": [
      "\n"
     ]
    },
    {
     "name": "stderr",
     "output_type": "stream",
     "text": [
      "ERROR: Private video\n",
      "Sign in if you've been granted access to this video\n",
      "1244it [1:58:18,  3.51s/it]"
     ]
    },
    {
     "name": "stdout",
     "output_type": "stream",
     "text": [
      "  11,964,942.0 Bytes [100.00%] received. Rate: [  57 KB/s].  ETA: [0 secs]     \r"
     ]
    },
    {
     "name": "stderr",
     "output_type": "stream",
     "text": [
      "\r",
      "1245it [2:01:48, 65.43s/it]"
     ]
    },
    {
     "name": "stdout",
     "output_type": "stream",
     "text": [
      "\n",
      "  4,144,913.0 Bytes [100.00%] received. Rate: [3007 KB/s].  ETA: [0 secs]    \r"
     ]
    },
    {
     "name": "stderr",
     "output_type": "stream",
     "text": [
      "\r",
      "1246it [2:01:50, 46.65s/it]"
     ]
    },
    {
     "name": "stdout",
     "output_type": "stream",
     "text": [
      "\n"
     ]
    },
    {
     "name": "stderr",
     "output_type": "stream",
     "text": [
      "ERROR: Private video\n",
      "Sign in if you've been granted access to this video\n",
      "1247it [2:01:51, 32.75s/it]ERROR: Video unavailable\n",
      "This video is no longer available because the YouTube account associated with this video has been terminated.\n",
      "1248it [2:01:51, 23.07s/it]"
     ]
    },
    {
     "name": "stdout",
     "output_type": "stream",
     "text": [
      "  16,686,026.0 Bytes [100.00%] received. Rate: [12257 KB/s].  ETA: [0 secs]    \r"
     ]
    },
    {
     "name": "stderr",
     "output_type": "stream",
     "text": [
      "\r",
      "1249it [2:01:54, 17.08s/it]"
     ]
    },
    {
     "name": "stdout",
     "output_type": "stream",
     "text": [
      "\n",
      "  2,547,295.0 Bytes [100.00%] received. Rate: [12141 KB/s].  ETA: [0 secs]    \r"
     ]
    },
    {
     "name": "stderr",
     "output_type": "stream",
     "text": [
      "\r",
      "1250it [2:01:56, 12.37s/it]"
     ]
    },
    {
     "name": "stdout",
     "output_type": "stream",
     "text": [
      "\n",
      "  899,335.0 Bytes [100.00%] received. Rate: [10880 KB/s].  ETA: [0 secs]    \r"
     ]
    },
    {
     "name": "stderr",
     "output_type": "stream",
     "text": [
      "\r",
      "1251it [2:01:57,  9.16s/it]"
     ]
    },
    {
     "name": "stdout",
     "output_type": "stream",
     "text": [
      "\n",
      "  5,940,034.0 Bytes [100.00%] received. Rate: [23069 KB/s].  ETA: [0 secs]    \r"
     ]
    },
    {
     "name": "stderr",
     "output_type": "stream",
     "text": [
      "\r",
      "1252it [2:01:59,  6.89s/it]"
     ]
    },
    {
     "name": "stdout",
     "output_type": "stream",
     "text": [
      "\n",
      "  9,710,191.0 Bytes [100.00%] received. Rate: [18708 KB/s].  ETA: [0 secs]    \r"
     ]
    },
    {
     "name": "stderr",
     "output_type": "stream",
     "text": [
      "\r",
      "1253it [2:02:01,  5.31s/it]"
     ]
    },
    {
     "name": "stdout",
     "output_type": "stream",
     "text": [
      "\n",
      "  2,749,951.0 Bytes [100.00%] received. Rate: [14018 KB/s].  ETA: [0 secs]    \r"
     ]
    },
    {
     "name": "stderr",
     "output_type": "stream",
     "text": [
      "\r",
      "1254it [2:02:02,  4.18s/it]"
     ]
    },
    {
     "name": "stdout",
     "output_type": "stream",
     "text": [
      "\n"
     ]
    },
    {
     "name": "stderr",
     "output_type": "stream",
     "text": [
      "ERROR: Private video\n",
      "Sign in if you've been granted access to this video\n",
      "1255it [2:02:03,  3.06s/it]"
     ]
    },
    {
     "name": "stdout",
     "output_type": "stream",
     "text": [
      "  440,148.0 Bytes [100.00%] received. Rate: [  47 KB/s].  ETA: [0 secs]    \r"
     ]
    },
    {
     "name": "stderr",
     "output_type": "stream",
     "text": [
      "\r",
      "1256it [2:02:13,  5.23s/it]"
     ]
    },
    {
     "name": "stdout",
     "output_type": "stream",
     "text": [
      "\n",
      "  2,494,343.0 Bytes [100.00%] received. Rate: [15348 KB/s].  ETA: [0 secs]    \r"
     ]
    },
    {
     "name": "stderr",
     "output_type": "stream",
     "text": [
      "\r",
      "1257it [2:02:14,  4.03s/it]"
     ]
    },
    {
     "name": "stdout",
     "output_type": "stream",
     "text": [
      "\n",
      "  6,220,045.0 Bytes [100.00%] received. Rate: [12064 KB/s].  ETA: [0 secs]    \r"
     ]
    },
    {
     "name": "stderr",
     "output_type": "stream",
     "text": [
      "\r",
      "1258it [2:02:16,  3.51s/it]"
     ]
    },
    {
     "name": "stdout",
     "output_type": "stream",
     "text": [
      "\n",
      "  558,592.0 Bytes [100.00%] received. Rate: [3651 KB/s].  ETA: [0 secs]    \r"
     ]
    },
    {
     "name": "stderr",
     "output_type": "stream",
     "text": [
      "\r",
      "1259it [2:02:18,  2.89s/it]"
     ]
    },
    {
     "name": "stdout",
     "output_type": "stream",
     "text": [
      "\n",
      "  4,039,714.0 Bytes [100.00%] received. Rate: [22944 KB/s].  ETA: [0 secs]    \r"
     ]
    },
    {
     "name": "stderr",
     "output_type": "stream",
     "text": [
      "\r",
      "1260it [2:02:19,  2.50s/it]"
     ]
    },
    {
     "name": "stdout",
     "output_type": "stream",
     "text": [
      "\n"
     ]
    },
    {
     "name": "stderr",
     "output_type": "stream",
     "text": [
      "ERROR: Video unavailable\n",
      "1261it [2:02:20,  1.91s/it]"
     ]
    },
    {
     "name": "stdout",
     "output_type": "stream",
     "text": [
      "  5,624,528.0 Bytes [100.00%] received. Rate: [23693 KB/s].  ETA: [0 secs]    \r"
     ]
    },
    {
     "name": "stderr",
     "output_type": "stream",
     "text": [
      "\r",
      "1262it [2:02:21,  1.78s/it]"
     ]
    },
    {
     "name": "stdout",
     "output_type": "stream",
     "text": [
      "\n",
      "  28,647,146.0 Bytes [100.00%] received. Rate: [20106 KB/s].  ETA: [0 secs]    \r"
     ]
    },
    {
     "name": "stderr",
     "output_type": "stream",
     "text": [
      "\r",
      "1263it [2:02:25,  2.21s/it]"
     ]
    },
    {
     "name": "stdout",
     "output_type": "stream",
     "text": [
      "\n",
      "  4,633,691.0 Bytes [100.00%] received. Rate: [20534 KB/s].  ETA: [0 secs]    \r"
     ]
    },
    {
     "name": "stderr",
     "output_type": "stream",
     "text": [
      "\r",
      "1264it [2:02:26,  2.02s/it]"
     ]
    },
    {
     "name": "stdout",
     "output_type": "stream",
     "text": [
      "\n",
      "  1,371,977.0 Bytes [100.00%] received. Rate: [3482 KB/s].  ETA: [0 secs]    \r"
     ]
    },
    {
     "name": "stderr",
     "output_type": "stream",
     "text": [
      "\r",
      "1265it [2:02:28,  1.86s/it]"
     ]
    },
    {
     "name": "stdout",
     "output_type": "stream",
     "text": [
      "\n"
     ]
    },
    {
     "name": "stderr",
     "output_type": "stream",
     "text": [
      "ERROR: Video unavailable\n",
      "1266it [2:02:28,  1.43s/it]"
     ]
    },
    {
     "name": "stdout",
     "output_type": "stream",
     "text": [
      "  1,218,860.0 Bytes [100.00%] received. Rate: [5435 KB/s].  ETA: [0 secs]    \r"
     ]
    },
    {
     "name": "stderr",
     "output_type": "stream",
     "text": [
      "\r",
      "1267it [2:02:30,  1.50s/it]"
     ]
    },
    {
     "name": "stdout",
     "output_type": "stream",
     "text": [
      "\n"
     ]
    },
    {
     "name": "stderr",
     "output_type": "stream",
     "text": [
      "1268it [2:02:31,  1.44s/it]ERROR: Video unavailable\n",
      "This video is no longer available because the YouTube account associated with this video has been terminated.\n",
      "1269it [2:02:32,  1.14s/it]"
     ]
    },
    {
     "name": "stdout",
     "output_type": "stream",
     "text": [
      "  4,233,143.0 Bytes [100.00%] received. Rate: [31422 KB/s].  ETA: [0 secs]    \r"
     ]
    },
    {
     "name": "stderr",
     "output_type": "stream",
     "text": [
      "\r",
      "1270it [2:02:33,  1.20s/it]"
     ]
    },
    {
     "name": "stdout",
     "output_type": "stream",
     "text": [
      "\n",
      "  402,678.0 Bytes [100.00%] received. Rate: [5534 KB/s].  ETA: [0 secs]    \r"
     ]
    },
    {
     "name": "stderr",
     "output_type": "stream",
     "text": [
      "\r",
      "1271it [2:02:34,  1.30s/it]"
     ]
    },
    {
     "name": "stdout",
     "output_type": "stream",
     "text": [
      "\n",
      "  8,661,781.0 Bytes [100.00%] received. Rate: [24916 KB/s].  ETA: [0 secs]    \r"
     ]
    },
    {
     "name": "stderr",
     "output_type": "stream",
     "text": [
      "\r",
      "1272it [2:02:36,  1.48s/it]"
     ]
    },
    {
     "name": "stdout",
     "output_type": "stream",
     "text": [
      "\n",
      "  1,147,299.0 Bytes [100.00%] received. Rate: [6861 KB/s].  ETA: [0 secs]    \r"
     ]
    },
    {
     "name": "stderr",
     "output_type": "stream",
     "text": [
      "\r",
      "1273it [2:02:38,  1.54s/it]"
     ]
    },
    {
     "name": "stdout",
     "output_type": "stream",
     "text": [
      "\n",
      "  12,406,471.0 Bytes [100.00%] received. Rate: [105943 KB/s].  ETA: [0 secs]    \r"
     ]
    },
    {
     "name": "stderr",
     "output_type": "stream",
     "text": [
      "\r",
      "1274it [2:02:40,  1.72s/it]"
     ]
    },
    {
     "name": "stdout",
     "output_type": "stream",
     "text": [
      "\n",
      "  18,905,859.0 Bytes [100.00%] received. Rate: [24183 KB/s].  ETA: [0 secs]    \r"
     ]
    },
    {
     "name": "stderr",
     "output_type": "stream",
     "text": [
      "\r",
      "1275it [2:02:43,  1.95s/it]"
     ]
    },
    {
     "name": "stdout",
     "output_type": "stream",
     "text": [
      "\n",
      "  2,457,541.0 Bytes [100.00%] received. Rate: [17748 KB/s].  ETA: [0 secs]    \r"
     ]
    },
    {
     "name": "stderr",
     "output_type": "stream",
     "text": [
      "\r",
      "1276it [2:02:44,  1.74s/it]"
     ]
    },
    {
     "name": "stdout",
     "output_type": "stream",
     "text": [
      "\n"
     ]
    },
    {
     "name": "stderr",
     "output_type": "stream",
     "text": [
      "ERROR: Video unavailable\n",
      "This video is no longer available because the YouTube account associated with this video has been terminated.\n",
      "1277it [2:02:44,  1.37s/it]"
     ]
    },
    {
     "name": "stdout",
     "output_type": "stream",
     "text": [
      "  2,337,388.0 Bytes [100.00%] received. Rate: [12057 KB/s].  ETA: [0 secs]    \r"
     ]
    },
    {
     "name": "stderr",
     "output_type": "stream",
     "text": [
      "\r",
      "1278it [2:02:46,  1.45s/it]"
     ]
    },
    {
     "name": "stdout",
     "output_type": "stream",
     "text": [
      "\n",
      "  548,341.0 Bytes [100.00%] received. Rate: [ 918 KB/s].  ETA: [0 secs]    \r"
     ]
    },
    {
     "name": "stderr",
     "output_type": "stream",
     "text": [
      "\r",
      "1279it [2:02:48,  1.66s/it]"
     ]
    },
    {
     "name": "stdout",
     "output_type": "stream",
     "text": [
      "\n",
      "  693,360.0 Bytes [100.00%] received. Rate: [5569 KB/s].  ETA: [0 secs]    \r"
     ]
    },
    {
     "name": "stderr",
     "output_type": "stream",
     "text": [
      "\r",
      "1280it [2:02:49,  1.54s/it]"
     ]
    },
    {
     "name": "stdout",
     "output_type": "stream",
     "text": [
      "\n",
      "  3,556,700.0 Bytes [100.00%] received. Rate: [10076 KB/s].  ETA: [0 secs]    \r"
     ]
    },
    {
     "name": "stderr",
     "output_type": "stream",
     "text": [
      "\r",
      "1281it [2:02:51,  1.69s/it]"
     ]
    },
    {
     "name": "stdout",
     "output_type": "stream",
     "text": [
      "\n",
      "  26,644,109.0 Bytes [100.00%] received. Rate: [33751 KB/s].  ETA: [0 secs]    \r"
     ]
    },
    {
     "name": "stderr",
     "output_type": "stream",
     "text": [
      "\r",
      "1282it [2:02:54,  1.84s/it]"
     ]
    },
    {
     "name": "stdout",
     "output_type": "stream",
     "text": [
      "\n",
      "  12,879,198.0 Bytes [100.00%] received. Rate: [  80 KB/s].  ETA: [0 secs]     \r"
     ]
    },
    {
     "name": "stderr",
     "output_type": "stream",
     "text": [
      "\r",
      "1283it [2:05:34, 49.51s/it]"
     ]
    },
    {
     "name": "stdout",
     "output_type": "stream",
     "text": [
      "\n",
      "  7,437,642.0 Bytes [100.00%] received. Rate: [21779 KB/s].  ETA: [0 secs]    \r"
     ]
    },
    {
     "name": "stderr",
     "output_type": "stream",
     "text": [
      "\r",
      "1284it [2:05:36, 35.18s/it]"
     ]
    },
    {
     "name": "stdout",
     "output_type": "stream",
     "text": [
      "\n",
      "  523,668.0 Bytes [100.00%] received. Rate: [7312 KB/s].  ETA: [0 secs]    \r"
     ]
    },
    {
     "name": "stderr",
     "output_type": "stream",
     "text": [
      "\r",
      "1285it [2:05:37, 24.96s/it]"
     ]
    },
    {
     "name": "stdout",
     "output_type": "stream",
     "text": [
      "\n",
      "  542,082.0 Bytes [100.00%] received. Rate: [7054 KB/s].  ETA: [0 secs]    \r"
     ]
    },
    {
     "name": "stderr",
     "output_type": "stream",
     "text": [
      "\r",
      "1286it [2:05:38, 17.82s/it]"
     ]
    },
    {
     "name": "stdout",
     "output_type": "stream",
     "text": [
      "\n",
      "  3,715,775.0 Bytes [100.00%] received. Rate: [9812 KB/s].  ETA: [0 secs]    \r"
     ]
    },
    {
     "name": "stderr",
     "output_type": "stream",
     "text": [
      "\r",
      "1287it [2:05:40, 13.02s/it]"
     ]
    },
    {
     "name": "stdout",
     "output_type": "stream",
     "text": [
      "\n"
     ]
    },
    {
     "name": "stderr",
     "output_type": "stream",
     "text": [
      "ERROR: Private video\n",
      "Sign in if you've been granted access to this video\n",
      "1288it [2:05:41,  9.28s/it]"
     ]
    },
    {
     "name": "stdout",
     "output_type": "stream",
     "text": [
      "  184,896.0 Bytes [100.00%] received. Rate: [2259 KB/s].  ETA: [0 secs]    \r"
     ]
    },
    {
     "name": "stderr",
     "output_type": "stream",
     "text": [
      "\r",
      "1289it [2:05:42,  6.79s/it]"
     ]
    },
    {
     "name": "stdout",
     "output_type": "stream",
     "text": [
      "\n",
      "  4,657,276.0 Bytes [100.00%] received. Rate: [14755 KB/s].  ETA: [0 secs]    \r"
     ]
    },
    {
     "name": "stderr",
     "output_type": "stream",
     "text": [
      "\r",
      "1290it [2:05:44,  5.30s/it]"
     ]
    },
    {
     "name": "stdout",
     "output_type": "stream",
     "text": [
      "\n",
      "  1,800,978.0 Bytes [100.00%] received. Rate: [10360 KB/s].  ETA: [0 secs]    \r"
     ]
    },
    {
     "name": "stderr",
     "output_type": "stream",
     "text": [
      "\r",
      "1291it [2:05:45,  4.10s/it]"
     ]
    },
    {
     "name": "stdout",
     "output_type": "stream",
     "text": [
      "\n",
      "  1,884,182.0 Bytes [100.00%] received. Rate: [22268 KB/s].  ETA: [0 secs]    \r"
     ]
    },
    {
     "name": "stderr",
     "output_type": "stream",
     "text": [
      "\r",
      "1292it [2:05:46,  3.29s/it]"
     ]
    },
    {
     "name": "stdout",
     "output_type": "stream",
     "text": [
      "\n",
      "  31,010,035.0 Bytes [100.00%] received. Rate: [25824 KB/s].  ETA: [0 secs]    \r"
     ]
    },
    {
     "name": "stderr",
     "output_type": "stream",
     "text": [
      "\r",
      "1293it [2:05:48,  2.98s/it]"
     ]
    },
    {
     "name": "stdout",
     "output_type": "stream",
     "text": [
      "\n",
      "  10,089,431.0 Bytes [100.00%] received. Rate: [12722 KB/s].  ETA: [0 secs]    \r"
     ]
    },
    {
     "name": "stderr",
     "output_type": "stream",
     "text": [
      "\r",
      "1294it [2:05:50,  2.66s/it]"
     ]
    },
    {
     "name": "stdout",
     "output_type": "stream",
     "text": [
      "\n",
      "  884,268.0 Bytes [100.00%] received. Rate: [8563 KB/s].  ETA: [0 secs]    \r"
     ]
    },
    {
     "name": "stderr",
     "output_type": "stream",
     "text": [
      "\r",
      "1295it [2:05:52,  2.40s/it]"
     ]
    },
    {
     "name": "stdout",
     "output_type": "stream",
     "text": [
      "\n",
      "  3,378,356.0 Bytes [100.00%] received. Rate: [2380 KB/s].  ETA: [0 secs]    \r"
     ]
    },
    {
     "name": "stderr",
     "output_type": "stream",
     "text": [
      "\r",
      "1296it [2:05:55,  2.49s/it]"
     ]
    },
    {
     "name": "stdout",
     "output_type": "stream",
     "text": [
      "\n",
      "  571,908.0 Bytes [100.00%] received. Rate: [4362 KB/s].  ETA: [0 secs]    \r"
     ]
    },
    {
     "name": "stderr",
     "output_type": "stream",
     "text": [
      "\r",
      "1297it [2:05:56,  2.12s/it]"
     ]
    },
    {
     "name": "stdout",
     "output_type": "stream",
     "text": [
      "\n"
     ]
    },
    {
     "name": "stderr",
     "output_type": "stream",
     "text": [
      "ERROR: Private video\n",
      "Sign in if you've been granted access to this video\n",
      "1298it [2:05:57,  1.65s/it]"
     ]
    },
    {
     "name": "stdout",
     "output_type": "stream",
     "text": [
      "  335,586.0 Bytes [100.00%] received. Rate: [4112 KB/s].  ETA: [0 secs]    \r"
     ]
    },
    {
     "name": "stderr",
     "output_type": "stream",
     "text": [
      "\r",
      "1299it [2:05:58,  1.48s/it]"
     ]
    },
    {
     "name": "stdout",
     "output_type": "stream",
     "text": [
      "\n",
      "  2,418,305.0 Bytes [100.00%] received. Rate: [12180 KB/s].  ETA: [0 secs]    \r"
     ]
    },
    {
     "name": "stderr",
     "output_type": "stream",
     "text": [
      "\r",
      "1300it [2:06:00,  1.62s/it]"
     ]
    },
    {
     "name": "stdout",
     "output_type": "stream",
     "text": [
      "\n"
     ]
    },
    {
     "name": "stderr",
     "output_type": "stream",
     "text": [
      "ERROR: Video unavailable\n",
      "1301it [2:06:00,  1.27s/it]"
     ]
    },
    {
     "name": "stdout",
     "output_type": "stream",
     "text": [
      "  56,673,176.0 Bytes [100.00%] received. Rate: [24493 KB/s].  ETA: [0 secs]    \r"
     ]
    },
    {
     "name": "stderr",
     "output_type": "stream",
     "text": [
      "\r",
      "1302it [2:06:04,  2.11s/it]"
     ]
    },
    {
     "name": "stdout",
     "output_type": "stream",
     "text": [
      "\n"
     ]
    },
    {
     "name": "stderr",
     "output_type": "stream",
     "text": [
      "\r",
      "1303it [2:06:06,  1.90s/it]"
     ]
    },
    {
     "name": "stdout",
     "output_type": "stream",
     "text": [
      "  2,028,230.0 Bytes [100.00%] received. Rate: [3690 KB/s].  ETA: [0 secs]    \r"
     ]
    },
    {
     "name": "stderr",
     "output_type": "stream",
     "text": [
      "\r",
      "1304it [2:06:08,  2.01s/it]"
     ]
    },
    {
     "name": "stdout",
     "output_type": "stream",
     "text": [
      "\n",
      "  563,015.0 Bytes [100.00%] received. Rate: [4484 KB/s].  ETA: [0 secs]    \r"
     ]
    },
    {
     "name": "stderr",
     "output_type": "stream",
     "text": [
      "\r",
      "1305it [2:06:09,  1.75s/it]"
     ]
    },
    {
     "name": "stdout",
     "output_type": "stream",
     "text": [
      "\n",
      "  9,490,073.0 Bytes [100.00%] received. Rate: [18640 KB/s].  ETA: [0 secs]    \r"
     ]
    },
    {
     "name": "stderr",
     "output_type": "stream",
     "text": [
      "\r",
      "1306it [2:06:11,  1.79s/it]"
     ]
    },
    {
     "name": "stdout",
     "output_type": "stream",
     "text": [
      "\n",
      "  101,710.0 Bytes [100.00%] received. Rate: [ 838 KB/s].  ETA: [0 secs]    \r"
     ]
    },
    {
     "name": "stderr",
     "output_type": "stream",
     "text": [
      "\r",
      "1307it [2:06:12,  1.55s/it]"
     ]
    },
    {
     "name": "stdout",
     "output_type": "stream",
     "text": [
      "\n",
      "  1,091,856.0 Bytes [100.00%] received. Rate: [4184 KB/s].  ETA: [0 secs]    \r"
     ]
    },
    {
     "name": "stderr",
     "output_type": "stream",
     "text": [
      "\r",
      "1308it [2:06:14,  1.59s/it]"
     ]
    },
    {
     "name": "stdout",
     "output_type": "stream",
     "text": [
      "\n",
      "  1,377,314.0 Bytes [100.00%] received. Rate: [6986 KB/s].  ETA: [0 secs]    \r"
     ]
    },
    {
     "name": "stderr",
     "output_type": "stream",
     "text": [
      "\r",
      "1309it [2:06:15,  1.57s/it]"
     ]
    },
    {
     "name": "stdout",
     "output_type": "stream",
     "text": [
      "\n",
      "  415,633.0 Bytes [100.00%] received. Rate: [ 645 KB/s].  ETA: [0 secs]    \r"
     ]
    },
    {
     "name": "stderr",
     "output_type": "stream",
     "text": [
      "\r",
      "1310it [2:06:17,  1.67s/it]"
     ]
    },
    {
     "name": "stdout",
     "output_type": "stream",
     "text": [
      "\n",
      "  6,890,253.0 Bytes [100.00%] received. Rate: [24797 KB/s].  ETA: [0 secs]    \r"
     ]
    },
    {
     "name": "stderr",
     "output_type": "stream",
     "text": [
      "\r",
      "1311it [2:06:19,  1.61s/it]"
     ]
    },
    {
     "name": "stdout",
     "output_type": "stream",
     "text": [
      "\n",
      "  6,915,288.0 Bytes [100.00%] received. Rate: [18641 KB/s].  ETA: [0 secs]    \r"
     ]
    },
    {
     "name": "stderr",
     "output_type": "stream",
     "text": [
      "\r",
      "1312it [2:06:20,  1.59s/it]"
     ]
    },
    {
     "name": "stdout",
     "output_type": "stream",
     "text": [
      "\n",
      "  956,629.0 Bytes [100.00%] received. Rate: [5858 KB/s].  ETA: [0 secs]    \r"
     ]
    },
    {
     "name": "stderr",
     "output_type": "stream",
     "text": [
      "\r",
      "1313it [2:06:21,  1.51s/it]"
     ]
    },
    {
     "name": "stdout",
     "output_type": "stream",
     "text": [
      "\n",
      "  14,369,099.0 Bytes [100.00%] received. Rate: [19737 KB/s].  ETA: [0 secs]    \r"
     ]
    },
    {
     "name": "stderr",
     "output_type": "stream",
     "text": [
      "\r",
      "1314it [2:06:24,  1.79s/it]"
     ]
    },
    {
     "name": "stdout",
     "output_type": "stream",
     "text": [
      "\n",
      "  196,439.0 Bytes [100.00%] received. Rate: [ 800 KB/s].  ETA: [0 secs]    \r"
     ]
    },
    {
     "name": "stderr",
     "output_type": "stream",
     "text": [
      "\r",
      "1315it [2:06:26,  1.77s/it]"
     ]
    },
    {
     "name": "stdout",
     "output_type": "stream",
     "text": [
      "\n",
      "  9,478,166.0 Bytes [100.00%] received. Rate: [16907 KB/s].  ETA: [0 secs]    \r"
     ]
    },
    {
     "name": "stderr",
     "output_type": "stream",
     "text": [
      "\r",
      "1316it [2:06:28,  2.03s/it]"
     ]
    },
    {
     "name": "stdout",
     "output_type": "stream",
     "text": [
      "\n",
      "  6,903,188.0 Bytes [100.00%] received. Rate: [  77 KB/s].  ETA: [0 secs]    \r"
     ]
    },
    {
     "name": "stderr",
     "output_type": "stream",
     "text": [
      "\r",
      "1317it [2:07:59, 28.54s/it]"
     ]
    },
    {
     "name": "stdout",
     "output_type": "stream",
     "text": [
      "\n",
      "  42,444,260.0 Bytes [100.00%] received. Rate: [  60 KB/s].  ETA: [0 secs]      \r"
     ]
    },
    {
     "name": "stderr",
     "output_type": "stream",
     "text": [
      "\r",
      "1318it [2:19:32, 228.11s/it]"
     ]
    },
    {
     "name": "stdout",
     "output_type": "stream",
     "text": [
      "\n",
      "  5,319,216.0 Bytes [100.00%] received. Rate: [16001 KB/s].  ETA: [0 secs]    \r"
     ]
    },
    {
     "name": "stderr",
     "output_type": "stream",
     "text": [
      "\r",
      "1319it [2:19:34, 160.08s/it]"
     ]
    },
    {
     "name": "stdout",
     "output_type": "stream",
     "text": [
      "\n",
      "  273,638.0 Bytes [100.00%] received. Rate: [3020 KB/s].  ETA: [0 secs]    \r"
     ]
    },
    {
     "name": "stderr",
     "output_type": "stream",
     "text": [
      "\r",
      "1320it [2:19:35, 112.41s/it]"
     ]
    },
    {
     "name": "stdout",
     "output_type": "stream",
     "text": [
      "\n",
      "  3,432,048.0 Bytes [100.00%] received. Rate: [15363 KB/s].  ETA: [0 secs]    \r"
     ]
    },
    {
     "name": "stderr",
     "output_type": "stream",
     "text": [
      "\r",
      "1321it [2:19:37, 79.18s/it] "
     ]
    },
    {
     "name": "stdout",
     "output_type": "stream",
     "text": [
      "\n",
      "  5,420,671.0 Bytes [100.00%] received. Rate: [19855 KB/s].  ETA: [0 secs]    \r"
     ]
    },
    {
     "name": "stderr",
     "output_type": "stream",
     "text": [
      "\r",
      "1322it [2:19:38, 55.89s/it]"
     ]
    },
    {
     "name": "stdout",
     "output_type": "stream",
     "text": [
      "\n",
      "  1,158,302.0 Bytes [100.00%] received. Rate: [14159 KB/s].  ETA: [0 secs]    \r"
     ]
    },
    {
     "name": "stderr",
     "output_type": "stream",
     "text": [
      "\r",
      "1323it [2:19:39, 39.54s/it]"
     ]
    },
    {
     "name": "stdout",
     "output_type": "stream",
     "text": [
      "\n"
     ]
    },
    {
     "name": "stderr",
     "output_type": "stream",
     "text": [
      "ERROR: Video unavailable\n",
      "This video is no longer available because the YouTube account associated with this video has been terminated.\n",
      "1324it [2:19:40, 27.77s/it]"
     ]
    },
    {
     "name": "stdout",
     "output_type": "stream",
     "text": [
      "  1,798,137.0 Bytes [100.00%] received. Rate: [3492 KB/s].  ETA: [0 secs]    \r"
     ]
    },
    {
     "name": "stderr",
     "output_type": "stream",
     "text": [
      "\r",
      "1325it [2:19:42, 20.07s/it]"
     ]
    },
    {
     "name": "stdout",
     "output_type": "stream",
     "text": [
      "\n",
      "  2,011,769.0 Bytes [100.00%] received. Rate: [  68 KB/s].  ETA: [0 secs]    \r"
     ]
    },
    {
     "name": "stderr",
     "output_type": "stream",
     "text": [
      "\r",
      "1326it [2:20:12, 23.16s/it]"
     ]
    },
    {
     "name": "stdout",
     "output_type": "stream",
     "text": [
      "\n",
      "  2,930,637.0 Bytes [100.00%] received. Rate: [18729 KB/s].  ETA: [0 secs]    \r"
     ]
    },
    {
     "name": "stderr",
     "output_type": "stream",
     "text": [
      "\r",
      "1327it [2:20:14, 16.78s/it]"
     ]
    },
    {
     "name": "stdout",
     "output_type": "stream",
     "text": [
      "\n",
      "  3,615,794.0 Bytes [100.00%] received. Rate: [17506 KB/s].  ETA: [0 secs]    \r"
     ]
    },
    {
     "name": "stderr",
     "output_type": "stream",
     "text": [
      "\r",
      "1328it [2:20:16, 12.23s/it]"
     ]
    },
    {
     "name": "stdout",
     "output_type": "stream",
     "text": [
      "\n",
      "  8,132,195.0 Bytes [100.00%] received. Rate: [23121 KB/s].  ETA: [0 secs]    \r"
     ]
    },
    {
     "name": "stderr",
     "output_type": "stream",
     "text": [
      "\r",
      "1329it [2:20:18,  9.08s/it]"
     ]
    },
    {
     "name": "stdout",
     "output_type": "stream",
     "text": [
      "\n",
      "  832,153.0 Bytes [100.00%] received. Rate: [6918 KB/s].  ETA: [0 secs]    \r"
     ]
    },
    {
     "name": "stderr",
     "output_type": "stream",
     "text": [
      "\r",
      "1330it [2:20:19,  6.84s/it]"
     ]
    },
    {
     "name": "stdout",
     "output_type": "stream",
     "text": [
      "\n"
     ]
    },
    {
     "name": "stderr",
     "output_type": "stream",
     "text": [
      "ERROR: Video unavailable\n",
      "1331it [2:20:20,  4.95s/it]ERROR: Video unavailable\n",
      "1333it [2:20:21,  2.88s/it]"
     ]
    },
    {
     "name": "stdout",
     "output_type": "stream",
     "text": [
      "  5,055,861.0 Bytes [100.00%] received. Rate: [4391 KB/s].  ETA: [0 secs]    \r"
     ]
    },
    {
     "name": "stderr",
     "output_type": "stream",
     "text": [
      "\r",
      "1334it [2:20:24,  2.69s/it]"
     ]
    },
    {
     "name": "stdout",
     "output_type": "stream",
     "text": [
      "\n",
      "  390,283.0 Bytes [100.00%] received. Rate: [ 807 KB/s].  ETA: [0 secs]    \r"
     ]
    },
    {
     "name": "stderr",
     "output_type": "stream",
     "text": [
      "\r",
      "1335it [2:20:26,  2.53s/it]"
     ]
    },
    {
     "name": "stdout",
     "output_type": "stream",
     "text": [
      "\n",
      "  759,776.0 Bytes [100.00%] received. Rate: [2223 KB/s].  ETA: [0 secs]    \r"
     ]
    },
    {
     "name": "stderr",
     "output_type": "stream",
     "text": [
      "\r",
      "1336it [2:20:28,  2.35s/it]"
     ]
    },
    {
     "name": "stdout",
     "output_type": "stream",
     "text": [
      "\n",
      "  52,676,867.0 Bytes [100.00%] received. Rate: [11093 KB/s].  ETA: [0 secs]    \r"
     ]
    },
    {
     "name": "stderr",
     "output_type": "stream",
     "text": [
      "\r",
      "1337it [2:20:33,  3.12s/it]"
     ]
    },
    {
     "name": "stdout",
     "output_type": "stream",
     "text": [
      "\n",
      "  5,657,606.0 Bytes [100.00%] received. Rate: [10188 KB/s].  ETA: [0 secs]    \r"
     ]
    },
    {
     "name": "stderr",
     "output_type": "stream",
     "text": [
      "\r",
      "1338it [2:20:34,  2.75s/it]"
     ]
    },
    {
     "name": "stdout",
     "output_type": "stream",
     "text": [
      "\n",
      "  3,519,702.0 Bytes [100.00%] received. Rate: [16545 KB/s].  ETA: [0 secs]    \r"
     ]
    },
    {
     "name": "stderr",
     "output_type": "stream",
     "text": [
      "\r",
      "1339it [2:20:36,  2.40s/it]"
     ]
    },
    {
     "name": "stdout",
     "output_type": "stream",
     "text": [
      "\n",
      "  7,313,002.0 Bytes [100.00%] received. Rate: [14223 KB/s].  ETA: [0 secs]    \r"
     ]
    },
    {
     "name": "stderr",
     "output_type": "stream",
     "text": [
      "\r",
      "1340it [2:20:38,  2.37s/it]"
     ]
    },
    {
     "name": "stdout",
     "output_type": "stream",
     "text": [
      "\n"
     ]
    },
    {
     "name": "stderr",
     "output_type": "stream",
     "text": [
      "ERROR: Video unavailable\n",
      "This video is no longer available because the YouTube account associated with this video has been terminated.\n",
      "1341it [2:20:39,  1.75s/it]"
     ]
    },
    {
     "name": "stdout",
     "output_type": "stream",
     "text": [
      "  4,755,719.0 Bytes [100.00%] received. Rate: [20612 KB/s].  ETA: [0 secs]    \r"
     ]
    },
    {
     "name": "stderr",
     "output_type": "stream",
     "text": [
      "\r",
      "1342it [2:20:40,  1.69s/it]"
     ]
    },
    {
     "name": "stdout",
     "output_type": "stream",
     "text": [
      "\n",
      "  20,253,734.0 Bytes [100.00%] received. Rate: [8298 KB/s].  ETA: [0 secs]    \r"
     ]
    },
    {
     "name": "stderr",
     "output_type": "stream",
     "text": [
      "\r",
      "1343it [2:20:44,  2.35s/it]"
     ]
    },
    {
     "name": "stdout",
     "output_type": "stream",
     "text": [
      "\n",
      "  3,406,922.0 Bytes [100.00%] received. Rate: [17837 KB/s].  ETA: [0 secs]    \r"
     ]
    },
    {
     "name": "stderr",
     "output_type": "stream",
     "text": [
      "\r",
      "1344it [2:20:45,  2.06s/it]"
     ]
    },
    {
     "name": "stdout",
     "output_type": "stream",
     "text": [
      "\n"
     ]
    },
    {
     "name": "stderr",
     "output_type": "stream",
     "text": [
      "ERROR: Video unavailable\n",
      "1345it [2:20:46,  1.54s/it]ERROR: Video unavailable\n",
      "1346it [2:20:46,  1.25s/it]"
     ]
    },
    {
     "name": "stdout",
     "output_type": "stream",
     "text": [
      "  5,948,142.0 Bytes [100.00%] received. Rate: [9727 KB/s].  ETA: [0 secs]    \r"
     ]
    },
    {
     "name": "stderr",
     "output_type": "stream",
     "text": [
      "\r",
      "1347it [2:20:49,  1.62s/it]"
     ]
    },
    {
     "name": "stdout",
     "output_type": "stream",
     "text": [
      "\n"
     ]
    },
    {
     "name": "stderr",
     "output_type": "stream",
     "text": [
      "ERROR: Video unavailable\n",
      "1348it [2:20:49,  1.31s/it]"
     ]
    },
    {
     "name": "stdout",
     "output_type": "stream",
     "text": [
      "  2,159,436.0 Bytes [100.00%] received. Rate: [8851 KB/s].  ETA: [0 secs]    \r"
     ]
    },
    {
     "name": "stderr",
     "output_type": "stream",
     "text": [
      "\r",
      "1349it [2:20:51,  1.34s/it]"
     ]
    },
    {
     "name": "stdout",
     "output_type": "stream",
     "text": [
      "\n",
      "  164,420.0 Bytes [100.00%] received. Rate: [1773 KB/s].  ETA: [0 secs]    \r"
     ]
    },
    {
     "name": "stderr",
     "output_type": "stream",
     "text": [
      "\r",
      "1350it [2:20:52,  1.30s/it]"
     ]
    },
    {
     "name": "stdout",
     "output_type": "stream",
     "text": [
      "\n"
     ]
    },
    {
     "name": "stderr",
     "output_type": "stream",
     "text": [
      "ERROR: Private video\n",
      "Sign in if you've been granted access to this video\n",
      "1351it [2:20:52,  1.04s/it]"
     ]
    },
    {
     "name": "stdout",
     "output_type": "stream",
     "text": [
      "  17,870,795.0 Bytes [100.00%] received. Rate: [38965 KB/s].  ETA: [0 secs]    \r"
     ]
    },
    {
     "name": "stderr",
     "output_type": "stream",
     "text": [
      "\r",
      "1352it [2:20:54,  1.33s/it]"
     ]
    },
    {
     "name": "stdout",
     "output_type": "stream",
     "text": [
      "\n"
     ]
    },
    {
     "name": "stderr",
     "output_type": "stream",
     "text": [
      "1353it [2:20:56,  1.40s/it]ERROR: Video unavailable\n",
      "1354it [2:20:56,  1.09s/it]"
     ]
    },
    {
     "name": "stdout",
     "output_type": "stream",
     "text": [
      "  545,374.0 Bytes [100.00%] received. Rate: [1790 KB/s].  ETA: [0 secs]    \r"
     ]
    },
    {
     "name": "stderr",
     "output_type": "stream",
     "text": [
      "\r",
      "1355it [2:20:58,  1.22s/it]"
     ]
    },
    {
     "name": "stdout",
     "output_type": "stream",
     "text": [
      "\n",
      "  2,875,663.0 Bytes [100.00%] received. Rate: [19976 KB/s].  ETA: [0 secs]    \r"
     ]
    },
    {
     "name": "stderr",
     "output_type": "stream",
     "text": [
      "\r",
      "1356it [2:21:00,  1.44s/it]"
     ]
    },
    {
     "name": "stdout",
     "output_type": "stream",
     "text": [
      "\n",
      "  1,732,422.0 Bytes [100.00%] received. Rate: [6474 KB/s].  ETA: [0 secs]    \r"
     ]
    },
    {
     "name": "stderr",
     "output_type": "stream",
     "text": [
      "\r",
      "1357it [2:21:02,  1.50s/it]"
     ]
    },
    {
     "name": "stdout",
     "output_type": "stream",
     "text": [
      "\n",
      "  784,224.0 Bytes [100.00%] received. Rate: [1006 KB/s].  ETA: [0 secs]    \r"
     ]
    },
    {
     "name": "stderr",
     "output_type": "stream",
     "text": [
      "\r",
      "1358it [2:21:03,  1.62s/it]"
     ]
    },
    {
     "name": "stdout",
     "output_type": "stream",
     "text": [
      "\n",
      "  2,863,567.0 Bytes [100.00%] received. Rate: [16475 KB/s].  ETA: [0 secs]    \r"
     ]
    },
    {
     "name": "stderr",
     "output_type": "stream",
     "text": [
      "\r",
      "1359it [2:21:05,  1.61s/it]"
     ]
    },
    {
     "name": "stdout",
     "output_type": "stream",
     "text": [
      "\n",
      "  4,774,578.0 Bytes [100.00%] received. Rate: [13215 KB/s].  ETA: [0 secs]    \r"
     ]
    },
    {
     "name": "stderr",
     "output_type": "stream",
     "text": [
      "\r",
      "1360it [2:21:07,  1.62s/it]"
     ]
    },
    {
     "name": "stdout",
     "output_type": "stream",
     "text": [
      "\n",
      "  626,572.0 Bytes [100.00%] received. Rate: [1872 KB/s].  ETA: [0 secs]    \r"
     ]
    },
    {
     "name": "stderr",
     "output_type": "stream",
     "text": [
      "\r",
      "1361it [2:21:08,  1.64s/it]"
     ]
    },
    {
     "name": "stdout",
     "output_type": "stream",
     "text": [
      "\n"
     ]
    },
    {
     "name": "stderr",
     "output_type": "stream",
     "text": [
      "ERROR: Video unavailable\n",
      "1362it [2:21:09,  1.26s/it]"
     ]
    },
    {
     "name": "stdout",
     "output_type": "stream",
     "text": [
      "  3,085,788.0 Bytes [100.00%] received. Rate: [15462 KB/s].  ETA: [0 secs]    \r"
     ]
    },
    {
     "name": "stderr",
     "output_type": "stream",
     "text": [
      "\r",
      "1363it [2:21:11,  1.43s/it]"
     ]
    },
    {
     "name": "stdout",
     "output_type": "stream",
     "text": [
      "\n",
      "  8,519,700.0 Bytes [100.00%] received. Rate: [20420 KB/s].  ETA: [0 secs]    \r"
     ]
    },
    {
     "name": "stderr",
     "output_type": "stream",
     "text": [
      "\r",
      "1364it [2:21:13,  1.64s/it]"
     ]
    },
    {
     "name": "stdout",
     "output_type": "stream",
     "text": [
      "\n",
      "  4,811,922.0 Bytes [100.00%] received. Rate: [14828 KB/s].  ETA: [0 secs]    \r"
     ]
    },
    {
     "name": "stderr",
     "output_type": "stream",
     "text": [
      "\r",
      "1365it [2:21:14,  1.60s/it]"
     ]
    },
    {
     "name": "stdout",
     "output_type": "stream",
     "text": [
      "\n",
      "  3,449,480.0 Bytes [100.00%] received. Rate: [17612 KB/s].  ETA: [0 secs]    \r"
     ]
    },
    {
     "name": "stderr",
     "output_type": "stream",
     "text": [
      "\r",
      "1366it [2:21:16,  1.57s/it]"
     ]
    },
    {
     "name": "stdout",
     "output_type": "stream",
     "text": [
      "\n",
      "  15,131,617.0 Bytes [100.00%] received. Rate: [ 997 KB/s].  ETA: [0 secs]    \r"
     ]
    },
    {
     "name": "stderr",
     "output_type": "stream",
     "text": [
      "\r",
      "1367it [2:21:23,  3.38s/it]"
     ]
    },
    {
     "name": "stdout",
     "output_type": "stream",
     "text": [
      "\n",
      "  550,065.0 Bytes [100.00%] received. Rate: [3256 KB/s].  ETA: [0 secs]    \r"
     ]
    },
    {
     "name": "stderr",
     "output_type": "stream",
     "text": [
      "\r",
      "1368it [2:21:24,  2.70s/it]"
     ]
    },
    {
     "name": "stdout",
     "output_type": "stream",
     "text": [
      "\n",
      "  13,944,038.0 Bytes [100.00%] received. Rate: [25061 KB/s].  ETA: [0 secs]    \r"
     ]
    },
    {
     "name": "stderr",
     "output_type": "stream",
     "text": [
      "\r",
      "1369it [2:21:26,  2.48s/it]"
     ]
    },
    {
     "name": "stdout",
     "output_type": "stream",
     "text": [
      "\n",
      "  3,818,072.0 Bytes [100.00%] received. Rate: [15606 KB/s].  ETA: [0 secs]    \r"
     ]
    },
    {
     "name": "stderr",
     "output_type": "stream",
     "text": [
      "\r",
      "1370it [2:21:28,  2.29s/it]"
     ]
    },
    {
     "name": "stdout",
     "output_type": "stream",
     "text": [
      "\n",
      "  1,189,079.0 Bytes [100.00%] received. Rate: [11772 KB/s].  ETA: [0 secs]    \r"
     ]
    },
    {
     "name": "stderr",
     "output_type": "stream",
     "text": [
      "\r",
      "1371it [2:21:29,  1.93s/it]"
     ]
    },
    {
     "name": "stdout",
     "output_type": "stream",
     "text": [
      "\n",
      "  2,836,553.0 Bytes [100.00%] received. Rate: [10111 KB/s].  ETA: [0 secs]    \r"
     ]
    },
    {
     "name": "stderr",
     "output_type": "stream",
     "text": [
      "\r",
      "1372it [2:21:31,  1.79s/it]"
     ]
    },
    {
     "name": "stdout",
     "output_type": "stream",
     "text": [
      "\n",
      "  3,936,998.0 Bytes [100.00%] received. Rate: [12866 KB/s].  ETA: [0 secs]    \r"
     ]
    },
    {
     "name": "stderr",
     "output_type": "stream",
     "text": [
      "\r",
      "1373it [2:21:33,  1.99s/it]"
     ]
    },
    {
     "name": "stdout",
     "output_type": "stream",
     "text": [
      "\n"
     ]
    },
    {
     "name": "stderr",
     "output_type": "stream",
     "text": [
      "ERROR: Video unavailable\n",
      "1374it [2:21:34,  1.51s/it]"
     ]
    },
    {
     "name": "stdout",
     "output_type": "stream",
     "text": [
      "  1,826,519.0 Bytes [100.00%] received. Rate: [12000 KB/s].  ETA: [0 secs]    \r"
     ]
    },
    {
     "name": "stderr",
     "output_type": "stream",
     "text": [
      "\r",
      "1375it [2:21:35,  1.47s/it]"
     ]
    },
    {
     "name": "stdout",
     "output_type": "stream",
     "text": [
      "\n",
      "  132,297.0 Bytes [100.00%] received. Rate: [ 732 KB/s].  ETA: [0 secs]    \r"
     ]
    },
    {
     "name": "stderr",
     "output_type": "stream",
     "text": [
      "\r",
      "1376it [2:21:36,  1.42s/it]"
     ]
    },
    {
     "name": "stdout",
     "output_type": "stream",
     "text": [
      "\n",
      "  3,362,141.0 Bytes [100.00%] received. Rate: [3829 KB/s].  ETA: [0 secs]    \r"
     ]
    },
    {
     "name": "stderr",
     "output_type": "stream",
     "text": [
      "\r",
      "1377it [2:21:39,  1.70s/it]"
     ]
    },
    {
     "name": "stdout",
     "output_type": "stream",
     "text": [
      "\n",
      "  13,290,155.0 Bytes [100.00%] received. Rate: [13744 KB/s].  ETA: [0 secs]    \r"
     ]
    },
    {
     "name": "stderr",
     "output_type": "stream",
     "text": [
      "\r",
      "1378it [2:21:41,  1.89s/it]"
     ]
    },
    {
     "name": "stdout",
     "output_type": "stream",
     "text": [
      "\n"
     ]
    },
    {
     "name": "stderr",
     "output_type": "stream",
     "text": [
      "ERROR: This video has been removed for violating YouTube's Terms of Service.\n",
      "1379it [2:21:41,  1.47s/it]"
     ]
    },
    {
     "name": "stdout",
     "output_type": "stream",
     "text": [
      "  9,549,742.0 Bytes [100.00%] received. Rate: [23542 KB/s].  ETA: [0 secs]    \r"
     ]
    },
    {
     "name": "stderr",
     "output_type": "stream",
     "text": [
      "\r",
      "1380it [2:21:43,  1.61s/it]"
     ]
    },
    {
     "name": "stdout",
     "output_type": "stream",
     "text": [
      "\n",
      "  1,777,169.0 Bytes [100.00%] received. Rate: [8198 KB/s].  ETA: [0 secs]    \r"
     ]
    },
    {
     "name": "stderr",
     "output_type": "stream",
     "text": [
      "\r",
      "1381it [2:21:45,  1.60s/it]"
     ]
    },
    {
     "name": "stdout",
     "output_type": "stream",
     "text": [
      "\n",
      "  3,356,701.0 Bytes [100.00%] received. Rate: [17922 KB/s].  ETA: [0 secs]    \r"
     ]
    },
    {
     "name": "stderr",
     "output_type": "stream",
     "text": [
      "\r",
      "1382it [2:21:47,  1.71s/it]"
     ]
    },
    {
     "name": "stdout",
     "output_type": "stream",
     "text": [
      "\n",
      "  1,820,610.0 Bytes [100.00%] received. Rate: [4485 KB/s].  ETA: [0 secs]    \r"
     ]
    },
    {
     "name": "stderr",
     "output_type": "stream",
     "text": [
      "\r",
      "1383it [2:21:49,  1.79s/it]"
     ]
    },
    {
     "name": "stdout",
     "output_type": "stream",
     "text": [
      "\n"
     ]
    },
    {
     "name": "stderr",
     "output_type": "stream",
     "text": [
      "\r",
      "1384it [2:21:50,  1.56s/it]"
     ]
    },
    {
     "name": "stdout",
     "output_type": "stream",
     "text": [
      "  10,007,159.0 Bytes [100.00%] received. Rate: [32399 KB/s].  ETA: [0 secs]    \r"
     ]
    },
    {
     "name": "stderr",
     "output_type": "stream",
     "text": [
      "\r",
      "1385it [2:21:52,  1.77s/it]"
     ]
    },
    {
     "name": "stdout",
     "output_type": "stream",
     "text": [
      "\n"
     ]
    },
    {
     "name": "stderr",
     "output_type": "stream",
     "text": [
      "ERROR: Video unavailable\n",
      "1386it [2:21:53,  1.43s/it]"
     ]
    },
    {
     "name": "stdout",
     "output_type": "stream",
     "text": [
      "  56,438,500.0 Bytes [100.00%] received. Rate: [23815 KB/s].  ETA: [0 secs]    \r"
     ]
    },
    {
     "name": "stderr",
     "output_type": "stream",
     "text": [
      "\r",
      "1387it [2:21:58,  2.52s/it]"
     ]
    },
    {
     "name": "stdout",
     "output_type": "stream",
     "text": [
      "\n",
      "  240,369.0 Bytes [100.00%] received. Rate: [1610 KB/s].  ETA: [0 secs]    \r"
     ]
    },
    {
     "name": "stderr",
     "output_type": "stream",
     "text": [
      "\r",
      "1388it [2:21:59,  2.21s/it]"
     ]
    },
    {
     "name": "stdout",
     "output_type": "stream",
     "text": [
      "\n"
     ]
    },
    {
     "name": "stderr",
     "output_type": "stream",
     "text": [
      "ERROR: Video unavailable\n",
      "This video is no longer available because the YouTube account associated with this video has been terminated.\n",
      "1389it [2:22:00,  1.66s/it]"
     ]
    },
    {
     "name": "stdout",
     "output_type": "stream",
     "text": [
      "  11,676,735.0 Bytes [100.00%] received. Rate: [26084 KB/s].  ETA: [0 secs]    \r"
     ]
    },
    {
     "name": "stderr",
     "output_type": "stream",
     "text": [
      "\r",
      "1390it [2:22:02,  1.85s/it]"
     ]
    },
    {
     "name": "stdout",
     "output_type": "stream",
     "text": [
      "\n",
      "  9,015,830.0 Bytes [100.00%] received. Rate: [11306 KB/s].  ETA: [0 secs]    \r"
     ]
    },
    {
     "name": "stderr",
     "output_type": "stream",
     "text": [
      "\r",
      "1391it [2:22:04,  2.02s/it]"
     ]
    },
    {
     "name": "stdout",
     "output_type": "stream",
     "text": [
      "\n",
      "  54,928,653.0 Bytes [100.00%] received. Rate: [13729 KB/s].  ETA: [0 secs]    \r"
     ]
    },
    {
     "name": "stderr",
     "output_type": "stream",
     "text": [
      "\r",
      "1392it [2:22:08,  2.56s/it]"
     ]
    },
    {
     "name": "stdout",
     "output_type": "stream",
     "text": [
      "\n",
      "  6,528,856.0 Bytes [100.00%] received. Rate: [19622 KB/s].  ETA: [0 secs]    \r"
     ]
    },
    {
     "name": "stderr",
     "output_type": "stream",
     "text": [
      "\r",
      "1393it [2:22:10,  2.34s/it]"
     ]
    },
    {
     "name": "stdout",
     "output_type": "stream",
     "text": [
      "\n",
      "  573,799.0 Bytes [100.00%] received. Rate: [4050 KB/s].  ETA: [0 secs]    \r"
     ]
    },
    {
     "name": "stderr",
     "output_type": "stream",
     "text": [
      "\r",
      "1394it [2:22:12,  2.17s/it]"
     ]
    },
    {
     "name": "stdout",
     "output_type": "stream",
     "text": [
      "\n",
      "  783,984.0 Bytes [100.00%] received. Rate: [4887 KB/s].  ETA: [0 secs]    \r"
     ]
    },
    {
     "name": "stderr",
     "output_type": "stream",
     "text": [
      "\r",
      "1395it [2:22:13,  1.96s/it]"
     ]
    },
    {
     "name": "stdout",
     "output_type": "stream",
     "text": [
      "\n",
      "  475,063.0 Bytes [100.00%] received. Rate: [4892 KB/s].  ETA: [0 secs]    \r"
     ]
    },
    {
     "name": "stderr",
     "output_type": "stream",
     "text": [
      "\r",
      "1396it [2:22:15,  1.77s/it]"
     ]
    },
    {
     "name": "stdout",
     "output_type": "stream",
     "text": [
      "\n",
      "  12,039,816.0 Bytes [100.00%] received. Rate: [9742 KB/s].  ETA: [0 secs]    \r"
     ]
    },
    {
     "name": "stderr",
     "output_type": "stream",
     "text": [
      "\r",
      "1397it [2:22:17,  2.08s/it]"
     ]
    },
    {
     "name": "stdout",
     "output_type": "stream",
     "text": [
      "\n",
      "  1,084,217.0 Bytes [100.00%] received. Rate: [6566 KB/s].  ETA: [0 secs]    \r"
     ]
    },
    {
     "name": "stderr",
     "output_type": "stream",
     "text": [
      "\r",
      "1398it [2:22:19,  1.79s/it]"
     ]
    },
    {
     "name": "stdout",
     "output_type": "stream",
     "text": [
      "\n",
      "  3,391,122.0 Bytes [100.00%] received. Rate: [28191 KB/s].  ETA: [0 secs]    \r"
     ]
    },
    {
     "name": "stderr",
     "output_type": "stream",
     "text": [
      "\r",
      "1399it [2:22:20,  1.80s/it]"
     ]
    },
    {
     "name": "stdout",
     "output_type": "stream",
     "text": [
      "\n",
      "  84,123.0 Bytes [100.00%] received. Rate: [ 569 KB/s].  ETA: [0 secs]    \r"
     ]
    },
    {
     "name": "stderr",
     "output_type": "stream",
     "text": [
      "\r",
      "1400it [2:22:21,  1.56s/it]"
     ]
    },
    {
     "name": "stdout",
     "output_type": "stream",
     "text": [
      "\n",
      "  3,670,058.0 Bytes [100.00%] received. Rate: [18606 KB/s].  ETA: [0 secs]    \r"
     ]
    },
    {
     "name": "stderr",
     "output_type": "stream",
     "text": [
      "\r",
      "1401it [2:22:23,  1.47s/it]"
     ]
    },
    {
     "name": "stdout",
     "output_type": "stream",
     "text": [
      "\n"
     ]
    },
    {
     "name": "stderr",
     "output_type": "stream",
     "text": [
      "ERROR: Private video\n",
      "Sign in if you've been granted access to this video\n",
      "1402it [2:22:23,  1.17s/it]"
     ]
    },
    {
     "name": "stdout",
     "output_type": "stream",
     "text": [
      "  406,530.0 Bytes [100.00%] received. Rate: [2891 KB/s].  ETA: [0 secs]    \r"
     ]
    },
    {
     "name": "stderr",
     "output_type": "stream",
     "text": [
      "\r",
      "1403it [2:22:24,  1.21s/it]"
     ]
    },
    {
     "name": "stdout",
     "output_type": "stream",
     "text": [
      "\n"
     ]
    },
    {
     "name": "stderr",
     "output_type": "stream",
     "text": [
      "\r",
      "1404it [2:22:26,  1.16s/it]"
     ]
    },
    {
     "name": "stdout",
     "output_type": "stream",
     "text": [
      "  3,840,875.0 Bytes [100.00%] received. Rate: [  76 KB/s].  ETA: [0 secs]    \r"
     ]
    },
    {
     "name": "stderr",
     "output_type": "stream",
     "text": [
      "\r",
      "1405it [2:23:17, 16.12s/it]"
     ]
    },
    {
     "name": "stdout",
     "output_type": "stream",
     "text": [
      "\n",
      "  14,002,696.0 Bytes [100.00%] received. Rate: [24743 KB/s].  ETA: [0 secs]    \r"
     ]
    },
    {
     "name": "stderr",
     "output_type": "stream",
     "text": [
      "\r",
      "1406it [2:23:19, 12.01s/it]"
     ]
    },
    {
     "name": "stdout",
     "output_type": "stream",
     "text": [
      "\n"
     ]
    },
    {
     "name": "stderr",
     "output_type": "stream",
     "text": [
      "ERROR: Video unavailable\n",
      "1407it [2:23:19,  8.54s/it]"
     ]
    },
    {
     "name": "stdout",
     "output_type": "stream",
     "text": [
      "  1,742,018.0 Bytes [100.00%] received. Rate: [  69 KB/s].  ETA: [0 secs]    \r"
     ]
    },
    {
     "name": "stderr",
     "output_type": "stream",
     "text": [
      "\r",
      "1408it [2:23:45, 13.78s/it]"
     ]
    },
    {
     "name": "stdout",
     "output_type": "stream",
     "text": [
      "\n",
      "  945,415.0 Bytes [100.00%] received. Rate: [8660 KB/s].  ETA: [0 secs]    \r"
     ]
    },
    {
     "name": "stderr",
     "output_type": "stream",
     "text": [
      "\r",
      "1409it [2:23:47, 10.19s/it]"
     ]
    },
    {
     "name": "stdout",
     "output_type": "stream",
     "text": [
      "\n",
      "  4,875,050.0 Bytes [100.00%] received. Rate: [21134 KB/s].  ETA: [0 secs]    \r"
     ]
    },
    {
     "name": "stderr",
     "output_type": "stream",
     "text": [
      "\r",
      "1410it [2:23:48,  7.50s/it]"
     ]
    },
    {
     "name": "stdout",
     "output_type": "stream",
     "text": [
      "\n",
      "  3,053,140.0 Bytes [100.00%] received. Rate: [4822 KB/s].  ETA: [0 secs]    \r"
     ]
    },
    {
     "name": "stderr",
     "output_type": "stream",
     "text": [
      "\r",
      "1411it [2:23:51,  5.93s/it]"
     ]
    },
    {
     "name": "stdout",
     "output_type": "stream",
     "text": [
      "\n",
      "  728,352.0 Bytes [100.00%] received. Rate: [4007 KB/s].  ETA: [0 secs]    \r"
     ]
    },
    {
     "name": "stderr",
     "output_type": "stream",
     "text": [
      "\r",
      "1412it [2:23:53,  4.71s/it]"
     ]
    },
    {
     "name": "stdout",
     "output_type": "stream",
     "text": [
      "\n",
      "  246,003.0 Bytes [100.00%] received. Rate: [2843 KB/s].  ETA: [0 secs]    \r"
     ]
    },
    {
     "name": "stderr",
     "output_type": "stream",
     "text": [
      "\r",
      "1413it [2:23:54,  3.69s/it]"
     ]
    },
    {
     "name": "stdout",
     "output_type": "stream",
     "text": [
      "\n",
      "  138,667.0 Bytes [100.00%] received. Rate: [1957 KB/s].  ETA: [0 secs]    \r"
     ]
    },
    {
     "name": "stderr",
     "output_type": "stream",
     "text": [
      "\r",
      "1414it [2:23:55,  2.98s/it]"
     ]
    },
    {
     "name": "stdout",
     "output_type": "stream",
     "text": [
      "\n"
     ]
    },
    {
     "name": "stderr",
     "output_type": "stream",
     "text": [
      "ERROR: Private video\n",
      "Sign in if you've been granted access to this video\n",
      "1415it [2:23:56,  2.25s/it]"
     ]
    },
    {
     "name": "stdout",
     "output_type": "stream",
     "text": [
      "  21,046,441.0 Bytes [100.00%] received. Rate: [53020 KB/s].  ETA: [0 secs]    \r"
     ]
    },
    {
     "name": "stderr",
     "output_type": "stream",
     "text": [
      "\r",
      "1416it [2:23:58,  2.23s/it]"
     ]
    },
    {
     "name": "stdout",
     "output_type": "stream",
     "text": [
      "\n"
     ]
    },
    {
     "name": "stderr",
     "output_type": "stream",
     "text": [
      "ERROR: Video unavailable\n",
      "1417it [2:23:58,  1.70s/it]"
     ]
    },
    {
     "name": "stdout",
     "output_type": "stream",
     "text": [
      "  3,524,770.0 Bytes [100.00%] received. Rate: [15464 KB/s].  ETA: [0 secs]    \r"
     ]
    },
    {
     "name": "stderr",
     "output_type": "stream",
     "text": [
      "\r",
      "1418it [2:24:00,  1.67s/it]"
     ]
    },
    {
     "name": "stdout",
     "output_type": "stream",
     "text": [
      "\n",
      "  47,823,187.0 Bytes [100.00%] received. Rate: [51183 KB/s].  ETA: [0 secs]    \r"
     ]
    },
    {
     "name": "stderr",
     "output_type": "stream",
     "text": [
      "\r",
      "1419it [2:24:04,  2.24s/it]"
     ]
    },
    {
     "name": "stdout",
     "output_type": "stream",
     "text": [
      "\n",
      "  973,319.0 Bytes [100.00%] received. Rate: [8728 KB/s].  ETA: [0 secs]    \r"
     ]
    },
    {
     "name": "stderr",
     "output_type": "stream",
     "text": [
      "\r",
      "1420it [2:24:05,  1.97s/it]"
     ]
    },
    {
     "name": "stdout",
     "output_type": "stream",
     "text": [
      "\n",
      "  6,534,752.0 Bytes [100.00%] received. Rate: [15616 KB/s].  ETA: [0 secs]    \r"
     ]
    },
    {
     "name": "stderr",
     "output_type": "stream",
     "text": [
      "\r",
      "1421it [2:24:07,  1.92s/it]"
     ]
    },
    {
     "name": "stdout",
     "output_type": "stream",
     "text": [
      "\n"
     ]
    },
    {
     "name": "stderr",
     "output_type": "stream",
     "text": [
      "\r",
      "1422it [2:24:08,  1.62s/it]"
     ]
    },
    {
     "name": "stdout",
     "output_type": "stream",
     "text": [
      "  5,284,644.0 Bytes [100.00%] received. Rate: [11083 KB/s].  ETA: [0 secs]    \r"
     ]
    },
    {
     "name": "stderr",
     "output_type": "stream",
     "text": [
      "\r",
      "1423it [2:24:10,  1.81s/it]"
     ]
    },
    {
     "name": "stdout",
     "output_type": "stream",
     "text": [
      "\n",
      "  9,298,379.0 Bytes [100.00%] received. Rate: [  51 KB/s].  ETA: [0 secs]     \r"
     ]
    },
    {
     "name": "stderr",
     "output_type": "stream",
     "text": [
      "\r",
      "1424it [2:27:09, 55.07s/it]"
     ]
    },
    {
     "name": "stdout",
     "output_type": "stream",
     "text": [
      "\n",
      "  8,004,278.0 Bytes [100.00%] received. Rate: [23502 KB/s].  ETA: [0 secs]    \r"
     ]
    },
    {
     "name": "stderr",
     "output_type": "stream",
     "text": [
      "\r",
      "1425it [2:27:12, 39.28s/it]"
     ]
    },
    {
     "name": "stdout",
     "output_type": "stream",
     "text": [
      "\n",
      "  512,897.0 Bytes [100.00%] received. Rate: [7356 KB/s].  ETA: [0 secs]    \r"
     ]
    },
    {
     "name": "stderr",
     "output_type": "stream",
     "text": [
      "\r",
      "1426it [2:27:13, 27.84s/it]"
     ]
    },
    {
     "name": "stdout",
     "output_type": "stream",
     "text": [
      "\n"
     ]
    },
    {
     "name": "stderr",
     "output_type": "stream",
     "text": [
      "ERROR: Private video\n",
      "Sign in if you've been granted access to this video\n",
      "1427it [2:27:13, 19.63s/it]"
     ]
    },
    {
     "name": "stdout",
     "output_type": "stream",
     "text": [
      "  3,931,871.0 Bytes [100.00%] received. Rate: [18646 KB/s].  ETA: [0 secs]    \r"
     ]
    },
    {
     "name": "stderr",
     "output_type": "stream",
     "text": [
      "\r",
      "1428it [2:27:15, 14.23s/it]"
     ]
    },
    {
     "name": "stdout",
     "output_type": "stream",
     "text": [
      "\n"
     ]
    },
    {
     "name": "stderr",
     "output_type": "stream",
     "text": [
      "ERROR: Private video\n",
      "Sign in if you've been granted access to this video\n",
      "1429it [2:27:15, 10.13s/it]"
     ]
    },
    {
     "name": "stdout",
     "output_type": "stream",
     "text": [
      "  5,685,275.0 Bytes [100.00%] received. Rate: [5795 KB/s].  ETA: [0 secs]    \r"
     ]
    },
    {
     "name": "stderr",
     "output_type": "stream",
     "text": [
      "\r",
      "1430it [2:27:18,  7.90s/it]"
     ]
    },
    {
     "name": "stdout",
     "output_type": "stream",
     "text": [
      "\n"
     ]
    },
    {
     "name": "stderr",
     "output_type": "stream",
     "text": [
      "ERROR: Private video\n",
      "Sign in if you've been granted access to this video\n",
      "1431it [2:27:19,  5.64s/it]"
     ]
    },
    {
     "name": "stdout",
     "output_type": "stream",
     "text": [
      "  1,175,939.0 Bytes [100.00%] received. Rate: [3472 KB/s].  ETA: [0 secs]    \r"
     ]
    },
    {
     "name": "stderr",
     "output_type": "stream",
     "text": [
      "\r",
      "1432it [2:27:21,  4.58s/it]"
     ]
    },
    {
     "name": "stdout",
     "output_type": "stream",
     "text": [
      "\n"
     ]
    },
    {
     "name": "stderr",
     "output_type": "stream",
     "text": [
      "ERROR: Video unavailable\n",
      "This video is no longer available due to a copyright claim by TylerPerryStudios.\n",
      "1433it [2:27:21,  3.36s/it]"
     ]
    },
    {
     "name": "stdout",
     "output_type": "stream",
     "text": [
      "  1,644,714.0 Bytes [100.00%] received. Rate: [4498 KB/s].  ETA: [0 secs]    \r"
     ]
    },
    {
     "name": "stderr",
     "output_type": "stream",
     "text": [
      "\r",
      "1434it [2:27:23,  2.79s/it]"
     ]
    },
    {
     "name": "stdout",
     "output_type": "stream",
     "text": [
      "\n",
      "  1,009,635.0 Bytes [100.00%] received. Rate: [2796 KB/s].  ETA: [0 secs]    \r"
     ]
    },
    {
     "name": "stderr",
     "output_type": "stream",
     "text": [
      "\r",
      "1435it [2:27:24,  2.37s/it]"
     ]
    },
    {
     "name": "stdout",
     "output_type": "stream",
     "text": [
      "\n",
      "  915,764.0 Bytes [100.00%] received. Rate: [5577 KB/s].  ETA: [0 secs]    \r"
     ]
    },
    {
     "name": "stderr",
     "output_type": "stream",
     "text": [
      "\r",
      "1436it [2:27:25,  2.07s/it]"
     ]
    },
    {
     "name": "stdout",
     "output_type": "stream",
     "text": [
      "\n",
      "  3,322,155.0 Bytes [100.00%] received. Rate: [13391 KB/s].  ETA: [0 secs]    \r"
     ]
    },
    {
     "name": "stderr",
     "output_type": "stream",
     "text": [
      "\r",
      "1437it [2:27:27,  1.90s/it]"
     ]
    },
    {
     "name": "stdout",
     "output_type": "stream",
     "text": [
      "\n",
      "  3,755,612.0 Bytes [100.00%] received. Rate: [11013 KB/s].  ETA: [0 secs]    \r"
     ]
    },
    {
     "name": "stderr",
     "output_type": "stream",
     "text": [
      "\r",
      "1438it [2:27:29,  1.82s/it]"
     ]
    },
    {
     "name": "stdout",
     "output_type": "stream",
     "text": [
      "\n",
      "  4,800,596.0 Bytes [100.00%] received. Rate: [11781 KB/s].  ETA: [0 secs]    \r"
     ]
    },
    {
     "name": "stderr",
     "output_type": "stream",
     "text": [
      "\r",
      "1439it [2:27:30,  1.77s/it]"
     ]
    },
    {
     "name": "stdout",
     "output_type": "stream",
     "text": [
      "\n",
      "  11,007,170.0 Bytes [100.00%] received. Rate: [7501 KB/s].  ETA: [0 secs]    \r"
     ]
    },
    {
     "name": "stderr",
     "output_type": "stream",
     "text": [
      "\r",
      "1440it [2:27:33,  2.17s/it]"
     ]
    },
    {
     "name": "stdout",
     "output_type": "stream",
     "text": [
      "\n",
      "  811,872.0 Bytes [100.00%] received. Rate: [10987 KB/s].  ETA: [0 secs]    \r"
     ]
    },
    {
     "name": "stderr",
     "output_type": "stream",
     "text": [
      "\r",
      "1441it [2:27:35,  1.93s/it]"
     ]
    },
    {
     "name": "stdout",
     "output_type": "stream",
     "text": [
      "\n",
      "  13,344,616.0 Bytes [100.00%] received. Rate: [37487 KB/s].  ETA: [0 secs]    \r"
     ]
    },
    {
     "name": "stderr",
     "output_type": "stream",
     "text": [
      "\r",
      "1442it [2:27:36,  1.86s/it]"
     ]
    },
    {
     "name": "stdout",
     "output_type": "stream",
     "text": [
      "\n",
      "  4,165,512.0 Bytes [100.00%] received. Rate: [11614 KB/s].  ETA: [0 secs]    \r"
     ]
    },
    {
     "name": "stderr",
     "output_type": "stream",
     "text": [
      "\r",
      "1443it [2:27:38,  1.81s/it]"
     ]
    },
    {
     "name": "stdout",
     "output_type": "stream",
     "text": [
      "\n",
      "  2,477,942.0 Bytes [100.00%] received. Rate: [9630 KB/s].  ETA: [0 secs]    \r"
     ]
    },
    {
     "name": "stderr",
     "output_type": "stream",
     "text": [
      "\r",
      "1444it [2:27:40,  1.87s/it]"
     ]
    },
    {
     "name": "stdout",
     "output_type": "stream",
     "text": [
      "\n",
      "  11,769,579.0 Bytes [100.00%] received. Rate: [12408 KB/s].  ETA: [0 secs]    \r"
     ]
    },
    {
     "name": "stderr",
     "output_type": "stream",
     "text": [
      "\r",
      "1445it [2:27:43,  2.25s/it]"
     ]
    },
    {
     "name": "stdout",
     "output_type": "stream",
     "text": [
      "\n"
     ]
    },
    {
     "name": "stderr",
     "output_type": "stream",
     "text": [
      "ERROR: Video unavailable\n",
      "1446it [2:27:44,  1.71s/it]"
     ]
    },
    {
     "name": "stdout",
     "output_type": "stream",
     "text": [
      "  4,604,688.0 Bytes [100.00%] received. Rate: [17625 KB/s].  ETA: [0 secs]    \r"
     ]
    },
    {
     "name": "stderr",
     "output_type": "stream",
     "text": [
      "\r",
      "1447it [2:27:45,  1.65s/it]"
     ]
    },
    {
     "name": "stdout",
     "output_type": "stream",
     "text": [
      "\n",
      "  2,007,930.0 Bytes [100.00%] received. Rate: [  53 KB/s].  ETA: [0 secs]    \r"
     ]
    },
    {
     "name": "stderr",
     "output_type": "stream",
     "text": [
      "\r",
      "1448it [2:28:24, 12.89s/it]"
     ]
    },
    {
     "name": "stdout",
     "output_type": "stream",
     "text": [
      "\n",
      "  1,421,446.0 Bytes [100.00%] received. Rate: [6483 KB/s].  ETA: [0 secs]    \r"
     ]
    },
    {
     "name": "stderr",
     "output_type": "stream",
     "text": [
      "\r",
      "1449it [2:28:26,  9.49s/it]"
     ]
    },
    {
     "name": "stdout",
     "output_type": "stream",
     "text": [
      "\n",
      "  2,135,606.0 Bytes [100.00%] received. Rate: [8944 KB/s].  ETA: [0 secs]    \r"
     ]
    },
    {
     "name": "stderr",
     "output_type": "stream",
     "text": [
      "\r",
      "1450it [2:28:28,  7.16s/it]"
     ]
    },
    {
     "name": "stdout",
     "output_type": "stream",
     "text": [
      "\n",
      "  9,081,170.0 Bytes [100.00%] received. Rate: [5012 KB/s].  ETA: [0 secs]    \r"
     ]
    },
    {
     "name": "stderr",
     "output_type": "stream",
     "text": [
      "\r",
      "1451it [2:28:31,  5.99s/it]"
     ]
    },
    {
     "name": "stdout",
     "output_type": "stream",
     "text": [
      "\n",
      "  2,349,487.0 Bytes [100.00%] received. Rate: [6998 KB/s].  ETA: [0 secs]    \r"
     ]
    },
    {
     "name": "stderr",
     "output_type": "stream",
     "text": [
      "\r",
      "1452it [2:28:32,  4.62s/it]"
     ]
    },
    {
     "name": "stdout",
     "output_type": "stream",
     "text": [
      "\n"
     ]
    },
    {
     "name": "stderr",
     "output_type": "stream",
     "text": [
      "ERROR: This video has been removed for violating YouTube's Community Guidelines.\n",
      "1453it [2:28:33,  3.41s/it]"
     ]
    },
    {
     "name": "stdout",
     "output_type": "stream",
     "text": [
      "  1,501,473.0 Bytes [100.00%] received. Rate: [8127 KB/s].  ETA: [0 secs]    \r"
     ]
    },
    {
     "name": "stderr",
     "output_type": "stream",
     "text": [
      "\r",
      "1454it [2:28:34,  2.84s/it]"
     ]
    },
    {
     "name": "stdout",
     "output_type": "stream",
     "text": [
      "\n",
      "  4,965,460.0 Bytes [100.00%] received. Rate: [20777 KB/s].  ETA: [0 secs]    \r"
     ]
    },
    {
     "name": "stderr",
     "output_type": "stream",
     "text": [
      "\r",
      "1455it [2:28:36,  2.61s/it]"
     ]
    },
    {
     "name": "stdout",
     "output_type": "stream",
     "text": [
      "\n",
      "  1,810,660.0 Bytes [100.00%] received. Rate: [24801 KB/s].  ETA: [0 secs]    \r"
     ]
    },
    {
     "name": "stderr",
     "output_type": "stream",
     "text": [
      "\r",
      "1456it [2:28:38,  2.22s/it]"
     ]
    },
    {
     "name": "stdout",
     "output_type": "stream",
     "text": [
      "\n"
     ]
    },
    {
     "name": "stderr",
     "output_type": "stream",
     "text": [
      "ERROR: Private video\n",
      "Sign in if you've been granted access to this video\n",
      "1457it [2:28:38,  1.65s/it]"
     ]
    },
    {
     "name": "stdout",
     "output_type": "stream",
     "text": [
      "  99,852.0 Bytes [100.00%] received. Rate: [1141 KB/s].  ETA: [0 secs]    \r"
     ]
    },
    {
     "name": "stderr",
     "output_type": "stream",
     "text": [
      "\r",
      "1458it [2:28:39,  1.58s/it]"
     ]
    },
    {
     "name": "stdout",
     "output_type": "stream",
     "text": [
      "\n",
      "  55,747,841.0 Bytes [100.00%] received. Rate: [29472 KB/s].  ETA: [0 secs]    \r"
     ]
    },
    {
     "name": "stderr",
     "output_type": "stream",
     "text": [
      "\r",
      "1459it [2:28:44,  2.57s/it]"
     ]
    },
    {
     "name": "stdout",
     "output_type": "stream",
     "text": [
      "\n",
      "  8,825,581.0 Bytes [100.00%] received. Rate: [16019 KB/s].  ETA: [0 secs]    \r"
     ]
    },
    {
     "name": "stderr",
     "output_type": "stream",
     "text": [
      "\r",
      "1460it [2:28:46,  2.45s/it]"
     ]
    },
    {
     "name": "stdout",
     "output_type": "stream",
     "text": [
      "\n",
      "  1,755,646.0 Bytes [100.00%] received. Rate: [  82 KB/s].  ETA: [0 secs]    \r"
     ]
    },
    {
     "name": "stderr",
     "output_type": "stream",
     "text": [
      "\r",
      "1461it [2:29:09,  8.36s/it]"
     ]
    },
    {
     "name": "stdout",
     "output_type": "stream",
     "text": [
      "\n",
      "  3,734,467.0 Bytes [100.00%] received. Rate: [18078 KB/s].  ETA: [0 secs]    \r"
     ]
    },
    {
     "name": "stderr",
     "output_type": "stream",
     "text": [
      "\r",
      "1462it [2:29:10,  6.29s/it]"
     ]
    },
    {
     "name": "stdout",
     "output_type": "stream",
     "text": [
      "\n",
      "  291,913.0 Bytes [100.00%] received. Rate: [1481 KB/s].  ETA: [0 secs]    \r"
     ]
    },
    {
     "name": "stderr",
     "output_type": "stream",
     "text": [
      "\r",
      "1463it [2:29:11,  4.81s/it]"
     ]
    },
    {
     "name": "stdout",
     "output_type": "stream",
     "text": [
      "\n",
      "  2,323,113.0 Bytes [100.00%] received. Rate: [3624 KB/s].  ETA: [0 secs]    \r"
     ]
    },
    {
     "name": "stderr",
     "output_type": "stream",
     "text": [
      "\r",
      "1464it [2:29:13,  3.93s/it]"
     ]
    },
    {
     "name": "stdout",
     "output_type": "stream",
     "text": [
      "\n",
      "  2,568,953.0 Bytes [100.00%] received. Rate: [12698 KB/s].  ETA: [0 secs]    \r"
     ]
    },
    {
     "name": "stderr",
     "output_type": "stream",
     "text": [
      "\r",
      "1465it [2:29:15,  3.17s/it]"
     ]
    },
    {
     "name": "stdout",
     "output_type": "stream",
     "text": [
      "\n",
      "  443,193.0 Bytes [100.00%] received. Rate: [3957 KB/s].  ETA: [0 secs]    \r"
     ]
    },
    {
     "name": "stderr",
     "output_type": "stream",
     "text": [
      "\r",
      "1466it [2:29:17,  2.78s/it]"
     ]
    },
    {
     "name": "stdout",
     "output_type": "stream",
     "text": [
      "\n",
      "  10,176,597.0 Bytes [100.00%] received. Rate: [9757 KB/s].  ETA: [0 secs]    \r"
     ]
    },
    {
     "name": "stderr",
     "output_type": "stream",
     "text": [
      "\r",
      "1467it [2:29:18,  2.49s/it]"
     ]
    },
    {
     "name": "stdout",
     "output_type": "stream",
     "text": [
      "\n",
      "  249,683.0 Bytes [100.00%] received. Rate: [ 953 KB/s].  ETA: [0 secs]    \r"
     ]
    },
    {
     "name": "stderr",
     "output_type": "stream",
     "text": [
      "\r",
      "1468it [2:29:20,  2.13s/it]"
     ]
    },
    {
     "name": "stdout",
     "output_type": "stream",
     "text": [
      "\n",
      "  3,076,803.0 Bytes [100.00%] received. Rate: [4264 KB/s].  ETA: [0 secs]    \r"
     ]
    },
    {
     "name": "stderr",
     "output_type": "stream",
     "text": [
      "\r",
      "1469it [2:29:22,  2.12s/it]"
     ]
    },
    {
     "name": "stdout",
     "output_type": "stream",
     "text": [
      "\n",
      "  5,864,615.0 Bytes [100.00%] received. Rate: [19261 KB/s].  ETA: [0 secs]    \r"
     ]
    },
    {
     "name": "stderr",
     "output_type": "stream",
     "text": [
      "\r",
      "1470it [2:29:24,  2.00s/it]"
     ]
    },
    {
     "name": "stdout",
     "output_type": "stream",
     "text": [
      "\n"
     ]
    },
    {
     "name": "stderr",
     "output_type": "stream",
     "text": [
      "1471it [2:29:25,  1.80s/it]ERROR: Video unavailable\n",
      "This video is no longer available because the YouTube account associated with this video has been terminated.\n",
      "1472it [2:29:25,  1.38s/it]"
     ]
    },
    {
     "name": "stdout",
     "output_type": "stream",
     "text": [
      "  778,840.0 Bytes [100.00%] received. Rate: [2981 KB/s].  ETA: [0 secs]    \r"
     ]
    },
    {
     "name": "stderr",
     "output_type": "stream",
     "text": [
      "\r",
      "1473it [2:29:27,  1.55s/it]"
     ]
    },
    {
     "name": "stdout",
     "output_type": "stream",
     "text": [
      "\n"
     ]
    },
    {
     "name": "stderr",
     "output_type": "stream",
     "text": [
      "ERROR: Private video\n",
      "Sign in if you've been granted access to this video\n",
      "1475it [2:29:29,  1.25s/it]"
     ]
    },
    {
     "name": "stdout",
     "output_type": "stream",
     "text": [
      "  1,578,269.0 Bytes [100.00%] received. Rate: [11975 KB/s].  ETA: [0 secs]    \r"
     ]
    },
    {
     "name": "stderr",
     "output_type": "stream",
     "text": [
      "\r",
      "1476it [2:29:31,  1.41s/it]"
     ]
    },
    {
     "name": "stdout",
     "output_type": "stream",
     "text": [
      "\n",
      "  1,445,518.0 Bytes [100.00%] received. Rate: [3217 KB/s].  ETA: [0 secs]    \r"
     ]
    },
    {
     "name": "stderr",
     "output_type": "stream",
     "text": [
      "\r",
      "1477it [2:29:32,  1.46s/it]"
     ]
    },
    {
     "name": "stdout",
     "output_type": "stream",
     "text": [
      "\n"
     ]
    },
    {
     "name": "stderr",
     "output_type": "stream",
     "text": [
      "ERROR: Video unavailable\n",
      "This video is no longer available because the YouTube account associated with this video has been terminated.\n",
      "1478it [2:29:33,  1.13s/it]"
     ]
    },
    {
     "name": "stdout",
     "output_type": "stream",
     "text": [
      "  1,354,097.0 Bytes [100.00%] received. Rate: [14120 KB/s].  ETA: [0 secs]    \r"
     ]
    },
    {
     "name": "stderr",
     "output_type": "stream",
     "text": [
      "\r",
      "1479it [2:29:34,  1.17s/it]"
     ]
    },
    {
     "name": "stdout",
     "output_type": "stream",
     "text": [
      "\n",
      "  809,337.0 Bytes [100.00%] received. Rate: [7714 KB/s].  ETA: [0 secs]    \r"
     ]
    },
    {
     "name": "stderr",
     "output_type": "stream",
     "text": [
      "\r",
      "1480it [2:29:35,  1.25s/it]"
     ]
    },
    {
     "name": "stdout",
     "output_type": "stream",
     "text": [
      "\n",
      "  9,198,868.0 Bytes [100.00%] received. Rate: [14252 KB/s].  ETA: [0 secs]    \r"
     ]
    },
    {
     "name": "stderr",
     "output_type": "stream",
     "text": [
      "\r",
      "1481it [2:29:38,  1.60s/it]"
     ]
    },
    {
     "name": "stdout",
     "output_type": "stream",
     "text": [
      "\n",
      "  3,804,454.0 Bytes [100.00%] received. Rate: [4956 KB/s].  ETA: [0 secs]    \r"
     ]
    },
    {
     "name": "stderr",
     "output_type": "stream",
     "text": [
      "\r",
      "1482it [2:29:40,  1.82s/it]"
     ]
    },
    {
     "name": "stdout",
     "output_type": "stream",
     "text": [
      "\n",
      "  745,592.0 Bytes [100.00%] received. Rate: [5384 KB/s].  ETA: [0 secs]    \r"
     ]
    },
    {
     "name": "stderr",
     "output_type": "stream",
     "text": [
      "\r",
      "1483it [2:29:42,  1.82s/it]"
     ]
    },
    {
     "name": "stdout",
     "output_type": "stream",
     "text": [
      "\n",
      "  484,814.0 Bytes [100.00%] received. Rate: [7136 KB/s].  ETA: [0 secs]    \r"
     ]
    },
    {
     "name": "stderr",
     "output_type": "stream",
     "text": [
      "\r",
      "1484it [2:29:44,  1.87s/it]"
     ]
    },
    {
     "name": "stdout",
     "output_type": "stream",
     "text": [
      "\n",
      "  460,272.0 Bytes [100.00%] received. Rate: [2650 KB/s].  ETA: [0 secs]    \r"
     ]
    },
    {
     "name": "stderr",
     "output_type": "stream",
     "text": [
      "\r",
      "1485it [2:29:45,  1.63s/it]"
     ]
    },
    {
     "name": "stdout",
     "output_type": "stream",
     "text": [
      "\n",
      "  5,435,300.0 Bytes [100.00%] received. Rate: [20094 KB/s].  ETA: [0 secs]    \r"
     ]
    },
    {
     "name": "stderr",
     "output_type": "stream",
     "text": [
      "\r",
      "1486it [2:29:47,  1.78s/it]"
     ]
    },
    {
     "name": "stdout",
     "output_type": "stream",
     "text": [
      "\n",
      "  4,585,084.0 Bytes [100.00%] received. Rate: [33641 KB/s].  ETA: [0 secs]    \r"
     ]
    },
    {
     "name": "stderr",
     "output_type": "stream",
     "text": [
      "\r",
      "1487it [2:29:48,  1.60s/it]"
     ]
    },
    {
     "name": "stdout",
     "output_type": "stream",
     "text": [
      "\n",
      "  3,046,833.0 Bytes [100.00%] received. Rate: [21229 KB/s].  ETA: [0 secs]    \r"
     ]
    },
    {
     "name": "stderr",
     "output_type": "stream",
     "text": [
      "\r",
      "1488it [2:29:50,  1.66s/it]"
     ]
    },
    {
     "name": "stdout",
     "output_type": "stream",
     "text": [
      "\n",
      "  31,806,313.0 Bytes [100.00%] received. Rate: [  78 KB/s].  ETA: [0 secs]      \r"
     ]
    },
    {
     "name": "stderr",
     "output_type": "stream",
     "text": [
      "\r",
      "1489it [2:36:31, 121.35s/it]"
     ]
    },
    {
     "name": "stdout",
     "output_type": "stream",
     "text": [
      "\n",
      "  15,122,873.0 Bytes [100.00%] received. Rate: [15049 KB/s].  ETA: [0 secs]    \r"
     ]
    },
    {
     "name": "stderr",
     "output_type": "stream",
     "text": [
      "\r",
      "1490it [2:36:33, 85.63s/it] "
     ]
    },
    {
     "name": "stdout",
     "output_type": "stream",
     "text": [
      "\n",
      "  12,487,940.0 Bytes [100.00%] received. Rate: [12582 KB/s].  ETA: [0 secs]    \r"
     ]
    },
    {
     "name": "stderr",
     "output_type": "stream",
     "text": [
      "\r",
      "1491it [2:36:36, 60.75s/it]"
     ]
    },
    {
     "name": "stdout",
     "output_type": "stream",
     "text": [
      "\n",
      "  1,169,832.0 Bytes [100.00%] received. Rate: [16054 KB/s].  ETA: [0 secs]    \r"
     ]
    },
    {
     "name": "stderr",
     "output_type": "stream",
     "text": [
      "\r",
      "1492it [2:36:37, 42.90s/it]"
     ]
    },
    {
     "name": "stdout",
     "output_type": "stream",
     "text": [
      "\n",
      "  1,268,120.0 Bytes [100.00%] received. Rate: [16396 KB/s].  ETA: [0 secs]    \r"
     ]
    },
    {
     "name": "stderr",
     "output_type": "stream",
     "text": [
      "\r",
      "1493it [2:36:38, 30.39s/it]"
     ]
    },
    {
     "name": "stdout",
     "output_type": "stream",
     "text": [
      "\n",
      "  1,410,869.0 Bytes [100.00%] received. Rate: [10769 KB/s].  ETA: [0 secs]    \r"
     ]
    },
    {
     "name": "stderr",
     "output_type": "stream",
     "text": [
      "\r",
      "1494it [2:36:40, 21.75s/it]"
     ]
    },
    {
     "name": "stdout",
     "output_type": "stream",
     "text": [
      "\n",
      "  601,558.0 Bytes [100.00%] received. Rate: [3956 KB/s].  ETA: [0 secs]    \r"
     ]
    },
    {
     "name": "stderr",
     "output_type": "stream",
     "text": [
      "\r",
      "1495it [2:36:41, 15.65s/it]"
     ]
    },
    {
     "name": "stdout",
     "output_type": "stream",
     "text": [
      "\n",
      "  7,265,713.0 Bytes [100.00%] received. Rate: [27050 KB/s].  ETA: [0 secs]    \r"
     ]
    },
    {
     "name": "stderr",
     "output_type": "stream",
     "text": [
      "\r",
      "1496it [2:36:43, 11.62s/it]"
     ]
    },
    {
     "name": "stdout",
     "output_type": "stream",
     "text": [
      "\n",
      "  340,831.0 Bytes [100.00%] received. Rate: [2538 KB/s].  ETA: [0 secs]    \r"
     ]
    },
    {
     "name": "stderr",
     "output_type": "stream",
     "text": [
      "\r",
      "1497it [2:36:45,  8.65s/it]"
     ]
    },
    {
     "name": "stdout",
     "output_type": "stream",
     "text": [
      "\n",
      "  2,301,495.0 Bytes [100.00%] received. Rate: [22305 KB/s].  ETA: [0 secs]    \r"
     ]
    },
    {
     "name": "stderr",
     "output_type": "stream",
     "text": [
      "\r",
      "1498it [2:36:47,  6.52s/it]"
     ]
    },
    {
     "name": "stdout",
     "output_type": "stream",
     "text": [
      "\n",
      "  2,465,171.0 Bytes [100.00%] received. Rate: [  53 KB/s].  ETA: [0 secs]    \r"
     ]
    },
    {
     "name": "stderr",
     "output_type": "stream",
     "text": [
      "\r",
      "1499it [2:37:34, 18.64s/it]"
     ]
    },
    {
     "name": "stdout",
     "output_type": "stream",
     "text": [
      "\n",
      "  1,201,482.0 Bytes [100.00%] received. Rate: [14004 KB/s].  ETA: [0 secs]    \r"
     ]
    },
    {
     "name": "stderr",
     "output_type": "stream",
     "text": [
      "\r",
      "1500it [2:37:35, 13.44s/it]"
     ]
    },
    {
     "name": "stdout",
     "output_type": "stream",
     "text": [
      "\n",
      "  2,120,455.0 Bytes [100.00%] received. Rate: [9709 KB/s].  ETA: [0 secs]    \r"
     ]
    },
    {
     "name": "stderr",
     "output_type": "stream",
     "text": [
      "\r",
      "1501it [2:37:36,  9.84s/it]"
     ]
    },
    {
     "name": "stdout",
     "output_type": "stream",
     "text": [
      "\n",
      "  2,750,741.0 Bytes [100.00%] received. Rate: [19691 KB/s].  ETA: [0 secs]    \r"
     ]
    },
    {
     "name": "stderr",
     "output_type": "stream",
     "text": [
      "\r",
      "1502it [2:37:38,  7.40s/it]"
     ]
    },
    {
     "name": "stdout",
     "output_type": "stream",
     "text": [
      "\n"
     ]
    },
    {
     "name": "stderr",
     "output_type": "stream",
     "text": [
      "ERROR: Video unavailable\n",
      "1503it [2:37:38,  5.29s/it]"
     ]
    },
    {
     "name": "stdout",
     "output_type": "stream",
     "text": [
      "  787,531.0 Bytes [100.00%] received. Rate: [4146 KB/s].  ETA: [0 secs]    \r"
     ]
    },
    {
     "name": "stderr",
     "output_type": "stream",
     "text": [
      "\r",
      "1504it [2:37:40,  4.14s/it]"
     ]
    },
    {
     "name": "stdout",
     "output_type": "stream",
     "text": [
      "\n",
      "  3,769,155.0 Bytes [100.00%] received. Rate: [23703 KB/s].  ETA: [0 secs]    \r"
     ]
    },
    {
     "name": "stderr",
     "output_type": "stream",
     "text": [
      "\r",
      "1505it [2:37:42,  3.47s/it]"
     ]
    },
    {
     "name": "stdout",
     "output_type": "stream",
     "text": [
      "\n",
      "  704,139.0 Bytes [100.00%] received. Rate: [7762 KB/s].  ETA: [0 secs]    \r"
     ]
    },
    {
     "name": "stderr",
     "output_type": "stream",
     "text": [
      "\r",
      "1506it [2:37:44,  3.03s/it]"
     ]
    },
    {
     "name": "stdout",
     "output_type": "stream",
     "text": [
      "\n",
      "  5,755,478.0 Bytes [100.00%] received. Rate: [17060 KB/s].  ETA: [0 secs]    \r"
     ]
    },
    {
     "name": "stderr",
     "output_type": "stream",
     "text": [
      "\r",
      "1507it [2:37:46,  2.93s/it]"
     ]
    },
    {
     "name": "stdout",
     "output_type": "stream",
     "text": [
      "\n",
      "  543,495.0 Bytes [100.00%] received. Rate: [6945 KB/s].  ETA: [0 secs]    \r"
     ]
    },
    {
     "name": "stderr",
     "output_type": "stream",
     "text": [
      "\r",
      "1508it [2:37:48,  2.43s/it]"
     ]
    },
    {
     "name": "stdout",
     "output_type": "stream",
     "text": [
      "\n",
      "  8,829,089.0 Bytes [100.00%] received. Rate: [42727 KB/s].  ETA: [0 secs]    \r"
     ]
    },
    {
     "name": "stderr",
     "output_type": "stream",
     "text": [
      "\r",
      "1509it [2:37:50,  2.25s/it]"
     ]
    },
    {
     "name": "stdout",
     "output_type": "stream",
     "text": [
      "\n",
      "  9,565,323.0 Bytes [100.00%] received. Rate: [33720 KB/s].  ETA: [0 secs]    \r"
     ]
    },
    {
     "name": "stderr",
     "output_type": "stream",
     "text": [
      "\r",
      "1510it [2:37:51,  2.02s/it]"
     ]
    },
    {
     "name": "stdout",
     "output_type": "stream",
     "text": [
      "\n",
      "  20,834,041.0 Bytes [100.00%] received. Rate: [61062 KB/s].  ETA: [0 secs]    \r"
     ]
    },
    {
     "name": "stderr",
     "output_type": "stream",
     "text": [
      "\r",
      "1511it [2:37:54,  2.31s/it]"
     ]
    },
    {
     "name": "stdout",
     "output_type": "stream",
     "text": [
      "\n",
      "  3,696,674.0 Bytes [100.00%] received. Rate: [25539 KB/s].  ETA: [0 secs]    \r"
     ]
    },
    {
     "name": "stderr",
     "output_type": "stream",
     "text": [
      "\r",
      "1512it [2:37:56,  2.11s/it]"
     ]
    },
    {
     "name": "stdout",
     "output_type": "stream",
     "text": [
      "\n",
      "  2,322,869.0 Bytes [100.00%] received. Rate: [3825 KB/s].  ETA: [0 secs]    \r"
     ]
    },
    {
     "name": "stderr",
     "output_type": "stream",
     "text": [
      "\r",
      "1513it [2:37:58,  2.07s/it]"
     ]
    },
    {
     "name": "stdout",
     "output_type": "stream",
     "text": [
      "\n",
      "  10,402,279.0 Bytes [100.00%] received. Rate: [7926 KB/s].  ETA: [0 secs]    \r"
     ]
    },
    {
     "name": "stderr",
     "output_type": "stream",
     "text": [
      "\r",
      "1514it [2:38:00,  2.28s/it]"
     ]
    },
    {
     "name": "stdout",
     "output_type": "stream",
     "text": [
      "\n"
     ]
    },
    {
     "name": "stderr",
     "output_type": "stream",
     "text": [
      "\r",
      "1515it [2:38:02,  1.97s/it]"
     ]
    },
    {
     "name": "stdout",
     "output_type": "stream",
     "text": [
      "  43,701,087.0 Bytes [100.00%] received. Rate: [64567 KB/s].  ETA: [0 secs]    \r"
     ]
    },
    {
     "name": "stderr",
     "output_type": "stream",
     "text": [
      "\r",
      "1516it [2:38:05,  2.28s/it]"
     ]
    },
    {
     "name": "stdout",
     "output_type": "stream",
     "text": [
      "\n",
      "  1,481,736.0 Bytes [100.00%] received. Rate: [7978 KB/s].  ETA: [0 secs]    \r"
     ]
    },
    {
     "name": "stderr",
     "output_type": "stream",
     "text": [
      "\r",
      "1517it [2:38:07,  2.16s/it]"
     ]
    },
    {
     "name": "stdout",
     "output_type": "stream",
     "text": [
      "\n",
      "  96,449.0 Bytes [100.00%] received. Rate: [ 901 KB/s].  ETA: [0 secs]    \r"
     ]
    },
    {
     "name": "stderr",
     "output_type": "stream",
     "text": [
      "\r",
      "1518it [2:38:08,  1.91s/it]"
     ]
    },
    {
     "name": "stdout",
     "output_type": "stream",
     "text": [
      "\n"
     ]
    },
    {
     "name": "stderr",
     "output_type": "stream",
     "text": [
      "ERROR: Video unavailable\n",
      "1520it [2:38:10,  1.41s/it]"
     ]
    },
    {
     "name": "stdout",
     "output_type": "stream",
     "text": [
      "  2,627,305.0 Bytes [100.00%] received. Rate: [17399 KB/s].  ETA: [0 secs]    \n"
     ]
    },
    {
     "name": "stderr",
     "output_type": "stream",
     "text": [
      "\r",
      "1521it [2:38:11,  1.47s/it]"
     ]
    },
    {
     "name": "stdout",
     "output_type": "stream",
     "text": [
      "  7,951,050.0 Bytes [100.00%] received. Rate: [26464 KB/s].  ETA: [0 secs]    \r"
     ]
    },
    {
     "name": "stderr",
     "output_type": "stream",
     "text": [
      "\r",
      "1522it [2:38:13,  1.59s/it]"
     ]
    },
    {
     "name": "stdout",
     "output_type": "stream",
     "text": [
      "\n",
      "  7,571,419.0 Bytes [100.00%] received. Rate: [23460 KB/s].  ETA: [0 secs]    \r"
     ]
    },
    {
     "name": "stderr",
     "output_type": "stream",
     "text": [
      "\r",
      "1523it [2:38:14,  1.54s/it]"
     ]
    },
    {
     "name": "stdout",
     "output_type": "stream",
     "text": [
      "\n",
      "  1,102,175.0 Bytes [100.00%] received. Rate: [13374 KB/s].  ETA: [0 secs]    \r"
     ]
    },
    {
     "name": "stderr",
     "output_type": "stream",
     "text": [
      "\r",
      "1524it [2:38:16,  1.56s/it]"
     ]
    },
    {
     "name": "stdout",
     "output_type": "stream",
     "text": [
      "\n",
      "  2,751,760.0 Bytes [100.00%] received. Rate: [18731 KB/s].  ETA: [0 secs]    \r"
     ]
    },
    {
     "name": "stderr",
     "output_type": "stream",
     "text": [
      "\r",
      "1525it [2:38:18,  1.75s/it]"
     ]
    },
    {
     "name": "stdout",
     "output_type": "stream",
     "text": [
      "\n",
      "  3,087,144.0 Bytes [100.00%] received. Rate: [12935 KB/s].  ETA: [0 secs]    \r"
     ]
    },
    {
     "name": "stderr",
     "output_type": "stream",
     "text": [
      "\r",
      "1526it [2:38:20,  1.69s/it]"
     ]
    },
    {
     "name": "stdout",
     "output_type": "stream",
     "text": [
      "\n",
      "  3,543,325.0 Bytes [100.00%] received. Rate: [17083 KB/s].  ETA: [0 secs]    \r"
     ]
    },
    {
     "name": "stderr",
     "output_type": "stream",
     "text": [
      "\r",
      "1527it [2:38:21,  1.60s/it]"
     ]
    },
    {
     "name": "stdout",
     "output_type": "stream",
     "text": [
      "\n",
      "  9,670,031.0 Bytes [100.00%] received. Rate: [22385 KB/s].  ETA: [0 secs]    \r"
     ]
    },
    {
     "name": "stderr",
     "output_type": "stream",
     "text": [
      "\r",
      "1528it [2:38:23,  1.57s/it]"
     ]
    },
    {
     "name": "stdout",
     "output_type": "stream",
     "text": [
      "\n",
      "  8,181,311.0 Bytes [100.00%] received. Rate: [25771 KB/s].  ETA: [0 secs]    \r"
     ]
    },
    {
     "name": "stderr",
     "output_type": "stream",
     "text": [
      "\r",
      "1529it [2:38:25,  1.71s/it]"
     ]
    },
    {
     "name": "stdout",
     "output_type": "stream",
     "text": [
      "\n",
      "  1,406,901.0 Bytes [100.00%] received. Rate: [8377 KB/s].  ETA: [0 secs]    \r"
     ]
    },
    {
     "name": "stderr",
     "output_type": "stream",
     "text": [
      "\r",
      "1530it [2:38:26,  1.68s/it]"
     ]
    },
    {
     "name": "stdout",
     "output_type": "stream",
     "text": [
      "\n",
      "  955,504.0 Bytes [100.00%] received. Rate: [6184 KB/s].  ETA: [0 secs]    \r"
     ]
    },
    {
     "name": "stderr",
     "output_type": "stream",
     "text": [
      "\r",
      "1531it [2:38:28,  1.83s/it]"
     ]
    },
    {
     "name": "stdout",
     "output_type": "stream",
     "text": [
      "\n",
      "  3,723,992.0 Bytes [100.00%] received. Rate: [13447 KB/s].  ETA: [0 secs]    \r"
     ]
    },
    {
     "name": "stderr",
     "output_type": "stream",
     "text": [
      "\r",
      "1532it [2:38:30,  1.65s/it]"
     ]
    },
    {
     "name": "stdout",
     "output_type": "stream",
     "text": [
      "\n",
      "  1,673,678.0 Bytes [100.00%] received. Rate: [15597 KB/s].  ETA: [0 secs]    \r"
     ]
    },
    {
     "name": "stderr",
     "output_type": "stream",
     "text": [
      "\r",
      "1533it [2:38:31,  1.62s/it]"
     ]
    },
    {
     "name": "stdout",
     "output_type": "stream",
     "text": [
      "\n",
      "  1,304,347.0 Bytes [100.00%] received. Rate: [7631 KB/s].  ETA: [0 secs]    \r"
     ]
    },
    {
     "name": "stderr",
     "output_type": "stream",
     "text": [
      "\r",
      "1534it [2:38:33,  1.59s/it]"
     ]
    },
    {
     "name": "stdout",
     "output_type": "stream",
     "text": [
      "\n",
      "  8,023,273.0 Bytes [100.00%] received. Rate: [22858 KB/s].  ETA: [0 secs]    \r"
     ]
    },
    {
     "name": "stderr",
     "output_type": "stream",
     "text": [
      "\r",
      "1535it [2:38:34,  1.56s/it]"
     ]
    },
    {
     "name": "stdout",
     "output_type": "stream",
     "text": [
      "\n",
      "  4,103,667.0 Bytes [100.00%] received. Rate: [25321 KB/s].  ETA: [0 secs]    \r"
     ]
    },
    {
     "name": "stderr",
     "output_type": "stream",
     "text": [
      "\r",
      "1536it [2:38:37,  1.99s/it]"
     ]
    },
    {
     "name": "stdout",
     "output_type": "stream",
     "text": [
      "\n",
      "  1,217,265.0 Bytes [100.00%] received. Rate: [13608 KB/s].  ETA: [0 secs]    \r"
     ]
    },
    {
     "name": "stderr",
     "output_type": "stream",
     "text": [
      "\r",
      "1537it [2:38:39,  1.84s/it]"
     ]
    },
    {
     "name": "stdout",
     "output_type": "stream",
     "text": [
      "\n",
      "  1,073,248.0 Bytes [100.00%] received. Rate: [6292 KB/s].  ETA: [0 secs]    \r"
     ]
    },
    {
     "name": "stderr",
     "output_type": "stream",
     "text": [
      "\r",
      "1538it [2:38:40,  1.76s/it]"
     ]
    },
    {
     "name": "stdout",
     "output_type": "stream",
     "text": [
      "\n"
     ]
    },
    {
     "name": "stderr",
     "output_type": "stream",
     "text": [
      "ERROR: Private video\n",
      "Sign in if you've been granted access to this video\n",
      "1539it [2:38:41,  1.35s/it]"
     ]
    },
    {
     "name": "stdout",
     "output_type": "stream",
     "text": [
      "  2,182,046.0 Bytes [100.00%] received. Rate: [15865 KB/s].  ETA: [0 secs]    \r"
     ]
    },
    {
     "name": "stderr",
     "output_type": "stream",
     "text": [
      "\r",
      "1540it [2:38:42,  1.41s/it]"
     ]
    },
    {
     "name": "stdout",
     "output_type": "stream",
     "text": [
      "\n",
      "  1,973,658.0 Bytes [100.00%] received. Rate: [10470 KB/s].  ETA: [0 secs]    \r"
     ]
    },
    {
     "name": "stderr",
     "output_type": "stream",
     "text": [
      "\r",
      "1541it [2:38:44,  1.55s/it]"
     ]
    },
    {
     "name": "stdout",
     "output_type": "stream",
     "text": [
      "\n",
      "  808,976.0 Bytes [100.00%] received. Rate: [8745 KB/s].  ETA: [0 secs]    \r"
     ]
    },
    {
     "name": "stderr",
     "output_type": "stream",
     "text": [
      "\r",
      "1542it [2:38:46,  1.53s/it]"
     ]
    },
    {
     "name": "stdout",
     "output_type": "stream",
     "text": [
      "\n",
      "  9,119,102.0 Bytes [100.00%] received. Rate: [13474 KB/s].  ETA: [0 secs]    \r"
     ]
    },
    {
     "name": "stderr",
     "output_type": "stream",
     "text": [
      "\r",
      "1543it [2:38:48,  1.75s/it]"
     ]
    },
    {
     "name": "stdout",
     "output_type": "stream",
     "text": [
      "\n",
      "  234,859.0 Bytes [100.00%] received. Rate: [2211 KB/s].  ETA: [0 secs]    \r"
     ]
    },
    {
     "name": "stderr",
     "output_type": "stream",
     "text": [
      "\r",
      "1544it [2:38:49,  1.71s/it]"
     ]
    },
    {
     "name": "stdout",
     "output_type": "stream",
     "text": [
      "\n",
      "  327,713.0 Bytes [100.00%] received. Rate: [4204 KB/s].  ETA: [0 secs]    \r"
     ]
    },
    {
     "name": "stderr",
     "output_type": "stream",
     "text": [
      "\r",
      "1545it [2:38:51,  1.53s/it]"
     ]
    },
    {
     "name": "stdout",
     "output_type": "stream",
     "text": [
      "\n",
      "  3,917,803.0 Bytes [100.00%] received. Rate: [26903 KB/s].  ETA: [0 secs]    \r"
     ]
    },
    {
     "name": "stderr",
     "output_type": "stream",
     "text": [
      "\r",
      "1546it [2:38:53,  1.70s/it]"
     ]
    },
    {
     "name": "stdout",
     "output_type": "stream",
     "text": [
      "\n",
      "  4,790,792.0 Bytes [100.00%] received. Rate: [28832 KB/s].  ETA: [0 secs]    \r"
     ]
    },
    {
     "name": "stderr",
     "output_type": "stream",
     "text": [
      "\r",
      "1547it [2:38:54,  1.62s/it]"
     ]
    },
    {
     "name": "stdout",
     "output_type": "stream",
     "text": [
      "\n",
      "  4,665,827.0 Bytes [100.00%] received. Rate: [21041 KB/s].  ETA: [0 secs]    \r"
     ]
    },
    {
     "name": "stderr",
     "output_type": "stream",
     "text": [
      "\r",
      "1548it [2:38:55,  1.54s/it]"
     ]
    },
    {
     "name": "stdout",
     "output_type": "stream",
     "text": [
      "\n",
      "  3,834,495.0 Bytes [100.00%] received. Rate: [4448 KB/s].  ETA: [0 secs]    \r"
     ]
    },
    {
     "name": "stderr",
     "output_type": "stream",
     "text": [
      "\r",
      "1549it [2:38:58,  1.84s/it]"
     ]
    },
    {
     "name": "stdout",
     "output_type": "stream",
     "text": [
      "\n",
      "  207,788.0 Bytes [100.00%] received. Rate: [3024 KB/s].  ETA: [0 secs]    \r"
     ]
    },
    {
     "name": "stderr",
     "output_type": "stream",
     "text": [
      "\r",
      "1550it [2:38:59,  1.68s/it]"
     ]
    },
    {
     "name": "stdout",
     "output_type": "stream",
     "text": [
      "\n"
     ]
    },
    {
     "name": "stderr",
     "output_type": "stream",
     "text": [
      "ERROR: No video formats found; please report this issue on https://yt-dl.org/bug . Make sure you are using the latest version; see  https://yt-dl.org/update  on how to update. Be sure to call youtube-dl with the --verbose flag and include its complete output.\n",
      "1551it [2:39:00,  1.34s/it]"
     ]
    },
    {
     "name": "stdout",
     "output_type": "stream",
     "text": [
      "  2,334,102.0 Bytes [100.00%] received. Rate: [16437 KB/s].  ETA: [0 secs]    \r"
     ]
    },
    {
     "name": "stderr",
     "output_type": "stream",
     "text": [
      "\r",
      "1552it [2:39:01,  1.38s/it]"
     ]
    },
    {
     "name": "stdout",
     "output_type": "stream",
     "text": [
      "\n",
      "  2,633,899.0 Bytes [100.00%] received. Rate: [18939 KB/s].  ETA: [0 secs]    \r"
     ]
    },
    {
     "name": "stderr",
     "output_type": "stream",
     "text": [
      "\r",
      "1553it [2:39:03,  1.52s/it]"
     ]
    },
    {
     "name": "stdout",
     "output_type": "stream",
     "text": [
      "\n",
      "  10,041,635.0 Bytes [100.00%] received. Rate: [12241 KB/s].  ETA: [0 secs]    \r"
     ]
    },
    {
     "name": "stderr",
     "output_type": "stream",
     "text": [
      "\r",
      "1554it [2:39:05,  1.62s/it]"
     ]
    },
    {
     "name": "stdout",
     "output_type": "stream",
     "text": [
      "\n",
      "  275,594.0 Bytes [100.00%] received. Rate: [2375 KB/s].  ETA: [0 secs]    \r"
     ]
    },
    {
     "name": "stderr",
     "output_type": "stream",
     "text": [
      "\r",
      "1555it [2:39:06,  1.51s/it]"
     ]
    },
    {
     "name": "stdout",
     "output_type": "stream",
     "text": [
      "\n",
      "  2,824,479.0 Bytes [100.00%] received. Rate: [19054 KB/s].  ETA: [0 secs]    \r"
     ]
    },
    {
     "name": "stderr",
     "output_type": "stream",
     "text": [
      "\r",
      "1556it [2:39:08,  1.47s/it]"
     ]
    },
    {
     "name": "stdout",
     "output_type": "stream",
     "text": [
      "\n",
      "  1,278,622.0 Bytes [100.00%] received. Rate: [7296 KB/s].  ETA: [0 secs]    \r"
     ]
    },
    {
     "name": "stderr",
     "output_type": "stream",
     "text": [
      "\r",
      "1557it [2:39:09,  1.47s/it]"
     ]
    },
    {
     "name": "stdout",
     "output_type": "stream",
     "text": [
      "\n",
      "  276,809.0 Bytes [100.00%] received. Rate: [2211 KB/s].  ETA: [0 secs]    \r"
     ]
    },
    {
     "name": "stderr",
     "output_type": "stream",
     "text": [
      "\r",
      "1558it [2:39:10,  1.35s/it]"
     ]
    },
    {
     "name": "stdout",
     "output_type": "stream",
     "text": [
      "\n",
      "  3,396,055.0 Bytes [100.00%] received. Rate: [4141 KB/s].  ETA: [0 secs]    \r"
     ]
    },
    {
     "name": "stderr",
     "output_type": "stream",
     "text": [
      "\r",
      "1559it [2:39:12,  1.59s/it]"
     ]
    },
    {
     "name": "stdout",
     "output_type": "stream",
     "text": [
      "\n",
      "  218,655.0 Bytes [100.00%] received. Rate: [1417 KB/s].  ETA: [0 secs]    \r"
     ]
    },
    {
     "name": "stderr",
     "output_type": "stream",
     "text": [
      "\r",
      "1560it [2:39:14,  1.55s/it]"
     ]
    },
    {
     "name": "stdout",
     "output_type": "stream",
     "text": [
      "\n",
      "  12,812,171.0 Bytes [100.00%] received. Rate: [13862 KB/s].  ETA: [0 secs]    \r"
     ]
    },
    {
     "name": "stderr",
     "output_type": "stream",
     "text": [
      "\r",
      "1561it [2:39:16,  1.76s/it]"
     ]
    },
    {
     "name": "stdout",
     "output_type": "stream",
     "text": [
      "\n",
      "  1,892,103.0 Bytes [100.00%] received. Rate: [8351 KB/s].  ETA: [0 secs]    \r"
     ]
    },
    {
     "name": "stderr",
     "output_type": "stream",
     "text": [
      "\r",
      "1562it [2:39:18,  1.73s/it]"
     ]
    },
    {
     "name": "stdout",
     "output_type": "stream",
     "text": [
      "\n",
      "  2,747,443.0 Bytes [100.00%] received. Rate: [7501 KB/s].  ETA: [0 secs]    \r"
     ]
    },
    {
     "name": "stderr",
     "output_type": "stream",
     "text": [
      "\r",
      "1563it [2:39:19,  1.70s/it]"
     ]
    },
    {
     "name": "stdout",
     "output_type": "stream",
     "text": [
      "\n",
      "  32,973,631.0 Bytes [100.00%] received. Rate: [14168 KB/s].  ETA: [0 secs]    \r"
     ]
    },
    {
     "name": "stderr",
     "output_type": "stream",
     "text": [
      "\r",
      "1564it [2:39:24,  2.44s/it]"
     ]
    },
    {
     "name": "stdout",
     "output_type": "stream",
     "text": [
      "\n"
     ]
    },
    {
     "name": "stderr",
     "output_type": "stream",
     "text": [
      "ERROR: Video unavailable\n",
      "1565it [2:39:24,  1.88s/it]"
     ]
    },
    {
     "name": "stdout",
     "output_type": "stream",
     "text": [
      "  264,825.0 Bytes [100.00%] received. Rate: [ 829 KB/s].  ETA: [0 secs]    \r"
     ]
    },
    {
     "name": "stderr",
     "output_type": "stream",
     "text": [
      "\r",
      "1566it [2:39:26,  1.79s/it]"
     ]
    },
    {
     "name": "stdout",
     "output_type": "stream",
     "text": [
      "\n",
      "  198,750.0 Bytes [100.00%] received. Rate: [2834 KB/s].  ETA: [0 secs]    \r"
     ]
    },
    {
     "name": "stderr",
     "output_type": "stream",
     "text": [
      "\r",
      "1567it [2:39:27,  1.64s/it]"
     ]
    },
    {
     "name": "stdout",
     "output_type": "stream",
     "text": [
      "\n",
      "  10,554,044.0 Bytes [100.00%] received. Rate: [30558 KB/s].  ETA: [0 secs]    \r"
     ]
    },
    {
     "name": "stderr",
     "output_type": "stream",
     "text": [
      "\r",
      "1568it [2:39:29,  1.81s/it]"
     ]
    },
    {
     "name": "stdout",
     "output_type": "stream",
     "text": [
      "\n",
      "  2,499,723.0 Bytes [100.00%] received. Rate: [17789 KB/s].  ETA: [0 secs]    \r"
     ]
    },
    {
     "name": "stderr",
     "output_type": "stream",
     "text": [
      "\r",
      "1569it [2:39:31,  1.82s/it]"
     ]
    },
    {
     "name": "stdout",
     "output_type": "stream",
     "text": [
      "\n",
      "  3,226,858.0 Bytes [100.00%] received. Rate: [20916 KB/s].  ETA: [0 secs]    \r"
     ]
    },
    {
     "name": "stderr",
     "output_type": "stream",
     "text": [
      "\r",
      "1570it [2:39:33,  1.80s/it]"
     ]
    },
    {
     "name": "stdout",
     "output_type": "stream",
     "text": [
      "\n"
     ]
    },
    {
     "name": "stderr",
     "output_type": "stream",
     "text": [
      "ERROR: Video unavailable\n",
      "This video is no longer available because the YouTube account associated with this video has been terminated.\n",
      "1571it [2:39:33,  1.38s/it]"
     ]
    },
    {
     "name": "stdout",
     "output_type": "stream",
     "text": [
      "  4,177,576.0 Bytes [100.00%] received. Rate: [20251 KB/s].  ETA: [0 secs]    \r"
     ]
    },
    {
     "name": "stderr",
     "output_type": "stream",
     "text": [
      "\r",
      "1572it [2:39:35,  1.49s/it]"
     ]
    },
    {
     "name": "stdout",
     "output_type": "stream",
     "text": [
      "\n",
      "  3,493,702.0 Bytes [100.00%] received. Rate: [16592 KB/s].  ETA: [0 secs]    \r"
     ]
    },
    {
     "name": "stderr",
     "output_type": "stream",
     "text": [
      "\r",
      "1573it [2:39:37,  1.65s/it]"
     ]
    },
    {
     "name": "stdout",
     "output_type": "stream",
     "text": [
      "\n",
      "  9,173,445.0 Bytes [100.00%] received. Rate: [7369 KB/s].  ETA: [0 secs]    \r"
     ]
    },
    {
     "name": "stderr",
     "output_type": "stream",
     "text": [
      "\r",
      "1574it [2:39:40,  2.03s/it]"
     ]
    },
    {
     "name": "stdout",
     "output_type": "stream",
     "text": [
      "\n"
     ]
    },
    {
     "name": "stderr",
     "output_type": "stream",
     "text": [
      "\r",
      "1575it [2:39:41,  1.81s/it]"
     ]
    },
    {
     "name": "stdout",
     "output_type": "stream",
     "text": [
      "  4,138,522.0 Bytes [100.00%] received. Rate: [23607 KB/s].  ETA: [0 secs]    \r"
     ]
    },
    {
     "name": "stderr",
     "output_type": "stream",
     "text": [
      "\r",
      "1576it [2:39:43,  1.69s/it]"
     ]
    },
    {
     "name": "stdout",
     "output_type": "stream",
     "text": [
      "\n",
      "  6,528,285.0 Bytes [100.00%] received. Rate: [12017 KB/s].  ETA: [0 secs]    \r"
     ]
    },
    {
     "name": "stderr",
     "output_type": "stream",
     "text": [
      "\r",
      "1577it [2:39:45,  1.83s/it]"
     ]
    },
    {
     "name": "stdout",
     "output_type": "stream",
     "text": [
      "\n",
      "  14,982,371.0 Bytes [100.00%] received. Rate: [  73 KB/s].  ETA: [0 secs]     \r"
     ]
    },
    {
     "name": "stderr",
     "output_type": "stream",
     "text": [
      "\r",
      "1578it [2:43:07, 62.01s/it]"
     ]
    },
    {
     "name": "stdout",
     "output_type": "stream",
     "text": [
      "\n",
      "  1,000,658.0 Bytes [100.00%] received. Rate: [6209 KB/s].  ETA: [0 secs]    \r"
     ]
    },
    {
     "name": "stderr",
     "output_type": "stream",
     "text": [
      "\r",
      "1579it [2:43:08, 43.79s/it]"
     ]
    },
    {
     "name": "stdout",
     "output_type": "stream",
     "text": [
      "\n",
      "  5,412,461.0 Bytes [100.00%] received. Rate: [12840 KB/s].  ETA: [0 secs]    \r"
     ]
    },
    {
     "name": "stderr",
     "output_type": "stream",
     "text": [
      "\r",
      "1580it [2:43:10, 31.20s/it]"
     ]
    },
    {
     "name": "stdout",
     "output_type": "stream",
     "text": [
      "\n"
     ]
    },
    {
     "name": "stderr",
     "output_type": "stream",
     "text": [
      "ERROR: Video unavailable\n",
      "1581it [2:43:11, 21.97s/it]"
     ]
    },
    {
     "name": "stdout",
     "output_type": "stream",
     "text": [
      "  3,922,283.0 Bytes [100.00%] received. Rate: [19177 KB/s].  ETA: [0 secs]    \r"
     ]
    },
    {
     "name": "stderr",
     "output_type": "stream",
     "text": [
      "\r",
      "1582it [2:43:12, 15.85s/it]"
     ]
    },
    {
     "name": "stdout",
     "output_type": "stream",
     "text": [
      "\n",
      "  401,171.0 Bytes [100.00%] received. Rate: [4233 KB/s].  ETA: [0 secs]    \r"
     ]
    },
    {
     "name": "stderr",
     "output_type": "stream",
     "text": [
      "\r",
      "1583it [2:43:14, 11.59s/it]"
     ]
    },
    {
     "name": "stdout",
     "output_type": "stream",
     "text": [
      "\n",
      "  1,933,946.0 Bytes [100.00%] received. Rate: [10078 KB/s].  ETA: [0 secs]    \r"
     ]
    },
    {
     "name": "stderr",
     "output_type": "stream",
     "text": [
      "\r",
      "1584it [2:43:15,  8.52s/it]"
     ]
    },
    {
     "name": "stdout",
     "output_type": "stream",
     "text": [
      "\n",
      "  33,732,347.0 Bytes [100.00%] received. Rate: [14590 KB/s].  ETA: [0 secs]    \r"
     ]
    },
    {
     "name": "stderr",
     "output_type": "stream",
     "text": [
      "\r",
      "1585it [2:43:19,  7.05s/it]"
     ]
    },
    {
     "name": "stdout",
     "output_type": "stream",
     "text": [
      "\n",
      "  358,463.0 Bytes [100.00%] received. Rate: [  75 KB/s].  ETA: [0 secs]    \r"
     ]
    },
    {
     "name": "stderr",
     "output_type": "stream",
     "text": [
      "\r",
      "1586it [2:43:25,  6.65s/it]"
     ]
    },
    {
     "name": "stdout",
     "output_type": "stream",
     "text": [
      "\n",
      "  14,899,469.0 Bytes [100.00%] received. Rate: [31819 KB/s].  ETA: [0 secs]    \r"
     ]
    },
    {
     "name": "stderr",
     "output_type": "stream",
     "text": [
      "\r",
      "1587it [2:43:27,  5.26s/it]"
     ]
    },
    {
     "name": "stdout",
     "output_type": "stream",
     "text": [
      "\n",
      "  3,276,125.0 Bytes [100.00%] received. Rate: [27578 KB/s].  ETA: [0 secs]    \r"
     ]
    },
    {
     "name": "stderr",
     "output_type": "stream",
     "text": [
      "\r",
      "1588it [2:43:28,  4.13s/it]"
     ]
    },
    {
     "name": "stdout",
     "output_type": "stream",
     "text": [
      "\n",
      "  1,330,143.0 Bytes [100.00%] received. Rate: [4721 KB/s].  ETA: [0 secs]    \r"
     ]
    },
    {
     "name": "stderr",
     "output_type": "stream",
     "text": [
      "\r",
      "1589it [2:43:30,  3.41s/it]"
     ]
    },
    {
     "name": "stdout",
     "output_type": "stream",
     "text": [
      "\n",
      "  4,014,673.0 Bytes [100.00%] received. Rate: [17938 KB/s].  ETA: [0 secs]    \r"
     ]
    },
    {
     "name": "stderr",
     "output_type": "stream",
     "text": [
      "\r",
      "1590it [2:43:31,  2.84s/it]"
     ]
    },
    {
     "name": "stdout",
     "output_type": "stream",
     "text": [
      "\n",
      "  2,199,747.0 Bytes [100.00%] received. Rate: [10213 KB/s].  ETA: [0 secs]    \r"
     ]
    },
    {
     "name": "stderr",
     "output_type": "stream",
     "text": [
      "\r",
      "1591it [2:43:34,  2.65s/it]"
     ]
    },
    {
     "name": "stdout",
     "output_type": "stream",
     "text": [
      "\n"
     ]
    },
    {
     "name": "stderr",
     "output_type": "stream",
     "text": [
      "ERROR: Video unavailable\n",
      "1592it [2:43:34,  2.00s/it]"
     ]
    },
    {
     "name": "stdout",
     "output_type": "stream",
     "text": [
      "  609,408.0 Bytes [100.00%] received. Rate: [5094 KB/s].  ETA: [0 secs]    \r"
     ]
    },
    {
     "name": "stderr",
     "output_type": "stream",
     "text": [
      "\r",
      "1593it [2:43:36,  1.88s/it]"
     ]
    },
    {
     "name": "stdout",
     "output_type": "stream",
     "text": [
      "\n",
      "  3,775,914.0 Bytes [100.00%] received. Rate: [4236 KB/s].  ETA: [0 secs]    \r"
     ]
    },
    {
     "name": "stderr",
     "output_type": "stream",
     "text": [
      "\r",
      "1594it [2:43:38,  1.97s/it]"
     ]
    },
    {
     "name": "stdout",
     "output_type": "stream",
     "text": [
      "\n",
      "  2,603,221.0 Bytes [100.00%] received. Rate: [12698 KB/s].  ETA: [0 secs]    \r"
     ]
    },
    {
     "name": "stderr",
     "output_type": "stream",
     "text": [
      "\r",
      "1595it [2:43:39,  1.87s/it]"
     ]
    },
    {
     "name": "stdout",
     "output_type": "stream",
     "text": [
      "\n"
     ]
    },
    {
     "name": "stderr",
     "output_type": "stream",
     "text": [
      "\r",
      "1596it [2:43:40,  1.60s/it]"
     ]
    },
    {
     "name": "stdout",
     "output_type": "stream",
     "text": [
      "  122,941.0 Bytes [100.00%] received. Rate: [1643 KB/s].  ETA: [0 secs]    \r"
     ]
    },
    {
     "name": "stderr",
     "output_type": "stream",
     "text": [
      "\r",
      "1597it [2:43:42,  1.52s/it]"
     ]
    },
    {
     "name": "stdout",
     "output_type": "stream",
     "text": [
      "\n",
      "  14,426,552.0 Bytes [100.00%] received. Rate: [19401 KB/s].  ETA: [0 secs]    \r"
     ]
    },
    {
     "name": "stderr",
     "output_type": "stream",
     "text": [
      "\r",
      "1598it [2:43:44,  1.84s/it]"
     ]
    },
    {
     "name": "stdout",
     "output_type": "stream",
     "text": [
      "\n",
      "  1,614,908.0 Bytes [100.00%] received. Rate: [8687 KB/s].  ETA: [0 secs]    \r"
     ]
    },
    {
     "name": "stderr",
     "output_type": "stream",
     "text": [
      "\r",
      "1599it [2:43:46,  1.72s/it]"
     ]
    },
    {
     "name": "stdout",
     "output_type": "stream",
     "text": [
      "\n",
      "  1,185,560.0 Bytes [100.00%] received. Rate: [2518 KB/s].  ETA: [0 secs]    \r"
     ]
    },
    {
     "name": "stderr",
     "output_type": "stream",
     "text": [
      "\r",
      "1600it [2:43:47,  1.71s/it]"
     ]
    },
    {
     "name": "stdout",
     "output_type": "stream",
     "text": [
      "\n",
      "  30,264,181.0 Bytes [100.00%] received. Rate: [32608 KB/s].  ETA: [0 secs]    \r"
     ]
    },
    {
     "name": "stderr",
     "output_type": "stream",
     "text": [
      "\r",
      "1601it [2:43:50,  1.97s/it]"
     ]
    },
    {
     "name": "stdout",
     "output_type": "stream",
     "text": [
      "\n"
     ]
    },
    {
     "name": "stderr",
     "output_type": "stream",
     "text": [
      "ERROR: Private video\n",
      "Sign in if you've been granted access to this video\n",
      "1602it [2:43:51,  1.55s/it]"
     ]
    },
    {
     "name": "stdout",
     "output_type": "stream",
     "text": [
      "  1,811,156.0 Bytes [100.00%] received. Rate: [18957 KB/s].  ETA: [0 secs]    \r"
     ]
    },
    {
     "name": "stderr",
     "output_type": "stream",
     "text": [
      "\r",
      "1603it [2:43:52,  1.51s/it]"
     ]
    },
    {
     "name": "stdout",
     "output_type": "stream",
     "text": [
      "\n",
      "  187,724.0 Bytes [100.00%] received. Rate: [1177 KB/s].  ETA: [0 secs]    \r"
     ]
    },
    {
     "name": "stderr",
     "output_type": "stream",
     "text": [
      "\r",
      "1604it [2:43:54,  1.51s/it]"
     ]
    },
    {
     "name": "stdout",
     "output_type": "stream",
     "text": [
      "\n",
      "  3,621,835.0 Bytes [100.00%] received. Rate: [18451 KB/s].  ETA: [0 secs]    \r"
     ]
    },
    {
     "name": "stderr",
     "output_type": "stream",
     "text": [
      "\r",
      "1605it [2:43:55,  1.51s/it]"
     ]
    },
    {
     "name": "stdout",
     "output_type": "stream",
     "text": [
      "\n",
      "  2,120,666.0 Bytes [100.00%] received. Rate: [8329 KB/s].  ETA: [0 secs]    \r"
     ]
    },
    {
     "name": "stderr",
     "output_type": "stream",
     "text": [
      "\r",
      "1606it [2:43:57,  1.71s/it]"
     ]
    },
    {
     "name": "stdout",
     "output_type": "stream",
     "text": [
      "\n"
     ]
    },
    {
     "name": "stderr",
     "output_type": "stream",
     "text": [
      "ERROR: Private video\n",
      "Sign in if you've been granted access to this video\n",
      "1607it [2:43:58,  1.32s/it]"
     ]
    },
    {
     "name": "stdout",
     "output_type": "stream",
     "text": [
      "  378,787.0 Bytes [100.00%] received. Rate: [1705 KB/s].  ETA: [0 secs]    \r"
     ]
    },
    {
     "name": "stderr",
     "output_type": "stream",
     "text": [
      "\r",
      "1608it [2:43:59,  1.33s/it]"
     ]
    },
    {
     "name": "stdout",
     "output_type": "stream",
     "text": [
      "\n",
      "  146,657.0 Bytes [100.00%] received. Rate: [1145 KB/s].  ETA: [0 secs]    \r"
     ]
    },
    {
     "name": "stderr",
     "output_type": "stream",
     "text": [
      "\r",
      "1609it [2:44:00,  1.24s/it]"
     ]
    },
    {
     "name": "stdout",
     "output_type": "stream",
     "text": [
      "\n",
      "  9,079,729.0 Bytes [100.00%] received. Rate: [20882 KB/s].  ETA: [0 secs]    \r"
     ]
    },
    {
     "name": "stderr",
     "output_type": "stream",
     "text": [
      "\r",
      "1610it [2:44:03,  1.65s/it]"
     ]
    },
    {
     "name": "stdout",
     "output_type": "stream",
     "text": [
      "\n",
      "  677,433.0 Bytes [100.00%] received. Rate: [2206 KB/s].  ETA: [0 secs]    \r"
     ]
    },
    {
     "name": "stderr",
     "output_type": "stream",
     "text": [
      "\r",
      "1611it [2:44:04,  1.58s/it]"
     ]
    },
    {
     "name": "stdout",
     "output_type": "stream",
     "text": [
      "\n",
      "  398,432.0 Bytes [100.00%] received. Rate: [4990 KB/s].  ETA: [0 secs]    \r"
     ]
    },
    {
     "name": "stderr",
     "output_type": "stream",
     "text": [
      "\r",
      "1612it [2:44:06,  1.56s/it]"
     ]
    },
    {
     "name": "stdout",
     "output_type": "stream",
     "text": [
      "\n",
      "  2,487,709.0 Bytes [100.00%] received. Rate: [15674 KB/s].  ETA: [0 secs]    \r"
     ]
    },
    {
     "name": "stderr",
     "output_type": "stream",
     "text": [
      "\r",
      "1613it [2:44:07,  1.57s/it]"
     ]
    },
    {
     "name": "stdout",
     "output_type": "stream",
     "text": [
      "\n",
      "  2,219,940.0 Bytes [100.00%] received. Rate: [11762 KB/s].  ETA: [0 secs]    \r"
     ]
    },
    {
     "name": "stderr",
     "output_type": "stream",
     "text": [
      "\r",
      "1614it [2:44:09,  1.55s/it]"
     ]
    },
    {
     "name": "stdout",
     "output_type": "stream",
     "text": [
      "\n",
      "  6,679,324.0 Bytes [100.00%] received. Rate: [5738 KB/s].  ETA: [0 secs]    \r"
     ]
    },
    {
     "name": "stderr",
     "output_type": "stream",
     "text": [
      "\r",
      "1615it [2:44:11,  1.81s/it]"
     ]
    },
    {
     "name": "stdout",
     "output_type": "stream",
     "text": [
      "\n",
      "  2,881,354.0 Bytes [100.00%] received. Rate: [  44 KB/s].  ETA: [0 secs]    \r"
     ]
    },
    {
     "name": "stderr",
     "output_type": "stream",
     "text": [
      "\r",
      "1616it [2:45:17, 21.00s/it]"
     ]
    },
    {
     "name": "stdout",
     "output_type": "stream",
     "text": [
      "\n",
      "  8,581,354.0 Bytes [100.00%] received. Rate: [  76 KB/s].  ETA: [0 secs]    \r"
     ]
    },
    {
     "name": "stderr",
     "output_type": "stream",
     "text": [
      "\r",
      "1617it [2:47:09, 48.35s/it]"
     ]
    },
    {
     "name": "stdout",
     "output_type": "stream",
     "text": [
      "\n",
      "  13,629,622.0 Bytes [100.00%] received. Rate: [17273 KB/s].  ETA: [0 secs]    \r"
     ]
    },
    {
     "name": "stderr",
     "output_type": "stream",
     "text": [
      "\r",
      "1618it [2:47:12, 34.86s/it]"
     ]
    },
    {
     "name": "stdout",
     "output_type": "stream",
     "text": [
      "\n",
      "  860,412.0 Bytes [100.00%] received. Rate: [5802 KB/s].  ETA: [0 secs]    \r"
     ]
    },
    {
     "name": "stderr",
     "output_type": "stream",
     "text": [
      "\r",
      "1619it [2:47:14, 24.91s/it]"
     ]
    },
    {
     "name": "stdout",
     "output_type": "stream",
     "text": [
      "\n"
     ]
    },
    {
     "name": "stderr",
     "output_type": "stream",
     "text": [
      "ERROR: Private video\n",
      "Sign in if you've been granted access to this video\n",
      "1620it [2:47:15, 17.64s/it]"
     ]
    },
    {
     "name": "stdout",
     "output_type": "stream",
     "text": [
      "  4,469,957.0 Bytes [100.00%] received. Rate: [17226 KB/s].  ETA: [0 secs]    \r"
     ]
    },
    {
     "name": "stderr",
     "output_type": "stream",
     "text": [
      "\r",
      "1621it [2:47:17, 13.02s/it]"
     ]
    },
    {
     "name": "stdout",
     "output_type": "stream",
     "text": [
      "\n",
      "  6,090,913.0 Bytes [100.00%] received. Rate: [21869 KB/s].  ETA: [0 secs]    \r"
     ]
    },
    {
     "name": "stderr",
     "output_type": "stream",
     "text": [
      "\r",
      "1622it [2:47:19,  9.59s/it]"
     ]
    },
    {
     "name": "stdout",
     "output_type": "stream",
     "text": [
      "\n",
      "  1,807,167.0 Bytes [100.00%] received. Rate: [14484 KB/s].  ETA: [0 secs]    \r"
     ]
    },
    {
     "name": "stderr",
     "output_type": "stream",
     "text": [
      "\r",
      "1623it [2:47:20,  7.07s/it]"
     ]
    },
    {
     "name": "stdout",
     "output_type": "stream",
     "text": [
      "\n",
      "  13,008,602.0 Bytes [100.00%] received. Rate: [29679 KB/s].  ETA: [0 secs]    \r"
     ]
    },
    {
     "name": "stderr",
     "output_type": "stream",
     "text": [
      "\r",
      "1624it [2:47:22,  5.59s/it]"
     ]
    },
    {
     "name": "stdout",
     "output_type": "stream",
     "text": [
      "\n",
      "  2,710,361.0 Bytes [100.00%] received. Rate: [29373 KB/s].  ETA: [0 secs]    \r"
     ]
    },
    {
     "name": "stderr",
     "output_type": "stream",
     "text": [
      "\r",
      "1625it [2:47:23,  4.34s/it]"
     ]
    },
    {
     "name": "stdout",
     "output_type": "stream",
     "text": [
      "\n",
      "  4,215,651.0 Bytes [100.00%] received. Rate: [8235 KB/s].  ETA: [0 secs]    \r"
     ]
    },
    {
     "name": "stderr",
     "output_type": "stream",
     "text": [
      "\r",
      "1626it [2:47:25,  3.61s/it]"
     ]
    },
    {
     "name": "stdout",
     "output_type": "stream",
     "text": [
      "\n",
      "  6,368,540.0 Bytes [100.00%] received. Rate: [6194 KB/s].  ETA: [0 secs]    \r"
     ]
    },
    {
     "name": "stderr",
     "output_type": "stream",
     "text": [
      "\r",
      "1627it [2:47:28,  3.39s/it]"
     ]
    },
    {
     "name": "stdout",
     "output_type": "stream",
     "text": [
      "\n",
      "  838,898.0 Bytes [100.00%] received. Rate: [3861 KB/s].  ETA: [0 secs]    \r"
     ]
    },
    {
     "name": "stderr",
     "output_type": "stream",
     "text": [
      "\r",
      "1628it [2:47:30,  2.89s/it]"
     ]
    },
    {
     "name": "stdout",
     "output_type": "stream",
     "text": [
      "\n",
      "  2,110,280.0 Bytes [100.00%] received. Rate: [  80 KB/s].  ETA: [0 secs]    \r"
     ]
    },
    {
     "name": "stderr",
     "output_type": "stream",
     "text": [
      "\r",
      "1629it [2:47:57, 10.24s/it]"
     ]
    },
    {
     "name": "stdout",
     "output_type": "stream",
     "text": [
      "\n",
      "  9,735,191.0 Bytes [100.00%] received. Rate: [23893 KB/s].  ETA: [0 secs]    \r"
     ]
    },
    {
     "name": "stderr",
     "output_type": "stream",
     "text": [
      "\r",
      "1630it [2:47:59,  7.71s/it]"
     ]
    },
    {
     "name": "stdout",
     "output_type": "stream",
     "text": [
      "\n",
      "  1,842,910.0 Bytes [100.00%] received. Rate: [16056 KB/s].  ETA: [0 secs]    \r"
     ]
    },
    {
     "name": "stderr",
     "output_type": "stream",
     "text": [
      "\r",
      "1631it [2:48:01,  5.95s/it]"
     ]
    },
    {
     "name": "stdout",
     "output_type": "stream",
     "text": [
      "\n",
      "  219,294.0 Bytes [100.00%] received. Rate: [1721 KB/s].  ETA: [0 secs]    \r"
     ]
    },
    {
     "name": "stderr",
     "output_type": "stream",
     "text": [
      "\r",
      "1632it [2:48:03,  4.67s/it]"
     ]
    },
    {
     "name": "stdout",
     "output_type": "stream",
     "text": [
      "\n",
      "  490,035.0 Bytes [100.00%] received. Rate: [5173 KB/s].  ETA: [0 secs]    \r"
     ]
    },
    {
     "name": "stderr",
     "output_type": "stream",
     "text": [
      "\r",
      "1633it [2:48:04,  3.67s/it]"
     ]
    },
    {
     "name": "stdout",
     "output_type": "stream",
     "text": [
      "\n",
      "  1,152,037.0 Bytes [100.00%] received. Rate: [  71 KB/s].  ETA: [0 secs]    \r"
     ]
    },
    {
     "name": "stderr",
     "output_type": "stream",
     "text": [
      "\r",
      "1634it [2:48:21,  7.77s/it]"
     ]
    },
    {
     "name": "stdout",
     "output_type": "stream",
     "text": [
      "\n",
      "  11,227,039.0 Bytes [100.00%] received. Rate: [10608 KB/s].  ETA: [0 secs]    \r"
     ]
    },
    {
     "name": "stderr",
     "output_type": "stream",
     "text": [
      "\r",
      "1635it [2:48:23,  6.02s/it]"
     ]
    },
    {
     "name": "stdout",
     "output_type": "stream",
     "text": [
      "\n",
      "  99,690.0 Bytes [100.00%] received. Rate: [1196 KB/s].  ETA: [0 secs]    \r"
     ]
    },
    {
     "name": "stderr",
     "output_type": "stream",
     "text": [
      "\r",
      "1636it [2:48:25,  4.63s/it]"
     ]
    },
    {
     "name": "stdout",
     "output_type": "stream",
     "text": [
      "\n",
      "  341,983.0 Bytes [100.00%] received. Rate: [3767 KB/s].  ETA: [0 secs]    \r"
     ]
    },
    {
     "name": "stderr",
     "output_type": "stream",
     "text": [
      "\r",
      "1637it [2:48:26,  3.74s/it]"
     ]
    },
    {
     "name": "stdout",
     "output_type": "stream",
     "text": [
      "\n",
      "  8,473,711.0 Bytes [100.00%] received. Rate: [16053 KB/s].  ETA: [0 secs]    \r"
     ]
    },
    {
     "name": "stderr",
     "output_type": "stream",
     "text": [
      "\r",
      "1638it [2:48:28,  3.21s/it]"
     ]
    },
    {
     "name": "stdout",
     "output_type": "stream",
     "text": [
      "\n",
      "  3,874,750.0 Bytes [100.00%] received. Rate: [23957 KB/s].  ETA: [0 secs]    \r"
     ]
    },
    {
     "name": "stderr",
     "output_type": "stream",
     "text": [
      "\r",
      "1639it [2:48:30,  2.70s/it]"
     ]
    },
    {
     "name": "stdout",
     "output_type": "stream",
     "text": [
      "\n",
      "  2,633,118.0 Bytes [100.00%] received. Rate: [13655 KB/s].  ETA: [0 secs]    \r"
     ]
    },
    {
     "name": "stderr",
     "output_type": "stream",
     "text": [
      "\r",
      "1640it [2:48:31,  2.25s/it]"
     ]
    },
    {
     "name": "stdout",
     "output_type": "stream",
     "text": [
      "\n",
      "  400,852.0 Bytes [100.00%] received. Rate: [2517 KB/s].  ETA: [0 secs]    \r"
     ]
    },
    {
     "name": "stderr",
     "output_type": "stream",
     "text": [
      "\r",
      "1641it [2:48:32,  1.89s/it]"
     ]
    },
    {
     "name": "stdout",
     "output_type": "stream",
     "text": [
      "\n",
      "  5,174,423.0 Bytes [100.00%] received. Rate: [21696 KB/s].  ETA: [0 secs]    \r"
     ]
    },
    {
     "name": "stderr",
     "output_type": "stream",
     "text": [
      "\r",
      "1642it [2:48:34,  1.98s/it]"
     ]
    },
    {
     "name": "stdout",
     "output_type": "stream",
     "text": [
      "\n",
      "  16,301,121.0 Bytes [100.00%] received. Rate: [29841 KB/s].  ETA: [0 secs]    \r"
     ]
    },
    {
     "name": "stderr",
     "output_type": "stream",
     "text": [
      "\r",
      "1643it [2:48:36,  2.07s/it]"
     ]
    },
    {
     "name": "stdout",
     "output_type": "stream",
     "text": [
      "\n",
      "  441,709.0 Bytes [100.00%] received. Rate: [1706 KB/s].  ETA: [0 secs]    \r"
     ]
    },
    {
     "name": "stderr",
     "output_type": "stream",
     "text": [
      "\r",
      "1644it [2:48:38,  1.87s/it]"
     ]
    },
    {
     "name": "stdout",
     "output_type": "stream",
     "text": [
      "\n",
      "  9,146,365.0 Bytes [100.00%] received. Rate: [20516 KB/s].  ETA: [0 secs]    \r"
     ]
    },
    {
     "name": "stderr",
     "output_type": "stream",
     "text": [
      "\r",
      "1645it [2:48:40,  1.88s/it]"
     ]
    },
    {
     "name": "stdout",
     "output_type": "stream",
     "text": [
      "\n"
     ]
    },
    {
     "name": "stderr",
     "output_type": "stream",
     "text": [
      "ERROR: Private video\n",
      "Sign in if you've been granted access to this video\n",
      "1646it [2:48:40,  1.46s/it]"
     ]
    },
    {
     "name": "stdout",
     "output_type": "stream",
     "text": [
      "  1,199,233.0 Bytes [100.00%] received. Rate: [6304 KB/s].  ETA: [0 secs]    \r"
     ]
    },
    {
     "name": "stderr",
     "output_type": "stream",
     "text": [
      "\r",
      "1647it [2:48:42,  1.51s/it]"
     ]
    },
    {
     "name": "stdout",
     "output_type": "stream",
     "text": [
      "\n"
     ]
    },
    {
     "name": "stderr",
     "output_type": "stream",
     "text": [
      "ERROR: Video unavailable\n",
      "This video contains content from MarkStoneSkyNews. It is not available in your country.\n",
      "1648it [2:48:42,  1.21s/it]"
     ]
    },
    {
     "name": "stdout",
     "output_type": "stream",
     "text": [
      "  2,622,017.0 Bytes [100.00%] received. Rate: [11573 KB/s].  ETA: [0 secs]    \r"
     ]
    },
    {
     "name": "stderr",
     "output_type": "stream",
     "text": [
      "\r",
      "1649it [2:48:44,  1.31s/it]"
     ]
    },
    {
     "name": "stdout",
     "output_type": "stream",
     "text": [
      "\n",
      "  1,194,584.0 Bytes [100.00%] received. Rate: [6181 KB/s].  ETA: [0 secs]    \r"
     ]
    },
    {
     "name": "stderr",
     "output_type": "stream",
     "text": [
      "\r",
      "1650it [2:48:46,  1.47s/it]"
     ]
    },
    {
     "name": "stdout",
     "output_type": "stream",
     "text": [
      "\n",
      "  2,186,805.0 Bytes [100.00%] received. Rate: [  53 KB/s].  ETA: [0 secs]    \r"
     ]
    },
    {
     "name": "stderr",
     "output_type": "stream",
     "text": [
      "\r",
      "1651it [2:49:27, 13.51s/it]"
     ]
    },
    {
     "name": "stdout",
     "output_type": "stream",
     "text": [
      "\n"
     ]
    },
    {
     "name": "stderr",
     "output_type": "stream",
     "text": [
      "ERROR: Video unavailable\n",
      "1652it [2:49:28,  9.59s/it]"
     ]
    },
    {
     "name": "stdout",
     "output_type": "stream",
     "text": [
      "  1,857,879.0 Bytes [100.00%] received. Rate: [9171 KB/s].  ETA: [0 secs]    \r"
     ]
    },
    {
     "name": "stderr",
     "output_type": "stream",
     "text": [
      "\r",
      "1653it [2:49:29,  7.20s/it]"
     ]
    },
    {
     "name": "stdout",
     "output_type": "stream",
     "text": [
      "\n",
      "  3,425,526.0 Bytes [100.00%] received. Rate: [18234 KB/s].  ETA: [0 secs]    \r"
     ]
    },
    {
     "name": "stderr",
     "output_type": "stream",
     "text": [
      "\r",
      "1654it [2:49:31,  5.58s/it]"
     ]
    },
    {
     "name": "stdout",
     "output_type": "stream",
     "text": [
      "\n",
      "  2,359,353.0 Bytes [100.00%] received. Rate: [17035 KB/s].  ETA: [0 secs]    \r"
     ]
    },
    {
     "name": "stderr",
     "output_type": "stream",
     "text": [
      "\r",
      "1655it [2:49:33,  4.39s/it]"
     ]
    },
    {
     "name": "stdout",
     "output_type": "stream",
     "text": [
      "\n",
      "  2,716,119.0 Bytes [100.00%] received. Rate: [20421 KB/s].  ETA: [0 secs]    \r"
     ]
    },
    {
     "name": "stderr",
     "output_type": "stream",
     "text": [
      "\r",
      "1656it [2:49:34,  3.43s/it]"
     ]
    },
    {
     "name": "stdout",
     "output_type": "stream",
     "text": [
      "\n",
      "  3,928,648.0 Bytes [100.00%] received. Rate: [18121 KB/s].  ETA: [0 secs]    \r"
     ]
    },
    {
     "name": "stderr",
     "output_type": "stream",
     "text": [
      "\r",
      "1657it [2:49:35,  2.82s/it]"
     ]
    },
    {
     "name": "stdout",
     "output_type": "stream",
     "text": [
      "\n",
      "  2,655,727.0 Bytes [100.00%] received. Rate: [14267 KB/s].  ETA: [0 secs]    \r"
     ]
    },
    {
     "name": "stderr",
     "output_type": "stream",
     "text": [
      "\r",
      "1658it [2:49:37,  2.48s/it]"
     ]
    },
    {
     "name": "stdout",
     "output_type": "stream",
     "text": [
      "\n",
      "  25,274,424.0 Bytes [100.00%] received. Rate: [  80 KB/s].  ETA: [0 secs]      \r"
     ]
    },
    {
     "name": "stderr",
     "output_type": "stream",
     "text": [
      "\r",
      "1659it [2:54:48, 94.87s/it]"
     ]
    },
    {
     "name": "stdout",
     "output_type": "stream",
     "text": [
      "\n",
      "  2,336,604.0 Bytes [100.00%] received. Rate: [18271 KB/s].  ETA: [0 secs]    \r"
     ]
    },
    {
     "name": "stderr",
     "output_type": "stream",
     "text": [
      "\r",
      "1660it [2:54:49, 66.79s/it]"
     ]
    },
    {
     "name": "stdout",
     "output_type": "stream",
     "text": [
      "\n",
      "  613,551.0 Bytes [100.00%] received. Rate: [3902 KB/s].  ETA: [0 secs]    \r"
     ]
    },
    {
     "name": "stderr",
     "output_type": "stream",
     "text": [
      "\r",
      "1661it [2:54:50, 47.20s/it]"
     ]
    },
    {
     "name": "stdout",
     "output_type": "stream",
     "text": [
      "\n",
      "  50,478.0 Bytes [100.00%] received. Rate: [ 620 KB/s].  ETA: [0 secs]    \r"
     ]
    },
    {
     "name": "stderr",
     "output_type": "stream",
     "text": [
      "\r",
      "1662it [2:54:52, 33.47s/it]"
     ]
    },
    {
     "name": "stdout",
     "output_type": "stream",
     "text": [
      "\n"
     ]
    },
    {
     "name": "stderr",
     "output_type": "stream",
     "text": [
      "ERROR: Video unavailable\n",
      "1663it [2:54:52, 23.53s/it]"
     ]
    },
    {
     "name": "stdout",
     "output_type": "stream",
     "text": [
      "  2,802,155.0 Bytes [100.00%] received. Rate: [19124 KB/s].  ETA: [0 secs]    \r"
     ]
    },
    {
     "name": "stderr",
     "output_type": "stream",
     "text": [
      "\r",
      "1664it [2:54:54, 17.05s/it]"
     ]
    },
    {
     "name": "stdout",
     "output_type": "stream",
     "text": [
      "\n",
      "  915,352.0 Bytes [100.00%] received. Rate: [9606 KB/s].  ETA: [0 secs]    \r"
     ]
    },
    {
     "name": "stderr",
     "output_type": "stream",
     "text": [
      "\r",
      "1665it [2:54:56, 12.40s/it]"
     ]
    },
    {
     "name": "stdout",
     "output_type": "stream",
     "text": [
      "\n",
      "  2,857,438.0 Bytes [100.00%] received. Rate: [18956 KB/s].  ETA: [0 secs]    \r"
     ]
    },
    {
     "name": "stderr",
     "output_type": "stream",
     "text": [
      "\r",
      "1666it [2:54:57,  9.20s/it]"
     ]
    },
    {
     "name": "stdout",
     "output_type": "stream",
     "text": [
      "\n"
     ]
    },
    {
     "name": "stderr",
     "output_type": "stream",
     "text": [
      "\r",
      "1667it [2:54:58,  6.81s/it]"
     ]
    },
    {
     "name": "stdout",
     "output_type": "stream",
     "text": [
      "  5,099,878.0 Bytes [100.00%] received. Rate: [23562 KB/s].  ETA: [0 secs]    \r"
     ]
    },
    {
     "name": "stderr",
     "output_type": "stream",
     "text": [
      "\r",
      "1668it [2:55:01,  5.41s/it]"
     ]
    },
    {
     "name": "stdout",
     "output_type": "stream",
     "text": [
      "\n",
      "  16,021,401.0 Bytes [100.00%] received. Rate: [25891 KB/s].  ETA: [0 secs]    \r"
     ]
    },
    {
     "name": "stderr",
     "output_type": "stream",
     "text": [
      "\r",
      "1669it [2:55:03,  4.44s/it]"
     ]
    },
    {
     "name": "stdout",
     "output_type": "stream",
     "text": [
      "\n",
      "  218,441.0 Bytes [100.00%] received. Rate: [2535 KB/s].  ETA: [0 secs]    \r"
     ]
    },
    {
     "name": "stderr",
     "output_type": "stream",
     "text": [
      "\r",
      "1670it [2:55:05,  3.87s/it]"
     ]
    },
    {
     "name": "stdout",
     "output_type": "stream",
     "text": [
      "\n",
      "  1,630,109.0 Bytes [100.00%] received. Rate: [7733 KB/s].  ETA: [0 secs]    \r"
     ]
    },
    {
     "name": "stderr",
     "output_type": "stream",
     "text": [
      "\r",
      "1671it [2:55:07,  3.22s/it]"
     ]
    },
    {
     "name": "stdout",
     "output_type": "stream",
     "text": [
      "\n",
      "  2,310,340.0 Bytes [100.00%] received. Rate: [8760 KB/s].  ETA: [0 secs]    \r"
     ]
    },
    {
     "name": "stderr",
     "output_type": "stream",
     "text": [
      "\r",
      "1672it [2:55:09,  2.79s/it]"
     ]
    },
    {
     "name": "stdout",
     "output_type": "stream",
     "text": [
      "\n",
      "  556,895.0 Bytes [100.00%] received. Rate: [2652 KB/s].  ETA: [0 secs]    \r"
     ]
    },
    {
     "name": "stderr",
     "output_type": "stream",
     "text": [
      "\r",
      "1673it [2:55:10,  2.41s/it]"
     ]
    },
    {
     "name": "stdout",
     "output_type": "stream",
     "text": [
      "\n",
      "  2,902,366.0 Bytes [100.00%] received. Rate: [12880 KB/s].  ETA: [0 secs]    \r"
     ]
    },
    {
     "name": "stderr",
     "output_type": "stream",
     "text": [
      "\r",
      "1674it [2:55:12,  2.17s/it]"
     ]
    },
    {
     "name": "stdout",
     "output_type": "stream",
     "text": [
      "\n"
     ]
    },
    {
     "name": "stderr",
     "output_type": "stream",
     "text": [
      "ERROR: Video unavailable\n",
      "This video is no longer available because the YouTube account associated with this video has been terminated.\n",
      "1675it [2:55:13,  1.68s/it]"
     ]
    },
    {
     "name": "stdout",
     "output_type": "stream",
     "text": [
      "  5,912,202.0 Bytes [100.00%] received. Rate: [13805 KB/s].  ETA: [0 secs]    \r"
     ]
    },
    {
     "name": "stderr",
     "output_type": "stream",
     "text": [
      "\r",
      "1676it [2:55:14,  1.71s/it]"
     ]
    },
    {
     "name": "stdout",
     "output_type": "stream",
     "text": [
      "\n",
      "  705,234.0 Bytes [100.00%] received. Rate: [1893 KB/s].  ETA: [0 secs]    \r"
     ]
    },
    {
     "name": "stderr",
     "output_type": "stream",
     "text": [
      "\r",
      "1677it [2:55:16,  1.71s/it]"
     ]
    },
    {
     "name": "stdout",
     "output_type": "stream",
     "text": [
      "\n",
      "  523,379.0 Bytes [100.00%] received. Rate: [3726 KB/s].  ETA: [0 secs]    \r"
     ]
    },
    {
     "name": "stderr",
     "output_type": "stream",
     "text": [
      "\r",
      "1678it [2:55:18,  1.79s/it]"
     ]
    },
    {
     "name": "stdout",
     "output_type": "stream",
     "text": [
      "\n",
      "  655,305.0 Bytes [100.00%] received. Rate: [3973 KB/s].  ETA: [0 secs]    \r"
     ]
    },
    {
     "name": "stderr",
     "output_type": "stream",
     "text": [
      "\r",
      "1679it [2:55:19,  1.66s/it]"
     ]
    },
    {
     "name": "stdout",
     "output_type": "stream",
     "text": [
      "\n",
      "  790,920.0 Bytes [100.00%] received. Rate: [6084 KB/s].  ETA: [0 secs]    \r"
     ]
    },
    {
     "name": "stderr",
     "output_type": "stream",
     "text": [
      "\r",
      "1680it [2:55:21,  1.69s/it]"
     ]
    },
    {
     "name": "stdout",
     "output_type": "stream",
     "text": [
      "\n",
      "  8,389,480.0 Bytes [100.00%] received. Rate: [20666 KB/s].  ETA: [0 secs]    \r"
     ]
    },
    {
     "name": "stderr",
     "output_type": "stream",
     "text": [
      "\r",
      "1681it [2:55:23,  1.70s/it]"
     ]
    },
    {
     "name": "stdout",
     "output_type": "stream",
     "text": [
      "\n",
      "  4,248,634.0 Bytes [100.00%] received. Rate: [23230 KB/s].  ETA: [0 secs]    \r"
     ]
    },
    {
     "name": "stderr",
     "output_type": "stream",
     "text": [
      "\r",
      "1682it [2:55:24,  1.61s/it]"
     ]
    },
    {
     "name": "stdout",
     "output_type": "stream",
     "text": [
      "\n",
      "  1,499,770.0 Bytes [100.00%] received. Rate: [10276 KB/s].  ETA: [0 secs]    \r"
     ]
    },
    {
     "name": "stderr",
     "output_type": "stream",
     "text": [
      "\r",
      "1683it [2:55:26,  1.53s/it]"
     ]
    },
    {
     "name": "stdout",
     "output_type": "stream",
     "text": [
      "\n",
      "  776,715.0 Bytes [100.00%] received. Rate: [4683 KB/s].  ETA: [0 secs]    \r"
     ]
    },
    {
     "name": "stderr",
     "output_type": "stream",
     "text": [
      "\r",
      "1684it [2:55:27,  1.51s/it]"
     ]
    },
    {
     "name": "stdout",
     "output_type": "stream",
     "text": [
      "\n",
      "  132,753.0 Bytes [100.00%] received. Rate: [1701 KB/s].  ETA: [0 secs]    \r"
     ]
    },
    {
     "name": "stderr",
     "output_type": "stream",
     "text": [
      "\r",
      "1685it [2:55:28,  1.36s/it]"
     ]
    },
    {
     "name": "stdout",
     "output_type": "stream",
     "text": [
      "\n",
      "  1,539,943.0 Bytes [100.00%] received. Rate: [1848 KB/s].  ETA: [0 secs]    \r"
     ]
    },
    {
     "name": "stderr",
     "output_type": "stream",
     "text": [
      "\r",
      "1686it [2:55:30,  1.68s/it]"
     ]
    },
    {
     "name": "stdout",
     "output_type": "stream",
     "text": [
      "\n",
      "  1,296,230.0 Bytes [100.00%] received. Rate: [13935 KB/s].  ETA: [0 secs]    \r"
     ]
    },
    {
     "name": "stderr",
     "output_type": "stream",
     "text": [
      "\r",
      "1687it [2:55:32,  1.50s/it]"
     ]
    },
    {
     "name": "stdout",
     "output_type": "stream",
     "text": [
      "\n",
      "  5,291,052.0 Bytes [100.00%] received. Rate: [20609 KB/s].  ETA: [0 secs]    \r"
     ]
    },
    {
     "name": "stderr",
     "output_type": "stream",
     "text": [
      "\r",
      "1688it [2:55:33,  1.43s/it]"
     ]
    },
    {
     "name": "stdout",
     "output_type": "stream",
     "text": [
      "\n",
      "  2,613,997.0 Bytes [100.00%] received. Rate: [13982 KB/s].  ETA: [0 secs]    \r"
     ]
    },
    {
     "name": "stderr",
     "output_type": "stream",
     "text": [
      "\r",
      "1689it [2:55:34,  1.41s/it]"
     ]
    },
    {
     "name": "stdout",
     "output_type": "stream",
     "text": [
      "\n",
      "  6,268,318.0 Bytes [100.00%] received. Rate: [25039 KB/s].  ETA: [0 secs]    \r"
     ]
    },
    {
     "name": "stderr",
     "output_type": "stream",
     "text": [
      "\r",
      "1690it [2:55:36,  1.51s/it]"
     ]
    },
    {
     "name": "stdout",
     "output_type": "stream",
     "text": [
      "\n",
      "  1,164,331.0 Bytes [100.00%] received. Rate: [13704 KB/s].  ETA: [0 secs]    \r"
     ]
    },
    {
     "name": "stderr",
     "output_type": "stream",
     "text": [
      "\r",
      "1691it [2:55:37,  1.43s/it]"
     ]
    },
    {
     "name": "stdout",
     "output_type": "stream",
     "text": [
      "\n",
      "  3,521,772.0 Bytes [100.00%] received. Rate: [22390 KB/s].  ETA: [0 secs]    \r"
     ]
    },
    {
     "name": "stderr",
     "output_type": "stream",
     "text": [
      "\r",
      "1692it [2:55:39,  1.43s/it]"
     ]
    },
    {
     "name": "stdout",
     "output_type": "stream",
     "text": [
      "\n",
      "  365,989.0 Bytes [100.00%] received. Rate: [3789 KB/s].  ETA: [0 secs]    \r"
     ]
    },
    {
     "name": "stderr",
     "output_type": "stream",
     "text": [
      "\r",
      "1693it [2:55:40,  1.50s/it]"
     ]
    },
    {
     "name": "stdout",
     "output_type": "stream",
     "text": [
      "\n",
      "  5,627,812.0 Bytes [100.00%] received. Rate: [20033 KB/s].  ETA: [0 secs]    \r"
     ]
    },
    {
     "name": "stderr",
     "output_type": "stream",
     "text": [
      "\r",
      "1694it [2:55:42,  1.54s/it]"
     ]
    },
    {
     "name": "stdout",
     "output_type": "stream",
     "text": [
      "\n",
      "  645,840.0 Bytes [100.00%] received. Rate: [8627 KB/s].  ETA: [0 secs]    \r"
     ]
    },
    {
     "name": "stderr",
     "output_type": "stream",
     "text": [
      "\r",
      "1695it [2:55:44,  1.57s/it]"
     ]
    },
    {
     "name": "stdout",
     "output_type": "stream",
     "text": [
      "\n",
      "  3,202,460.0 Bytes [100.00%] received. Rate: [21159 KB/s].  ETA: [0 secs]    \r"
     ]
    },
    {
     "name": "stderr",
     "output_type": "stream",
     "text": [
      "\r",
      "1696it [2:55:45,  1.56s/it]"
     ]
    },
    {
     "name": "stdout",
     "output_type": "stream",
     "text": [
      "\n"
     ]
    },
    {
     "name": "stderr",
     "output_type": "stream",
     "text": [
      "ERROR: Private video\n",
      "Sign in if you've been granted access to this video\n",
      "1697it [2:55:45,  1.21s/it]"
     ]
    },
    {
     "name": "stdout",
     "output_type": "stream",
     "text": [
      "  468,999.0 Bytes [100.00%] received. Rate: [3200 KB/s].  ETA: [0 secs]    \r"
     ]
    },
    {
     "name": "stderr",
     "output_type": "stream",
     "text": [
      "\r",
      "1698it [2:55:47,  1.27s/it]"
     ]
    },
    {
     "name": "stdout",
     "output_type": "stream",
     "text": [
      "\n",
      "  7,919,537.0 Bytes [100.00%] received. Rate: [27628 KB/s].  ETA: [0 secs]    \r"
     ]
    },
    {
     "name": "stderr",
     "output_type": "stream",
     "text": [
      "\r",
      "1699it [2:55:48,  1.35s/it]"
     ]
    },
    {
     "name": "stdout",
     "output_type": "stream",
     "text": [
      "\n",
      "  229,120.0 Bytes [100.00%] received. Rate: [1218 KB/s].  ETA: [0 secs]    \r"
     ]
    },
    {
     "name": "stderr",
     "output_type": "stream",
     "text": [
      "\r",
      "1700it [2:55:50,  1.35s/it]"
     ]
    },
    {
     "name": "stdout",
     "output_type": "stream",
     "text": [
      "\n"
     ]
    },
    {
     "name": "stderr",
     "output_type": "stream",
     "text": [
      "\r",
      "1701it [2:55:51,  1.25s/it]"
     ]
    },
    {
     "name": "stdout",
     "output_type": "stream",
     "text": [
      "  12,695,878.0 Bytes [100.00%] received. Rate: [44792 KB/s].  ETA: [0 secs]    \r"
     ]
    },
    {
     "name": "stderr",
     "output_type": "stream",
     "text": [
      "\r",
      "1702it [2:55:53,  1.51s/it]"
     ]
    },
    {
     "name": "stdout",
     "output_type": "stream",
     "text": [
      "\n",
      "  19,953,713.0 Bytes [100.00%] received. Rate: [32619 KB/s].  ETA: [0 secs]    \r"
     ]
    },
    {
     "name": "stderr",
     "output_type": "stream",
     "text": [
      "\r",
      "1703it [2:55:55,  1.73s/it]"
     ]
    },
    {
     "name": "stdout",
     "output_type": "stream",
     "text": [
      "\n",
      "  3,560,148.0 Bytes [100.00%] received. Rate: [4242 KB/s].  ETA: [0 secs]    \r"
     ]
    },
    {
     "name": "stderr",
     "output_type": "stream",
     "text": [
      "\r",
      "1704it [2:55:57,  1.83s/it]"
     ]
    },
    {
     "name": "stdout",
     "output_type": "stream",
     "text": [
      "\n",
      "  268,081.0 Bytes [100.00%] received. Rate: [1482 KB/s].  ETA: [0 secs]    \r"
     ]
    },
    {
     "name": "stderr",
     "output_type": "stream",
     "text": [
      "\r",
      "1705it [2:55:59,  1.82s/it]"
     ]
    },
    {
     "name": "stdout",
     "output_type": "stream",
     "text": [
      "\n",
      "  38,725,198.0 Bytes [100.00%] received. Rate: [25753 KB/s].  ETA: [0 secs]    \r"
     ]
    },
    {
     "name": "stderr",
     "output_type": "stream",
     "text": [
      "\r",
      "1706it [2:56:02,  2.28s/it]"
     ]
    },
    {
     "name": "stdout",
     "output_type": "stream",
     "text": [
      "\n",
      "  1,639,898.0 Bytes [100.00%] received. Rate: [15632 KB/s].  ETA: [0 secs]    \r"
     ]
    },
    {
     "name": "stderr",
     "output_type": "stream",
     "text": [
      "\r",
      "1707it [2:56:04,  2.05s/it]"
     ]
    },
    {
     "name": "stdout",
     "output_type": "stream",
     "text": [
      "\n",
      "  16,510,936.0 Bytes [100.00%] received. Rate: [36874 KB/s].  ETA: [0 secs]    \r"
     ]
    },
    {
     "name": "stderr",
     "output_type": "stream",
     "text": [
      "\r",
      "1708it [2:56:05,  1.93s/it]"
     ]
    },
    {
     "name": "stdout",
     "output_type": "stream",
     "text": [
      "\n",
      "  136,904.0 Bytes [100.00%] received. Rate: [1160 KB/s].  ETA: [0 secs]    \r"
     ]
    },
    {
     "name": "stderr",
     "output_type": "stream",
     "text": [
      "\r",
      "1709it [2:56:07,  1.69s/it]"
     ]
    },
    {
     "name": "stdout",
     "output_type": "stream",
     "text": [
      "\n",
      "  14,842,469.0 Bytes [100.00%] received. Rate: [23110 KB/s].  ETA: [0 secs]    \r"
     ]
    },
    {
     "name": "stderr",
     "output_type": "stream",
     "text": [
      "\r",
      "1710it [2:56:09,  1.81s/it]"
     ]
    },
    {
     "name": "stdout",
     "output_type": "stream",
     "text": [
      "\n",
      "  3,138,225.0 Bytes [100.00%] received. Rate: [  52 KB/s].  ETA: [0 secs]    \r"
     ]
    },
    {
     "name": "stderr",
     "output_type": "stream",
     "text": [
      "\r",
      "1711it [2:57:10, 19.66s/it]"
     ]
    },
    {
     "name": "stdout",
     "output_type": "stream",
     "text": [
      "\n",
      "  5,697,886.0 Bytes [100.00%] received. Rate: [31654 KB/s].  ETA: [0 secs]    \r"
     ]
    },
    {
     "name": "stderr",
     "output_type": "stream",
     "text": [
      "\r",
      "1712it [2:57:12, 14.28s/it]"
     ]
    },
    {
     "name": "stdout",
     "output_type": "stream",
     "text": [
      "\n",
      "  12,735,772.0 Bytes [100.00%] received. Rate: [12676 KB/s].  ETA: [0 secs]    \r"
     ]
    },
    {
     "name": "stderr",
     "output_type": "stream",
     "text": [
      "\r",
      "1713it [2:57:15, 10.94s/it]"
     ]
    },
    {
     "name": "stdout",
     "output_type": "stream",
     "text": [
      "\n",
      "  8,312,615.0 Bytes [100.00%] received. Rate: [24337 KB/s].  ETA: [0 secs]    \r"
     ]
    },
    {
     "name": "stderr",
     "output_type": "stream",
     "text": [
      "\r",
      "1714it [2:57:17,  8.19s/it]"
     ]
    },
    {
     "name": "stdout",
     "output_type": "stream",
     "text": [
      "\n",
      "  357,749.0 Bytes [100.00%] received. Rate: [2640 KB/s].  ETA: [0 secs]    \r"
     ]
    },
    {
     "name": "stderr",
     "output_type": "stream",
     "text": [
      "\r",
      "1715it [2:57:18,  6.13s/it]"
     ]
    },
    {
     "name": "stdout",
     "output_type": "stream",
     "text": [
      "\n",
      "  6,746,106.0 Bytes [100.00%] received. Rate: [16052 KB/s].  ETA: [0 secs]    \r"
     ]
    },
    {
     "name": "stderr",
     "output_type": "stream",
     "text": [
      "\r",
      "1716it [2:57:20,  4.85s/it]"
     ]
    },
    {
     "name": "stdout",
     "output_type": "stream",
     "text": [
      "\n",
      "  2,553,476.0 Bytes [100.00%] received. Rate: [12779 KB/s].  ETA: [0 secs]    \r"
     ]
    },
    {
     "name": "stderr",
     "output_type": "stream",
     "text": [
      "\r",
      "1717it [2:57:21,  3.84s/it]"
     ]
    },
    {
     "name": "stdout",
     "output_type": "stream",
     "text": [
      "\n",
      "  532,414.0 Bytes [100.00%] received. Rate: [3594 KB/s].  ETA: [0 secs]    \r"
     ]
    },
    {
     "name": "stderr",
     "output_type": "stream",
     "text": [
      "\r",
      "1718it [2:57:23,  3.12s/it]"
     ]
    },
    {
     "name": "stdout",
     "output_type": "stream",
     "text": [
      "\n"
     ]
    },
    {
     "name": "stderr",
     "output_type": "stream",
     "text": [
      "\r",
      "1719it [2:57:24,  2.50s/it]"
     ]
    },
    {
     "name": "stdout",
     "output_type": "stream",
     "text": [
      "  4,731,834.0 Bytes [100.00%] received. Rate: [22977 KB/s].  ETA: [0 secs]    \r"
     ]
    },
    {
     "name": "stderr",
     "output_type": "stream",
     "text": [
      "\r",
      "1720it [2:57:25,  2.11s/it]"
     ]
    },
    {
     "name": "stdout",
     "output_type": "stream",
     "text": [
      "\n",
      "  7,214,013.0 Bytes [100.00%] received. Rate: [53432 KB/s].  ETA: [0 secs]    \r"
     ]
    },
    {
     "name": "stderr",
     "output_type": "stream",
     "text": [
      "\r",
      "1721it [2:57:26,  1.84s/it]"
     ]
    },
    {
     "name": "stdout",
     "output_type": "stream",
     "text": [
      "\n",
      "  4,962,616.0 Bytes [100.00%] received. Rate: [21736 KB/s].  ETA: [0 secs]    \r"
     ]
    },
    {
     "name": "stderr",
     "output_type": "stream",
     "text": [
      "\r",
      "1722it [2:57:28,  1.76s/it]"
     ]
    },
    {
     "name": "stdout",
     "output_type": "stream",
     "text": [
      "\n",
      "  4,711,697.0 Bytes [100.00%] received. Rate: [22469 KB/s].  ETA: [0 secs]    \r"
     ]
    },
    {
     "name": "stderr",
     "output_type": "stream",
     "text": [
      "\r",
      "1723it [2:57:29,  1.68s/it]"
     ]
    },
    {
     "name": "stdout",
     "output_type": "stream",
     "text": [
      "\n",
      "  2,759,901.0 Bytes [100.00%] received. Rate: [6211 KB/s].  ETA: [0 secs]    \r"
     ]
    },
    {
     "name": "stderr",
     "output_type": "stream",
     "text": [
      "\r",
      "1724it [2:57:31,  1.74s/it]"
     ]
    },
    {
     "name": "stdout",
     "output_type": "stream",
     "text": [
      "\n",
      "  3,738,633.0 Bytes [100.00%] received. Rate: [25710 KB/s].  ETA: [0 secs]    \r"
     ]
    },
    {
     "name": "stderr",
     "output_type": "stream",
     "text": [
      "\r",
      "1725it [2:57:33,  1.80s/it]"
     ]
    },
    {
     "name": "stdout",
     "output_type": "stream",
     "text": [
      "\n"
     ]
    },
    {
     "name": "stderr",
     "output_type": "stream",
     "text": [
      "ERROR: Video unavailable\n",
      "1726it [2:57:34,  1.42s/it]"
     ]
    },
    {
     "name": "stdout",
     "output_type": "stream",
     "text": [
      "  4,975,909.0 Bytes [100.00%] received. Rate: [5178 KB/s].  ETA: [0 secs]    \r"
     ]
    },
    {
     "name": "stderr",
     "output_type": "stream",
     "text": [
      "\r",
      "1727it [2:57:36,  1.77s/it]"
     ]
    },
    {
     "name": "stdout",
     "output_type": "stream",
     "text": [
      "\n",
      "  494,027.0 Bytes [100.00%] received. Rate: [5851 KB/s].  ETA: [0 secs]    \r"
     ]
    },
    {
     "name": "stderr",
     "output_type": "stream",
     "text": [
      "\r",
      "1728it [2:57:38,  1.62s/it]"
     ]
    },
    {
     "name": "stdout",
     "output_type": "stream",
     "text": [
      "\n",
      "  2,768,659.0 Bytes [100.00%] received. Rate: [19980 KB/s].  ETA: [0 secs]    \r"
     ]
    },
    {
     "name": "stderr",
     "output_type": "stream",
     "text": [
      "\r",
      "1729it [2:57:39,  1.62s/it]"
     ]
    },
    {
     "name": "stdout",
     "output_type": "stream",
     "text": [
      "\n",
      "  4,396,141.0 Bytes [100.00%] received. Rate: [39009 KB/s].  ETA: [0 secs]    \r"
     ]
    },
    {
     "name": "stderr",
     "output_type": "stream",
     "text": [
      "\r",
      "1730it [2:57:41,  1.54s/it]"
     ]
    },
    {
     "name": "stdout",
     "output_type": "stream",
     "text": [
      "\n",
      "  410,384.0 Bytes [100.00%] received. Rate: [5390 KB/s].  ETA: [0 secs]    \r"
     ]
    },
    {
     "name": "stderr",
     "output_type": "stream",
     "text": [
      "\r",
      "1731it [2:57:42,  1.54s/it]"
     ]
    },
    {
     "name": "stdout",
     "output_type": "stream",
     "text": [
      "\n",
      "  804,299.0 Bytes [100.00%] received. Rate: [1721 KB/s].  ETA: [0 secs]    \r"
     ]
    },
    {
     "name": "stderr",
     "output_type": "stream",
     "text": [
      "\r",
      "1732it [2:57:44,  1.64s/it]"
     ]
    },
    {
     "name": "stdout",
     "output_type": "stream",
     "text": [
      "\n",
      "  877,764.0 Bytes [100.00%] received. Rate: [6605 KB/s].  ETA: [0 secs]    \r"
     ]
    },
    {
     "name": "stderr",
     "output_type": "stream",
     "text": [
      "\r",
      "1733it [2:57:45,  1.46s/it]"
     ]
    },
    {
     "name": "stdout",
     "output_type": "stream",
     "text": [
      "\n"
     ]
    },
    {
     "name": "stderr",
     "output_type": "stream",
     "text": [
      "ERROR: Video unavailable\n",
      "1734it [2:57:45,  1.13s/it]ERROR: Video unavailable\n",
      "This video is no longer available because the YouTube account associated with this video has been terminated.\n",
      "1735it [2:57:46,  1.13it/s]ERROR: Video unavailable\n",
      "1736it [2:57:46,  1.38it/s]ERROR: Video unavailable\n",
      "This video contains content from MsChanell9. It is not available in your country.\n",
      "1737it [2:57:46,  1.63it/s]"
     ]
    },
    {
     "name": "stdout",
     "output_type": "stream",
     "text": [
      "  5,512,101.0 Bytes [100.00%] received. Rate: [5240 KB/s].  ETA: [0 secs]    \r"
     ]
    },
    {
     "name": "stderr",
     "output_type": "stream",
     "text": [
      "\r",
      "1738it [2:57:49,  1.23s/it]"
     ]
    },
    {
     "name": "stdout",
     "output_type": "stream",
     "text": [
      "\n",
      "  6,623,197.0 Bytes [100.00%] received. Rate: [24656 KB/s].  ETA: [0 secs]    \r"
     ]
    },
    {
     "name": "stderr",
     "output_type": "stream",
     "text": [
      "\r",
      "1739it [2:57:51,  1.32s/it]"
     ]
    },
    {
     "name": "stdout",
     "output_type": "stream",
     "text": [
      "\n",
      "  761,439.0 Bytes [100.00%] received. Rate: [9886 KB/s].  ETA: [0 secs]    \r"
     ]
    },
    {
     "name": "stderr",
     "output_type": "stream",
     "text": [
      "\r",
      "1740it [2:57:52,  1.46s/it]"
     ]
    },
    {
     "name": "stdout",
     "output_type": "stream",
     "text": [
      "\n",
      "  2,891,206.0 Bytes [100.00%] received. Rate: [20139 KB/s].  ETA: [0 secs]    \r"
     ]
    },
    {
     "name": "stderr",
     "output_type": "stream",
     "text": [
      "\r",
      "1741it [2:57:54,  1.44s/it]"
     ]
    },
    {
     "name": "stdout",
     "output_type": "stream",
     "text": [
      "\n",
      "  149,718.0 Bytes [100.00%] received. Rate: [1450 KB/s].  ETA: [0 secs]    \r"
     ]
    },
    {
     "name": "stderr",
     "output_type": "stream",
     "text": [
      "\r",
      "1742it [2:57:55,  1.34s/it]"
     ]
    },
    {
     "name": "stdout",
     "output_type": "stream",
     "text": [
      "\n",
      "  3,728,673.0 Bytes [100.00%] received. Rate: [25622 KB/s].  ETA: [0 secs]    \r"
     ]
    },
    {
     "name": "stderr",
     "output_type": "stream",
     "text": [
      "\r",
      "1743it [2:57:56,  1.35s/it]"
     ]
    },
    {
     "name": "stdout",
     "output_type": "stream",
     "text": [
      "\n",
      "  100,236.0 Bytes [100.00%] received. Rate: [ 999 KB/s].  ETA: [0 secs]    \r"
     ]
    },
    {
     "name": "stderr",
     "output_type": "stream",
     "text": [
      "\r",
      "1744it [2:57:58,  1.45s/it]"
     ]
    },
    {
     "name": "stdout",
     "output_type": "stream",
     "text": [
      "\n",
      "  1,250,414.0 Bytes [100.00%] received. Rate: [  78 KB/s].  ETA: [0 secs]    \r"
     ]
    },
    {
     "name": "stderr",
     "output_type": "stream",
     "text": [
      "\r",
      "1745it [2:58:15,  6.14s/it]"
     ]
    },
    {
     "name": "stdout",
     "output_type": "stream",
     "text": [
      "\n",
      "  8,272,726.0 Bytes [100.00%] received. Rate: [  44 KB/s].  ETA: [0 secs]     \r"
     ]
    },
    {
     "name": "stderr",
     "output_type": "stream",
     "text": [
      "\r",
      "1746it [3:01:19, 59.57s/it]"
     ]
    },
    {
     "name": "stdout",
     "output_type": "stream",
     "text": [
      "\n",
      "  3,027,332.0 Bytes [100.00%] received. Rate: [14837 KB/s].  ETA: [0 secs]    \r"
     ]
    },
    {
     "name": "stderr",
     "output_type": "stream",
     "text": [
      "\r",
      "1747it [3:01:21, 42.22s/it]"
     ]
    },
    {
     "name": "stdout",
     "output_type": "stream",
     "text": [
      "\n",
      "  9,097,295.0 Bytes [100.00%] received. Rate: [48125 KB/s].  ETA: [0 secs]    \r"
     ]
    },
    {
     "name": "stderr",
     "output_type": "stream",
     "text": [
      "\r",
      "1748it [3:01:22, 29.98s/it]"
     ]
    },
    {
     "name": "stdout",
     "output_type": "stream",
     "text": [
      "\n",
      "  320,472.0 Bytes [100.00%] received. Rate: [2930 KB/s].  ETA: [0 secs]    \r"
     ]
    },
    {
     "name": "stderr",
     "output_type": "stream",
     "text": [
      "\r",
      "1749it [3:01:24, 21.34s/it]"
     ]
    },
    {
     "name": "stdout",
     "output_type": "stream",
     "text": [
      "\n",
      "  2,497,058.0 Bytes [100.00%] received. Rate: [7506 KB/s].  ETA: [0 secs]    \r"
     ]
    },
    {
     "name": "stderr",
     "output_type": "stream",
     "text": [
      "\r",
      "1750it [3:01:25, 15.40s/it]"
     ]
    },
    {
     "name": "stdout",
     "output_type": "stream",
     "text": [
      "\n",
      "  14,680,637.0 Bytes [100.00%] received. Rate: [16445 KB/s].  ETA: [0 secs]    \r"
     ]
    },
    {
     "name": "stderr",
     "output_type": "stream",
     "text": [
      "\r",
      "1751it [3:01:27, 11.41s/it]"
     ]
    },
    {
     "name": "stdout",
     "output_type": "stream",
     "text": [
      "\n"
     ]
    },
    {
     "name": "stderr",
     "output_type": "stream",
     "text": [
      "\r",
      "1752it [3:01:28,  8.29s/it]"
     ]
    },
    {
     "name": "stdout",
     "output_type": "stream",
     "text": [
      "  195,918.0 Bytes [100.00%] received. Rate: [2356 KB/s].  ETA: [0 secs]    \r"
     ]
    },
    {
     "name": "stderr",
     "output_type": "stream",
     "text": [
      "\r",
      "1753it [3:01:30,  6.24s/it]"
     ]
    },
    {
     "name": "stdout",
     "output_type": "stream",
     "text": [
      "\n",
      "  11,475,277.0 Bytes [100.00%] received. Rate: [56023 KB/s].  ETA: [0 secs]    \r"
     ]
    },
    {
     "name": "stderr",
     "output_type": "stream",
     "text": [
      "\r",
      "1754it [3:01:32,  4.95s/it]"
     ]
    },
    {
     "name": "stdout",
     "output_type": "stream",
     "text": [
      "\n",
      "  204,869.0 Bytes [100.00%] received. Rate: [1912 KB/s].  ETA: [0 secs]    \r"
     ]
    },
    {
     "name": "stderr",
     "output_type": "stream",
     "text": [
      "\r",
      "1755it [3:01:33,  3.84s/it]"
     ]
    },
    {
     "name": "stdout",
     "output_type": "stream",
     "text": [
      "\n",
      "  3,434,735.0 Bytes [100.00%] received. Rate: [22761 KB/s].  ETA: [0 secs]    \r"
     ]
    },
    {
     "name": "stderr",
     "output_type": "stream",
     "text": [
      "\r",
      "1756it [3:01:35,  3.24s/it]"
     ]
    },
    {
     "name": "stdout",
     "output_type": "stream",
     "text": [
      "\n",
      "  3,275,771.0 Bytes [100.00%] received. Rate: [15206 KB/s].  ETA: [0 secs]    \r"
     ]
    },
    {
     "name": "stderr",
     "output_type": "stream",
     "text": [
      "\r",
      "1757it [3:01:36,  2.69s/it]"
     ]
    },
    {
     "name": "stdout",
     "output_type": "stream",
     "text": [
      "\n",
      "  1,167,609.0 Bytes [100.00%] received. Rate: [7120 KB/s].  ETA: [0 secs]    \r"
     ]
    },
    {
     "name": "stderr",
     "output_type": "stream",
     "text": [
      "\r",
      "1758it [3:01:37,  2.29s/it]"
     ]
    },
    {
     "name": "stdout",
     "output_type": "stream",
     "text": [
      "\n",
      "  10,713,739.0 Bytes [100.00%] received. Rate: [37748 KB/s].  ETA: [0 secs]    \r"
     ]
    },
    {
     "name": "stderr",
     "output_type": "stream",
     "text": [
      "\r",
      "1759it [3:01:39,  2.16s/it]"
     ]
    },
    {
     "name": "stdout",
     "output_type": "stream",
     "text": [
      "\n",
      "  6,077,608.0 Bytes [100.00%] received. Rate: [16077 KB/s].  ETA: [0 secs]    \r"
     ]
    },
    {
     "name": "stderr",
     "output_type": "stream",
     "text": [
      "\r",
      "1760it [3:01:41,  2.03s/it]"
     ]
    },
    {
     "name": "stdout",
     "output_type": "stream",
     "text": [
      "\n",
      "  3,918,406.0 Bytes [100.00%] received. Rate: [  53 KB/s].  ETA: [0 secs]    \r"
     ]
    },
    {
     "name": "stderr",
     "output_type": "stream",
     "text": [
      "\r",
      "1761it [3:02:55, 23.60s/it]"
     ]
    },
    {
     "name": "stdout",
     "output_type": "stream",
     "text": [
      "\n",
      "  3,089,212.0 Bytes [100.00%] received. Rate: [21315 KB/s].  ETA: [0 secs]    \r"
     ]
    },
    {
     "name": "stderr",
     "output_type": "stream",
     "text": [
      "\r",
      "1762it [3:02:57, 17.04s/it]"
     ]
    },
    {
     "name": "stdout",
     "output_type": "stream",
     "text": [
      "\n"
     ]
    },
    {
     "name": "stderr",
     "output_type": "stream",
     "text": [
      "ERROR: No video formats found; please report this issue on https://yt-dl.org/bug . Make sure you are using the latest version; see  https://yt-dl.org/update  on how to update. Be sure to call youtube-dl with the --verbose flag and include its complete output.\n",
      "1763it [3:02:57, 12.08s/it]"
     ]
    },
    {
     "name": "stdout",
     "output_type": "stream",
     "text": [
      "  5,379,464.0 Bytes [100.00%] received. Rate: [18717 KB/s].  ETA: [0 secs]    \r"
     ]
    },
    {
     "name": "stderr",
     "output_type": "stream",
     "text": [
      "\r",
      "1764it [3:02:59,  8.99s/it]"
     ]
    },
    {
     "name": "stdout",
     "output_type": "stream",
     "text": [
      "\n",
      "  274,868.0 Bytes [100.00%] received. Rate: [2711 KB/s].  ETA: [0 secs]    \r"
     ]
    },
    {
     "name": "stderr",
     "output_type": "stream",
     "text": [
      "\r",
      "1765it [3:03:00,  6.63s/it]"
     ]
    },
    {
     "name": "stdout",
     "output_type": "stream",
     "text": [
      "\n",
      "  719,027.0 Bytes [100.00%] received. Rate: [1775 KB/s].  ETA: [0 secs]    \r"
     ]
    },
    {
     "name": "stderr",
     "output_type": "stream",
     "text": [
      "\r",
      "1766it [3:03:02,  5.08s/it]"
     ]
    },
    {
     "name": "stdout",
     "output_type": "stream",
     "text": [
      "\n",
      "  9,865,895.0 Bytes [100.00%] received. Rate: [33613 KB/s].  ETA: [0 secs]    \r"
     ]
    },
    {
     "name": "stderr",
     "output_type": "stream",
     "text": [
      "\r",
      "1767it [3:03:03,  4.01s/it]"
     ]
    },
    {
     "name": "stdout",
     "output_type": "stream",
     "text": [
      "\n",
      "  4,516,759.0 Bytes [100.00%] received. Rate: [5141 KB/s].  ETA: [0 secs]    \r"
     ]
    },
    {
     "name": "stderr",
     "output_type": "stream",
     "text": [
      "\r",
      "1768it [3:03:06,  3.62s/it]"
     ]
    },
    {
     "name": "stdout",
     "output_type": "stream",
     "text": [
      "\n",
      "  441,230.0 Bytes [100.00%] received. Rate: [  65 KB/s].  ETA: [0 secs]    \r"
     ]
    },
    {
     "name": "stderr",
     "output_type": "stream",
     "text": [
      "\r",
      "1769it [3:03:14,  4.89s/it]"
     ]
    },
    {
     "name": "stdout",
     "output_type": "stream",
     "text": [
      "\n",
      "  771,198.0 Bytes [100.00%] received. Rate: [5214 KB/s].  ETA: [0 secs]    \r"
     ]
    },
    {
     "name": "stderr",
     "output_type": "stream",
     "text": [
      "\r",
      "1770it [3:03:15,  3.78s/it]"
     ]
    },
    {
     "name": "stdout",
     "output_type": "stream",
     "text": [
      "\n",
      "  9,671,988.0 Bytes [100.00%] received. Rate: [21162 KB/s].  ETA: [0 secs]    \r"
     ]
    },
    {
     "name": "stderr",
     "output_type": "stream",
     "text": [
      "\r",
      "1771it [3:03:17,  3.28s/it]"
     ]
    },
    {
     "name": "stdout",
     "output_type": "stream",
     "text": [
      "\n"
     ]
    },
    {
     "name": "stderr",
     "output_type": "stream",
     "text": [
      "1773it [3:03:19,  2.21s/it]"
     ]
    },
    {
     "name": "stdout",
     "output_type": "stream",
     "text": [
      "  1,574,270.0 Bytes [100.00%] received. Rate: [  78 KB/s].  ETA: [0 secs]    \r"
     ]
    },
    {
     "name": "stderr",
     "output_type": "stream",
     "text": [
      "\r",
      "1774it [3:03:40,  7.76s/it]"
     ]
    },
    {
     "name": "stdout",
     "output_type": "stream",
     "text": [
      "\n",
      "  1,499,580.0 Bytes [100.00%] received. Rate: [6900 KB/s].  ETA: [0 secs]    \r"
     ]
    },
    {
     "name": "stderr",
     "output_type": "stream",
     "text": [
      "\r",
      "1775it [3:03:41,  5.79s/it]"
     ]
    },
    {
     "name": "stdout",
     "output_type": "stream",
     "text": [
      "\n",
      "  400,381.0 Bytes [100.00%] received. Rate: [2857 KB/s].  ETA: [0 secs]    \r"
     ]
    },
    {
     "name": "stderr",
     "output_type": "stream",
     "text": [
      "\r",
      "1776it [3:03:43,  4.49s/it]"
     ]
    },
    {
     "name": "stdout",
     "output_type": "stream",
     "text": [
      "\n",
      "  5,093,611.0 Bytes [100.00%] received. Rate: [15349 KB/s].  ETA: [0 secs]    \r"
     ]
    },
    {
     "name": "stderr",
     "output_type": "stream",
     "text": [
      "\r",
      "1777it [3:03:44,  3.57s/it]"
     ]
    },
    {
     "name": "stdout",
     "output_type": "stream",
     "text": [
      "\n",
      "  3,880,504.0 Bytes [100.00%] received. Rate: [4336 KB/s].  ETA: [0 secs]    \r"
     ]
    },
    {
     "name": "stderr",
     "output_type": "stream",
     "text": [
      "\r",
      "1778it [3:03:46,  3.12s/it]"
     ]
    },
    {
     "name": "stdout",
     "output_type": "stream",
     "text": [
      "\n",
      "  276,323.0 Bytes [100.00%] received. Rate: [4178 KB/s].  ETA: [0 secs]    \r"
     ]
    },
    {
     "name": "stderr",
     "output_type": "stream",
     "text": [
      "\r",
      "1779it [3:03:47,  2.57s/it]"
     ]
    },
    {
     "name": "stdout",
     "output_type": "stream",
     "text": [
      "\n",
      "  5,114,066.0 Bytes [100.00%] received. Rate: [19218 KB/s].  ETA: [0 secs]    \r"
     ]
    },
    {
     "name": "stderr",
     "output_type": "stream",
     "text": [
      "\r",
      "1780it [3:03:49,  2.28s/it]"
     ]
    },
    {
     "name": "stdout",
     "output_type": "stream",
     "text": [
      "\n",
      "  3,035,777.0 Bytes [100.00%] received. Rate: [20285 KB/s].  ETA: [0 secs]    \r"
     ]
    },
    {
     "name": "stderr",
     "output_type": "stream",
     "text": [
      "\r",
      "1781it [3:03:51,  2.11s/it]"
     ]
    },
    {
     "name": "stdout",
     "output_type": "stream",
     "text": [
      "\n"
     ]
    },
    {
     "name": "stderr",
     "output_type": "stream",
     "text": [
      "ERROR: Video unavailable\n",
      "1782it [3:03:51,  1.64s/it]"
     ]
    },
    {
     "name": "stdout",
     "output_type": "stream",
     "text": [
      "  10,489,775.0 Bytes [100.00%] received. Rate: [2652 KB/s].  ETA: [0 secs]    \r"
     ]
    },
    {
     "name": "stderr",
     "output_type": "stream",
     "text": [
      "\r",
      "1783it [3:03:54,  2.01s/it]"
     ]
    },
    {
     "name": "stdout",
     "output_type": "stream",
     "text": [
      "\n"
     ]
    },
    {
     "name": "stderr",
     "output_type": "stream",
     "text": [
      "\r",
      "1784it [3:03:55,  1.69s/it]"
     ]
    },
    {
     "name": "stdout",
     "output_type": "stream",
     "text": [
      "  8,653,386.0 Bytes [100.00%] received. Rate: [  71 KB/s].  ETA: [0 secs]     \r"
     ]
    },
    {
     "name": "stderr",
     "output_type": "stream",
     "text": [
      "\r",
      "1785it [3:05:55, 37.24s/it]"
     ]
    },
    {
     "name": "stdout",
     "output_type": "stream",
     "text": [
      "\n",
      "  756,971.0 Bytes [100.00%] received. Rate: [7489 KB/s].  ETA: [0 secs]    \r"
     ]
    },
    {
     "name": "stderr",
     "output_type": "stream",
     "text": [
      "\r",
      "1786it [3:05:57, 26.57s/it]"
     ]
    },
    {
     "name": "stdout",
     "output_type": "stream",
     "text": [
      "\n",
      "  757,390.0 Bytes [100.00%] received. Rate: [4833 KB/s].  ETA: [0 secs]    \r"
     ]
    },
    {
     "name": "stderr",
     "output_type": "stream",
     "text": [
      "\r",
      "1787it [3:05:58, 19.00s/it]"
     ]
    },
    {
     "name": "stdout",
     "output_type": "stream",
     "text": [
      "\n",
      "  7,078,654.0 Bytes [100.00%] received. Rate: [  46 KB/s].  ETA: [0 secs]     \r"
     ]
    },
    {
     "name": "stderr",
     "output_type": "stream",
     "text": [
      "\r",
      "1788it [3:08:29, 58.45s/it]"
     ]
    },
    {
     "name": "stdout",
     "output_type": "stream",
     "text": [
      "\n"
     ]
    },
    {
     "name": "stderr",
     "output_type": "stream",
     "text": [
      "ERROR: Video unavailable\n",
      "This video is no longer available because the YouTube account associated with this video has been terminated.\n",
      "1789it [3:08:29, 41.04s/it]ERROR: Video unavailable\n",
      "1790it [3:08:30, 28.89s/it]"
     ]
    },
    {
     "name": "stdout",
     "output_type": "stream",
     "text": [
      "  6,593,715.0 Bytes [100.00%] received. Rate: [15317 KB/s].  ETA: [0 secs]    \r"
     ]
    },
    {
     "name": "stderr",
     "output_type": "stream",
     "text": [
      "\r",
      "1791it [3:08:31, 20.66s/it]"
     ]
    },
    {
     "name": "stdout",
     "output_type": "stream",
     "text": [
      "\n",
      "  269,984.0 Bytes [100.00%] received. Rate: [  54 KB/s].  ETA: [0 secs]    \r"
     ]
    },
    {
     "name": "stderr",
     "output_type": "stream",
     "text": [
      "\r",
      "1792it [3:08:38, 16.36s/it]"
     ]
    },
    {
     "name": "stdout",
     "output_type": "stream",
     "text": [
      "\n",
      "  350,620.0 Bytes [100.00%] received. Rate: [4354 KB/s].  ETA: [0 secs]    \r"
     ]
    },
    {
     "name": "stderr",
     "output_type": "stream",
     "text": [
      "\r",
      "1793it [3:08:39, 11.97s/it]"
     ]
    },
    {
     "name": "stdout",
     "output_type": "stream",
     "text": [
      "\n",
      "  1,005,111.0 Bytes [100.00%] received. Rate: [5977 KB/s].  ETA: [0 secs]    \r"
     ]
    },
    {
     "name": "stderr",
     "output_type": "stream",
     "text": [
      "\r",
      "1794it [3:08:41,  8.96s/it]"
     ]
    },
    {
     "name": "stdout",
     "output_type": "stream",
     "text": [
      "\n",
      "  1,357,619.0 Bytes [100.00%] received. Rate: [7543 KB/s].  ETA: [0 secs]    \r"
     ]
    },
    {
     "name": "stderr",
     "output_type": "stream",
     "text": [
      "\r",
      "1795it [3:08:43,  6.70s/it]"
     ]
    },
    {
     "name": "stdout",
     "output_type": "stream",
     "text": [
      "\n",
      "  2,030,526.0 Bytes [100.00%] received. Rate: [15556 KB/s].  ETA: [0 secs]    \n"
     ]
    },
    {
     "name": "stderr",
     "output_type": "stream",
     "text": [
      "\r",
      "1796it [3:08:44,  5.06s/it]"
     ]
    },
    {
     "name": "stdout",
     "output_type": "stream",
     "text": [
      "  6,805,357.0 Bytes [100.00%] received. Rate: [23033 KB/s].  ETA: [0 secs]    \r"
     ]
    },
    {
     "name": "stderr",
     "output_type": "stream",
     "text": [
      "\r",
      "1797it [3:08:46,  4.05s/it]"
     ]
    },
    {
     "name": "stdout",
     "output_type": "stream",
     "text": [
      "\n",
      "  9,325,925.0 Bytes [100.00%] received. Rate: [27372 KB/s].  ETA: [0 secs]    \r"
     ]
    },
    {
     "name": "stderr",
     "output_type": "stream",
     "text": [
      "\r",
      "1798it [3:08:47,  3.37s/it]"
     ]
    },
    {
     "name": "stdout",
     "output_type": "stream",
     "text": [
      "\n",
      "  2,037,463.0 Bytes [100.00%] received. Rate: [17870 KB/s].  ETA: [0 secs]    \r"
     ]
    },
    {
     "name": "stderr",
     "output_type": "stream",
     "text": [
      "\r",
      "1799it [3:08:49,  2.73s/it]"
     ]
    },
    {
     "name": "stdout",
     "output_type": "stream",
     "text": [
      "\n"
     ]
    },
    {
     "name": "stderr",
     "output_type": "stream",
     "text": [
      "ERROR: Video unavailable\n",
      "1800it [3:08:49,  2.10s/it]"
     ]
    },
    {
     "name": "stdout",
     "output_type": "stream",
     "text": [
      "  2,816,030.0 Bytes [100.00%] received. Rate: [14478 KB/s].  ETA: [0 secs]    \r"
     ]
    },
    {
     "name": "stderr",
     "output_type": "stream",
     "text": [
      "\r",
      "1801it [3:08:51,  1.94s/it]"
     ]
    },
    {
     "name": "stdout",
     "output_type": "stream",
     "text": [
      "\n",
      "  742,878.0 Bytes [100.00%] received. Rate: [5207 KB/s].  ETA: [0 secs]    \n"
     ]
    },
    {
     "name": "stderr",
     "output_type": "stream",
     "text": [
      "\r",
      "1802it [3:08:52,  1.76s/it]"
     ]
    },
    {
     "name": "stdout",
     "output_type": "stream",
     "text": [
      "  1,520,940.0 Bytes [100.00%] received. Rate: [8762 KB/s].  ETA: [0 secs]    \r"
     ]
    },
    {
     "name": "stderr",
     "output_type": "stream",
     "text": [
      "\r",
      "1803it [3:08:54,  1.69s/it]"
     ]
    },
    {
     "name": "stdout",
     "output_type": "stream",
     "text": [
      "\n",
      "  7,778,158.0 Bytes [100.00%] received. Rate: [22920 KB/s].  ETA: [0 secs]    \r"
     ]
    },
    {
     "name": "stderr",
     "output_type": "stream",
     "text": [
      "\r",
      "1804it [3:08:56,  1.80s/it]"
     ]
    },
    {
     "name": "stdout",
     "output_type": "stream",
     "text": [
      "\n",
      "  8,200,581.0 Bytes [100.00%] received. Rate: [22832 KB/s].  ETA: [0 secs]    \r"
     ]
    },
    {
     "name": "stderr",
     "output_type": "stream",
     "text": [
      "\r",
      "1805it [3:08:58,  1.95s/it]"
     ]
    },
    {
     "name": "stdout",
     "output_type": "stream",
     "text": [
      "\n",
      "  22,362,750.0 Bytes [100.00%] received. Rate: [13722 KB/s].  ETA: [0 secs]    \r"
     ]
    },
    {
     "name": "stderr",
     "output_type": "stream",
     "text": [
      "\r",
      "1806it [3:09:00,  2.04s/it]"
     ]
    },
    {
     "name": "stdout",
     "output_type": "stream",
     "text": [
      "\n",
      "  1,521,517.0 Bytes [100.00%] received. Rate: [14102 KB/s].  ETA: [0 secs]    \r"
     ]
    },
    {
     "name": "stderr",
     "output_type": "stream",
     "text": [
      "\r",
      "1807it [3:09:02,  2.01s/it]"
     ]
    },
    {
     "name": "stdout",
     "output_type": "stream",
     "text": [
      "\n",
      "  1,139,224.0 Bytes [100.00%] received. Rate: [3885 KB/s].  ETA: [0 secs]    \r"
     ]
    },
    {
     "name": "stderr",
     "output_type": "stream",
     "text": [
      "\r",
      "1808it [3:09:04,  1.82s/it]"
     ]
    },
    {
     "name": "stdout",
     "output_type": "stream",
     "text": [
      "\n",
      "  1,439,030.0 Bytes [100.00%] received. Rate: [10873 KB/s].  ETA: [0 secs]    \r"
     ]
    },
    {
     "name": "stderr",
     "output_type": "stream",
     "text": [
      "\r",
      "1809it [3:09:05,  1.75s/it]"
     ]
    },
    {
     "name": "stdout",
     "output_type": "stream",
     "text": [
      "\n",
      "  10,971,543.0 Bytes [100.00%] received. Rate: [18940 KB/s].  ETA: [0 secs]    \r"
     ]
    },
    {
     "name": "stderr",
     "output_type": "stream",
     "text": [
      "\r",
      "1810it [3:09:07,  1.73s/it]"
     ]
    },
    {
     "name": "stdout",
     "output_type": "stream",
     "text": [
      "\n",
      "  340,632.0 Bytes [100.00%] received. Rate: [2439 KB/s].  ETA: [0 secs]    \r"
     ]
    },
    {
     "name": "stderr",
     "output_type": "stream",
     "text": [
      "\r",
      "1811it [3:09:08,  1.57s/it]"
     ]
    },
    {
     "name": "stdout",
     "output_type": "stream",
     "text": [
      "\n",
      "  1,423,155.0 Bytes [100.00%] received. Rate: [8136 KB/s].  ETA: [0 secs]    \r"
     ]
    },
    {
     "name": "stderr",
     "output_type": "stream",
     "text": [
      "\r",
      "1812it [3:09:10,  1.59s/it]"
     ]
    },
    {
     "name": "stdout",
     "output_type": "stream",
     "text": [
      "\n",
      "  3,187,351.0 Bytes [100.00%] received. Rate: [16377 KB/s].  ETA: [0 secs]    \r"
     ]
    },
    {
     "name": "stderr",
     "output_type": "stream",
     "text": [
      "\r",
      "1813it [3:09:11,  1.65s/it]"
     ]
    },
    {
     "name": "stdout",
     "output_type": "stream",
     "text": [
      "\n",
      "  489,328.0 Bytes [100.00%] received. Rate: [3484 KB/s].  ETA: [0 secs]    \r"
     ]
    },
    {
     "name": "stderr",
     "output_type": "stream",
     "text": [
      "\r",
      "1814it [3:09:13,  1.54s/it]"
     ]
    },
    {
     "name": "stdout",
     "output_type": "stream",
     "text": [
      "\n",
      "  2,246,177.0 Bytes [100.00%] received. Rate: [  51 KB/s].  ETA: [0 secs]    \r"
     ]
    },
    {
     "name": "stderr",
     "output_type": "stream",
     "text": [
      "\r",
      "1815it [3:09:58, 14.63s/it]"
     ]
    },
    {
     "name": "stdout",
     "output_type": "stream",
     "text": [
      "\n",
      "  2,404,487.0 Bytes [100.00%] received. Rate: [10159 KB/s].  ETA: [0 secs]    \r"
     ]
    },
    {
     "name": "stderr",
     "output_type": "stream",
     "text": [
      "\r",
      "1816it [3:10:01, 11.18s/it]"
     ]
    },
    {
     "name": "stdout",
     "output_type": "stream",
     "text": [
      "\n",
      "  2,305,180.0 Bytes [100.00%] received. Rate: [3789 KB/s].  ETA: [0 secs]    \r"
     ]
    },
    {
     "name": "stderr",
     "output_type": "stream",
     "text": [
      "\r",
      "1817it [3:10:03,  8.41s/it]"
     ]
    },
    {
     "name": "stdout",
     "output_type": "stream",
     "text": [
      "\n",
      "  27,405,788.0 Bytes [100.00%] received. Rate: [18877 KB/s].  ETA: [0 secs]    \r"
     ]
    },
    {
     "name": "stderr",
     "output_type": "stream",
     "text": [
      "\r",
      "1818it [3:10:06,  6.77s/it]"
     ]
    },
    {
     "name": "stdout",
     "output_type": "stream",
     "text": [
      "\n",
      "  287,805.0 Bytes [100.00%] received. Rate: [3765 KB/s].  ETA: [0 secs]    \r"
     ]
    },
    {
     "name": "stderr",
     "output_type": "stream",
     "text": [
      "\r",
      "1819it [3:10:07,  5.15s/it]"
     ]
    },
    {
     "name": "stdout",
     "output_type": "stream",
     "text": [
      "\n",
      "  525,052.0 Bytes [100.00%] received. Rate: [7702 KB/s].  ETA: [0 secs]    \r"
     ]
    },
    {
     "name": "stderr",
     "output_type": "stream",
     "text": [
      "\r",
      "1820it [3:10:08,  3.94s/it]"
     ]
    },
    {
     "name": "stdout",
     "output_type": "stream",
     "text": [
      "\n",
      "  7,759,824.0 Bytes [100.00%] received. Rate: [21712 KB/s].  ETA: [0 secs]    \r"
     ]
    },
    {
     "name": "stderr",
     "output_type": "stream",
     "text": [
      "\r",
      "1821it [3:10:10,  3.22s/it]"
     ]
    },
    {
     "name": "stdout",
     "output_type": "stream",
     "text": [
      "\n"
     ]
    },
    {
     "name": "stderr",
     "output_type": "stream",
     "text": [
      "ERROR: Video unavailable\n",
      "This video contains content from KBS Media, who has blocked it on copyright grounds.\n",
      "1822it [3:10:11,  2.42s/it]"
     ]
    },
    {
     "name": "stdout",
     "output_type": "stream",
     "text": [
      "  1,000,822.0 Bytes [100.00%] received. Rate: [3023 KB/s].  ETA: [0 secs]    \r"
     ]
    },
    {
     "name": "stderr",
     "output_type": "stream",
     "text": [
      "\r",
      "1823it [3:10:12,  2.16s/it]"
     ]
    },
    {
     "name": "stdout",
     "output_type": "stream",
     "text": [
      "\n"
     ]
    },
    {
     "name": "stderr",
     "output_type": "stream",
     "text": [
      "ERROR: Video unavailable\n",
      "This video is no longer available because the YouTube account associated with this video has been terminated.\n",
      "1824it [3:10:12,  1.64s/it]"
     ]
    },
    {
     "name": "stdout",
     "output_type": "stream",
     "text": [
      "  437,684.0 Bytes [100.00%] received. Rate: [2713 KB/s].  ETA: [0 secs]    \r"
     ]
    },
    {
     "name": "stderr",
     "output_type": "stream",
     "text": [
      "\r",
      "1825it [3:10:14,  1.62s/it]"
     ]
    },
    {
     "name": "stdout",
     "output_type": "stream",
     "text": [
      "\n",
      "  3,748,233.0 Bytes [100.00%] received. Rate: [23569 KB/s].  ETA: [0 secs]    \r"
     ]
    },
    {
     "name": "stderr",
     "output_type": "stream",
     "text": [
      "\r",
      "1826it [3:10:15,  1.57s/it]"
     ]
    },
    {
     "name": "stdout",
     "output_type": "stream",
     "text": [
      "\n",
      "  3,414,904.0 Bytes [100.00%] received. Rate: [19526 KB/s].  ETA: [0 secs]    \r"
     ]
    },
    {
     "name": "stderr",
     "output_type": "stream",
     "text": [
      "\r",
      "1827it [3:10:17,  1.61s/it]"
     ]
    },
    {
     "name": "stdout",
     "output_type": "stream",
     "text": [
      "\n",
      "  412,008.0 Bytes [100.00%] received. Rate: [  66 KB/s].  ETA: [0 secs]    \r"
     ]
    },
    {
     "name": "stderr",
     "output_type": "stream",
     "text": [
      "\r",
      "1828it [3:10:25,  3.35s/it]"
     ]
    },
    {
     "name": "stdout",
     "output_type": "stream",
     "text": [
      "\n",
      "  9,015,707.0 Bytes [100.00%] received. Rate: [20904 KB/s].  ETA: [0 secs]    \r"
     ]
    },
    {
     "name": "stderr",
     "output_type": "stream",
     "text": [
      "\r",
      "1829it [3:10:26,  2.86s/it]"
     ]
    },
    {
     "name": "stdout",
     "output_type": "stream",
     "text": [
      "\n",
      "  4,498,640.0 Bytes [100.00%] received. Rate: [5081 KB/s].  ETA: [0 secs]    \r"
     ]
    },
    {
     "name": "stderr",
     "output_type": "stream",
     "text": [
      "\r",
      "1830it [3:10:29,  2.66s/it]"
     ]
    },
    {
     "name": "stdout",
     "output_type": "stream",
     "text": [
      "\n",
      "  3,544,473.0 Bytes [100.00%] received. Rate: [15852 KB/s].  ETA: [0 secs]    \r"
     ]
    },
    {
     "name": "stderr",
     "output_type": "stream",
     "text": [
      "\r",
      "1831it [3:10:30,  2.42s/it]"
     ]
    },
    {
     "name": "stdout",
     "output_type": "stream",
     "text": [
      "\n",
      "  1,978,580.0 Bytes [100.00%] received. Rate: [8343 KB/s].  ETA: [0 secs]    \r"
     ]
    },
    {
     "name": "stderr",
     "output_type": "stream",
     "text": [
      "\r",
      "1832it [3:10:32,  2.23s/it]"
     ]
    },
    {
     "name": "stdout",
     "output_type": "stream",
     "text": [
      "\n",
      "  10,286,164.0 Bytes [100.00%] received. Rate: [2214 KB/s].  ETA: [0 secs]    \r"
     ]
    },
    {
     "name": "stderr",
     "output_type": "stream",
     "text": [
      "\r",
      "1833it [3:10:34,  2.10s/it]"
     ]
    },
    {
     "name": "stdout",
     "output_type": "stream",
     "text": [
      "\n"
     ]
    },
    {
     "name": "stderr",
     "output_type": "stream",
     "text": [
      "ERROR: Video unavailable\n",
      "1834it [3:10:34,  1.62s/it]"
     ]
    },
    {
     "name": "stdout",
     "output_type": "stream",
     "text": [
      "  4,649,651.0 Bytes [100.00%] received. Rate: [17879 KB/s].  ETA: [0 secs]    \r"
     ]
    },
    {
     "name": "stderr",
     "output_type": "stream",
     "text": [
      "\r",
      "1835it [3:10:36,  1.57s/it]"
     ]
    },
    {
     "name": "stdout",
     "output_type": "stream",
     "text": [
      "\n",
      "  3,097,638.0 Bytes [100.00%] received. Rate: [15413 KB/s].  ETA: [0 secs]    \r"
     ]
    },
    {
     "name": "stderr",
     "output_type": "stream",
     "text": [
      "\r",
      "1836it [3:10:38,  1.59s/it]"
     ]
    },
    {
     "name": "stdout",
     "output_type": "stream",
     "text": [
      "\n",
      "  9,022,463.0 Bytes [100.00%] received. Rate: [10516 KB/s].  ETA: [0 secs]    \r"
     ]
    },
    {
     "name": "stderr",
     "output_type": "stream",
     "text": [
      "\r",
      "1837it [3:10:40,  1.98s/it]"
     ]
    },
    {
     "name": "stdout",
     "output_type": "stream",
     "text": [
      "\n"
     ]
    },
    {
     "name": "stderr",
     "output_type": "stream",
     "text": [
      "ERROR: Video unavailable\n",
      "1838it [3:10:41,  1.49s/it]"
     ]
    },
    {
     "name": "stdout",
     "output_type": "stream",
     "text": [
      "  971,055.0 Bytes [100.00%] received. Rate: [5965 KB/s].  ETA: [0 secs]    \r"
     ]
    },
    {
     "name": "stderr",
     "output_type": "stream",
     "text": [
      "\r",
      "1839it [3:10:42,  1.41s/it]"
     ]
    },
    {
     "name": "stdout",
     "output_type": "stream",
     "text": [
      "\n",
      "  1,647,783.0 Bytes [100.00%] received. Rate: [9429 KB/s].  ETA: [0 secs]    \r"
     ]
    },
    {
     "name": "stderr",
     "output_type": "stream",
     "text": [
      "\r",
      "1840it [3:10:44,  1.60s/it]"
     ]
    },
    {
     "name": "stdout",
     "output_type": "stream",
     "text": [
      "\n"
     ]
    },
    {
     "name": "stderr",
     "output_type": "stream",
     "text": [
      "ERROR: Video unavailable\n",
      "1841it [3:10:45,  1.26s/it]"
     ]
    },
    {
     "name": "stdout",
     "output_type": "stream",
     "text": [
      "  331,481.0 Bytes [100.00%] received. Rate: [3418 KB/s].  ETA: [0 secs]    \r"
     ]
    },
    {
     "name": "stderr",
     "output_type": "stream",
     "text": [
      "\r",
      "1842it [3:10:46,  1.33s/it]"
     ]
    },
    {
     "name": "stdout",
     "output_type": "stream",
     "text": [
      "\n",
      "  1,902,629.0 Bytes [100.00%] received. Rate: [14764 KB/s].  ETA: [0 secs]    \r"
     ]
    },
    {
     "name": "stderr",
     "output_type": "stream",
     "text": [
      "\r",
      "1843it [3:10:48,  1.39s/it]"
     ]
    },
    {
     "name": "stdout",
     "output_type": "stream",
     "text": [
      "\n",
      "  1,651,449.0 Bytes [100.00%] received. Rate: [15663 KB/s].  ETA: [0 secs]    \r"
     ]
    },
    {
     "name": "stderr",
     "output_type": "stream",
     "text": [
      "\r",
      "1844it [3:10:49,  1.50s/it]"
     ]
    },
    {
     "name": "stdout",
     "output_type": "stream",
     "text": [
      "\n",
      "  1,777,814.0 Bytes [100.00%] received. Rate: [25231 KB/s].  ETA: [0 secs]    \r"
     ]
    },
    {
     "name": "stderr",
     "output_type": "stream",
     "text": [
      "\r",
      "1845it [3:10:50,  1.31s/it]"
     ]
    },
    {
     "name": "stdout",
     "output_type": "stream",
     "text": [
      "\n",
      "  530,531.0 Bytes [100.00%] received. Rate: [6537 KB/s].  ETA: [0 secs]    \r"
     ]
    },
    {
     "name": "stderr",
     "output_type": "stream",
     "text": [
      "\r",
      "1846it [3:10:52,  1.40s/it]"
     ]
    },
    {
     "name": "stdout",
     "output_type": "stream",
     "text": [
      "\n",
      "  5,140,691.0 Bytes [100.00%] received. Rate: [18099 KB/s].  ETA: [0 secs]    \r"
     ]
    },
    {
     "name": "stderr",
     "output_type": "stream",
     "text": [
      "\r",
      "1847it [3:10:54,  1.54s/it]"
     ]
    },
    {
     "name": "stdout",
     "output_type": "stream",
     "text": [
      "\n",
      "  915,373.0 Bytes [100.00%] received. Rate: [11479 KB/s].  ETA: [0 secs]    \r"
     ]
    },
    {
     "name": "stderr",
     "output_type": "stream",
     "text": [
      "\r",
      "1848it [3:10:55,  1.57s/it]"
     ]
    },
    {
     "name": "stdout",
     "output_type": "stream",
     "text": [
      "\n",
      "  4,247,002.0 Bytes [100.00%] received. Rate: [14029 KB/s].  ETA: [0 secs]    \r"
     ]
    },
    {
     "name": "stderr",
     "output_type": "stream",
     "text": [
      "\r",
      "1849it [3:10:57,  1.66s/it]"
     ]
    },
    {
     "name": "stdout",
     "output_type": "stream",
     "text": [
      "\n",
      "  1,621,321.0 Bytes [100.00%] received. Rate: [8928 KB/s].  ETA: [0 secs]    \r"
     ]
    },
    {
     "name": "stderr",
     "output_type": "stream",
     "text": [
      "\r",
      "1850it [3:10:59,  1.70s/it]"
     ]
    },
    {
     "name": "stdout",
     "output_type": "stream",
     "text": [
      "\n",
      "  3,282,797.0 Bytes [100.00%] received. Rate: [16668 KB/s].  ETA: [0 secs]    \r"
     ]
    },
    {
     "name": "stderr",
     "output_type": "stream",
     "text": [
      "\r",
      "1851it [3:11:01,  1.90s/it]"
     ]
    },
    {
     "name": "stdout",
     "output_type": "stream",
     "text": [
      "\n"
     ]
    },
    {
     "name": "stderr",
     "output_type": "stream",
     "text": [
      "ERROR: Video unavailable\n",
      "1852it [3:11:02,  1.49s/it]ERROR: Video unavailable\n",
      "1853it [3:11:02,  1.14s/it]"
     ]
    },
    {
     "name": "stdout",
     "output_type": "stream",
     "text": [
      "  105,174.0 Bytes [100.00%] received. Rate: [1110 KB/s].  ETA: [0 secs]    \r"
     ]
    },
    {
     "name": "stderr",
     "output_type": "stream",
     "text": [
      "\r",
      "1854it [3:11:04,  1.33s/it]"
     ]
    },
    {
     "name": "stdout",
     "output_type": "stream",
     "text": [
      "\n",
      "  2,918,043.0 Bytes [100.00%] received. Rate: [8997 KB/s].  ETA: [0 secs]    \r"
     ]
    },
    {
     "name": "stderr",
     "output_type": "stream",
     "text": [
      "\r",
      "1855it [3:11:06,  1.42s/it]"
     ]
    },
    {
     "name": "stdout",
     "output_type": "stream",
     "text": [
      "\n",
      "  7,245,204.0 Bytes [100.00%] received. Rate: [  45 KB/s].  ETA: [0 secs]     \r"
     ]
    },
    {
     "name": "stderr",
     "output_type": "stream",
     "text": [
      "\r",
      "1856it [3:13:45, 48.92s/it]"
     ]
    },
    {
     "name": "stdout",
     "output_type": "stream",
     "text": [
      "\n",
      "  2,575,898.0 Bytes [100.00%] received. Rate: [12215 KB/s].  ETA: [0 secs]    \r"
     ]
    },
    {
     "name": "stderr",
     "output_type": "stream",
     "text": [
      "\r",
      "1857it [3:13:47, 34.71s/it]"
     ]
    },
    {
     "name": "stdout",
     "output_type": "stream",
     "text": [
      "\n",
      "  3,389,780.0 Bytes [100.00%] received. Rate: [2568 KB/s].  ETA: [0 secs]    \r"
     ]
    },
    {
     "name": "stderr",
     "output_type": "stream",
     "text": [
      "\r",
      "1858it [3:13:51, 25.54s/it]"
     ]
    },
    {
     "name": "stdout",
     "output_type": "stream",
     "text": [
      "\n",
      "  8,072,321.0 Bytes [100.00%] received. Rate: [24777 KB/s].  ETA: [0 secs]    \r"
     ]
    },
    {
     "name": "stderr",
     "output_type": "stream",
     "text": [
      "\r",
      "1859it [3:13:54, 18.67s/it]"
     ]
    },
    {
     "name": "stdout",
     "output_type": "stream",
     "text": [
      "\n"
     ]
    },
    {
     "name": "stderr",
     "output_type": "stream",
     "text": [
      "\r",
      "1860it [3:13:55, 13.52s/it]"
     ]
    },
    {
     "name": "stdout",
     "output_type": "stream",
     "text": [
      "  5,461,639.0 Bytes [100.00%] received. Rate: [17146 KB/s].  ETA: [0 secs]    \r"
     ]
    },
    {
     "name": "stderr",
     "output_type": "stream",
     "text": [
      "\r",
      "1861it [3:13:57, 10.05s/it]"
     ]
    },
    {
     "name": "stdout",
     "output_type": "stream",
     "text": [
      "\n",
      "  776,691.0 Bytes [100.00%] received. Rate: [4190 KB/s].  ETA: [0 secs]    \r"
     ]
    },
    {
     "name": "stderr",
     "output_type": "stream",
     "text": [
      "\r",
      "1862it [3:13:59,  7.60s/it]"
     ]
    },
    {
     "name": "stdout",
     "output_type": "stream",
     "text": [
      "\n",
      "  3,724,116.0 Bytes [100.00%] received. Rate: [  68 KB/s].  ETA: [0 secs]    \r"
     ]
    },
    {
     "name": "stderr",
     "output_type": "stream",
     "text": [
      "\r",
      "1863it [3:14:54, 21.88s/it]"
     ]
    },
    {
     "name": "stdout",
     "output_type": "stream",
     "text": [
      "\n"
     ]
    },
    {
     "name": "stderr",
     "output_type": "stream",
     "text": [
      "ERROR: Video unavailable\n",
      "1864it [3:14:55, 15.43s/it]"
     ]
    },
    {
     "name": "stdout",
     "output_type": "stream",
     "text": [
      "  6,613,615.0 Bytes [100.00%] received. Rate: [19928 KB/s].  ETA: [0 secs]    \r"
     ]
    },
    {
     "name": "stderr",
     "output_type": "stream",
     "text": [
      "\r",
      "1865it [3:14:57, 11.42s/it]"
     ]
    },
    {
     "name": "stdout",
     "output_type": "stream",
     "text": [
      "\n",
      "  4,032,478.0 Bytes [100.00%] received. Rate: [4333 KB/s].  ETA: [0 secs]    \r"
     ]
    },
    {
     "name": "stderr",
     "output_type": "stream",
     "text": [
      "\r",
      "1866it [3:14:59,  8.66s/it]"
     ]
    },
    {
     "name": "stdout",
     "output_type": "stream",
     "text": [
      "\n",
      "  8,065,586.0 Bytes [100.00%] received. Rate: [26272 KB/s].  ETA: [0 secs]    \r"
     ]
    },
    {
     "name": "stderr",
     "output_type": "stream",
     "text": [
      "\r",
      "1867it [3:15:01,  6.59s/it]"
     ]
    },
    {
     "name": "stdout",
     "output_type": "stream",
     "text": [
      "\n",
      "  4,274,600.0 Bytes [100.00%] received. Rate: [10880 KB/s].  ETA: [0 secs]    \r"
     ]
    },
    {
     "name": "stderr",
     "output_type": "stream",
     "text": [
      "\r",
      "1868it [3:15:02,  5.05s/it]"
     ]
    },
    {
     "name": "stdout",
     "output_type": "stream",
     "text": [
      "\n",
      "  12,036,238.0 Bytes [100.00%] received. Rate: [12609 KB/s].  ETA: [0 secs]    \r"
     ]
    },
    {
     "name": "stderr",
     "output_type": "stream",
     "text": [
      "\r",
      "1869it [3:15:04,  4.18s/it]"
     ]
    },
    {
     "name": "stdout",
     "output_type": "stream",
     "text": [
      "\n",
      "  1,702,203.0 Bytes [100.00%] received. Rate: [  79 KB/s].  ETA: [0 secs]    \r"
     ]
    },
    {
     "name": "stderr",
     "output_type": "stream",
     "text": [
      "\r",
      "1870it [3:15:27,  9.64s/it]"
     ]
    },
    {
     "name": "stdout",
     "output_type": "stream",
     "text": [
      "\n",
      "  13,880,539.0 Bytes [100.00%] received. Rate: [9810 KB/s].  ETA: [0 secs]    \r"
     ]
    },
    {
     "name": "stderr",
     "output_type": "stream",
     "text": [
      "\r",
      "1871it [3:15:30,  7.82s/it]"
     ]
    },
    {
     "name": "stdout",
     "output_type": "stream",
     "text": [
      "\n",
      "  12,886,608.0 Bytes [100.00%] received. Rate: [26751 KB/s].  ETA: [0 secs]    \r"
     ]
    },
    {
     "name": "stderr",
     "output_type": "stream",
     "text": [
      "\r",
      "1872it [3:15:33,  6.25s/it]"
     ]
    },
    {
     "name": "stdout",
     "output_type": "stream",
     "text": [
      "\n",
      "  10,015,669.0 Bytes [100.00%] received. Rate: [15909 KB/s].  ETA: [0 secs]    \r"
     ]
    },
    {
     "name": "stderr",
     "output_type": "stream",
     "text": [
      "\r",
      "1873it [3:15:35,  5.17s/it]"
     ]
    },
    {
     "name": "stdout",
     "output_type": "stream",
     "text": [
      "\n",
      "  727,498.0 Bytes [100.00%] received. Rate: [9257 KB/s].  ETA: [0 secs]    \r"
     ]
    },
    {
     "name": "stderr",
     "output_type": "stream",
     "text": [
      "\r",
      "1874it [3:15:37,  4.17s/it]"
     ]
    },
    {
     "name": "stdout",
     "output_type": "stream",
     "text": [
      "\n",
      "  3,345,221.0 Bytes [100.00%] received. Rate: [4700 KB/s].  ETA: [0 secs]    \r"
     ]
    },
    {
     "name": "stderr",
     "output_type": "stream",
     "text": [
      "\r",
      "1875it [3:15:39,  3.49s/it]"
     ]
    },
    {
     "name": "stdout",
     "output_type": "stream",
     "text": [
      "\n",
      "  13,963,671.0 Bytes [100.00%] received. Rate: [  52 KB/s].  ETA: [0 secs]     \r"
     ]
    },
    {
     "name": "stderr",
     "output_type": "stream",
     "text": [
      "\r",
      "1876it [3:20:04, 81.77s/it]"
     ]
    },
    {
     "name": "stdout",
     "output_type": "stream",
     "text": [
      "\n",
      "  10,700,974.0 Bytes [100.00%] received. Rate: [4970 KB/s].  ETA: [0 secs]    \r"
     ]
    },
    {
     "name": "stderr",
     "output_type": "stream",
     "text": [
      "\r",
      "1877it [3:20:05, 57.76s/it]"
     ]
    },
    {
     "name": "stdout",
     "output_type": "stream",
     "text": [
      "\n",
      "  678,502.0 Bytes [100.00%] received. Rate: [2410 KB/s].  ETA: [0 secs]    \r"
     ]
    },
    {
     "name": "stderr",
     "output_type": "stream",
     "text": [
      "\r",
      "1878it [3:20:07, 40.86s/it]"
     ]
    },
    {
     "name": "stdout",
     "output_type": "stream",
     "text": [
      "\n"
     ]
    },
    {
     "name": "stderr",
     "output_type": "stream",
     "text": [
      "ERROR: Video unavailable\n",
      "1879it [3:20:07, 28.70s/it]"
     ]
    },
    {
     "name": "stdout",
     "output_type": "stream",
     "text": [
      "  336,383.0 Bytes [100.00%] received. Rate: [2541 KB/s].  ETA: [0 secs]    \r"
     ]
    },
    {
     "name": "stderr",
     "output_type": "stream",
     "text": [
      "\r",
      "1880it [3:20:08, 20.47s/it]"
     ]
    },
    {
     "name": "stdout",
     "output_type": "stream",
     "text": [
      "\n",
      "  1,192,804.0 Bytes [100.00%] received. Rate: [12612 KB/s].  ETA: [0 secs]    \r"
     ]
    },
    {
     "name": "stderr",
     "output_type": "stream",
     "text": [
      "\r",
      "1881it [3:20:10, 14.77s/it]"
     ]
    },
    {
     "name": "stdout",
     "output_type": "stream",
     "text": [
      "\n",
      "  5,739,137.0 Bytes [100.00%] received. Rate: [15854 KB/s].  ETA: [0 secs]    \r"
     ]
    },
    {
     "name": "stderr",
     "output_type": "stream",
     "text": [
      "\r",
      "1882it [3:20:12, 10.93s/it]"
     ]
    },
    {
     "name": "stdout",
     "output_type": "stream",
     "text": [
      "\n",
      "  7,959,718.0 Bytes [100.00%] received. Rate: [23104 KB/s].  ETA: [0 secs]    \r"
     ]
    },
    {
     "name": "stderr",
     "output_type": "stream",
     "text": [
      "\r",
      "1883it [3:20:14,  8.21s/it]"
     ]
    },
    {
     "name": "stdout",
     "output_type": "stream",
     "text": [
      "\n",
      "  3,858,153.0 Bytes [100.00%] received. Rate: [23863 KB/s].  ETA: [0 secs]    \r"
     ]
    },
    {
     "name": "stderr",
     "output_type": "stream",
     "text": [
      "\r",
      "1884it [3:20:15,  6.25s/it]"
     ]
    },
    {
     "name": "stdout",
     "output_type": "stream",
     "text": [
      "\n",
      "  5,320,691.0 Bytes [100.00%] received. Rate: [13369 KB/s].  ETA: [0 secs]    \r"
     ]
    },
    {
     "name": "stderr",
     "output_type": "stream",
     "text": [
      "\r",
      "1885it [3:20:17,  4.96s/it]"
     ]
    },
    {
     "name": "stdout",
     "output_type": "stream",
     "text": [
      "\n",
      "  2,724,154.0 Bytes [100.00%] received. Rate: [18818 KB/s].  ETA: [0 secs]    \r"
     ]
    },
    {
     "name": "stderr",
     "output_type": "stream",
     "text": [
      "\r",
      "1886it [3:20:19,  3.92s/it]"
     ]
    },
    {
     "name": "stdout",
     "output_type": "stream",
     "text": [
      "\n",
      "  4,969,636.0 Bytes [100.00%] received. Rate: [17403 KB/s].  ETA: [0 secs]    \r"
     ]
    },
    {
     "name": "stderr",
     "output_type": "stream",
     "text": [
      "\r",
      "1887it [3:20:21,  3.29s/it]"
     ]
    },
    {
     "name": "stdout",
     "output_type": "stream",
     "text": [
      "\n",
      "  560,643.0 Bytes [100.00%] received. Rate: [2892 KB/s].  ETA: [0 secs]    \r"
     ]
    },
    {
     "name": "stderr",
     "output_type": "stream",
     "text": [
      "\r",
      "1888it [3:20:22,  2.69s/it]"
     ]
    },
    {
     "name": "stdout",
     "output_type": "stream",
     "text": [
      "\n",
      "  6,506,409.0 Bytes [100.00%] received. Rate: [21924 KB/s].  ETA: [0 secs]    \r"
     ]
    },
    {
     "name": "stderr",
     "output_type": "stream",
     "text": [
      "\r",
      "1889it [3:20:24,  2.56s/it]"
     ]
    },
    {
     "name": "stdout",
     "output_type": "stream",
     "text": [
      "\n",
      "  5,865,072.0 Bytes [100.00%] received. Rate: [25592 KB/s].  ETA: [0 secs]    \r"
     ]
    },
    {
     "name": "stderr",
     "output_type": "stream",
     "text": [
      "\r",
      "1890it [3:20:25,  2.17s/it]"
     ]
    },
    {
     "name": "stdout",
     "output_type": "stream",
     "text": [
      "\n"
     ]
    },
    {
     "name": "stderr",
     "output_type": "stream",
     "text": [
      "ERROR: Video unavailable\n",
      "This video is no longer available because the YouTube account associated with this video has been terminated.\n",
      "1891it [3:20:26,  1.67s/it]"
     ]
    },
    {
     "name": "stdout",
     "output_type": "stream",
     "text": [
      "  5,302,351.0 Bytes [100.00%] received. Rate: [3201 KB/s].  ETA: [0 secs]    \r"
     ]
    },
    {
     "name": "stderr",
     "output_type": "stream",
     "text": [
      "\r",
      "1892it [3:20:29,  2.11s/it]"
     ]
    },
    {
     "name": "stdout",
     "output_type": "stream",
     "text": [
      "\n"
     ]
    },
    {
     "name": "stderr",
     "output_type": "stream",
     "text": [
      "ERROR: Private video\n",
      "Sign in if you've been granted access to this video\n",
      "1893it [3:20:29,  1.58s/it]ERROR: Private video\n",
      "Sign in if you've been granted access to this video\n",
      "1894it [3:20:30,  1.29s/it]"
     ]
    },
    {
     "name": "stdout",
     "output_type": "stream",
     "text": [
      "  1,827,671.0 Bytes [100.00%] received. Rate: [23068 KB/s].  ETA: [0 secs]    \r"
     ]
    },
    {
     "name": "stderr",
     "output_type": "stream",
     "text": [
      "\r",
      "1895it [3:20:31,  1.34s/it]"
     ]
    },
    {
     "name": "stdout",
     "output_type": "stream",
     "text": [
      "\n",
      "  750,015.0 Bytes [100.00%] received. Rate: [4329 KB/s].  ETA: [0 secs]    \r"
     ]
    },
    {
     "name": "stderr",
     "output_type": "stream",
     "text": [
      "\r",
      "1896it [3:20:33,  1.43s/it]"
     ]
    },
    {
     "name": "stdout",
     "output_type": "stream",
     "text": [
      "\n",
      "  4,935,954.0 Bytes [100.00%] received. Rate: [16638 KB/s].  ETA: [0 secs]    \r"
     ]
    },
    {
     "name": "stderr",
     "output_type": "stream",
     "text": [
      "\r",
      "1897it [3:20:35,  1.46s/it]"
     ]
    },
    {
     "name": "stdout",
     "output_type": "stream",
     "text": [
      "\n",
      "  8,797,923.0 Bytes [100.00%] received. Rate: [  67 KB/s].  ETA: [0 secs]     \r"
     ]
    },
    {
     "name": "stderr",
     "output_type": "stream",
     "text": [
      "\r",
      "1898it [3:22:44, 39.94s/it]"
     ]
    },
    {
     "name": "stdout",
     "output_type": "stream",
     "text": [
      "\n",
      "  337,515.0 Bytes [100.00%] received. Rate: [2574 KB/s].  ETA: [0 secs]    \r"
     ]
    },
    {
     "name": "stderr",
     "output_type": "stream",
     "text": [
      "\r",
      "1899it [3:22:46, 28.34s/it]"
     ]
    },
    {
     "name": "stdout",
     "output_type": "stream",
     "text": [
      "\n"
     ]
    },
    {
     "name": "stderr",
     "output_type": "stream",
     "text": [
      "ERROR: Video unavailable\n",
      "1900it [3:22:46, 20.01s/it]"
     ]
    },
    {
     "name": "stdout",
     "output_type": "stream",
     "text": [
      "  338,892.0 Bytes [100.00%] received. Rate: [1754 KB/s].  ETA: [0 secs]    \r"
     ]
    },
    {
     "name": "stderr",
     "output_type": "stream",
     "text": [
      "\r",
      "1901it [3:22:48, 14.44s/it]"
     ]
    },
    {
     "name": "stdout",
     "output_type": "stream",
     "text": [
      "\n",
      "  46,867,306.0 Bytes [100.00%] received. Rate: [20198 KB/s].  ETA: [0 secs]    \r"
     ]
    },
    {
     "name": "stderr",
     "output_type": "stream",
     "text": [
      "\r",
      "1902it [3:22:52, 11.39s/it]"
     ]
    },
    {
     "name": "stdout",
     "output_type": "stream",
     "text": [
      "\n",
      "  5,367,355.0 Bytes [100.00%] received. Rate: [19488 KB/s].  ETA: [0 secs]    \r"
     ]
    },
    {
     "name": "stderr",
     "output_type": "stream",
     "text": [
      "\r",
      "1903it [3:22:53,  8.43s/it]"
     ]
    },
    {
     "name": "stdout",
     "output_type": "stream",
     "text": [
      "\n",
      "  7,793,491.0 Bytes [100.00%] received. Rate: [9936 KB/s].  ETA: [0 secs]    \r"
     ]
    },
    {
     "name": "stderr",
     "output_type": "stream",
     "text": [
      "\r",
      "1904it [3:22:56,  6.57s/it]"
     ]
    },
    {
     "name": "stdout",
     "output_type": "stream",
     "text": [
      "\n",
      "  4,771,385.0 Bytes [100.00%] received. Rate: [12891 KB/s].  ETA: [0 secs]    \r"
     ]
    },
    {
     "name": "stderr",
     "output_type": "stream",
     "text": [
      "\r",
      "1905it [3:22:57,  5.14s/it]"
     ]
    },
    {
     "name": "stdout",
     "output_type": "stream",
     "text": [
      "\n"
     ]
    },
    {
     "name": "stderr",
     "output_type": "stream",
     "text": [
      "ERROR: Private video\n",
      "Sign in if you've been granted access to this video\n",
      "1906it [3:22:58,  3.69s/it]"
     ]
    },
    {
     "name": "stdout",
     "output_type": "stream",
     "text": [
      "  2,424,324.0 Bytes [100.00%] received. Rate: [  56 KB/s].  ETA: [0 secs]    \r"
     ]
    },
    {
     "name": "stderr",
     "output_type": "stream",
     "text": [
      "\r",
      "1907it [3:23:41, 15.66s/it]"
     ]
    },
    {
     "name": "stdout",
     "output_type": "stream",
     "text": [
      "\n",
      "  16,019,178.0 Bytes [100.00%] received. Rate: [14901 KB/s].  ETA: [0 secs]    \r"
     ]
    },
    {
     "name": "stderr",
     "output_type": "stream",
     "text": [
      "\r",
      "1908it [3:23:44, 11.62s/it]"
     ]
    },
    {
     "name": "stdout",
     "output_type": "stream",
     "text": [
      "\n"
     ]
    },
    {
     "name": "stderr",
     "output_type": "stream",
     "text": [
      "ERROR: Private video\n",
      "Sign in if you've been granted access to this video\n",
      "1909it [3:23:44,  8.25s/it]"
     ]
    },
    {
     "name": "stdout",
     "output_type": "stream",
     "text": [
      "  2,854,642.0 Bytes [100.00%] received. Rate: [14775 KB/s].  ETA: [0 secs]    \r"
     ]
    },
    {
     "name": "stderr",
     "output_type": "stream",
     "text": [
      "\r",
      "1910it [3:23:46,  6.31s/it]"
     ]
    },
    {
     "name": "stdout",
     "output_type": "stream",
     "text": [
      "\n"
     ]
    },
    {
     "name": "stderr",
     "output_type": "stream",
     "text": [
      "ERROR: Private video\n",
      "Sign in if you've been granted access to this video\n",
      "1911it [3:23:46,  4.54s/it]"
     ]
    },
    {
     "name": "stdout",
     "output_type": "stream",
     "text": [
      "  3,252,843.0 Bytes [100.00%] received. Rate: [13260 KB/s].  ETA: [0 secs]    \r"
     ]
    },
    {
     "name": "stderr",
     "output_type": "stream",
     "text": [
      "\r",
      "1912it [3:23:48,  3.63s/it]"
     ]
    },
    {
     "name": "stdout",
     "output_type": "stream",
     "text": [
      "\n",
      "  7,155,395.0 Bytes [100.00%] received. Rate: [19907 KB/s].  ETA: [0 secs]    \r"
     ]
    },
    {
     "name": "stderr",
     "output_type": "stream",
     "text": [
      "\r",
      "1913it [3:23:49,  3.10s/it]"
     ]
    },
    {
     "name": "stdout",
     "output_type": "stream",
     "text": [
      "\n",
      "  3,708,401.0 Bytes [100.00%] received. Rate: [23913 KB/s].  ETA: [0 secs]    \r"
     ]
    },
    {
     "name": "stderr",
     "output_type": "stream",
     "text": [
      "\r",
      "1914it [3:23:51,  2.70s/it]"
     ]
    },
    {
     "name": "stdout",
     "output_type": "stream",
     "text": [
      "\n",
      "  1,240,183.0 Bytes [100.00%] received. Rate: [  60 KB/s].  ETA: [0 secs]    \r"
     ]
    },
    {
     "name": "stderr",
     "output_type": "stream",
     "text": [
      "\r",
      "1915it [3:24:13,  8.34s/it]"
     ]
    },
    {
     "name": "stdout",
     "output_type": "stream",
     "text": [
      "\n",
      "  3,888,528.0 Bytes [100.00%] received. Rate: [17029 KB/s].  ETA: [0 secs]    \r"
     ]
    },
    {
     "name": "stderr",
     "output_type": "stream",
     "text": [
      "\r",
      "1916it [3:24:15,  6.39s/it]"
     ]
    },
    {
     "name": "stdout",
     "output_type": "stream",
     "text": [
      "\n"
     ]
    },
    {
     "name": "stderr",
     "output_type": "stream",
     "text": [
      "\r",
      "1917it [3:24:16,  4.84s/it]"
     ]
    },
    {
     "name": "stdout",
     "output_type": "stream",
     "text": [
      "  1,174,231.0 Bytes [100.00%] received. Rate: [  77 KB/s].  ETA: [0 secs]    \r"
     ]
    },
    {
     "name": "stderr",
     "output_type": "stream",
     "text": [
      "\r",
      "1918it [3:24:32,  8.19s/it]"
     ]
    },
    {
     "name": "stdout",
     "output_type": "stream",
     "text": [
      "\n",
      "  4,831,974.0 Bytes [100.00%] received. Rate: [15951 KB/s].  ETA: [0 secs]    \r"
     ]
    },
    {
     "name": "stderr",
     "output_type": "stream",
     "text": [
      "\r",
      "1919it [3:24:34,  6.26s/it]"
     ]
    },
    {
     "name": "stdout",
     "output_type": "stream",
     "text": [
      "\n",
      "  2,048,001.0 Bytes [100.00%] received. Rate: [15728 KB/s].  ETA: [0 secs]    \r"
     ]
    },
    {
     "name": "stderr",
     "output_type": "stream",
     "text": [
      "\r",
      "1920it [3:24:35,  4.82s/it]"
     ]
    },
    {
     "name": "stdout",
     "output_type": "stream",
     "text": [
      "\n",
      "  3,168,893.0 Bytes [100.00%] received. Rate: [22195 KB/s].  ETA: [0 secs]    \r"
     ]
    },
    {
     "name": "stderr",
     "output_type": "stream",
     "text": [
      "\r",
      "1921it [3:24:36,  3.75s/it]"
     ]
    },
    {
     "name": "stdout",
     "output_type": "stream",
     "text": [
      "\n"
     ]
    },
    {
     "name": "stderr",
     "output_type": "stream",
     "text": [
      "ERROR: Video unavailable\n",
      "1922it [3:24:37,  2.78s/it]"
     ]
    },
    {
     "name": "stdout",
     "output_type": "stream",
     "text": [
      "  7,811,293.0 Bytes [100.00%] received. Rate: [10811 KB/s].  ETA: [0 secs]    \r"
     ]
    },
    {
     "name": "stderr",
     "output_type": "stream",
     "text": [
      "\r",
      "1923it [3:24:39,  2.62s/it]"
     ]
    },
    {
     "name": "stdout",
     "output_type": "stream",
     "text": [
      "\n",
      "  862,944.0 Bytes [100.00%] received. Rate: [5285 KB/s].  ETA: [0 secs]    \r"
     ]
    },
    {
     "name": "stderr",
     "output_type": "stream",
     "text": [
      "\r",
      "1924it [3:24:40,  2.23s/it]"
     ]
    },
    {
     "name": "stdout",
     "output_type": "stream",
     "text": [
      "\n",
      "  8,395,174.0 Bytes [100.00%] received. Rate: [21017 KB/s].  ETA: [0 secs]    \r"
     ]
    },
    {
     "name": "stderr",
     "output_type": "stream",
     "text": [
      "\r",
      "1925it [3:24:42,  2.11s/it]"
     ]
    },
    {
     "name": "stdout",
     "output_type": "stream",
     "text": [
      "\n",
      "  14,133,212.0 Bytes [100.00%] received. Rate: [  76 KB/s].  ETA: [0 secs]     \r"
     ]
    },
    {
     "name": "stderr",
     "output_type": "stream",
     "text": [
      "\r",
      "1926it [3:27:46, 56.54s/it]"
     ]
    },
    {
     "name": "stdout",
     "output_type": "stream",
     "text": [
      "\n",
      "  403,383.0 Bytes [100.00%] received. Rate: [5509 KB/s].  ETA: [0 secs]    \r"
     ]
    },
    {
     "name": "stderr",
     "output_type": "stream",
     "text": [
      "\r",
      "1927it [3:27:47, 39.88s/it]"
     ]
    },
    {
     "name": "stdout",
     "output_type": "stream",
     "text": [
      "\n",
      "  9,343,927.0 Bytes [100.00%] received. Rate: [  43 KB/s].  ETA: [0 secs]     \r"
     ]
    },
    {
     "name": "stderr",
     "output_type": "stream",
     "text": [
      "\r",
      "1928it [3:31:19, 91.46s/it]"
     ]
    },
    {
     "name": "stdout",
     "output_type": "stream",
     "text": [
      "\n",
      "  4,036,677.0 Bytes [100.00%] received. Rate: [24395 KB/s].  ETA: [0 secs]    \r"
     ]
    },
    {
     "name": "stderr",
     "output_type": "stream",
     "text": [
      "\r",
      "1929it [3:31:21, 64.64s/it]"
     ]
    },
    {
     "name": "stdout",
     "output_type": "stream",
     "text": [
      "\n",
      "  4,052,860.0 Bytes [100.00%] received. Rate: [37878 KB/s].  ETA: [0 secs]    \r"
     ]
    },
    {
     "name": "stderr",
     "output_type": "stream",
     "text": [
      "\r",
      "1930it [3:31:22, 45.68s/it]"
     ]
    },
    {
     "name": "stdout",
     "output_type": "stream",
     "text": [
      "\n",
      "  8,630,503.0 Bytes [100.00%] received. Rate: [36662 KB/s].  ETA: [0 secs]    \r"
     ]
    },
    {
     "name": "stderr",
     "output_type": "stream",
     "text": [
      "\r",
      "1931it [3:31:24, 32.46s/it]"
     ]
    },
    {
     "name": "stdout",
     "output_type": "stream",
     "text": [
      "\n",
      "  3,329,449.0 Bytes [100.00%] received. Rate: [14759 KB/s].  ETA: [0 secs]    \r"
     ]
    },
    {
     "name": "stderr",
     "output_type": "stream",
     "text": [
      "\r",
      "1932it [3:31:25, 23.11s/it]"
     ]
    },
    {
     "name": "stdout",
     "output_type": "stream",
     "text": [
      "\n",
      "  239,112.0 Bytes [100.00%] received. Rate: [1926 KB/s].  ETA: [0 secs]    \r"
     ]
    },
    {
     "name": "stderr",
     "output_type": "stream",
     "text": [
      "\r",
      "1933it [3:31:26, 16.59s/it]"
     ]
    },
    {
     "name": "stdout",
     "output_type": "stream",
     "text": [
      "\n",
      "  1,118,682.0 Bytes [100.00%] received. Rate: [12184 KB/s].  ETA: [0 secs]    \r"
     ]
    },
    {
     "name": "stderr",
     "output_type": "stream",
     "text": [
      "\r",
      "1934it [3:31:28, 12.07s/it]"
     ]
    },
    {
     "name": "stdout",
     "output_type": "stream",
     "text": [
      "\n",
      "  222,462.0 Bytes [100.00%] received. Rate: [  74 KB/s].  ETA: [0 secs]    \r"
     ]
    },
    {
     "name": "stderr",
     "output_type": "stream",
     "text": [
      "\r",
      "1935it [3:31:32,  9.71s/it]"
     ]
    },
    {
     "name": "stdout",
     "output_type": "stream",
     "text": [
      "\n",
      "  3,146,617.0 Bytes [100.00%] received. Rate: [11192 KB/s].  ETA: [0 secs]    \r"
     ]
    },
    {
     "name": "stderr",
     "output_type": "stream",
     "text": [
      "\r",
      "1936it [3:31:34,  7.32s/it]"
     ]
    },
    {
     "name": "stdout",
     "output_type": "stream",
     "text": [
      "\n",
      "  754,303.0 Bytes [100.00%] received. Rate: [6525 KB/s].  ETA: [0 secs]    \r"
     ]
    },
    {
     "name": "stderr",
     "output_type": "stream",
     "text": [
      "\r",
      "1937it [3:31:36,  5.67s/it]"
     ]
    },
    {
     "name": "stdout",
     "output_type": "stream",
     "text": [
      "\n",
      "  1,691,885.0 Bytes [100.00%] received. Rate: [11567 KB/s].  ETA: [0 secs]    \r"
     ]
    },
    {
     "name": "stderr",
     "output_type": "stream",
     "text": [
      "\r",
      "1938it [3:31:37,  4.37s/it]"
     ]
    },
    {
     "name": "stdout",
     "output_type": "stream",
     "text": [
      "\n",
      "  496,454.0 Bytes [100.00%] received. Rate: [  70 KB/s].  ETA: [0 secs]    \r"
     ]
    },
    {
     "name": "stderr",
     "output_type": "stream",
     "text": [
      "\r",
      "1939it [3:31:45,  5.46s/it]"
     ]
    },
    {
     "name": "stdout",
     "output_type": "stream",
     "text": [
      "\n"
     ]
    },
    {
     "name": "stderr",
     "output_type": "stream",
     "text": [
      "ERROR: Video unavailable\n",
      "1940it [3:31:45,  3.95s/it]"
     ]
    },
    {
     "name": "stdout",
     "output_type": "stream",
     "text": [
      "  7,780,994.0 Bytes [100.00%] received. Rate: [9861 KB/s].  ETA: [0 secs]    \r"
     ]
    },
    {
     "name": "stderr",
     "output_type": "stream",
     "text": [
      "\r",
      "1941it [3:31:48,  3.39s/it]"
     ]
    },
    {
     "name": "stdout",
     "output_type": "stream",
     "text": [
      "\n",
      "  32,512,644.0 Bytes [100.00%] received. Rate: [10821 KB/s].  ETA: [0 secs]    \r"
     ]
    },
    {
     "name": "stderr",
     "output_type": "stream",
     "text": [
      "\r",
      "1942it [3:31:51,  3.41s/it]"
     ]
    },
    {
     "name": "stdout",
     "output_type": "stream",
     "text": [
      "\n",
      "  94,425.0 Bytes [100.00%] received. Rate: [  71 KB/s].  ETA: [0 secs]    \r"
     ]
    },
    {
     "name": "stderr",
     "output_type": "stream",
     "text": [
      "\r",
      "1943it [3:31:53,  3.09s/it]"
     ]
    },
    {
     "name": "stdout",
     "output_type": "stream",
     "text": [
      "\n",
      "  5,401,508.0 Bytes [100.00%] received. Rate: [20939 KB/s].  ETA: [0 secs]    \r"
     ]
    },
    {
     "name": "stderr",
     "output_type": "stream",
     "text": [
      "\r",
      "1944it [3:31:55,  2.65s/it]"
     ]
    },
    {
     "name": "stdout",
     "output_type": "stream",
     "text": [
      "\n",
      "  5,033,835.0 Bytes [100.00%] received. Rate: [4329 KB/s].  ETA: [0 secs]    \r"
     ]
    },
    {
     "name": "stderr",
     "output_type": "stream",
     "text": [
      "\r",
      "1945it [3:31:58,  2.66s/it]"
     ]
    },
    {
     "name": "stdout",
     "output_type": "stream",
     "text": [
      "\n",
      "  1,666,780.0 Bytes [100.00%] received. Rate: [15308 KB/s].  ETA: [0 secs]    \r"
     ]
    },
    {
     "name": "stderr",
     "output_type": "stream",
     "text": [
      "\r",
      "1946it [3:31:59,  2.24s/it]"
     ]
    },
    {
     "name": "stdout",
     "output_type": "stream",
     "text": [
      "\n",
      "  41,025,558.0 Bytes [100.00%] received. Rate: [54555 KB/s].  ETA: [0 secs]    \r"
     ]
    },
    {
     "name": "stderr",
     "output_type": "stream",
     "text": [
      "\r",
      "1947it [3:32:03,  2.80s/it]"
     ]
    },
    {
     "name": "stdout",
     "output_type": "stream",
     "text": [
      "\n",
      "  6,043,651.0 Bytes [100.00%] received. Rate: [5659 KB/s].  ETA: [0 secs]    \r"
     ]
    },
    {
     "name": "stderr",
     "output_type": "stream",
     "text": [
      "\r",
      "1948it [3:32:06,  2.87s/it]"
     ]
    },
    {
     "name": "stdout",
     "output_type": "stream",
     "text": [
      "\n",
      "  7,115,137.0 Bytes [100.00%] received. Rate: [15316 KB/s].  ETA: [0 secs]    \r"
     ]
    },
    {
     "name": "stderr",
     "output_type": "stream",
     "text": [
      "\r",
      "1949it [3:32:08,  2.56s/it]"
     ]
    },
    {
     "name": "stdout",
     "output_type": "stream",
     "text": [
      "\n",
      "  14,334,050.0 Bytes [100.00%] received. Rate: [18934 KB/s].  ETA: [0 secs]    \r"
     ]
    },
    {
     "name": "stderr",
     "output_type": "stream",
     "text": [
      "\r",
      "1950it [3:32:10,  2.56s/it]"
     ]
    },
    {
     "name": "stdout",
     "output_type": "stream",
     "text": [
      "\n",
      "  2,967,489.0 Bytes [100.00%] received. Rate: [13355 KB/s].  ETA: [0 secs]    \r"
     ]
    },
    {
     "name": "stderr",
     "output_type": "stream",
     "text": [
      "\r",
      "1951it [3:32:12,  2.22s/it]"
     ]
    },
    {
     "name": "stdout",
     "output_type": "stream",
     "text": [
      "\n",
      "  1,546,945.0 Bytes [100.00%] received. Rate: [13503 KB/s].  ETA: [0 secs]    \r"
     ]
    },
    {
     "name": "stderr",
     "output_type": "stream",
     "text": [
      "\r",
      "1952it [3:32:13,  1.89s/it]"
     ]
    },
    {
     "name": "stdout",
     "output_type": "stream",
     "text": [
      "\n",
      "  2,028,336.0 Bytes [100.00%] received. Rate: [10423 KB/s].  ETA: [0 secs]    \r"
     ]
    },
    {
     "name": "stderr",
     "output_type": "stream",
     "text": [
      "\r",
      "1953it [3:32:14,  1.76s/it]"
     ]
    },
    {
     "name": "stdout",
     "output_type": "stream",
     "text": [
      "\n",
      "  1,348,938.0 Bytes [100.00%] received. Rate: [7265 KB/s].  ETA: [0 secs]    \r"
     ]
    },
    {
     "name": "stderr",
     "output_type": "stream",
     "text": [
      "\r",
      "1954it [3:32:16,  1.71s/it]"
     ]
    },
    {
     "name": "stdout",
     "output_type": "stream",
     "text": [
      "\n",
      "  5,827,372.0 Bytes [100.00%] received. Rate: [23142 KB/s].  ETA: [0 secs]    \r"
     ]
    },
    {
     "name": "stderr",
     "output_type": "stream",
     "text": [
      "\r",
      "1955it [3:32:17,  1.63s/it]"
     ]
    },
    {
     "name": "stdout",
     "output_type": "stream",
     "text": [
      "\n",
      "  1,403,521.0 Bytes [100.00%] received. Rate: [7634 KB/s].  ETA: [0 secs]    \r"
     ]
    },
    {
     "name": "stderr",
     "output_type": "stream",
     "text": [
      "\r",
      "1956it [3:32:19,  1.58s/it]"
     ]
    },
    {
     "name": "stdout",
     "output_type": "stream",
     "text": [
      "\n"
     ]
    },
    {
     "name": "stderr",
     "output_type": "stream",
     "text": [
      "\r",
      "1957it [3:32:20,  1.39s/it]"
     ]
    },
    {
     "name": "stdout",
     "output_type": "stream",
     "text": [
      "  4,046,383.0 Bytes [100.00%] received. Rate: [18344 KB/s].  ETA: [0 secs]    \r"
     ]
    },
    {
     "name": "stderr",
     "output_type": "stream",
     "text": [
      "\r",
      "1958it [3:32:21,  1.44s/it]"
     ]
    },
    {
     "name": "stdout",
     "output_type": "stream",
     "text": [
      "\n",
      "  5,196,882.0 Bytes [100.00%] received. Rate: [23387 KB/s].  ETA: [0 secs]    \n"
     ]
    },
    {
     "name": "stderr",
     "output_type": "stream",
     "text": [
      "\r",
      "1959it [3:32:23,  1.53s/it]"
     ]
    },
    {
     "name": "stdout",
     "output_type": "stream",
     "text": [
      "  8,453,502.0 Bytes [100.00%] received. Rate: [20306 KB/s].  ETA: [0 secs]    \r"
     ]
    },
    {
     "name": "stderr",
     "output_type": "stream",
     "text": [
      "\r",
      "1960it [3:32:25,  1.62s/it]"
     ]
    },
    {
     "name": "stdout",
     "output_type": "stream",
     "text": [
      "\n",
      "  31,783,967.0 Bytes [100.00%] received. Rate: [8619 KB/s].  ETA: [0 secs]    \r"
     ]
    },
    {
     "name": "stderr",
     "output_type": "stream",
     "text": [
      "\r",
      "1961it [3:32:28,  2.14s/it]"
     ]
    },
    {
     "name": "stdout",
     "output_type": "stream",
     "text": [
      "\n",
      "  877,943.0 Bytes [100.00%] received. Rate: [  64 KB/s].  ETA: [0 secs]    \r"
     ]
    },
    {
     "name": "stderr",
     "output_type": "stream",
     "text": [
      "\r",
      "1962it [3:32:44,  6.04s/it]"
     ]
    },
    {
     "name": "stdout",
     "output_type": "stream",
     "text": [
      "\n",
      "  23,605,235.0 Bytes [100.00%] received. Rate: [12370 KB/s].  ETA: [0 secs]    \r"
     ]
    },
    {
     "name": "stderr",
     "output_type": "stream",
     "text": [
      "\r",
      "1963it [3:32:47,  5.29s/it]"
     ]
    },
    {
     "name": "stdout",
     "output_type": "stream",
     "text": [
      "\n",
      "  184,046.0 Bytes [100.00%] received. Rate: [ 786 KB/s].  ETA: [0 secs]    \r"
     ]
    },
    {
     "name": "stderr",
     "output_type": "stream",
     "text": [
      "\r",
      "1964it [3:32:48,  4.13s/it]"
     ]
    },
    {
     "name": "stdout",
     "output_type": "stream",
     "text": [
      "\n",
      "  1,777,862.0 Bytes [100.00%] received. Rate: [8236 KB/s].  ETA: [0 secs]    \r"
     ]
    },
    {
     "name": "stderr",
     "output_type": "stream",
     "text": [
      "\r",
      "1965it [3:32:50,  3.31s/it]"
     ]
    },
    {
     "name": "stdout",
     "output_type": "stream",
     "text": [
      "\n",
      "  6,363,213.0 Bytes [100.00%] received. Rate: [4136 KB/s].  ETA: [0 secs]    \r"
     ]
    },
    {
     "name": "stderr",
     "output_type": "stream",
     "text": [
      "\r",
      "1966it [3:32:53,  3.21s/it]"
     ]
    },
    {
     "name": "stdout",
     "output_type": "stream",
     "text": [
      "\n",
      "  8,968,551.0 Bytes [100.00%] received. Rate: [5774 KB/s].  ETA: [0 secs]    \r"
     ]
    },
    {
     "name": "stderr",
     "output_type": "stream",
     "text": [
      "\r",
      "1967it [3:32:56,  3.08s/it]"
     ]
    },
    {
     "name": "stdout",
     "output_type": "stream",
     "text": [
      "\n"
     ]
    },
    {
     "name": "stderr",
     "output_type": "stream",
     "text": [
      "ERROR: Private video\n",
      "Sign in if you've been granted access to this video\n",
      "1968it [3:32:56,  2.28s/it]"
     ]
    },
    {
     "name": "stdout",
     "output_type": "stream",
     "text": [
      "  4,504,965.0 Bytes [100.00%] received. Rate: [13060 KB/s].  ETA: [0 secs]    \r"
     ]
    },
    {
     "name": "stderr",
     "output_type": "stream",
     "text": [
      "\r",
      "1969it [3:32:58,  2.13s/it]"
     ]
    },
    {
     "name": "stdout",
     "output_type": "stream",
     "text": [
      "\n"
     ]
    },
    {
     "name": "stderr",
     "output_type": "stream",
     "text": [
      "ERROR: Private video\n",
      "Sign in if you've been granted access to this video\n",
      "1970it [3:32:58,  1.64s/it]"
     ]
    },
    {
     "name": "stdout",
     "output_type": "stream",
     "text": [
      "  4,897,995.0 Bytes [100.00%] received. Rate: [13020 KB/s].  ETA: [0 secs]    \r"
     ]
    },
    {
     "name": "stderr",
     "output_type": "stream",
     "text": [
      "\r",
      "1971it [3:33:00,  1.75s/it]"
     ]
    },
    {
     "name": "stdout",
     "output_type": "stream",
     "text": [
      "\n",
      "  5,515,454.0 Bytes [100.00%] received. Rate: [5656 KB/s].  ETA: [0 secs]    \r"
     ]
    },
    {
     "name": "stderr",
     "output_type": "stream",
     "text": [
      "\r",
      "1972it [3:33:03,  1.90s/it]"
     ]
    },
    {
     "name": "stdout",
     "output_type": "stream",
     "text": [
      "\n"
     ]
    },
    {
     "name": "stderr",
     "output_type": "stream",
     "text": [
      "\r",
      "1973it [3:33:04,  1.72s/it]"
     ]
    },
    {
     "name": "stdout",
     "output_type": "stream",
     "text": [
      "  497,770.0 Bytes [100.00%] received. Rate: [2338 KB/s].  ETA: [0 secs]    \r"
     ]
    },
    {
     "name": "stderr",
     "output_type": "stream",
     "text": [
      "\r",
      "1974it [3:33:06,  1.70s/it]"
     ]
    },
    {
     "name": "stdout",
     "output_type": "stream",
     "text": [
      "\n",
      "  1,544,671.0 Bytes [100.00%] received. Rate: [8006 KB/s].  ETA: [0 secs]    \r"
     ]
    },
    {
     "name": "stderr",
     "output_type": "stream",
     "text": [
      "\r",
      "1975it [3:33:07,  1.56s/it]"
     ]
    },
    {
     "name": "stdout",
     "output_type": "stream",
     "text": [
      "\n",
      "  9,282,792.0 Bytes [100.00%] received. Rate: [19392 KB/s].  ETA: [0 secs]    \r"
     ]
    },
    {
     "name": "stderr",
     "output_type": "stream",
     "text": [
      "\r",
      "1976it [3:33:09,  1.65s/it]"
     ]
    },
    {
     "name": "stdout",
     "output_type": "stream",
     "text": [
      "\n",
      "  2,965,646.0 Bytes [100.00%] received. Rate: [20918 KB/s].  ETA: [0 secs]    \r"
     ]
    },
    {
     "name": "stderr",
     "output_type": "stream",
     "text": [
      "\r",
      "1977it [3:33:10,  1.68s/it]"
     ]
    },
    {
     "name": "stdout",
     "output_type": "stream",
     "text": [
      "\n",
      "  3,672,289.0 Bytes [100.00%] received. Rate: [13211 KB/s].  ETA: [0 secs]    \r"
     ]
    },
    {
     "name": "stderr",
     "output_type": "stream",
     "text": [
      "\r",
      "1978it [3:33:12,  1.54s/it]"
     ]
    },
    {
     "name": "stdout",
     "output_type": "stream",
     "text": [
      "\n"
     ]
    },
    {
     "name": "stderr",
     "output_type": "stream",
     "text": [
      "ERROR: No video formats found; please report this issue on https://yt-dl.org/bug . Make sure you are using the latest version; see  https://yt-dl.org/update  on how to update. Be sure to call youtube-dl with the --verbose flag and include its complete output.\n",
      "1979it [3:33:12,  1.21s/it]"
     ]
    },
    {
     "name": "stdout",
     "output_type": "stream",
     "text": [
      "  3,263,548.0 Bytes [100.00%] received. Rate: [16511 KB/s].  ETA: [0 secs]    \r"
     ]
    },
    {
     "name": "stderr",
     "output_type": "stream",
     "text": [
      "\r",
      "1980it [3:33:13,  1.23s/it]"
     ]
    },
    {
     "name": "stdout",
     "output_type": "stream",
     "text": [
      "\n"
     ]
    },
    {
     "name": "stderr",
     "output_type": "stream",
     "text": [
      "ERROR: Private video\n",
      "Sign in if you've been granted access to this video\n",
      "1981it [3:33:14,  1.05it/s]"
     ]
    },
    {
     "name": "stdout",
     "output_type": "stream",
     "text": [
      "  3,402,029.0 Bytes [100.00%] received. Rate: [32432 KB/s].  ETA: [0 secs]    \r"
     ]
    },
    {
     "name": "stderr",
     "output_type": "stream",
     "text": [
      "\r",
      "1982it [3:33:16,  1.24s/it]"
     ]
    },
    {
     "name": "stdout",
     "output_type": "stream",
     "text": [
      "\n",
      "  1,305,806.0 Bytes [100.00%] received. Rate: [7202 KB/s].  ETA: [0 secs]    \r"
     ]
    },
    {
     "name": "stderr",
     "output_type": "stream",
     "text": [
      "\r",
      "1983it [3:33:17,  1.30s/it]"
     ]
    },
    {
     "name": "stdout",
     "output_type": "stream",
     "text": [
      "\n",
      "  5,052,028.0 Bytes [100.00%] received. Rate: [5430 KB/s].  ETA: [0 secs]    \r"
     ]
    },
    {
     "name": "stderr",
     "output_type": "stream",
     "text": [
      "\r",
      "1984it [3:33:19,  1.67s/it]"
     ]
    },
    {
     "name": "stdout",
     "output_type": "stream",
     "text": [
      "\n",
      "  55,446,301.0 Bytes [100.00%] received. Rate: [83464 KB/s].  ETA: [0 secs]    \r"
     ]
    },
    {
     "name": "stderr",
     "output_type": "stream",
     "text": [
      "\r",
      "1985it [3:33:23,  2.16s/it]"
     ]
    },
    {
     "name": "stdout",
     "output_type": "stream",
     "text": [
      "\n",
      "  2,537,275.0 Bytes [100.00%] received. Rate: [3350 KB/s].  ETA: [0 secs]    \r"
     ]
    },
    {
     "name": "stderr",
     "output_type": "stream",
     "text": [
      "\r",
      "1986it [3:33:25,  2.21s/it]"
     ]
    },
    {
     "name": "stdout",
     "output_type": "stream",
     "text": [
      "\n",
      "  1,088,539.0 Bytes [100.00%] received. Rate: [7754 KB/s].  ETA: [0 secs]    \r"
     ]
    },
    {
     "name": "stderr",
     "output_type": "stream",
     "text": [
      "\r",
      "1987it [3:33:27,  1.98s/it]"
     ]
    },
    {
     "name": "stdout",
     "output_type": "stream",
     "text": [
      "\n",
      "  6,013,274.0 Bytes [100.00%] received. Rate: [16568 KB/s].  ETA: [0 secs]    \r"
     ]
    },
    {
     "name": "stderr",
     "output_type": "stream",
     "text": [
      "\r",
      "1988it [3:33:28,  1.96s/it]"
     ]
    },
    {
     "name": "stdout",
     "output_type": "stream",
     "text": [
      "\n",
      "  8,884,403.0 Bytes [100.00%] received. Rate: [27840 KB/s].  ETA: [0 secs]    \r"
     ]
    },
    {
     "name": "stderr",
     "output_type": "stream",
     "text": [
      "\r",
      "1989it [3:33:31,  2.02s/it]"
     ]
    },
    {
     "name": "stdout",
     "output_type": "stream",
     "text": [
      "\n",
      "  2,465,574.0 Bytes [100.00%] received. Rate: [16872 KB/s].  ETA: [0 secs]    \r"
     ]
    },
    {
     "name": "stderr",
     "output_type": "stream",
     "text": [
      "\r",
      "1990it [3:33:32,  1.81s/it]"
     ]
    },
    {
     "name": "stdout",
     "output_type": "stream",
     "text": [
      "\n",
      "  4,486,032.0 Bytes [100.00%] received. Rate: [9985 KB/s].  ETA: [0 secs]    \r"
     ]
    },
    {
     "name": "stderr",
     "output_type": "stream",
     "text": [
      "\r",
      "1991it [3:33:34,  1.74s/it]"
     ]
    },
    {
     "name": "stdout",
     "output_type": "stream",
     "text": [
      "\n",
      "  1,888,049.0 Bytes [100.00%] received. Rate: [13026 KB/s].  ETA: [0 secs]    \r"
     ]
    },
    {
     "name": "stderr",
     "output_type": "stream",
     "text": [
      "\r",
      "1992it [3:33:35,  1.66s/it]"
     ]
    },
    {
     "name": "stdout",
     "output_type": "stream",
     "text": [
      "\n",
      "  4,964,946.0 Bytes [100.00%] received. Rate: [11104 KB/s].  ETA: [0 secs]    \r"
     ]
    },
    {
     "name": "stderr",
     "output_type": "stream",
     "text": [
      "\r",
      "1993it [3:33:37,  1.73s/it]"
     ]
    },
    {
     "name": "stdout",
     "output_type": "stream",
     "text": [
      "\n"
     ]
    },
    {
     "name": "stderr",
     "output_type": "stream",
     "text": [
      "ERROR: Video unavailable\n",
      "This video is no longer available because the YouTube account associated with this video has been terminated.\n",
      "1994it [3:33:37,  1.30s/it]"
     ]
    },
    {
     "name": "stdout",
     "output_type": "stream",
     "text": [
      "  3,555,758.0 Bytes [100.00%] received. Rate: [9892 KB/s].  ETA: [0 secs]    \r"
     ]
    },
    {
     "name": "stderr",
     "output_type": "stream",
     "text": [
      "\r",
      "1995it [3:33:39,  1.51s/it]"
     ]
    },
    {
     "name": "stdout",
     "output_type": "stream",
     "text": [
      "\n"
     ]
    },
    {
     "name": "stderr",
     "output_type": "stream",
     "text": [
      "1997it [3:33:41,  1.16s/it]"
     ]
    },
    {
     "name": "stdout",
     "output_type": "stream",
     "text": [
      "  161,383.0 Bytes [100.00%] received. Rate: [1204 KB/s].  ETA: [0 secs]    \r"
     ]
    },
    {
     "name": "stderr",
     "output_type": "stream",
     "text": [
      "\r",
      "1998it [3:33:42,  1.21s/it]"
     ]
    },
    {
     "name": "stdout",
     "output_type": "stream",
     "text": [
      "\n",
      "  300,892.0 Bytes [100.00%] received. Rate: [  71 KB/s].  ETA: [0 secs]    \r"
     ]
    },
    {
     "name": "stderr",
     "output_type": "stream",
     "text": [
      "\r",
      "1999it [3:33:48,  2.49s/it]"
     ]
    },
    {
     "name": "stdout",
     "output_type": "stream",
     "text": [
      "\n",
      "  9,564,589.0 Bytes [100.00%] received. Rate: [16197 KB/s].  ETA: [0 secs]    \r"
     ]
    },
    {
     "name": "stderr",
     "output_type": "stream",
     "text": [
      "2000it [3:33:50,  6.42s/it]"
     ]
    },
    {
     "name": "stdout",
     "output_type": "stream",
     "text": [
      "\n"
     ]
    },
    {
     "name": "stderr",
     "output_type": "stream",
     "text": [
      "\n"
     ]
    }
   ],
   "source": [
    "titleList = []\n",
    "\n",
    "for row in tqdm(speechDF.iterrows()):\n",
    "    urlToPass = row[1][3]\n",
    "    try:\n",
    "        video = pafy.new(urlToPass)\n",
    "        title = video.title\n",
    "        bestaudio = video.getbestaudio()\n",
    "        bestaudio.download()\n",
    "        titleList.append(title)\n",
    "    except:\n",
    "        titleList.append(None)"
   ]
  },
  {
   "cell_type": "code",
   "execution_count": 22,
   "metadata": {},
   "outputs": [
    {
     "data": {
      "text/plain": [
       "True"
      ]
     },
     "execution_count": 22,
     "metadata": {},
     "output_type": "execute_result"
    }
   ],
   "source": [
    "len(titleList) == len(speechDF)"
   ]
  },
  {
   "cell_type": "code",
   "execution_count": 23,
   "metadata": {},
   "outputs": [],
   "source": [
    "speechDF['audioFile'] = titleList"
   ]
  },
  {
   "cell_type": "code",
   "execution_count": 24,
   "metadata": {},
   "outputs": [
    {
     "data": {
      "text/html": [
       "<div>\n",
       "<style scoped>\n",
       "    .dataframe tbody tr th:only-of-type {\n",
       "        vertical-align: middle;\n",
       "    }\n",
       "\n",
       "    .dataframe tbody tr th {\n",
       "        vertical-align: top;\n",
       "    }\n",
       "\n",
       "    .dataframe thead th {\n",
       "        text-align: right;\n",
       "    }\n",
       "</style>\n",
       "<table border=\"1\" class=\"dataframe\">\n",
       "  <thead>\n",
       "    <tr style=\"text-align: right;\">\n",
       "      <th></th>\n",
       "      <th>YTID</th>\n",
       "      <th>start_seconds</th>\n",
       "      <th>end_seconds</th>\n",
       "      <th>videoURL</th>\n",
       "      <th>audioFile</th>\n",
       "    </tr>\n",
       "  </thead>\n",
       "  <tbody>\n",
       "    <tr>\n",
       "      <th>0</th>\n",
       "      <td>---2_BBVHAA</td>\n",
       "      <td>30.0</td>\n",
       "      <td>40.0</td>\n",
       "      <td>https://www.youtube.com/watch?start=30.0&amp;end=4...</td>\n",
       "      <td>'' LE DOLLAR DU RABBI POUR RAV SITRUK ''</td>\n",
       "    </tr>\n",
       "    <tr>\n",
       "      <th>1</th>\n",
       "      <td>---qub7uxgs</td>\n",
       "      <td>30.0</td>\n",
       "      <td>40.0</td>\n",
       "      <td>https://www.youtube.com/watch?start=30.0&amp;end=4...</td>\n",
       "      <td>World of Tanks - Kako smanjiti PING, povecati ...</td>\n",
       "    </tr>\n",
       "    <tr>\n",
       "      <th>2</th>\n",
       "      <td>--0B3G_C3qc</td>\n",
       "      <td>10.0</td>\n",
       "      <td>20.0</td>\n",
       "      <td>https://www.youtube.com/watch?start=10.0&amp;end=2...</td>\n",
       "      <td>Bulldog</td>\n",
       "    </tr>\n",
       "    <tr>\n",
       "      <th>3</th>\n",
       "      <td>--0CNhurbZE</td>\n",
       "      <td>30.0</td>\n",
       "      <td>40.0</td>\n",
       "      <td>https://www.youtube.com/watch?start=30.0&amp;end=4...</td>\n",
       "      <td>when your trying to steal your dads car and yo...</td>\n",
       "    </tr>\n",
       "    <tr>\n",
       "      <th>4</th>\n",
       "      <td>--0F7kbzAMA</td>\n",
       "      <td>30.0</td>\n",
       "      <td>40.0</td>\n",
       "      <td>https://www.youtube.com/watch?start=30.0&amp;end=4...</td>\n",
       "      <td>1967 Chevrolet Camaro 427 Big Block Walk Around</td>\n",
       "    </tr>\n",
       "    <tr>\n",
       "      <th>...</th>\n",
       "      <td>...</td>\n",
       "      <td>...</td>\n",
       "      <td>...</td>\n",
       "      <td>...</td>\n",
       "      <td>...</td>\n",
       "    </tr>\n",
       "    <tr>\n",
       "      <th>1995</th>\n",
       "      <td>-7XIMWccluU</td>\n",
       "      <td>20.0</td>\n",
       "      <td>30.0</td>\n",
       "      <td>https://www.youtube.com/watch?start=20.0&amp;end=3...</td>\n",
       "      <td>None</td>\n",
       "    </tr>\n",
       "    <tr>\n",
       "      <th>1996</th>\n",
       "      <td>-7XmisQJQzM</td>\n",
       "      <td>30.0</td>\n",
       "      <td>40.0</td>\n",
       "      <td>https://www.youtube.com/watch?start=30.0&amp;end=4...</td>\n",
       "      <td>None</td>\n",
       "    </tr>\n",
       "    <tr>\n",
       "      <th>1997</th>\n",
       "      <td>-7ZXgDaoksk</td>\n",
       "      <td>4.0</td>\n",
       "      <td>14.0</td>\n",
       "      <td>https://www.youtube.com/watch?start=4.0&amp;end=14...</td>\n",
       "      <td>Ashton and Calum's writing adventures x</td>\n",
       "    </tr>\n",
       "    <tr>\n",
       "      <th>1998</th>\n",
       "      <td>-7Zf4g6LaFE</td>\n",
       "      <td>10.0</td>\n",
       "      <td>20.0</td>\n",
       "      <td>https://www.youtube.com/watch?start=10.0&amp;end=2...</td>\n",
       "      <td>5 Seconds Of Summer - Keek - There's a spider ...</td>\n",
       "    </tr>\n",
       "    <tr>\n",
       "      <th>1999</th>\n",
       "      <td>-7ZpO5sRQGw</td>\n",
       "      <td>30.0</td>\n",
       "      <td>40.0</td>\n",
       "      <td>https://www.youtube.com/watch?start=30.0&amp;end=4...</td>\n",
       "      <td>How To Chop Breaks In Ableton - Part 3: Chop Y...</td>\n",
       "    </tr>\n",
       "  </tbody>\n",
       "</table>\n",
       "<p>2000 rows × 5 columns</p>\n",
       "</div>"
      ],
      "text/plain": [
       "             YTID  start_seconds  end_seconds  \\\n",
       "0     ---2_BBVHAA           30.0         40.0   \n",
       "1     ---qub7uxgs           30.0         40.0   \n",
       "2     --0B3G_C3qc           10.0         20.0   \n",
       "3     --0CNhurbZE           30.0         40.0   \n",
       "4     --0F7kbzAMA           30.0         40.0   \n",
       "...           ...            ...          ...   \n",
       "1995  -7XIMWccluU           20.0         30.0   \n",
       "1996  -7XmisQJQzM           30.0         40.0   \n",
       "1997  -7ZXgDaoksk            4.0         14.0   \n",
       "1998  -7Zf4g6LaFE           10.0         20.0   \n",
       "1999  -7ZpO5sRQGw           30.0         40.0   \n",
       "\n",
       "                                               videoURL  \\\n",
       "0     https://www.youtube.com/watch?start=30.0&end=4...   \n",
       "1     https://www.youtube.com/watch?start=30.0&end=4...   \n",
       "2     https://www.youtube.com/watch?start=10.0&end=2...   \n",
       "3     https://www.youtube.com/watch?start=30.0&end=4...   \n",
       "4     https://www.youtube.com/watch?start=30.0&end=4...   \n",
       "...                                                 ...   \n",
       "1995  https://www.youtube.com/watch?start=20.0&end=3...   \n",
       "1996  https://www.youtube.com/watch?start=30.0&end=4...   \n",
       "1997  https://www.youtube.com/watch?start=4.0&end=14...   \n",
       "1998  https://www.youtube.com/watch?start=10.0&end=2...   \n",
       "1999  https://www.youtube.com/watch?start=30.0&end=4...   \n",
       "\n",
       "                                              audioFile  \n",
       "0              '' LE DOLLAR DU RABBI POUR RAV SITRUK ''  \n",
       "1     World of Tanks - Kako smanjiti PING, povecati ...  \n",
       "2                                               Bulldog  \n",
       "3     when your trying to steal your dads car and yo...  \n",
       "4       1967 Chevrolet Camaro 427 Big Block Walk Around  \n",
       "...                                                 ...  \n",
       "1995                                               None  \n",
       "1996                                               None  \n",
       "1997            Ashton and Calum's writing adventures x  \n",
       "1998  5 Seconds Of Summer - Keek - There's a spider ...  \n",
       "1999  How To Chop Breaks In Ableton - Part 3: Chop Y...  \n",
       "\n",
       "[2000 rows x 5 columns]"
      ]
     },
     "execution_count": 24,
     "metadata": {},
     "output_type": "execute_result"
    }
   ],
   "source": [
    "speechDF"
   ]
  },
  {
   "cell_type": "code",
   "execution_count": 25,
   "metadata": {},
   "outputs": [],
   "source": [
    "os.chdir('../..')"
   ]
  },
  {
   "cell_type": "code",
   "execution_count": 1,
   "metadata": {},
   "outputs": [
    {
     "data": {
      "text/plain": [
       "'/mnt/batch/tasks/shared/LS_root/mounts/clusters/elephant-rumble-yash/code/Users/yash/Model2'"
      ]
     },
     "execution_count": 1,
     "metadata": {},
     "output_type": "execute_result"
    }
   ],
   "source": [
    "os.getcwd()"
   ]
  },
  {
   "cell_type": "code",
   "execution_count": 27,
   "metadata": {},
   "outputs": [],
   "source": [
    "speechDF.to_csv('speech-csv-file.csv', index=False)"
   ]
  },
  {
   "cell_type": "code",
   "execution_count": null,
   "metadata": {},
   "outputs": [],
   "source": []
  },
  {
   "cell_type": "code",
   "execution_count": null,
   "metadata": {},
   "outputs": [],
   "source": []
  },
  {
   "cell_type": "code",
   "execution_count": null,
   "metadata": {},
   "outputs": [],
   "source": []
  },
  {
   "cell_type": "code",
   "execution_count": 6,
   "metadata": {},
   "outputs": [],
   "source": [
    "speechDF = pd.read_csv('speech-csv-file.csv')"
   ]
  },
  {
   "cell_type": "code",
   "execution_count": 7,
   "metadata": {},
   "outputs": [],
   "source": [
    "speechDF = speechDF[speechDF['audioFile'].apply(lambda x: x is not (None or np.nan))]"
   ]
  },
  {
   "cell_type": "code",
   "execution_count": 8,
   "metadata": {},
   "outputs": [],
   "source": [
    "speechDF.reset_index(inplace = True)"
   ]
  },
  {
   "cell_type": "code",
   "execution_count": 9,
   "metadata": {},
   "outputs": [
    {
     "data": {
      "text/html": [
       "<div>\n",
       "<style scoped>\n",
       "    .dataframe tbody tr th:only-of-type {\n",
       "        vertical-align: middle;\n",
       "    }\n",
       "\n",
       "    .dataframe tbody tr th {\n",
       "        vertical-align: top;\n",
       "    }\n",
       "\n",
       "    .dataframe thead th {\n",
       "        text-align: right;\n",
       "    }\n",
       "</style>\n",
       "<table border=\"1\" class=\"dataframe\">\n",
       "  <thead>\n",
       "    <tr style=\"text-align: right;\">\n",
       "      <th></th>\n",
       "      <th>index</th>\n",
       "      <th>YTID</th>\n",
       "      <th>start_seconds</th>\n",
       "      <th>end_seconds</th>\n",
       "      <th>videoURL</th>\n",
       "      <th>audioFile</th>\n",
       "    </tr>\n",
       "  </thead>\n",
       "  <tbody>\n",
       "    <tr>\n",
       "      <th>0</th>\n",
       "      <td>0</td>\n",
       "      <td>---2_BBVHAA</td>\n",
       "      <td>30.0</td>\n",
       "      <td>40.0</td>\n",
       "      <td>https://www.youtube.com/watch?start=30.0&amp;end=4...</td>\n",
       "      <td>'' LE DOLLAR DU RABBI POUR RAV SITRUK ''</td>\n",
       "    </tr>\n",
       "    <tr>\n",
       "      <th>1</th>\n",
       "      <td>1</td>\n",
       "      <td>---qub7uxgs</td>\n",
       "      <td>30.0</td>\n",
       "      <td>40.0</td>\n",
       "      <td>https://www.youtube.com/watch?start=30.0&amp;end=4...</td>\n",
       "      <td>World of Tanks - Kako smanjiti PING, povecati ...</td>\n",
       "    </tr>\n",
       "    <tr>\n",
       "      <th>2</th>\n",
       "      <td>2</td>\n",
       "      <td>--0B3G_C3qc</td>\n",
       "      <td>10.0</td>\n",
       "      <td>20.0</td>\n",
       "      <td>https://www.youtube.com/watch?start=10.0&amp;end=2...</td>\n",
       "      <td>Bulldog</td>\n",
       "    </tr>\n",
       "    <tr>\n",
       "      <th>3</th>\n",
       "      <td>3</td>\n",
       "      <td>--0CNhurbZE</td>\n",
       "      <td>30.0</td>\n",
       "      <td>40.0</td>\n",
       "      <td>https://www.youtube.com/watch?start=30.0&amp;end=4...</td>\n",
       "      <td>when your trying to steal your dads car and yo...</td>\n",
       "    </tr>\n",
       "    <tr>\n",
       "      <th>4</th>\n",
       "      <td>4</td>\n",
       "      <td>--0F7kbzAMA</td>\n",
       "      <td>30.0</td>\n",
       "      <td>40.0</td>\n",
       "      <td>https://www.youtube.com/watch?start=30.0&amp;end=4...</td>\n",
       "      <td>1967 Chevrolet Camaro 427 Big Block Walk Around</td>\n",
       "    </tr>\n",
       "    <tr>\n",
       "      <th>5</th>\n",
       "      <td>5</td>\n",
       "      <td>--0MF9K5N30</td>\n",
       "      <td>30.0</td>\n",
       "      <td>40.0</td>\n",
       "      <td>https://www.youtube.com/watch?start=30.0&amp;end=4...</td>\n",
       "      <td>Porsche Panamera GTS Sound vs. BMW M4 Sound</td>\n",
       "    </tr>\n",
       "    <tr>\n",
       "      <th>6</th>\n",
       "      <td>6</td>\n",
       "      <td>--0pVlB7mQ8</td>\n",
       "      <td>30.0</td>\n",
       "      <td>40.0</td>\n",
       "      <td>https://www.youtube.com/watch?start=30.0&amp;end=4...</td>\n",
       "      <td>Marpac Sound Screen 980A</td>\n",
       "    </tr>\n",
       "    <tr>\n",
       "      <th>7</th>\n",
       "      <td>7</td>\n",
       "      <td>--0ukMG7yH4</td>\n",
       "      <td>30.0</td>\n",
       "      <td>40.0</td>\n",
       "      <td>https://www.youtube.com/watch?start=30.0&amp;end=4...</td>\n",
       "      <td>Minecraft Tutorial - Combustion Engine with Un...</td>\n",
       "    </tr>\n",
       "    <tr>\n",
       "      <th>8</th>\n",
       "      <td>8</td>\n",
       "      <td>--1Bi_4aXyU</td>\n",
       "      <td>30.0</td>\n",
       "      <td>40.0</td>\n",
       "      <td>https://www.youtube.com/watch?start=30.0&amp;end=4...</td>\n",
       "      <td>BYRD BURTON - Acoustic guitar performance, Jul...</td>\n",
       "    </tr>\n",
       "    <tr>\n",
       "      <th>9</th>\n",
       "      <td>9</td>\n",
       "      <td>--1nnAww5MY</td>\n",
       "      <td>170.0</td>\n",
       "      <td>180.0</td>\n",
       "      <td>https://www.youtube.com/watch?start=170.0&amp;end=...</td>\n",
       "      <td>Game of S.C.O.O.T - Ollie, Charlie, Josh, Oska...</td>\n",
       "    </tr>\n",
       "    <tr>\n",
       "      <th>10</th>\n",
       "      <td>10</td>\n",
       "      <td>--27rbu__kM</td>\n",
       "      <td>30.0</td>\n",
       "      <td>40.0</td>\n",
       "      <td>https://www.youtube.com/watch?start=30.0&amp;end=4...</td>\n",
       "      <td>Car Wash..... sort of....</td>\n",
       "    </tr>\n",
       "    <tr>\n",
       "      <th>11</th>\n",
       "      <td>11</td>\n",
       "      <td>--296-zXH3I</td>\n",
       "      <td>30.0</td>\n",
       "      <td>40.0</td>\n",
       "      <td>https://www.youtube.com/watch?start=30.0&amp;end=4...</td>\n",
       "      <td>There's A Dog In The Doctor's Office!</td>\n",
       "    </tr>\n",
       "    <tr>\n",
       "      <th>12</th>\n",
       "      <td>12</td>\n",
       "      <td>--2ENPwFQLY</td>\n",
       "      <td>30.0</td>\n",
       "      <td>40.0</td>\n",
       "      <td>https://www.youtube.com/watch?start=30.0&amp;end=4...</td>\n",
       "      <td>Scherzo a Paolo Cannavaro fatto da Lorenzo Ins...</td>\n",
       "    </tr>\n",
       "    <tr>\n",
       "      <th>13</th>\n",
       "      <td>14</td>\n",
       "      <td>--30J4RIDXs</td>\n",
       "      <td>30.0</td>\n",
       "      <td>40.0</td>\n",
       "      <td>https://www.youtube.com/watch?start=30.0&amp;end=4...</td>\n",
       "      <td>Music Therapy Class at The Learning Lane</td>\n",
       "    </tr>\n",
       "    <tr>\n",
       "      <th>14</th>\n",
       "      <td>16</td>\n",
       "      <td>--3SH5_r-BU</td>\n",
       "      <td>30.0</td>\n",
       "      <td>40.0</td>\n",
       "      <td>https://www.youtube.com/watch?start=30.0&amp;end=4...</td>\n",
       "      <td>La #TeamMrMathers remporte le concours de la l...</td>\n",
       "    </tr>\n",
       "    <tr>\n",
       "      <th>15</th>\n",
       "      <td>17</td>\n",
       "      <td>--3T7dwFLjU</td>\n",
       "      <td>30.0</td>\n",
       "      <td>40.0</td>\n",
       "      <td>https://www.youtube.com/watch?start=30.0&amp;end=4...</td>\n",
       "      <td>Amarpreet (bamb) singing</td>\n",
       "    </tr>\n",
       "    <tr>\n",
       "      <th>16</th>\n",
       "      <td>18</td>\n",
       "      <td>--3mqI-rLFQ</td>\n",
       "      <td>30.0</td>\n",
       "      <td>40.0</td>\n",
       "      <td>https://www.youtube.com/watch?start=30.0&amp;end=4...</td>\n",
       "      <td>Pack 737 Arrow of Light Ceremony 2003</td>\n",
       "    </tr>\n",
       "    <tr>\n",
       "      <th>17</th>\n",
       "      <td>19</td>\n",
       "      <td>--44ksVCX4g</td>\n",
       "      <td>130.0</td>\n",
       "      <td>140.0</td>\n",
       "      <td>https://www.youtube.com/watch?start=130.0&amp;end=...</td>\n",
       "      <td>WWESHOP Unboxing</td>\n",
       "    </tr>\n",
       "    <tr>\n",
       "      <th>18</th>\n",
       "      <td>20</td>\n",
       "      <td>--4AZakCudI</td>\n",
       "      <td>30.0</td>\n",
       "      <td>40.0</td>\n",
       "      <td>https://www.youtube.com/watch?start=30.0&amp;end=4...</td>\n",
       "      <td>SquatchFace RC Review of the Traxxas Slash 4 x...</td>\n",
       "    </tr>\n",
       "    <tr>\n",
       "      <th>19</th>\n",
       "      <td>21</td>\n",
       "      <td>--4CM0LIKBA</td>\n",
       "      <td>30.0</td>\n",
       "      <td>40.0</td>\n",
       "      <td>https://www.youtube.com/watch?start=30.0&amp;end=4...</td>\n",
       "      <td>Ghost Flips Camera</td>\n",
       "    </tr>\n",
       "  </tbody>\n",
       "</table>\n",
       "</div>"
      ],
      "text/plain": [
       "    index         YTID  start_seconds  end_seconds  \\\n",
       "0       0  ---2_BBVHAA           30.0         40.0   \n",
       "1       1  ---qub7uxgs           30.0         40.0   \n",
       "2       2  --0B3G_C3qc           10.0         20.0   \n",
       "3       3  --0CNhurbZE           30.0         40.0   \n",
       "4       4  --0F7kbzAMA           30.0         40.0   \n",
       "5       5  --0MF9K5N30           30.0         40.0   \n",
       "6       6  --0pVlB7mQ8           30.0         40.0   \n",
       "7       7  --0ukMG7yH4           30.0         40.0   \n",
       "8       8  --1Bi_4aXyU           30.0         40.0   \n",
       "9       9  --1nnAww5MY          170.0        180.0   \n",
       "10     10  --27rbu__kM           30.0         40.0   \n",
       "11     11  --296-zXH3I           30.0         40.0   \n",
       "12     12  --2ENPwFQLY           30.0         40.0   \n",
       "13     14  --30J4RIDXs           30.0         40.0   \n",
       "14     16  --3SH5_r-BU           30.0         40.0   \n",
       "15     17  --3T7dwFLjU           30.0         40.0   \n",
       "16     18  --3mqI-rLFQ           30.0         40.0   \n",
       "17     19  --44ksVCX4g          130.0        140.0   \n",
       "18     20  --4AZakCudI           30.0         40.0   \n",
       "19     21  --4CM0LIKBA           30.0         40.0   \n",
       "\n",
       "                                             videoURL  \\\n",
       "0   https://www.youtube.com/watch?start=30.0&end=4...   \n",
       "1   https://www.youtube.com/watch?start=30.0&end=4...   \n",
       "2   https://www.youtube.com/watch?start=10.0&end=2...   \n",
       "3   https://www.youtube.com/watch?start=30.0&end=4...   \n",
       "4   https://www.youtube.com/watch?start=30.0&end=4...   \n",
       "5   https://www.youtube.com/watch?start=30.0&end=4...   \n",
       "6   https://www.youtube.com/watch?start=30.0&end=4...   \n",
       "7   https://www.youtube.com/watch?start=30.0&end=4...   \n",
       "8   https://www.youtube.com/watch?start=30.0&end=4...   \n",
       "9   https://www.youtube.com/watch?start=170.0&end=...   \n",
       "10  https://www.youtube.com/watch?start=30.0&end=4...   \n",
       "11  https://www.youtube.com/watch?start=30.0&end=4...   \n",
       "12  https://www.youtube.com/watch?start=30.0&end=4...   \n",
       "13  https://www.youtube.com/watch?start=30.0&end=4...   \n",
       "14  https://www.youtube.com/watch?start=30.0&end=4...   \n",
       "15  https://www.youtube.com/watch?start=30.0&end=4...   \n",
       "16  https://www.youtube.com/watch?start=30.0&end=4...   \n",
       "17  https://www.youtube.com/watch?start=130.0&end=...   \n",
       "18  https://www.youtube.com/watch?start=30.0&end=4...   \n",
       "19  https://www.youtube.com/watch?start=30.0&end=4...   \n",
       "\n",
       "                                            audioFile  \n",
       "0            '' LE DOLLAR DU RABBI POUR RAV SITRUK ''  \n",
       "1   World of Tanks - Kako smanjiti PING, povecati ...  \n",
       "2                                             Bulldog  \n",
       "3   when your trying to steal your dads car and yo...  \n",
       "4     1967 Chevrolet Camaro 427 Big Block Walk Around  \n",
       "5         Porsche Panamera GTS Sound vs. BMW M4 Sound  \n",
       "6                            Marpac Sound Screen 980A  \n",
       "7   Minecraft Tutorial - Combustion Engine with Un...  \n",
       "8   BYRD BURTON - Acoustic guitar performance, Jul...  \n",
       "9   Game of S.C.O.O.T - Ollie, Charlie, Josh, Oska...  \n",
       "10                          Car Wash..... sort of....  \n",
       "11              There's A Dog In The Doctor's Office!  \n",
       "12  Scherzo a Paolo Cannavaro fatto da Lorenzo Ins...  \n",
       "13           Music Therapy Class at The Learning Lane  \n",
       "14  La #TeamMrMathers remporte le concours de la l...  \n",
       "15                           Amarpreet (bamb) singing  \n",
       "16              Pack 737 Arrow of Light Ceremony 2003  \n",
       "17                                   WWESHOP Unboxing  \n",
       "18  SquatchFace RC Review of the Traxxas Slash 4 x...  \n",
       "19                                 Ghost Flips Camera  "
      ]
     },
     "execution_count": 9,
     "metadata": {},
     "output_type": "execute_result"
    }
   ],
   "source": [
    "speechDF.head(20)"
   ]
  },
  {
   "cell_type": "code",
   "execution_count": null,
   "metadata": {},
   "outputs": [
    {
     "name": "stderr",
     "output_type": "stream",
     "text": [
      "422it [1:55:29, 11.12s/it]"
     ]
    },
    {
     "name": "stdout",
     "output_type": "stream",
     "text": [
      "Error parsing File: Korean Pop group learn to dive\n"
     ]
    },
    {
     "name": "stderr",
     "output_type": "stream",
     "text": [
      "1047it [4:48:27,  5.33s/it]"
     ]
    },
    {
     "name": "stdout",
     "output_type": "stream",
     "text": [
      "Error parsing File: Blender Minecraft Grass Scene Tutorial 1 - Creating and Animating\n"
     ]
    },
    {
     "name": "stderr",
     "output_type": "stream",
     "text": [
      "1428it [6:40:55, 11.96s/it]"
     ]
    },
    {
     "name": "stdout",
     "output_type": "stream",
     "text": [
      "Error parsing File: Bow Wow colabs w/ SMACK & URL TV  for 106&Park's Freestyle Friday\n"
     ]
    },
    {
     "name": "stderr",
     "output_type": "stream",
     "text": [
      "1434it [6:42:23, 15.51s/it]"
     ]
    },
    {
     "name": "stdout",
     "output_type": "stream",
     "text": [
      "Error parsing File: Batman Arkham Knight - Saving Commissioner Gordon (Part 16) PS4\n"
     ]
    },
    {
     "name": "stderr",
     "output_type": "stream",
     "text": [
      "1576it [7:15:27, 14.09s/it]"
     ]
    }
   ],
   "source": [
    "import librosa\n",
    "import math\n",
    "import soundfile as sf\n",
    "\n",
    "listedFiles = os.listdir('./Data/HumanSpeech')\n",
    "counter = 1\n",
    "\n",
    "for row in tqdm(speechDF.iterrows()):\n",
    "    try:\n",
    "        start = row[1][2]\n",
    "        end = row[1][3]\n",
    "        fileName = row[1][5]\n",
    "\n",
    "        finalFileNameList = list(filter(lambda string: string.startswith(fileName), listedFiles))\n",
    "\n",
    "        if len(finalFileNameList) == 0:\n",
    "            fileName = fileName.replace('/','_')\n",
    "            finalFileNameList = list(filter(lambda string: string.startswith(fileName), listedFiles))\n",
    "\n",
    "        finalFileName = finalFileNameList[0]\n",
    "\n",
    "        fileParse = './Data/HumanSpeech/' + finalFileName\n",
    "        audio,sample_rate = librosa.load(fileParse)\n",
    "\n",
    "        startPoint = math.floor(start*sample_rate)\n",
    "        endPoint = math.ceil(end*sample_rate)\n",
    "\n",
    "        newAudio = audio[startPoint:endPoint+1]\n",
    "        outFileName = './Data/newHumanSpeech/speech_{}.wav'.format(counter)\n",
    "\n",
    "        sf.write(outFileName,newAudio,sample_rate, 'PCM_24')\n",
    "        counter+=1\n",
    "\n",
    "    except:\n",
    "        print('Error parsing File:',row[1][5])\n",
    "\n",
    "    "
   ]
  },
  {
   "cell_type": "code",
   "execution_count": null,
   "metadata": {},
   "outputs": [],
   "source": []
  },
  {
   "cell_type": "code",
   "execution_count": null,
   "metadata": {},
   "outputs": [],
   "source": [
    "print(counter)"
   ]
  },
  {
   "cell_type": "code",
   "execution_count": null,
   "metadata": {},
   "outputs": [],
   "source": [
    "len(os.listdir('./Data/newHumanSpeech'))"
   ]
  },
  {
   "cell_type": "code",
   "execution_count": null,
   "metadata": {},
   "outputs": [],
   "source": []
  },
  {
   "cell_type": "code",
   "execution_count": 4,
   "metadata": {},
   "outputs": [],
   "source": [
    "import librosa\n",
    "\n",
    "aud,sr = librosa.load('../../Mubin/Data/Training/Rumbles/rumble_1.wav',sr=None)"
   ]
  },
  {
   "cell_type": "code",
   "execution_count": 5,
   "metadata": {},
   "outputs": [
    {
     "data": {
      "text/plain": [
       "8000"
      ]
     },
     "execution_count": 5,
     "metadata": {},
     "output_type": "execute_result"
    }
   ],
   "source": [
    "sr"
   ]
  }
 ],
 "metadata": {
  "kernel_info": {
   "name": "python3-azureml"
  },
  "kernelspec": {
   "display_name": "Python 3.6 - AzureML",
   "language": "python",
   "name": "python3-azureml"
  },
  "language_info": {
   "codemirror_mode": {
    "name": "ipython",
    "version": 3
   },
   "file_extension": ".py",
   "mimetype": "text/x-python",
   "name": "python",
   "nbconvert_exporter": "python",
   "pygments_lexer": "ipython3",
   "version": "3.6.9"
  },
  "nteract": {
   "version": "nteract-front-end@1.0.0"
  }
 },
 "nbformat": 4,
 "nbformat_minor": 2
}

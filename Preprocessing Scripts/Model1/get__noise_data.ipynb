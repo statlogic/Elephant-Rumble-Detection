{
 "cells": [
  {
   "cell_type": "code",
   "execution_count": 31,
   "metadata": {},
   "outputs": [],
   "source": [
    "import os\n",
    "import boto3\n",
    "from botocore.handlers import disable_signing\n",
    "import pandas as pd\n",
    "import numpy as np\n",
    "import os\n",
    "from tqdm import tqdm\n",
    "from scipy.io import wavfile\n",
    "import math"
   ]
  },
  {
   "cell_type": "code",
   "execution_count": 32,
   "metadata": {},
   "outputs": [
    {
     "data": {
      "text/plain": [
       "'1.15.18'"
      ]
     },
     "execution_count": 32,
     "metadata": {},
     "output_type": "execute_result"
    }
   ],
   "source": [
    "boto3.__version__"
   ]
  },
  {
   "cell_type": "code",
   "execution_count": 33,
   "metadata": {},
   "outputs": [
    {
     "data": {
      "text/plain": [
       "'1.18.5'"
      ]
     },
     "execution_count": 33,
     "metadata": {},
     "output_type": "execute_result"
    }
   ],
   "source": [
    "np.__version__"
   ]
  },
  {
   "cell_type": "code",
   "execution_count": 34,
   "metadata": {},
   "outputs": [],
   "source": [
    "s3 = boto3.resource('s3')\n",
    "s3.meta.client.meta.events.register('choose-signer.s3.*', disable_signing)\n",
    "bucket = s3.Bucket('congo8khz-pnnn')"
   ]
  },
  {
   "cell_type": "code",
   "execution_count": 35,
   "metadata": {},
   "outputs": [],
   "source": [
    "training_set = pd.read_csv('../mubin/TrainingSet_rumble_info.txt', sep = '\\t')"
   ]
  },
  {
   "cell_type": "code",
   "execution_count": 36,
   "metadata": {},
   "outputs": [
    {
     "data": {
      "text/html": [
       "<div>\n",
       "<style scoped>\n",
       "    .dataframe tbody tr th:only-of-type {\n",
       "        vertical-align: middle;\n",
       "    }\n",
       "\n",
       "    .dataframe tbody tr th {\n",
       "        vertical-align: top;\n",
       "    }\n",
       "\n",
       "    .dataframe thead th {\n",
       "        text-align: right;\n",
       "    }\n",
       "</style>\n",
       "<table border=\"1\" class=\"dataframe\">\n",
       "  <thead>\n",
       "    <tr style=\"text-align: right;\">\n",
       "      <th></th>\n",
       "      <th>Selection</th>\n",
       "      <th>High Freq (Hz)</th>\n",
       "      <th>File Offset (s)</th>\n",
       "      <th>filename</th>\n",
       "      <th>duration</th>\n",
       "      <th>marginals</th>\n",
       "    </tr>\n",
       "  </thead>\n",
       "  <tbody>\n",
       "    <tr>\n",
       "      <th>0</th>\n",
       "      <td>1</td>\n",
       "      <td>49.7</td>\n",
       "      <td>48860.426</td>\n",
       "      <td>nn01a_20180126_000000.wav</td>\n",
       "      <td>6.2622</td>\n",
       "      <td>NaN</td>\n",
       "    </tr>\n",
       "    <tr>\n",
       "      <th>1</th>\n",
       "      <td>2</td>\n",
       "      <td>47.9</td>\n",
       "      <td>48865.100</td>\n",
       "      <td>nn01a_20180126_000000.wav</td>\n",
       "      <td>3.8974</td>\n",
       "      <td>NaN</td>\n",
       "    </tr>\n",
       "    <tr>\n",
       "      <th>2</th>\n",
       "      <td>3</td>\n",
       "      <td>49.7</td>\n",
       "      <td>48869.829</td>\n",
       "      <td>nn01a_20180126_000000.wav</td>\n",
       "      <td>4.2672</td>\n",
       "      <td>NaN</td>\n",
       "    </tr>\n",
       "    <tr>\n",
       "      <th>3</th>\n",
       "      <td>4</td>\n",
       "      <td>58.1</td>\n",
       "      <td>48876.017</td>\n",
       "      <td>nn01a_20180126_000000.wav</td>\n",
       "      <td>4.0640</td>\n",
       "      <td>NaN</td>\n",
       "    </tr>\n",
       "    <tr>\n",
       "      <th>4</th>\n",
       "      <td>5</td>\n",
       "      <td>57.1</td>\n",
       "      <td>48880.487</td>\n",
       "      <td>nn01a_20180126_000000.wav</td>\n",
       "      <td>4.3227</td>\n",
       "      <td>NaN</td>\n",
       "    </tr>\n",
       "    <tr>\n",
       "      <th>...</th>\n",
       "      <td>...</td>\n",
       "      <td>...</td>\n",
       "      <td>...</td>\n",
       "      <td>...</td>\n",
       "      <td>...</td>\n",
       "      <td>...</td>\n",
       "    </tr>\n",
       "    <tr>\n",
       "      <th>3175</th>\n",
       "      <td>3176</td>\n",
       "      <td>44.1</td>\n",
       "      <td>86263.733</td>\n",
       "      <td>nn10b_20180728_000000.wav</td>\n",
       "      <td>2.2700</td>\n",
       "      <td>NaN</td>\n",
       "    </tr>\n",
       "    <tr>\n",
       "      <th>3176</th>\n",
       "      <td>3177</td>\n",
       "      <td>33.6</td>\n",
       "      <td>86264.870</td>\n",
       "      <td>nn10b_20180728_000000.wav</td>\n",
       "      <td>6.4400</td>\n",
       "      <td>NaN</td>\n",
       "    </tr>\n",
       "    <tr>\n",
       "      <th>3177</th>\n",
       "      <td>3178</td>\n",
       "      <td>44.1</td>\n",
       "      <td>86269.957</td>\n",
       "      <td>nn10b_20180728_000000.wav</td>\n",
       "      <td>6.3800</td>\n",
       "      <td>NaN</td>\n",
       "    </tr>\n",
       "    <tr>\n",
       "      <th>3178</th>\n",
       "      <td>3179</td>\n",
       "      <td>29.0</td>\n",
       "      <td>86300.628</td>\n",
       "      <td>nn10b_20180728_000000.wav</td>\n",
       "      <td>3.4700</td>\n",
       "      <td>NaN</td>\n",
       "    </tr>\n",
       "    <tr>\n",
       "      <th>3179</th>\n",
       "      <td>3180</td>\n",
       "      <td>38.3</td>\n",
       "      <td>86303.758</td>\n",
       "      <td>nn10b_20180728_000000.wav</td>\n",
       "      <td>2.3900</td>\n",
       "      <td>marginal</td>\n",
       "    </tr>\n",
       "  </tbody>\n",
       "</table>\n",
       "<p>3180 rows × 6 columns</p>\n",
       "</div>"
      ],
      "text/plain": [
       "      Selection  High Freq (Hz)  File Offset (s)                   filename  \\\n",
       "0             1            49.7        48860.426  nn01a_20180126_000000.wav   \n",
       "1             2            47.9        48865.100  nn01a_20180126_000000.wav   \n",
       "2             3            49.7        48869.829  nn01a_20180126_000000.wav   \n",
       "3             4            58.1        48876.017  nn01a_20180126_000000.wav   \n",
       "4             5            57.1        48880.487  nn01a_20180126_000000.wav   \n",
       "...         ...             ...              ...                        ...   \n",
       "3175       3176            44.1        86263.733  nn10b_20180728_000000.wav   \n",
       "3176       3177            33.6        86264.870  nn10b_20180728_000000.wav   \n",
       "3177       3178            44.1        86269.957  nn10b_20180728_000000.wav   \n",
       "3178       3179            29.0        86300.628  nn10b_20180728_000000.wav   \n",
       "3179       3180            38.3        86303.758  nn10b_20180728_000000.wav   \n",
       "\n",
       "      duration marginals  \n",
       "0       6.2622       NaN  \n",
       "1       3.8974       NaN  \n",
       "2       4.2672       NaN  \n",
       "3       4.0640       NaN  \n",
       "4       4.3227       NaN  \n",
       "...        ...       ...  \n",
       "3175    2.2700       NaN  \n",
       "3176    6.4400       NaN  \n",
       "3177    6.3800       NaN  \n",
       "3178    3.4700       NaN  \n",
       "3179    2.3900  marginal  \n",
       "\n",
       "[3180 rows x 6 columns]"
      ]
     },
     "execution_count": 36,
     "metadata": {},
     "output_type": "execute_result"
    }
   ],
   "source": [
    "training_set"
   ]
  },
  {
   "cell_type": "code",
   "execution_count": 37,
   "metadata": {},
   "outputs": [],
   "source": [
    "def get_parent(col):\n",
    "    return col.split('_')[0]"
   ]
  },
  {
   "cell_type": "code",
   "execution_count": 38,
   "metadata": {},
   "outputs": [],
   "source": [
    "training_set['Parent'] = training_set['filename'].apply(get_parent)"
   ]
  },
  {
   "cell_type": "code",
   "execution_count": 39,
   "metadata": {},
   "outputs": [],
   "source": [
    "training_set['Folder'] = ['Training']*len(training_set)"
   ]
  },
  {
   "cell_type": "code",
   "execution_count": 40,
   "metadata": {},
   "outputs": [
    {
     "data": {
      "text/plain": [
       "marginal    945\n",
       "Name: marginals, dtype: int64"
      ]
     },
     "execution_count": 40,
     "metadata": {},
     "output_type": "execute_result"
    }
   ],
   "source": [
    "training_set['marginals'].value_counts()"
   ]
  },
  {
   "cell_type": "code",
   "execution_count": 41,
   "metadata": {},
   "outputs": [
    {
     "data": {
      "text/html": [
       "<div>\n",
       "<style scoped>\n",
       "    .dataframe tbody tr th:only-of-type {\n",
       "        vertical-align: middle;\n",
       "    }\n",
       "\n",
       "    .dataframe tbody tr th {\n",
       "        vertical-align: top;\n",
       "    }\n",
       "\n",
       "    .dataframe thead th {\n",
       "        text-align: right;\n",
       "    }\n",
       "</style>\n",
       "<table border=\"1\" class=\"dataframe\">\n",
       "  <thead>\n",
       "    <tr style=\"text-align: right;\">\n",
       "      <th></th>\n",
       "      <th>Selection</th>\n",
       "      <th>High Freq (Hz)</th>\n",
       "      <th>File Offset (s)</th>\n",
       "      <th>filename</th>\n",
       "      <th>duration</th>\n",
       "      <th>marginals</th>\n",
       "      <th>Parent</th>\n",
       "      <th>Folder</th>\n",
       "    </tr>\n",
       "  </thead>\n",
       "  <tbody>\n",
       "    <tr>\n",
       "      <th>0</th>\n",
       "      <td>1</td>\n",
       "      <td>49.7</td>\n",
       "      <td>48860.426</td>\n",
       "      <td>nn01a_20180126_000000.wav</td>\n",
       "      <td>6.2622</td>\n",
       "      <td>NaN</td>\n",
       "      <td>nn01a</td>\n",
       "      <td>Training</td>\n",
       "    </tr>\n",
       "    <tr>\n",
       "      <th>1</th>\n",
       "      <td>2</td>\n",
       "      <td>47.9</td>\n",
       "      <td>48865.100</td>\n",
       "      <td>nn01a_20180126_000000.wav</td>\n",
       "      <td>3.8974</td>\n",
       "      <td>NaN</td>\n",
       "      <td>nn01a</td>\n",
       "      <td>Training</td>\n",
       "    </tr>\n",
       "    <tr>\n",
       "      <th>2</th>\n",
       "      <td>3</td>\n",
       "      <td>49.7</td>\n",
       "      <td>48869.829</td>\n",
       "      <td>nn01a_20180126_000000.wav</td>\n",
       "      <td>4.2672</td>\n",
       "      <td>NaN</td>\n",
       "      <td>nn01a</td>\n",
       "      <td>Training</td>\n",
       "    </tr>\n",
       "    <tr>\n",
       "      <th>3</th>\n",
       "      <td>4</td>\n",
       "      <td>58.1</td>\n",
       "      <td>48876.017</td>\n",
       "      <td>nn01a_20180126_000000.wav</td>\n",
       "      <td>4.0640</td>\n",
       "      <td>NaN</td>\n",
       "      <td>nn01a</td>\n",
       "      <td>Training</td>\n",
       "    </tr>\n",
       "    <tr>\n",
       "      <th>4</th>\n",
       "      <td>5</td>\n",
       "      <td>57.1</td>\n",
       "      <td>48880.487</td>\n",
       "      <td>nn01a_20180126_000000.wav</td>\n",
       "      <td>4.3227</td>\n",
       "      <td>NaN</td>\n",
       "      <td>nn01a</td>\n",
       "      <td>Training</td>\n",
       "    </tr>\n",
       "    <tr>\n",
       "      <th>...</th>\n",
       "      <td>...</td>\n",
       "      <td>...</td>\n",
       "      <td>...</td>\n",
       "      <td>...</td>\n",
       "      <td>...</td>\n",
       "      <td>...</td>\n",
       "      <td>...</td>\n",
       "      <td>...</td>\n",
       "    </tr>\n",
       "    <tr>\n",
       "      <th>3175</th>\n",
       "      <td>3176</td>\n",
       "      <td>44.1</td>\n",
       "      <td>86263.733</td>\n",
       "      <td>nn10b_20180728_000000.wav</td>\n",
       "      <td>2.2700</td>\n",
       "      <td>NaN</td>\n",
       "      <td>nn10b</td>\n",
       "      <td>Training</td>\n",
       "    </tr>\n",
       "    <tr>\n",
       "      <th>3176</th>\n",
       "      <td>3177</td>\n",
       "      <td>33.6</td>\n",
       "      <td>86264.870</td>\n",
       "      <td>nn10b_20180728_000000.wav</td>\n",
       "      <td>6.4400</td>\n",
       "      <td>NaN</td>\n",
       "      <td>nn10b</td>\n",
       "      <td>Training</td>\n",
       "    </tr>\n",
       "    <tr>\n",
       "      <th>3177</th>\n",
       "      <td>3178</td>\n",
       "      <td>44.1</td>\n",
       "      <td>86269.957</td>\n",
       "      <td>nn10b_20180728_000000.wav</td>\n",
       "      <td>6.3800</td>\n",
       "      <td>NaN</td>\n",
       "      <td>nn10b</td>\n",
       "      <td>Training</td>\n",
       "    </tr>\n",
       "    <tr>\n",
       "      <th>3178</th>\n",
       "      <td>3179</td>\n",
       "      <td>29.0</td>\n",
       "      <td>86300.628</td>\n",
       "      <td>nn10b_20180728_000000.wav</td>\n",
       "      <td>3.4700</td>\n",
       "      <td>NaN</td>\n",
       "      <td>nn10b</td>\n",
       "      <td>Training</td>\n",
       "    </tr>\n",
       "    <tr>\n",
       "      <th>3179</th>\n",
       "      <td>3180</td>\n",
       "      <td>38.3</td>\n",
       "      <td>86303.758</td>\n",
       "      <td>nn10b_20180728_000000.wav</td>\n",
       "      <td>2.3900</td>\n",
       "      <td>marginal</td>\n",
       "      <td>nn10b</td>\n",
       "      <td>Training</td>\n",
       "    </tr>\n",
       "  </tbody>\n",
       "</table>\n",
       "<p>3180 rows × 8 columns</p>\n",
       "</div>"
      ],
      "text/plain": [
       "      Selection  High Freq (Hz)  File Offset (s)                   filename  \\\n",
       "0             1            49.7        48860.426  nn01a_20180126_000000.wav   \n",
       "1             2            47.9        48865.100  nn01a_20180126_000000.wav   \n",
       "2             3            49.7        48869.829  nn01a_20180126_000000.wav   \n",
       "3             4            58.1        48876.017  nn01a_20180126_000000.wav   \n",
       "4             5            57.1        48880.487  nn01a_20180126_000000.wav   \n",
       "...         ...             ...              ...                        ...   \n",
       "3175       3176            44.1        86263.733  nn10b_20180728_000000.wav   \n",
       "3176       3177            33.6        86264.870  nn10b_20180728_000000.wav   \n",
       "3177       3178            44.1        86269.957  nn10b_20180728_000000.wav   \n",
       "3178       3179            29.0        86300.628  nn10b_20180728_000000.wav   \n",
       "3179       3180            38.3        86303.758  nn10b_20180728_000000.wav   \n",
       "\n",
       "      duration marginals Parent    Folder  \n",
       "0       6.2622       NaN  nn01a  Training  \n",
       "1       3.8974       NaN  nn01a  Training  \n",
       "2       4.2672       NaN  nn01a  Training  \n",
       "3       4.0640       NaN  nn01a  Training  \n",
       "4       4.3227       NaN  nn01a  Training  \n",
       "...        ...       ...    ...       ...  \n",
       "3175    2.2700       NaN  nn10b  Training  \n",
       "3176    6.4400       NaN  nn10b  Training  \n",
       "3177    6.3800       NaN  nn10b  Training  \n",
       "3178    3.4700       NaN  nn10b  Training  \n",
       "3179    2.3900  marginal  nn10b  Training  \n",
       "\n",
       "[3180 rows x 8 columns]"
      ]
     },
     "execution_count": 41,
     "metadata": {},
     "output_type": "execute_result"
    }
   ],
   "source": [
    "training_set"
   ]
  },
  {
   "cell_type": "code",
   "execution_count": 42,
   "metadata": {},
   "outputs": [],
   "source": [
    "test_set = pd.read_csv('../mubin/GeneralTest_rumble_info.txt', sep = '\\t')"
   ]
  },
  {
   "cell_type": "code",
   "execution_count": 43,
   "metadata": {},
   "outputs": [
    {
     "data": {
      "text/html": [
       "<div>\n",
       "<style scoped>\n",
       "    .dataframe tbody tr th:only-of-type {\n",
       "        vertical-align: middle;\n",
       "    }\n",
       "\n",
       "    .dataframe tbody tr th {\n",
       "        vertical-align: top;\n",
       "    }\n",
       "\n",
       "    .dataframe thead th {\n",
       "        text-align: right;\n",
       "    }\n",
       "</style>\n",
       "<table border=\"1\" class=\"dataframe\">\n",
       "  <thead>\n",
       "    <tr style=\"text-align: right;\">\n",
       "      <th></th>\n",
       "      <th>Selection</th>\n",
       "      <th>High Freq (Hz)</th>\n",
       "      <th>File Offset (s)</th>\n",
       "      <th>filename</th>\n",
       "      <th>duration</th>\n",
       "      <th>marginals</th>\n",
       "    </tr>\n",
       "  </thead>\n",
       "  <tbody>\n",
       "    <tr>\n",
       "      <th>0</th>\n",
       "      <td>1</td>\n",
       "      <td>36.600</td>\n",
       "      <td>29314.080</td>\n",
       "      <td>nn01d_20180127_000000.wav</td>\n",
       "      <td>4.407</td>\n",
       "      <td>NaN</td>\n",
       "    </tr>\n",
       "    <tr>\n",
       "      <th>1</th>\n",
       "      <td>2</td>\n",
       "      <td>31.200</td>\n",
       "      <td>32552.884</td>\n",
       "      <td>nn01d_20180127_000000.wav</td>\n",
       "      <td>3.954</td>\n",
       "      <td>NaN</td>\n",
       "    </tr>\n",
       "    <tr>\n",
       "      <th>2</th>\n",
       "      <td>3</td>\n",
       "      <td>39.100</td>\n",
       "      <td>40181.978</td>\n",
       "      <td>nn01d_20180127_000000.wav</td>\n",
       "      <td>6.526</td>\n",
       "      <td>NaN</td>\n",
       "    </tr>\n",
       "    <tr>\n",
       "      <th>3</th>\n",
       "      <td>4</td>\n",
       "      <td>40.000</td>\n",
       "      <td>22722.894</td>\n",
       "      <td>nn02e_20180906_000000.wav</td>\n",
       "      <td>5.320</td>\n",
       "      <td>NaN</td>\n",
       "    </tr>\n",
       "    <tr>\n",
       "      <th>4</th>\n",
       "      <td>5</td>\n",
       "      <td>30.300</td>\n",
       "      <td>22726.736</td>\n",
       "      <td>nn02e_20180906_000000.wav</td>\n",
       "      <td>3.029</td>\n",
       "      <td>NaN</td>\n",
       "    </tr>\n",
       "    <tr>\n",
       "      <th>...</th>\n",
       "      <td>...</td>\n",
       "      <td>...</td>\n",
       "      <td>...</td>\n",
       "      <td>...</td>\n",
       "      <td>...</td>\n",
       "      <td>...</td>\n",
       "    </tr>\n",
       "    <tr>\n",
       "      <th>753</th>\n",
       "      <td>754</td>\n",
       "      <td>39.400</td>\n",
       "      <td>3530.350</td>\n",
       "      <td>nn10b_20180907_000000.wav</td>\n",
       "      <td>4.359</td>\n",
       "      <td>maginal</td>\n",
       "    </tr>\n",
       "    <tr>\n",
       "      <th>754</th>\n",
       "      <td>755</td>\n",
       "      <td>46.600</td>\n",
       "      <td>3533.675</td>\n",
       "      <td>nn10b_20180907_000000.wav</td>\n",
       "      <td>2.139</td>\n",
       "      <td>maginal</td>\n",
       "    </tr>\n",
       "    <tr>\n",
       "      <th>755</th>\n",
       "      <td>756</td>\n",
       "      <td>49.300</td>\n",
       "      <td>3547.271</td>\n",
       "      <td>nn10b_20180907_000000.wav</td>\n",
       "      <td>3.510</td>\n",
       "      <td>maginal</td>\n",
       "    </tr>\n",
       "    <tr>\n",
       "      <th>756</th>\n",
       "      <td>757</td>\n",
       "      <td>43.624</td>\n",
       "      <td>52488.090</td>\n",
       "      <td>nn10b_20180907_000000.wav</td>\n",
       "      <td>4.492</td>\n",
       "      <td>NaN</td>\n",
       "    </tr>\n",
       "    <tr>\n",
       "      <th>757</th>\n",
       "      <td>758</td>\n",
       "      <td>40.700</td>\n",
       "      <td>57794.863</td>\n",
       "      <td>nn10b_20180907_000000.wav</td>\n",
       "      <td>4.128</td>\n",
       "      <td>maginal</td>\n",
       "    </tr>\n",
       "  </tbody>\n",
       "</table>\n",
       "<p>758 rows × 6 columns</p>\n",
       "</div>"
      ],
      "text/plain": [
       "     Selection  High Freq (Hz)  File Offset (s)                   filename  \\\n",
       "0            1          36.600        29314.080  nn01d_20180127_000000.wav   \n",
       "1            2          31.200        32552.884  nn01d_20180127_000000.wav   \n",
       "2            3          39.100        40181.978  nn01d_20180127_000000.wav   \n",
       "3            4          40.000        22722.894  nn02e_20180906_000000.wav   \n",
       "4            5          30.300        22726.736  nn02e_20180906_000000.wav   \n",
       "..         ...             ...              ...                        ...   \n",
       "753        754          39.400         3530.350  nn10b_20180907_000000.wav   \n",
       "754        755          46.600         3533.675  nn10b_20180907_000000.wav   \n",
       "755        756          49.300         3547.271  nn10b_20180907_000000.wav   \n",
       "756        757          43.624        52488.090  nn10b_20180907_000000.wav   \n",
       "757        758          40.700        57794.863  nn10b_20180907_000000.wav   \n",
       "\n",
       "     duration marginals  \n",
       "0       4.407       NaN  \n",
       "1       3.954       NaN  \n",
       "2       6.526       NaN  \n",
       "3       5.320       NaN  \n",
       "4       3.029       NaN  \n",
       "..        ...       ...  \n",
       "753     4.359   maginal  \n",
       "754     2.139   maginal  \n",
       "755     3.510   maginal  \n",
       "756     4.492       NaN  \n",
       "757     4.128   maginal  \n",
       "\n",
       "[758 rows x 6 columns]"
      ]
     },
     "execution_count": 43,
     "metadata": {},
     "output_type": "execute_result"
    }
   ],
   "source": [
    "test_set"
   ]
  },
  {
   "cell_type": "code",
   "execution_count": 44,
   "metadata": {},
   "outputs": [],
   "source": [
    "test_set['Parent'] = test_set['filename'].apply(get_parent)"
   ]
  },
  {
   "cell_type": "code",
   "execution_count": 45,
   "metadata": {},
   "outputs": [],
   "source": [
    "test_set['Folder'] = ['Testing']*len(test_set)"
   ]
  },
  {
   "cell_type": "code",
   "execution_count": 46,
   "metadata": {},
   "outputs": [
    {
     "data": {
      "text/plain": [
       "array([nan, 'maginal', 'DUMMY_NoEles', 'marginal'], dtype=object)"
      ]
     },
     "execution_count": 46,
     "metadata": {},
     "output_type": "execute_result"
    }
   ],
   "source": [
    "test_set['marginals'].unique()"
   ]
  },
  {
   "cell_type": "code",
   "execution_count": 47,
   "metadata": {},
   "outputs": [],
   "source": [
    "test_set.drop(test_set[test_set['marginals'] == 'DUMMY_NoEles'].index, inplace = True)"
   ]
  },
  {
   "cell_type": "code",
   "execution_count": 48,
   "metadata": {},
   "outputs": [],
   "source": [
    "join_set = pd.concat([training_set, test_set], ignore_index = True, join = 'outer')"
   ]
  },
  {
   "cell_type": "code",
   "execution_count": 49,
   "metadata": {},
   "outputs": [
    {
     "data": {
      "text/html": [
       "<div>\n",
       "<style scoped>\n",
       "    .dataframe tbody tr th:only-of-type {\n",
       "        vertical-align: middle;\n",
       "    }\n",
       "\n",
       "    .dataframe tbody tr th {\n",
       "        vertical-align: top;\n",
       "    }\n",
       "\n",
       "    .dataframe thead th {\n",
       "        text-align: right;\n",
       "    }\n",
       "</style>\n",
       "<table border=\"1\" class=\"dataframe\">\n",
       "  <thead>\n",
       "    <tr style=\"text-align: right;\">\n",
       "      <th></th>\n",
       "      <th>Selection</th>\n",
       "      <th>High Freq (Hz)</th>\n",
       "      <th>File Offset (s)</th>\n",
       "      <th>filename</th>\n",
       "      <th>duration</th>\n",
       "      <th>marginals</th>\n",
       "      <th>Parent</th>\n",
       "      <th>Folder</th>\n",
       "    </tr>\n",
       "  </thead>\n",
       "  <tbody>\n",
       "    <tr>\n",
       "      <th>0</th>\n",
       "      <td>1</td>\n",
       "      <td>49.700</td>\n",
       "      <td>48860.426</td>\n",
       "      <td>nn01a_20180126_000000.wav</td>\n",
       "      <td>6.2622</td>\n",
       "      <td>NaN</td>\n",
       "      <td>nn01a</td>\n",
       "      <td>Training</td>\n",
       "    </tr>\n",
       "    <tr>\n",
       "      <th>1</th>\n",
       "      <td>2</td>\n",
       "      <td>47.900</td>\n",
       "      <td>48865.100</td>\n",
       "      <td>nn01a_20180126_000000.wav</td>\n",
       "      <td>3.8974</td>\n",
       "      <td>NaN</td>\n",
       "      <td>nn01a</td>\n",
       "      <td>Training</td>\n",
       "    </tr>\n",
       "    <tr>\n",
       "      <th>2</th>\n",
       "      <td>3</td>\n",
       "      <td>49.700</td>\n",
       "      <td>48869.829</td>\n",
       "      <td>nn01a_20180126_000000.wav</td>\n",
       "      <td>4.2672</td>\n",
       "      <td>NaN</td>\n",
       "      <td>nn01a</td>\n",
       "      <td>Training</td>\n",
       "    </tr>\n",
       "    <tr>\n",
       "      <th>3</th>\n",
       "      <td>4</td>\n",
       "      <td>58.100</td>\n",
       "      <td>48876.017</td>\n",
       "      <td>nn01a_20180126_000000.wav</td>\n",
       "      <td>4.0640</td>\n",
       "      <td>NaN</td>\n",
       "      <td>nn01a</td>\n",
       "      <td>Training</td>\n",
       "    </tr>\n",
       "    <tr>\n",
       "      <th>4</th>\n",
       "      <td>5</td>\n",
       "      <td>57.100</td>\n",
       "      <td>48880.487</td>\n",
       "      <td>nn01a_20180126_000000.wav</td>\n",
       "      <td>4.3227</td>\n",
       "      <td>NaN</td>\n",
       "      <td>nn01a</td>\n",
       "      <td>Training</td>\n",
       "    </tr>\n",
       "    <tr>\n",
       "      <th>...</th>\n",
       "      <td>...</td>\n",
       "      <td>...</td>\n",
       "      <td>...</td>\n",
       "      <td>...</td>\n",
       "      <td>...</td>\n",
       "      <td>...</td>\n",
       "      <td>...</td>\n",
       "      <td>...</td>\n",
       "    </tr>\n",
       "    <tr>\n",
       "      <th>3932</th>\n",
       "      <td>754</td>\n",
       "      <td>39.400</td>\n",
       "      <td>3530.350</td>\n",
       "      <td>nn10b_20180907_000000.wav</td>\n",
       "      <td>4.3590</td>\n",
       "      <td>maginal</td>\n",
       "      <td>nn10b</td>\n",
       "      <td>Testing</td>\n",
       "    </tr>\n",
       "    <tr>\n",
       "      <th>3933</th>\n",
       "      <td>755</td>\n",
       "      <td>46.600</td>\n",
       "      <td>3533.675</td>\n",
       "      <td>nn10b_20180907_000000.wav</td>\n",
       "      <td>2.1390</td>\n",
       "      <td>maginal</td>\n",
       "      <td>nn10b</td>\n",
       "      <td>Testing</td>\n",
       "    </tr>\n",
       "    <tr>\n",
       "      <th>3934</th>\n",
       "      <td>756</td>\n",
       "      <td>49.300</td>\n",
       "      <td>3547.271</td>\n",
       "      <td>nn10b_20180907_000000.wav</td>\n",
       "      <td>3.5100</td>\n",
       "      <td>maginal</td>\n",
       "      <td>nn10b</td>\n",
       "      <td>Testing</td>\n",
       "    </tr>\n",
       "    <tr>\n",
       "      <th>3935</th>\n",
       "      <td>757</td>\n",
       "      <td>43.624</td>\n",
       "      <td>52488.090</td>\n",
       "      <td>nn10b_20180907_000000.wav</td>\n",
       "      <td>4.4920</td>\n",
       "      <td>NaN</td>\n",
       "      <td>nn10b</td>\n",
       "      <td>Testing</td>\n",
       "    </tr>\n",
       "    <tr>\n",
       "      <th>3936</th>\n",
       "      <td>758</td>\n",
       "      <td>40.700</td>\n",
       "      <td>57794.863</td>\n",
       "      <td>nn10b_20180907_000000.wav</td>\n",
       "      <td>4.1280</td>\n",
       "      <td>maginal</td>\n",
       "      <td>nn10b</td>\n",
       "      <td>Testing</td>\n",
       "    </tr>\n",
       "  </tbody>\n",
       "</table>\n",
       "<p>3937 rows × 8 columns</p>\n",
       "</div>"
      ],
      "text/plain": [
       "      Selection  High Freq (Hz)  File Offset (s)                   filename  \\\n",
       "0             1          49.700        48860.426  nn01a_20180126_000000.wav   \n",
       "1             2          47.900        48865.100  nn01a_20180126_000000.wav   \n",
       "2             3          49.700        48869.829  nn01a_20180126_000000.wav   \n",
       "3             4          58.100        48876.017  nn01a_20180126_000000.wav   \n",
       "4             5          57.100        48880.487  nn01a_20180126_000000.wav   \n",
       "...         ...             ...              ...                        ...   \n",
       "3932        754          39.400         3530.350  nn10b_20180907_000000.wav   \n",
       "3933        755          46.600         3533.675  nn10b_20180907_000000.wav   \n",
       "3934        756          49.300         3547.271  nn10b_20180907_000000.wav   \n",
       "3935        757          43.624        52488.090  nn10b_20180907_000000.wav   \n",
       "3936        758          40.700        57794.863  nn10b_20180907_000000.wav   \n",
       "\n",
       "      duration marginals Parent    Folder  \n",
       "0       6.2622       NaN  nn01a  Training  \n",
       "1       3.8974       NaN  nn01a  Training  \n",
       "2       4.2672       NaN  nn01a  Training  \n",
       "3       4.0640       NaN  nn01a  Training  \n",
       "4       4.3227       NaN  nn01a  Training  \n",
       "...        ...       ...    ...       ...  \n",
       "3932    4.3590   maginal  nn10b   Testing  \n",
       "3933    2.1390   maginal  nn10b   Testing  \n",
       "3934    3.5100   maginal  nn10b   Testing  \n",
       "3935    4.4920       NaN  nn10b   Testing  \n",
       "3936    4.1280   maginal  nn10b   Testing  \n",
       "\n",
       "[3937 rows x 8 columns]"
      ]
     },
     "execution_count": 49,
     "metadata": {},
     "output_type": "execute_result"
    }
   ],
   "source": [
    "join_set"
   ]
  },
  {
   "cell_type": "code",
   "execution_count": 50,
   "metadata": {},
   "outputs": [
    {
     "data": {
      "text/plain": [
       "array(['nn01a', 'nn01b', 'nn01c', 'nn01d', 'nn01e', 'nn01f', 'nn01g',\n",
       "       'nn02a', 'nn02b', 'nn02c', 'nn02d', 'nn02e', 'nn02f', 'nn02g',\n",
       "       'nn03a', 'nn03b', 'nn03c', 'nn03d', 'nn03e', 'nn03f', 'nn03g',\n",
       "       'nn04a', 'nn04b', 'nn04c', 'nn04d', 'nn04f', 'nn05a', 'nn05b',\n",
       "       'nn05c', 'nn05d', 'nn05e', 'nn06a', 'nn06b', 'nn06c', 'nn06d',\n",
       "       'nn06e', 'nn06f', 'nn07b', 'nn07c', 'nn08a', 'nn08b', 'nn08c',\n",
       "       'nn09b', 'nn10a', 'nn10b', 'nn07a'], dtype=object)"
      ]
     },
     "execution_count": 50,
     "metadata": {},
     "output_type": "execute_result"
    }
   ],
   "source": [
    "parent_folders = join_set['Parent'].unique()\n",
    "parent_folders"
   ]
  },
  {
   "cell_type": "code",
   "execution_count": 51,
   "metadata": {},
   "outputs": [
    {
     "data": {
      "text/html": [
       "<div>\n",
       "<style scoped>\n",
       "    .dataframe tbody tr th:only-of-type {\n",
       "        vertical-align: middle;\n",
       "    }\n",
       "\n",
       "    .dataframe tbody tr th {\n",
       "        vertical-align: top;\n",
       "    }\n",
       "\n",
       "    .dataframe thead th {\n",
       "        text-align: right;\n",
       "    }\n",
       "</style>\n",
       "<table border=\"1\" class=\"dataframe\">\n",
       "  <thead>\n",
       "    <tr style=\"text-align: right;\">\n",
       "      <th></th>\n",
       "      <th>Selection</th>\n",
       "      <th>High Freq (Hz)</th>\n",
       "      <th>File Offset (s)</th>\n",
       "      <th>filename</th>\n",
       "      <th>duration</th>\n",
       "      <th>marginals</th>\n",
       "      <th>Parent</th>\n",
       "      <th>Folder</th>\n",
       "    </tr>\n",
       "  </thead>\n",
       "  <tbody>\n",
       "    <tr>\n",
       "      <th>0</th>\n",
       "      <td>1</td>\n",
       "      <td>49.700</td>\n",
       "      <td>48860.4260</td>\n",
       "      <td>nn01a_20180126_000000.wav</td>\n",
       "      <td>6.2622</td>\n",
       "      <td>NaN</td>\n",
       "      <td>nn01a</td>\n",
       "      <td>Training</td>\n",
       "    </tr>\n",
       "    <tr>\n",
       "      <th>1</th>\n",
       "      <td>2</td>\n",
       "      <td>47.900</td>\n",
       "      <td>48865.1000</td>\n",
       "      <td>nn01a_20180126_000000.wav</td>\n",
       "      <td>3.8974</td>\n",
       "      <td>NaN</td>\n",
       "      <td>nn01a</td>\n",
       "      <td>Training</td>\n",
       "    </tr>\n",
       "    <tr>\n",
       "      <th>2</th>\n",
       "      <td>3</td>\n",
       "      <td>49.700</td>\n",
       "      <td>48869.8290</td>\n",
       "      <td>nn01a_20180126_000000.wav</td>\n",
       "      <td>4.2672</td>\n",
       "      <td>NaN</td>\n",
       "      <td>nn01a</td>\n",
       "      <td>Training</td>\n",
       "    </tr>\n",
       "    <tr>\n",
       "      <th>3</th>\n",
       "      <td>4</td>\n",
       "      <td>58.100</td>\n",
       "      <td>48876.0170</td>\n",
       "      <td>nn01a_20180126_000000.wav</td>\n",
       "      <td>4.0640</td>\n",
       "      <td>NaN</td>\n",
       "      <td>nn01a</td>\n",
       "      <td>Training</td>\n",
       "    </tr>\n",
       "    <tr>\n",
       "      <th>4</th>\n",
       "      <td>5</td>\n",
       "      <td>57.100</td>\n",
       "      <td>48880.4870</td>\n",
       "      <td>nn01a_20180126_000000.wav</td>\n",
       "      <td>4.3227</td>\n",
       "      <td>NaN</td>\n",
       "      <td>nn01a</td>\n",
       "      <td>Training</td>\n",
       "    </tr>\n",
       "    <tr>\n",
       "      <th>5</th>\n",
       "      <td>6</td>\n",
       "      <td>57.100</td>\n",
       "      <td>49017.1050</td>\n",
       "      <td>nn01a_20180126_000000.wav</td>\n",
       "      <td>3.5837</td>\n",
       "      <td>NaN</td>\n",
       "      <td>nn01a</td>\n",
       "      <td>Training</td>\n",
       "    </tr>\n",
       "    <tr>\n",
       "      <th>6</th>\n",
       "      <td>7</td>\n",
       "      <td>51.500</td>\n",
       "      <td>51113.7210</td>\n",
       "      <td>nn01a_20180126_000000.wav</td>\n",
       "      <td>2.9927</td>\n",
       "      <td>marginal</td>\n",
       "      <td>nn01a</td>\n",
       "      <td>Training</td>\n",
       "    </tr>\n",
       "    <tr>\n",
       "      <th>7</th>\n",
       "      <td>8</td>\n",
       "      <td>46.500</td>\n",
       "      <td>51117.1570</td>\n",
       "      <td>nn01a_20180126_000000.wav</td>\n",
       "      <td>3.1034</td>\n",
       "      <td>NaN</td>\n",
       "      <td>nn01a</td>\n",
       "      <td>Training</td>\n",
       "    </tr>\n",
       "    <tr>\n",
       "      <th>8</th>\n",
       "      <td>9</td>\n",
       "      <td>40.801</td>\n",
       "      <td>51405.6060</td>\n",
       "      <td>nn01a_20180126_000000.wav</td>\n",
       "      <td>2.4330</td>\n",
       "      <td>marginal</td>\n",
       "      <td>nn01a</td>\n",
       "      <td>Training</td>\n",
       "    </tr>\n",
       "    <tr>\n",
       "      <th>9</th>\n",
       "      <td>10</td>\n",
       "      <td>40.200</td>\n",
       "      <td>47942.9300</td>\n",
       "      <td>nn01a_20180203_000000.wav</td>\n",
       "      <td>1.9582</td>\n",
       "      <td>marginal</td>\n",
       "      <td>nn01a</td>\n",
       "      <td>Training</td>\n",
       "    </tr>\n",
       "    <tr>\n",
       "      <th>10</th>\n",
       "      <td>11</td>\n",
       "      <td>34.866</td>\n",
       "      <td>47946.2732</td>\n",
       "      <td>nn01a_20180203_000000.wav</td>\n",
       "      <td>2.2954</td>\n",
       "      <td>marginal</td>\n",
       "      <td>nn01a</td>\n",
       "      <td>Training</td>\n",
       "    </tr>\n",
       "    <tr>\n",
       "      <th>11</th>\n",
       "      <td>12</td>\n",
       "      <td>42.300</td>\n",
       "      <td>47960.0360</td>\n",
       "      <td>nn01a_20180203_000000.wav</td>\n",
       "      <td>3.0296</td>\n",
       "      <td>NaN</td>\n",
       "      <td>nn01a</td>\n",
       "      <td>Training</td>\n",
       "    </tr>\n",
       "  </tbody>\n",
       "</table>\n",
       "</div>"
      ],
      "text/plain": [
       "    Selection  High Freq (Hz)  File Offset (s)                   filename  \\\n",
       "0           1          49.700       48860.4260  nn01a_20180126_000000.wav   \n",
       "1           2          47.900       48865.1000  nn01a_20180126_000000.wav   \n",
       "2           3          49.700       48869.8290  nn01a_20180126_000000.wav   \n",
       "3           4          58.100       48876.0170  nn01a_20180126_000000.wav   \n",
       "4           5          57.100       48880.4870  nn01a_20180126_000000.wav   \n",
       "5           6          57.100       49017.1050  nn01a_20180126_000000.wav   \n",
       "6           7          51.500       51113.7210  nn01a_20180126_000000.wav   \n",
       "7           8          46.500       51117.1570  nn01a_20180126_000000.wav   \n",
       "8           9          40.801       51405.6060  nn01a_20180126_000000.wav   \n",
       "9          10          40.200       47942.9300  nn01a_20180203_000000.wav   \n",
       "10         11          34.866       47946.2732  nn01a_20180203_000000.wav   \n",
       "11         12          42.300       47960.0360  nn01a_20180203_000000.wav   \n",
       "\n",
       "    duration marginals Parent    Folder  \n",
       "0     6.2622       NaN  nn01a  Training  \n",
       "1     3.8974       NaN  nn01a  Training  \n",
       "2     4.2672       NaN  nn01a  Training  \n",
       "3     4.0640       NaN  nn01a  Training  \n",
       "4     4.3227       NaN  nn01a  Training  \n",
       "5     3.5837       NaN  nn01a  Training  \n",
       "6     2.9927  marginal  nn01a  Training  \n",
       "7     3.1034       NaN  nn01a  Training  \n",
       "8     2.4330  marginal  nn01a  Training  \n",
       "9     1.9582  marginal  nn01a  Training  \n",
       "10    2.2954  marginal  nn01a  Training  \n",
       "11    3.0296       NaN  nn01a  Training  "
      ]
     },
     "execution_count": 51,
     "metadata": {},
     "output_type": "execute_result"
    }
   ],
   "source": [
    "sorted_join_set = join_set.copy()\n",
    "sorted_join_set.sort_values(['filename','File Offset (s)'])\n",
    "sorted_join_set.head(12)"
   ]
  },
  {
   "cell_type": "code",
   "execution_count": null,
   "metadata": {},
   "outputs": [],
   "source": []
  },
  {
   "cell_type": "code",
   "execution_count": null,
   "metadata": {},
   "outputs": [],
   "source": []
  },
  {
   "cell_type": "code",
   "execution_count": null,
   "metadata": {},
   "outputs": [],
   "source": []
  },
  {
   "cell_type": "code",
   "execution_count": 53,
   "metadata": {},
   "outputs": [
    {
     "name": "stderr",
     "output_type": "stream",
     "text": [
      "\r",
      "  0%|          | 0/46 [00:00<?, ?it/s]"
     ]
    },
    {
     "name": "stdout",
     "output_type": "stream",
     "text": [
      "9 9\n",
      "3 3\n",
      "1 1\n",
      "47 47\n",
      "3 3\n",
      "1 1\n",
      "9 9\n",
      "8 8\n"
     ]
    },
    {
     "name": "stderr",
     "output_type": "stream",
     "text": [
      "\r",
      "  2%|▏         | 1/46 [08:32<6:24:09, 512.21s/it]"
     ]
    },
    {
     "name": "stdout",
     "output_type": "stream",
     "text": [
      "4 4\n",
      "1 1\n",
      "13 13\n",
      "1 1\n",
      "16 16\n",
      "60 60\n"
     ]
    },
    {
     "name": "stderr",
     "output_type": "stream",
     "text": [
      "\r",
      "  4%|▍         | 2/46 [14:54<5:19:35, 435.80s/it]"
     ]
    },
    {
     "name": "stdout",
     "output_type": "stream",
     "text": [
      "1 1\n",
      "1 1\n",
      "4 4\n",
      "4 4\n",
      "3 3\n",
      "10 10\n",
      "1 1\n",
      "45 45\n",
      "14 14\n",
      "10 10\n",
      "24 24\n",
      "22 22\n",
      "18 18\n"
     ]
    },
    {
     "name": "stderr",
     "output_type": "stream",
     "text": [
      "\r",
      "  7%|▋         | 3/46 [28:34<7:18:03, 611.24s/it]"
     ]
    },
    {
     "name": "stdout",
     "output_type": "stream",
     "text": [
      "2 2\n",
      "19 19\n",
      "28 28\n",
      "3 3\n"
     ]
    },
    {
     "name": "stderr",
     "output_type": "stream",
     "text": [
      "\r",
      "  9%|▊         | 4/46 [32:40<5:26:53, 467.00s/it]"
     ]
    },
    {
     "name": "stdout",
     "output_type": "stream",
     "text": [
      "47 47\n",
      "33 33\n"
     ]
    },
    {
     "name": "stderr",
     "output_type": "stream",
     "text": [
      "\r",
      " 11%|█         | 5/46 [34:38<3:53:02, 341.05s/it]"
     ]
    },
    {
     "name": "stdout",
     "output_type": "stream",
     "text": [
      "1 1\n",
      "48 48\n",
      "33 33\n"
     ]
    },
    {
     "name": "stderr",
     "output_type": "stream",
     "text": [
      "\r",
      " 13%|█▎        | 6/46 [37:52<3:14:07, 291.20s/it]"
     ]
    },
    {
     "name": "stdout",
     "output_type": "stream",
     "text": [
      "15 15\n",
      "18 18\n"
     ]
    },
    {
     "name": "stderr",
     "output_type": "stream",
     "text": [
      "\r",
      " 15%|█▌        | 7/46 [40:09<2:36:30, 240.79s/it]"
     ]
    },
    {
     "name": "stdout",
     "output_type": "stream",
     "text": [
      "10 10\n",
      "18 18\n"
     ]
    },
    {
     "name": "stderr",
     "output_type": "stream",
     "text": [
      "\r",
      " 17%|█▋        | 8/46 [42:24<2:11:10, 207.12s/it]"
     ]
    },
    {
     "name": "stdout",
     "output_type": "stream",
     "text": [
      "19 19\n",
      "6 6\n"
     ]
    },
    {
     "name": "stderr",
     "output_type": "stream",
     "text": [
      "\r",
      " 20%|█▉        | 9/46 [44:36<1:53:16, 183.69s/it]"
     ]
    },
    {
     "name": "stdout",
     "output_type": "stream",
     "text": [
      "19 19\n",
      "56 56\n"
     ]
    },
    {
     "name": "stderr",
     "output_type": "stream",
     "text": [
      "\r",
      " 22%|██▏       | 10/46 [47:00<1:42:46, 171.30s/it]"
     ]
    },
    {
     "name": "stdout",
     "output_type": "stream",
     "text": [
      "35 35\n",
      "15 15\n",
      "17 17\n"
     ]
    },
    {
     "name": "stderr",
     "output_type": "stream",
     "text": [
      "\r",
      " 26%|██▌       | 12/46 [51:31<1:26:35, 152.82s/it]"
     ]
    },
    {
     "name": "stdout",
     "output_type": "stream",
     "text": [
      "39 39\n",
      "30 30\n"
     ]
    },
    {
     "name": "stderr",
     "output_type": "stream",
     "text": [
      "\r",
      " 28%|██▊       | 13/46 [53:58<1:22:59, 150.90s/it]"
     ]
    },
    {
     "name": "stdout",
     "output_type": "stream",
     "text": [
      "24 24\n",
      "25 25\n"
     ]
    },
    {
     "name": "stderr",
     "output_type": "stream",
     "text": [
      "\r",
      " 30%|███       | 14/46 [56:32<1:21:01, 151.93s/it]"
     ]
    },
    {
     "name": "stdout",
     "output_type": "stream",
     "text": [
      "81 81\n",
      "102 102\n"
     ]
    },
    {
     "name": "stderr",
     "output_type": "stream",
     "text": [
      "\r",
      " 33%|███▎      | 15/46 [59:29<1:22:23, 159.48s/it]"
     ]
    },
    {
     "name": "stdout",
     "output_type": "stream",
     "text": [
      "13 13\n",
      "6 6\n"
     ]
    },
    {
     "name": "stderr",
     "output_type": "stream",
     "text": [
      "\r",
      " 35%|███▍      | 16/46 [1:01:58<1:18:11, 156.39s/it]"
     ]
    },
    {
     "name": "stdout",
     "output_type": "stream",
     "text": [
      "28 28\n",
      "5 5\n"
     ]
    },
    {
     "name": "stderr",
     "output_type": "stream",
     "text": [
      "\r",
      " 37%|███▋      | 17/46 [1:04:36<1:15:50, 156.91s/it]"
     ]
    },
    {
     "name": "stdout",
     "output_type": "stream",
     "text": [
      "19 19\n",
      "11 11\n"
     ]
    },
    {
     "name": "stderr",
     "output_type": "stream",
     "text": [
      "\r",
      " 39%|███▉      | 18/46 [1:07:05<1:12:03, 154.40s/it]"
     ]
    },
    {
     "name": "stdout",
     "output_type": "stream",
     "text": [
      "32 32\n",
      "40 40\n"
     ]
    },
    {
     "name": "stderr",
     "output_type": "stream",
     "text": [
      "\r",
      " 41%|████▏     | 19/46 [1:09:39<1:09:23, 154.19s/it]"
     ]
    },
    {
     "name": "stdout",
     "output_type": "stream",
     "text": [
      "18 18\n",
      "20 20\n"
     ]
    },
    {
     "name": "stderr",
     "output_type": "stream",
     "text": [
      "\r",
      " 43%|████▎     | 20/46 [1:12:09<1:06:18, 153.02s/it]"
     ]
    },
    {
     "name": "stdout",
     "output_type": "stream",
     "text": [
      "23 23\n",
      "61 61\n"
     ]
    },
    {
     "name": "stderr",
     "output_type": "stream",
     "text": [
      "\r",
      " 46%|████▌     | 21/46 [1:14:47<1:04:19, 154.38s/it]"
     ]
    },
    {
     "name": "stdout",
     "output_type": "stream",
     "text": [
      "47 47\n",
      "13 13\n"
     ]
    },
    {
     "name": "stderr",
     "output_type": "stream",
     "text": [
      "\r",
      " 48%|████▊     | 22/46 [1:17:24<1:02:08, 155.36s/it]"
     ]
    },
    {
     "name": "stdout",
     "output_type": "stream",
     "text": [
      "1 1\n",
      "31 31\n"
     ]
    },
    {
     "name": "stderr",
     "output_type": "stream",
     "text": [
      "\r",
      " 50%|█████     | 23/46 [1:19:57<59:16, 154.63s/it]  "
     ]
    },
    {
     "name": "stdout",
     "output_type": "stream",
     "text": [
      "23 23\n",
      "2 2\n",
      "5 5\n",
      "1 1\n",
      "7 7\n",
      "2 2\n",
      "5 5\n"
     ]
    },
    {
     "name": "stderr",
     "output_type": "stream",
     "text": [
      "\r",
      " 52%|█████▏    | 24/46 [1:28:15<1:34:29, 257.71s/it]"
     ]
    },
    {
     "name": "stdout",
     "output_type": "stream",
     "text": [
      "4 4\n",
      "2 2\n"
     ]
    },
    {
     "name": "stderr",
     "output_type": "stream",
     "text": [
      "\r",
      " 54%|█████▍    | 25/46 [1:30:35<1:17:49, 222.35s/it]"
     ]
    },
    {
     "name": "stdout",
     "output_type": "stream",
     "text": [
      "1 1\n"
     ]
    },
    {
     "name": "stderr",
     "output_type": "stream",
     "text": [
      "\r",
      " 57%|█████▋    | 26/46 [1:31:45<58:51, 176.59s/it]  "
     ]
    },
    {
     "name": "stdout",
     "output_type": "stream",
     "text": [
      "9 9\n",
      "18 18\n",
      "2 2\n",
      "8 8\n",
      "12 12\n",
      "32 32\n",
      "21 21\n",
      "2 2\n",
      "15 15\n"
     ]
    },
    {
     "name": "stderr",
     "output_type": "stream",
     "text": [
      "\r",
      " 59%|█████▊    | 27/46 [1:42:22<1:39:39, 314.71s/it]"
     ]
    },
    {
     "name": "stdout",
     "output_type": "stream",
     "text": [
      "62 62\n",
      "11 11\n",
      "19 19\n",
      "14 14\n",
      "2 2\n",
      "12 12\n"
     ]
    },
    {
     "name": "stderr",
     "output_type": "stream",
     "text": [
      "\r",
      " 61%|██████    | 28/46 [1:48:51<1:41:05, 336.96s/it]"
     ]
    },
    {
     "name": "stdout",
     "output_type": "stream",
     "text": [
      "1 1\n",
      "3 3\n"
     ]
    },
    {
     "name": "stderr",
     "output_type": "stream",
     "text": [
      "\r",
      " 63%|██████▎   | 29/46 [1:50:58<1:17:39, 274.07s/it]"
     ]
    },
    {
     "name": "stdout",
     "output_type": "stream",
     "text": [
      "1 1\n",
      "7 7\n",
      "5 5\n",
      "13 13\n",
      "2 2\n",
      "28 28\n",
      "1 1\n"
     ]
    },
    {
     "name": "stderr",
     "output_type": "stream",
     "text": [
      "\r",
      " 65%|██████▌   | 30/46 [1:58:43<1:28:20, 331.31s/it]"
     ]
    },
    {
     "name": "stdout",
     "output_type": "stream",
     "text": [
      "1 1\n",
      "2 2\n",
      "5 5\n"
     ]
    },
    {
     "name": "stderr",
     "output_type": "stream",
     "text": [
      "\r",
      " 67%|██████▋   | 31/46 [2:01:58<1:12:38, 290.55s/it]"
     ]
    },
    {
     "name": "stdout",
     "output_type": "stream",
     "text": [
      "28 28\n",
      "64 64\n",
      "161 161\n",
      "44 44\n",
      "67 67\n",
      "42 42\n",
      "58 58\n",
      "8 8\n",
      "8 8\n",
      "64 64\n",
      "37 37\n",
      "26 26\n",
      "25 25\n",
      "57 57\n"
     ]
    },
    {
     "name": "stderr",
     "output_type": "stream",
     "text": [
      "\r",
      " 70%|██████▉   | 32/46 [2:17:37<1:53:10, 485.05s/it]"
     ]
    },
    {
     "name": "stdout",
     "output_type": "stream",
     "text": [
      "47 47\n",
      "26 26\n",
      "20 20\n",
      "54 54\n",
      "28 28\n",
      "1 1\n",
      "41 41\n",
      "12 12\n",
      "33 33\n",
      "17 17\n",
      "29 29\n",
      "39 39\n",
      "17 17\n"
     ]
    },
    {
     "name": "stderr",
     "output_type": "stream",
     "text": [
      "\r",
      " 72%|███████▏  | 33/46 [2:32:53<2:13:06, 614.31s/it]"
     ]
    },
    {
     "name": "stdout",
     "output_type": "stream",
     "text": [
      "36 36\n",
      "27 27\n"
     ]
    },
    {
     "name": "stderr",
     "output_type": "stream",
     "text": [
      "\r",
      " 74%|███████▍  | 34/46 [2:35:26<1:35:08, 475.74s/it]"
     ]
    },
    {
     "name": "stdout",
     "output_type": "stream",
     "text": [
      "1 1\n",
      "15 15\n"
     ]
    },
    {
     "name": "stderr",
     "output_type": "stream",
     "text": [
      "\r",
      " 76%|███████▌  | 35/46 [2:37:53<1:09:09, 377.19s/it]"
     ]
    },
    {
     "name": "stdout",
     "output_type": "stream",
     "text": [
      "4 4\n",
      "7 7\n",
      "1 1\n",
      "23 23\n"
     ]
    },
    {
     "name": "stderr",
     "output_type": "stream",
     "text": [
      "\r",
      " 78%|███████▊  | 36/46 [2:42:58<59:17, 355.70s/it]  "
     ]
    },
    {
     "name": "stdout",
     "output_type": "stream",
     "text": [
      "13 13\n"
     ]
    },
    {
     "name": "stderr",
     "output_type": "stream",
     "text": [
      "\r",
      " 80%|████████  | 37/46 [2:44:14<40:45, 271.77s/it]"
     ]
    },
    {
     "name": "stdout",
     "output_type": "stream",
     "text": [
      "17 17\n",
      "35 35\n"
     ]
    },
    {
     "name": "stderr",
     "output_type": "stream",
     "text": [
      "\r",
      " 83%|████████▎ | 38/46 [2:46:57<31:52, 239.04s/it]"
     ]
    },
    {
     "name": "stdout",
     "output_type": "stream",
     "text": [
      "19 19\n",
      "75 75\n"
     ]
    },
    {
     "name": "stderr",
     "output_type": "stream",
     "text": [
      "\r",
      " 85%|████████▍ | 39/46 [2:49:45<25:24, 217.71s/it]"
     ]
    },
    {
     "name": "stdout",
     "output_type": "stream",
     "text": [
      "8 8\n",
      "15 15\n"
     ]
    },
    {
     "name": "stderr",
     "output_type": "stream",
     "text": [
      "\r",
      " 87%|████████▋ | 40/46 [2:52:17<19:47, 197.85s/it]"
     ]
    },
    {
     "name": "stdout",
     "output_type": "stream",
     "text": [
      "97 97\n",
      "47 47\n"
     ]
    },
    {
     "name": "stderr",
     "output_type": "stream",
     "text": [
      "\r",
      " 89%|████████▉ | 41/46 [2:54:59<15:35, 187.12s/it]"
     ]
    },
    {
     "name": "stdout",
     "output_type": "stream",
     "text": [
      "228 228\n",
      "72 72\n"
     ]
    },
    {
     "name": "stderr",
     "output_type": "stream",
     "text": [
      "\r",
      " 91%|█████████▏| 42/46 [2:58:10<12:33, 188.26s/it]"
     ]
    },
    {
     "name": "stdout",
     "output_type": "stream",
     "text": [
      "8 8\n",
      "18 18\n"
     ]
    },
    {
     "name": "stderr",
     "output_type": "stream",
     "text": [
      "\r",
      " 93%|█████████▎| 43/46 [3:01:06<09:13, 184.67s/it]"
     ]
    },
    {
     "name": "stdout",
     "output_type": "stream",
     "text": [
      "113 113\n",
      "40 40\n"
     ]
    },
    {
     "name": "stderr",
     "output_type": "stream",
     "text": [
      "\r",
      " 96%|█████████▌| 44/46 [3:04:22<06:16, 188.16s/it]"
     ]
    },
    {
     "name": "stdout",
     "output_type": "stream",
     "text": [
      "45 45\n",
      "28 28\n",
      "1 1\n",
      "19 19\n"
     ]
    },
    {
     "name": "stderr",
     "output_type": "stream",
     "text": [
      "\r",
      " 98%|█████████▊| 45/46 [3:10:41<04:05, 245.37s/it]"
     ]
    },
    {
     "name": "stdout",
     "output_type": "stream",
     "text": [
      "15 15\n"
     ]
    },
    {
     "name": "stderr",
     "output_type": "stream",
     "text": [
      "100%|██████████| 46/46 [3:12:09<00:00, 250.65s/it]\n"
     ]
    }
   ],
   "source": [
    "# Custom Append\n",
    "def newAppend(ar,left,right,window,target,cuts):\n",
    "    j = left\n",
    "    while right-j>=window and len(target)<cuts:\n",
    "        target.append(ar[j:j+window])\n",
    "        j+=window\n",
    "\n",
    "\n",
    "# Audio file doesnt't contain neither noise nor rumble\n",
    "startingPoint = 1000\n",
    "\n",
    "# Iterators for train and test noise set\n",
    "train_noise_iterator = 1\n",
    "test_noise_iterator = 1\n",
    "\n",
    "for folder in tqdm(parent_folders):\n",
    "    \n",
    "    sorted_parent_df = sorted_join_set.query('Parent == @folder')\n",
    "    sorted_files = sorted_parent_df['filename'].unique()\n",
    "    \n",
    "    for file in sorted_files:\n",
    "        file_df = sorted_parent_df.query('filename == @file')\n",
    "        bucket.download_file('recordings/wav/' + folder + '/' + file, './'+file)\n",
    "        sr, og_audio = wavfile.read(file)\n",
    "        \n",
    "        rumble_tuple = []\n",
    "        \n",
    "        for offset, duration in zip(file_df['File Offset (s)'], file_df['duration']):\n",
    "            start_sample = math.floor(sr*offset)\n",
    "            end_sample = math.ceil(sr*(offset+duration))\n",
    "            rumble_tuple.append((start_sample,end_sample))\n",
    "        \n",
    "        newAudio = []\n",
    "        \n",
    "        # 4 seconds cut\n",
    "        cut_length = 4*sr\n",
    "        total_cuts = len(file_df)\n",
    "        \n",
    "        i = 0\n",
    "        \n",
    "        while i<len(rumble_tuple)-1 and len(newAudio)<total_cuts:\n",
    "            if i == 0:\n",
    "                wasteSound = startingPoint*sr\n",
    "                firstEnd = rumble_tuple[i][0]\n",
    "                if firstEnd>wasteSound:\n",
    "                    newAppend(og_audio,wasteSound+1,firstEnd,cut_length,newAudio,total_cuts)\n",
    "\n",
    "            start = rumble_tuple[i][1]\n",
    "            end = rumble_tuple[i+1][0]\n",
    "            newAppend(og_audio,start+1,end,cut_length,newAudio,total_cuts)\n",
    "            \n",
    "            i+=1\n",
    "\n",
    "        if len(newAudio)<total_cuts:\n",
    "            endPart = rumble_tuple[len(rumble_tuple)-1][1]\n",
    "            terminating_point = (len(og_audio)-1)*sr\n",
    "            newAppend(og_audio,endPart,terminating_point,cut_length,newAudio,total_cuts)\n",
    "\n",
    "        folder_to_save = file_df['Folder']\n",
    "        \n",
    "        newAudio_counter = 0\n",
    "        print(len(newAudio),total_cuts)\n",
    "        \n",
    "        for save_folder in file_df['Folder']:\n",
    "            if newAudio_counter < len(newAudio):\n",
    "                out_audio = newAudio[newAudio_counter]\n",
    "\n",
    "                if save_folder == 'Training':\n",
    "                    wavfile.write('../mubin/Data/Training/Noise/noise_{}.wav'.format(train_noise_iterator), sr, out_audio)\n",
    "                    train_noise_iterator+=1\n",
    "                else:\n",
    "                    wavfile.write('../mubin/Data/Testing/Noise/noise_{}.wav'.format(test_noise_iterator), sr, out_audio)\n",
    "                    test_noise_iterator+=1\n",
    "\n",
    "                newAudio_counter+=1\n",
    "        os.remove('./'+file)\n"
   ]
  },
  {
   "cell_type": "code",
   "execution_count": 54,
   "metadata": {},
   "outputs": [
    {
     "data": {
      "text/html": [
       "<div>\n",
       "<style scoped>\n",
       "    .dataframe tbody tr th:only-of-type {\n",
       "        vertical-align: middle;\n",
       "    }\n",
       "\n",
       "    .dataframe tbody tr th {\n",
       "        vertical-align: top;\n",
       "    }\n",
       "\n",
       "    .dataframe thead th {\n",
       "        text-align: right;\n",
       "    }\n",
       "</style>\n",
       "<table border=\"1\" class=\"dataframe\">\n",
       "  <thead>\n",
       "    <tr style=\"text-align: right;\">\n",
       "      <th></th>\n",
       "      <th>Selection</th>\n",
       "      <th>High Freq (Hz)</th>\n",
       "      <th>File Offset (s)</th>\n",
       "      <th>filename</th>\n",
       "      <th>duration</th>\n",
       "      <th>marginals</th>\n",
       "      <th>Parent</th>\n",
       "      <th>Folder</th>\n",
       "    </tr>\n",
       "  </thead>\n",
       "  <tbody>\n",
       "    <tr>\n",
       "      <th>0</th>\n",
       "      <td>1</td>\n",
       "      <td>49.7</td>\n",
       "      <td>48860.426</td>\n",
       "      <td>nn01a_20180126_000000.wav</td>\n",
       "      <td>6.2622</td>\n",
       "      <td>NaN</td>\n",
       "      <td>nn01a</td>\n",
       "      <td>Training</td>\n",
       "    </tr>\n",
       "    <tr>\n",
       "      <th>1</th>\n",
       "      <td>2</td>\n",
       "      <td>47.9</td>\n",
       "      <td>48865.100</td>\n",
       "      <td>nn01a_20180126_000000.wav</td>\n",
       "      <td>3.8974</td>\n",
       "      <td>NaN</td>\n",
       "      <td>nn01a</td>\n",
       "      <td>Training</td>\n",
       "    </tr>\n",
       "    <tr>\n",
       "      <th>2</th>\n",
       "      <td>3</td>\n",
       "      <td>49.7</td>\n",
       "      <td>48869.829</td>\n",
       "      <td>nn01a_20180126_000000.wav</td>\n",
       "      <td>4.2672</td>\n",
       "      <td>NaN</td>\n",
       "      <td>nn01a</td>\n",
       "      <td>Training</td>\n",
       "    </tr>\n",
       "    <tr>\n",
       "      <th>3</th>\n",
       "      <td>4</td>\n",
       "      <td>58.1</td>\n",
       "      <td>48876.017</td>\n",
       "      <td>nn01a_20180126_000000.wav</td>\n",
       "      <td>4.0640</td>\n",
       "      <td>NaN</td>\n",
       "      <td>nn01a</td>\n",
       "      <td>Training</td>\n",
       "    </tr>\n",
       "    <tr>\n",
       "      <th>4</th>\n",
       "      <td>5</td>\n",
       "      <td>57.1</td>\n",
       "      <td>48880.487</td>\n",
       "      <td>nn01a_20180126_000000.wav</td>\n",
       "      <td>4.3227</td>\n",
       "      <td>NaN</td>\n",
       "      <td>nn01a</td>\n",
       "      <td>Training</td>\n",
       "    </tr>\n",
       "    <tr>\n",
       "      <th>...</th>\n",
       "      <td>...</td>\n",
       "      <td>...</td>\n",
       "      <td>...</td>\n",
       "      <td>...</td>\n",
       "      <td>...</td>\n",
       "      <td>...</td>\n",
       "      <td>...</td>\n",
       "      <td>...</td>\n",
       "    </tr>\n",
       "    <tr>\n",
       "      <th>3175</th>\n",
       "      <td>3176</td>\n",
       "      <td>44.1</td>\n",
       "      <td>86263.733</td>\n",
       "      <td>nn10b_20180728_000000.wav</td>\n",
       "      <td>2.2700</td>\n",
       "      <td>NaN</td>\n",
       "      <td>nn10b</td>\n",
       "      <td>Training</td>\n",
       "    </tr>\n",
       "    <tr>\n",
       "      <th>3176</th>\n",
       "      <td>3177</td>\n",
       "      <td>33.6</td>\n",
       "      <td>86264.870</td>\n",
       "      <td>nn10b_20180728_000000.wav</td>\n",
       "      <td>6.4400</td>\n",
       "      <td>NaN</td>\n",
       "      <td>nn10b</td>\n",
       "      <td>Training</td>\n",
       "    </tr>\n",
       "    <tr>\n",
       "      <th>3177</th>\n",
       "      <td>3178</td>\n",
       "      <td>44.1</td>\n",
       "      <td>86269.957</td>\n",
       "      <td>nn10b_20180728_000000.wav</td>\n",
       "      <td>6.3800</td>\n",
       "      <td>NaN</td>\n",
       "      <td>nn10b</td>\n",
       "      <td>Training</td>\n",
       "    </tr>\n",
       "    <tr>\n",
       "      <th>3178</th>\n",
       "      <td>3179</td>\n",
       "      <td>29.0</td>\n",
       "      <td>86300.628</td>\n",
       "      <td>nn10b_20180728_000000.wav</td>\n",
       "      <td>3.4700</td>\n",
       "      <td>NaN</td>\n",
       "      <td>nn10b</td>\n",
       "      <td>Training</td>\n",
       "    </tr>\n",
       "    <tr>\n",
       "      <th>3179</th>\n",
       "      <td>3180</td>\n",
       "      <td>38.3</td>\n",
       "      <td>86303.758</td>\n",
       "      <td>nn10b_20180728_000000.wav</td>\n",
       "      <td>2.3900</td>\n",
       "      <td>marginal</td>\n",
       "      <td>nn10b</td>\n",
       "      <td>Training</td>\n",
       "    </tr>\n",
       "  </tbody>\n",
       "</table>\n",
       "<p>3180 rows × 8 columns</p>\n",
       "</div>"
      ],
      "text/plain": [
       "      Selection  High Freq (Hz)  File Offset (s)                   filename  \\\n",
       "0             1            49.7        48860.426  nn01a_20180126_000000.wav   \n",
       "1             2            47.9        48865.100  nn01a_20180126_000000.wav   \n",
       "2             3            49.7        48869.829  nn01a_20180126_000000.wav   \n",
       "3             4            58.1        48876.017  nn01a_20180126_000000.wav   \n",
       "4             5            57.1        48880.487  nn01a_20180126_000000.wav   \n",
       "...         ...             ...              ...                        ...   \n",
       "3175       3176            44.1        86263.733  nn10b_20180728_000000.wav   \n",
       "3176       3177            33.6        86264.870  nn10b_20180728_000000.wav   \n",
       "3177       3178            44.1        86269.957  nn10b_20180728_000000.wav   \n",
       "3178       3179            29.0        86300.628  nn10b_20180728_000000.wav   \n",
       "3179       3180            38.3        86303.758  nn10b_20180728_000000.wav   \n",
       "\n",
       "      duration marginals Parent    Folder  \n",
       "0       6.2622       NaN  nn01a  Training  \n",
       "1       3.8974       NaN  nn01a  Training  \n",
       "2       4.2672       NaN  nn01a  Training  \n",
       "3       4.0640       NaN  nn01a  Training  \n",
       "4       4.3227       NaN  nn01a  Training  \n",
       "...        ...       ...    ...       ...  \n",
       "3175    2.2700       NaN  nn10b  Training  \n",
       "3176    6.4400       NaN  nn10b  Training  \n",
       "3177    6.3800       NaN  nn10b  Training  \n",
       "3178    3.4700       NaN  nn10b  Training  \n",
       "3179    2.3900  marginal  nn10b  Training  \n",
       "\n",
       "[3180 rows x 8 columns]"
      ]
     },
     "execution_count": 54,
     "metadata": {},
     "output_type": "execute_result"
    }
   ],
   "source": [
    "training_set"
   ]
  },
  {
   "cell_type": "code",
   "execution_count": 55,
   "metadata": {},
   "outputs": [
    {
     "data": {
      "text/plain": [
       "True"
      ]
     },
     "execution_count": 55,
     "metadata": {},
     "output_type": "execute_result"
    }
   ],
   "source": [
    "len(os.listdir('../mubin/Data/Training/Noise')) == len(training_set)"
   ]
  },
  {
   "cell_type": "code",
   "execution_count": 56,
   "metadata": {},
   "outputs": [
    {
     "data": {
      "text/html": [
       "<div>\n",
       "<style scoped>\n",
       "    .dataframe tbody tr th:only-of-type {\n",
       "        vertical-align: middle;\n",
       "    }\n",
       "\n",
       "    .dataframe tbody tr th {\n",
       "        vertical-align: top;\n",
       "    }\n",
       "\n",
       "    .dataframe thead th {\n",
       "        text-align: right;\n",
       "    }\n",
       "</style>\n",
       "<table border=\"1\" class=\"dataframe\">\n",
       "  <thead>\n",
       "    <tr style=\"text-align: right;\">\n",
       "      <th></th>\n",
       "      <th>Selection</th>\n",
       "      <th>High Freq (Hz)</th>\n",
       "      <th>File Offset (s)</th>\n",
       "      <th>filename</th>\n",
       "      <th>duration</th>\n",
       "      <th>marginals</th>\n",
       "      <th>Parent</th>\n",
       "      <th>Folder</th>\n",
       "    </tr>\n",
       "  </thead>\n",
       "  <tbody>\n",
       "    <tr>\n",
       "      <th>0</th>\n",
       "      <td>1</td>\n",
       "      <td>36.600</td>\n",
       "      <td>29314.080</td>\n",
       "      <td>nn01d_20180127_000000.wav</td>\n",
       "      <td>4.407</td>\n",
       "      <td>NaN</td>\n",
       "      <td>nn01d</td>\n",
       "      <td>Testing</td>\n",
       "    </tr>\n",
       "    <tr>\n",
       "      <th>1</th>\n",
       "      <td>2</td>\n",
       "      <td>31.200</td>\n",
       "      <td>32552.884</td>\n",
       "      <td>nn01d_20180127_000000.wav</td>\n",
       "      <td>3.954</td>\n",
       "      <td>NaN</td>\n",
       "      <td>nn01d</td>\n",
       "      <td>Testing</td>\n",
       "    </tr>\n",
       "    <tr>\n",
       "      <th>2</th>\n",
       "      <td>3</td>\n",
       "      <td>39.100</td>\n",
       "      <td>40181.978</td>\n",
       "      <td>nn01d_20180127_000000.wav</td>\n",
       "      <td>6.526</td>\n",
       "      <td>NaN</td>\n",
       "      <td>nn01d</td>\n",
       "      <td>Testing</td>\n",
       "    </tr>\n",
       "    <tr>\n",
       "      <th>3</th>\n",
       "      <td>4</td>\n",
       "      <td>40.000</td>\n",
       "      <td>22722.894</td>\n",
       "      <td>nn02e_20180906_000000.wav</td>\n",
       "      <td>5.320</td>\n",
       "      <td>NaN</td>\n",
       "      <td>nn02e</td>\n",
       "      <td>Testing</td>\n",
       "    </tr>\n",
       "    <tr>\n",
       "      <th>4</th>\n",
       "      <td>5</td>\n",
       "      <td>30.300</td>\n",
       "      <td>22726.736</td>\n",
       "      <td>nn02e_20180906_000000.wav</td>\n",
       "      <td>3.029</td>\n",
       "      <td>NaN</td>\n",
       "      <td>nn02e</td>\n",
       "      <td>Testing</td>\n",
       "    </tr>\n",
       "    <tr>\n",
       "      <th>...</th>\n",
       "      <td>...</td>\n",
       "      <td>...</td>\n",
       "      <td>...</td>\n",
       "      <td>...</td>\n",
       "      <td>...</td>\n",
       "      <td>...</td>\n",
       "      <td>...</td>\n",
       "      <td>...</td>\n",
       "    </tr>\n",
       "    <tr>\n",
       "      <th>753</th>\n",
       "      <td>754</td>\n",
       "      <td>39.400</td>\n",
       "      <td>3530.350</td>\n",
       "      <td>nn10b_20180907_000000.wav</td>\n",
       "      <td>4.359</td>\n",
       "      <td>maginal</td>\n",
       "      <td>nn10b</td>\n",
       "      <td>Testing</td>\n",
       "    </tr>\n",
       "    <tr>\n",
       "      <th>754</th>\n",
       "      <td>755</td>\n",
       "      <td>46.600</td>\n",
       "      <td>3533.675</td>\n",
       "      <td>nn10b_20180907_000000.wav</td>\n",
       "      <td>2.139</td>\n",
       "      <td>maginal</td>\n",
       "      <td>nn10b</td>\n",
       "      <td>Testing</td>\n",
       "    </tr>\n",
       "    <tr>\n",
       "      <th>755</th>\n",
       "      <td>756</td>\n",
       "      <td>49.300</td>\n",
       "      <td>3547.271</td>\n",
       "      <td>nn10b_20180907_000000.wav</td>\n",
       "      <td>3.510</td>\n",
       "      <td>maginal</td>\n",
       "      <td>nn10b</td>\n",
       "      <td>Testing</td>\n",
       "    </tr>\n",
       "    <tr>\n",
       "      <th>756</th>\n",
       "      <td>757</td>\n",
       "      <td>43.624</td>\n",
       "      <td>52488.090</td>\n",
       "      <td>nn10b_20180907_000000.wav</td>\n",
       "      <td>4.492</td>\n",
       "      <td>NaN</td>\n",
       "      <td>nn10b</td>\n",
       "      <td>Testing</td>\n",
       "    </tr>\n",
       "    <tr>\n",
       "      <th>757</th>\n",
       "      <td>758</td>\n",
       "      <td>40.700</td>\n",
       "      <td>57794.863</td>\n",
       "      <td>nn10b_20180907_000000.wav</td>\n",
       "      <td>4.128</td>\n",
       "      <td>maginal</td>\n",
       "      <td>nn10b</td>\n",
       "      <td>Testing</td>\n",
       "    </tr>\n",
       "  </tbody>\n",
       "</table>\n",
       "<p>757 rows × 8 columns</p>\n",
       "</div>"
      ],
      "text/plain": [
       "     Selection  High Freq (Hz)  File Offset (s)                   filename  \\\n",
       "0            1          36.600        29314.080  nn01d_20180127_000000.wav   \n",
       "1            2          31.200        32552.884  nn01d_20180127_000000.wav   \n",
       "2            3          39.100        40181.978  nn01d_20180127_000000.wav   \n",
       "3            4          40.000        22722.894  nn02e_20180906_000000.wav   \n",
       "4            5          30.300        22726.736  nn02e_20180906_000000.wav   \n",
       "..         ...             ...              ...                        ...   \n",
       "753        754          39.400         3530.350  nn10b_20180907_000000.wav   \n",
       "754        755          46.600         3533.675  nn10b_20180907_000000.wav   \n",
       "755        756          49.300         3547.271  nn10b_20180907_000000.wav   \n",
       "756        757          43.624        52488.090  nn10b_20180907_000000.wav   \n",
       "757        758          40.700        57794.863  nn10b_20180907_000000.wav   \n",
       "\n",
       "     duration marginals Parent   Folder  \n",
       "0       4.407       NaN  nn01d  Testing  \n",
       "1       3.954       NaN  nn01d  Testing  \n",
       "2       6.526       NaN  nn01d  Testing  \n",
       "3       5.320       NaN  nn02e  Testing  \n",
       "4       3.029       NaN  nn02e  Testing  \n",
       "..        ...       ...    ...      ...  \n",
       "753     4.359   maginal  nn10b  Testing  \n",
       "754     2.139   maginal  nn10b  Testing  \n",
       "755     3.510   maginal  nn10b  Testing  \n",
       "756     4.492       NaN  nn10b  Testing  \n",
       "757     4.128   maginal  nn10b  Testing  \n",
       "\n",
       "[757 rows x 8 columns]"
      ]
     },
     "execution_count": 56,
     "metadata": {},
     "output_type": "execute_result"
    }
   ],
   "source": [
    "test_set"
   ]
  },
  {
   "cell_type": "code",
   "execution_count": 58,
   "metadata": {},
   "outputs": [
    {
     "data": {
      "text/plain": [
       "True"
      ]
     },
     "execution_count": 58,
     "metadata": {},
     "output_type": "execute_result"
    }
   ],
   "source": [
    "len(os.listdir('../mubin/Data/Testing/Noise')) == len(test_set)"
   ]
  },
  {
   "cell_type": "code",
   "execution_count": null,
   "metadata": {},
   "outputs": [],
   "source": []
  }
 ],
 "metadata": {
  "kernel_info": {
   "name": "python3-azureml"
  },
  "kernelspec": {
   "display_name": "Python 3.6 - AzureML",
   "language": "python",
   "name": "python3-azureml"
  },
  "language_info": {
   "codemirror_mode": {
    "name": "ipython",
    "version": 3
   },
   "file_extension": ".py",
   "mimetype": "text/x-python",
   "name": "python",
   "nbconvert_exporter": "python",
   "pygments_lexer": "ipython3",
   "version": "3.6.9"
  },
  "microsoft": {
   "host": {
    "AzureML": {
     "notebookHasBeenCompleted": true
    }
   }
  },
  "nteract": {
   "version": "nteract-front-end@1.0.0"
  }
 },
 "nbformat": 4,
 "nbformat_minor": 2
}

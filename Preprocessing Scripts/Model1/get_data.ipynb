{
 "cells": [
  {
   "cell_type": "code",
   "execution_count": 148,
   "metadata": {},
   "outputs": [],
   "source": [
    "import os\n",
    "import boto3\n",
    "from botocore.handlers import disable_signing"
   ]
  },
  {
   "cell_type": "code",
   "execution_count": 149,
   "metadata": {},
   "outputs": [
    {
     "data": {
      "text/plain": [
       "'1.15.18'"
      ]
     },
     "execution_count": 149,
     "metadata": {},
     "output_type": "execute_result"
    }
   ],
   "source": [
    "boto3.__version__"
   ]
  },
  {
   "cell_type": "code",
   "execution_count": 150,
   "metadata": {},
   "outputs": [],
   "source": [
    "s3 = boto3.resource('s3')\n",
    "s3.meta.client.meta.events.register('choose-signer.s3.*', disable_signing)\n",
    "bucket = s3.Bucket('congo8khz-pnnn')"
   ]
  },
  {
   "cell_type": "code",
   "execution_count": null,
   "metadata": {},
   "outputs": [],
   "source": []
  },
  {
   "cell_type": "code",
   "execution_count": 197,
   "metadata": {},
   "outputs": [],
   "source": [
    "import pandas as pd\n",
    "import numpy as np\n",
    "\n",
    "import os\n",
    "from tqdm import tqdm\n",
    "\n",
    "from scipy.io import wavfile\n",
    "import math"
   ]
  },
  {
   "cell_type": "code",
   "execution_count": 57,
   "metadata": {},
   "outputs": [],
   "source": [
    "training_set = pd.read_csv('./TrainingSet_rumble_info.txt', sep = '\\t')"
   ]
  },
  {
   "cell_type": "code",
   "execution_count": 59,
   "metadata": {},
   "outputs": [],
   "source": [
    "def get_parent(col):\n",
    "    return col.split('_')[0]"
   ]
  },
  {
   "cell_type": "code",
   "execution_count": 64,
   "metadata": {},
   "outputs": [],
   "source": [
    "training_set['Parent'] = training_set['filename'].apply(get_parent)"
   ]
  },
  {
   "cell_type": "code",
   "execution_count": 69,
   "metadata": {},
   "outputs": [],
   "source": [
    "training_set['Folder'] = ['Training']*len(training_set)"
   ]
  },
  {
   "cell_type": "code",
   "execution_count": 67,
   "metadata": {},
   "outputs": [
    {
     "data": {
      "text/plain": [
       "marginal    945\n",
       "Name: marginals, dtype: int64"
      ]
     },
     "execution_count": 67,
     "metadata": {},
     "output_type": "execute_result"
    }
   ],
   "source": [
    "training_set['marginals'].value_counts()"
   ]
  },
  {
   "cell_type": "code",
   "execution_count": 211,
   "metadata": {},
   "outputs": [
    {
     "data": {
      "text/html": [
       "<div>\n",
       "<style scoped>\n",
       "    .dataframe tbody tr th:only-of-type {\n",
       "        vertical-align: middle;\n",
       "    }\n",
       "\n",
       "    .dataframe tbody tr th {\n",
       "        vertical-align: top;\n",
       "    }\n",
       "\n",
       "    .dataframe thead th {\n",
       "        text-align: right;\n",
       "    }\n",
       "</style>\n",
       "<table border=\"1\" class=\"dataframe\">\n",
       "  <thead>\n",
       "    <tr style=\"text-align: right;\">\n",
       "      <th></th>\n",
       "      <th>Selection</th>\n",
       "      <th>High Freq (Hz)</th>\n",
       "      <th>File Offset (s)</th>\n",
       "      <th>filename</th>\n",
       "      <th>duration</th>\n",
       "      <th>marginals</th>\n",
       "      <th>Parent</th>\n",
       "      <th>Folder</th>\n",
       "    </tr>\n",
       "  </thead>\n",
       "  <tbody>\n",
       "    <tr>\n",
       "      <th>0</th>\n",
       "      <td>1</td>\n",
       "      <td>49.7</td>\n",
       "      <td>48860.426</td>\n",
       "      <td>nn01a_20180126_000000.wav</td>\n",
       "      <td>6.2622</td>\n",
       "      <td>NaN</td>\n",
       "      <td>nn01a</td>\n",
       "      <td>Training</td>\n",
       "    </tr>\n",
       "    <tr>\n",
       "      <th>1</th>\n",
       "      <td>2</td>\n",
       "      <td>47.9</td>\n",
       "      <td>48865.100</td>\n",
       "      <td>nn01a_20180126_000000.wav</td>\n",
       "      <td>3.8974</td>\n",
       "      <td>NaN</td>\n",
       "      <td>nn01a</td>\n",
       "      <td>Training</td>\n",
       "    </tr>\n",
       "    <tr>\n",
       "      <th>2</th>\n",
       "      <td>3</td>\n",
       "      <td>49.7</td>\n",
       "      <td>48869.829</td>\n",
       "      <td>nn01a_20180126_000000.wav</td>\n",
       "      <td>4.2672</td>\n",
       "      <td>NaN</td>\n",
       "      <td>nn01a</td>\n",
       "      <td>Training</td>\n",
       "    </tr>\n",
       "    <tr>\n",
       "      <th>3</th>\n",
       "      <td>4</td>\n",
       "      <td>58.1</td>\n",
       "      <td>48876.017</td>\n",
       "      <td>nn01a_20180126_000000.wav</td>\n",
       "      <td>4.0640</td>\n",
       "      <td>NaN</td>\n",
       "      <td>nn01a</td>\n",
       "      <td>Training</td>\n",
       "    </tr>\n",
       "    <tr>\n",
       "      <th>4</th>\n",
       "      <td>5</td>\n",
       "      <td>57.1</td>\n",
       "      <td>48880.487</td>\n",
       "      <td>nn01a_20180126_000000.wav</td>\n",
       "      <td>4.3227</td>\n",
       "      <td>NaN</td>\n",
       "      <td>nn01a</td>\n",
       "      <td>Training</td>\n",
       "    </tr>\n",
       "    <tr>\n",
       "      <th>...</th>\n",
       "      <td>...</td>\n",
       "      <td>...</td>\n",
       "      <td>...</td>\n",
       "      <td>...</td>\n",
       "      <td>...</td>\n",
       "      <td>...</td>\n",
       "      <td>...</td>\n",
       "      <td>...</td>\n",
       "    </tr>\n",
       "    <tr>\n",
       "      <th>3175</th>\n",
       "      <td>3176</td>\n",
       "      <td>44.1</td>\n",
       "      <td>86263.733</td>\n",
       "      <td>nn10b_20180728_000000.wav</td>\n",
       "      <td>2.2700</td>\n",
       "      <td>NaN</td>\n",
       "      <td>nn10b</td>\n",
       "      <td>Training</td>\n",
       "    </tr>\n",
       "    <tr>\n",
       "      <th>3176</th>\n",
       "      <td>3177</td>\n",
       "      <td>33.6</td>\n",
       "      <td>86264.870</td>\n",
       "      <td>nn10b_20180728_000000.wav</td>\n",
       "      <td>6.4400</td>\n",
       "      <td>NaN</td>\n",
       "      <td>nn10b</td>\n",
       "      <td>Training</td>\n",
       "    </tr>\n",
       "    <tr>\n",
       "      <th>3177</th>\n",
       "      <td>3178</td>\n",
       "      <td>44.1</td>\n",
       "      <td>86269.957</td>\n",
       "      <td>nn10b_20180728_000000.wav</td>\n",
       "      <td>6.3800</td>\n",
       "      <td>NaN</td>\n",
       "      <td>nn10b</td>\n",
       "      <td>Training</td>\n",
       "    </tr>\n",
       "    <tr>\n",
       "      <th>3178</th>\n",
       "      <td>3179</td>\n",
       "      <td>29.0</td>\n",
       "      <td>86300.628</td>\n",
       "      <td>nn10b_20180728_000000.wav</td>\n",
       "      <td>3.4700</td>\n",
       "      <td>NaN</td>\n",
       "      <td>nn10b</td>\n",
       "      <td>Training</td>\n",
       "    </tr>\n",
       "    <tr>\n",
       "      <th>3179</th>\n",
       "      <td>3180</td>\n",
       "      <td>38.3</td>\n",
       "      <td>86303.758</td>\n",
       "      <td>nn10b_20180728_000000.wav</td>\n",
       "      <td>2.3900</td>\n",
       "      <td>marginal</td>\n",
       "      <td>nn10b</td>\n",
       "      <td>Training</td>\n",
       "    </tr>\n",
       "  </tbody>\n",
       "</table>\n",
       "<p>3180 rows × 8 columns</p>\n",
       "</div>"
      ],
      "text/plain": [
       "      Selection  High Freq (Hz)  File Offset (s)                   filename  \\\n",
       "0             1            49.7        48860.426  nn01a_20180126_000000.wav   \n",
       "1             2            47.9        48865.100  nn01a_20180126_000000.wav   \n",
       "2             3            49.7        48869.829  nn01a_20180126_000000.wav   \n",
       "3             4            58.1        48876.017  nn01a_20180126_000000.wav   \n",
       "4             5            57.1        48880.487  nn01a_20180126_000000.wav   \n",
       "...         ...             ...              ...                        ...   \n",
       "3175       3176            44.1        86263.733  nn10b_20180728_000000.wav   \n",
       "3176       3177            33.6        86264.870  nn10b_20180728_000000.wav   \n",
       "3177       3178            44.1        86269.957  nn10b_20180728_000000.wav   \n",
       "3178       3179            29.0        86300.628  nn10b_20180728_000000.wav   \n",
       "3179       3180            38.3        86303.758  nn10b_20180728_000000.wav   \n",
       "\n",
       "      duration marginals Parent    Folder  \n",
       "0       6.2622       NaN  nn01a  Training  \n",
       "1       3.8974       NaN  nn01a  Training  \n",
       "2       4.2672       NaN  nn01a  Training  \n",
       "3       4.0640       NaN  nn01a  Training  \n",
       "4       4.3227       NaN  nn01a  Training  \n",
       "...        ...       ...    ...       ...  \n",
       "3175    2.2700       NaN  nn10b  Training  \n",
       "3176    6.4400       NaN  nn10b  Training  \n",
       "3177    6.3800       NaN  nn10b  Training  \n",
       "3178    3.4700       NaN  nn10b  Training  \n",
       "3179    2.3900  marginal  nn10b  Training  \n",
       "\n",
       "[3180 rows x 8 columns]"
      ]
     },
     "execution_count": 211,
     "metadata": {},
     "output_type": "execute_result"
    }
   ],
   "source": [
    "training_set"
   ]
  },
  {
   "cell_type": "code",
   "execution_count": 92,
   "metadata": {},
   "outputs": [],
   "source": [
    "test_set = pd.read_csv('./GeneralTest_rumble_info.txt', sep = '\\t')"
   ]
  },
  {
   "cell_type": "code",
   "execution_count": 93,
   "metadata": {},
   "outputs": [],
   "source": [
    "test_set['Parent'] = test_set['filename'].apply(get_parent)"
   ]
  },
  {
   "cell_type": "code",
   "execution_count": 94,
   "metadata": {},
   "outputs": [],
   "source": [
    "test_set['Folder'] = ['Testing']*len(test_set)"
   ]
  },
  {
   "cell_type": "code",
   "execution_count": 95,
   "metadata": {},
   "outputs": [
    {
     "data": {
      "text/plain": [
       "array([nan, 'maginal', 'DUMMY_NoEles', 'marginal'], dtype=object)"
      ]
     },
     "execution_count": 95,
     "metadata": {},
     "output_type": "execute_result"
    }
   ],
   "source": [
    "test_set['marginals'].unique()"
   ]
  },
  {
   "cell_type": "code",
   "execution_count": 96,
   "metadata": {},
   "outputs": [],
   "source": [
    "test_set.drop(test_set[test_set['marginals'] == 'DUMMY_NoEles'].index, inplace = True)"
   ]
  },
  {
   "cell_type": "code",
   "execution_count": null,
   "metadata": {},
   "outputs": [],
   "source": []
  },
  {
   "cell_type": "code",
   "execution_count": 97,
   "metadata": {},
   "outputs": [],
   "source": [
    "join_set = pd.concat([training_set, test_set], ignore_index = True, join = 'outer')"
   ]
  },
  {
   "cell_type": "code",
   "execution_count": 98,
   "metadata": {},
   "outputs": [
    {
     "data": {
      "text/html": [
       "<div>\n",
       "<style scoped>\n",
       "    .dataframe tbody tr th:only-of-type {\n",
       "        vertical-align: middle;\n",
       "    }\n",
       "\n",
       "    .dataframe tbody tr th {\n",
       "        vertical-align: top;\n",
       "    }\n",
       "\n",
       "    .dataframe thead th {\n",
       "        text-align: right;\n",
       "    }\n",
       "</style>\n",
       "<table border=\"1\" class=\"dataframe\">\n",
       "  <thead>\n",
       "    <tr style=\"text-align: right;\">\n",
       "      <th></th>\n",
       "      <th>Selection</th>\n",
       "      <th>High Freq (Hz)</th>\n",
       "      <th>File Offset (s)</th>\n",
       "      <th>filename</th>\n",
       "      <th>duration</th>\n",
       "      <th>marginals</th>\n",
       "      <th>Parent</th>\n",
       "      <th>Folder</th>\n",
       "    </tr>\n",
       "  </thead>\n",
       "  <tbody>\n",
       "    <tr>\n",
       "      <th>0</th>\n",
       "      <td>1</td>\n",
       "      <td>49.700</td>\n",
       "      <td>48860.426</td>\n",
       "      <td>nn01a_20180126_000000.wav</td>\n",
       "      <td>6.2622</td>\n",
       "      <td>NaN</td>\n",
       "      <td>nn01a</td>\n",
       "      <td>Training</td>\n",
       "    </tr>\n",
       "    <tr>\n",
       "      <th>1</th>\n",
       "      <td>2</td>\n",
       "      <td>47.900</td>\n",
       "      <td>48865.100</td>\n",
       "      <td>nn01a_20180126_000000.wav</td>\n",
       "      <td>3.8974</td>\n",
       "      <td>NaN</td>\n",
       "      <td>nn01a</td>\n",
       "      <td>Training</td>\n",
       "    </tr>\n",
       "    <tr>\n",
       "      <th>2</th>\n",
       "      <td>3</td>\n",
       "      <td>49.700</td>\n",
       "      <td>48869.829</td>\n",
       "      <td>nn01a_20180126_000000.wav</td>\n",
       "      <td>4.2672</td>\n",
       "      <td>NaN</td>\n",
       "      <td>nn01a</td>\n",
       "      <td>Training</td>\n",
       "    </tr>\n",
       "    <tr>\n",
       "      <th>3</th>\n",
       "      <td>4</td>\n",
       "      <td>58.100</td>\n",
       "      <td>48876.017</td>\n",
       "      <td>nn01a_20180126_000000.wav</td>\n",
       "      <td>4.0640</td>\n",
       "      <td>NaN</td>\n",
       "      <td>nn01a</td>\n",
       "      <td>Training</td>\n",
       "    </tr>\n",
       "    <tr>\n",
       "      <th>4</th>\n",
       "      <td>5</td>\n",
       "      <td>57.100</td>\n",
       "      <td>48880.487</td>\n",
       "      <td>nn01a_20180126_000000.wav</td>\n",
       "      <td>4.3227</td>\n",
       "      <td>NaN</td>\n",
       "      <td>nn01a</td>\n",
       "      <td>Training</td>\n",
       "    </tr>\n",
       "    <tr>\n",
       "      <th>...</th>\n",
       "      <td>...</td>\n",
       "      <td>...</td>\n",
       "      <td>...</td>\n",
       "      <td>...</td>\n",
       "      <td>...</td>\n",
       "      <td>...</td>\n",
       "      <td>...</td>\n",
       "      <td>...</td>\n",
       "    </tr>\n",
       "    <tr>\n",
       "      <th>3932</th>\n",
       "      <td>754</td>\n",
       "      <td>39.400</td>\n",
       "      <td>3530.350</td>\n",
       "      <td>nn10b_20180907_000000.wav</td>\n",
       "      <td>4.3590</td>\n",
       "      <td>maginal</td>\n",
       "      <td>nn10b</td>\n",
       "      <td>Testing</td>\n",
       "    </tr>\n",
       "    <tr>\n",
       "      <th>3933</th>\n",
       "      <td>755</td>\n",
       "      <td>46.600</td>\n",
       "      <td>3533.675</td>\n",
       "      <td>nn10b_20180907_000000.wav</td>\n",
       "      <td>2.1390</td>\n",
       "      <td>maginal</td>\n",
       "      <td>nn10b</td>\n",
       "      <td>Testing</td>\n",
       "    </tr>\n",
       "    <tr>\n",
       "      <th>3934</th>\n",
       "      <td>756</td>\n",
       "      <td>49.300</td>\n",
       "      <td>3547.271</td>\n",
       "      <td>nn10b_20180907_000000.wav</td>\n",
       "      <td>3.5100</td>\n",
       "      <td>maginal</td>\n",
       "      <td>nn10b</td>\n",
       "      <td>Testing</td>\n",
       "    </tr>\n",
       "    <tr>\n",
       "      <th>3935</th>\n",
       "      <td>757</td>\n",
       "      <td>43.624</td>\n",
       "      <td>52488.090</td>\n",
       "      <td>nn10b_20180907_000000.wav</td>\n",
       "      <td>4.4920</td>\n",
       "      <td>NaN</td>\n",
       "      <td>nn10b</td>\n",
       "      <td>Testing</td>\n",
       "    </tr>\n",
       "    <tr>\n",
       "      <th>3936</th>\n",
       "      <td>758</td>\n",
       "      <td>40.700</td>\n",
       "      <td>57794.863</td>\n",
       "      <td>nn10b_20180907_000000.wav</td>\n",
       "      <td>4.1280</td>\n",
       "      <td>maginal</td>\n",
       "      <td>nn10b</td>\n",
       "      <td>Testing</td>\n",
       "    </tr>\n",
       "  </tbody>\n",
       "</table>\n",
       "<p>3937 rows × 8 columns</p>\n",
       "</div>"
      ],
      "text/plain": [
       "      Selection  High Freq (Hz)  File Offset (s)                   filename  \\\n",
       "0             1          49.700        48860.426  nn01a_20180126_000000.wav   \n",
       "1             2          47.900        48865.100  nn01a_20180126_000000.wav   \n",
       "2             3          49.700        48869.829  nn01a_20180126_000000.wav   \n",
       "3             4          58.100        48876.017  nn01a_20180126_000000.wav   \n",
       "4             5          57.100        48880.487  nn01a_20180126_000000.wav   \n",
       "...         ...             ...              ...                        ...   \n",
       "3932        754          39.400         3530.350  nn10b_20180907_000000.wav   \n",
       "3933        755          46.600         3533.675  nn10b_20180907_000000.wav   \n",
       "3934        756          49.300         3547.271  nn10b_20180907_000000.wav   \n",
       "3935        757          43.624        52488.090  nn10b_20180907_000000.wav   \n",
       "3936        758          40.700        57794.863  nn10b_20180907_000000.wav   \n",
       "\n",
       "      duration marginals Parent    Folder  \n",
       "0       6.2622       NaN  nn01a  Training  \n",
       "1       3.8974       NaN  nn01a  Training  \n",
       "2       4.2672       NaN  nn01a  Training  \n",
       "3       4.0640       NaN  nn01a  Training  \n",
       "4       4.3227       NaN  nn01a  Training  \n",
       "...        ...       ...    ...       ...  \n",
       "3932    4.3590   maginal  nn10b   Testing  \n",
       "3933    2.1390   maginal  nn10b   Testing  \n",
       "3934    3.5100   maginal  nn10b   Testing  \n",
       "3935    4.4920       NaN  nn10b   Testing  \n",
       "3936    4.1280   maginal  nn10b   Testing  \n",
       "\n",
       "[3937 rows x 8 columns]"
      ]
     },
     "execution_count": 98,
     "metadata": {},
     "output_type": "execute_result"
    }
   ],
   "source": [
    "join_set"
   ]
  },
  {
   "cell_type": "code",
   "execution_count": 199,
   "metadata": {},
   "outputs": [],
   "source": [
    "import shutil"
   ]
  },
  {
   "cell_type": "code",
   "execution_count": 200,
   "metadata": {},
   "outputs": [],
   "source": [
    "if 'Data' not in os.listdir():\n",
    "    os.makedirs('./Data/Training/Rumbles')\n",
    "    os.makedirs('./Data/Training/Noise')\n",
    "    os.makedirs('./Data/Testing/Rumbles')\n",
    "    os.makedirs('./Data/Testing/Noise')\n",
    "else:\n",
    "    shutil.rmtree('./Data')\n",
    "    os.makedirs('./Data/Training/Rumbles')\n",
    "    os.makedirs('./Data/Training/Noise')\n",
    "    os.makedirs('./Data/Testing/Rumbles')\n",
    "    os.makedirs('./Data/Testing/Noise')"
   ]
  },
  {
   "cell_type": "code",
   "execution_count": 115,
   "metadata": {},
   "outputs": [],
   "source": [
    "parent_folders = join_set['Parent'].unique()"
   ]
  },
  {
   "cell_type": "code",
   "execution_count": 201,
   "metadata": {},
   "outputs": [
    {
     "name": "stderr",
     "output_type": "stream",
     "text": [
      "100%|██████████| 46/46 [3:10:45<00:00, 248.81s/it]  \n"
     ]
    }
   ],
   "source": [
    "train_rumble_counter = 1\n",
    "test_rumble_counter = 1\n",
    "for folder in tqdm(parent_folders):\n",
    "    parent_df = join_set.query('Parent == @folder')\n",
    "    files = parent_df['filename'].unique()\n",
    "    for file in files:\n",
    "        file_df = parent_df.query('filename == @file')\n",
    "        bucket.download_file('recordings/wav/' + folder + '/' + file, './'+file)\n",
    "        sr, og_audio = wavfile.read(file)\n",
    "        for offset, duration, save_folder in zip(file_df['File Offset (s)'], file_df['duration'], file_df['Folder']):\n",
    "            start_sample = math.floor(sr*offset)\n",
    "            end_sample = math.ceil(sr*(offset+duration))\n",
    "            out_audio = og_audio[start_sample:end_sample+1]\n",
    "            if save_folder == 'Training':\n",
    "                wavfile.write('./Data/Training/Rumbles/rumble_{}.wav'.format(train_rumble_counter), sr, out_audio)\n",
    "                train_rumble_counter+=1\n",
    "            else:\n",
    "                wavfile.write('./Data/Testing/Rumbles/rumble_{}.wav'.format(test_rumble_counter), sr, out_audio)\n",
    "                test_rumble_counter+=1\n",
    "        os.remove('./'+file)"
   ]
  },
  {
   "cell_type": "code",
   "execution_count": 142,
   "metadata": {},
   "outputs": [
    {
     "data": {
      "text/plain": [
       "array(['nn01a', 'nn01b', 'nn01c', 'nn01d', 'nn01e', 'nn01f', 'nn01g',\n",
       "       'nn02a', 'nn02b', 'nn02c', 'nn02d', 'nn02e', 'nn02f', 'nn02g',\n",
       "       'nn03a', 'nn03b', 'nn03c', 'nn03d', 'nn03e', 'nn03f', 'nn03g',\n",
       "       'nn04a', 'nn04b', 'nn04c', 'nn04d', 'nn04f', 'nn05a', 'nn05b',\n",
       "       'nn05c', 'nn05d', 'nn05e', 'nn06a', 'nn06b', 'nn06c', 'nn06d',\n",
       "       'nn06e', 'nn06f', 'nn07b', 'nn07c', 'nn08a', 'nn08b', 'nn08c',\n",
       "       'nn09b', 'nn10a', 'nn10b', 'nn07a'], dtype=object)"
      ]
     },
     "execution_count": 142,
     "metadata": {},
     "output_type": "execute_result"
    }
   ],
   "source": [
    "parent_folders"
   ]
  },
  {
   "cell_type": "code",
   "execution_count": 145,
   "metadata": {},
   "outputs": [
    {
     "data": {
      "text/html": [
       "<div>\n",
       "<style scoped>\n",
       "    .dataframe tbody tr th:only-of-type {\n",
       "        vertical-align: middle;\n",
       "    }\n",
       "\n",
       "    .dataframe tbody tr th {\n",
       "        vertical-align: top;\n",
       "    }\n",
       "\n",
       "    .dataframe thead th {\n",
       "        text-align: right;\n",
       "    }\n",
       "</style>\n",
       "<table border=\"1\" class=\"dataframe\">\n",
       "  <thead>\n",
       "    <tr style=\"text-align: right;\">\n",
       "      <th></th>\n",
       "      <th>Selection</th>\n",
       "      <th>High Freq (Hz)</th>\n",
       "      <th>File Offset (s)</th>\n",
       "      <th>filename</th>\n",
       "      <th>duration</th>\n",
       "      <th>marginals</th>\n",
       "      <th>Parent</th>\n",
       "      <th>Folder</th>\n",
       "    </tr>\n",
       "  </thead>\n",
       "  <tbody>\n",
       "    <tr>\n",
       "      <th>0</th>\n",
       "      <td>1</td>\n",
       "      <td>49.7</td>\n",
       "      <td>48860.426</td>\n",
       "      <td>nn01a_20180126_000000.wav</td>\n",
       "      <td>6.2622</td>\n",
       "      <td>NaN</td>\n",
       "      <td>nn01a</td>\n",
       "      <td>Training</td>\n",
       "    </tr>\n",
       "    <tr>\n",
       "      <th>1</th>\n",
       "      <td>2</td>\n",
       "      <td>47.9</td>\n",
       "      <td>48865.100</td>\n",
       "      <td>nn01a_20180126_000000.wav</td>\n",
       "      <td>3.8974</td>\n",
       "      <td>NaN</td>\n",
       "      <td>nn01a</td>\n",
       "      <td>Training</td>\n",
       "    </tr>\n",
       "    <tr>\n",
       "      <th>2</th>\n",
       "      <td>3</td>\n",
       "      <td>49.7</td>\n",
       "      <td>48869.829</td>\n",
       "      <td>nn01a_20180126_000000.wav</td>\n",
       "      <td>4.2672</td>\n",
       "      <td>NaN</td>\n",
       "      <td>nn01a</td>\n",
       "      <td>Training</td>\n",
       "    </tr>\n",
       "    <tr>\n",
       "      <th>3</th>\n",
       "      <td>4</td>\n",
       "      <td>58.1</td>\n",
       "      <td>48876.017</td>\n",
       "      <td>nn01a_20180126_000000.wav</td>\n",
       "      <td>4.0640</td>\n",
       "      <td>NaN</td>\n",
       "      <td>nn01a</td>\n",
       "      <td>Training</td>\n",
       "    </tr>\n",
       "    <tr>\n",
       "      <th>4</th>\n",
       "      <td>5</td>\n",
       "      <td>57.1</td>\n",
       "      <td>48880.487</td>\n",
       "      <td>nn01a_20180126_000000.wav</td>\n",
       "      <td>4.3227</td>\n",
       "      <td>NaN</td>\n",
       "      <td>nn01a</td>\n",
       "      <td>Training</td>\n",
       "    </tr>\n",
       "    <tr>\n",
       "      <th>...</th>\n",
       "      <td>...</td>\n",
       "      <td>...</td>\n",
       "      <td>...</td>\n",
       "      <td>...</td>\n",
       "      <td>...</td>\n",
       "      <td>...</td>\n",
       "      <td>...</td>\n",
       "      <td>...</td>\n",
       "    </tr>\n",
       "    <tr>\n",
       "      <th>76</th>\n",
       "      <td>77</td>\n",
       "      <td>41.3</td>\n",
       "      <td>39030.894</td>\n",
       "      <td>nn01a_20180706_000000.wav</td>\n",
       "      <td>1.9751</td>\n",
       "      <td>NaN</td>\n",
       "      <td>nn01a</td>\n",
       "      <td>Training</td>\n",
       "    </tr>\n",
       "    <tr>\n",
       "      <th>77</th>\n",
       "      <td>78</td>\n",
       "      <td>32.4</td>\n",
       "      <td>39031.826</td>\n",
       "      <td>nn01a_20180706_000000.wav</td>\n",
       "      <td>3.0186</td>\n",
       "      <td>NaN</td>\n",
       "      <td>nn01a</td>\n",
       "      <td>Training</td>\n",
       "    </tr>\n",
       "    <tr>\n",
       "      <th>78</th>\n",
       "      <td>79</td>\n",
       "      <td>45.8</td>\n",
       "      <td>39058.435</td>\n",
       "      <td>nn01a_20180706_000000.wav</td>\n",
       "      <td>3.1677</td>\n",
       "      <td>NaN</td>\n",
       "      <td>nn01a</td>\n",
       "      <td>Training</td>\n",
       "    </tr>\n",
       "    <tr>\n",
       "      <th>79</th>\n",
       "      <td>80</td>\n",
       "      <td>35.7</td>\n",
       "      <td>39080.609</td>\n",
       "      <td>nn01a_20180706_000000.wav</td>\n",
       "      <td>1.5652</td>\n",
       "      <td>NaN</td>\n",
       "      <td>nn01a</td>\n",
       "      <td>Training</td>\n",
       "    </tr>\n",
       "    <tr>\n",
       "      <th>80</th>\n",
       "      <td>81</td>\n",
       "      <td>45.8</td>\n",
       "      <td>39082.435</td>\n",
       "      <td>nn01a_20180706_000000.wav</td>\n",
       "      <td>1.5652</td>\n",
       "      <td>NaN</td>\n",
       "      <td>nn01a</td>\n",
       "      <td>Training</td>\n",
       "    </tr>\n",
       "  </tbody>\n",
       "</table>\n",
       "<p>81 rows × 8 columns</p>\n",
       "</div>"
      ],
      "text/plain": [
       "    Selection  High Freq (Hz)  File Offset (s)                   filename  \\\n",
       "0           1            49.7        48860.426  nn01a_20180126_000000.wav   \n",
       "1           2            47.9        48865.100  nn01a_20180126_000000.wav   \n",
       "2           3            49.7        48869.829  nn01a_20180126_000000.wav   \n",
       "3           4            58.1        48876.017  nn01a_20180126_000000.wav   \n",
       "4           5            57.1        48880.487  nn01a_20180126_000000.wav   \n",
       "..        ...             ...              ...                        ...   \n",
       "76         77            41.3        39030.894  nn01a_20180706_000000.wav   \n",
       "77         78            32.4        39031.826  nn01a_20180706_000000.wav   \n",
       "78         79            45.8        39058.435  nn01a_20180706_000000.wav   \n",
       "79         80            35.7        39080.609  nn01a_20180706_000000.wav   \n",
       "80         81            45.8        39082.435  nn01a_20180706_000000.wav   \n",
       "\n",
       "    duration marginals Parent    Folder  \n",
       "0     6.2622       NaN  nn01a  Training  \n",
       "1     3.8974       NaN  nn01a  Training  \n",
       "2     4.2672       NaN  nn01a  Training  \n",
       "3     4.0640       NaN  nn01a  Training  \n",
       "4     4.3227       NaN  nn01a  Training  \n",
       "..       ...       ...    ...       ...  \n",
       "76    1.9751       NaN  nn01a  Training  \n",
       "77    3.0186       NaN  nn01a  Training  \n",
       "78    3.1677       NaN  nn01a  Training  \n",
       "79    1.5652       NaN  nn01a  Training  \n",
       "80    1.5652       NaN  nn01a  Training  \n",
       "\n",
       "[81 rows x 8 columns]"
      ]
     },
     "execution_count": 145,
     "metadata": {},
     "output_type": "execute_result"
    }
   ],
   "source": [
    "parent_df"
   ]
  },
  {
   "cell_type": "code",
   "execution_count": 146,
   "metadata": {},
   "outputs": [
    {
     "data": {
      "text/plain": [
       "array(['nn01a_20180126_000000.wav', 'nn01a_20180203_000000.wav',\n",
       "       'nn01a_20180220_000000.wav', 'nn01a_20180305_000000.wav',\n",
       "       'nn01a_20180324_000000.wav', 'nn01a_20180330_000000.wav',\n",
       "       'nn01a_20180619_000000.wav', 'nn01a_20180706_000000.wav'],\n",
       "      dtype=object)"
      ]
     },
     "execution_count": 146,
     "metadata": {},
     "output_type": "execute_result"
    }
   ],
   "source": [
    "files"
   ]
  },
  {
   "cell_type": "code",
   "execution_count": 147,
   "metadata": {},
   "outputs": [
    {
     "data": {
      "text/html": [
       "<div>\n",
       "<style scoped>\n",
       "    .dataframe tbody tr th:only-of-type {\n",
       "        vertical-align: middle;\n",
       "    }\n",
       "\n",
       "    .dataframe tbody tr th {\n",
       "        vertical-align: top;\n",
       "    }\n",
       "\n",
       "    .dataframe thead th {\n",
       "        text-align: right;\n",
       "    }\n",
       "</style>\n",
       "<table border=\"1\" class=\"dataframe\">\n",
       "  <thead>\n",
       "    <tr style=\"text-align: right;\">\n",
       "      <th></th>\n",
       "      <th>Selection</th>\n",
       "      <th>High Freq (Hz)</th>\n",
       "      <th>File Offset (s)</th>\n",
       "      <th>filename</th>\n",
       "      <th>duration</th>\n",
       "      <th>marginals</th>\n",
       "      <th>Parent</th>\n",
       "      <th>Folder</th>\n",
       "    </tr>\n",
       "  </thead>\n",
       "  <tbody>\n",
       "    <tr>\n",
       "      <th>0</th>\n",
       "      <td>1</td>\n",
       "      <td>49.700</td>\n",
       "      <td>48860.426</td>\n",
       "      <td>nn01a_20180126_000000.wav</td>\n",
       "      <td>6.2622</td>\n",
       "      <td>NaN</td>\n",
       "      <td>nn01a</td>\n",
       "      <td>Training</td>\n",
       "    </tr>\n",
       "    <tr>\n",
       "      <th>1</th>\n",
       "      <td>2</td>\n",
       "      <td>47.900</td>\n",
       "      <td>48865.100</td>\n",
       "      <td>nn01a_20180126_000000.wav</td>\n",
       "      <td>3.8974</td>\n",
       "      <td>NaN</td>\n",
       "      <td>nn01a</td>\n",
       "      <td>Training</td>\n",
       "    </tr>\n",
       "    <tr>\n",
       "      <th>2</th>\n",
       "      <td>3</td>\n",
       "      <td>49.700</td>\n",
       "      <td>48869.829</td>\n",
       "      <td>nn01a_20180126_000000.wav</td>\n",
       "      <td>4.2672</td>\n",
       "      <td>NaN</td>\n",
       "      <td>nn01a</td>\n",
       "      <td>Training</td>\n",
       "    </tr>\n",
       "    <tr>\n",
       "      <th>3</th>\n",
       "      <td>4</td>\n",
       "      <td>58.100</td>\n",
       "      <td>48876.017</td>\n",
       "      <td>nn01a_20180126_000000.wav</td>\n",
       "      <td>4.0640</td>\n",
       "      <td>NaN</td>\n",
       "      <td>nn01a</td>\n",
       "      <td>Training</td>\n",
       "    </tr>\n",
       "    <tr>\n",
       "      <th>4</th>\n",
       "      <td>5</td>\n",
       "      <td>57.100</td>\n",
       "      <td>48880.487</td>\n",
       "      <td>nn01a_20180126_000000.wav</td>\n",
       "      <td>4.3227</td>\n",
       "      <td>NaN</td>\n",
       "      <td>nn01a</td>\n",
       "      <td>Training</td>\n",
       "    </tr>\n",
       "    <tr>\n",
       "      <th>5</th>\n",
       "      <td>6</td>\n",
       "      <td>57.100</td>\n",
       "      <td>49017.105</td>\n",
       "      <td>nn01a_20180126_000000.wav</td>\n",
       "      <td>3.5837</td>\n",
       "      <td>NaN</td>\n",
       "      <td>nn01a</td>\n",
       "      <td>Training</td>\n",
       "    </tr>\n",
       "    <tr>\n",
       "      <th>6</th>\n",
       "      <td>7</td>\n",
       "      <td>51.500</td>\n",
       "      <td>51113.721</td>\n",
       "      <td>nn01a_20180126_000000.wav</td>\n",
       "      <td>2.9927</td>\n",
       "      <td>marginal</td>\n",
       "      <td>nn01a</td>\n",
       "      <td>Training</td>\n",
       "    </tr>\n",
       "    <tr>\n",
       "      <th>7</th>\n",
       "      <td>8</td>\n",
       "      <td>46.500</td>\n",
       "      <td>51117.157</td>\n",
       "      <td>nn01a_20180126_000000.wav</td>\n",
       "      <td>3.1034</td>\n",
       "      <td>NaN</td>\n",
       "      <td>nn01a</td>\n",
       "      <td>Training</td>\n",
       "    </tr>\n",
       "    <tr>\n",
       "      <th>8</th>\n",
       "      <td>9</td>\n",
       "      <td>40.801</td>\n",
       "      <td>51405.606</td>\n",
       "      <td>nn01a_20180126_000000.wav</td>\n",
       "      <td>2.4330</td>\n",
       "      <td>marginal</td>\n",
       "      <td>nn01a</td>\n",
       "      <td>Training</td>\n",
       "    </tr>\n",
       "  </tbody>\n",
       "</table>\n",
       "</div>"
      ],
      "text/plain": [
       "   Selection  High Freq (Hz)  File Offset (s)                   filename  \\\n",
       "0          1          49.700        48860.426  nn01a_20180126_000000.wav   \n",
       "1          2          47.900        48865.100  nn01a_20180126_000000.wav   \n",
       "2          3          49.700        48869.829  nn01a_20180126_000000.wav   \n",
       "3          4          58.100        48876.017  nn01a_20180126_000000.wav   \n",
       "4          5          57.100        48880.487  nn01a_20180126_000000.wav   \n",
       "5          6          57.100        49017.105  nn01a_20180126_000000.wav   \n",
       "6          7          51.500        51113.721  nn01a_20180126_000000.wav   \n",
       "7          8          46.500        51117.157  nn01a_20180126_000000.wav   \n",
       "8          9          40.801        51405.606  nn01a_20180126_000000.wav   \n",
       "\n",
       "   duration marginals Parent    Folder  \n",
       "0    6.2622       NaN  nn01a  Training  \n",
       "1    3.8974       NaN  nn01a  Training  \n",
       "2    4.2672       NaN  nn01a  Training  \n",
       "3    4.0640       NaN  nn01a  Training  \n",
       "4    4.3227       NaN  nn01a  Training  \n",
       "5    3.5837       NaN  nn01a  Training  \n",
       "6    2.9927  marginal  nn01a  Training  \n",
       "7    3.1034       NaN  nn01a  Training  \n",
       "8    2.4330  marginal  nn01a  Training  "
      ]
     },
     "execution_count": 147,
     "metadata": {},
     "output_type": "execute_result"
    }
   ],
   "source": [
    "file_df"
   ]
  },
  {
   "cell_type": "code",
   "execution_count": 207,
   "metadata": {},
   "outputs": [
    {
     "data": {
      "text/plain": [
       "True"
      ]
     },
     "execution_count": 207,
     "metadata": {},
     "output_type": "execute_result"
    }
   ],
   "source": [
    "len(os.listdir('./Data/Training/Rumbles')) == len(training_set)"
   ]
  },
  {
   "cell_type": "code",
   "execution_count": 210,
   "metadata": {},
   "outputs": [
    {
     "data": {
      "text/plain": [
       "True"
      ]
     },
     "execution_count": 210,
     "metadata": {},
     "output_type": "execute_result"
    }
   ],
   "source": [
    "len(os.listdir('./Data/Testing/Rumbles')) == len(test_set)"
   ]
  }
 ],
 "metadata": {
  "kernel_info": {
   "name": "python3-azureml"
  },
  "kernelspec": {
   "display_name": "Python 3.6 - AzureML",
   "language": "python",
   "name": "python3-azureml"
  },
  "language_info": {
   "codemirror_mode": {
    "name": "ipython",
    "version": 3
   },
   "file_extension": ".py",
   "mimetype": "text/x-python",
   "name": "python",
   "nbconvert_exporter": "python",
   "pygments_lexer": "ipython3",
   "version": "3.6.9"
  },
  "microsoft": {
   "host": {
    "AzureML": {
     "notebookHasBeenCompleted": true
    }
   }
  },
  "nteract": {
   "version": "nteract-front-end@1.0.0"
  }
 },
 "nbformat": 4,
 "nbformat_minor": 2
}

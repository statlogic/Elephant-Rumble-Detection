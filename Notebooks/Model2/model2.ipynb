{
 "cells": [
  {
   "cell_type": "code",
   "execution_count": 117,
   "metadata": {},
   "outputs": [],
   "source": [
    "import numpy as np\n",
    "import pandas as pd\n",
    "import librosa\n",
    "import copy\n",
    "import math\n",
    "import os"
   ]
  },
  {
   "cell_type": "code",
   "execution_count": 2,
   "metadata": {},
   "outputs": [],
   "source": [
    "gunShotDataPath = './Data/gunShots'\n",
    "speechDataPath = './Data/newHumanSpeech'\n",
    "chainSawDataPath = './Data/newChainSaw'\n",
    "noiseDataPath = '../../Mubin/Data/Training/Noise'\n",
    "elephantCallDataPath = './Data/newElephantCalls'"
   ]
  },
  {
   "cell_type": "code",
   "execution_count": 3,
   "metadata": {},
   "outputs": [],
   "source": [
    "# Remove unwanted files\n",
    "\n",
    "for folder in [gunShotDataPath,speechDataPath,chainSawDataPath,noiseDataPath,elephantCallDataPath]:\n",
    "    for file in ['.amlignore', '.amlignore.amltmp']:\n",
    "        if os.path.exists(folder+'/'+file):\n",
    "            os.remove(folder+'/'+file)\n",
    "    "
   ]
  },
  {
   "cell_type": "code",
   "execution_count": 4,
   "metadata": {},
   "outputs": [
    {
     "name": "stdout",
     "output_type": "stream",
     "text": [
      "File numbers for folder ./Data/gunShots range from [1, 2001] and \n",
      "\n",
      "File numbers for folder ./Data/newHumanSpeech range from [1, 1572] and \n",
      "\n",
      "File numbers for folder ./Data/newChainSaw range from [1, 1481] and \n",
      "\n",
      "File numbers for folder ../../Mubin/Data/Training/Noise range from [1, 3180] and \n",
      "\n",
      "File numbers for folder ./Data/newElephantCalls range from [1, 95] and \n",
      "\n"
     ]
    }
   ],
   "source": [
    "for folder in [gunShotDataPath,speechDataPath,chainSawDataPath,noiseDataPath,elephantCallDataPath]:\n",
    "\n",
    "    minFileNumber = math.inf\n",
    "    maxFileNumber = -1\n",
    "    for file in next(os.walk(folder))[2]:\n",
    "        number = int(file.split('_')[1].split('.')[0])\n",
    "        \n",
    "        if number < minFileNumber:\n",
    "            minFileNumber = number\n",
    "        elif number > maxFileNumber:\n",
    "            maxFileNumber = number\n",
    "\n",
    "    print('File numbers for folder {} range from [{}, {}] and \\n'.format(folder,minFileNumber,maxFileNumber))\n"
   ]
  },
  {
   "cell_type": "markdown",
   "metadata": {},
   "source": [
    "### Elephant PreProcess"
   ]
  },
  {
   "cell_type": "code",
   "execution_count": 5,
   "metadata": {},
   "outputs": [],
   "source": [
    "processedData_Elephant = []\n",
    "elephantTag = []\n",
    "\n",
    "for file in next(os.walk(elephantCallDataPath))[2]:\n",
    "\n",
    "    audio,sr = librosa.load(elephantCallDataPath+'/'+file)\n",
    "\n",
    "    # 2seconds = sr*2\n",
    "    target = sr*2\n",
    "\n",
    "    if len(audio) <= target:\n",
    "        newAudio = np.append(audio,np.zeros(target-len(audio)))\n",
    "        \n",
    "        processedData_Elephant.append(newAudio)\n",
    "        elephantTag.append('elephant_call')\n",
    "    else:\n",
    "        audioFileLengthInseconds = len(audio)//target\n",
    "        counter = 0\n",
    "        for i in range(audioFileLengthInseconds):\n",
    "            newAudio = audio[counter : counter+target]\n",
    "            processedData_Elephant.append(newAudio)\n",
    "            elephantTag.append('elephant_call')\n",
    "            counter += target"
   ]
  },
  {
   "cell_type": "code",
   "execution_count": 6,
   "metadata": {},
   "outputs": [
    {
     "data": {
      "text/plain": [
       "1443"
      ]
     },
     "execution_count": 6,
     "metadata": {},
     "output_type": "execute_result"
    }
   ],
   "source": [
    "len(processedData_Elephant)"
   ]
  },
  {
   "cell_type": "markdown",
   "metadata": {},
   "source": [
    "### PreProcess GunShots"
   ]
  },
  {
   "cell_type": "code",
   "execution_count": 7,
   "metadata": {},
   "outputs": [],
   "source": [
    "processedData_GunShots = []\n",
    "gunShotTag = []\n",
    "\n",
    "for file in next(os.walk(gunShotDataPath))[2]:\n",
    "\n",
    "    audio,sr = librosa.load(gunShotDataPath+'/'+file)\n",
    "\n",
    "    # 2seconds = sr*2\n",
    "    target = sr*2\n",
    "\n",
    "    if len(audio) <= target:\n",
    "        newAudio = np.append(audio,np.zeros(target-len(audio)))\n",
    "        processedData_GunShots.append(newAudio)\n",
    "        gunShotTag.append('gun_shot')\n",
    "    else:\n",
    "        audioFileLengthInseconds = len(audio)//target\n",
    "        counter = 0\n",
    "        for i in range(audioFileLengthInseconds):\n",
    "            newAudio = audio[counter : counter+target]\n",
    "            processedData_GunShots.append(newAudio)\n",
    "            gunShotTag.append('gun_shot')\n",
    "            counter += target"
   ]
  },
  {
   "cell_type": "code",
   "execution_count": 8,
   "metadata": {},
   "outputs": [
    {
     "data": {
      "text/plain": [
       "2001"
      ]
     },
     "execution_count": 8,
     "metadata": {},
     "output_type": "execute_result"
    }
   ],
   "source": [
    "len(processedData_GunShots)"
   ]
  },
  {
   "cell_type": "markdown",
   "metadata": {},
   "source": [
    "## Preprocess chainSaw"
   ]
  },
  {
   "cell_type": "code",
   "execution_count": 9,
   "metadata": {},
   "outputs": [],
   "source": [
    "processedData_ChainSaw = []\n",
    "chainSawTag = []\n",
    "maxIterations = 2000\n",
    "\n",
    "for file in next(os.walk(chainSawDataPath))[2]:\n",
    "    if maxIterations <= 0:\n",
    "            break\n",
    "    \n",
    "    audio,sr = librosa.load(chainSawDataPath+'/'+file)\n",
    "\n",
    "    # 2seconds = sr*2\n",
    "    target = sr*2\n",
    "\n",
    "    if len(audio) <= target:\n",
    "        newAudio = np.append(audio,np.zeros(target-len(audio)))\n",
    "        processedData_ChainSaw.append(newAudio)\n",
    "        chainSawTag.append('chain_saw')\n",
    "        maxIterations-=1\n",
    "    else:\n",
    "        audioFileLengthInseconds = len(audio)//target\n",
    "        counter = 0\n",
    "        for i in range(audioFileLengthInseconds):\n",
    "            newAudio = audio[counter : counter+target]\n",
    "            processedData_ChainSaw.append(newAudio)\n",
    "            chainSawTag.append('chain_saw')\n",
    "            counter += target\n",
    "        maxIterations -= audioFileLengthInseconds"
   ]
  },
  {
   "cell_type": "code",
   "execution_count": 10,
   "metadata": {},
   "outputs": [
    {
     "data": {
      "text/plain": [
       "2002"
      ]
     },
     "execution_count": 10,
     "metadata": {},
     "output_type": "execute_result"
    }
   ],
   "source": [
    "len(processedData_ChainSaw)"
   ]
  },
  {
   "cell_type": "markdown",
   "metadata": {},
   "source": [
    "## Preprocess speech"
   ]
  },
  {
   "cell_type": "code",
   "execution_count": 11,
   "metadata": {},
   "outputs": [],
   "source": [
    "processedData_Speech = []\n",
    "speechTag = []\n",
    "maxIterations = 2000\n",
    "\n",
    "for file in next(os.walk(speechDataPath))[2]:\n",
    "    if maxIterations <= 0:\n",
    "            break\n",
    "    \n",
    "    audio,sr = librosa.load(speechDataPath+'/'+file)\n",
    "\n",
    "    # 2seconds = sr*2\n",
    "    target = sr*2\n",
    "\n",
    "    if len(audio) <= target:\n",
    "        newAudio = np.append(audio,np.zeros(target-len(audio)))\n",
    "        processedData_Speech.append(newAudio)\n",
    "        speechTag.append('human_speech')\n",
    "        maxIterations-=1\n",
    "    else:\n",
    "        audioFileLengthInseconds = len(audio)//target\n",
    "        counter = 0\n",
    "        for i in range(audioFileLengthInseconds):\n",
    "            newAudio = audio[counter : counter+target]\n",
    "            processedData_Speech.append(newAudio)\n",
    "            speechTag.append('human_speech')\n",
    "            counter += target\n",
    "        maxIterations -= audioFileLengthInseconds"
   ]
  },
  {
   "cell_type": "code",
   "execution_count": 12,
   "metadata": {},
   "outputs": [
    {
     "data": {
      "text/plain": [
       "2003"
      ]
     },
     "execution_count": 12,
     "metadata": {},
     "output_type": "execute_result"
    }
   ],
   "source": [
    "len(processedData_Speech)"
   ]
  },
  {
   "cell_type": "markdown",
   "metadata": {},
   "source": [
    "## Preprocess noise"
   ]
  },
  {
   "cell_type": "code",
   "execution_count": 13,
   "metadata": {},
   "outputs": [],
   "source": [
    "processedData_Noise = []\n",
    "noiseTag = []\n",
    "maxIterations = 2000\n",
    "\n",
    "for file in next(os.walk(noiseDataPath))[2]:\n",
    "    if maxIterations <= 0:\n",
    "            break\n",
    "    \n",
    "    audio,sr = librosa.load(noiseDataPath+'/'+file)\n",
    "\n",
    "    # 2seconds = sr*2\n",
    "    target = sr*2\n",
    "\n",
    "    if len(audio) <= target:\n",
    "        newAudio = np.append(audio,np.zeros(target-len(audio)))\n",
    "        processedData_Noise.append(newAudio)\n",
    "        noiseTag.append('noise')\n",
    "        maxIterations-=1\n",
    "    else:\n",
    "        audioFileLengthInseconds = len(audio)//target\n",
    "        counter = 0\n",
    "        for i in range(audioFileLengthInseconds):\n",
    "            newAudio = audio[counter : counter+target]\n",
    "            processedData_Noise.append(newAudio)\n",
    "            noiseTag.append('noise')\n",
    "            counter += target\n",
    "        maxIterations -= audioFileLengthInseconds"
   ]
  },
  {
   "cell_type": "code",
   "execution_count": 14,
   "metadata": {},
   "outputs": [
    {
     "data": {
      "text/plain": [
       "2000"
      ]
     },
     "execution_count": 14,
     "metadata": {},
     "output_type": "execute_result"
    }
   ],
   "source": [
    "len(processedData_Noise)"
   ]
  },
  {
   "cell_type": "code",
   "execution_count": 15,
   "metadata": {},
   "outputs": [],
   "source": [
    "totalFeatures = 1443\n",
    "\n",
    "final_ChainSaw,finalchainSawTag = processedData_ChainSaw[:totalFeatures],chainSawTag[:totalFeatures]\n",
    "final_Noise,finalnoiseTag = processedData_Noise[:totalFeatures],noiseTag[:totalFeatures]\n",
    "final_Speech,finalspeechTag = processedData_Speech[:totalFeatures],speechTag[:totalFeatures]\n",
    "final_GunShots,finalgunShotTag = processedData_GunShots[:totalFeatures],gunShotTag[:totalFeatures]\n",
    "final_Elephant,finalelephantTag = processedData_Elephant[:totalFeatures],elephantTag[:totalFeatures]\n"
   ]
  },
  {
   "cell_type": "code",
   "execution_count": 16,
   "metadata": {},
   "outputs": [],
   "source": [
    "audioData = final_ChainSaw + final_Noise + final_Speech + final_GunShots + final_Elephant\n",
    "audioTag = finalchainSawTag + finalnoiseTag + finalspeechTag + finalgunShotTag + finalelephantTag"
   ]
  },
  {
   "cell_type": "code",
   "execution_count": 17,
   "metadata": {},
   "outputs": [],
   "source": [
    "df = pd.DataFrame(list(zip(audioData, audioTag)), columns = ['audioData', 'audioTag'])"
   ]
  },
  {
   "cell_type": "code",
   "execution_count": 18,
   "metadata": {},
   "outputs": [
    {
     "data": {
      "text/plain": [
       "human_speech     1443\n",
       "elephant_call    1443\n",
       "chain_saw        1443\n",
       "gun_shot         1443\n",
       "noise            1443\n",
       "Name: audioTag, dtype: int64"
      ]
     },
     "execution_count": 18,
     "metadata": {},
     "output_type": "execute_result"
    }
   ],
   "source": [
    "df['audioTag'].value_counts()"
   ]
  },
  {
   "cell_type": "code",
   "execution_count": 19,
   "metadata": {},
   "outputs": [
    {
     "data": {
      "text/html": [
       "<div>\n",
       "<style scoped>\n",
       "    .dataframe tbody tr th:only-of-type {\n",
       "        vertical-align: middle;\n",
       "    }\n",
       "\n",
       "    .dataframe tbody tr th {\n",
       "        vertical-align: top;\n",
       "    }\n",
       "\n",
       "    .dataframe thead th {\n",
       "        text-align: right;\n",
       "    }\n",
       "</style>\n",
       "<table border=\"1\" class=\"dataframe\">\n",
       "  <thead>\n",
       "    <tr style=\"text-align: right;\">\n",
       "      <th></th>\n",
       "      <th>audioData</th>\n",
       "      <th>audioTag</th>\n",
       "    </tr>\n",
       "  </thead>\n",
       "  <tbody>\n",
       "    <tr>\n",
       "      <th>0</th>\n",
       "      <td>[-0.054001212, -0.061601162, -0.06775653, -0.0...</td>\n",
       "      <td>chain_saw</td>\n",
       "    </tr>\n",
       "    <tr>\n",
       "      <th>1</th>\n",
       "      <td>[0.081003785, 0.06602049, 0.04859388, 0.038290...</td>\n",
       "      <td>chain_saw</td>\n",
       "    </tr>\n",
       "    <tr>\n",
       "      <th>2</th>\n",
       "      <td>[0.00041639805, -0.01920247, -0.038021803, -0....</td>\n",
       "      <td>chain_saw</td>\n",
       "    </tr>\n",
       "    <tr>\n",
       "      <th>3</th>\n",
       "      <td>[-0.25337064, -0.18256235, -0.16470349, -0.227...</td>\n",
       "      <td>chain_saw</td>\n",
       "    </tr>\n",
       "    <tr>\n",
       "      <th>4</th>\n",
       "      <td>[0.0021185875, -0.008524895, -0.009134769, 0.0...</td>\n",
       "      <td>chain_saw</td>\n",
       "    </tr>\n",
       "    <tr>\n",
       "      <th>...</th>\n",
       "      <td>...</td>\n",
       "      <td>...</td>\n",
       "    </tr>\n",
       "    <tr>\n",
       "      <th>7210</th>\n",
       "      <td>[2.2838903532829136e-06, 4.770441137225134e-06...</td>\n",
       "      <td>elephant_call</td>\n",
       "    </tr>\n",
       "    <tr>\n",
       "      <th>7211</th>\n",
       "      <td>[1.7580403e-05, 4.7709993e-05, -1.426485e-06, ...</td>\n",
       "      <td>elephant_call</td>\n",
       "    </tr>\n",
       "    <tr>\n",
       "      <th>7212</th>\n",
       "      <td>[0.0007098784, 0.0005530115, 0.0009571959, 0.0...</td>\n",
       "      <td>elephant_call</td>\n",
       "    </tr>\n",
       "    <tr>\n",
       "      <th>7213</th>\n",
       "      <td>[-2.72627e-05, 4.1527313e-05, 7.598058e-05, -9...</td>\n",
       "      <td>elephant_call</td>\n",
       "    </tr>\n",
       "    <tr>\n",
       "      <th>7214</th>\n",
       "      <td>[0.11753148, 0.088640705, 0.056255713, 0.04536...</td>\n",
       "      <td>elephant_call</td>\n",
       "    </tr>\n",
       "  </tbody>\n",
       "</table>\n",
       "<p>7215 rows × 2 columns</p>\n",
       "</div>"
      ],
      "text/plain": [
       "                                              audioData       audioTag\n",
       "0     [-0.054001212, -0.061601162, -0.06775653, -0.0...      chain_saw\n",
       "1     [0.081003785, 0.06602049, 0.04859388, 0.038290...      chain_saw\n",
       "2     [0.00041639805, -0.01920247, -0.038021803, -0....      chain_saw\n",
       "3     [-0.25337064, -0.18256235, -0.16470349, -0.227...      chain_saw\n",
       "4     [0.0021185875, -0.008524895, -0.009134769, 0.0...      chain_saw\n",
       "...                                                 ...            ...\n",
       "7210  [2.2838903532829136e-06, 4.770441137225134e-06...  elephant_call\n",
       "7211  [1.7580403e-05, 4.7709993e-05, -1.426485e-06, ...  elephant_call\n",
       "7212  [0.0007098784, 0.0005530115, 0.0009571959, 0.0...  elephant_call\n",
       "7213  [-2.72627e-05, 4.1527313e-05, 7.598058e-05, -9...  elephant_call\n",
       "7214  [0.11753148, 0.088640705, 0.056255713, 0.04536...  elephant_call\n",
       "\n",
       "[7215 rows x 2 columns]"
      ]
     },
     "execution_count": 19,
     "metadata": {},
     "output_type": "execute_result"
    }
   ],
   "source": [
    "df"
   ]
  },
  {
   "cell_type": "code",
   "execution_count": 20,
   "metadata": {},
   "outputs": [
    {
     "data": {
      "text/plain": [
       "numpy.ndarray"
      ]
     },
     "execution_count": 20,
     "metadata": {},
     "output_type": "execute_result"
    }
   ],
   "source": [
    "type(df['audioData'][0])"
   ]
  },
  {
   "cell_type": "code",
   "execution_count": null,
   "metadata": {},
   "outputs": [],
   "source": []
  },
  {
   "cell_type": "code",
   "execution_count": 23,
   "metadata": {},
   "outputs": [],
   "source": [
    "X=np.array(df['audioData'].tolist())\n",
    "y=np.array(df['audioTag'].tolist())"
   ]
  },
  {
   "cell_type": "code",
   "execution_count": 25,
   "metadata": {},
   "outputs": [
    {
     "data": {
      "text/plain": [
       "((7215, 44100), (7215,))"
      ]
     },
     "execution_count": 25,
     "metadata": {},
     "output_type": "execute_result"
    }
   ],
   "source": [
    "X.shape,y.shape"
   ]
  },
  {
   "cell_type": "code",
   "execution_count": 26,
   "metadata": {},
   "outputs": [],
   "source": [
    "np.save('X.npy', X)\n",
    "np.save('y.npy', y)"
   ]
  },
  {
   "cell_type": "code",
   "execution_count": null,
   "metadata": {},
   "outputs": [],
   "source": []
  },
  {
   "cell_type": "code",
   "execution_count": null,
   "metadata": {},
   "outputs": [],
   "source": []
  },
  {
   "cell_type": "markdown",
   "metadata": {},
   "source": [
    "# Skip preprocessing and use npy files instead"
   ]
  },
  {
   "cell_type": "markdown",
   "metadata": {},
   "source": [
    "## Preprocess shotgun files for train and test data"
   ]
  },
  {
   "cell_type": "code",
   "execution_count": 143,
   "metadata": {},
   "outputs": [],
   "source": [
    "shotGunDataPath = './Data/shotgun'\n",
    "processedData_shotGun = []\n",
    "shotGunTag = []\n",
    "\n",
    "for file in next(os.walk(shotGunDataPath))[2]:\n",
    "    if file not in ['.amlignore', '.amlignore.amltmp']:\n",
    "\n",
    "        audio,sr = librosa.load(shotGunDataPath+'/'+file)\n",
    "\n",
    "        # 2seconds = sr*2\n",
    "        target = sr*2\n",
    "\n",
    "        if len(audio) <= target:\n",
    "            newAudio = np.append(audio,np.zeros(target-len(audio)))\n",
    "            processedData_shotGun.append(newAudio)\n",
    "            shotGunTag.append('gun_shot')\n",
    "        else:\n",
    "            audioFileLengthInseconds = len(audio)//target\n",
    "            counter = 0\n",
    "            for i in range(audioFileLengthInseconds):\n",
    "                newAudio = audio[counter : counter+target]\n",
    "                processedData_shotGun.append(newAudio)\n",
    "                shotGunTag.append('gun_shot')\n",
    "                counter += target\n",
    "\n",
    "processedData_shotGun = np.array(processedData_shotGun)\n",
    "shotGunTag = np.array(shotGunTag)"
   ]
  },
  {
   "cell_type": "code",
   "execution_count": 144,
   "metadata": {},
   "outputs": [],
   "source": [
    "X = np.load('X.npy')\n",
    "y = np.load('y.npy')"
   ]
  },
  {
   "cell_type": "markdown",
   "metadata": {},
   "source": [
    "### Leave Human Speech Class from X, y"
   ]
  },
  {
   "cell_type": "code",
   "execution_count": 145,
   "metadata": {},
   "outputs": [
    {
     "data": {
      "text/plain": [
       "((7215, 44100), (7215,))"
      ]
     },
     "execution_count": 145,
     "metadata": {},
     "output_type": "execute_result"
    }
   ],
   "source": [
    "X.shape, y.shape"
   ]
  },
  {
   "cell_type": "code",
   "execution_count": 201,
   "metadata": {},
   "outputs": [
    {
     "name": "stdout",
     "output_type": "stream",
     "text": [
      "Before deletion of human speech class:\n",
      "\n",
      "Class: chain_saw count -> 1443\n",
      "Class: elephant_call count -> 1443\n",
      "Class: gun_shot count -> 1443\n",
      "Class: human_speech count -> 1443\n",
      "Class: noise count -> 1443\n"
     ]
    }
   ],
   "source": [
    "unique, counts = np.unique(y, return_counts=True)\n",
    "print('Before deletion of human speech class:\\n')\n",
    "\n",
    "for i in range(len(unique)):\n",
    "    print('Class: {} count -> {}'.format(unique[i],counts[i]))"
   ]
  },
  {
   "cell_type": "code",
   "execution_count": 202,
   "metadata": {},
   "outputs": [],
   "source": [
    "tupleList = tuple(list(np.where(y=='human_speech'))[0].tolist())\n",
    "X = np.delete(X, tupleList, 0)\n",
    "y = np.delete(y, tupleList, 0)"
   ]
  },
  {
   "cell_type": "code",
   "execution_count": 203,
   "metadata": {},
   "outputs": [
    {
     "name": "stdout",
     "output_type": "stream",
     "text": [
      "After deletion of human speech class:\n",
      "\n",
      "Class: chain_saw count -> 1443\n",
      "Class: elephant_call count -> 1443\n",
      "Class: gun_shot count -> 1443\n",
      "Class: noise count -> 1443\n"
     ]
    }
   ],
   "source": [
    "unique, counts = np.unique(y, return_counts=True)\n",
    "print('After deletion of human speech class:\\n')\n",
    "\n",
    "for i in range(len(unique)):\n",
    "    print('Class: {} count -> {}'.format(unique[i],counts[i]))"
   ]
  },
  {
   "cell_type": "code",
   "execution_count": 204,
   "metadata": {},
   "outputs": [
    {
     "data": {
      "text/plain": [
       "((5772, 44100), (5772,))"
      ]
     },
     "execution_count": 204,
     "metadata": {},
     "output_type": "execute_result"
    }
   ],
   "source": [
    "X.shape, y.shape"
   ]
  },
  {
   "cell_type": "markdown",
   "metadata": {},
   "source": [
    "## Model "
   ]
  },
  {
   "cell_type": "code",
   "execution_count": 205,
   "metadata": {},
   "outputs": [],
   "source": [
    "from sklearn.model_selection import train_test_split\n",
    "\n",
    "X_train, X_test, y_train, y_test = train_test_split(X,y, test_size=0.2, random_state=0, stratify=y)"
   ]
  },
  {
   "cell_type": "code",
   "execution_count": 206,
   "metadata": {},
   "outputs": [
    {
     "name": "stdout",
     "output_type": "stream",
     "text": [
      "Shapes before: 4617 1155 4617 1155\n"
     ]
    }
   ],
   "source": [
    "print('Shapes before: {} {} {} {}'.format(len(X_train), len(X_test), len(y_train), len(y_test)))\n",
    "\n",
    "X_train=np.append(X_train, np.array(processedData_shotGun[:20]) ,axis=0)\n",
    "X_test=np.append(X_test, np.array(processedData_shotGun[20:]) ,axis=0)"
   ]
  },
  {
   "cell_type": "code",
   "execution_count": 207,
   "metadata": {},
   "outputs": [
    {
     "name": "stdout",
     "output_type": "stream",
     "text": [
      "Shapes after: 4637 1164 4637 1164\n"
     ]
    }
   ],
   "source": [
    "y_train = np.append(y_train,shotGunTag[:20])\n",
    "y_test = np.append(y_test,shotGunTag[20:])\n",
    "print('Shapes after: {} {} {} {}'.format(len(X_train), len(X_test), len(y_train), len(y_test)))"
   ]
  },
  {
   "cell_type": "code",
   "execution_count": 208,
   "metadata": {},
   "outputs": [
    {
     "data": {
      "text/plain": [
       "(44100,)"
      ]
     },
     "execution_count": 208,
     "metadata": {},
     "output_type": "execute_result"
    }
   ],
   "source": [
    "X_train[0].shape"
   ]
  },
  {
   "cell_type": "code",
   "execution_count": 209,
   "metadata": {},
   "outputs": [],
   "source": [
    "X_train_mfcc_features = []\n",
    "X_test_mfcc_features = []\n",
    "numberOfMFCC = 13\n",
    "\n",
    "for i in X_train:\n",
    "    X_train_mfcc_features.append(librosa.feature.mfcc(y=i, n_mfcc=numberOfMFCC))\n",
    "\n",
    "for i in X_test:\n",
    "    X_test_mfcc_features.append(librosa.feature.mfcc(y=i, n_mfcc=numberOfMFCC))"
   ]
  },
  {
   "cell_type": "code",
   "execution_count": 210,
   "metadata": {},
   "outputs": [],
   "source": [
    "X_train = np.array(X_train_mfcc_features)\n",
    "X_test = np.array(X_test_mfcc_features)"
   ]
  },
  {
   "cell_type": "code",
   "execution_count": 211,
   "metadata": {},
   "outputs": [],
   "source": [
    "from tensorflow.keras.utils import to_categorical\n",
    "from sklearn.preprocessing import LabelEncoder\n",
    "\n",
    "labelencoder=LabelEncoder()\n",
    "y_train = to_categorical(labelencoder.fit_transform(y_train))"
   ]
  },
  {
   "cell_type": "code",
   "execution_count": 212,
   "metadata": {},
   "outputs": [],
   "source": [
    "y_test = to_categorical(labelencoder.transform(y_test))"
   ]
  },
  {
   "cell_type": "code",
   "execution_count": 213,
   "metadata": {},
   "outputs": [],
   "source": [
    "X_train, X_val, y_train, y_val = train_test_split(X_train,y_train, test_size=0.2, random_state=0, stratify=y_train)"
   ]
  },
  {
   "cell_type": "code",
   "execution_count": 214,
   "metadata": {},
   "outputs": [],
   "source": [
    "X_train = X_train.reshape(-1,X_train.shape[1],X_train.shape[2],1)\n",
    "\n",
    "X_val = X_val.reshape(-1,X_val.shape[1],X_val.shape[2],1)\n",
    "\n",
    "X_test = X_test.reshape(-1,X_test.shape[1],X_test.shape[2],1)"
   ]
  },
  {
   "cell_type": "code",
   "execution_count": 230,
   "metadata": {},
   "outputs": [
    {
     "name": "stdout",
     "output_type": "stream",
     "text": [
      "(3709, 13, 87, 1) (3709, 4)\n"
     ]
    }
   ],
   "source": [
    "print(X_train.shape,y_train.shape)"
   ]
  },
  {
   "cell_type": "code",
   "execution_count": 231,
   "metadata": {},
   "outputs": [
    {
     "name": "stdout",
     "output_type": "stream",
     "text": [
      "(928, 13, 87, 1) (928, 4)\n"
     ]
    }
   ],
   "source": [
    "print(X_val.shape,y_val.shape)"
   ]
  },
  {
   "cell_type": "code",
   "execution_count": 232,
   "metadata": {},
   "outputs": [
    {
     "name": "stdout",
     "output_type": "stream",
     "text": [
      "(1164, 13, 87, 1) (1164, 4)\n"
     ]
    }
   ],
   "source": [
    "print(X_test.shape,y_test.shape)"
   ]
  },
  {
   "cell_type": "code",
   "execution_count": 225,
   "metadata": {},
   "outputs": [],
   "source": [
    "import tensorflow as tf\n",
    "\n",
    "from tensorflow.keras.models import Sequential\n",
    "from tensorflow.keras.layers import Conv2D, Flatten, MaxPooling2D, Dense, Dropout, Activation, BatchNormalization\n",
    "from tensorflow.keras.optimizers import Adam\n",
    "from sklearn import metrics"
   ]
  },
  {
   "cell_type": "code",
   "execution_count": 241,
   "metadata": {},
   "outputs": [],
   "source": [
    "model = Sequential()\n",
    "\n",
    "model.add(Conv2D(64, kernel_size=3, input_shape=X_train.shape[1:] ))\n",
    "model.add(BatchNormalization())\n",
    "model.add(Activation(\"relu\"))\n",
    "model.add(MaxPooling2D(pool_size=(2, 2)))\n",
    "\n",
    "model.add(Conv2D(32, kernel_size=3))\n",
    "model.add(BatchNormalization())\n",
    "model.add(Activation(\"relu\"))\n",
    "model.add(MaxPooling2D(pool_size=(2, 2)))\n",
    "\n",
    "model.add(Flatten())\n",
    "model.add(Dense(64))\n",
    "model.add(BatchNormalization())\n",
    "model.add(Activation(\"relu\"))\n",
    "\n",
    "model.add(Dense(32))\n",
    "model.add(BatchNormalization())\n",
    "model.add(Activation(\"relu\"))\n",
    "\n",
    "model.add(Dense(4, activation='softmax'))"
   ]
  },
  {
   "cell_type": "code",
   "execution_count": 242,
   "metadata": {},
   "outputs": [],
   "source": [
    "model.compile(loss='categorical_crossentropy',metrics=['accuracy'],optimizer='adam')"
   ]
  },
  {
   "cell_type": "code",
   "execution_count": 243,
   "metadata": {},
   "outputs": [
    {
     "name": "stdout",
     "output_type": "stream",
     "text": [
      "Model: \"sequential_12\"\n",
      "_________________________________________________________________\n",
      "Layer (type)                 Output Shape              Param #   \n",
      "=================================================================\n",
      "conv2d_25 (Conv2D)           (None, 11, 85, 64)        640       \n",
      "_________________________________________________________________\n",
      "batch_normalization_33 (Batc (None, 11, 85, 64)        256       \n",
      "_________________________________________________________________\n",
      "activation_33 (Activation)   (None, 11, 85, 64)        0         \n",
      "_________________________________________________________________\n",
      "max_pooling2d_20 (MaxPooling (None, 5, 42, 64)         0         \n",
      "_________________________________________________________________\n",
      "conv2d_26 (Conv2D)           (None, 3, 40, 32)         18464     \n",
      "_________________________________________________________________\n",
      "batch_normalization_34 (Batc (None, 3, 40, 32)         128       \n",
      "_________________________________________________________________\n",
      "activation_34 (Activation)   (None, 3, 40, 32)         0         \n",
      "_________________________________________________________________\n",
      "max_pooling2d_21 (MaxPooling (None, 1, 20, 32)         0         \n",
      "_________________________________________________________________\n",
      "flatten_7 (Flatten)          (None, 640)               0         \n",
      "_________________________________________________________________\n",
      "dense_20 (Dense)             (None, 64)                41024     \n",
      "_________________________________________________________________\n",
      "batch_normalization_35 (Batc (None, 64)                256       \n",
      "_________________________________________________________________\n",
      "activation_35 (Activation)   (None, 64)                0         \n",
      "_________________________________________________________________\n",
      "dense_21 (Dense)             (None, 32)                2080      \n",
      "_________________________________________________________________\n",
      "batch_normalization_36 (Batc (None, 32)                128       \n",
      "_________________________________________________________________\n",
      "activation_36 (Activation)   (None, 32)                0         \n",
      "_________________________________________________________________\n",
      "dense_22 (Dense)             (None, 4)                 132       \n",
      "=================================================================\n",
      "Total params: 63,108\n",
      "Trainable params: 62,724\n",
      "Non-trainable params: 384\n",
      "_________________________________________________________________\n"
     ]
    }
   ],
   "source": [
    "model.summary()"
   ]
  },
  {
   "cell_type": "code",
   "execution_count": 244,
   "metadata": {
    "scrolled": true
   },
   "outputs": [
    {
     "name": "stdout",
     "output_type": "stream",
     "text": [
      "Train on 3709 samples, validate on 928 samples\n",
      "Epoch 1/100\n",
      "3709/3709 [==============================] - 5s 1ms/sample - loss: 0.2838 - accuracy: 0.9337 - val_loss: 0.2333 - val_accuracy: 0.9224\n",
      "Epoch 2/100\n",
      "3709/3709 [==============================] - 4s 1ms/sample - loss: 0.1429 - accuracy: 0.9590 - val_loss: 0.1777 - val_accuracy: 0.9397\n",
      "Epoch 3/100\n",
      "3709/3709 [==============================] - 4s 1ms/sample - loss: 0.1106 - accuracy: 0.9636 - val_loss: 0.0879 - val_accuracy: 0.9688\n",
      "Epoch 4/100\n",
      "3709/3709 [==============================] - 4s 995us/sample - loss: 0.0979 - accuracy: 0.9679 - val_loss: 0.0866 - val_accuracy: 0.9720\n",
      "Epoch 5/100\n",
      "3709/3709 [==============================] - 4s 988us/sample - loss: 0.0853 - accuracy: 0.9728 - val_loss: 0.0674 - val_accuracy: 0.9731\n",
      "Epoch 6/100\n",
      "3709/3709 [==============================] - 4s 1ms/sample - loss: 0.0706 - accuracy: 0.9749 - val_loss: 0.0960 - val_accuracy: 0.9698\n",
      "Epoch 7/100\n",
      "3680/3709 [============================>.] - ETA: 0s - loss: 0.0612 - accuracy: 0.9769\n",
      "Epoch 00007: ReduceLROnPlateau reducing learning rate to 0.00010000000474974513.\n",
      "3709/3709 [==============================] - 4s 1ms/sample - loss: 0.0617 - accuracy: 0.9768 - val_loss: 0.0717 - val_accuracy: 0.9741\n",
      "Epoch 8/100\n",
      "3709/3709 [==============================] - 4s 990us/sample - loss: 0.0423 - accuracy: 0.9841 - val_loss: 0.0565 - val_accuracy: 0.9784\n",
      "Epoch 9/100\n",
      "3709/3709 [==============================] - 4s 1ms/sample - loss: 0.0382 - accuracy: 0.9879 - val_loss: 0.0576 - val_accuracy: 0.9774\n",
      "Epoch 10/100\n",
      "3709/3709 [==============================] - 4s 992us/sample - loss: 0.0342 - accuracy: 0.9895 - val_loss: 0.0557 - val_accuracy: 0.9795\n",
      "Epoch 11/100\n",
      "3709/3709 [==============================] - 4s 986us/sample - loss: 0.0306 - accuracy: 0.9922 - val_loss: 0.0536 - val_accuracy: 0.9806\n",
      "Epoch 12/100\n",
      "3709/3709 [==============================] - 4s 983us/sample - loss: 0.0300 - accuracy: 0.9914 - val_loss: 0.0525 - val_accuracy: 0.9806\n",
      "Epoch 13/100\n",
      "3709/3709 [==============================] - 4s 1ms/sample - loss: 0.0262 - accuracy: 0.9941 - val_loss: 0.0568 - val_accuracy: 0.9784\n",
      "Epoch 14/100\n",
      "3680/3709 [============================>.] - ETA: 0s - loss: 0.0266 - accuracy: 0.9929\n",
      "Epoch 00014: ReduceLROnPlateau reducing learning rate to 1.0000000474974514e-05.\n",
      "3709/3709 [==============================] - 4s 994us/sample - loss: 0.0265 - accuracy: 0.9930 - val_loss: 0.0530 - val_accuracy: 0.9817\n",
      "Epoch 15/100\n",
      "3709/3709 [==============================] - 4s 1ms/sample - loss: 0.0238 - accuracy: 0.9930 - val_loss: 0.0523 - val_accuracy: 0.9817\n",
      "Epoch 16/100\n",
      "3709/3709 [==============================] - 4s 1ms/sample - loss: 0.0267 - accuracy: 0.9916 - val_loss: 0.0515 - val_accuracy: 0.9817\n",
      "Epoch 17/100\n",
      "3709/3709 [==============================] - 4s 1ms/sample - loss: 0.0256 - accuracy: 0.9922 - val_loss: 0.0519 - val_accuracy: 0.9838\n",
      "Epoch 18/100\n",
      "3680/3709 [============================>.] - ETA: 0s - loss: 0.0241 - accuracy: 0.9943\n",
      "Epoch 00018: ReduceLROnPlateau reducing learning rate to 1e-05.\n",
      "3709/3709 [==============================] - 4s 1ms/sample - loss: 0.0242 - accuracy: 0.9943 - val_loss: 0.0523 - val_accuracy: 0.9838\n",
      "Epoch 19/100\n",
      "3709/3709 [==============================] - 4s 995us/sample - loss: 0.0237 - accuracy: 0.9933 - val_loss: 0.0525 - val_accuracy: 0.9838\n",
      "Training completed in time:  0:01:11.647121\n"
     ]
    }
   ],
   "source": [
    "from datetime import datetime\n",
    "from tensorflow.keras.callbacks import EarlyStopping, ModelCheckpoint, ReduceLROnPlateau\n",
    "\n",
    "num_epochs = 100\n",
    "num_batch_size = 32\n",
    "\n",
    "\n",
    "callbacks = [\n",
    "    EarlyStopping(monitor =\"val_loss\", mode =\"min\", patience = 3, restore_best_weights = True),\n",
    "    ReduceLROnPlateau(factor=0.1, patience=2, min_lr=0.00001, verbose=1),\n",
    "]\n",
    "\n",
    "start = datetime.now()\n",
    "\n",
    "model.fit(X_train, y_train, batch_size=num_batch_size, epochs=num_epochs,callbacks=callbacks, validation_data=(X_val, y_val), verbose=1)\n",
    "\n",
    "duration = datetime.now() - start\n",
    "print(\"Training completed in time: \", duration)"
   ]
  },
  {
   "cell_type": "code",
   "execution_count": 245,
   "metadata": {},
   "outputs": [
    {
     "name": "stdout",
     "output_type": "stream",
     "text": [
      "0.97422683\n"
     ]
    }
   ],
   "source": [
    "test_accuracy = model.evaluate(X_test,y_test,verbose=0)\n",
    "print(test_accuracy[1])"
   ]
  },
  {
   "cell_type": "code",
   "execution_count": 246,
   "metadata": {},
   "outputs": [],
   "source": [
    "y_preds = model.predict(X_test)"
   ]
  },
  {
   "cell_type": "code",
   "execution_count": 247,
   "metadata": {},
   "outputs": [
    {
     "name": "stdout",
     "output_type": "stream",
     "text": [
      "0 maps to: chain_saw\n",
      "1 maps to: elephant_call\n",
      "2 maps to: gun_shot\n",
      "3 maps to: noise\n"
     ]
    }
   ],
   "source": [
    "for i in range(4):\n",
    "    print('{} maps to: {}'.format(i,labelencoder.inverse_transform([i])[0]))"
   ]
  },
  {
   "cell_type": "code",
   "execution_count": 248,
   "metadata": {},
   "outputs": [
    {
     "data": {
      "image/png": "[encoded data removed]",
      "text/plain": [
       "<Figure size 720x432 with 2 Axes>"
      ]
     },
     "metadata": {
      "needs_background": "light"
     },
     "output_type": "display_data"
    }
   ],
   "source": [
    "from sklearn.metrics import accuracy_score, confusion_matrix, precision_recall_fscore_support\n",
    "import matplotlib.pyplot as plt\n",
    "import seaborn as sns\n",
    "\n",
    "cm = confusion_matrix(np.argmax(y_test,axis=-1), np.argmax(y_preds,axis=-1))\n",
    "\n",
    "ar = ['chain_saw','elephant_call','gun_shot','noise']\n",
    "\n",
    "cm_df = pd.DataFrame(cm,index = ar, columns = ar)\n",
    "\n",
    "plt.figure(figsize=(10,6))\n",
    "sns.heatmap(cm_df, annot=True, fmt='g')\n",
    "plt.title('CNN model\\nAccuracy:{0:.3f}'.format(100*accuracy_score(np.argmax(y_test,axis=-1), np.argmax(y_preds,axis=-1))))\n",
    "plt.ylabel('True label')\n",
    "plt.xlabel('Predicted label')\n",
    "plt.show()"
   ]
  },
  {
   "cell_type": "code",
   "execution_count": 251,
   "metadata": {},
   "outputs": [],
   "source": [
    "# modelSavingPath = 'saved_models/model_2.h5'\n",
    "# if os.path.isfile(modelSavingPath) is False:\n",
    "#     model.save(modelSavingPath)"
   ]
  },
  {
   "cell_type": "code",
   "execution_count": 252,
   "metadata": {},
   "outputs": [],
   "source": [
    "# modelJsonSavingPath = 'saved_models/model_2.json'\n",
    "\n",
    "# # serialize model to json\n",
    "# json_model = model.to_json()\n",
    "\n",
    "# #save the model architecture to JSON file\n",
    "# with open(modelJsonSavingPath, 'w') as json_file:\n",
    "#     json_file.write(json_model)"
   ]
  },
  {
   "cell_type": "code",
   "execution_count": 253,
   "metadata": {},
   "outputs": [
    {
     "name": "stdout",
     "output_type": "stream",
     "text": [
      "1.18.5\n",
      "0.25.3\n",
      "0.8.0\n",
      "2.1.0\n",
      "0.22.2.post1\n"
     ]
    }
   ],
   "source": [
    "import sklearn as sk\n",
    "\n",
    "print(np.__version__)\n",
    "print(pd.__version__)\n",
    "print(librosa.__version__)\n",
    "print(tf.__version__)\n",
    "print(sk.__version__)"
   ]
  },
  {
   "cell_type": "code",
   "execution_count": null,
   "metadata": {},
   "outputs": [],
   "source": []
  }
 ],
 "metadata": {
  "kernel_info": {
   "name": "python3-azureml"
  },
  "kernelspec": {
   "display_name": "Python 3.6 - AzureML",
   "language": "python",
   "name": "python3-azureml"
  },
  "language_info": {
   "codemirror_mode": {
    "name": "ipython",
    "version": 3
   },
   "file_extension": ".py",
   "mimetype": "text/x-python",
   "name": "python",
   "nbconvert_exporter": "python",
   "pygments_lexer": "ipython3",
   "version": "3.6.9"
  },
  "nteract": {
   "version": "nteract-front-end@1.0.0"
  }
 },
 "nbformat": 4,
 "nbformat_minor": 2
}

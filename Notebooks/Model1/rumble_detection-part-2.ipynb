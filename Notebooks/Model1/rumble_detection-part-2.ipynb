{
 "cells": [
  {
   "cell_type": "code",
   "execution_count": 160,
   "metadata": {
    "id": "eYXzo-MKN0Dx"
   },
   "outputs": [],
   "source": [
    "import numpy as np\n",
    "import logging\n",
    "import decimal\n",
    "import math\n",
    "from scipy.fftpack import dct\n",
    "from scipy.signal.windows import hann\n",
    "import librosa\n",
    "import pandas as pd\n",
    "import os"
   ]
  },
  {
   "cell_type": "code",
   "execution_count": 161,
   "metadata": {
    "id": "pv7R0hkxN9Zv"
   },
   "outputs": [],
   "source": [
    "# Round function\n",
    "def round_half_up(number):\n",
    "  return int(decimal.Decimal(number).quantize(decimal.Decimal('1'), rounding=decimal.ROUND_HALF_UP))\n",
    "\n",
    "# Return necessary variables to correlate Greenwood scale with Hertz\n",
    "def returnValueTuple():\n",
    "  fmin = 10\n",
    "  fmax = 10000\n",
    "  k = 0.88\n",
    "  A = fmin/(1-k)\n",
    "  a = math.log10(fmax/A+k)\n",
    "  return (a,A,k)\n",
    "\n",
    "# Retreive Greenwood from Hertz\n",
    "def greenwood_from_hertz(hertz):\n",
    "  a,A,k = returnValueTuple()\n",
    "  f = hertz\n",
    "  return (1/a)*math.log10(f/A+k)\n",
    "\n",
    "# Retreive Hertz from Greenwood\n",
    "def hertz_from_greenwood(greenwood):\n",
    "  a,A,k = returnValueTuple()\n",
    "  fp = greenwood\n",
    "  return A*(10**(a*fp)-k)"
   ]
  },
  {
   "cell_type": "code",
   "execution_count": 162,
   "metadata": {},
   "outputs": [],
   "source": [
    "# NFFT: The size of FFT, It FFT number is less the precision will be less because of dropping many samples; \n",
    "#       Using large FFT allows zero padding which is neutral when frequency domain is concerened\n",
    "#       Here Multiplication by 2 is done which allows some padding but is safe as no sample are dropped \n",
    "def calculateNFFTS(sampleRate,windowLength):\n",
    "  windowLengthSample = windowLength*sampleRate\n",
    "  nfft = 1\n",
    "  while nfft < windowLengthSample:\n",
    "    nfft*=2\n",
    "  return nfft\n",
    "\n",
    "# Pre Emphasis: Amplification of high frequencies to balance the frequency spectrum as high frequencies tend to have low magnitude when compared to lower ones\n",
    "# Formula: x`(n) = x(n) - a*x(n-1) where a = pre-emphasis factor\n",
    "def preEmphasis(signal,preEmphasisFactor=0.97):\n",
    "  return np.append(signal[0], signal[1:] - preEmphasisFactor * signal[:-1])\n",
    "\n",
    "# Numpy stride technique, refer: \n",
    "# https://ellisvalentiner.com/post/np-strides-trick/ and\n",
    "# https://ipython-books.github.io/46-using-stride-tricks-with-numpy/\n",
    "def rollingWindow(paddedSignal,frameLength,step=1):\n",
    "    shape = paddedSignal.shape[:-1] + (paddedSignal.shape[-1] - frameLength + 1, frameLength)\n",
    "    strides = paddedSignal.strides + (paddedSignal.strides[-1],)\n",
    "    return np.lib.stride_tricks.as_strided(paddedSignal, shape=shape, strides=strides)[::step]\n",
    "\n",
    "# Cut the signal in frames, frameStep = Number of frames of previous sample after which 2nd sample frames should start, strideTrick uses internal numpy method\n",
    "def frameSignal(signal, frameLength, frameStep, windowFunction):\n",
    "\n",
    "  lengthOfSignal = len(signal)\n",
    "  frameLength = int(round_half_up(frameLength))\n",
    "  frameStep = int(round_half_up(frameStep))\n",
    "\n",
    "  if lengthOfSignal < frameLength:\n",
    "    numberOfFrames = 1\n",
    "  else:\n",
    "    numberOfFrames = 1 + int(math.ceil((1.0 * lengthOfSignal - frameLength) / frameStep))\n",
    "\n",
    "  paddingLength = int((numberOfFrames - 1) * frameStep + frameLength)\n",
    "  zeros = np.zeros((paddingLength - lengthOfSignal,))\n",
    "  paddedsignal = np.concatenate((signal, zeros))\n",
    "\n",
    "  # Use numpy to efficiently make windows\n",
    "  window = windowFunction(frameLength)\n",
    "  frames = rollingWindow(paddedsignal,frameLength,step = frameStep)\n",
    "\n",
    "  return frames * window\n",
    "\n",
    "# Magnitude Spectrum: Calculated using numpy.fft.rfft' returns the absolute values after taking fourier transfrom\n",
    "def magSpectrum(frames,nfft):\n",
    "  if np.shape(frames)[1] > nfft:\n",
    "    logging.warn('frame length {} is greater than FFT size {}, frame will be truncated. Increase NFFT to avoid.'.format(np.shape(frames)[1],nfft))\n",
    "  complexSpectrum = np.fft.rfft(frames,nfft)\n",
    "  return np.absolute(complexSpectrum)\n",
    "\n",
    "# Power Spectrum: Calulated using 1/n*|si|^2 where 'si' is fourier transform\n",
    "def powSpectrum(frames,nfft):\n",
    "  return 1.0/nfft*np.square(magSpectrum(frames,nfft))\n",
    "\n",
    "# Log power spectrum and normalize: Not needed\n",
    "def logPowSpectrum(frames,nfft,normalize = 1):\n",
    "  powerSpectrum = powSpectrum(frames,nfft)\n",
    "  # If values are close to 0 or 0 log function will have problem\n",
    "  powerSpectrum[powerSpectrum<= 1e-30] = 1e-30\n",
    "  logPowerSpectrum = 10*np.log10(powerSpectrum)\n",
    "  if normalize:\n",
    "    return logPowerSpectrum - np.max(logPowerSpectrum)\n",
    "  else:\n",
    "    return logPowerSpectrum\n",
    "\n",
    "# Returns Filter Banks: \n",
    "# Filters correspond to rows and Columns correspond to fft bins\n",
    "# returns: array of size = numberOfFilter*(nfft/2+1)\n",
    "def returnFilterBanks(numberOfFilter=30,nfft=512,sampleRate=16000,lowFrequency=0,highFrequency=None):\n",
    "  highFrequency= highFrequency or sampleRate/2\n",
    "  assert highFrequency <= sampleRate/2, \"High Frequency is greater than sampleRate/2\"\n",
    "\n",
    "  # Calculate evenly spaced pts in greenwood\n",
    "  lowGreenWood = greenwood_from_hertz(lowFrequency)\n",
    "  highGreenWood = greenwood_from_hertz(highFrequency)\n",
    "  greenWoodPoints = np.linspace(lowGreenWood,highGreenWood,numberOfFilter+2)\n",
    "\n",
    "  # Current points are in Hertz, but we use fft bins, so we have to convert from Hertz to fft bin number\n",
    "  bin = np.floor((nfft+1)*hertz_from_greenwood(greenWoodPoints)/sampleRate)\n",
    "\n",
    "  fbank = np.zeros([numberOfFilter,nfft//2+1])\n",
    "  for j in range(0,numberOfFilter):\n",
    "      for i in range(int(bin[j]), int(bin[j+1])):\n",
    "          fbank[j,i] = (i - bin[j]) / (bin[j+1]-bin[j])\n",
    "      for i in range(int(bin[j+1]), int(bin[j+2])):\n",
    "          fbank[j,i] = (bin[j+2]-i) / (bin[j+2]-bin[j+1])\n",
    "  return fbank\n",
    "\n",
    "# Array of banpass filters(filters which decide what frequencies can pass)\n",
    "def filterBank(signal,sampleRate=16000, windowLength=0.025, windowStep=0.01, numberOfFilter=30, nfft=512,\n",
    "               lowFrequency=0, highFrequency=None, preEmphasisFactor=0.97, windowFunction=lambda x: np.ones((x,))):\n",
    "  \n",
    "  highFrequency = highFrequency or sampleRate/2\n",
    "  \n",
    "  # Step 1: Apply pre emphasis on signal\n",
    "  signal = preEmphasis(signal,preEmphasisFactor)\n",
    "\n",
    "  # Step 2: Frame a signal to overlapping signals: 2d nd array\n",
    "  frames = frameSignal(signal, windowLength*sampleRate, windowStep*sampleRate, windowFunction)\n",
    "\n",
    "  # Step 3: Calculate the power spectrum\n",
    "  powerSpec = powSpectrum(frames,nfft)\n",
    "  \n",
    "  # Step 4: Calculate the total energy in each frame\n",
    "  energy = np.sum(powerSpec,1)\n",
    "  energy = np.where(energy==0,np.finfo(float).eps,energy)\n",
    "\n",
    "  # Step 5: Get Filter Banks and its energy\n",
    "  filterBank = returnFilterBanks(numberOfFilter,nfft,sampleRate,lowFrequency,highFrequency)\n",
    "  features = np.dot(powerSpec,filterBank.T)\n",
    "  features = np.where(features==0,np.finfo(float).eps,features)\n",
    "\n",
    "  return features,energy\n",
    "\n",
    "# Apply Sinosoidal liftering: Increases the magnitude of highFrequency DCT coefficients\n",
    "# To de-emphasize higher MFCCs which has been claimed to improve audio detection under noisy circumstances \n",
    "def lifter(cepstra,lifterParameter=22):\n",
    "  L = lifterParameter\n",
    "  if L > 0:\n",
    "    nframes,ncoeff = np.shape(cepstra)\n",
    "    n = np.arange(ncoeff)\n",
    "    lift = 1 + (L/2.)*np.sin(np.pi*n/L)\n",
    "    return lift*cepstra\n",
    "  else:\n",
    "    return cepstra # No liftering"
   ]
  },
  {
   "cell_type": "code",
   "execution_count": 163,
   "metadata": {},
   "outputs": [],
   "source": [
    "def gfcc(signal,sampleRate = 16000, windowLength = 0.025, windowStep = 0.01, returnCepstrumNumber = 13, \n",
    "         numberOfFilter = 30, nfft = None, lowFrequency = 0, highFrequency = None, preEmphasisFactor = 0.97, \n",
    "         lifterParameter = 22, appendEnergy = True, windowFunction = lambda x: np.ones((x,))):\n",
    "  \n",
    "  # Step 1: Calculate the length of analysis window\n",
    "  nfft = nfft or calculateNFFTS(sampleRate,windowLength)\n",
    "\n",
    "  # Step 2 + 3: Calculate Greenwood Filter Bank and apply to power spectrum\n",
    "  features, energy = filterBank(signal,sampleRate, windowLength,windowStep, numberOfFilter, nfft, lowFrequency, highFrequency, preEmphasisFactor, windowFunction)\n",
    "\n",
    "  # Step 4: Take log of features\n",
    "  features = np.log(features)\n",
    "\n",
    "  # Step 5: Take discrete fourier transform\n",
    "  features = dct(features,axis=1,norm='ortho')[:,:returnCepstrumNumber]\n",
    "\n",
    "  # Step 6: Liftering\n",
    "  features = lifter(features,lifterParameter)\n",
    "\n",
    "  # First frame generally defines energy of that frame\n",
    "  if appendEnergy:\n",
    "    features[:,0] = np.log(energy)\n",
    "  \n",
    "  return features"
   ]
  },
  {
   "cell_type": "code",
   "execution_count": 164,
   "metadata": {},
   "outputs": [],
   "source": [
    "training_data_path = '../mubin/Data/Training'\n",
    "testing_data_path = '../mubin/Data/Testing'"
   ]
  },
  {
   "cell_type": "code",
   "execution_count": 165,
   "metadata": {},
   "outputs": [],
   "source": [
    "# Remove unwanted files\n",
    "\n",
    "for path in [testing_data_path,training_data_path]:\n",
    "    for folder in ['Noise','Rumbles']:\n",
    "        for file in ['.amlignore', '.amlignore.amltmp']:\n",
    "            if os.path.exists(path+'/'+folder+'/'+file):\n",
    "                os.remove(path+'/'+folder+'/'+file)\n",
    "    "
   ]
  },
  {
   "cell_type": "markdown",
   "metadata": {},
   "source": [
    "## Train and Validation Set"
   ]
  },
  {
   "cell_type": "code",
   "execution_count": 166,
   "metadata": {
    "id": "qYFFcxEPQUl6"
   },
   "outputs": [
    {
     "name": "stdout",
     "output_type": "stream",
     "text": [
      "3180\n",
      "3180\n",
      "True\n"
     ]
    }
   ],
   "source": [
    "noiseFiles = next(os.walk(training_data_path+'/Noise'))[2]\n",
    "print(len(noiseFiles))\n",
    "\n",
    "rumbleFiles = next(os.walk(training_data_path+'/Rumbles'))[2]\n",
    "print(len(rumbleFiles))\n",
    "\n",
    "print(len(noiseFiles)==len(rumbleFiles))"
   ]
  },
  {
   "cell_type": "code",
   "execution_count": 167,
   "metadata": {},
   "outputs": [
    {
     "name": "stderr",
     "output_type": "stream",
     "text": [
      "100%|██████████| 6360/6360 [09:28<00:00, 11.19it/s]\n"
     ]
    }
   ],
   "source": [
    "# 4sec*2000 sr = 8000\n",
    "target = 8000\n",
    "targetSampleRate = 2000\n",
    "\n",
    "def returnGfccCoeff(audio,sample_rate):\n",
    "    gfccs = gfcc(audio,sample_rate,windowFunction=hann,returnCepstrumNumber=18,preEmphasisFactor=0,lifterParameter=0,lowFrequency=10,highFrequency=500,windowLength=0.075,windowStep=0.025)\n",
    "    return gfccs\n",
    "    \n",
    "def preProcess(fileName,ar,fileType):\n",
    "    audio,sample_rate = librosa.load(fileName,sr=targetSampleRate)\n",
    "    if len(audio)>=target:\n",
    "        newAudio = audio[:target]\n",
    "        ar.append([returnGfccCoeff(newAudio,targetSampleRate),fileType])\n",
    "    elif len(audio)>=4000:\n",
    "        newAudio = np.append(audio,np.zeros(target-len(audio)))\n",
    "        ar.append([returnGfccCoeff(newAudio,targetSampleRate),fileType])\n",
    "    \n",
    "noise_set_size = len(noiseFiles)\n",
    "rumble_set_size = len(rumbleFiles)\n",
    "noiseList = [['Noise/noise_'+str(i)+'.wav','noise'] for i in range(1,noise_set_size+1)]\n",
    "rumbleList = [['Rumbles/rumble_'+str(i)+'.wav','rumble'] for i in range(1,rumble_set_size+1)]\n",
    "finalList = noiseList+rumbleList\n",
    "    \n",
    "preProcessedTrainFiles = []\n",
    "for i in tqdm(finalList):\n",
    "    filePath = i[0]\n",
    "    fileType = i[1]\n",
    "    fileName = training_data_path+'/'+filePath\n",
    "    preProcess(fileName,preProcessedTrainFiles,fileType)\n",
    "    "
   ]
  },
  {
   "cell_type": "code",
   "execution_count": 168,
   "metadata": {},
   "outputs": [
    {
     "data": {
      "text/html": [
       "<div>\n",
       "<style scoped>\n",
       "    .dataframe tbody tr th:only-of-type {\n",
       "        vertical-align: middle;\n",
       "    }\n",
       "\n",
       "    .dataframe tbody tr th {\n",
       "        vertical-align: top;\n",
       "    }\n",
       "\n",
       "    .dataframe thead th {\n",
       "        text-align: right;\n",
       "    }\n",
       "</style>\n",
       "<table border=\"1\" class=\"dataframe\">\n",
       "  <thead>\n",
       "    <tr style=\"text-align: right;\">\n",
       "      <th></th>\n",
       "      <th>feature</th>\n",
       "      <th>class</th>\n",
       "    </tr>\n",
       "  </thead>\n",
       "  <tbody>\n",
       "    <tr>\n",
       "      <th>0</th>\n",
       "      <td>[[-4.353478744308409, 8.847299193587524, 3.689...</td>\n",
       "      <td>noise</td>\n",
       "    </tr>\n",
       "    <tr>\n",
       "      <th>1</th>\n",
       "      <td>[[-5.1132014529120475, 4.239382867939322, 0.93...</td>\n",
       "      <td>noise</td>\n",
       "    </tr>\n",
       "    <tr>\n",
       "      <th>2</th>\n",
       "      <td>[[-4.634898580352101, 6.435720899107354, 4.121...</td>\n",
       "      <td>noise</td>\n",
       "    </tr>\n",
       "    <tr>\n",
       "      <th>3</th>\n",
       "      <td>[[-4.912678649511506, 8.761000676590456, 2.236...</td>\n",
       "      <td>noise</td>\n",
       "    </tr>\n",
       "    <tr>\n",
       "      <th>4</th>\n",
       "      <td>[[-4.104406307550257, 8.320791089854463, 3.938...</td>\n",
       "      <td>noise</td>\n",
       "    </tr>\n",
       "  </tbody>\n",
       "</table>\n",
       "</div>"
      ],
      "text/plain": [
       "                                             feature  class\n",
       "0  [[-4.353478744308409, 8.847299193587524, 3.689...  noise\n",
       "1  [[-5.1132014529120475, 4.239382867939322, 0.93...  noise\n",
       "2  [[-4.634898580352101, 6.435720899107354, 4.121...  noise\n",
       "3  [[-4.912678649511506, 8.761000676590456, 2.236...  noise\n",
       "4  [[-4.104406307550257, 8.320791089854463, 3.938...  noise"
      ]
     },
     "execution_count": 168,
     "metadata": {},
     "output_type": "execute_result"
    }
   ],
   "source": [
    "extracted_features_df=pd.DataFrame(preProcessedTrainFiles,columns=['feature','class'])\n",
    "extracted_features_df.head()"
   ]
  },
  {
   "cell_type": "code",
   "execution_count": 169,
   "metadata": {},
   "outputs": [
    {
     "data": {
      "text/plain": [
       "(158, 18)    6054\n",
       "dtype: int64"
      ]
     },
     "execution_count": 169,
     "metadata": {},
     "output_type": "execute_result"
    }
   ],
   "source": [
    "extracted_features_df.apply(lambda row: row['feature'].shape,axis=1).value_counts()"
   ]
  },
  {
   "cell_type": "code",
   "execution_count": 170,
   "metadata": {},
   "outputs": [],
   "source": [
    "X=np.array(extracted_features_df['feature'].tolist())\n",
    "y=np.array(extracted_features_df['class'].tolist())"
   ]
  },
  {
   "cell_type": "code",
   "execution_count": 171,
   "metadata": {},
   "outputs": [
    {
     "name": "stdout",
     "output_type": "stream",
     "text": [
      "(6054, 158, 18) (6054,)\n"
     ]
    }
   ],
   "source": [
    "print(X.shape,y.shape)"
   ]
  },
  {
   "cell_type": "code",
   "execution_count": 172,
   "metadata": {},
   "outputs": [],
   "source": [
    "from sklearn.model_selection import train_test_split\n",
    "\n",
    "X_train, X_val, y_train, y_val = train_test_split(X,y, test_size=0.2, random_state=0, stratify=y)"
   ]
  },
  {
   "cell_type": "code",
   "execution_count": 173,
   "metadata": {},
   "outputs": [],
   "source": [
    "from tensorflow.keras.utils import to_categorical\n",
    "from sklearn.preprocessing import LabelEncoder\n",
    "\n",
    "labelencoder=LabelEncoder()\n",
    "y_train = to_categorical(labelencoder.fit_transform(y_train))"
   ]
  },
  {
   "cell_type": "code",
   "execution_count": 174,
   "metadata": {},
   "outputs": [
    {
     "name": "stdout",
     "output_type": "stream",
     "text": [
      "(4843, 158, 18) (4843, 2)\n"
     ]
    }
   ],
   "source": [
    "print(X_train.shape,y_train.shape)"
   ]
  },
  {
   "cell_type": "code",
   "execution_count": 175,
   "metadata": {},
   "outputs": [],
   "source": [
    "y_val = to_categorical(labelencoder.transform(y_val))"
   ]
  },
  {
   "cell_type": "code",
   "execution_count": 176,
   "metadata": {},
   "outputs": [
    {
     "name": "stdout",
     "output_type": "stream",
     "text": [
      "(1211, 158, 18) (1211, 2)\n"
     ]
    }
   ],
   "source": [
    "print(X_val.shape,y_val.shape)"
   ]
  },
  {
   "cell_type": "code",
   "execution_count": 177,
   "metadata": {},
   "outputs": [],
   "source": [
    "X_train = X_train.reshape(-1,X_train.shape[1],X_train.shape[2],1)\n",
    "\n",
    "X_val = X_val.reshape(-1,X_val.shape[1],X_val.shape[2],1)"
   ]
  },
  {
   "cell_type": "code",
   "execution_count": 178,
   "metadata": {},
   "outputs": [
    {
     "name": "stdout",
     "output_type": "stream",
     "text": [
      "(4843, 158, 18, 1) (4843, 2)\n"
     ]
    }
   ],
   "source": [
    "print(X_train.shape,y_train.shape)"
   ]
  },
  {
   "cell_type": "code",
   "execution_count": 179,
   "metadata": {},
   "outputs": [
    {
     "name": "stdout",
     "output_type": "stream",
     "text": [
      "(1211, 158, 18, 1) (1211, 2)\n"
     ]
    }
   ],
   "source": [
    "print(X_val.shape,y_val.shape)"
   ]
  },
  {
   "cell_type": "code",
   "execution_count": null,
   "metadata": {},
   "outputs": [],
   "source": []
  },
  {
   "cell_type": "markdown",
   "metadata": {},
   "source": [
    "## Test Set"
   ]
  },
  {
   "cell_type": "code",
   "execution_count": 180,
   "metadata": {},
   "outputs": [
    {
     "name": "stdout",
     "output_type": "stream",
     "text": [
      "757\n",
      "757\n",
      "True\n"
     ]
    }
   ],
   "source": [
    "noiseTestFiles = next(os.walk(testing_data_path+'/Noise'))[2]\n",
    "print(len(noiseTestFiles))\n",
    "\n",
    "rumbleTestFiles = next(os.walk(testing_data_path+'/Rumbles'))[2]\n",
    "print(len(rumbleTestFiles))\n",
    "\n",
    "print(len(noiseTestFiles)==len(rumbleTestFiles))"
   ]
  },
  {
   "cell_type": "code",
   "execution_count": 181,
   "metadata": {},
   "outputs": [
    {
     "name": "stderr",
     "output_type": "stream",
     "text": [
      "100%|██████████| 1514/1514 [02:26<00:00, 10.35it/s]\n"
     ]
    }
   ],
   "source": [
    "\n",
    "noise_test_set_size = len(noiseTestFiles)\n",
    "rumble_test_set_size = len(rumbleTestFiles)\n",
    "\n",
    "noiseTestList = [['Noise/noise_'+str(i)+'.wav','noise'] for i in range(1,noise_test_set_size+1)]\n",
    "rumbleTestList = [['Rumbles/rumble_'+str(i)+'.wav','rumble'] for i in range(1,rumble_test_set_size+1)]\n",
    "\n",
    "finalTestList = noiseTestList+rumbleTestList\n",
    "    \n",
    "preProcessedTestFiles = []\n",
    "for i in tqdm(finalTestList):\n",
    "    filePath = i[0]\n",
    "    fileType = i[1]\n",
    "    fileName = testing_data_path+'/'+filePath\n",
    "    preProcess(fileName,preProcessedTestFiles,fileType)\n",
    "    "
   ]
  },
  {
   "cell_type": "code",
   "execution_count": 182,
   "metadata": {},
   "outputs": [
    {
     "data": {
      "text/html": [
       "<div>\n",
       "<style scoped>\n",
       "    .dataframe tbody tr th:only-of-type {\n",
       "        vertical-align: middle;\n",
       "    }\n",
       "\n",
       "    .dataframe tbody tr th {\n",
       "        vertical-align: top;\n",
       "    }\n",
       "\n",
       "    .dataframe thead th {\n",
       "        text-align: right;\n",
       "    }\n",
       "</style>\n",
       "<table border=\"1\" class=\"dataframe\">\n",
       "  <thead>\n",
       "    <tr style=\"text-align: right;\">\n",
       "      <th></th>\n",
       "      <th>feature</th>\n",
       "      <th>class</th>\n",
       "    </tr>\n",
       "  </thead>\n",
       "  <tbody>\n",
       "    <tr>\n",
       "      <th>0</th>\n",
       "      <td>[[-5.0897777786499985, 3.8598030465252444, 1.6...</td>\n",
       "      <td>noise</td>\n",
       "    </tr>\n",
       "    <tr>\n",
       "      <th>1</th>\n",
       "      <td>[[-4.6996006670551616, 7.3385415086445285, 1.8...</td>\n",
       "      <td>noise</td>\n",
       "    </tr>\n",
       "    <tr>\n",
       "      <th>2</th>\n",
       "      <td>[[-5.3567076987659465, 5.48035718638847, 5.174...</td>\n",
       "      <td>noise</td>\n",
       "    </tr>\n",
       "    <tr>\n",
       "      <th>3</th>\n",
       "      <td>[[-3.577061882726914, 2.1885531707106054, 0.56...</td>\n",
       "      <td>noise</td>\n",
       "    </tr>\n",
       "    <tr>\n",
       "      <th>4</th>\n",
       "      <td>[[-3.911528384184917, 0.6352179563304279, 0.77...</td>\n",
       "      <td>noise</td>\n",
       "    </tr>\n",
       "  </tbody>\n",
       "</table>\n",
       "</div>"
      ],
      "text/plain": [
       "                                             feature  class\n",
       "0  [[-5.0897777786499985, 3.8598030465252444, 1.6...  noise\n",
       "1  [[-4.6996006670551616, 7.3385415086445285, 1.8...  noise\n",
       "2  [[-5.3567076987659465, 5.48035718638847, 5.174...  noise\n",
       "3  [[-3.577061882726914, 2.1885531707106054, 0.56...  noise\n",
       "4  [[-3.911528384184917, 0.6352179563304279, 0.77...  noise"
      ]
     },
     "execution_count": 182,
     "metadata": {},
     "output_type": "execute_result"
    }
   ],
   "source": [
    "extracted_test_features_df = pd.DataFrame(preProcessedTestFiles,columns=['feature','class'])\n",
    "extracted_test_features_df.head()"
   ]
  },
  {
   "cell_type": "code",
   "execution_count": 183,
   "metadata": {},
   "outputs": [
    {
     "data": {
      "text/plain": [
       "(158, 18)    1462\n",
       "dtype: int64"
      ]
     },
     "execution_count": 183,
     "metadata": {},
     "output_type": "execute_result"
    }
   ],
   "source": [
    "extracted_test_features_df.apply(lambda row: row['feature'].shape,axis=1).value_counts()"
   ]
  },
  {
   "cell_type": "code",
   "execution_count": 184,
   "metadata": {},
   "outputs": [],
   "source": [
    "X_test=np.array(extracted_test_features_df['feature'].tolist())\n",
    "y_test=np.array(extracted_test_features_df['class'].tolist())"
   ]
  },
  {
   "cell_type": "code",
   "execution_count": 185,
   "metadata": {},
   "outputs": [],
   "source": [
    "y_test = to_categorical(labelencoder.transform(y_test))"
   ]
  },
  {
   "cell_type": "code",
   "execution_count": 186,
   "metadata": {},
   "outputs": [],
   "source": [
    "X_test = X_test.reshape(-1,X_test.shape[1],X_test.shape[2],1)"
   ]
  },
  {
   "cell_type": "code",
   "execution_count": 187,
   "metadata": {},
   "outputs": [
    {
     "name": "stdout",
     "output_type": "stream",
     "text": [
      "(1462, 158, 18, 1) (1462, 2)\n"
     ]
    }
   ],
   "source": [
    "print(X_test.shape,y_test.shape)"
   ]
  },
  {
   "cell_type": "code",
   "execution_count": null,
   "metadata": {},
   "outputs": [],
   "source": []
  },
  {
   "cell_type": "markdown",
   "metadata": {},
   "source": [
    "## Model"
   ]
  },
  {
   "cell_type": "code",
   "execution_count": 229,
   "metadata": {},
   "outputs": [],
   "source": [
    "import tensorflow as tf\n",
    "\n",
    "from tensorflow.keras.models import Sequential\n",
    "from tensorflow.keras.layers import Conv2D, Flatten, MaxPooling2D, Dense, Dropout, Activation, BatchNormalization\n",
    "from tensorflow.keras.optimizers import Adam\n",
    "from sklearn import metrics"
   ]
  },
  {
   "cell_type": "code",
   "execution_count": 230,
   "metadata": {},
   "outputs": [],
   "source": [
    "model = Sequential()\n",
    "\n",
    "model.add(Conv2D(64, kernel_size=3, input_shape=X_train.shape[1:] ))\n",
    "model.add(BatchNormalization())\n",
    "model.add(Activation(\"relu\"))\n",
    "\n",
    "model.add(MaxPooling2D(pool_size=(2, 2)))\n",
    "\n",
    "model.add(Conv2D(32, kernel_size=3))\n",
    "model.add(BatchNormalization())\n",
    "model.add(Activation(\"relu\"))\n",
    "\n",
    "model.add(MaxPooling2D(pool_size=(2, 2)))\n",
    "\n",
    "model.add(Flatten())\n",
    "model.add(Dense(32))\n",
    "model.add(BatchNormalization())\n",
    "model.add(Activation(\"relu\"))\n",
    "\n",
    "model.add(Dense(2, activation='softmax'))"
   ]
  },
  {
   "cell_type": "code",
   "execution_count": 231,
   "metadata": {},
   "outputs": [],
   "source": [
    "model.compile(loss='categorical_crossentropy',metrics=['accuracy'],optimizer='adam')"
   ]
  },
  {
   "cell_type": "code",
   "execution_count": 232,
   "metadata": {},
   "outputs": [
    {
     "name": "stdout",
     "output_type": "stream",
     "text": [
      "Model: \"sequential_14\"\n",
      "_________________________________________________________________\n",
      "Layer (type)                 Output Shape              Param #   \n",
      "=================================================================\n",
      "conv2d_24 (Conv2D)           (None, 156, 16, 64)       640       \n",
      "_________________________________________________________________\n",
      "batch_normalization_20 (Batc (None, 156, 16, 64)       256       \n",
      "_________________________________________________________________\n",
      "activation_19 (Activation)   (None, 156, 16, 64)       0         \n",
      "_________________________________________________________________\n",
      "max_pooling2d_22 (MaxPooling (None, 78, 8, 64)         0         \n",
      "_________________________________________________________________\n",
      "conv2d_25 (Conv2D)           (None, 76, 6, 32)         18464     \n",
      "_________________________________________________________________\n",
      "batch_normalization_21 (Batc (None, 76, 6, 32)         128       \n",
      "_________________________________________________________________\n",
      "activation_20 (Activation)   (None, 76, 6, 32)         0         \n",
      "_________________________________________________________________\n",
      "max_pooling2d_23 (MaxPooling (None, 38, 3, 32)         0         \n",
      "_________________________________________________________________\n",
      "flatten_11 (Flatten)         (None, 3648)              0         \n",
      "_________________________________________________________________\n",
      "dense_22 (Dense)             (None, 32)                116768    \n",
      "_________________________________________________________________\n",
      "batch_normalization_22 (Batc (None, 32)                128       \n",
      "_________________________________________________________________\n",
      "activation_21 (Activation)   (None, 32)                0         \n",
      "_________________________________________________________________\n",
      "dense_23 (Dense)             (None, 2)                 66        \n",
      "=================================================================\n",
      "Total params: 136,450\n",
      "Trainable params: 136,194\n",
      "Non-trainable params: 256\n",
      "_________________________________________________________________\n"
     ]
    }
   ],
   "source": [
    "model.summary()"
   ]
  },
  {
   "cell_type": "code",
   "execution_count": 233,
   "metadata": {},
   "outputs": [
    {
     "name": "stdout",
     "output_type": "stream",
     "text": [
      "Train on 4843 samples, validate on 1211 samples\n",
      "Epoch 1/100\n",
      "4843/4843 [==============================] - 12s 3ms/sample - loss: 0.1605 - accuracy: 0.9440 - val_loss: 0.1541 - val_accuracy: 0.9678\n",
      "Epoch 2/100\n",
      "4843/4843 [==============================] - 12s 2ms/sample - loss: 0.0847 - accuracy: 0.9719 - val_loss: 0.0999 - val_accuracy: 0.9711\n",
      "Epoch 3/100\n",
      "4843/4843 [==============================] - 12s 2ms/sample - loss: 0.0532 - accuracy: 0.9843 - val_loss: 0.0981 - val_accuracy: 0.9595\n",
      "Epoch 4/100\n",
      "4843/4843 [==============================] - 12s 2ms/sample - loss: 0.0394 - accuracy: 0.9878 - val_loss: 0.4792 - val_accuracy: 0.8778\n",
      "Epoch 5/100\n",
      "4843/4843 [==============================] - 12s 2ms/sample - loss: 0.0463 - accuracy: 0.9853 - val_loss: 0.1434 - val_accuracy: 0.9414\n",
      "Epoch 6/100\n",
      "4843/4843 [==============================] - 12s 2ms/sample - loss: 0.0266 - accuracy: 0.9909 - val_loss: 0.2838 - val_accuracy: 0.9331\n",
      "Epoch 7/100\n",
      "4843/4843 [==============================] - 12s 2ms/sample - loss: 0.0250 - accuracy: 0.9915 - val_loss: 0.1063 - val_accuracy: 0.9604\n",
      "Epoch 8/100\n",
      "4843/4843 [==============================] - 12s 2ms/sample - loss: 0.0120 - accuracy: 0.9969 - val_loss: 0.0910 - val_accuracy: 0.9694\n",
      "Epoch 9/100\n",
      "4843/4843 [==============================] - 12s 2ms/sample - loss: 0.0123 - accuracy: 0.9969 - val_loss: 0.1247 - val_accuracy: 0.9637\n",
      "Epoch 10/100\n",
      "4843/4843 [==============================] - 12s 2ms/sample - loss: 0.0081 - accuracy: 0.9977 - val_loss: 0.1556 - val_accuracy: 0.9604\n",
      "Epoch 11/100\n",
      "4843/4843 [==============================] - 12s 2ms/sample - loss: 0.0088 - accuracy: 0.9979 - val_loss: 0.1982 - val_accuracy: 0.9554\n",
      "Epoch 12/100\n",
      "4843/4843 [==============================] - 12s 2ms/sample - loss: 0.0130 - accuracy: 0.9957 - val_loss: 0.1043 - val_accuracy: 0.9637\n",
      "Epoch 13/100\n",
      "4843/4843 [==============================] - 11s 2ms/sample - loss: 0.0123 - accuracy: 0.9973 - val_loss: 0.1988 - val_accuracy: 0.9348\n",
      "Training completed in time:  0:02:33.017108\n"
     ]
    }
   ],
   "source": [
    "from datetime import datetime\n",
    "from tensorflow.keras.callbacks import EarlyStopping\n",
    "\n",
    "num_epochs = 100\n",
    "num_batch_size = 32\n",
    "\n",
    "\n",
    "earlystopping = EarlyStopping(monitor =\"val_loss\", mode =\"min\", patience = 5, restore_best_weights = True)\n",
    "\n",
    "start = datetime.now()\n",
    "\n",
    "model.fit(X_train, y_train, batch_size=num_batch_size, epochs=num_epochs,callbacks=[earlystopping], validation_data=(X_val, y_val), verbose=1)\n",
    "\n",
    "duration = datetime.now() - start\n",
    "print(\"Training completed in time: \", duration)"
   ]
  },
  {
   "cell_type": "code",
   "execution_count": 234,
   "metadata": {},
   "outputs": [
    {
     "name": "stdout",
     "output_type": "stream",
     "text": [
      "0.9377565\n"
     ]
    }
   ],
   "source": [
    "test_accuracy = model.evaluate(X_test,y_test,verbose=0)\n",
    "print(test_accuracy[1])"
   ]
  },
  {
   "cell_type": "code",
   "execution_count": 238,
   "metadata": {},
   "outputs": [],
   "source": [
    "y_preds = model.predict(X_test)"
   ]
  },
  {
   "cell_type": "code",
   "execution_count": 239,
   "metadata": {},
   "outputs": [
    {
     "data": {
      "image/png": "[encoded data removed]",
      "text/plain": [
       "<Figure size 432x288 with 2 Axes>"
      ]
     },
     "metadata": {
      "needs_background": "light"
     },
     "output_type": "display_data"
    }
   ],
   "source": [
    "from sklearn import metrics\n",
    "import seaborn as sns\n",
    "import matplotlib.pyplot as plt\n",
    "%matplotlib inline\n",
    "\n",
    "cnf_matrix = metrics.confusion_matrix(np.argmax(y_test,axis=-1), np.argmax(y_preds,axis=-1))\n",
    "p = sns.heatmap(pd.DataFrame(cnf_matrix), annot=True, cmap=\"YlGnBu\" ,fmt='g')\n",
    "plt.title('Confusion matrix')\n",
    "plt.ylabel('Actual label')\n",
    "plt.xlabel('Predicted label')\n",
    "plt.show()"
   ]
  },
  {
   "cell_type": "code",
   "execution_count": 242,
   "metadata": {},
   "outputs": [
    {
     "data": {
      "text/plain": [
       "'rumble'"
      ]
     },
     "execution_count": 242,
     "metadata": {},
     "output_type": "execute_result"
    }
   ],
   "source": [
    "labelencoder.inverse_transform([1])[0]"
   ]
  },
  {
   "cell_type": "code",
   "execution_count": 255,
   "metadata": {},
   "outputs": [
    {
     "name": "stdout",
     "output_type": "stream",
     "text": [
      "              precision    recall  f1-score   support\n",
      "\n",
      "           0       0.90      0.99      0.94       757\n",
      "           1       0.99      0.88      0.93       705\n",
      "\n",
      "    accuracy                           0.94      1462\n",
      "   macro avg       0.94      0.94      0.94      1462\n",
      "weighted avg       0.94      0.94      0.94      1462\n",
      "\n"
     ]
    }
   ],
   "source": [
    "from sklearn.metrics import classification_report\n",
    "print(classification_report(np.argmax(y_test,axis=1),np.argmax(y_preds,axis=1)))"
   ]
  },
  {
   "cell_type": "code",
   "execution_count": 243,
   "metadata": {},
   "outputs": [],
   "source": [
    "modelSavingPath = 'saved_models/elephant_rumble_model_1.h5'\n",
    "if os.path.isfile(modelSavingPath) is False:\n",
    "    model.save(modelSavingPath)"
   ]
  },
  {
   "cell_type": "code",
   "execution_count": 244,
   "metadata": {},
   "outputs": [],
   "source": [
    "modelJsonSavingPath = 'saved_models/elephant_rumble_json_architecture_1.json'\n",
    "\n",
    "# serialize model to json\n",
    "json_model = model.to_json()\n",
    "\n",
    "#save the model architecture to JSON file\n",
    "with open(modelJsonSavingPath, 'w') as json_file:\n",
    "    json_file.write(json_model)"
   ]
  },
  {
   "cell_type": "code",
   "execution_count": null,
   "metadata": {},
   "outputs": [],
   "source": []
  },
  {
   "cell_type": "code",
   "execution_count": null,
   "metadata": {},
   "outputs": [],
   "source": []
  },
  {
   "cell_type": "code",
   "execution_count": null,
   "metadata": {},
   "outputs": [],
   "source": []
  },
  {
   "cell_type": "code",
   "execution_count": null,
   "metadata": {},
   "outputs": [],
   "source": []
  },
  {
   "cell_type": "code",
   "execution_count": null,
   "metadata": {},
   "outputs": [],
   "source": []
  }
 ],
 "metadata": {
  "colab": {
   "collapsed_sections": [],
   "name": "FinalGFCC.ipynb",
   "provenance": []
  },
  "kernel_info": {
   "name": "python3-azureml"
  },
  "kernelspec": {
   "display_name": "Python 3.6 - AzureML",
   "language": "python",
   "name": "python3-azureml"
  },
  "language_info": {
   "codemirror_mode": {
    "name": "ipython",
    "version": 3
   },
   "file_extension": ".py",
   "mimetype": "text/x-python",
   "name": "python",
   "nbconvert_exporter": "python",
   "pygments_lexer": "ipython3",
   "version": "3.6.9"
  },
  "nteract": {
   "version": "nteract-front-end@1.0.0"
  }
 },
 "nbformat": 4,
 "nbformat_minor": 1
}
